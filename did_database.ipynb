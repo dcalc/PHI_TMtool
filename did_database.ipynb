{
 "cells": [
  {
   "cell_type": "code",
   "execution_count": 1,
   "metadata": {},
   "outputs": [],
   "source": [
    "from TMclass import *\n",
    "import datetime\n",
    "fromiso = datetime.datetime.fromisoformat\n",
    "tdelta = datetime.timedelta\n",
    "import numpy as np\n",
    "import matplotlib.pyplot as plt\n",
    "import pandas as pd\n",
    "from xml.etree import ElementTree\n",
    "import os\n",
    "import yaml"
   ]
  },
  {
   "cell_type": "code",
   "execution_count": 3,
   "metadata": {},
   "outputs": [],
   "source": [
    "with open(\"./validate_did_status.yaml\", \"r\") as stream:\n",
    "    try:\n",
    "        did_y = yaml.safe_load(stream)\n",
    "    except yaml.YAMLError as exc:\n",
    "        print(exc)"
   ]
  },
  {
   "cell_type": "code",
   "execution_count": 14,
   "metadata": {},
   "outputs": [],
   "source": [
    "did_y = did_y['DidStatus']['dids']"
   ]
  },
  {
   "cell_type": "markdown",
   "metadata": {},
   "source": [
    "Type of data:\n",
    "- Science\n",
    "- Flat\n",
    "- Dark\n",
    "- Calibration"
   ]
  },
  {
   "cell_type": "code",
   "execution_count": 50,
   "metadata": {},
   "outputs": [],
   "source": [
    "keys = list(did_y.keys())"
   ]
  },
  {
   "cell_type": "code",
   "execution_count": 51,
   "metadata": {},
   "outputs": [],
   "source": [
    "did_y.keys()\n",
    "temp = did_y[keys[10000]]"
   ]
  },
  {
   "cell_type": "markdown",
   "metadata": {},
   "source": [
    "size of a DID is given by how many times it has been created.\n",
    "\n",
    "If you open one of that you have accessed, created, deleted, ... in alphabetic order. In any keyword, the order is from the newest to the oldest.\n",
    "\n",
    "size is only in the first entrance"
   ]
  },
  {
   "cell_type": "markdown",
   "metadata": {},
   "source": [
    "NAND1 we can start from 2022-09-18, NAND2 from 2022-09-20"
   ]
  },
  {
   "cell_type": "code",
   "execution_count": 142,
   "metadata": {},
   "outputs": [
    {
     "name": "stdout",
     "output_type": "stream",
     "text": [
      "no size keyword: 0000770510\n",
      "no size keyword: 0000770520\n",
      "no size keyword: 0000770610\n",
      "no size keyword: 0000770612\n",
      "no size keyword: 0000770620\n",
      "no size keyword: 0000770622\n",
      "no size keyword: 0000770710\n",
      "no size keyword: 0000990010\n",
      "no size keyword: 0000990021\n",
      "no size keyword: 0000990040\n",
      "no size keyword: 0000990060\n",
      "no size keyword: 0000990110\n",
      "no size keyword: 0000990120\n",
      "no size keyword: 0000990210\n",
      "no size keyword: 0000990220\n",
      "no size keyword: 0000990230\n",
      "no size keyword: 0000990240\n",
      "no size keyword: 0000990310\n",
      "no size keyword: 0000990320\n",
      "no size keyword: 0000990440\n",
      "no size keyword: 0000990520\n",
      "no size keyword: 0000990525\n",
      "no size keyword: 0000990620\n",
      "no size keyword: 0000990625\n",
      "no size keyword: 0000990711\n",
      "no size keyword: 0000990712\n",
      "no size keyword: 0000991110\n",
      "no creation timestamp: timestamp 2020-02-11T00:00:00 for 0025251001\n",
      "no creation timestamp: timestamp 2020-02-11T00:00:00 for 0064152020\n"
     ]
    }
   ],
   "source": [
    "NAND1 = []\n",
    "time1 = []\n",
    "t01 = datetime.datetime(2022,9,17,15,45)\n",
    "t02 = datetime.datetime(2022,9,19,5,35)\n",
    "\n",
    "for k in keys:\n",
    "        temp = did_y[k]\n",
    "        if temp == []:\n",
    "            continue\n",
    "        try:\n",
    "            s = temp[0]['size']\n",
    "        except:\n",
    "            print('no size keyword:', k)\n",
    "            continue\n",
    "        for tt in temp:\n",
    "            keys_temp = list(tt.keys())\n",
    "            for kk in keys_temp:\n",
    "                if kk == 'created':\n",
    "                    try:\n",
    "                        if tt[kk]['timestamp'] >= t01:\n",
    "                            NAND1 += [s]\n",
    "                            time1 += [tt[kk]['timestamp']]\n",
    "                    except:\n",
    "                        try:\n",
    "                            if tt['accessed'][-1]['timestamp'] >= t01:\n",
    "                                NAND1 += [s]\n",
    "                                time1 += [tt['accessed'][-1]['timestamp']]\n",
    "                        except:\n",
    "                            print('no creation timestamp: timestamp 2020-02-11T00:00:00 for',k)\n",
    "                            continue\n",
    "                            # NAND1 += [s]\n",
    "                            # time1 += [datetime.datetime(2020,2,11,0,0,0)]\n",
    "                if kk == 'deleted':\n",
    "                    try:\n",
    "                        if tt[kk]['timestamp'] >= t01:\n",
    "                            NAND1 += [-s]\n",
    "                            time1 += [tt[kk]['timestamp']]\n",
    "                    except:\n",
    "                        print('no deletion timestamp: timestamp 2020-02-11T00:00:00',k)\n",
    "                        continue\n",
    "                        # NAND1 += [-s]\n",
    "                        # time1 += [datetime.datetime(2020,2,11,0,0,0)]\n",
    "    "
   ]
  },
  {
   "cell_type": "code",
   "execution_count": 140,
   "metadata": {},
   "outputs": [
    {
     "data": {
      "text/plain": [
       "{'accessed': [{'filename': 'IOR_S_S192F07_SPHI_V02.SOL',\n",
       "   'line': 100,\n",
       "   'timestamp': datetime.datetime(2022, 3, 7, 3, 2, 20)}],\n",
       " 'created': {'filename': 'IOR_S_S192F07_SPHI_V02.SOL',\n",
       "  'line': 21,\n",
       "  'timestamp': datetime.datetime(2022, 3, 7, 0, 0)},\n",
       " 'deleted': {'filename': 'IOR_S_S193F04_SPHI_V01.SOL',\n",
       "  'line': 181,\n",
       "  'timestamp': datetime.datetime(2022, 3, 15, 0, 11, 20)},\n",
       " 'metadata': {'bits_per_pixel': 32,\n",
       "  'env_comp': 6,\n",
       "  'env_dark_did': 222251001,\n",
       "  'env_demod_did': 990620,\n",
       "  'env_flat_did': 223091500,\n",
       "  'env_prefilter_did': 990710,\n",
       "  'env_rte_cfg': '1',\n",
       "  'env_rte_out': '66',\n",
       "  'fsm_state': 'HRT',\n",
       "  'x1': 0,\n",
       "  'x2': 2047,\n",
       "  'y1': 486,\n",
       "  'y2': 1509},\n",
       " 'size': 204000000.0}"
      ]
     },
     "execution_count": 140,
     "metadata": {},
     "output_type": "execute_result"
    }
   ],
   "source": [
    "did_y['0203070101'][0]"
   ]
  },
  {
   "cell_type": "code",
   "execution_count": 143,
   "metadata": {},
   "outputs": [
    {
     "data": {
      "text/plain": [
       "[<matplotlib.lines.Line2D at 0x7fbe92e0e700>]"
      ]
     },
     "execution_count": 143,
     "metadata": {},
     "output_type": "execute_result"
    }
   ],
   "source": [
    "%matplotlib tk\n",
    "tuples = sorted(zip(time1, NAND1))\n",
    "time1_sort, NAND1_sort = [t[0] for t in tuples], [t[1] for t in tuples]\n",
    "\n",
    "plt.figure(figsize=(12,8))\n",
    "plt.plot(time1_sort,np.cumsum(NAND1_sort)/1e9)\n",
    "# plt.xlim(datetime.datetime(2022,1,1),datetime.datetime(2022,12,1))"
   ]
  }
 ],
 "metadata": {
  "kernelspec": {
   "display_name": "Python 3.8.5 ('dancalc')",
   "language": "python",
   "name": "python3"
  },
  "language_info": {
   "codemirror_mode": {
    "name": "ipython",
    "version": 3
   },
   "file_extension": ".py",
   "mimetype": "text/x-python",
   "name": "python",
   "nbconvert_exporter": "python",
   "pygments_lexer": "ipython3",
   "version": "3.8.5"
  },
  "orig_nbformat": 4,
  "vscode": {
   "interpreter": {
    "hash": "cbf6c9a26a160734b6448319c4eb49a011a468026d1aa18347f15181b6422a99"
   }
  }
 },
 "nbformat": 4,
 "nbformat_minor": 2
}
