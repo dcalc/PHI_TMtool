{
 "cells": [
  {
   "cell_type": "markdown",
   "metadata": {},
   "source": [
    "# <span style=\"color:yellow\">New Classes and Some Functions</span>"
   ]
  },
  {
   "cell_type": "code",
   "execution_count": 2,
   "metadata": {},
   "outputs": [],
   "source": [
    "from TMclass import *\n",
    "import datetime\n",
    "import numpy as np\n",
    "import matplotlib.pyplot as plt\n",
    "import pandas as pd\n",
    "from xml.etree import ElementTree\n",
    "\n",
    "\n",
    "def flush_many(max_vol, vol_dataset, phi_mode, start, nbits, ndata, level, partition):\n",
    "    global PHI\n",
    "    global phi\n",
    "\n",
    "    def _new_start(start,end):\n",
    "        start += datetime.timedelta(days=1)\n",
    "        start = start.replace(hour=3,minute=0,second=0)\n",
    "        if end > start:\n",
    "            start = end + datetime.timedelta(hours=1)\n",
    "        return start\n",
    "    \n",
    "\n",
    "    vol0 = max_vol[0]\n",
    "    vol1 = max_vol[1]\n",
    "    n0 = int(vol0 // vol_dataset * 0.99)\n",
    "    n1 = int(vol1 // vol_dataset * 0.99)\n",
    "\n",
    "    if ndata == -1:\n",
    "        ndata = phi_mode.raw.n_datasets\n",
    "    \n",
    "    print(f'Days needed: {(ndata-n0)//n1+2}')\n",
    "    kw = phi_mode.compressing(start, nbits = nbits, ndata = n0,level=level); phi.saving(partition,**kw); PHI.saving(partition,**kw)\n",
    "    # start += datetime.timedelta(days=1)\n",
    "    start = _new_start(start,kw['end'])\n",
    "\n",
    "    for i in range((ndata-n0)//n1+1):\n",
    "        kw = phi_mode.compressing(start, nbits = nbits, ndata = n1,level=level); phi.saving(partition,**kw); PHI.saving(partition,**kw)\n",
    "        start = _new_start(start,kw['end'])\n",
    "\n",
    "    return (phi_mode, kw)\n",
    "\n",
    "PHI = PHI_MEMORY(datetime.datetime.fromisoformat('2022-01-19T23:00:00'))\n",
    "\n",
    "TM = {'date':[], 'tm_rate':[], 'duration':[]}\n",
    "TMnew = {'date':[], 'tm_rate':[], 'duration':[]}\n",
    "\n",
    "with open('../telem.xml') as f:\n",
    "\ttree = ElementTree.parse(f)\n",
    "\n",
    "for node in tree.iter('PASS'):\n",
    "    d = datetime.datetime.fromisoformat(node.attrib.get('comment')[:-1]).date()\n",
    "    if d >= datetime.date(2022,1,1) and d <= datetime.date(2023,1,1):\n",
    "        TM['date'] += [datetime.datetime.fromisoformat(node.attrib.get('comment')[:-1])]\n",
    "        TM['tm_rate'] += [float(node.attrib.get('tm_rate'))]\n",
    "        TM['duration'] += [int(node.attrib.get('duration'))]\n",
    "\n",
    "with open('../EFECS_M06_V00.xml') as f:\n",
    "\ttree = ElementTree.parse(f)\n",
    "\n",
    "for node in tree.iter('PASS'):\n",
    "    d = datetime.datetime.strptime(node.attrib.get('time')[:-1],\"%Y-%jT%H:%M:%S\").date()\n",
    "    if d >= datetime.date(2022,1,1) and d <= datetime.date(2023,1,1):\n",
    "        TMnew['date'] += [datetime.datetime.strptime(node.attrib.get('time')[:-1],\"%Y-%jT%H:%M:%S\")]\n",
    "        TMnew['tm_rate'] += [float(node.attrib.get('tm_rate'))]\n",
    "        TMnew['duration'] += [int(node.attrib.get('duration'))]\n",
    "\n",
    "TM['date'] = np.asarray(TM['date'])\n",
    "TM['tm_rate'] = np.asarray(TM['tm_rate'])\n",
    "TM['duration'] = np.asarray(TM['duration'])\n",
    "\n",
    "TMnew['date'] = np.asarray(TMnew['date'])\n",
    "TMnew['tm_rate'] = np.asarray(TMnew['tm_rate'])\n",
    "TMnew['duration'] = np.asarray(TMnew['duration'])\n",
    "\n",
    "f = open('phi.itl','r')\n",
    "lines = f.readlines()\n",
    "\n",
    "FL = {'date':[], 'flush':[]}\n",
    "\n",
    "for x in lines:\n",
    "    temp = x.split(' ')\n",
    "    if 'PHI_SCI_Flush_VOL' in temp[-1]:\n",
    "        FL['date'] += [datetime.datetime.fromisoformat(temp[0][:-1])]\n",
    "        FL['flush'] += [float(temp[-1][19:-2])]\n",
    "        # print(temp[0][:-1],temp[-1][19:-2])\n",
    "\n",
    "FL['date'] = np.asarray(FL['date'])\n",
    "FL['flush'] = np.asarray(FL['flush'])\n",
    "\n",
    "f = open('phi.itl','r')\n",
    "lines = f.readlines()\n",
    "\n",
    "# SV = {'date':[], 'rate':[]}\n",
    "\n",
    "# for x in lines:\n",
    "#     temp = x.split(' ')\n",
    "#     if 'PHI_SCI_Rate' in temp[-1]:\n",
    "#         SV['date'] += [datetime.datetime.fromisoformat(temp[0][:-1])]\n",
    "#         SV['rate'] += [float(temp[-1][14:-2])]\n",
    "#         # print(temp[0][:-1],temp[-1][19:-2])\n",
    "\n",
    "# SV['date'] = np.asarray(SV['date'])\n",
    "# SV['rate'] = np.asarray(SV['rate'])\n",
    "\n",
    "f = open('phi_new.itl','r')\n",
    "lines = f.readlines()\n",
    "\n",
    "FLnew = {'date':[], 'flush':[]}\n",
    "\n",
    "for x in lines:\n",
    "    temp = x.split(' ')\n",
    "    if 'PHI_SCI_Flush_VOL' in temp[-1]:\n",
    "        FLnew['date'] += [datetime.datetime.fromisoformat(temp[0][:-1])]\n",
    "        FLnew['flush'] += [float(temp[-1][19:-2])]\n",
    "        # print(temp[0][:-1],temp[-1][19:-2])\n",
    "\n",
    "FLnew['date'] = np.asarray(FLnew['date'])\n",
    "FLnew['flush'] = np.asarray(FLnew['flush'])\n",
    "\n"
   ]
  },
  {
   "cell_type": "code",
   "execution_count": 3,
   "metadata": {},
   "outputs": [
    {
     "data": {
      "text/plain": [
       "Text(0.5, 0, 'date')"
      ]
     },
     "execution_count": 3,
     "metadata": {},
     "output_type": "execute_result"
    },
    {
     "data": {
      "image/png": "[encoded data removed]",
      "text/plain": [
       "<Figure size 432x288 with 1 Axes>"
      ]
     },
     "metadata": {
      "needs_background": "light"
     },
     "output_type": "display_data"
    }
   ],
   "source": [
    "plt.plot(TM['date'], (TM['tm_rate']*TM['duration'])/8/1e6)#; plt.ylim(0,5000)\n",
    "plt.xlim(datetime.date(2022,8,1),datetime.date(2022,11,15))\n",
    "# plt.plot(TMnew['date'], np.cumsum(TMnew['tm_rate']*TMnew['duration']));\n",
    "# plt.ylabel('total tm_rate (bit/s)')\n",
    "plt.ylabel('total tm (MB)')\n",
    "plt.xlabel('date')\n"
   ]
  },
  {
   "cell_type": "markdown",
   "metadata": {},
   "source": [
    "# <span style=\"color:blue\">R_FULL_LRES_HCAD_Full-Disk-Helioseismology</span>\n"
   ]
  },
  {
   "cell_type": "code",
   "execution_count": 4,
   "metadata": {},
   "outputs": [
    {
     "name": "stdout",
     "output_type": "stream",
     "text": [
      "Days needed: 6\n",
      "Exceeding the number of datasets, ndata set to 100\n",
      "Days needed: 6\n",
      "Exceeding the number of datasets, ndata set to 100\n",
      "R_FULL_LRES_HCAD_Full-Disk-Helioseismology - Partition 1\n",
      "number of datasets: 2880\n",
      "cadence: 1 mins\n",
      "duration: 2 days, 0:00:00\n",
      "amount of raw-data at 32 bits: 109863.3 MiB, 38.1 MiB per dataset\n",
      "amount of crop-data at 32 bits: 65918.0 MiB, 22.9 MiB per dataset\n",
      "cropping time: 20:27:04.320000\n",
      "amount of pack-data at 16 bits: 43945.3 MiB, 15.3 MiB per dataset\n",
      "packing time: 22:57:33.301440\n",
      "compressing (+ flushing) time: 0:24:41.760000\n",
      "amount of compressed data + metadata at 6 bits: 5087.2 MiB, 1.8 MiB per dataset\n",
      "amount of metadata:  69120 MiB\n",
      "amount of memory usage: 219726.6 MiB\n",
      "\n",
      "==========================\n",
      "\n",
      "R_FULL_LRES_HCAD_Full-Disk-Helioseismology - Partition 2\n",
      "number of datasets: 2880\n",
      "cadence: 1 mins\n",
      "duration: 2 days, 0:00:00\n",
      "amount of raw-data at 32 bits: 109863.3 MiB, 38.1 MiB per dataset\n",
      "amount of crop-data at 32 bits: 65918.0 MiB, 22.9 MiB per dataset\n",
      "cropping time: 20:27:04.320000\n",
      "amount of pack-data at 16 bits: 43945.3 MiB, 15.3 MiB per dataset\n",
      "packing time: 22:57:33.301440\n",
      "compressing (+ flushing) time: 0:24:41.760000\n",
      "amount of compressed data + metadata at 6 bits: 5087.2 MiB, 1.8 MiB per dataset\n",
      "amount of metadata:  69120 MiB\n",
      "amount of memory usage: 219726.6 MiB\n",
      "\n"
     ]
    }
   ],
   "source": [
    "t0 = datetime.datetime.fromisoformat('2022-01-20T00:00:00')\n",
    "t1 = datetime.datetime.fromisoformat('2022-01-22T00:00:00')\n",
    "phi = PHI_MEMORY(t0)\n",
    "\n",
    "hcrop = 640\n",
    "hsm_1 = PHI_MODE('FDT')\n",
    "kw = hsm_1.observation(t0,t1,cadence=1,shape=(2048,hcrop,1,6)); PHI.saving(1,**kw)\n",
    "\n",
    "# t0 = hsm_1.raw.end\n",
    "\n",
    "# PHI.copy_partition(1,t0)\n",
    "# PHI.format_partition(1,PHI.part1.history['end'][-1])\n",
    "\n",
    "\n",
    "t0 = datetime.datetime.fromisoformat('2022-01-22T00:00:00')\n",
    "t1 = datetime.datetime.fromisoformat('2022-01-24T00:00:00')\n",
    "a1_2 = PHI_MODE('FDT')\n",
    "kw = a1_2.observation(t0,t1,cadence=1,shape=(2048,hcrop,1,6)); PHI.saving(2,**kw)\n",
    "\n",
    "t0 = a1_2.raw.end\n",
    "\n",
    "kw = hsm_1.cropping(t0,ndata=-1,crop=[hcrop,hcrop],level='raw'); PHI.saving(1,**kw)\n",
    "kw = hsm_1.packing(hsm_1.raw.crop.end,ndata=-1,level='raw.crop'); PHI.saving(1,**kw)\n",
    "\n",
    "# kw = hsm_1.compressing(hsm_1.raw.pack.end, nbits = 6, ndata = -1,level='raw.pack'); PHI.saving(1,**kw)\n",
    "hsm_1, kw = flush_many([1350,1350], 2.4, hsm_1, kw['end'], 6, -1, 'raw.pack',1)\n",
    "\n",
    "t0 = hsm_1.compr.pack.end\n",
    "kw = a1_2.cropping(t0,ndata=-1,crop=[hcrop,hcrop],level='raw'); PHI.saving(2,**kw)\n",
    "kw = a1_2.packing(a1_2.raw.crop.end,ndata=-1,level='raw.crop'); PHI.saving(2,**kw)\n",
    "\n",
    "# kw = a1_2.compressing(a1_2.raw.pack.end, nbits = 6, ndata = -1,level='raw.pack'); PHI.saving(2,**kw)\n",
    "a1_2, kw = flush_many([1350,1350], 2.4, a1_2, kw['end'], 6, -1, 'raw.pack',2)\n",
    "\n",
    "end = kw['end']\n",
    "########################################################\n",
    "printp(hsm_1, label='R_FULL_LRES_HCAD_Full-Disk-Helioseismology - Partition 1')\n",
    "print('==========================\\n')\n",
    "printp(a1_2, label='R_FULL_LRES_HCAD_Full-Disk-Helioseismology - Partition 2')\n",
    "# plot_tot(PHI)"
   ]
  },
  {
   "cell_type": "code",
   "execution_count": 5,
   "metadata": {},
   "outputs": [
    {
     "name": "stdout",
     "output_type": "stream",
     "text": [
      "cropping and packing duration: 3 days, 14:49:15.242880\n",
      "compression duration: 0:49:23.520000\n"
     ]
    }
   ],
   "source": [
    "print('cropping and packing duration:',(hsm_1.raw.pack.end - hsm_1.raw.pack.start + hsm_1.raw.crop.end - hsm_1.raw.crop.start)*2)\n",
    "print('compression duration:',(hsm_1.compr.pack.end - hsm_1.compr.pack.start)*2)"
   ]
  },
  {
   "cell_type": "markdown",
   "metadata": {},
   "source": [
    "# <span style=\"color:magenta\">***RESET NANDs***</span>"
   ]
  },
  {
   "cell_type": "code",
   "execution_count": 6,
   "metadata": {},
   "outputs": [
    {
     "name": "stdout",
     "output_type": "stream",
     "text": [
      "amount of compressed data + metadata in partition 1: 5.33 GB\n",
      "amount of compressed data + metadata in partition 2: 5.33 GB\n"
     ]
    }
   ],
   "source": [
    "print('amount of compressed data + metadata in partition 1:',round(PHI.part1.compr*1e-3,2), 'GB')\n",
    "print('amount of compressed data + metadata in partition 2:',round(PHI.part2.compr*1e-3,2), 'GB')\n",
    "# print('TM time:',round((PHI.part1.compr + PHI.part2.compr)/2151.3,2), 'days')\n",
    "# PHI.format_partition(1,datetime.datetime(2022,1,29,16,0,0))\n",
    "# PHI.format_partition(2,end + datetime.timedelta(hours=1))\n",
    "# PHI.format_partition(1,end + datetime.timedelta(hours=1))\n",
    "# PHI.format_partition(2,PHI.part1.history['end'][-1] + datetime.timedelta(hours=.5))\n",
    "PHI.format_partition(1,hsm_1.compr.pack.end + datetime.timedelta(hours=1))\n",
    "PHI.format_partition(2,end + datetime.timedelta(hours=1))"
   ]
  },
  {
   "cell_type": "code",
   "execution_count": 7,
   "metadata": {},
   "outputs": [
    {
     "data": {
      "image/png": "[encoded data removed]",
      "text/plain": [
       "<Figure size 1080x576 with 2 Axes>"
      ]
     },
     "metadata": {
      "needs_background": "light"
     },
     "output_type": "display_data"
    }
   ],
   "source": [
    "plot_tot(PHI,ylim=(0,250))"
   ]
  },
  {
   "cell_type": "code",
   "execution_count": 8,
   "metadata": {},
   "outputs": [
    {
     "data": {
      "text/plain": [
       "0.0"
      ]
     },
     "execution_count": 8,
     "metadata": {},
     "output_type": "execute_result"
    }
   ],
   "source": [
    "PHI.part1.occu*4/5"
   ]
  },
  {
   "cell_type": "markdown",
   "metadata": {},
   "source": [
    "# <span style=\"color:blue\">Raw Synoptic</span>"
   ]
  },
  {
   "cell_type": "code",
   "execution_count": 9,
   "metadata": {},
   "outputs": [
    {
     "name": "stdout",
     "output_type": "stream",
     "text": [
      "504 total datasets:\n",
      "\n",
      "Raw Synoptic (1 dataset)\n",
      "number of datasets: 1\n",
      "cadence: 1 mins\n",
      "duration: 0:01:00\n",
      "amount of raw-data at 32 bits: 206.0 MiB, 206.0 MiB per dataset\n",
      "amount of crop-data at 32 bits: 106.8 MiB, 106.8 MiB per dataset\n",
      "cropping time: 0:00:44.518000\n",
      "amount of pack-data at 16 bits: 61.0 MiB, 61.0 MiB per dataset\n",
      "packing time: 0:00:41.441600\n",
      "compressing (+ flushing) time: 0:02:31.066944\n",
      "amount of compressed data + metadata at 6 bits: 18.0 MiB, 18.0 MiB per dataset\n",
      "amount of metadata:  24 MiB\n",
      "amount of memory usage: 373.8 MiB\n",
      "\n",
      "amount of compressed data + metadata in partition 1: 9.52 GB\n",
      "amount of compressed data + metadata in partition 2: 0.0 GB\n"
     ]
    }
   ],
   "source": [
    "i=1\n",
    "########################################################\n",
    "\n",
    "# t0 = datetime.datetime.fromisoformat('2022-02-05T00:00:00')\n",
    "t0 = datetime.datetime.fromisoformat('2022-01-30T00:00:00')\n",
    "t1 = datetime.datetime.fromisoformat('2022-02-20T00:00:00')\n",
    "\n",
    "cad = 1*60\n",
    "N = int((t1 - t0).total_seconds() / (60*cad))\n",
    "\n",
    "ti = t0\n",
    "deltat = (t1 - t0)/N\n",
    "min1 = datetime.timedelta(minutes=1)\n",
    "form = False\n",
    "for n in range(N):\n",
    "    a19 = PHI_MODE('FDT')\n",
    "    # ti = ti + dt\n",
    "    kw = a19.observation(ti,ti+min1,cadence=1,shape=(2048,1024,4,6));\n",
    "    PHI.saving(i,**kw)\n",
    "    t0 = a19.raw.end\n",
    "    kw = a19.cropping(t0,ndata=-1,crop=[1024,1024],level='raw');\n",
    "    PHI.saving(i,**kw)\n",
    "    kw = a19.packing(a19.raw.crop.end,ndata=-1,level='raw.crop');\n",
    "    PHI.saving(i,**kw)\n",
    "    kw = a19.compressing(a19.raw.pack.end, nbits = 6, ndata = -1,level='raw.pack'); \n",
    "    PHI.saving(i,**kw)\n",
    "    ti = ti + deltat\n",
    "    if PHI.part1.occu > 200e3 or PHI.part2.occu > 200e3:\n",
    "        print('amount of compressed data + metadata in partition 1:',round(PHI.part1.compr*1e-3,2), 'GB')\n",
    "        print('amount of compressed data + metadata in partition 2:',round(PHI.part2.compr*1e-3,2), 'GB')\n",
    "        PHI.format_partition(i,kw['end'])\n",
    "        # phi.format_partition(i,kw['end'])\n",
    "        i = i%2 + 1\n",
    "\n",
    "# tm0 = datetime.datetime(2022,2,1,0,0,0)\n",
    "# tm1 = datetime.datetime(2022,2,20,0,0,0)\n",
    "# _ = tm_avail(tm0,tm1,df_tm,frac=.2)\n",
    "# print('amount of compressed data + metadata in partition 1:',round(PHI.part1.compr*1e-3,2), 'GB')\n",
    "# print('amount of compressed data + metadata in partition 2:',round(PHI.part2.compr*1e-3,2), 'GB')\n",
    "\n",
    "\n",
    "print(N,'total datasets:\\n')\n",
    "printp(a19, label = 'Raw Synoptic (1 dataset)')\n",
    "\n",
    "end = kw['end']\n",
    "print('amount of compressed data + metadata in partition 1:',round(PHI.part1.compr*1e-3,2), 'GB')\n",
    "print('amount of compressed data + metadata in partition 2:',round(PHI.part2.compr*1e-3,2), 'GB')\n",
    "# print('TM time:',round((PHI.part1.compr + PHI.part2.compr)/2151.3,2), 'days')\n",
    "PHI.format_partition(1,end + datetime.timedelta(hours=1))\n",
    "# PHI.format_partition(2,end + datetime.timedelta(days=1))\n"
   ]
  },
  {
   "cell_type": "code",
   "execution_count": 10,
   "metadata": {},
   "outputs": [
    {
     "data": {
      "image/png": "[encoded data removed]",
      "text/plain": [
       "<Figure size 1080x576 with 2 Axes>"
      ]
     },
     "metadata": {
      "needs_background": "light"
     },
     "output_type": "display_data"
    }
   ],
   "source": [
    "plot_tot(PHI,ylim=(0,250))"
   ]
  },
  {
   "cell_type": "markdown",
   "metadata": {},
   "source": [
    "# <span style=\"color:orange\"> *RSW 1*</span>"
   ]
  },
  {
   "cell_type": "code",
   "execution_count": 11,
   "metadata": {},
   "outputs": [],
   "source": [
    "dt = datetime.timedelta(seconds=0)\n",
    "dtc = datetime.timedelta(seconds=0)"
   ]
  },
  {
   "cell_type": "markdown",
   "metadata": {},
   "source": [
    "# <span style=\"color:blue\">CC_OFFPOI_OOF </span>"
   ]
  },
  {
   "cell_type": "code",
   "execution_count": 12,
   "metadata": {},
   "outputs": [
    {
     "name": "stdout",
     "output_type": "stream",
     "text": [
      "CC_OFFPOI_OOF - 1\n",
      "number of datasets: 2\n",
      "cadence: 90 mins\n",
      "duration: 3:00:00\n",
      "amount of raw-data at 32 bits: 412.0 MiB, 206.0 MiB per dataset\n",
      "amount of crop-data at 32 bits: 213.6 MiB, 106.8 MiB per dataset\n",
      "cropping time: 0:01:29.036000\n",
      "processing time: 1:10:00\n",
      "amount of processed data (and intermediate data) at 16 bits: 244.1 MiB, 22.9 MiB per dataset\n",
      "compressing (+ flushing) time: 0:01:10.114560\n",
      "amount of compressed data + metadata at 6 bits: 8.4 MiB, 4.2 MiB per dataset\n",
      "amount of metadata:  48 MiB\n",
      "amount of memory usage: 885.0 MiB\n",
      "\n",
      "==========================\n",
      "\n",
      "CC_OFFPOI_OOF - 2\n",
      "number of datasets: 2\n",
      "cadence: 90 mins\n",
      "duration: 3:00:00\n",
      "amount of raw-data at 32 bits: 412.0 MiB, 206.0 MiB per dataset\n",
      "amount of crop-data at 32 bits: 213.6 MiB, 106.8 MiB per dataset\n",
      "cropping time: 0:01:29.036000\n",
      "processing time: 1:10:00\n",
      "amount of processed data (and intermediate data) at 16 bits: 244.1 MiB, 22.9 MiB per dataset\n",
      "compressing (+ flushing) time: 0:01:10.114560\n",
      "amount of compressed data + metadata at 6 bits: 8.4 MiB, 4.2 MiB per dataset\n",
      "amount of metadata:  48 MiB\n",
      "amount of memory usage: 885.0 MiB\n",
      "\n"
     ]
    }
   ],
   "source": [
    "phi = PHI_MEMORY(datetime.datetime.fromisoformat('2022-02-23T18:00:00'))\n",
    "\n",
    "########################################################\n",
    "t0 = datetime.datetime.fromisoformat('2022-02-23T18:30:00')\n",
    "t1 = datetime.datetime.fromisoformat('2022-02-23T21:30:00')\n",
    "a2 = PHI_MODE('FDT')\n",
    "kw = a2.observation(t0,t1,cadence=90,shape=(2048,1024,4,6)); phi.saving(1,**kw); PHI.saving(1,**kw)\n",
    "\n",
    "t0 = a2.raw.end\n",
    "kw = a2.cropping(t0,ndata=-1,crop=[1024,1024],level='raw'); phi.saving(1,**kw); PHI.saving(1,**kw); dt += a2.raw.crop.cpu_time * a2.raw.crop.this_run\n",
    "kw = a2.processing(a2.raw.crop.end,ndata=-1,partialStore=0x00,level='raw.crop',nout=5); phi.saving(1,**kw); PHI.saving(1,**kw); dt += a2.proc.crop.cpu_time * a2.proc.crop.this_run\n",
    "kw = a2.compressing(a2.proc.crop.end, nbits = 6, ndata = -1,level='proc.crop'); phi.saving(1,**kw); PHI.saving(1,**kw); dtc += a2.compr.crop.cpu_time * a2.compr.crop.this_run\n",
    "\n",
    "########################################################\n",
    "t0 = datetime.datetime.fromisoformat('2022-02-26T07:50:00')\n",
    "t1 = datetime.datetime.fromisoformat('2022-02-26T10:50:00')\n",
    "a3 = PHI_MODE('FDT')\n",
    "kw = a3.observation(t0,t1,cadence=90,shape=(2048,1024,4,6)); phi.saving(1,**kw); PHI.saving(1,**kw)\n",
    "\n",
    "t0 = a3.raw.end\n",
    "kw = a3.cropping(t0,ndata=-1,crop=[1024,1024],level='raw'); phi.saving(1,**kw); PHI.saving(1,**kw); dt += a3.raw.crop.cpu_time * a3.raw.crop.this_run\n",
    "kw = a3.processing(a3.raw.crop.end,ndata=-1,partialStore=0x00,level='raw.crop',nout=5); phi.saving(1,**kw); PHI.saving(1,**kw); dt += a3.proc.crop.cpu_time * a3.proc.crop.this_run\n",
    "kw = a3.compressing(a3.proc.crop.end, nbits = 6, ndata = -1,level='proc.crop'); phi.saving(1,**kw); PHI.saving(1,**kw); dtc += a3.compr.crop.cpu_time * a3.compr.crop.this_run\n",
    "\n",
    "########################################################\n",
    "########################################################\n",
    "printp(a2, label='CC_OFFPOI_OOF - 1')\n",
    "print('==========================\\n')\n",
    "printp(a3, label='CC_OFFPOI_OOF - 2')\n",
    "\n",
    "# print('amount of compressed raw-data + metadata at',a1.compr.n_bits,'bits:',round(phi.part1.compr,1), 'MB')\n",
    "# print('number of datasets:',a1.raw.n_datasets+a2.raw.n_datasets+a3.raw.n_datasets)\n",
    "# _ = phi.plot(1,bar=True)\n",
    "# plot_tot(PHI)"
   ]
  },
  {
   "cell_type": "markdown",
   "metadata": {},
   "source": [
    "# <span style=\"color:blue\">L_SMALL_MRES_MCAD_Connection-Mosaic</span>"
   ]
  },
  {
   "cell_type": "code",
   "execution_count": 13,
   "metadata": {},
   "outputs": [
    {
     "name": "stdout",
     "output_type": "stream",
     "text": [
      "5 total datasets:\n",
      "\n",
      "L_SMALL_MRES_MCAD_Connection-Mosaic (1 dataset)\n",
      "number of datasets: 1\n",
      "cadence: 1 mins\n",
      "duration: 0:01:00\n",
      "amount of raw-data at 32 bits: 206.0 MiB, 206.0 MiB per dataset\n",
      "amount of crop-data at 32 bits: 106.8 MiB, 106.8 MiB per dataset\n",
      "cropping time: 0:00:44.518000\n",
      "processing time: 0:35:00\n",
      "amount of processed data (and intermediate data) at 16 bits: 122.1 MiB, 22.9 MiB per dataset\n",
      "compressing (+ flushing) time: 0:00:35.057280\n",
      "amount of compressed data + metadata at 6 bits: 4.2 MiB, 4.2 MiB per dataset\n",
      "amount of metadata:  24 MiB\n",
      "amount of memory usage: 442.5 MiB\n",
      "\n"
     ]
    }
   ],
   "source": [
    "# phi = PHI_MEMORY(datetime.datetime.fromisoformat('2022-03-01T23:30:00'))\n",
    "########################################################\n",
    "\n",
    "\n",
    "t0 = datetime.datetime.fromisoformat('2022-03-02T00:00:00')\n",
    "t1 = datetime.datetime.fromisoformat('2022-03-03T03:00:00')\n",
    "cad = 300\n",
    "N = int((t1 - t0).total_seconds() / (60*cad))\n",
    "\n",
    "ti = t0\n",
    "deltat = (t1 - t0)/N\n",
    "min1 = datetime.timedelta(minutes=1)\n",
    "for n in range(N):\n",
    "    a4 = PHI_MODE('FDT')\n",
    "    # ti = ti + dt\n",
    "    kw = a4.observation(ti,ti+min1,cadence=1,shape=(2048,1024,4,6));\n",
    "    phi.saving(1,**kw); PHI.saving(1,**kw)\n",
    "\n",
    "    t0 = a4.raw.end\n",
    "    kw = a4.cropping(t0,ndata=-1,crop=[1024,1024],level='raw'); \n",
    "    phi.saving(1,**kw); PHI.saving(1,**kw)\n",
    "\n",
    "    kw = a4.processing(a4.raw.crop.end,ndata=-1,partialStore=0x00,level='raw.crop',nout=5); \n",
    "    phi.saving(1,**kw); PHI.saving(1,**kw)\n",
    "\n",
    "    kw = a4.compressing(a4.proc.crop.end, nbits = 6, ndata = -1,level='proc.crop'); \n",
    "    phi.saving(1,**kw); PHI.saving(1,**kw)\n",
    "\n",
    "    ti = ti + deltat\n",
    "    # t0 = ti\n",
    "\n",
    "    # printp(a4)\n",
    "\n",
    "########################################################\n",
    "# printp(a4)\n",
    "print(N,'total datasets:\\n')\n",
    "printp(a4, label = 'L_SMALL_MRES_MCAD_Connection-Mosaic (1 dataset)')\n",
    "# plot_tot(phi, ylim=(0,10))"
   ]
  },
  {
   "cell_type": "markdown",
   "metadata": {},
   "source": [
    "# <span style=\"color:blue\">FDT Flat Calibration</span>"
   ]
  },
  {
   "cell_type": "code",
   "execution_count": 14,
   "metadata": {},
   "outputs": [
    {
     "name": "stdout",
     "output_type": "stream",
     "text": [
      "FDT Flat Calibration (Observation)\n",
      "number of datasets: 9\n",
      "cadence: 6 mins\n",
      "duration: 0:55:00\n",
      "amount of raw-data at 32 bits: 3570.6 MiB, 396.7 MiB per dataset\n",
      "amount of metadata:  72 MiB\n",
      "amount of memory usage: 3570.6 MiB\n",
      "\n"
     ]
    }
   ],
   "source": [
    "# phi = PHI_MEMORY(datetime.datetime.fromisoformat('2022-03-03T03:30:00'))\n",
    "\n",
    "#High cadence, 4 days, helio\n",
    "t0 = datetime.datetime.fromisoformat('2022-03-03T04:00:00')\n",
    "t1 = datetime.datetime.fromisoformat('2022-03-03T04:55:00')\n",
    "a5 = PHI_MODE('FDT')\n",
    "kw = a5.observation(t0,t1,cadence=6,shape=(2048,2048,4,6)); phi.saving(1,**kw); PHI.saving(1,**kw)\n",
    "\n",
    "########################################################\n",
    "printp(a5, label='FDT Flat Calibration (Observation)')\n",
    "# plot_tot(phi,ylim=(0,10))"
   ]
  },
  {
   "cell_type": "markdown",
   "metadata": {},
   "source": [
    "# <span style=\"color:blue\">L_SMALL_HRES_HCAD_Slow-Wind-Connection</span>"
   ]
  },
  {
   "cell_type": "code",
   "execution_count": 15,
   "metadata": {},
   "outputs": [
    {
     "name": "stdout",
     "output_type": "stream",
     "text": [
      "Days needed: 4\n",
      "Exceeding the number of datasets, ndata set to 3\n",
      "Slow Wind - 1 (full processing)\n",
      "number of datasets: 60\n",
      "cadence: 1 mins\n",
      "duration: 1:00:00\n",
      "amount of raw-data at 32 bits: 23803.7 MiB, 396.7 MiB per dataset\n",
      "amount of pack-data at 16 bits: 12359.6 MiB, 206.0 MiB per dataset\n",
      "packing time: 1:23:48.384000\n",
      "compressing (+ flushing) time: 0:30:12.155328\n",
      "amount of compressed data + metadata at 6 bits: 4320.5 MiB, 72.0 MiB per dataset\n",
      "amount of metadata:  960 MiB\n",
      "amount of memory usage: 36163.3 MiB\n",
      "\n",
      "==============================\n"
     ]
    }
   ],
   "source": [
    "# 1h daily, 3d @ 3m cadence --> 60 datasets\n",
    "i = 2\n",
    "t0 = datetime.datetime.fromisoformat('2022-03-03T09:40:00')\n",
    "t1 = t0 + datetime.timedelta(hours=1)\n",
    "a6_1 = PHI_MODE('HRT')\n",
    "kw = a6_1.observation(t0,t1,cadence=1,shape=(2048,2048,4,6)); phi.saving(i,**kw); PHI.saving(i,**kw)\n",
    "kw = a6_1.packing(kw['end'],ndata=-1,level='raw'); phi.saving(i,**kw); PHI.saving(i,**kw); dt += kw['end'] - kw['start']\n",
    "i=2\n",
    "a6_1, kw = flush_many([1500,1500], 72.7, a6_1, kw['end'], 6, -1, 'raw.pack',i)#; PHI.saving(i,**kw); dtc += kw['end'] - kw['start']\n",
    "printp(a6_1, label = 'Slow Wind - 1 (full processing)')\n",
    "# print('compression end:', kw['end'].isoformat())\n",
    "print('==============================')\n",
    "\n",
    "# kw = a6_1.compressing(a6_1.raw.pack.end, nbits = 6, ndata = -1,level='raw.pack'); phi.saving(i,**kw); PHI.saving(1,**kw); dtc += kw['end'] - kw['start']\n",
    "# printp(a6_1, label='L_SMALL_HRES_HCAD_Slow-Wind-Connection - HiCad - 1 (No Flush)')\n"
   ]
  },
  {
   "cell_type": "markdown",
   "metadata": {},
   "source": [
    "# <span style=\"color:blue\">R_SMALL_HRES_MCAD_Polar-Observations</span>"
   ]
  },
  {
   "cell_type": "code",
   "execution_count": 16,
   "metadata": {},
   "outputs": [
    {
     "name": "stdout",
     "output_type": "stream",
     "text": [
      "R_SMALL_HRES_MCAD_Polar-Observations - 1 (Observation + partial Flush)\n",
      "number of datasets: 70\n",
      "cadence: 1 mins\n",
      "duration: 1:10:00\n",
      "amount of raw-data at 32 bits: 27771.0 MiB, 396.7 MiB per dataset\n",
      "amount of pack-data at 16 bits: 2059.9 MiB, 29.4 MiB per dataset\n",
      "packing time: 0:13:58.064000\n",
      "compressing (+ flushing) time: 1:40:40.517760\n",
      "amount of compressed data + metadata at 6 bits: 720.1 MiB, 72.0 MiB per dataset\n",
      "amount of metadata:  640 MiB\n",
      "amount of memory usage: 29830.9 MiB\n",
      "\n"
     ]
    }
   ],
   "source": [
    "i = 1\n",
    "# phi = PHI_MEMORY(datetime.datetime.fromisoformat('2022-03-07T05:00:00'))\n",
    "#Medium cadence, High res, 2-5 min, 3 quantities\n",
    "t0 = datetime.datetime.fromisoformat('2022-03-06T17:20:00')\n",
    "t1 = t0 + datetime.timedelta(hours=1,minutes=10)\n",
    "a7 = PHI_MODE('HRT')\n",
    "kw = a7.observation(t0,t1,cadence=1,shape=(2048,2048,4,6)); phi.saving(i,**kw); PHI.saving(i,**kw)\n",
    "\n",
    "kw = a7.packing(kw['end'],ndata=10,level='raw'); phi.saving(i,**kw); PHI.saving(i,**kw); dt += kw['end'] - kw['start']\n",
    "kw = a7.compressing(kw['end'], nbits=6, ndata=10, level='raw.pack'); PHI.saving(i,**kw); dt += kw['end'] - kw['start']\n",
    "printp(a7, label='R_SMALL_HRES_MCAD_Polar-Observations - 1 (Observation + partial Flush)')\n"
   ]
  },
  {
   "cell_type": "markdown",
   "metadata": {},
   "source": [
    "# <span style=\"color:blue\">R_BOTH_HRES_HCAD_Nanoflares</span>"
   ]
  },
  {
   "cell_type": "code",
   "execution_count": 17,
   "metadata": {},
   "outputs": [
    {
     "name": "stdout",
     "output_type": "stream",
     "text": [
      "R_BOTH_HRES_HCAD_Nanoflares - 1 (Observation)\n",
      "number of datasets: 90\n",
      "cadence: 1 mins\n",
      "duration: 1:30:00\n",
      "amount of raw-data at 32 bits: 35705.6 MiB, 396.7 MiB per dataset\n",
      "amount of metadata:  720 MiB\n",
      "amount of memory usage: 35705.6 MiB\n",
      "\n"
     ]
    }
   ],
   "source": [
    "# phi = PHI_MEMORY(datetime.datetime.fromisoformat('2022-03-07T08:00:00'))\n",
    "##High cadence, High res################################\n",
    "i = 1\n",
    "t0 = datetime.datetime.fromisoformat('2022-03-07T01:10:00')\n",
    "t1 = t0 + datetime.timedelta(hours=1.5)\n",
    "a8 = PHI_MODE('HRT')\n",
    "kw = a8.observation(t0,t1,cadence=1,shape=(2048,2048,4,6)); phi.saving(1,**kw); PHI.saving(1,**kw)\n",
    "\n",
    "########################################################\n",
    "printp(a8, label='R_BOTH_HRES_HCAD_Nanoflares - 1 (Observation)')\n",
    "# printp(a8)\n"
   ]
  },
  {
   "cell_type": "markdown",
   "metadata": {},
   "source": [
    "# <span style=\"color:blue\">Crazy Mosaic</span>"
   ]
  },
  {
   "cell_type": "code",
   "execution_count": 18,
   "metadata": {},
   "outputs": [
    {
     "name": "stdout",
     "output_type": "stream",
     "text": [
      "Crazy Mosaic (Observation)\n",
      "number of datasets: 25\n",
      "cadence: 7 mins\n",
      "duration: 2:55:00\n",
      "amount of raw-data at 32 bits: 9918.2 MiB, 396.7 MiB per dataset\n",
      "amount of metadata:  200 MiB\n",
      "amount of memory usage: 9918.2 MiB\n",
      "\n"
     ]
    }
   ],
   "source": [
    "# TBD mosaic. Cadence = 6 minutes, full size, 36 datasets\n",
    "# phi = PHI_MEMORY(datetime.datetime.fromisoformat('2022-03-07T11:00:00'))\n",
    "########################################################\n",
    "i = 2\n",
    "t0 = datetime.datetime.fromisoformat('2022-03-07T08:30:00')\n",
    "t1 = t0 + datetime.timedelta(minutes=175) #36 datasets\n",
    "a9 = PHI_MODE('HRT')\n",
    "\n",
    "kw = a9.observation(t0,t1,cadence=7,shape=(2048,2048,4,6)); phi.saving(i,**kw); PHI.saving(i,**kw)\n",
    "\n",
    "########################################################\n",
    "printp(a9, label='Crazy Mosaic (Observation)')\n",
    "# printp(a9)\n",
    "# plot_tot(PHI)"
   ]
  },
  {
   "cell_type": "markdown",
   "metadata": {},
   "source": [
    "# <span style=\"color:blue\">L_FULL_HRES_MCAD_Coronal-He-Abundance</span>"
   ]
  },
  {
   "cell_type": "code",
   "execution_count": 19,
   "metadata": {},
   "outputs": [
    {
     "name": "stdout",
     "output_type": "stream",
     "text": [
      "L_FULL_HRES_MCAD_Coronal-He-Abundance - 1 (Observation)\n",
      "number of datasets: 18\n",
      "cadence: 10 mins\n",
      "duration: 3:00:00\n",
      "amount of raw-data at 32 bits: 7141.1 MiB, 396.7 MiB per dataset\n",
      "amount of metadata:  144 MiB\n",
      "amount of memory usage: 7141.1 MiB\n",
      "\n"
     ]
    }
   ],
   "source": [
    "# phi = PHI_MEMORY(datetime.datetime.fromisoformat('2022-03-07T15:30:00'))\n",
    "########################################################\n",
    "i = 2\n",
    "t0 = datetime.datetime.fromisoformat('2022-03-07T16:00:00')\n",
    "t1 = t0 + datetime.timedelta(hours=3)\n",
    "a10 = PHI_MODE('HRT')\n",
    "\n",
    "kw = a10.observation(t0,t1,cadence=10,shape=(2048,2048,4,6)); phi.saving(i,**kw); PHI.saving(i,**kw)\n",
    "\n",
    "########################################################\n",
    "printp(a10, label='L_FULL_HRES_MCAD_Coronal-He-Abundance - 1 (Observation)')\n",
    "# printp(a10)\n",
    "# plot_tot(PHI)"
   ]
  },
  {
   "cell_type": "markdown",
   "metadata": {},
   "source": [
    "# <span style=\"color:blue\">R_BOTH_HRES_HCAD_Nanoflares</span>"
   ]
  },
  {
   "cell_type": "code",
   "execution_count": 20,
   "metadata": {},
   "outputs": [
    {
     "name": "stdout",
     "output_type": "stream",
     "text": [
      "R_BOTH_HRES_HCAD_Nanoflares - 2 (Observation)\n",
      "number of datasets: 120\n",
      "cadence: 1 mins\n",
      "duration: 2:00:00\n",
      "amount of raw-data at 32 bits: 47607.4 MiB, 396.7 MiB per dataset\n",
      "amount of metadata:  960 MiB\n",
      "amount of memory usage: 47607.4 MiB\n",
      "\n"
     ]
    }
   ],
   "source": [
    "# phi = PHI_MEMORY(datetime.datetime.fromisoformat('2022-03-07T23:30:00'))\n",
    "i = 2\n",
    "########################################################\n",
    "t0 = datetime.datetime.fromisoformat('2022-03-08T00:40:00')\n",
    "t1 = t0 + datetime.timedelta(hours=2)\n",
    "a11 = PHI_MODE('HRT')\n",
    "kw = a11.observation(t0,t1,cadence=1,shape=(2048,2048,4,6)); phi.saving(i,**kw); PHI.saving(i,**kw)\n",
    "\n",
    "########################################################\n",
    "printp(a11, label='R_BOTH_HRES_HCAD_Nanoflares - 2 (Observation)')\n",
    "# printp(a11)\n",
    "# plot_tot(PHI)"
   ]
  },
  {
   "cell_type": "markdown",
   "metadata": {},
   "source": [
    "# <span style=\"color:blue\">R_BOTH_HRES_MCAD_Bright_Points</span>"
   ]
  },
  {
   "cell_type": "code",
   "execution_count": 21,
   "metadata": {},
   "outputs": [
    {
     "name": "stdout",
     "output_type": "stream",
     "text": [
      "R_BOTH_HRES_MCAD_Bright_Points - 1 (Observation)\n",
      "number of datasets: 36\n",
      "cadence: 10 mins\n",
      "duration: 6:00:00\n",
      "amount of raw-data at 32 bits: 9063.7 MiB, 251.8 MiB per dataset\n",
      "amount of metadata:  288 MiB\n",
      "amount of memory usage: 9063.7 MiB\n",
      "\n"
     ]
    }
   ],
   "source": [
    "# phi = PHI_MEMORY(datetime.datetime.fromisoformat('2022-03-08T03:30:00'))\n",
    "i = 2\n",
    "\n",
    "t0 = datetime.datetime.fromisoformat('2022-03-08T08:10:00')\n",
    "t1 = datetime.datetime.fromisoformat('2022-03-08T14:10:00')\n",
    "a12 = PHI_MODE('FDT')\n",
    "kw = a12.observation(t0,t1,cadence=10,shape=(2048,1280,4,6)); phi.saving(i,**kw); PHI.saving(i,**kw)\n",
    "\n",
    "########################################################\n",
    "printp(a12, label='R_BOTH_HRES_MCAD_Bright_Points - 1 (Observation)')\n",
    "# printp(a12)\n",
    "# plot_tot(PHI)"
   ]
  },
  {
   "cell_type": "markdown",
   "metadata": {},
   "source": [
    "# <span style=\"color:blue\">FDT-SP CROSS-CALIBRATION</span>"
   ]
  },
  {
   "cell_type": "code",
   "execution_count": 22,
   "metadata": {},
   "outputs": [],
   "source": [
    "# i = 2\n",
    "\n",
    "# t0 = datetime.datetime.fromisoformat('2022-03-08T07:00:00')\n",
    "# t1 = datetime.datetime.fromisoformat('2022-03-08T07:30:00')\n",
    "# fdtcc = PHI_MODE('FDT')\n",
    "# kw = fdtcc.observation(t0,t1,cadence=3,shape=(2048,1280,4,6)); phi.saving(i,**kw); PHI.saving(i,**kw)\n",
    "# kw = fdtcc.cropping(t0,ndata=-1,crop=[1280,1280],level='raw'); phi.saving(i,**kw); PHI.saving(i,**kw); dt += kw['end'] - kw['start']\n",
    "# kw = fdtcc.packing(fdtcc.raw.crop.end,ndata=-1,level='raw.crop'); phi.saving(i,**kw); PHI.saving(i,**kw); dt += kw['end'] - kw['start']\n",
    "# kw = fdtcc.compressing(fdtcc.raw.pack.end, nbits = 6, ndata = -1,level='raw.pack'); phi.saving(i,**kw); PHI.saving(i,**kw); dtc += kw['end'] - kw['start']\n",
    "\n",
    "# ########################################################\n",
    "# printp(fdtcc, label='FDT-SP CROSS-CALIBRATION (Observation)')\n"
   ]
  },
  {
   "cell_type": "code",
   "execution_count": 23,
   "metadata": {},
   "outputs": [
    {
     "data": {
      "text/plain": [
       "datetime.datetime(2022, 3, 8, 14, 10)"
      ]
     },
     "execution_count": 23,
     "metadata": {},
     "output_type": "execute_result"
    }
   ],
   "source": [
    "kw['end']"
   ]
  },
  {
   "cell_type": "markdown",
   "metadata": {},
   "source": [
    "# <span style=\"color:blue\">HRT Flat Calibration</span>"
   ]
  },
  {
   "cell_type": "code",
   "execution_count": 24,
   "metadata": {},
   "outputs": [
    {
     "name": "stdout",
     "output_type": "stream",
     "text": [
      "HRT Flat Calibration - 1 (Observation)\n",
      "number of datasets: 20\n",
      "cadence: 144 mins\n",
      "duration: 2 days, 0:00:00\n",
      "amount of raw-data at 32 bits: 7934.6 MiB, 396.7 MiB per dataset\n",
      "amount of metadata:  160 MiB\n",
      "amount of memory usage: 7934.6 MiB\n",
      "\n"
     ]
    }
   ],
   "source": [
    "# phi = PHI_MEMORY(datetime.datetime.fromisoformat('2022-03-08T11:30:00'))\n",
    "i = 2\n",
    "#High cadence, 4 days, helio\n",
    "t0 = datetime.datetime.fromisoformat('2022-03-08T14:10:00')\n",
    "t1 = t0 + datetime.timedelta(days=2)\n",
    "a13 = PHI_MODE('HRT')\n",
    "kw = a13.observation(t0,t1,cadence=144,shape=(2048,2048,4,6)); phi.saving(i,**kw); PHI.saving(i,**kw)\n",
    "\n",
    "########################################################\n",
    "printp(a13, label='HRT Flat Calibration - 1 (Observation)')\n",
    "# printp(a13)\n",
    "# plot_tot(PHI)"
   ]
  },
  {
   "cell_type": "markdown",
   "metadata": {},
   "source": [
    "# <span style=\"color:red\">Flushing</span>"
   ]
  },
  {
   "cell_type": "code",
   "execution_count": 25,
   "metadata": {},
   "outputs": [
    {
     "name": "stdout",
     "output_type": "stream",
     "text": [
      "Polar-Observation - 1 (no flush)\n",
      "number of datasets: 70\n",
      "cadence: 1 mins\n",
      "duration: 1:10:00\n",
      "amount of raw-data at 32 bits: 27771.0 MiB, 396.7 MiB per dataset\n",
      "amount of pack-data at 16 bits: 14419.6 MiB, 206.0 MiB per dataset\n",
      "packing time: 1:23:48.384000\n",
      "compressing (+ flushing) time: 1:40:40.517760\n",
      "amount of compressed data + metadata at 6 bits: 720.1 MiB, 72.0 MiB per dataset\n",
      "amount of metadata:  1040 MiB\n",
      "amount of memory usage: 42190.6 MiB\n",
      "\n",
      "==============================\n",
      "Nanoflares - 1 (no flush)\n",
      "number of datasets: 90\n",
      "cadence: 1 mins\n",
      "duration: 1:30:00\n",
      "amount of raw-data at 32 bits: 35705.6 MiB, 396.7 MiB per dataset\n",
      "amount of pack-data at 16 bits: 18539.4 MiB, 206.0 MiB per dataset\n",
      "packing time: 2:05:42.576000\n",
      "amount of metadata:  1440 MiB\n",
      "amount of memory usage: 54245.0 MiB\n",
      "\n",
      "==============================\n",
      "FDT Flat Calibration - 1 (full)\n",
      "number of datasets: 9\n",
      "cadence: 6 mins\n",
      "duration: 0:55:00\n",
      "amount of raw-data at 32 bits: 3570.6 MiB, 396.7 MiB per dataset\n",
      "amount of pack-data at 16 bits: 1853.9 MiB, 206.0 MiB per dataset\n",
      "packing time: 0:12:34.257600\n",
      "compressing (+ flushing) time: 1:30:36.465984\n",
      "amount of compressed data + metadata at 6 bits: 648.1 MiB, 72.0 MiB per dataset\n",
      "amount of metadata:  144 MiB\n",
      "amount of memory usage: 5424.5 MiB\n",
      "\n",
      "==============================\n",
      "Days needed: 1\n",
      "Exceeding the number of datasets, ndata set to 25\n",
      "Crazy Mosaic (full)\n",
      "number of datasets: 25\n",
      "cadence: 7 mins\n",
      "duration: 2:55:00\n",
      "amount of raw-data at 32 bits: 9918.2 MiB, 396.7 MiB per dataset\n",
      "amount of pack-data at 16 bits: 5149.8 MiB, 206.0 MiB per dataset\n",
      "packing time: 0:34:55.160000\n",
      "compressing (+ flushing) time: 4:11:41.294400\n",
      "amount of compressed data + metadata at 6 bits: 1800.2 MiB, 72.0 MiB per dataset\n",
      "amount of metadata:  400 MiB\n",
      "amount of memory usage: 15068.1 MiB\n",
      "\n",
      "==============================\n",
      "Days needed: 2\n",
      "Exceeding the number of datasets, ndata set to 3\n",
      "Coronal-He Abundance (full)\n",
      "number of datasets: 18\n",
      "cadence: 10 mins\n",
      "duration: 3:00:00\n",
      "amount of raw-data at 32 bits: 7141.1 MiB, 396.7 MiB per dataset\n",
      "amount of pack-data at 16 bits: 3707.9 MiB, 206.0 MiB per dataset\n",
      "packing time: 0:25:08.515200\n",
      "compressing (+ flushing) time: 0:30:12.155328\n",
      "amount of compressed data + metadata at 6 bits: 1296.2 MiB, 72.0 MiB per dataset\n",
      "amount of metadata:  288 MiB\n",
      "amount of memory usage: 10849.0 MiB\n",
      "\n",
      "==============================\n",
      "Days needed: 1\n",
      "Exceeding the number of datasets, ndata set to 120\n",
      "Nanoflares - 2 (full processing)\n",
      "number of datasets: 120\n",
      "cadence: 1 mins\n",
      "duration: 2:00:00\n",
      "amount of raw-data at 32 bits: 47607.4 MiB, 396.7 MiB per dataset\n",
      "processing time: 2 days, 22:00:00\n",
      "amount of processed data (and intermediate data) at 16 bits: 53100.6 MiB, 53.4 MiB per dataset\n",
      "compressing (+ flushing) time: 4:18:51.494400\n",
      "amount of compressed data + metadata at 6 bits: 1851.5 MiB, 15.4 MiB per dataset\n",
      "amount of metadata:  1920 MiB\n",
      "amount of memory usage: 101623.5 MiB\n",
      "\n",
      "compression end: 2022-03-15T07:49:04.114912\n",
      "==============================\n",
      "Days needed: 1\n",
      "Exceeding the number of datasets, ndata set to 36\n",
      "Bright-Points (full)\n",
      "number of datasets: 36\n",
      "cadence: 10 mins\n",
      "duration: 6:00:00\n",
      "amount of raw-data at 32 bits: 9063.7 MiB, 251.8 MiB per dataset\n",
      "amount of crop-data at 32 bits: 5767.8 MiB, 160.2 MiB per dataset\n",
      "cropping time: 0:30:04.824000\n",
      "amount of pack-data at 16 bits: 3021.2 MiB, 83.9 MiB per dataset\n",
      "packing time: 0:29:37.860000\n",
      "compressing (+ flushing) time: 2:21:36.057600\n",
      "amount of compressed data + metadata at 6 bits: 1012.8 MiB, 28.1 MiB per dataset\n",
      "amount of metadata:  864 MiB\n",
      "amount of memory usage: 17852.8 MiB\n",
      "\n",
      "==============================\n",
      "Days needed: 1\n",
      "Exceeding the number of datasets, ndata set to 20\n",
      "HRT Flat Calibration (full)\n",
      "number of datasets: 20\n",
      "cadence: 144 mins\n",
      "duration: 2 days, 0:00:00\n",
      "amount of raw-data at 32 bits: 7934.6 MiB, 396.7 MiB per dataset\n",
      "amount of pack-data at 16 bits: 4119.9 MiB, 206.0 MiB per dataset\n",
      "packing time: 0:27:56.128000\n",
      "compressing (+ flushing) time: 3:21:21.035520\n",
      "amount of compressed data + metadata at 6 bits: 1440.2 MiB, 72.0 MiB per dataset\n",
      "amount of metadata:  320 MiB\n",
      "amount of memory usage: 12054.4 MiB\n",
      "\n",
      "==============================\n"
     ]
    }
   ],
   "source": [
    "\n",
    "# t0 = a13.raw.end\n",
    "# phi.copy_partition(1,t0)\n",
    "# PHI.copy_partition(1,t0)\n",
    "max_fl = 3000\n",
    "\n",
    "\"\"\"\n",
    "    Processing of FDT FLat Calibration\n",
    "\"\"\"\n",
    "t0 = max(PHI.part1.history['end'][-1],PHI.part2.history['end'][-1])#a13.raw.end\n",
    "kw = a5.packing(t0,ndata=-1,level='raw'); phi.saving(1,**kw); PHI.saving(1,**kw); dt += a5.raw.pack.cpu_time * a5.raw.pack.this_run\n",
    "\n",
    "\"\"\"\n",
    "    Processing of Slow Wind 1 (already packed)\n",
    "\"\"\"\n",
    "i = 2\n",
    "# t0 = a5.compr.pack.end\n",
    "# kw = a6_1.packing(t0,ndata=-1,level='raw'); phi.saving(1,**kw); PHI.saving(i,**kw); dt += kw['end'] - kw['start']\n",
    "# kw = a6_1.compressing(a6_1.raw.pack.end, nbits = 6, ndata = -1,level='raw.pack'); phi.saving(1,**kw); PHI.saving(1,**kw); dtc += kw['end'] - kw['start']\n",
    "# kw = a6_1.processing(t0,ndata=-1,partialStore=0x00,level='raw',nout=5); phi.saving(i,**kw); PHI.saving(i,**kw); dt += kw['end'] - kw['start']\n",
    "# kw = a6_1.compressing(kw['end'], nbits = 6, ndata = -1,level='raw.pack'); phi.saving(i,**kw); PHI.saving(i,**kw); dtc += kw['end'] - kw['start']\n",
    "\n",
    "\n",
    "\"\"\"\n",
    "    Processing of Polar-Observation 1\n",
    "\"\"\"\n",
    "i = 1\n",
    "t0 = kw['end']#a5.compr.pack.end\n",
    "kw = a7.packing(t0,ndata=-1,level='raw'); phi.saving(i,**kw); PHI.saving(i,**kw); dt += kw['end'] - kw['start']\n",
    "# kw = a7.processing(t0,ndata=-1,partialStore=0x00,level='raw',nout=5); phi.saving(i,**kw); PHI.saving(i,**kw); dt += kw['end'] - kw['start']\n",
    "# kw = a7.compressing(kw['end'], nbits = 6, ndata = -1,level='proc'); phi.saving(i,**kw); PHI.saving(i,**kw); dtc += kw['end'] - kw['start']\n",
    "printp(a7, label = 'Polar-Observation - 1 (no flush)')\n",
    "print('==============================')\n",
    "\n",
    "\"\"\"\n",
    "    Processing of Nanoflares 1\n",
    "\"\"\"\n",
    "i = 1\n",
    "t0 = kw['end']#a7.compr.pack.end\n",
    "kw = a8.packing(t0,ndata=-1,level='raw'); phi.saving(1,**kw); PHI.saving(i,**kw); dt += a8.raw.pack.cpu_time * a8.raw.pack.this_run\n",
    "# kw = a8.processing(t0,ndata=-1,partialStore=0x00,level='raw',nout=5); phi.saving(i,**kw); PHI.saving(i,**kw); dt += kw['end'] - kw['start']\n",
    "# kw = a8.compressing(kw['end'], nbits = 6, ndata = -1,level='proc'); phi.saving(i,**kw); PHI.saving(i,**kw); dtc += kw['end'] - kw['start']\n",
    "# kw = a8.compressing(a8.raw.pack.end, nbits = 6, ndata = -1,level='raw.pack'); phi.saving(1,**kw); PHI.saving(1,**kw); dtc += kw['end'] - kw['start']\n",
    "printp(a8, label = 'Nanoflares - 1 (no flush)')\n",
    "print('==============================')\n",
    "\n",
    "\"\"\"\n",
    "    Processing of Crazy Mosaic\n",
    "\"\"\"\n",
    "i = 2\n",
    "t0 = kw['end']#a8.compr.pack.end\n",
    "kw = a9.packing(t0,ndata=-1,level='raw'); phi.saving(i,**kw); PHI.saving(i,**kw); dt += a9.raw.pack.cpu_time * a9.raw.pack.this_run\n",
    "# kw = a9.compressing(a9.raw.pack.end, nbits = 6, ndata = -1,level='raw.pack'); phi.saving(i,**kw); PHI.saving(i,**kw); \n",
    "\n",
    "\"\"\"\n",
    "    Processing of Coronal-He abundance\n",
    "\"\"\"\n",
    "i = 2\n",
    "t0 = kw['end']#a9.compr.pack.end\n",
    "kw = a10.packing(t0,ndata=-1,level='raw'); phi.saving(i,**kw); PHI.saving(i,**kw); dt += kw['end'] - kw['start']\n",
    "# kw = a10.processing(t0,ndata=-1,partialStore=0x00,level='raw',nout=5); phi.saving(i,**kw); PHI.saving(i,**kw); dt += kw['end'] - kw['start']\n",
    "# kw = a10.compressing(kw['end'], nbits = 6, ndata = -1,level='raw.pack'); phi.saving(i,**kw); PHI.saving(i,**kw); dtc += kw['end'] - kw['start']\n",
    "\n",
    "\"\"\"\n",
    "    Processing of Nanoflares 2\n",
    "\"\"\"\n",
    "i = 2\n",
    "t0 = kw['end']#a10.compr.pack.end\n",
    "# kw = a11.packing(t0,ndata=-1,level='raw'); phi.saving(i,**kw); PHI.saving(i,**kw); dt += a11.raw.pack.cpu_time * a11.raw.pack.this_run\n",
    "kw = a11.processing(t0,ndata=-1,partialStore=0x00,level='raw',nout=5); phi.saving(i,**kw); PHI.saving(i,**kw); dt += kw['end'] - kw['start']\n",
    "# # kw = a11.compressing(kw['end'], nbits = 6, ndata = -1,level='proc'); phi.saving(i,**kw); PHI.saving(i,**kw); dtc += kw['end'] - kw['start']\n",
    "\n",
    "\"\"\"\n",
    "    Processing of Bright-Points\n",
    "\"\"\"\n",
    "i = 2\n",
    "t0 = kw['end']#a11.compr.pack.end\n",
    "kw = a12.cropping(t0,ndata=-1,crop=[1280,1280],level='raw'); phi.saving(i,**kw); PHI.saving(i,**kw); dt += kw['end'] - kw['start']\n",
    "kw = a12.packing(a12.raw.crop.end,ndata=-1,level='raw.crop'); phi.saving(i,**kw); PHI.saving(i,**kw); dt += kw['end'] - kw['start']\n",
    "# kw = a12.compressing(a12.raw.pack.end, nbits = 6, ndata = -1,level='raw.pack'); phi.saving(i,**kw); PHI.saving(i,**kw); dtc += kw['end'] - kw['start']\n",
    "\n",
    "\"\"\"\n",
    "    Processing of HRT Flat Calibration\n",
    "\"\"\"\n",
    "i = 2\n",
    "t0 = kw['end']#a12.compr.pack.end\n",
    "kw = a13.packing(t0,ndata=-1,level='raw'); phi.saving(i,**kw); PHI.saving(i,**kw); dt += a13.raw.pack.cpu_time * a13.raw.pack.this_run\n",
    "# kw = a13.compressing(a13.raw.pack.end, nbits = 6, ndata = -1,level='raw.pack'); phi.saving(i,**kw); PHI.saving(i,**kw); dtc += a13.compr.pack.cpu_time * a13.compr.pack.this_run\n",
    "\n",
    "\n",
    "\"\"\"\n",
    "Flushing\n",
    "\"\"\"\n",
    "\n",
    "\n",
    "i=1\n",
    "kw = a5.compressing(kw['end'], nbits = 6, ndata = -1,level='raw.pack'); phi.saving(i,**kw); PHI.saving(i,**kw); dtc += a5.compr.pack.cpu_time * a5.compr.pack.this_run\n",
    "printp(a5, label='FDT Flat Calibration - 1 (full)')\n",
    "print('==============================')\n",
    "\n",
    "i=2\n",
    "a9, kw = flush_many([max_fl - a5.compr.pack.data*1e6/2**20,max_fl], 72.7, a9, kw['end'], 6, -1, 'raw.pack',i)#; phi.saving(i,**kw); PHI.saving(i,**kw); \n",
    "printp(a9, label = 'Crazy Mosaic (full)')\n",
    "# print('compression end:', kw['end'].isoformat())\n",
    "print('==============================')\n",
    "\n",
    "i=2\n",
    "a10, kw = flush_many([max_fl - a9.compr.pack.data*1e6/2**20,max_fl], 72.7, a10, kw['end'], 6, -1, 'raw.pack',i)#; phi.saving(i,**kw); PHI.saving(i,**kw); \n",
    "printp(a10, label = 'Coronal-He Abundance (full)')\n",
    "# print('compression end:', kw['end'].isoformat())\n",
    "print('==============================')\n",
    "\n",
    "i=2\n",
    "a11, kw = flush_many([max_fl - a10.compr.pack.data*1e6/2**20,max_fl], 15.7, a11, kw['end'], 6, -1, 'proc',i)#; phi.saving(i,**kw); PHI.saving(i,**kw); \n",
    "# a11, kw = flush_many([max_fl - a10.compr.pack.data*1e6/2**20,max_fl], 15.7, a11, kw['end'], 6, 'raw.pack',i)#; phi.saving(i,**kw); PHI.saving(i,**kw); \n",
    "printp(a11, label = 'Nanoflares - 2 (full processing)')\n",
    "print('compression end:', kw['end'].isoformat())\n",
    "print('==============================')\n",
    "\n",
    "i=2\n",
    "a12, kw = flush_many([max_fl - a11.compr.data*1e6/2**20,max_fl], 28.8, a12, kw['end'], 6, -1, 'raw.pack',i)#; phi.saving(i,**kw); PHI.saving(i,**kw); \n",
    "# a12, kw = flush_many([max_fl - a10.compr.pack.data*1e6/2**20,max_fl], 28.8, a12, kw['end'], 6, -1, 'raw.pack',i)#; phi.saving(i,**kw); PHI.saving(i,**kw); \n",
    "printp(a12, label = 'Bright-Points (full)')\n",
    "# print('compression end:', kw['end'].isoformat())\n",
    "print('==============================')\n",
    "\n",
    "i=2\n",
    "a13, kw = flush_many([max_fl - a12.compr.pack.data*1e6/2**20,max_fl], 72.7, a13, kw['end'], 6, -1, 'raw.pack',i)#; phi.saving(i,**kw); PHI.saving(i,**kw); \n",
    "printp(a13, label = 'HRT Flat Calibration (full)')\n",
    "# print('compression end:', kw['end'].isoformat())\n",
    "print('==============================')\n",
    "\n",
    "# \"\"\"\n",
    "#     Processing of Nanoflares 2\n",
    "# \"\"\"\n",
    "# i = 2\n",
    "# t0 = kw['end']#a10.compr.pack.end\n",
    "# # kw = a11.packing(t0,ndata=-1,level='raw'); phi.saving(i,**kw); PHI.saving(i,**kw); dt += a11.raw.pack.cpu_time * a11.raw.pack.this_run\n",
    "# kw = a11.processing(t0,ndata=-1,partialStore=0x00,level='raw',nout=5); phi.saving(i,**kw); PHI.saving(i,**kw); dt += kw['end'] - kw['start']\n",
    "# # kw = a11.compressing(kw['end'], nbits = 6, ndata = -1,level='proc'); phi.saving(i,**kw); PHI.saving(i,**kw); dtc += kw['end'] - kw['start']\n",
    "# # a11, kw = flush_many([max_fl - a10.compr.pack.data*1e6/2**20,max_fl], 15.7, a11, kw['end'], 6, -1, 'proc',i)#; phi.saving(i,**kw); PHI.saving(i,**kw); \n",
    "# a11, kw = flush_many([max_fl - a13.compr.pack.data*1e6/2**20,max_fl], 15.7, a11, kw['end'], 6, -1, 'proc',i)#; phi.saving(i,**kw); PHI.saving(i,**kw); \n",
    "# printp(a11, label = 'Nanoflares - 2 (full processing)')\n",
    "# print('compression end:', kw['end'].isoformat())\n",
    "# print('==============================')\n",
    "\n",
    "end = kw['end']"
   ]
  },
  {
   "cell_type": "markdown",
   "metadata": {},
   "source": [
    "# <span style=\"color:magenta\">***RESET NAND 2***</span>"
   ]
  },
  {
   "cell_type": "code",
   "execution_count": 26,
   "metadata": {},
   "outputs": [
    {
     "name": "stdout",
     "output_type": "stream",
     "text": [
      "amount of compressed data + metadata in partition 1: 1.47 GB\n",
      "amount of compressed data + metadata in partition 2: 12.29 GB\n"
     ]
    }
   ],
   "source": [
    "# print('amount of compressed data + metadata in partition 1:',round(PHI.part1.compr*1e6/2**30,2), 'GiB')\n",
    "# print('amount of compressed data + metadata in partition 2:',round(PHI.part2.compr*1e6/2**30,2), 'GiB')\n",
    "# tm0 = datetime.datetime(2022,3,2,0,0,0)\n",
    "# tm1 = datetime.datetime(2022,3,15,0,0,0)\n",
    "# _ = tm_avail(tm0,tm1,df_tm,frac=.2)\n",
    "print('amount of compressed data + metadata in partition 1:',round(PHI.part1.compr*1e-3,2), 'GB')\n",
    "print('amount of compressed data + metadata in partition 2:',round(PHI.part2.compr*1e-3,2), 'GB')\n",
    "# print('TM time:',round((PHI.part1.compr + PHI.part2.compr)/2151.3,2), 'days')\n",
    "\n",
    "# PHI.format_partition(1,end + datetime.timedelta(hours=1))\n",
    "# phi.format_partition(1,end + datetime.timedelta(hours=1))\n",
    "PHI.format_partition(2,PHI.part2.history['end'][-1] + datetime.timedelta(hours=.5))\n",
    "phi.format_partition(2,PHI.part2.history['end'][-1] + datetime.timedelta(hours=.5))\n"
   ]
  },
  {
   "cell_type": "code",
   "execution_count": 27,
   "metadata": {},
   "outputs": [
    {
     "data": {
      "image/png": "[encoded data removed]",
      "text/plain": [
       "<Figure size 1080x576 with 2 Axes>"
      ]
     },
     "metadata": {
      "needs_background": "light"
     },
     "output_type": "display_data"
    }
   ],
   "source": [
    "# xlim = (datetime.datetime(2022,3,10,0,00,0),datetime.datetime(2022,3,16,0,0,0))\n",
    "plot_tot(phi,ylim=(0,250), xlim=None)\n",
    "# plt.savefig('/home/calchetti/MPStemp/pics/TM/conj_v5.1.png')"
   ]
  },
  {
   "cell_type": "code",
   "execution_count": 28,
   "metadata": {},
   "outputs": [
    {
     "data": {
      "image/png": "[encoded data removed]",
      "text/plain": [
       "<Figure size 1080x576 with 2 Axes>"
      ]
     },
     "metadata": {
      "needs_background": "light"
     },
     "output_type": "display_data"
    }
   ],
   "source": [
    "xlim = (datetime.datetime(2022,3,13,0,0,0),datetime.datetime(2022,3,19,0,0,0))\n",
    "plot_tot(PHI,ylim=(0,200), xlim=xlim)\n"
   ]
  },
  {
   "cell_type": "markdown",
   "metadata": {},
   "source": [
    "# <span style=\"color:orange\"> *RSW 2*</span>"
   ]
  },
  {
   "cell_type": "markdown",
   "metadata": {},
   "source": [
    "# <span style=\"color:blue\">FDT Flat Calibration</span>"
   ]
  },
  {
   "cell_type": "code",
   "execution_count": 29,
   "metadata": {},
   "outputs": [
    {
     "name": "stdout",
     "output_type": "stream",
     "text": [
      "\n",
      "FDT FLat Calibration - 2\n",
      "number of datasets: 9\n",
      "cadence: 6 mins\n",
      "duration: 0:55:00\n",
      "amount of raw-data at 32 bits: 3570.6 MiB, 396.7 MiB per dataset\n",
      "amount of pack-data at 16 bits: 1853.9 MiB, 206.0 MiB per dataset\n",
      "packing time: 0:12:34.257600\n",
      "compressing (+ flushing) time: 1:30:36.465984\n",
      "amount of compressed data + metadata at 6 bits: 648.1 MiB, 72.0 MiB per dataset\n",
      "amount of metadata:  144 MiB\n",
      "amount of memory usage: 5424.5 MiB\n",
      "\n"
     ]
    }
   ],
   "source": [
    "# phi = PHI_MEMORY(datetime.datetime.fromisoformat('2022-03-15T23:30:00'))\n",
    "i = 1\n",
    "###########################################################\n",
    "t0 = datetime.datetime.fromisoformat('2022-03-16T00:00:00')\n",
    "t1 = datetime.datetime.fromisoformat('2022-03-16T00:55:00')\n",
    "a15 = PHI_MODE('FDT')\n",
    "kw = a15.observation(t0,t1,cadence=6,shape=(2048,2048,4,6)); phi.saving(1,**kw); PHI.saving(1,**kw)\n",
    "\n",
    "kw = a15.packing(kw['end'],ndata=-1,level='raw'); phi.saving(i,**kw); PHI.saving(i,**kw)\n",
    "kw = a15.compressing(kw['end'], nbits = 6, ndata = -1,level='raw.pack'); phi.saving(i,**kw); PHI.saving(i,**kw)\n",
    "\n",
    "print('')\n",
    "printp(a15, label='FDT FLat Calibration - 2')\n",
    "\n",
    "# print('packing duration:',a15.raw.pack.end)\n",
    "########################################################\n",
    "# printp(a15)\n",
    "\n",
    "# _ = phi.plot(1,bar=True)\n",
    "# plot_tot(PHI)"
   ]
  },
  {
   "cell_type": "markdown",
   "metadata": {},
   "source": [
    "# <span style=\"color:blue\">R_BOTH_HRES_HCAD_Nanoflares</span>"
   ]
  },
  {
   "cell_type": "code",
   "execution_count": 30,
   "metadata": {},
   "outputs": [
    {
     "name": "stdout",
     "output_type": "stream",
     "text": [
      "Days needed: 1\n",
      "Exceeding the number of datasets, ndata set to 60\n",
      "\n",
      "R_BOTH_HRES_HCAD_Nanoflares - 3\n",
      "number of datasets: 60\n",
      "cadence: 1 mins\n",
      "duration: 1:00:00\n",
      "amount of raw-data at 32 bits: 23803.7 MiB, 396.7 MiB per dataset\n",
      "processing time: 1 day, 11:00:00\n",
      "amount of processed data (and intermediate data) at 16 bits: 26550.3 MiB, 53.4 MiB per dataset\n",
      "compressing (+ flushing) time: 2:09:25.747200\n",
      "amount of compressed data + metadata at 6 bits: 925.7 MiB, 15.4 MiB per dataset\n",
      "amount of metadata:  960 MiB\n",
      "amount of memory usage: 50811.8 MiB\n",
      "\n"
     ]
    }
   ],
   "source": [
    "# phi = PHI_MEMORY(datetime.datetime.fromisoformat('2022-03-16T23:30:00'))\n",
    "i = 2\n",
    "########################################################\n",
    "t0 = datetime.datetime.fromisoformat('2022-03-17T00:00:00')\n",
    "t1 = t0 + datetime.timedelta(hours=1)\n",
    "a14 = PHI_MODE('HRT')\n",
    "kw = a14.observation(t0,t1,cadence=1,shape=(2048,2048,4,6)); phi.saving(i,**kw); PHI.saving(i,**kw)\n",
    "\n",
    "# kw = a14.packing(kw['end'],ndata=-1,level='raw'); phi.saving(i,**kw); PHI.saving(i,**kw); dt += kw['end'] - kw['start']\n",
    "# kw = a14.compressing(kw['end'], nbits = 6, ndata = -1,level='raw.pack'); phi.saving(i,**kw); PHI.saving(i,**kw)\n",
    "# dtc += kw['end'] - kw['start']\n",
    "\n",
    "kw = a14.processing(kw['end'],ndata=-1,partialStore=0x00,level='raw',nout=5); phi.saving(i,**kw); PHI.saving(i,**kw); dt += kw['end'] - kw['start']\n",
    "a14, kw = flush_many([4000 - a15.compr.pack.data*1e6/2**20,4000], 15.7, a14, kw['end'], 6, -1, 'proc',i)#; phi.saving(i,**kw); PHI.saving(i,**kw); \n",
    "\n",
    "# kw = a14.compressing(kw['end'], nbits = 6, ndata = -1,level='proc'); phi.saving(i,**kw); PHI.saving(i,**kw); dtc += kw['end'] - kw['start']\n",
    "\n",
    "print('')\n",
    "printp(a14, label='R_BOTH_HRES_HCAD_Nanoflares - 3')\n",
    "########################################################\n",
    "# printp(a14)\n",
    "# plot_tot(PHI)"
   ]
  },
  {
   "cell_type": "markdown",
   "metadata": {},
   "source": [
    "# <span style=\"color:blue\">L_SMALL_HRES_HCAD_Slow-Wind-Connection L_FULL_HRES_HCAD_Coronal-Dynamics L_FULL_HRES_HCAD_Eruption-Watch</span>\n",
    "## <span style=\"color:blue\">Part 1 </span>"
   ]
  },
  {
   "cell_type": "code",
   "execution_count": 31,
   "metadata": {},
   "outputs": [
    {
     "name": "stdout",
     "output_type": "stream",
     "text": [
      "20 total datasets:\n",
      "\n",
      "L_FULL_HRES_HCAD_Coronal-Dynamics - 2\n",
      "number of datasets: 1\n",
      "cadence: 1 mins\n",
      "duration: 0:01:00\n",
      "amount of raw-data at 32 bits: 351.0 MiB, 351.0 MiB per dataset\n",
      "amount of crop-data at 32 bits: 305.2 MiB, 305.2 MiB per dataset\n",
      "cropping time: 0:01:01.366000\n",
      "processing time: 0:35:00\n",
      "amount of processed data (and intermediate data) at 16 bits: 343.3 MiB, 45.8 MiB per dataset\n",
      "compressing (+ flushing) time: 0:01:39.937920\n",
      "amount of compressed data + metadata at 6 bits: 11.9 MiB, 11.9 MiB per dataset\n",
      "amount of metadata:  24 MiB\n",
      "amount of memory usage: 1007.1 MiB\n",
      "\n"
     ]
    }
   ],
   "source": [
    "# phi = PHI_MEMORY(datetime.datetime.fromisoformat('2022-03-16T23:30:00'))\n",
    "i=1\n",
    "########################################################\n",
    "\n",
    "t0 = datetime.datetime.fromisoformat('2022-03-17T00:00:00')\n",
    "t1 = t0 + datetime.timedelta(days=5,hours=0)\n",
    "\n",
    "cad = 6*60\n",
    "N = int((t1 - t0).total_seconds() / (60*cad))\n",
    "\n",
    "ti = t0\n",
    "deltat = (t1 - t0)/N\n",
    "min1 = datetime.timedelta(minutes=1)\n",
    "for n in range(N):\n",
    "    a16 = PHI_MODE('FDT')\n",
    "    # ti = ti + dt\n",
    "    kw = a16.observation(ti,ti+min1,cadence=1,shape=(2048,1792,4,6));\n",
    "    phi.saving(1,**kw); PHI.saving(1,**kw)\n",
    "\n",
    "    t0 = a16.raw.end\n",
    "    kw = a16.cropping(t0,ndata=-1,crop=[1792,1792],level='raw');\n",
    "    phi.saving(i,**kw); PHI.saving(i,**kw)\n",
    "    dt += kw['end'] - kw['start']\n",
    "    # kw = a16.packing(a16.raw.crop.end,ndata=-1,level='raw.crop');\n",
    "    # phi.saving(i,**kw); PHI.saving(i,**kw)\n",
    "    # dt += kw['end'] - kw['start']\n",
    "    kw = a16.processing(a16.raw.crop.end,ndata=-1,partialStore=0x00,level='raw.crop',nout=5);\n",
    "    phi.saving(i,**kw); PHI.saving(i,**kw)\n",
    "    dt += kw['end'] - kw['start']\n",
    "    kw = a16.compressing(kw['end'], nbits = 6, ndata = -1,level='proc.crop'); phi.saving(i,**kw);\n",
    "    PHI.saving(i,**kw)\n",
    "    dtc += kw['end'] - kw['start']\n",
    "    ti = ti + deltat\n",
    "    # t0 = ti\n",
    "\n",
    "    # printp(a16)\n",
    "    # print('')\n",
    "\n",
    "print(N,'total datasets:\\n')\n",
    "printp(a16, label='L_FULL_HRES_HCAD_Coronal-Dynamics - 2')"
   ]
  },
  {
   "cell_type": "markdown",
   "metadata": {},
   "source": [
    "# <span style=\"color:blue\">L_SMAL_HRES_HCAD_Slow-Wind-Connection</span>"
   ]
  },
  {
   "cell_type": "code",
   "execution_count": 32,
   "metadata": {},
   "outputs": [
    {
     "name": "stdout",
     "output_type": "stream",
     "text": [
      "\n",
      "L_SMAL_HRES_HCAD_Slow-Wind-Connection - HiRes\n",
      "number of datasets: 20\n",
      "cadence: 1 mins\n",
      "duration: 0:20:00\n",
      "amount of raw-data at 32 bits: 7934.6 MiB, 396.7 MiB per dataset\n",
      "processing time: 11:40:00\n",
      "amount of processed data (and intermediate data) at 16 bits: 8850.1 MiB, 53.4 MiB per dataset\n",
      "compressing (+ flushing) time: 0:43:08.582400\n",
      "amount of compressed data + metadata at 6 bits: 308.6 MiB, 15.4 MiB per dataset\n",
      "amount of metadata:  320 MiB\n",
      "amount of memory usage: 16937.3 MiB\n",
      "\n",
      "==============================\n",
      "\n",
      "L_SMAL_HRES_HCAD_Slow-Wind-Connection - HiRes\n",
      "number of datasets: 20\n",
      "cadence: 1 mins\n",
      "duration: 0:20:00\n",
      "amount of raw-data at 32 bits: 7934.6 MiB, 396.7 MiB per dataset\n",
      "processing time: 11:40:00\n",
      "amount of processed data (and intermediate data) at 16 bits: 8850.1 MiB, 53.4 MiB per dataset\n",
      "compressing (+ flushing) time: 0:43:08.582400\n",
      "amount of compressed data + metadata at 6 bits: 308.6 MiB, 15.4 MiB per dataset\n",
      "amount of metadata:  320 MiB\n",
      "amount of memory usage: 16937.3 MiB\n",
      "\n",
      "==============================\n",
      "\n",
      "L_SMAL_HRES_HCAD_Slow-Wind-Connection - HiRes\n",
      "number of datasets: 20\n",
      "cadence: 1 mins\n",
      "duration: 0:20:00\n",
      "amount of raw-data at 32 bits: 7934.6 MiB, 396.7 MiB per dataset\n",
      "processing time: 11:40:00\n",
      "amount of processed data (and intermediate data) at 16 bits: 8850.1 MiB, 53.4 MiB per dataset\n",
      "compressing (+ flushing) time: 0:43:08.582400\n",
      "amount of compressed data + metadata at 6 bits: 308.6 MiB, 15.4 MiB per dataset\n",
      "amount of metadata:  320 MiB\n",
      "amount of memory usage: 16937.3 MiB\n",
      "\n",
      "==============================\n",
      "\n",
      "L_SMAL_HRES_HCAD_Slow-Wind-Connection - HiRes\n",
      "number of datasets: 20\n",
      "cadence: 1 mins\n",
      "duration: 0:20:00\n",
      "amount of raw-data at 32 bits: 7934.6 MiB, 396.7 MiB per dataset\n",
      "processing time: 11:40:00\n",
      "amount of processed data (and intermediate data) at 16 bits: 8850.1 MiB, 53.4 MiB per dataset\n",
      "compressing (+ flushing) time: 0:43:08.582400\n",
      "amount of compressed data + metadata at 6 bits: 308.6 MiB, 15.4 MiB per dataset\n",
      "amount of metadata:  320 MiB\n",
      "amount of memory usage: 16937.3 MiB\n",
      "\n",
      "==============================\n",
      "\n",
      "L_SMAL_HRES_HCAD_Slow-Wind-Connection - HiRes\n",
      "number of datasets: 60\n",
      "cadence: 1 mins\n",
      "duration: 1:00:00\n",
      "amount of raw-data at 32 bits: 23803.7 MiB, 396.7 MiB per dataset\n",
      "processing time: 1 day, 11:00:00\n",
      "amount of processed data (and intermediate data) at 16 bits: 26550.3 MiB, 53.4 MiB per dataset\n",
      "compressing (+ flushing) time: 2:09:25.747200\n",
      "amount of compressed data + metadata at 6 bits: 925.7 MiB, 15.4 MiB per dataset\n",
      "amount of metadata:  960 MiB\n",
      "amount of memory usage: 50811.8 MiB\n",
      "\n",
      "==============================\n"
     ]
    }
   ],
   "source": [
    "\n",
    "# phi = PHI_MEMORY(datetime.datetime.fromisoformat('2022-03-25T23:30:00'))\n",
    "i = 2\n",
    "########################################################\n",
    "t0 = datetime.datetime.fromisoformat('2022-03-18T00:00:00')\n",
    "t1 = t0 + datetime.timedelta(minutes=20)\n",
    "a16_1 = PHI_MODE('HRT')\n",
    "kw = a16_1.observation(t0,t1,cadence=1,shape=(2048,2048,4,6)); phi.saving(i,**kw); PHI.saving(i,**kw)\n",
    "\n",
    "# kw = a16_1.packing(kw['end'],ndata=-1,level='raw'); phi.saving(i,**kw); PHI.saving(i,**kw)\n",
    "# dt += kw['end'] - kw['start']\n",
    "kw = a16_1.processing(kw['end']+datetime.timedelta(hours=2),ndata=-1,partialStore=0x00,level='raw',nout=5); phi.saving(i,**kw); PHI.saving(i,**kw)\n",
    "dt += kw['end'] - kw['start']\n",
    "\n",
    "kw = a16_1.compressing(kw['end'], nbits = 6, ndata = -1,level='proc'); phi.saving(i,**kw); PHI.saving(i,**kw)\n",
    "dtc += kw['end'] - kw['start']\n",
    "\n",
    "print('')\n",
    "printp(a16_1, label='L_SMAL_HRES_HCAD_Slow-Wind-Connection - HiRes')\n",
    "print('==============================')\n",
    "\n",
    "t0 = datetime.datetime.fromisoformat('2022-03-19T00:00:00')\n",
    "t1 = t0 + datetime.timedelta(minutes=20)\n",
    "a16_1 = PHI_MODE('HRT')\n",
    "kw = a16_1.observation(t0,t1,cadence=1,shape=(2048,2048,4,6)); phi.saving(i,**kw); PHI.saving(i,**kw)\n",
    "\n",
    "# kw = a16_1.packing(kw['end'],ndata=-1,level='raw'); phi.saving(i,**kw); PHI.saving(i,**kw)\n",
    "# dt += kw['end'] - kw['start']\n",
    "kw = a16_1.processing(kw['end']+datetime.timedelta(hours=2),ndata=-1,partialStore=0x00,level='raw',nout=5); phi.saving(i,**kw); PHI.saving(i,**kw)\n",
    "dt += kw['end'] - kw['start']\n",
    "\n",
    "kw = a16_1.compressing(kw['end'], nbits = 6, ndata = -1,level='proc'); phi.saving(i,**kw); PHI.saving(i,**kw)\n",
    "dtc += kw['end'] - kw['start']\n",
    "\n",
    "print('')\n",
    "printp(a16_1, label='L_SMAL_HRES_HCAD_Slow-Wind-Connection - HiRes')\n",
    "print('==============================')\n",
    "t0 = datetime.datetime.fromisoformat('2022-03-20T00:00:00')\n",
    "t1 = t0 + datetime.timedelta(minutes=20)\n",
    "a16_1 = PHI_MODE('HRT')\n",
    "kw = a16_1.observation(t0,t1,cadence=1,shape=(2048,2048,4,6)); phi.saving(i,**kw); PHI.saving(i,**kw)\n",
    "\n",
    "# kw = a16_1.packing(kw['end'],ndata=-1,level='raw'); phi.saving(i,**kw); PHI.saving(i,**kw)\n",
    "# dt += kw['end'] - kw['start']\n",
    "kw = a16_1.processing(kw['end']+datetime.timedelta(hours=2),ndata=-1,partialStore=0x00,level='raw',nout=5); phi.saving(i,**kw); PHI.saving(i,**kw)\n",
    "dt += kw['end'] - kw['start']\n",
    "\n",
    "kw = a16_1.compressing(kw['end'], nbits = 6, ndata = -1,level='proc'); phi.saving(i,**kw); PHI.saving(i,**kw)\n",
    "dtc += kw['end'] - kw['start']\n",
    "\n",
    "print('')\n",
    "printp(a16_1, label='L_SMAL_HRES_HCAD_Slow-Wind-Connection - HiRes')\n",
    "print('==============================')\n",
    "t0 = datetime.datetime.fromisoformat('2022-03-21T00:00:00')\n",
    "t1 = t0 + datetime.timedelta(minutes=20)\n",
    "a16_1 = PHI_MODE('HRT')\n",
    "kw = a16_1.observation(t0,t1,cadence=1,shape=(2048,2048,4,6)); phi.saving(i,**kw); PHI.saving(i,**kw)\n",
    "\n",
    "# kw = a16_1.packing(kw['end'],ndata=-1,level='raw'); phi.saving(i,**kw); PHI.saving(i,**kw)\n",
    "# dt += kw['end'] - kw['start']\n",
    "kw = a16_1.processing(kw['end']+datetime.timedelta(hours=2),ndata=-1,partialStore=0x00,level='raw',nout=5); phi.saving(i,**kw); PHI.saving(i,**kw)\n",
    "dt += kw['end'] - kw['start']\n",
    "\n",
    "kw = a16_1.compressing(kw['end'], nbits = 6, ndata = -1,level='proc'); phi.saving(i,**kw); PHI.saving(i,**kw)\n",
    "dtc += kw['end'] - kw['start']\n",
    "\n",
    "print('')\n",
    "printp(a16_1, label='L_SMAL_HRES_HCAD_Slow-Wind-Connection - HiRes')\n",
    "print('==============================')\n",
    "t0 = datetime.datetime.fromisoformat('2022-03-22T00:00:00')\n",
    "t1 = t0 + datetime.timedelta(minutes=60)\n",
    "a16_1 = PHI_MODE('HRT')\n",
    "kw = a16_1.observation(t0,t1,cadence=1,shape=(2048,2048,4,6)); phi.saving(i,**kw); PHI.saving(i,**kw)\n",
    "\n",
    "# kw = a16_1.packing(kw['end'],ndata=-1,level='raw'); phi.saving(i,**kw); PHI.saving(i,**kw)\n",
    "# dt += kw['end'] - kw['start']\n",
    "kw = a16_1.processing(kw['end']+datetime.timedelta(hours=2),ndata=-1,partialStore=0x00,level='raw',nout=5); phi.saving(i,**kw); PHI.saving(i,**kw)\n",
    "dt += kw['end'] - kw['start']\n",
    "\n",
    "kw = a16_1.compressing(kw['end'], nbits = 6, ndata = -1,level='proc'); phi.saving(i,**kw); PHI.saving(i,**kw)\n",
    "dtc += kw['end'] - kw['start']\n",
    "\n",
    "print('')\n",
    "printp(a16_1, label='L_SMAL_HRES_HCAD_Slow-Wind-Connection - HiRes')\n",
    "print('==============================')\n",
    "\n",
    "# plot_tot(PHI)"
   ]
  },
  {
   "cell_type": "markdown",
   "metadata": {},
   "source": [
    "# <span style=\"color:red\"> Flushing RSW1 data from partition 1</span>"
   ]
  },
  {
   "cell_type": "code",
   "execution_count": 33,
   "metadata": {},
   "outputs": [
    {
     "name": "stdout",
     "output_type": "stream",
     "text": [
      "2022-03-23 16:09:25.747200\n",
      "Days needed: 3\n",
      "Exceeding the number of datasets, ndata set to 8\n",
      "Days needed: 4\n",
      "Exceeding the number of datasets, ndata set to 20\n",
      "compressed data:  12.081035520000002\n"
     ]
    }
   ],
   "source": [
    "print(kw['end'])\n",
    "i = 1\n",
    "# kw = a7.compressing(kw['end'], nbits = 6, ndata = -1,level='raw.pack'); phi.saving(1,**kw); PHI.saving(1,**kw); dtc += kw['end'] - kw['start']\n",
    "\n",
    "a7, kw = flush_many([2000,2000], 72.7, a7, kw['end'], 6, a7.raw.n_datasets-10 , 'raw.pack',i)#; phi.saving(i,**kw); PHI.saving(i,**kw); \n",
    "\n",
    "# kw = a8.compressing(kw['end'], nbits = 6, ndata = -1,level='raw.pack'); phi.saving(1,**kw); PHI.saving(1,**kw); dtc += kw['end'] - kw['start']\n",
    "a8, kw = flush_many([2000 - a7.compr.pack.data*1e6/2**20,2000], 72.7, a8, kw['end'], 6, -1, 'raw.pack',i)#; phi.saving(i,**kw); PHI.saving(i,**kw); \n",
    "\n",
    "print('compressed data: ',(a7.compr.pack.data_tot + a8.compr.pack.data_tot)/1e3)\n"
   ]
  },
  {
   "cell_type": "markdown",
   "metadata": {},
   "source": [
    "# <span style=\"color:blue\">L_SMALL_HRES_HCAD_Slow-Wind-Connection L_FULL_HRES_HCAD_Coronal-Dynamics L_FULL_HRES_HCAD_Eruption-Watch</span>\n",
    "## <span style=\"color:blue\">Part 2 </span>"
   ]
  },
  {
   "cell_type": "code",
   "execution_count": 34,
   "metadata": {},
   "outputs": [
    {
     "name": "stdout",
     "output_type": "stream",
     "text": [
      "32 total datasets:\n",
      "\n",
      "L_FULL_HRES_HCAD_Coronal-Dynamics - 2\n",
      "number of datasets: 1\n",
      "cadence: 1 mins\n",
      "duration: 0:01:00\n",
      "amount of raw-data at 32 bits: 351.0 MiB, 351.0 MiB per dataset\n",
      "amount of crop-data at 32 bits: 305.2 MiB, 305.2 MiB per dataset\n",
      "cropping time: 0:01:01.366000\n",
      "processing time: 0:35:00\n",
      "amount of processed data (and intermediate data) at 16 bits: 343.3 MiB, 45.8 MiB per dataset\n",
      "compressing (+ flushing) time: 0:01:39.937920\n",
      "amount of compressed data + metadata at 6 bits: 11.9 MiB, 11.9 MiB per dataset\n",
      "amount of metadata:  24 MiB\n",
      "amount of memory usage: 1007.1 MiB\n",
      "\n"
     ]
    }
   ],
   "source": [
    "# phi = PHI_MEMORY(datetime.datetime.fromisoformat('2022-03-16T23:30:00'))\n",
    "i=1\n",
    "########################################################\n",
    "\n",
    "t0 = datetime.datetime.fromisoformat('2022-03-22T00:00:00')\n",
    "t1 = t0 + datetime.timedelta(days=8,hours=0)\n",
    "\n",
    "cad = 6*60\n",
    "N = int((t1 - t0).total_seconds() / (60*cad))\n",
    "\n",
    "ti = t0\n",
    "deltat = (t1 - t0)/N\n",
    "min1 = datetime.timedelta(minutes=1)\n",
    "for n in range(N):\n",
    "    a16 = PHI_MODE('FDT')\n",
    "    # ti = ti + dt\n",
    "    kw = a16.observation(ti,ti+min1,cadence=1,shape=(2048,1792,4,6));\n",
    "    phi.saving(1,**kw); PHI.saving(1,**kw)\n",
    "\n",
    "    t0 = a16.raw.end\n",
    "    kw = a16.cropping(t0,ndata=-1,crop=[1792,1792],level='raw');\n",
    "    phi.saving(i,**kw); PHI.saving(i,**kw)\n",
    "    dt += kw['end'] - kw['start']\n",
    "    kw = a16.processing(a16.raw.crop.end,ndata=-1,partialStore=0x00,level='raw.crop',nout=5);\n",
    "    phi.saving(i,**kw); PHI.saving(i,**kw)\n",
    "    dt += kw['end'] - kw['start']\n",
    "    kw = a16.compressing(a16.proc.crop.end, nbits = 6, ndata = -1,level='proc.crop'); phi.saving(i,**kw);\n",
    "    PHI.saving(i,**kw)\n",
    "    dtc += kw['end'] - kw['start']\n",
    "    ti = ti + deltat\n",
    "    # t0 = ti\n",
    "\n",
    "    # printp(a16)\n",
    "    # print('')\n",
    "\n",
    "print(N,'total datasets:\\n')\n",
    "printp(a16, label='L_FULL_HRES_HCAD_Coronal-Dynamics - 2')"
   ]
  },
  {
   "cell_type": "markdown",
   "metadata": {},
   "source": [
    "# <span style=\"color:magenta\">***RESET NANDs***</span>"
   ]
  },
  {
   "cell_type": "code",
   "execution_count": 35,
   "metadata": {},
   "outputs": [
    {
     "name": "stdout",
     "output_type": "stream",
     "text": [
      "cropping, processing and packing duration: 9 days, 13:44:23.774560\n",
      "compression duration: 8:00:41.848640\n"
     ]
    }
   ],
   "source": [
    "print('cropping, processing and packing duration:',dt)\n",
    "print('compression duration:',dtc)"
   ]
  },
  {
   "cell_type": "code",
   "execution_count": 36,
   "metadata": {},
   "outputs": [
    {
     "name": "stdout",
     "output_type": "stream",
     "text": [
      "amount of compressed data + metadata in partition 1: 14.13 GB\n",
      "amount of compressed data + metadata in partition 2: 3.24 GB\n"
     ]
    }
   ],
   "source": [
    "end = kw['end']\n",
    "# tm0 = datetime.datetime(2022,3,16,0,0,0)\n",
    "# tm1 = datetime.datetime(2022,3,30,0,0,0)\n",
    "# _ = tm_avail(tm0,tm1,df_tm,frac=.2)\n",
    "print('amount of compressed data + metadata in partition 1:',round(PHI.part1.compr*1e-3,2), 'GB')\n",
    "print('amount of compressed data + metadata in partition 2:',round(PHI.part2.compr*1e-3,2), 'GB')\n",
    "# print('TM time:',round((PHI.part1.compr + PHI.part2.compr)/1464,2), 'days')\n",
    "\n",
    "PHI.format_partition(1,end)\n",
    "PHI.format_partition(2,PHI.part1.history['end'][-1] + datetime.timedelta(hours=.5))\n",
    "phi.format_partition(1,end)\n",
    "phi.format_partition(2,PHI.part1.history['end'][-1] + datetime.timedelta(hours=.5))\n"
   ]
  },
  {
   "cell_type": "code",
   "execution_count": 37,
   "metadata": {},
   "outputs": [
    {
     "data": {
      "image/png": "[encoded data removed]",
      "text/plain": [
       "<Figure size 1080x576 with 2 Axes>"
      ]
     },
     "metadata": {
      "needs_background": "light"
     },
     "output_type": "display_data"
    }
   ],
   "source": [
    "plot_tot(phi, time_ord=True, ylim=(0,300))"
   ]
  },
  {
   "cell_type": "markdown",
   "metadata": {},
   "source": [
    "# <span style=\"color:orange\"> *RSW 3*</span>"
   ]
  },
  {
   "cell_type": "code",
   "execution_count": 38,
   "metadata": {},
   "outputs": [],
   "source": [
    "dt = datetime.timedelta(seconds=0)\n",
    "dtc = datetime.timedelta(seconds=0)\n"
   ]
  },
  {
   "cell_type": "markdown",
   "metadata": {},
   "source": [
    "# <span style=\"color:blue\">R_BOTH_HRES_HCAD_Nanoflares</span>"
   ]
  },
  {
   "cell_type": "code",
   "execution_count": 39,
   "metadata": {},
   "outputs": [
    {
     "name": "stdout",
     "output_type": "stream",
     "text": [
      "R_BOTH_HRES_HCAD_Nanoflares - 4 (observation)\n",
      "number of datasets: 60\n",
      "cadence: 1 mins\n",
      "duration: 1:00:00\n",
      "amount of raw-data at 32 bits: 23803.7 MiB, 396.7 MiB per dataset\n",
      "amount of metadata:  480 MiB\n",
      "amount of memory usage: 23803.7 MiB\n",
      "\n"
     ]
    }
   ],
   "source": [
    "# phi = PHI_MEMORY(datetime.datetime.fromisoformat('2022-03-29T23:30:00'))\n",
    "i = 2\n",
    "########################################################\n",
    "t0 = datetime.datetime.fromisoformat('2022-03-30T00:00:00')\n",
    "t1 = t0 + datetime.timedelta(hours=1)\n",
    "a14_1 = PHI_MODE('HRT')\n",
    "kw = a14_1.observation(t0,t1,cadence=1,shape=(2048,2048,4,6)); phi.saving(i,**kw); PHI.saving(i,**kw)\n",
    "\n",
    "########################################################\n",
    "# print('N datsets:',a14_1.raw.n_datasets)\n",
    "printp(a14_1, label='R_BOTH_HRES_HCAD_Nanoflares - 4 (observation)')\n",
    "# plot_tot(PHI)"
   ]
  },
  {
   "cell_type": "markdown",
   "metadata": {},
   "source": [
    "# <span style=\"color:blue\">R_SMALL_HRES_MCAD_Polar-Observations</span>"
   ]
  },
  {
   "cell_type": "code",
   "execution_count": 40,
   "metadata": {},
   "outputs": [
    {
     "name": "stdout",
     "output_type": "stream",
     "text": [
      "R_SMALL_HRES_MCAD_Polar-Observations - 2 (observation)\n",
      "number of datasets: 45\n",
      "cadence: 2 mins\n",
      "duration: 1:30:00\n",
      "amount of raw-data at 32 bits: 17852.8 MiB, 396.7 MiB per dataset\n",
      "amount of metadata:  360 MiB\n",
      "amount of memory usage: 17852.8 MiB\n",
      "\n"
     ]
    }
   ],
   "source": [
    "# phi = PHI_MEMORY(datetime.datetime.fromisoformat('2022-03-30T05:30:00'))\n",
    "i = 2\n",
    "t0 = datetime.datetime.fromisoformat('2022-03-30T03:30:00')\n",
    "t1 = datetime.datetime.fromisoformat('2022-03-30T05:00:00')\n",
    "a7_1 = PHI_MODE('HRT')\n",
    "kw = a7_1.observation(t0,t1,cadence=2,shape=(2048,2048,4,6)); phi.saving(i,**kw); PHI.saving(i,**kw)\n",
    "\n",
    "# print('N datsets:',a7_1.raw.n_datasets)\n",
    "printp(a7_1, label='R_SMALL_HRES_MCAD_Polar-Observations - 2 (observation)')\n"
   ]
  },
  {
   "cell_type": "markdown",
   "metadata": {},
   "source": [
    "# <span style=\"color:blue\">L_SMALL_MRES_MCAD_Connection-Mosaic</span>"
   ]
  },
  {
   "cell_type": "code",
   "execution_count": 41,
   "metadata": {},
   "outputs": [
    {
     "name": "stdout",
     "output_type": "stream",
     "text": [
      "L_SMALL_MRES_MCAD_Connection-Mosaic - 2 (observation)\n",
      "number of datasets: 81\n",
      "cadence: 20 mins\n",
      "duration: 1 day, 3:00:00\n",
      "amount of raw-data at 32 bits: 32135.0 MiB, 396.7 MiB per dataset\n",
      "amount of metadata:  648 MiB\n",
      "amount of memory usage: 32135.0 MiB\n",
      "\n"
     ]
    }
   ],
   "source": [
    "# phi = PHI_MEMORY(datetime.datetime.fromisoformat('2022-03-29T23:30:00'))\n",
    "i = 2\n",
    "########################################################\n",
    "t0 = datetime.datetime.fromisoformat('2022-03-30T09:00:00')\n",
    "t1 = datetime.datetime.fromisoformat('2022-03-31T12:00:00')\n",
    "a17 = PHI_MODE('HRT')\n",
    "\n",
    "kw = a17.observation(t0,t1,cadence=20,shape=(2048,2048,4,6)); phi.saving(i,**kw); PHI.saving(i,**kw)\n",
    "# print('N datsets:',a17.raw.n_datasets)\n",
    "\n",
    "########################################################\n",
    "printp(a17, label='L_SMALL_MRES_MCAD_Connection-Mosaic - 2 (observation)')\n",
    "# plot_tot(PHI)"
   ]
  },
  {
   "cell_type": "markdown",
   "metadata": {},
   "source": [
    "# <span style=\"color:blue\">R_SMALL_MRES_MCAD_AR-Long-Term</span>"
   ]
  },
  {
   "cell_type": "code",
   "execution_count": 42,
   "metadata": {},
   "outputs": [
    {
     "name": "stdout",
     "output_type": "stream",
     "text": [
      "R_SMALL_MRES_MCAD_AR-Long-Term (observation)\n",
      "number of datasets: 188\n",
      "cadence: 30 mins\n",
      "duration: 3 days, 22:24:00\n",
      "amount of raw-data at 32 bits: 74585.0 MiB, 396.7 MiB per dataset\n",
      "amount of metadata:  1504 MiB\n",
      "amount of memory usage: 74585.0 MiB\n",
      "\n"
     ]
    }
   ],
   "source": [
    "# phi = PHI_MEMORY(datetime.datetime.fromisoformat('2022-03-31T11:30:00'))\n",
    "i = 1\n",
    "########################################################\n",
    "t0 = datetime.datetime.fromisoformat('2022-03-31T17:56:00')\n",
    "t1 = datetime.datetime.fromisoformat('2022-04-04T16:20:00')\n",
    "a18 = PHI_MODE('HRT')\n",
    "kw = a18.observation(t0,t1,cadence=30,shape=(2048,2048,4,6)); phi.saving(i,**kw); PHI.saving(i,**kw)\n",
    "\n",
    "########################################################\n",
    "# print('N datsets:',a18.raw.n_datasets)\n",
    "printp(a18, label = 'R_SMALL_MRES_MCAD_AR-Long-Term (observation)')\n",
    "# plot_tot(PHI)"
   ]
  },
  {
   "cell_type": "markdown",
   "metadata": {},
   "source": [
    "# <span style=\"color:blue\">R_SMALL_HRES_MCAD_Polar-Observations</span>"
   ]
  },
  {
   "cell_type": "code",
   "execution_count": 43,
   "metadata": {},
   "outputs": [
    {
     "name": "stdout",
     "output_type": "stream",
     "text": [
      "R_SMALL_HRES_MCAD_Polar-Observations - 3 (observation)\n",
      "number of datasets: 62\n",
      "cadence: 30 mins\n",
      "duration: 1 day, 7:18:00\n",
      "amount of raw-data at 32 bits: 24597.2 MiB, 396.7 MiB per dataset\n",
      "amount of metadata:  496 MiB\n",
      "amount of memory usage: 24597.2 MiB\n",
      "\n"
     ]
    }
   ],
   "source": [
    "# phi = PHI_MEMORY(datetime.datetime.fromisoformat('2022-04-04T08:00:00'))\n",
    "i = 2\n",
    "t0 = datetime.datetime.fromisoformat('2022-04-04T16:25:00')\n",
    "t1 = datetime.datetime.fromisoformat('2022-04-05T23:43:00')\n",
    "a7_2 = PHI_MODE('HRT')\n",
    "kw = a7_2.observation(t0,t1,cadence=30,shape=(2048,2048,4,6)); phi.saving(i,**kw); PHI.saving(i,**kw)\n",
    "\n",
    "# print('N datsets:',a7_2.raw.n_datasets)\n",
    "printp(a7_2, label='R_SMALL_HRES_MCAD_Polar-Observations - 3 (observation)')\n",
    "end = kw['end']"
   ]
  },
  {
   "cell_type": "markdown",
   "metadata": {},
   "source": [
    "# <span style=\"color:red\">Processing and Flushing</span>"
   ]
  },
  {
   "cell_type": "code",
   "execution_count": 44,
   "metadata": {},
   "outputs": [
    {
     "name": "stdout",
     "output_type": "stream",
     "text": [
      "Days needed: 4\n",
      "Exceeding the number of datasets, ndata set to 2\n",
      "R_SMALL_MRES_MCAD_AR-Long-Term (full)\n",
      "number of datasets: 188\n",
      "cadence: 30 mins\n",
      "duration: 3 days, 22:24:00\n",
      "amount of raw-data at 32 bits: 74585.0 MiB, 396.7 MiB per dataset\n",
      "processing time: 4 days, 13:40:00\n",
      "amount of processed data (and intermediate data) at 16 bits: 83190.9 MiB, 53.4 MiB per dataset\n",
      "compressing (+ flushing) time: 0:04:18.858240\n",
      "amount of compressed data + metadata at 6 bits: 2900.7 MiB, 15.4 MiB per dataset\n",
      "amount of metadata:  3008 MiB\n",
      "amount of memory usage: 159210.2 MiB\n",
      "\n",
      "Days needed: 1\n",
      "Exceeding the number of datasets, ndata set to 60\n",
      "Nanoflares - 4 (full)\n",
      "number of datasets: 60\n",
      "cadence: 1 mins\n",
      "duration: 1:00:00\n",
      "amount of raw-data at 32 bits: 23803.7 MiB, 396.7 MiB per dataset\n",
      "processing time: 1 day, 11:00:00\n",
      "amount of processed data (and intermediate data) at 16 bits: 26550.3 MiB, 53.4 MiB per dataset\n",
      "compressing (+ flushing) time: 2:09:25.747200\n",
      "amount of compressed data + metadata at 6 bits: 925.7 MiB, 15.4 MiB per dataset\n",
      "amount of metadata:  960 MiB\n",
      "amount of memory usage: 50811.8 MiB\n",
      "\n",
      "==============================\n",
      "Days needed: 2\n",
      "Exceeding the number of datasets, ndata set to 41\n",
      "Polar Observation - 2 (full)\n",
      "number of datasets: 45\n",
      "cadence: 2 mins\n",
      "duration: 1:30:00\n",
      "amount of raw-data at 32 bits: 17852.8 MiB, 396.7 MiB per dataset\n",
      "processing time: 1 day, 2:15:00\n",
      "amount of processed data (and intermediate data) at 16 bits: 19912.7 MiB, 53.4 MiB per dataset\n",
      "compressing (+ flushing) time: 1:28:26.593920\n",
      "amount of compressed data + metadata at 6 bits: 694.3 MiB, 15.4 MiB per dataset\n",
      "amount of metadata:  720 MiB\n",
      "amount of memory usage: 38108.8 MiB\n",
      "\n",
      "==============================\n",
      "Days needed: 2\n",
      "Exceeding the number of datasets, ndata set to 59\n",
      "Connection Mosaic - 2 (full)\n",
      "number of datasets: 81\n",
      "cadence: 20 mins\n",
      "duration: 1 day, 3:00:00\n",
      "amount of raw-data at 32 bits: 32135.0 MiB, 396.7 MiB per dataset\n",
      "processing time: 1 day, 23:15:00\n",
      "amount of processed data (and intermediate data) at 16 bits: 35842.9 MiB, 53.4 MiB per dataset\n",
      "compressing (+ flushing) time: 2:07:16.318080\n",
      "amount of compressed data + metadata at 6 bits: 1249.8 MiB, 15.4 MiB per dataset\n",
      "amount of metadata:  1296 MiB\n",
      "amount of memory usage: 68595.9 MiB\n",
      "\n",
      "==============================\n",
      "Days needed: 2\n",
      "Exceeding the number of datasets, ndata set to 57\n",
      "Polar Observation - 3 (full)\n",
      "number of datasets: 62\n",
      "cadence: 30 mins\n",
      "duration: 1 day, 7:18:00\n",
      "amount of raw-data at 32 bits: 24597.2 MiB, 396.7 MiB per dataset\n",
      "processing time: 1 day, 12:10:00\n",
      "amount of processed data (and intermediate data) at 16 bits: 27435.3 MiB, 53.4 MiB per dataset\n",
      "compressing (+ flushing) time: 2:02:57.459840\n",
      "amount of compressed data + metadata at 6 bits: 956.6 MiB, 15.4 MiB per dataset\n",
      "amount of metadata:  992 MiB\n",
      "amount of memory usage: 52505.5 MiB\n",
      "\n",
      "==============================\n"
     ]
    }
   ],
   "source": [
    "max_fl = 1000\n",
    "\n",
    "\"\"\"\n",
    "    Processing of AR-Long Term\n",
    "\"\"\"\n",
    "i = 1\n",
    "t0 = end#a17.compr.end\n",
    "kw = a18.processing(t0,ndata=-1,partialStore=0x00,level='raw',nout=5); phi.saving(i,**kw); PHI.saving(i,**kw); dt += kw['end'] - kw['start']\n",
    "# kw = a18.compressing(a18.proc.end, nbits = 6, ndata = -1,level='proc'); phi.saving(i,**kw); PHI.saving(i,**kw); dtc += kw['end'] - kw['start']\n",
    "a18, kw = flush_many([max_fl,max_fl], 15.7, a18, kw['end'], 6, -1, 'proc',i)#; phi.saving(i,**kw); PHI.saving(i,**kw); \n",
    "printp(a18, label = 'R_SMALL_MRES_MCAD_AR-Long-Term (full)')\n",
    "\n",
    "\"\"\"\n",
    "    Processing of Nanoflares 4\n",
    "\"\"\"\n",
    "i = 2\n",
    "t0 = kw['end'] #a18.compr.end\n",
    "kw = a14_1.processing(t0,ndata=-1,partialStore=0x00,level='raw',nout=5); phi.saving(i,**kw); PHI.saving(i,**kw); dt += kw['end'] - kw['start']\n",
    "\n",
    "\"\"\"\n",
    "    Processing of Polar Observation 2\n",
    "\"\"\"\n",
    "i = 2\n",
    "t0 = kw['end'] #a14_1.compr.end\n",
    "kw = a7_1.processing(t0,ndata=-1,partialStore=0x00,level='raw',nout=5); phi.saving(i,**kw); PHI.saving(i,**kw); dt += kw['end'] - kw['start']\n",
    "\n",
    "\"\"\"\n",
    "    Processing of Connection Mosaic 2\n",
    "\"\"\"\n",
    "i = 2\n",
    "t0 = kw['end'] #a7_1.compr.end\n",
    "kw = a17.processing(t0,ndata=-1,partialStore=0x00,level='raw',nout=5); phi.saving(i,**kw); PHI.saving(i,**kw); dt += kw['end'] - kw['start']\n",
    "\n",
    "\"\"\"\n",
    "    Processing of Polar Observation 3\n",
    "\"\"\"\n",
    "i = 2\n",
    "t0 = kw['end'] #a18.compr.end\n",
    "kw = a7_2.processing(t0,ndata=-1,partialStore=0x00,level='raw',nout=5); phi.saving(i,**kw); PHI.saving(i,**kw); dt += kw['end'] - kw['start']\n",
    "\n",
    "\"\"\"\n",
    "Flushing\n",
    "\"\"\"\n",
    "\n",
    "\n",
    "i=2\n",
    "# kw = a14_1.compressing(kw['end'], nbits = 6, ndata = -1,level='proc'); phi.saving(i,**kw); PHI.saving(i,**kw); dtc += kw['end'] - kw['start']\n",
    "a14_1, kw = flush_many([max_fl,max_fl], 15.7, a14_1, kw['end'], 6, -1, 'proc',i)#; phi.saving(i,**kw); PHI.saving(i,**kw); \n",
    "printp(a14_1, label = 'Nanoflares - 4 (full)')\n",
    "print('==============================')\n",
    "\n",
    "i=2\n",
    "# kw = a7_1.compressing(a7_1.proc.end, nbits = 5, ndata = -1,level='proc'); phi.saving(i,**kw); PHI.saving(i,**kw); dtc += kw['end'] - kw['start']\n",
    "a7_1, kw = flush_many([max_fl  - a14_1.compr.data*1e6/2**20, max_fl], 13.2, a7_1, kw['end'], 6, -1, 'proc',i)#; phi.saving(i,**kw); PHI.saving(i,**kw); \n",
    "printp(a7_1, label = 'Polar Observation - 2 (full)')\n",
    "print('==============================')\n",
    "\n",
    "i=2\n",
    "# kw = a17.compressing(a17.proc.end, nbits = 6, ndata = -1,level='proc'); phi.saving(i,**kw); PHI.saving(i,**kw); dtc += kw['end'] - kw['start']\n",
    "a17, kw = flush_many([max_fl  - a7_1.compr.data*1e6/2**20, max_fl], 15.7, a17, kw['end'], 6, -1, 'proc',i)#; phi.saving(i,**kw); PHI.saving(i,**kw); \n",
    "printp(a17, label = 'Connection Mosaic - 2 (full)')\n",
    "print('==============================')\n",
    "\n",
    "i=2\n",
    "# kw = a7_2.compressing(a7_2.proc.end, nbits = 5, ndata = -1,level='proc'); phi.saving(i,**kw); PHI.saving(i,**kw); dtc += kw['end'] - kw['start']\n",
    "a7_2, kw = flush_many([max_fl  - a17.compr.data*1e6/2**20, max_fl], 13.2, a7_2, kw['end'], 6, -1, 'proc',i)#; phi.saving(i,**kw); PHI.saving(i,**kw); \n",
    "printp(a7_2, label = 'Polar Observation - 3 (full)')\n",
    "print('==============================')\n",
    "\n",
    "\n",
    "\n",
    "\n"
   ]
  },
  {
   "cell_type": "code",
   "execution_count": 45,
   "metadata": {},
   "outputs": [
    {
     "data": {
      "image/png": "[encoded data removed]",
      "text/plain": [
       "<Figure size 1080x576 with 2 Axes>"
      ]
     },
     "metadata": {
      "needs_background": "light"
     },
     "output_type": "display_data"
    }
   ],
   "source": [
    "plot_tot(phi, time_ord=True, ylim=(0,5), xlim=(datetime.date(2022,4,10),datetime.date(2022,4,23)))"
   ]
  },
  {
   "cell_type": "markdown",
   "metadata": {},
   "source": [
    "# <span style=\"color:magenta\">***RESET NANDs***</span>"
   ]
  },
  {
   "cell_type": "code",
   "execution_count": 46,
   "metadata": {},
   "outputs": [
    {
     "name": "stdout",
     "output_type": "stream",
     "text": [
      "amount of compressed data + metadata in partition 1: 3.04 GB\n",
      "amount of compressed data + metadata in partition 2: 4.01 GB\n"
     ]
    }
   ],
   "source": [
    "print('amount of compressed data + metadata in partition 1:',round(PHI.part1.compr*1e-3,2), 'GB')\n",
    "print('amount of compressed data + metadata in partition 2:',round(PHI.part2.compr*1e-3,2), 'GB')\n",
    "# print('TM time:',round((PHI.part1.compr)/550,2), 'days\\n')\n",
    "\n",
    "t0 = datetime.datetime.fromisoformat('2022-04-14T02:00:00')\n",
    "PHI.format_partition(1,t0)\n",
    "PHI.format_partition(2,kw['end'])\n",
    "phi.format_partition(1,t0)\n",
    "phi.format_partition(2,kw['end'])\n",
    "# PHI.format_partition(1,kw['end'])\n",
    "# PHI.format_partition(2,PHI.part1.history['end'][-1] + datetime.timedelta(hours=.5))\n",
    "# phi.format_partition(1,kw['end'])\n",
    "# phi.format_partition(2,PHI.part1.history['end'][-1] + datetime.timedelta(hours=.5))"
   ]
  },
  {
   "cell_type": "markdown",
   "metadata": {},
   "source": [
    "# <span style=\"color:blue\">Synoptic</span>"
   ]
  },
  {
   "cell_type": "code",
   "execution_count": 47,
   "metadata": {},
   "outputs": [
    {
     "name": "stdout",
     "output_type": "stream",
     "text": [
      "amount of compressed data + metadata in partition 1: 0.48 GB\n",
      "64 total datasets:\n",
      "\n",
      "Synoptic (1 dataset)\n",
      "number of datasets: 1\n",
      "cadence: 1 mins\n",
      "duration: 0:01:00\n",
      "amount of raw-data at 32 bits: 351.0 MiB, 351.0 MiB per dataset\n",
      "amount of crop-data at 32 bits: 305.2 MiB, 305.2 MiB per dataset\n",
      "cropping time: 0:01:01.366000\n",
      "processing time: 0:35:00\n",
      "amount of processed data (and intermediate data) at 16 bits: 328.1 MiB, 30.5 MiB per dataset\n",
      "compressing (+ flushing) time: 0:00:59.962752\n",
      "amount of compressed data + metadata at 6 bits: 7.1 MiB, 7.1 MiB per dataset\n",
      "amount of metadata:  24 MiB\n",
      "amount of memory usage: 991.8 MiB\n",
      "\n"
     ]
    }
   ],
   "source": [
    "i=1\n",
    "########################################################\n",
    "\n",
    "t0 = datetime.datetime.fromisoformat('2022-04-15T00:00:00')\n",
    "t1 = datetime.datetime.fromisoformat('2022-05-01T00:00:00')\n",
    "\n",
    "cad = 6*60\n",
    "N = int((t1 - t0).total_seconds() / (60*cad))\n",
    "\n",
    "ti = t0\n",
    "deltat = (t1 - t0)/N\n",
    "min1 = datetime.timedelta(minutes=1)\n",
    "form = False\n",
    "for n in range(N):\n",
    "    a19 = PHI_MODE('FDT')\n",
    "    # ti = ti + dt\n",
    "    kw = a19.observation(ti,ti+min1,cadence=1,shape=(2048,1792,4,6));\n",
    "    phi.saving(i,**kw); PHI.saving(i,**kw)\n",
    "\n",
    "    t0 = a19.raw.end\n",
    "    kw = a19.cropping(t0,ndata=-1,crop=[1792,1792],level='raw');\n",
    "    phi.saving(i,**kw); PHI.saving(i,**kw)\n",
    "    kw = a19.processing(a19.raw.crop.end,ndata=-1,partialStore=0x00,level='raw.crop',nout=3);\n",
    "    phi.saving(i,**kw); PHI.saving(i,**kw)\n",
    "    kw = a19.compressing(a19.proc.crop.end, nbits = 6, ndata = -1,level='proc.crop'); phi.saving(i,**kw);\n",
    "    PHI.saving(i,**kw)\n",
    "    ti = ti + deltat\n",
    "    if PHI.part1.occu > 200e3 or PHI.part2.occu > 200e3:\n",
    "        PHI.format_partition(i,kw['end'])\n",
    "        phi.format_partition(i,kw['end'])\n",
    "        i = i%2 + 1\n",
    "\n",
    "    # if ti > a18.compr.end:\n",
    "    #     if not form:\n",
    "    #         print('amount of compressed data + metadata in partition 2:',round(PHI.part2.compr*1e-3,2), 'GB')\n",
    "    #         print('TM time:',round((PHI.part2.compr)/550,2), 'days\\n')\n",
    "\n",
    "    #         PHI.format_partition(2,kw['end'])\n",
    "    #         # PHI.format_partition(2,end + datetime.timedelta(days=1))\n",
    "    #         phi.format_partition(2,kw['end'])\n",
    "    #         # phi.format_partition(2,end + datetime.timedelta(days=1))\n",
    "    #         form = True\n",
    "    # t0 = ti\n",
    "\n",
    "    # printp(a19)\n",
    "    # print('')\n",
    "\n",
    "tm0 = datetime.datetime(2022,6,1,0,0,0)\n",
    "tm1 = datetime.datetime(2022,7,1,0,0,0)\n",
    "# _ = tm_avail(tm0,tm1,df_tm,frac=.3)\n",
    "print('amount of compressed data + metadata in partition 1:',round(PHI.part1.compr*1e-3,2), 'GB')\n",
    "# print('amount of compressed data + metadata in partition 2:',round(PHI.part2.compr*1e-3,2), 'GB')\n",
    "\n",
    "\n",
    "print(N,'total datasets:\\n')\n",
    "printp(a19, label = 'Synoptic (1 dataset)')\n"
   ]
  },
  {
   "cell_type": "code",
   "execution_count": 48,
   "metadata": {},
   "outputs": [
    {
     "data": {
      "image/png": "[encoded data removed]",
      "text/plain": [
       "<Figure size 1080x576 with 2 Axes>"
      ]
     },
     "metadata": {
      "needs_background": "light"
     },
     "output_type": "display_data"
    }
   ],
   "source": [
    "plot_tot(phi, time_ord=True, ylim=(0,300))"
   ]
  },
  {
   "cell_type": "markdown",
   "metadata": {},
   "source": [
    "# <span style=\"color:yellow\">PLOTS</span>"
   ]
  },
  {
   "cell_type": "code",
   "execution_count": 49,
   "metadata": {},
   "outputs": [
    {
     "data": {
      "image/png": "[encoded data removed]",
      "text/plain": [
       "<Figure size 1080x576 with 2 Axes>"
      ]
     },
     "metadata": {
      "needs_background": "light"
     },
     "output_type": "display_data"
    }
   ],
   "source": [
    "xlim = (datetime.datetime(2022,4,14,0,0,0),datetime.datetime(2022,4,16,0,0,0))\n",
    "plot_tot(PHI, xlim=xlim, ylim=(0,200), time_ord=True)\n",
    "# plt.savefig('/home/calchetti/MPStemp/pics/TM/total_v5.1.png')\n",
    "\n",
    "# fname = '/home/calchetti/MPStemp/PHI_TMtool/TM_NMP1_v2.csv'\n",
    "# PHI.save(fname)"
   ]
  },
  {
   "cell_type": "code",
   "execution_count": 50,
   "metadata": {},
   "outputs": [
    {
     "data": {
      "image/png": "[encoded data removed]",
      "text/plain": [
       "<Figure size 1080x720 with 4 Axes>"
      ]
     },
     "metadata": {
      "needs_background": "light"
     },
     "output_type": "display_data"
    }
   ],
   "source": [
    "from scipy.interpolate import interp1d\n",
    "tot1 = np.asarray(PHI.part1.history['occu'])\n",
    "tot2 = np.asarray(PHI.part2.history['occu'])\n",
    "c1 = np.asarray(PHI.part1.history['compr'])\n",
    "c2 = np.asarray(PHI.part2.history['compr'])\n",
    "d1 = np.asarray(PHI.part1.history['start'])\n",
    "d2 = np.asarray(PHI.part2.history['start'])\n",
    "\n",
    "starttime = min(d1[0],d2[0])\n",
    "endtime = max(d1[-1],d2[-1])\n",
    "t0 = starttime\n",
    "times = []\n",
    "while starttime.date() <= endtime.date():\n",
    "    times.append(starttime.date())\n",
    "    starttime += datetime.timedelta(days=1)\n",
    "starttime = t0; del t0\n",
    "times_float = [(t - d1[0]).total_seconds() for t in d1]\n",
    "times = np.asarray(times)\n",
    "\n",
    "s = np.argsort(d1)\n",
    "\n",
    "newtot1 = np.zeros(np.size(times))\n",
    "for i,j in zip(d1,tot1):\n",
    "    if True:\n",
    "        ind = np.where(times == i.date())[0]\n",
    "        newtot1[ind] += j/1e3\n",
    "newtot1 = np.asarray(newtot1)\n",
    "\n",
    "newtot2 = np.zeros(np.size(times))\n",
    "for i,j in zip(d2,tot2):\n",
    "    if True:\n",
    "        ind = np.where(times == i.date())[0]\n",
    "        newtot2[ind] += j/1e3\n",
    "newtot2 = np.asarray(newtot2)\n",
    "\n",
    "newc1 = np.zeros(np.size(times))\n",
    "for i,j in zip(d1,c1):\n",
    "    if j>=0:\n",
    "        ind = np.where(times == i.date())[0]\n",
    "        newc1[ind] += j/1e3\n",
    "newc1 = np.asarray(newc1)\n",
    "\n",
    "\n",
    "newc2 = np.zeros(np.size(times))\n",
    "for i,j in zip(d2,c2):\n",
    "    if j>=0:\n",
    "        ind = np.where(times == i.date())[0]\n",
    "        newc2[ind] += j/1e3\n",
    "newc2 = np.asarray(newc2)\n",
    "\n",
    "form1 = np.zeros(np.size(times))\n",
    "for i,j in zip(d1,c1):\n",
    "    if j<0:\n",
    "        ind = np.where(times == i.date())[0]\n",
    "        form1[ind] += j/1e3\n",
    "form1 = np.asarray(form1)\n",
    "\n",
    "\n",
    "form2 = np.zeros(np.size(times))\n",
    "for i,j in zip(d2,c2):\n",
    "    if j<0:\n",
    "        ind = np.where(times == i.date())[0]\n",
    "        form2[ind] += j/1e3\n",
    "form2 = np.asarray(form2)\n",
    "\n",
    "trig1 = np.where(form1 < 0)[0]\n",
    "trig2 = np.where(form2 < 0)[0]\n",
    "\n",
    "x = TM['date'][np.logical_and(TM['date'] <= endtime+datetime.timedelta(days=1),TM['date'] >= starttime-datetime.timedelta(days=1))]\n",
    "y = TM['tm_rate'][np.logical_and(TM['date'] <= endtime+datetime.timedelta(days=1),TM['date'] >= starttime-datetime.timedelta(days=1))]\n",
    "z = TM['duration'][np.logical_and(TM['date'] <= endtime+datetime.timedelta(days=1),TM['date'] >= starttime-datetime.timedelta(days=1))]\n",
    "\n",
    "xx = [(i - starttime).total_seconds() for i in x]\n",
    "f = interp1d(xx, y*z)\n",
    "xnew = [(i - starttime.date()).total_seconds() for i in times]\n",
    "ynew = f(xnew)/8e9\n",
    "ynew[times<datetime.date(2022,4,1)] *= .2\n",
    "ynew[times>=datetime.date(2022,4,1)] *= .3\n",
    "\n",
    "tm_used = np.zeros(times.size)\n",
    "down = 0#np.zeros(times.size)\n",
    "for i in range(times.size):\n",
    "    if newc1[i] > 0 or newc2[i] > 0:\n",
    "        tm_used[i] = min(ynew[i],np.sum(newc1[:i+1] + newc2[:i+1]) - tm_used[:i].sum())\n",
    "        down = max(0,np.sum(newc1[:i+1] + newc2[:i+1] - tm_used[:i+1]))\n",
    "    else:\n",
    "        if down > 0:\n",
    "            tm_used[i] = min(ynew[i],np.sum(newc1[:i+1] + newc2[:i+1]) - tm_used[:i].sum())\n",
    "            down = max(0,np.sum(newc1[:i+1] + newc2[:i+1] - tm_used[:i+1]))\n",
    "\n",
    "plt.figure(figsize=(15,10))\n",
    "plt.subplot(221)\n",
    "plt.ylabel('data compression (GB)')\n",
    "plt.plot(times,newc1,label='partition 1')\n",
    "plt.plot(times,newc2,label='partition 2')\n",
    "for i,t in enumerate(trig1):\n",
    "    if i == 0:\n",
    "        plt.axvline(times[t],linestyle='--',color='k',alpha=.5,label='partition 1 reset')\n",
    "    else:\n",
    "        plt.axvline(times[t],linestyle='--',color='k',alpha=.5)\n",
    "for i,t in enumerate(trig2):\n",
    "    if i == 0:\n",
    "        plt.axvline(times[t],linestyle='--',color='g',alpha=.5,label='partition 2 reset')\n",
    "    else:\n",
    "        plt.axvline(times[t],linestyle='--',color='g',alpha=.5)\n",
    "plt.legend()\n",
    "\n",
    "plt.subplot(222)\n",
    "plt.ylabel('daily TM rate (GB/rate)')\n",
    "plt.plot(times,ynew,label='TM PHI rate')\n",
    "plt.plot(times,tm_used,'ro',label='TM used')\n",
    "plt.legend()\n",
    "for t in trig1:\n",
    "    plt.axvline(times[t],linestyle='--',color='k',alpha=.5)\n",
    "for t in trig2:\n",
    "    plt.axvline(times[t],linestyle='--',color='g',alpha=.5)\n",
    "# print('total TM used:',round(tm_used.sum(),2),'GB')\n",
    "# print('total compressed data:',round((newc1+newc2).sum(),2),'GB')\n",
    "# plt.xlim(datetime.date(2022,1,10),datetime.date(2022,2,5))\n",
    "plt.subplot(223)\n",
    "plt.ylabel('data and TM amount (GB)')\n",
    "plt.plot(times,np.cumsum(newc1+newc2),label='cumulative compressed data')\n",
    "plt.plot(times,np.cumsum(tm_used),label='cumulative TM usage')\n",
    "plt.plot(times,np.cumsum(newc1+newc2)-np.cumsum(tm_used),label='SSMM filling state')\n",
    "cond = np.logical_and(FL['date']>datetime.datetime(2022,1,19,0,0), FL['date']<datetime.datetime(2022,5,1,0,0))\n",
    "plt.plot(FL['date'][cond],-np.cumsum(FL['flush'][cond]*2**20/1e9),'m',label='SOOPK FLUSH')\n",
    "plt.legend()\n",
    "for t in trig1:\n",
    "    plt.axvline(times[t],linestyle='--',color='k',alpha=.5)\n",
    "for t in trig2:\n",
    "    plt.axvline(times[t],linestyle='--',color='g',alpha=.5)\n",
    "\n",
    "plt.subplot(224)\n",
    "plt.ylabel('total memory usage (GB)')\n",
    "plt.plot(times,np.cumsum(newtot1),'k',label='partition 1')\n",
    "plt.plot(times,np.cumsum(newtot2),'g',label='partition 2')\n",
    "plt.legend()\n",
    "plt.ylim(0,250)\n",
    "plt.axhline(220,linestyle='--',color='r')\n",
    "for t in trig1:\n",
    "    plt.axvline(times[t],linestyle='--',color='k',alpha=.5)\n",
    "for t in trig2:\n",
    "    plt.axvline(times[t],linestyle='--',color='g',alpha=.5)\n",
    "\n",
    "plt.gcf().autofmt_xdate()\n",
    "# plt.savefig('/home/calchetti/MPStemp/pics/TM/tm_v5.1.png')"
   ]
  },
  {
   "cell_type": "code",
   "execution_count": 51,
   "metadata": {},
   "outputs": [
    {
     "name": "stdout",
     "output_type": "stream",
     "text": [
      "Total amount of TM used: 49.93 GB\n",
      "Total amount of compressed data: 57.38 GB\n"
     ]
    }
   ],
   "source": [
    "print('Total amount of TM used:',round(tm_used.sum(),2),'GB')\n",
    "print('Total amount of compressed data:',round((newc1+newc2).sum(),2),'GB')"
   ]
  },
  {
   "cell_type": "code",
   "execution_count": 52,
   "metadata": {},
   "outputs": [
    {
     "data": {
      "text/plain": [
       "57.37513452000002"
      ]
     },
     "execution_count": 52,
     "metadata": {},
     "output_type": "execute_result"
    }
   ],
   "source": [
    "(newc1+newc2)[times<datetime.date(2022,5,1)].sum()"
   ]
  },
  {
   "cell_type": "code",
   "execution_count": null,
   "metadata": {},
   "outputs": [],
   "source": []
  },
  {
   "cell_type": "code",
   "execution_count": 53,
   "metadata": {},
   "outputs": [
    {
     "data": {
      "text/plain": [
       "<matplotlib.legend.Legend at 0x7f69c7e600d0>"
      ]
     },
     "execution_count": 53,
     "metadata": {},
     "output_type": "execute_result"
    },
    {
     "data": {
      "image/png": "[encoded data removed]",
      "text/plain": [
       "<Figure size 864x432 with 2 Axes>"
      ]
     },
     "metadata": {
      "needs_background": "light"
     },
     "output_type": "display_data"
    }
   ],
   "source": [
    "newfl = np.zeros(np.size(times))\n",
    "for i,j in zip(FLnew['date'],FLnew['flush']):\n",
    "    if j<=0:\n",
    "        ind = np.where(times == i.date())[0]\n",
    "        newfl[ind] += -j*2**20/1e9\n",
    "newfl = np.asarray(newfl)\n",
    "newfl[16] = newfl[17]\n",
    "# newfl[15] = newfl[17]\n",
    "\n",
    "xlim = (datetime.date(2022,1,19),datetime.date(2022,4,10)) # ltp6\n",
    "# xlim = (datetime.date(2022,1,25),datetime.date(2022,2,4)) # helio + raw syn\n",
    "# xlim = (datetime.date(2022,3,1),datetime.date(2022,3,8)) # slow wind\n",
    "# xlim = (datetime.date(2022,3,8),datetime.date(2022,3,17)) # RSW 1 flushing\n",
    "# xlim = (datetime.date(2022,3,16),datetime.date(2022,3,30)) # RSW 2\n",
    "# xlim = (datetime.date(2022,3,31),datetime.date(2022,4,10)) # RSW 3\n",
    "\n",
    "cond = np.logical_and(times>=xlim[0], times<=xlim[1])\n",
    "plt.figure(figsize=(12,6))\n",
    "plt.subplot(121)\n",
    "plt.plot(times[cond],np.cumsum((newc1+newc2)[cond]),label='compressed data')\n",
    "plt.plot(times[cond],np.cumsum(newfl[cond]),'m',label='SOOPK FLUSH')\n",
    "plt.legend()\n",
    "plt.ylabel('GB')\n",
    "\n",
    "plt.subplot(122)\n",
    "plt.plot(times[cond],np.cumsum((newc1+newc2)[cond]-newfl[cond]),'r',label='cumulative difference')\n",
    "\n",
    "plt.xlim(xlim)\n",
    "plt.gcf().autofmt_xdate()\n",
    "plt.legend()"
   ]
  },
  {
   "cell_type": "code",
   "execution_count": 54,
   "metadata": {},
   "outputs": [
    {
     "data": {
      "text/plain": [
       "array([   0.        ,    0.        ,    0.        ,    0.        ,\n",
       "          0.        ,    0.        ,  982.11593628,  982.11593628,\n",
       "        982.11593628,  982.11593628,  982.11593628,  608.84555054,\n",
       "       1414.32192993, 1414.32192993, 1414.32192993, 1414.32192993,\n",
       "       1414.32192993,  608.84555054,  432.20599365,  432.20599365,\n",
       "        432.20599365,  432.20599365,  432.20599365,  432.20599365,\n",
       "        432.20599365,  432.20599365,  432.20599365,  432.20599365,\n",
       "        432.20599365,  432.20599365,  432.20599365,  432.20599365,\n",
       "          0.        ,    0.        ,    0.        ,    8.35830688,\n",
       "          0.        ,    0.        ,    8.35830688,    0.        ,\n",
       "          0.        ,    0.        ,   20.89576721, 1368.16307831,\n",
       "       1368.16307831, 1368.16307831,  936.1115799 ,    0.        ,\n",
       "          0.        ,    0.        ,    0.        ,    0.        ,\n",
       "          0.        , 2448.29182434, 1080.12874603, 4520.50481415,\n",
       "        648.07724762,   47.65411377, 1281.98638916,  356.23718262,\n",
       "        356.23718262,  356.23718262,   47.65411377, 2845.6264801 ,\n",
       "       1919.87727356, 1919.87727356, 1919.87727356, 1919.87727356,\n",
       "       1487.82577515,   47.65411377,    0.        ,    0.        ,\n",
       "          0.        ,    0.        ,    0.        ,    0.        ,\n",
       "          0.        ,    0.        ,    0.        ,    0.        ,\n",
       "          0.        ,  956.60751343])"
      ]
     },
     "execution_count": 54,
     "metadata": {},
     "output_type": "execute_result"
    }
   ],
   "source": [
    "((newc1+newc2)[cond])*1e9/2**20"
   ]
  }
 ],
 "metadata": {
  "interpreter": {
   "hash": "cbf6c9a26a160734b6448319c4eb49a011a468026d1aa18347f15181b6422a99"
  },
  "kernelspec": {
   "display_name": "Python 3.8.5 64-bit ('dancalc': conda)",
   "name": "python3"
  },
  "language_info": {
   "codemirror_mode": {
    "name": "ipython",
    "version": 3
   },
   "file_extension": ".py",
   "mimetype": "text/x-python",
   "name": "python",
   "nbconvert_exporter": "python",
   "pygments_lexer": "ipython3",
   "version": "3.8.5"
  }
 },
 "nbformat": 4,
 "nbformat_minor": 4
}
