{
 "cells": [
  {
   "cell_type": "markdown",
   "metadata": {},
   "source": [
    "# New Classes and Some Functions"
   ]
  },
  {
   "cell_type": "code",
   "execution_count": 1,
   "metadata": {},
   "outputs": [],
   "source": [
    "from TMclass import *\n",
    "PHI = PHI_MEMORY(datetime.datetime.fromisoformat('2022-01-19T23:00:00'))"
   ]
  },
  {
   "cell_type": "code",
   "execution_count": null,
   "metadata": {},
   "outputs": [],
   "source": []
  },
  {
   "cell_type": "markdown",
   "metadata": {},
   "source": [
    "# R_FULL_LRES_HCAD_Full-Disk-Helioseismology\n",
    "\n",
    "230 GB + 200 GB\n",
    "download 15 GB"
   ]
  },
  {
   "cell_type": "code",
   "execution_count": 55,
   "metadata": {},
   "outputs": [],
   "source": [
    "# phi = PHI_MEMORY(datetime.datetime.fromisoformat('2022-01-19T23:00:00'))\n",
    "\n",
    "# #High cadence, 4 days, helio\n",
    "# t0 = datetime.datetime.fromisoformat('2022-01-20T00:00:00')\n",
    "# t1 = datetime.datetime.fromisoformat('2022-01-24T00:00:00')\n",
    "# a0 = PHI_MODE('FDT')\n",
    "# kw = a0.observation(t0,t1,cadence=1,shape=(640,2048,1,6)); phi.saving(1,**kw); PHI.saving(1,**kw)\n",
    "\n",
    "# t0 = a0.raw.end\n",
    "# kw = a0.cropping(t0,ndata=-1,crop=[1,2048/640],level='raw'); phi.saving(1,**kw); PHI.saving(1,**kw)\n",
    "# kw = a0.packing(a0.raw.crop.end,ndata=-1,level='raw.crop'); phi.saving(1,**kw); PHI.saving(1,**kw)\n",
    "\n",
    "# kw = a0.compressing(a0.raw.pack.end, nbits = 6, ndata = -1,level='raw.pack'); phi.saving(1,**kw); PHI.saving(1,**kw)\n",
    "\n",
    "# ########################################################\n",
    "# printp(a0)\n",
    "\n",
    "# _ = phi.plot(1,bar=True)"
   ]
  },
  {
   "cell_type": "code",
   "execution_count": 2,
   "metadata": {},
   "outputs": [
    {
     "output_type": "stream",
     "name": "stdout",
     "text": [
      "number of datasets: 2880\ncadence: 1 mins\nduration: 2 days, 0:00:00\namount of raw-data at 32 bits: 87890.6 MiB, 30.5 MiB per dataset\namount of crop-data at 32 bits: 43945.3 MiB, 15.3 MiB per dataset\namount of pack-data at 16 bits: 21972.7 MiB, 7.6 MiB per dataset\namount of compressed data + metadata at 6 bits: 6985.1 MiB, 2.4 MiB per dataset\namount of metadata:  69120 MiB\namount of memory usage: 219726.6 MiB\n==========================\nnumber of datasets: 2880\ncadence: 1 mins\nduration: 2 days, 0:00:00\namount of raw-data at 32 bits: 87890.6 MiB, 30.5 MiB per dataset\namount of crop-data at 32 bits: 43945.3 MiB, 15.3 MiB per dataset\namount of pack-data at 16 bits: 21972.7 MiB, 7.6 MiB per dataset\namount of compressed data + metadata at 6 bits: 6985.1 MiB, 2.4 MiB per dataset\namount of metadata:  69120 MiB\namount of memory usage: 219726.6 MiB\n"
     ]
    }
   ],
   "source": [
    "phi = PHI_MEMORY(datetime.datetime.fromisoformat('2022-01-19T23:00:00'))\n",
    "\n",
    "#High cadence, 4 days, helio\n",
    "t0 = datetime.datetime.fromisoformat('2022-01-20T00:00:00')\n",
    "t1 = datetime.datetime.fromisoformat('2022-01-22T00:00:00')\n",
    "a0_1 = PHI_MODE('FDT')\n",
    "kw = a0_1.observation(t0,t1,cadence=1,shape=(2048,640,1,6)); phi.saving(1,**kw); PHI.saving(1,**kw)\n",
    "\n",
    "t0 = a0_1.raw.end\n",
    "kw = a0_1.cropping(t0,ndata=-1,crop=[640,640],level='raw'); phi.saving(1,**kw); PHI.saving(1,**kw)\n",
    "kw = a0_1.packing(a0_1.raw.crop.end,ndata=-1,level='raw.crop'); phi.saving(1,**kw); PHI.saving(1,**kw)\n",
    "\n",
    "kw = a0_1.compressing(a0_1.raw.pack.end, nbits = 6, ndata = -1,level='raw.pack'); phi.saving(1,**kw); PHI.saving(1,**kw)\n",
    "\n",
    "t0 = datetime.datetime.fromisoformat('2022-01-22T00:00:00')\n",
    "t1 = datetime.datetime.fromisoformat('2022-01-24T00:00:00')\n",
    "a0_2 = PHI_MODE('FDT')\n",
    "kw = a0_2.observation(t0,t1,cadence=1,shape=(2048,640,1,6)); phi.saving(2,**kw); PHI.saving(2,**kw)\n",
    "\n",
    "t0 = a0_2.raw.end\n",
    "kw = a0_2.cropping(t0,ndata=-1,crop=[640,640],level='raw'); phi.saving(2,**kw); PHI.saving(2,**kw)\n",
    "kw = a0_2.packing(a0_2.raw.crop.end,ndata=-1,level='raw.crop'); phi.saving(2,**kw); PHI.saving(2,**kw)\n",
    "\n",
    "kw = a0_2.compressing(a0_2.raw.pack.end, nbits = 6, ndata = -1,level='raw.pack'); phi.saving(2,**kw); PHI.saving(2,**kw)\n",
    "\n",
    "########################################################\n",
    "printp(a0_1)\n",
    "print('==========================')\n",
    "printp(a0_2)\n",
    "# plot_tot(PHI)"
   ]
  },
  {
   "source": [
    "# RESET NAND"
   ],
   "cell_type": "markdown",
   "metadata": {}
  },
  {
   "cell_type": "code",
   "execution_count": 3,
   "metadata": {},
   "outputs": [
    {
     "output_type": "stream",
     "name": "stdout",
     "text": [
      "amount of compressed data + metadata in partition 1: 6.8 GiB\namount of compressed data + metadata in partition 2: 6.8 GiB\n"
     ]
    }
   ],
   "source": [
    "print('amount of compressed data + metadata in partition 1:',round(PHI.part1.compr*1e6/2**30,1), 'GiB')\n",
    "print('amount of compressed data + metadata in partition 2:',round(PHI.part2.compr*1e6/2**30,1), 'GiB')\n",
    "PHI.format_partition(1,a0_1.compr.pack.end + datetime.timedelta(days=1))\n",
    "PHI.format_partition(2,a0_2.compr.pack.end + datetime.timedelta(days=1))\n"
   ]
  },
  {
   "cell_type": "markdown",
   "metadata": {},
   "source": [
    "# CC_OFFPOI_OOF "
   ]
  },
  {
   "cell_type": "code",
   "execution_count": 4,
   "metadata": {},
   "outputs": [
    {
     "output_type": "stream",
     "name": "stdout",
     "text": [
      "number of datasets: 2\ncadence: 90 mins\nduration: 3:00:00\namount of raw-data at 32 bits: 396.7 MiB, 198.4 MiB per dataset\namount of crop-data at 32 bits: 198.4 MiB, 99.2 MiB per dataset\namount of processed data (and intermediate data) at 16 bits: 228.9 MiB, 15.3 MiB per dataset\namount of compressed data + metadata at 6 bits: 8.8 MiB, 4.4 MiB per dataset\namount of metadata:  48 MiB\namount of memory usage: 885.0 MiB\n==========================\nnumber of datasets: 2\ncadence: 90 mins\nduration: 3:00:00\namount of raw-data at 32 bits: 396.7 MiB, 198.4 MiB per dataset\namount of crop-data at 32 bits: 198.4 MiB, 99.2 MiB per dataset\namount of processed data (and intermediate data) at 16 bits: 228.9 MiB, 15.3 MiB per dataset\namount of compressed data + metadata at 6 bits: 8.8 MiB, 4.4 MiB per dataset\namount of metadata:  48 MiB\namount of memory usage: 885.0 MiB\n"
     ]
    }
   ],
   "source": [
    "phi = PHI_MEMORY(datetime.datetime.fromisoformat('2022-02-23T10:00:00'))\n",
    "\n",
    "########################################################\n",
    "t0 = datetime.datetime.fromisoformat('2022-02-23T18:30:00')\n",
    "t1 = datetime.datetime.fromisoformat('2022-02-23T21:30:00')\n",
    "a1 = PHI_MODE('FDT')\n",
    "kw = a1.observation(t0,t1,cadence=90,shape=(2048,1024,4,6)); phi.saving(1,**kw); PHI.saving(1,**kw)\n",
    "\n",
    "t0 = a1.raw.end\n",
    "kw = a1.cropping(t0,ndata=-1,crop=[1024,1024],level='raw'); phi.saving(1,**kw); PHI.saving(1,**kw)\n",
    "kw = a1.processing(a1.raw.crop.end,ndata=-1,partialStore=0x00,level='raw.crop',nout=5); phi.saving(1,**kw); PHI.saving(1,**kw)\n",
    "kw = a1.compressing(a1.proc.crop.end, nbits = 6, ndata = -1,level='proc.crop'); phi.saving(1,**kw); PHI.saving(1,**kw)\n",
    "\n",
    "########################################################\n",
    "t0 = datetime.datetime.fromisoformat('2022-02-26T07:50:00')\n",
    "t1 = datetime.datetime.fromisoformat('2022-02-26T10:50:00')\n",
    "a2 = PHI_MODE('FDT')\n",
    "kw = a2.observation(t0,t1,cadence=90,shape=(2048,1024,4,6)); phi.saving(1,**kw); PHI.saving(1,**kw)\n",
    "\n",
    "t0 = a2.raw.end\n",
    "kw = a2.cropping(t0,ndata=-1,crop=[1024,1024],level='raw'); phi.saving(1,**kw); PHI.saving(1,**kw)\n",
    "kw = a2.processing(a2.raw.crop.end,ndata=-1,partialStore=0x00,level='raw.crop',nout=5); phi.saving(1,**kw); PHI.saving(1,**kw)\n",
    "kw = a2.compressing(a2.proc.crop.end, nbits = 6, ndata = -1,level='proc.crop'); phi.saving(1,**kw); PHI.saving(1,**kw)\n",
    "\n",
    "########################################################\n",
    "########################################################\n",
    "printp(a1)\n",
    "print('==========================')\n",
    "printp(a2)\n",
    "\n",
    "# print('amount of compressed raw-data + metadata at',a1.compr.n_bits,'bits:',round(phi.part1.compr,1), 'MB')\n",
    "# print('number of datasets:',a1.raw.n_datasets+a2.raw.n_datasets+a3.raw.n_datasets)\n",
    "# _ = phi.plot(1,bar=True)\n",
    "# plot_tot(PHI)"
   ]
  },
  {
   "cell_type": "markdown",
   "metadata": {},
   "source": [
    "# L_SMALL_MRES_MCAD_Connection-Mosaic\n",
    "Decreasing the cadence (360) to obtain 5 datasets\n"
   ]
  },
  {
   "cell_type": "code",
   "execution_count": 5,
   "metadata": {},
   "outputs": [
    {
     "output_type": "stream",
     "name": "stdout",
     "text": [
      "number of datasets: 5\ncadence: 300 mins\nduration: 1 day, 3:00:00\namount of raw-data at 32 bits: 991.8 MiB, 198.4 MiB per dataset\namount of crop-data at 32 bits: 495.9 MiB, 99.2 MiB per dataset\namount of processed data (and intermediate data) at 16 bits: 572.2 MiB, 15.3 MiB per dataset\namount of compressed data + metadata at 6 bits: 22.1 MiB, 4.4 MiB per dataset\namount of metadata:  120 MiB\namount of memory usage: 2212.5 MiB\n"
     ]
    }
   ],
   "source": [
    "phi = PHI_MEMORY(datetime.datetime.fromisoformat('2022-03-07T10:00:00'))\n",
    "########################################################\n",
    "t0 = datetime.datetime.fromisoformat('2022-03-02T00:00:00')\n",
    "t1 = datetime.datetime.fromisoformat('2022-03-03T03:00:00')\n",
    "a4 = PHI_MODE('FDT')\n",
    "\n",
    "kw = a4.observation(t0,t1,cadence=300,shape=(2048,1024,4,6)); phi.saving(1,**kw); PHI.saving(1,**kw)\n",
    "\n",
    "t0 = a4.raw.end\n",
    "kw = a4.cropping(t0,ndata=-1,crop=[1024,1024],level='raw'); phi.saving(1,**kw); PHI.saving(1,**kw)\n",
    "kw = a4.processing(a4.raw.crop.end,ndata=-1,partialStore=0x00,level='raw.crop',nout=5); phi.saving(1,**kw); PHI.saving(1,**kw)\n",
    "kw = a4.compressing(a4.proc.crop.end, nbits = 6, ndata = -1,level='proc.crop'); phi.saving(1,**kw); PHI.saving(1,**kw)\n",
    "\n",
    "########################################################\n",
    "printp(a4)\n",
    "# plot_tot(PHI)"
   ]
  },
  {
   "source": [
    "# FDT Flat Calibration"
   ],
   "cell_type": "markdown",
   "metadata": {}
  },
  {
   "cell_type": "code",
   "execution_count": 6,
   "metadata": {},
   "outputs": [
    {
     "output_type": "stream",
     "name": "stdout",
     "text": [
      "number of datasets: 9\ncadence: 6 mins\nduration: 0:55:00\namount of raw-data at 32 bits: 3501.9 MiB, 389.1 MiB per dataset\namount of pack-data at 16 bits: 1785.3 MiB, 198.4 MiB per dataset\namount of compressed data + metadata at 6 bits: 654.0 MiB, 72.7 MiB per dataset\namount of metadata:  144 MiB\namount of memory usage: 5424.5 MiB\n"
     ]
    }
   ],
   "source": [
    "phi = PHI_MEMORY(datetime.datetime.fromisoformat('2022-03-03T03:30:00'))\n",
    "\n",
    "#High cadence, 4 days, helio\n",
    "t0 = datetime.datetime.fromisoformat('2022-03-03T04:00:00')\n",
    "t1 = datetime.datetime.fromisoformat('2022-03-03T04:55:00')\n",
    "a5 = PHI_MODE('FDT')\n",
    "kw = a5.observation(t0,t1,cadence=6,shape=(2048,2048,4,6)); phi.saving(1,**kw); PHI.saving(1,**kw)\n",
    "\n",
    "t0 = a5.raw.end\n",
    "kw = a5.packing(t0,ndata=-1,level='raw'); phi.saving(1,**kw); PHI.saving(1,**kw)\n",
    "kw = a5.compressing(a5.raw.pack.end, nbits = 6, ndata = -1,level='raw.pack'); phi.saving(1,**kw); PHI.saving(1,**kw)\n",
    "\n",
    "########################################################\n",
    "printp(a5)\n",
    "# plot_tot(PHI)\n",
    "# _ = phi.plot(1,bar=True)"
   ]
  },
  {
   "cell_type": "markdown",
   "metadata": {},
   "source": [
    "# L_SMALL_HRES_HCAD_Slow-Wind-Connection\n",
    "Decreasing duration from 3 to 2.25 days to acquire 9 datasets"
   ]
  },
  {
   "cell_type": "code",
   "execution_count": 7,
   "metadata": {},
   "outputs": [
    {
     "output_type": "stream",
     "name": "stdout",
     "text": [
      "number of datasets: 9\ncadence: 360 mins\nduration: 2 days, 6:00:00\namount of raw-data at 32 bits: 3501.9 MiB, 389.1 MiB per dataset\namount of processed data (and intermediate data) at 16 bits: 3913.9 MiB, 45.8 MiB per dataset\namount of compressed data + metadata at 6 bits: 141.0 MiB, 15.7 MiB per dataset\namount of metadata:  144 MiB\namount of memory usage: 7621.8 MiB\n"
     ]
    }
   ],
   "source": [
    "phi = PHI_MEMORY(datetime.datetime.fromisoformat('2022-03-03T05:00:00'))\n",
    "########################################################\n",
    "t0 = datetime.datetime.fromisoformat('2022-03-03T06:00:00')\n",
    "t1 = t0 + datetime.timedelta(days=2.25)\n",
    "a6 = PHI_MODE('HRT')\n",
    "kw = a6.observation(t0,t1,cadence=6*60,shape=(2048,2048,4,6)); phi.saving(1,**kw); PHI.saving(1,**kw)\n",
    "\n",
    "t0 = a6.raw.end\n",
    "kw = a6.processing(t0,ndata=-1,partialStore=0x00,level='raw',nout=5); phi.saving(1,**kw); PHI.saving(1,**kw)\n",
    "kw = a6.compressing(a6.proc.end, nbits = 6, ndata = -1,level='proc'); phi.saving(1,**kw); PHI.saving(1,**kw)\n",
    "\n",
    "########################################################\n",
    "# t0 = datetime.datetime.fromisoformat('2022-03-03T06:00:00')\n",
    "# t1 = t0 + datetime.timedelta(hours=3)\n",
    "# a6_1 = PHI_MODE('HRT')\n",
    "# kw = a6_1.observation(t0,t1,cadence=6*60,shape=(2048,2048,4,6)); phi.saving(1,**kw); PHI.saving(1,**kw)\n",
    "\n",
    "# t0 = a6_1.raw.end\n",
    "# kw = a6_1.processing(t0,ndata=-1,partialStore=0x00,level='raw',nout=5); phi.saving(1,**kw); PHI.saving(1,**kw)\n",
    "# kw = a6_1.compressing(a6_2.proc.end, nbits = 6, ndata = -1,level='proc'); phi.saving(1,**kw); PHI.saving(1,**kw)\n",
    "\n",
    "# ########################################################\n",
    "# t0 = datetime.datetime.fromisoformat('2022-03-03T06:00:00')\n",
    "# t1 = t0 + datetime.timedelta(days=3)\n",
    "# a6_2 = PHI_MODE('HRT')\n",
    "# kw = a6_2.observation(t0,t1,cadence=6*60,shape=(2048,2048,4,6)); phi.saving(1,**kw); PHI.saving(1,**kw)\n",
    "\n",
    "# t0 = a6_2.raw.end\n",
    "# kw = a6_2.processing(t0,ndata=-1,partialStore=0x00,level='raw',nout=5); phi.saving(1,**kw); PHI.saving(1,**kw)\n",
    "# kw = a6_2.compressing(a6_2.proc.end, nbits = 6, ndata = -1,level='proc'); phi.saving(1,**kw); PHI.saving(1,**kw)\n",
    "\n",
    "# ########################################################\n",
    "# t0 = datetime.datetime.fromisoformat('2022-03-03T06:00:00')\n",
    "# t1 = t0 + datetime.timedelta(days=3)\n",
    "# a6_3 = PHI_MODE('HRT')\n",
    "# kw = a6_3.observation(t0,t1,cadence=6*60,shape=(2048,2048,4,6)); phi.saving(1,**kw); PHI.saving(1,**kw)\n",
    "\n",
    "# t0 = a6_3.raw.end\n",
    "# kw = a6_3.processing(t0,ndata=-1,partialStore=0x00,level='raw',nout=5); phi.saving(1,**kw); PHI.saving(1,**kw)\n",
    "# kw = a6_3.compressing(a6.proc.end, nbits = 6, ndata = -1,level='proc'); phi.saving(1,**kw); PHI.saving(1,**kw)\n",
    "\n",
    "########################################################\n",
    "# t0 = datetime.datetime.fromisoformat('2022-03-17T00:00:00')\n",
    "# t1 = datetime.datetime.fromisoformat('2022-03-22T00:00:00')\n",
    "# a5_1 = PHI_MODE('FDT')\n",
    "# kw = a5_1.observation(t0,t1,cadence=6*60,shape=(2048,2048,4,6)); phi.saving(1,**kw); PHI.saving(1,**kw)\n",
    "\n",
    "# t0 = a5_1.raw.end\n",
    "# kw = a5_1.processing(t0,ndata=-1,partialStore=0x00,level='raw',nout=5); phi.saving(1,**kw); PHI.saving(1,**kw)\n",
    "# kw = a5_1.compressing(a5_1.proc.end, nbits = 6, ndata = -1,level='proc'); phi.saving(1,**kw); PHI.saving(1,**kw)\n",
    "\n",
    "########################################################\n",
    "printp(a6)\n",
    "# plot_tot(PHI)\n",
    "# print('==========================')\n",
    "# printp(a6_1)\n"
   ]
  },
  {
   "cell_type": "markdown",
   "metadata": {},
   "source": [
    "# R_SMALL_HRES_MCAD_Polar-Observations\n",
    "Decreasing duration from 3 hours to 1.5 hours to acquire 90 datasets"
   ]
  },
  {
   "cell_type": "code",
   "execution_count": 8,
   "metadata": {},
   "outputs": [
    {
     "output_type": "stream",
     "name": "stdout",
     "text": [
      "number of datasets: 90\ncadence: 1 mins\nduration: 1:30:00\namount of raw-data at 32 bits: 35018.9 MiB, 389.1 MiB per dataset\namount of pack-data at 16 bits: 17852.8 MiB, 198.4 MiB per dataset\namount of compressed data + metadata at 6 bits: 6540.1 MiB, 72.7 MiB per dataset\namount of metadata:  1440 MiB\namount of memory usage: 54245.0 MiB\n"
     ]
    }
   ],
   "source": [
    "phi = PHI_MEMORY(datetime.datetime.fromisoformat('2022-03-07T05:00:00'))\n",
    "#Medium cadence, High res, 2-5 min, 3 quantities\n",
    "t0 = datetime.datetime.fromisoformat('2022-03-07T05:30:00')\n",
    "t1 = t0 + datetime.timedelta(hours=1.5)\n",
    "a7 = PHI_MODE('HRT')\n",
    "kw = a7.observation(t0,t1,cadence=1,shape=(2048,2048,4,6)); phi.saving(1,**kw); PHI.saving(1,**kw)\n",
    "\n",
    "t0 = a7.raw.end\n",
    "kw = a7.packing(t0,ndata=-1,level='raw'); phi.saving(1,**kw); PHI.saving(1,**kw)\n",
    "kw = a7.compressing(a7.raw.pack.end, nbits = 6, ndata = -1,level='raw.pack'); phi.saving(1,**kw); PHI.saving(1,**kw)\n",
    "\n",
    "########################################################\n",
    "# t0 = datetime.datetime.fromisoformat('2022-03-30T06:00:00')\n",
    "# t1 = t0 + datetime.timedelta(hours=3)\n",
    "# a7 = PHI_MODE('HRT')\n",
    "# kw = a7.observation(t0,t1,cadence=1,shape=(2048,2048,4,6)); phi.saving(1,**kw); PHI.saving(1,**kw)\n",
    "\n",
    "# t0 = a7.raw.end\n",
    "# kw = a7.processing(t0,ndata=-1,partialStore=0x00,level='raw',nout=5); phi.saving(1,**kw); PHI.saving(1,**kw)\n",
    "# kw = a7.compressing(a7.proc.end, nbits = 5, ndata = -1,level='proc'); phi.saving(1,**kw); PHI.saving(1,**kw)\n",
    "\n",
    "########################################################\n",
    "# t0 = datetime.datetime.fromisoformat('2022-04-04T09:00:00')\n",
    "# t1 = datetime.datetime.fromisoformat('2022-04-06T00:00:00')\n",
    "# a8 = PHI_MODE('HRT')\n",
    "# kw = a8.observation(t0,t1,cadence=10,shape=(2048,2048,4,6)); phi.saving(1,**kw); PHI.saving(1,**kw)\n",
    "\n",
    "# t0 = a8.raw.end\n",
    "# kw = a8.processing(t0,ndata=-1,partialStore=0x00,level='raw',nout=5); phi.saving(1,**kw); PHI.saving(1,**kw)\n",
    "# kw = a8.compressing(a8.proc.end, nbits = 5, ndata = -1,level='proc'); phi.saving(1,**kw); PHI.saving(1,**kw)\n",
    "\n",
    "printp(a7)"
   ]
  },
  {
   "source": [
    "# R_BOTH_HRES_HCAD_Nanoflares\n",
    "Decreasing duration from 3 hours to 1.5 hours to acquire 90 datasets"
   ],
   "cell_type": "markdown",
   "metadata": {}
  },
  {
   "cell_type": "code",
   "execution_count": 9,
   "metadata": {},
   "outputs": [
    {
     "output_type": "stream",
     "name": "stdout",
     "text": [
      "number of datasets: 90\ncadence: 1 mins\nduration: 1:30:00\namount of raw-data at 32 bits: 35018.9 MiB, 389.1 MiB per dataset\namount of pack-data at 16 bits: 17852.8 MiB, 198.4 MiB per dataset\namount of compressed data + metadata at 6 bits: 6540.1 MiB, 72.7 MiB per dataset\namount of metadata:  1440 MiB\namount of memory usage: 54245.0 MiB\n"
     ]
    }
   ],
   "source": [
    "phi = PHI_MEMORY(datetime.datetime.fromisoformat('2022-03-07T05:00:00'))\n",
    "##High cadence, High res################################\n",
    "t0 = datetime.datetime.fromisoformat('2022-03-07T08:30:00')\n",
    "t1 = t0 + datetime.timedelta(hours=1.5)\n",
    "a8 = PHI_MODE('HRT')\n",
    "kw = a8.observation(t0,t1,cadence=1,shape=(2048,2048,4,6)); phi.saving(1,**kw); PHI.saving(1,**kw)\n",
    "\n",
    "t0 = a8.raw.end\n",
    "kw = a8.packing(t0,ndata=-1,level='raw'); phi.saving(1,**kw); PHI.saving(1,**kw)\n",
    "kw = a8.compressing(a8.raw.pack.end, nbits = 6, ndata = -1,level='raw.pack'); phi.saving(1,**kw); PHI.saving(1,**kw)\n",
    "\n",
    "########################################################\n",
    "\n",
    "printp(a8)\n",
    "# plot_tot(PHI)"
   ]
  },
  {
   "source": [
    "# Crazy Mosaic\n",
    "25 datasets, not 36 (and cadence 7 minutes)"
   ],
   "cell_type": "markdown",
   "metadata": {}
  },
  {
   "cell_type": "code",
   "execution_count": 10,
   "metadata": {},
   "outputs": [
    {
     "output_type": "stream",
     "name": "stdout",
     "text": [
      "number of datasets: 25\ncadence: 7 mins\nduration: 2:55:00\namount of raw-data at 32 bits: 9727.5 MiB, 389.1 MiB per dataset\namount of pack-data at 16 bits: 4959.1 MiB, 198.4 MiB per dataset\namount of compressed data + metadata at 6 bits: 1816.7 MiB, 72.7 MiB per dataset\namount of metadata:  400 MiB\namount of memory usage: 15068.1 MiB\n"
     ]
    }
   ],
   "source": [
    "# TBD mosaic. Cadence = 6 minutes, full size, 36 datasets\n",
    "phi = PHI_MEMORY(datetime.datetime.fromisoformat('2022-03-07T11:00:00'))\n",
    "########################################################\n",
    "t0 = datetime.datetime.fromisoformat('2022-03-07T11:30:00')\n",
    "t1 = t0 + datetime.timedelta(minutes=175) #36 datasets\n",
    "a9 = PHI_MODE('HRT')\n",
    "\n",
    "kw = a9.observation(t0,t1,cadence=7,shape=(2048,2048,4,6)); phi.saving(1,**kw); PHI.saving(1,**kw)\n",
    "\n",
    "t0 = a9.raw.end\n",
    "kw = a9.packing(t0,ndata=-1,level='raw'); phi.saving(1,**kw); PHI.saving(1,**kw)\n",
    "kw = a9.compressing(a9.raw.pack.end, nbits = 6, ndata = -1,level='raw.pack'); phi.saving(1,**kw); PHI.saving(1,**kw)\n",
    "\n",
    "########################################################\n",
    "printp(a9)\n",
    "# plot_tot(PHI)"
   ]
  },
  {
   "cell_type": "markdown",
   "metadata": {},
   "source": [
    "# L_FULL_HRES_MCAD_Coronal-He-Abundance\n",
    "Decreasing duration from 4 hours to 3 hours"
   ]
  },
  {
   "cell_type": "code",
   "execution_count": 11,
   "metadata": {},
   "outputs": [
    {
     "output_type": "stream",
     "name": "stdout",
     "text": [
      "number of datasets: 36\ncadence: 5 mins\nduration: 3:00:00\namount of raw-data at 32 bits: 14007.6 MiB, 389.1 MiB per dataset\namount of pack-data at 16 bits: 7141.1 MiB, 198.4 MiB per dataset\namount of compressed data + metadata at 6 bits: 2616.0 MiB, 72.7 MiB per dataset\namount of metadata:  576 MiB\namount of memory usage: 21698.0 MiB\n"
     ]
    }
   ],
   "source": [
    "phi = PHI_MEMORY(datetime.datetime.fromisoformat('2022-03-07T15:30:00'))\n",
    "########################################################\n",
    "t0 = datetime.datetime.fromisoformat('2022-03-07T16:00:00')\n",
    "t1 = t0 + datetime.timedelta(hours=3)\n",
    "a10 = PHI_MODE('HRT')\n",
    "\n",
    "kw = a10.observation(t0,t1,cadence=5,shape=(2048,2048,4,6)); phi.saving(1,**kw); PHI.saving(1,**kw)\n",
    "\n",
    "t0 = a10.raw.end\n",
    "kw = a10.packing(t0,ndata=-1,level='raw'); phi.saving(1,**kw); PHI.saving(1,**kw)\n",
    "kw = a10.compressing(a10.raw.pack.end, nbits = 6, ndata = -1,level='raw.pack'); phi.saving(1,**kw); PHI.saving(1,**kw)\n",
    "\n",
    "########################################################\n",
    "printp(a10)\n",
    "# plot_tot(PHI)"
   ]
  },
  {
   "cell_type": "markdown",
   "metadata": {},
   "source": [
    "# R_BOTH_HRES_HCAD_Nanoflares\n",
    "Decreasing duration from 3 hours to 1.5 hours to acquire 90 datasets"
   ]
  },
  {
   "cell_type": "code",
   "execution_count": 12,
   "metadata": {},
   "outputs": [
    {
     "output_type": "stream",
     "name": "stdout",
     "text": [
      "number of datasets: 90\ncadence: 1 mins\nduration: 1:30:00\namount of raw-data at 32 bits: 35018.9 MiB, 389.1 MiB per dataset\namount of pack-data at 16 bits: 17852.8 MiB, 198.4 MiB per dataset\namount of compressed data + metadata at 6 bits: 6540.1 MiB, 72.7 MiB per dataset\namount of metadata:  1440 MiB\namount of memory usage: 54245.0 MiB\n"
     ]
    }
   ],
   "source": [
    "phi = PHI_MEMORY(datetime.datetime.fromisoformat('2022-03-07T23:30:00'))\n",
    "\n",
    "########################################################\n",
    "t0 = datetime.datetime.fromisoformat('2022-03-08T00:00:00')\n",
    "t1 = t0 + datetime.timedelta(hours=1.5)\n",
    "a11 = PHI_MODE('HRT')\n",
    "kw = a11.observation(t0,t1,cadence=1,shape=(2048,2048,4,6)); phi.saving(1,**kw); PHI.saving(1,**kw)\n",
    "\n",
    "t0 = a11.raw.end\n",
    "kw = a11.packing(t0,ndata=-1,level='raw'); phi.saving(1,**kw); PHI.saving(1,**kw)\n",
    "kw = a11.compressing(a11.raw.pack.end, nbits = 6, ndata = -1,level='raw.pack'); phi.saving(1,**kw); PHI.saving(1,**kw)\n",
    "\n",
    "########################################################\n",
    "printp(a11)\n",
    "# plot_tot(PHI)"
   ]
  },
  {
   "source": [
    "# SOOP_???\n",
    "Decreasing cadence from 5 minutes to minutes to acquire 20 datasets"
   ],
   "cell_type": "markdown",
   "metadata": {}
  },
  {
   "cell_type": "code",
   "execution_count": 13,
   "metadata": {},
   "outputs": [
    {
     "output_type": "stream",
     "name": "stdout",
     "text": [
      "number of datasets: 20\ncadence: 18 mins\nduration: 6:00:00\namount of raw-data at 32 bits: 1983.6 MiB, 99.2 MiB per dataset\namount of crop-data at 32 bits: 762.9 MiB, 38.1 MiB per dataset\namount of pack-data at 16 bits: 457.8 MiB, 22.9 MiB per dataset\namount of compressed data + metadata at 6 bits: 154.0 MiB, 7.7 MiB per dataset\namount of metadata:  480 MiB\namount of memory usage: 3662.1 MiB\n"
     ]
    }
   ],
   "source": [
    "phi = PHI_MEMORY(datetime.datetime.fromisoformat('2022-03-08T03:30:00'))\n",
    "\n",
    "#High cadence, 4 days, helio\n",
    "t0 = datetime.datetime.fromisoformat('2022-03-08T04:00:00')\n",
    "t1 = datetime.datetime.fromisoformat('2022-03-08T10:00:00')\n",
    "a12 = PHI_MODE('FDT')\n",
    "kw = a12.observation(t0,t1,cadence=18,shape=(2048,2048,1,6)); phi.saving(1,**kw); PHI.saving(1,**kw)\n",
    "\n",
    "t0 = a12.raw.end\n",
    "kw = a12.cropping(t0,ndata=-1,crop=[1280,1280],level='raw'); phi.saving(1,**kw); PHI.saving(1,**kw)\n",
    "kw = a12.packing(a12.raw.crop.end,ndata=-1,level='raw.crop'); phi.saving(1,**kw); PHI.saving(1,**kw)\n",
    "\n",
    "kw = a12.compressing(a12.raw.pack.end, nbits = 6, ndata = -1,level='raw.pack'); phi.saving(1,**kw); PHI.saving(1,**kw)\n",
    "\n",
    "########################################################\n",
    "printp(a12)\n",
    "# plot_tot(PHI)"
   ]
  },
  {
   "source": [
    "# HRT Flat Calibration"
   ],
   "cell_type": "markdown",
   "metadata": {}
  },
  {
   "cell_type": "code",
   "execution_count": 14,
   "metadata": {},
   "outputs": [
    {
     "output_type": "stream",
     "name": "stdout",
     "text": [
      "number of datasets: 20\ncadence: 144 mins\nduration: 2 days, 0:00:00\namount of raw-data at 32 bits: 7782.0 MiB, 389.1 MiB per dataset\namount of pack-data at 16 bits: 3967.3 MiB, 198.4 MiB per dataset\namount of compressed data + metadata at 6 bits: 1453.4 MiB, 72.7 MiB per dataset\namount of metadata:  320 MiB\namount of memory usage: 12054.4 MiB\n"
     ]
    }
   ],
   "source": [
    "phi = PHI_MEMORY(datetime.datetime.fromisoformat('2022-03-08T11:30:00'))\n",
    "\n",
    "#High cadence, 4 days, helio\n",
    "t0 = datetime.datetime.fromisoformat('2022-03-08T12:00:00')\n",
    "t1 = datetime.datetime.fromisoformat('2022-03-10T12:00:00')\n",
    "a13 = PHI_MODE('HRT')\n",
    "kw = a13.observation(t0,t1,cadence=144,shape=(2048,2048,4,6)); phi.saving(1,**kw); PHI.saving(1,**kw)\n",
    "\n",
    "t0 = a13.raw.end\n",
    "kw = a13.packing(t0,ndata=-1,level='raw'); phi.saving(1,**kw); PHI.saving(1,**kw)\n",
    "kw = a13.compressing(a13.raw.pack.end, nbits = 6, ndata = -1,level='raw.pack'); phi.saving(1,**kw); PHI.saving(1,**kw)\n",
    "\n",
    "########################################################\n",
    "printp(a13)\n",
    "# plot_tot(PHI)"
   ]
  },
  {
   "source": [
    "# ***RESET NAND***"
   ],
   "cell_type": "markdown",
   "metadata": {}
  },
  {
   "cell_type": "code",
   "execution_count": 15,
   "metadata": {},
   "outputs": [
    {
     "output_type": "stream",
     "name": "stdout",
     "text": [
      "amount of compressed data + metadata in partition 1: 25.9 GiB\namount of compressed data + metadata in partition 2: 0.0 GiB\n"
     ]
    }
   ],
   "source": [
    "print('amount of compressed data + metadata in partition 1:',round(PHI.part1.compr*1e6/2**30,1), 'GiB')\n",
    "print('amount of compressed data + metadata in partition 2:',round(PHI.part2.compr*1e6/2**30,1), 'GiB')\n",
    "PHI.format_partition(1,max(PHI.part1.history['end']))\n",
    "PHI.format_partition(2,max(PHI.part1.history['end']))\n",
    "# plot_tot(PHI)"
   ]
  },
  {
   "source": [
    "# R_BOTH_HRES_HCAD_Nanoflares\n",
    "Decreasing duration from 6 hours to 1.5 hours to acquire 90 datasets"
   ],
   "cell_type": "markdown",
   "metadata": {}
  },
  {
   "cell_type": "code",
   "execution_count": 16,
   "metadata": {},
   "outputs": [
    {
     "output_type": "stream",
     "name": "stdout",
     "text": [
      "number of datasets: 90\ncadence: 1 mins\nduration: 1:30:00\namount of raw-data at 32 bits: 35018.9 MiB, 389.1 MiB per dataset\namount of pack-data at 16 bits: 17852.8 MiB, 198.4 MiB per dataset\namount of compressed data + metadata at 6 bits: 6540.1 MiB, 72.7 MiB per dataset\namount of metadata:  1440 MiB\namount of memory usage: 54245.0 MiB\n"
     ]
    }
   ],
   "source": [
    "phi = PHI_MEMORY(datetime.datetime.fromisoformat('2022-03-17T23:30:00'))\n",
    "\n",
    "########################################################\n",
    "t0 = datetime.datetime.fromisoformat('2022-03-17T00:00:00')\n",
    "t1 = t0 + datetime.timedelta(hours=1.5)\n",
    "a14 = PHI_MODE('HRT')\n",
    "kw = a14.observation(t0,t1,cadence=1,shape=(2048,2048,4,6)); phi.saving(1,**kw); PHI.saving(1,**kw)\n",
    "\n",
    "t0 = a14.raw.end\n",
    "kw = a14.packing(t0,ndata=-1,level='raw'); phi.saving(1,**kw); PHI.saving(1,**kw)\n",
    "kw = a14.compressing(a14.raw.pack.end, nbits = 6, ndata = -1,level='raw.pack'); phi.saving(1,**kw); PHI.saving(1,**kw)\n",
    "\n",
    "########################################################\n",
    "printp(a14)\n",
    "# plot_tot(PHI)"
   ]
  },
  {
   "source": [
    "# FDT Flat Calibration"
   ],
   "cell_type": "markdown",
   "metadata": {}
  },
  {
   "cell_type": "code",
   "execution_count": 17,
   "metadata": {},
   "outputs": [
    {
     "output_type": "stream",
     "name": "stdout",
     "text": [
      "number of datasets: 9\ncadence: 6 mins\nduration: 0:55:00\namount of raw-data at 32 bits: 3501.9 MiB, 389.1 MiB per dataset\namount of pack-data at 16 bits: 1785.3 MiB, 198.4 MiB per dataset\namount of compressed data + metadata at 6 bits: 654.0 MiB, 72.7 MiB per dataset\namount of metadata:  144 MiB\namount of memory usage: 5424.5 MiB\n"
     ]
    }
   ],
   "source": [
    "phi = PHI_MEMORY(datetime.datetime.fromisoformat('2022-03-17T05:30:00'))\n",
    "\n",
    "t0 = datetime.datetime.fromisoformat('2022-03-17T06:00:00')\n",
    "t1 = datetime.datetime.fromisoformat('2022-03-17T06:55:00')\n",
    "a15 = PHI_MODE('FDT')\n",
    "kw = a15.observation(t0,t1,cadence=6,shape=(2048,2048,4,6)); phi.saving(1,**kw); PHI.saving(1,**kw)\n",
    "\n",
    "t0 = a15.raw.end\n",
    "kw = a15.packing(t0,ndata=-1,level='raw'); phi.saving(1,**kw); PHI.saving(1,**kw)\n",
    "kw = a15.compressing(a15.raw.pack.end, nbits = 6, ndata = -1,level='raw.pack'); phi.saving(1,**kw); PHI.saving(1,**kw)\n",
    "\n",
    "########################################################\n",
    "printp(a15)\n",
    "\n",
    "# _ = phi.plot(1,bar=True)\n",
    "# plot_tot(PHI)"
   ]
  },
  {
   "source": [
    "# L_SMALL_HRES_HCAD_Slow-Wind-Connection L_FULL_HRES_HCAD_Coronal-Dynamics L_FULL_HRES_HCAD_Eruption-Watch\n",
    "Duration should decreas from 13 days to 2.5 days to acquire 10 datasets"
   ],
   "cell_type": "markdown",
   "metadata": {}
  },
  {
   "cell_type": "code",
   "execution_count": 18,
   "metadata": {},
   "outputs": [
    {
     "output_type": "stream",
     "name": "stdout",
     "text": [
      "number of datasets: 10\ncadence: 360 mins\nduration: 2 days, 12:00:00\namount of raw-data at 32 bits: 3433.2 MiB, 343.3 MiB per dataset\namount of crop-data at 32 bits: 2975.5 MiB, 297.5 MiB per dataset\namount of processed data (and intermediate data) at 16 bits: 3356.9 MiB, 38.1 MiB per dataset\namount of compressed data + metadata at 6 bits: 121.5 MiB, 12.2 MiB per dataset\namount of metadata:  240 MiB\namount of memory usage: 10070.8 MiB\n"
     ]
    }
   ],
   "source": [
    "phi = PHI_MEMORY(datetime.datetime.fromisoformat('2022-03-16T23:30:00'))\n",
    "i = 1\n",
    "########################################################\n",
    "t0 = datetime.datetime.fromisoformat('2022-03-17T00:00:00')\n",
    "t1 = t0 + datetime.timedelta(days=2.5)\n",
    "a16 = PHI_MODE('FDT')\n",
    "kw = a16.observation(t0,t1,cadence=6*60,shape=(2048,1792,4,6)); phi.saving(i,**kw); PHI.saving(i,**kw)\n",
    "\n",
    "t0 = a16.raw.end\n",
    "kw = a16.cropping(t0,ndata=-1,crop=[1792,1792],level='raw'); phi.saving(i,**kw); PHI.saving(i,**kw)\n",
    "kw = a16.processing(a16.raw.crop.end,ndata=-1,partialStore=0x00,level='raw.crop',nout=5); phi.saving(i,**kw); PHI.saving(i,**kw)\n",
    "kw = a16.compressing(a16.proc.crop.end, nbits = 6, ndata = -1,level='proc.crop'); phi.saving(i,**kw); PHI.saving(i,**kw)\n",
    "\n",
    "printp(a16)\n",
    "# plot_tot(PHI)"
   ]
  },
  {
   "source": [
    "# L_SMALL_MRES_MCAD_Connection-Mosaic\n"
   ],
   "cell_type": "markdown",
   "metadata": {}
  },
  {
   "cell_type": "code",
   "execution_count": 19,
   "metadata": {},
   "outputs": [
    {
     "output_type": "stream",
     "name": "stdout",
     "text": [
      "number of datasets: 81\ncadence: 20 mins\nduration: 1 day, 3:00:00\namount of raw-data at 32 bits: 31517.0 MiB, 389.1 MiB per dataset\namount of processed data (and intermediate data) at 16 bits: 35224.9 MiB, 45.8 MiB per dataset\namount of compressed data + metadata at 6 bits: 1269.1 MiB, 15.7 MiB per dataset\namount of metadata:  1296 MiB\namount of memory usage: 68595.9 MiB\n"
     ]
    }
   ],
   "source": [
    "phi = PHI_MEMORY(datetime.datetime.fromisoformat('2022-03-29T23:30:00'))\n",
    "i = 2\n",
    "########################################################\n",
    "t0 = datetime.datetime.fromisoformat('2022-03-30T00:00:00')\n",
    "t1 = datetime.datetime.fromisoformat('2022-03-31T03:00:00')\n",
    "a17 = PHI_MODE('HRT')\n",
    "\n",
    "kw = a17.observation(t0,t1,cadence=20,shape=(2048,2048,4,6)); phi.saving(i,**kw); PHI.saving(i,**kw)\n",
    "\n",
    "t0 = a17.raw.end\n",
    "kw = a17.processing(a17.raw.end,ndata=-1,partialStore=0x00,level='raw',nout=5); phi.saving(i,**kw); PHI.saving(i,**kw)\n",
    "kw = a17.compressing(a17.proc.end, nbits = 6, ndata = -1,level='proc'); phi.saving(i,**kw); PHI.saving(i,**kw)\n",
    "\n",
    "########################################################\n",
    "printp(a17)\n",
    "# plot_tot(PHI)"
   ]
  },
  {
   "cell_type": "markdown",
   "metadata": {},
   "source": [
    "# R_SMALL_MRES_MCAD_AR-Long-Term"
   ]
  },
  {
   "cell_type": "code",
   "execution_count": 20,
   "metadata": {},
   "outputs": [
    {
     "output_type": "stream",
     "name": "stdout",
     "text": [
      "number of datasets: 186\ncadence: 30 mins\nduration: 3 days, 21:00:00\namount of raw-data at 32 bits: 72372.4 MiB, 389.1 MiB per dataset\namount of processed data (and intermediate data) at 16 bits: 80886.8 MiB, 45.8 MiB per dataset\namount of compressed data + metadata at 6 bits: 2914.2 MiB, 15.7 MiB per dataset\namount of metadata:  2976 MiB\namount of memory usage: 157516.5 MiB\n"
     ]
    }
   ],
   "source": [
    "phi = PHI_MEMORY(datetime.datetime.fromisoformat('2022-03-31T11:30:00'))\n",
    "i = 2\n",
    "########################################################\n",
    "t0 = datetime.datetime.fromisoformat('2022-03-31T12:00:00')\n",
    "t1 = datetime.datetime.fromisoformat('2022-04-04T09:00:00')\n",
    "a18 = PHI_MODE('HRT')\n",
    "kw = a18.observation(t0,t1,cadence=30,shape=(2048,2048,4,6)); phi.saving(i,**kw); PHI.saving(i,**kw)\n",
    "\n",
    "t0 = a18.raw.end\n",
    "kw = a18.processing(t0,ndata=-1,partialStore=0x00,level='raw',nout=5); phi.saving(i,**kw); PHI.saving(i,**kw)\n",
    "kw = a18.compressing(a18.proc.end, nbits = 6, ndata = -1,level='proc'); phi.saving(i,**kw); PHI.saving(i,**kw)\n",
    "\n",
    "########################################################\n",
    "printp(a18)\n",
    "# plot_tot(PHI)"
   ]
  },
  {
   "source": [
    "# General Synoptic"
   ],
   "cell_type": "markdown",
   "metadata": {}
  },
  {
   "cell_type": "code",
   "execution_count": 21,
   "metadata": {},
   "outputs": [
    {
     "output_type": "stream",
     "name": "stdout",
     "text": [
      "number of datasets: 348\ncadence: 360 mins\nduration: 87 days, 0:00:00\namount of raw-data at 32 bits: 69030.8 MiB, 198.4 MiB per dataset\namount of crop-data at 32 bits: 34515.4 MiB, 99.2 MiB per dataset\namount of processed data (and intermediate data) at 16 bits: 37170.4 MiB, 7.6 MiB per dataset\namount of compressed data + metadata at 6 bits: 1015.3 MiB, 2.9 MiB per dataset\namount of metadata:  8352 MiB\namount of memory usage: 151336.7 MiB\n"
     ]
    }
   ],
   "source": [
    "phi = PHI_MEMORY(datetime.datetime.fromisoformat('2022-04-04T23:30:00'))\n",
    "\n",
    "t0 = datetime.datetime.fromisoformat('2022-04-05T00:00:00')\n",
    "t1 = datetime.datetime.fromisoformat('2022-07-01T00:00:00')\n",
    "a19 = PHI_MODE('FDT')\n",
    "kw = a19.observation(t0,t1,cadence=360,shape=(2048,1024,4,6)); phi.saving(1,**kw); PHI.saving(1,**kw)\n",
    "\n",
    "t0 = a19.raw.end\n",
    "kw = a19.cropping(t0,ndata=-1,crop=[1024,1024],level='raw'); phi.saving(1,**kw); PHI.saving(1,**kw)\n",
    "kw = a19.processing(a19.raw.crop.end,ndata=-1,partialStore=0x00,level='raw.crop',nout=3); phi.saving(1,**kw); PHI.saving(1,**kw)\n",
    "kw = a19.compressing(a19.proc.crop.end, nbits = 6, ndata = -1,level='proc.crop'); phi.saving(1,**kw); PHI.saving(1,**kw)\n",
    "\n",
    "########################################################\n",
    "printp(a19)\n",
    "# plot_tot(PHI)"
   ]
  },
  {
   "cell_type": "code",
   "execution_count": 22,
   "metadata": {},
   "outputs": [
    {
     "output_type": "stream",
     "name": "stdout",
     "text": [
      "amount of compressed data + metadata in partition 1: 8.1 GiB\namount of compressed data + metadata in partition 2: 4.1 GiB\n"
     ]
    }
   ],
   "source": [
    "print('amount of compressed data + metadata in partition 1:',round(PHI.part1.compr*1e6/2**30,1), 'GiB')\n",
    "print('amount of compressed data + metadata in partition 2:',round(PHI.part2.compr*1e6/2**30,1), 'GiB')\n"
   ]
  },
  {
   "source": [
    "# PLOTS"
   ],
   "cell_type": "markdown",
   "metadata": {}
  },
  {
   "cell_type": "code",
   "execution_count": 23,
   "metadata": {},
   "outputs": [
    {
     "output_type": "display_data",
     "data": {
      "text/plain": "<Figure size 864x432 with 2 Axes>",
      "image/svg+xml": "<?xml version=\"1.0\" encoding=\"utf-8\" standalone=\"no\"?>\n<!DOCTYPE svg PUBLIC \"-//W3C//DTD SVG 1.1//EN\"\n  \"http://www.w3.org/Graphics/SVG/1.1/DTD/svg11.dtd\">\n<!-- Created with matplotlib (https://matplotlib.org/) -->\n<svg height=\"381.395565pt\" version=\"1.1\" viewBox=\"0 0 723.765625 381.395565\" width=\"723.765625pt\" xmlns=\"http://www.w3.org/2000/svg\" xmlns:xlink=\"http://www.w3.org/1999/xlink\">\n <metadata>\n  <rdf:RDF xmlns:cc=\"http://creativecommons.org/ns#\" xmlns:dc=\"http://purl.org/dc/elements/1.1/\" xmlns:rdf=\"http://www.w3.org/1999/02/22-rdf-syntax-ns#\">\n   <cc:Work>\n    <dc:type rdf:resource=\"http://purl.org/dc/dcmitype/StillImage\"/>\n    <dc:date>2021-06-29T15:01:00.255224</dc:date>\n    <dc:format>image/svg+xml</dc:format>\n    <dc:creator>\n     <cc:Agent>\n      <dc:title>Matplotlib v3.3.2, https://matplotlib.org/</dc:title>\n     </cc:Agent>\n    </dc:creator>\n   </cc:Work>\n  </rdf:RDF>\n </metadata>\n <defs>\n  <style type=\"text/css\">*{stroke-linecap:butt;stroke-linejoin:round;}</style>\n </defs>\n <g id=\"figure_1\">\n  <g id=\"patch_1\">\n   <path d=\"M 0 381.395565 \nL 723.765625 381.395565 \nL 723.765625 0 \nL 0 0 \nz\n\" style=\"fill:none;\"/>\n  </g>\n  <g id=\"axes_1\">\n   <g id=\"patch_2\">\n    <path d=\"M 46.965625 316.078125 \nL 351.329261 316.078125 \nL 351.329261 22.318125 \nL 46.965625 22.318125 \nz\n\" style=\"fill:#ffffff;\"/>\n   </g>\n   <g id=\"matplotlib.axis_1\">\n    <g id=\"xtick_1\">\n     <g id=\"line2d_1\">\n      <path clip-path=\"url(#p2b7e5a96a6)\" d=\"M 80.177245 316.078125 \nL 80.177245 22.318125 \n\" style=\"fill:none;stroke:#b0b0b0;stroke-linecap:square;stroke-width:0.8;\"/>\n     </g>\n     <g id=\"line2d_2\">\n      <defs>\n       <path d=\"M 0 0 \nL 0 3.5 \n\" id=\"m5b6a7699e4\" style=\"stroke:#000000;stroke-width:0.8;\"/>\n      </defs>\n      <g>\n       <use style=\"stroke:#000000;stroke-width:0.8;\" x=\"80.177245\" xlink:href=\"#m5b6a7699e4\" y=\"316.078125\"/>\n      </g>\n     </g>\n     <g id=\"text_1\">\n      <!-- 2022-02 -->\n      <g transform=\"translate(42.952424 350.549971)rotate(-30)scale(0.1 -0.1)\">\n       <defs>\n        <path d=\"M 19.1875 8.296875 \nL 53.609375 8.296875 \nL 53.609375 0 \nL 7.328125 0 \nL 7.328125 8.296875 \nQ 12.9375 14.109375 22.625 23.890625 \nQ 32.328125 33.6875 34.8125 36.53125 \nQ 39.546875 41.84375 41.421875 45.53125 \nQ 43.3125 49.21875 43.3125 52.78125 \nQ 43.3125 58.59375 39.234375 62.25 \nQ 35.15625 65.921875 28.609375 65.921875 \nQ 23.96875 65.921875 18.8125 64.3125 \nQ 13.671875 62.703125 7.8125 59.421875 \nL 7.8125 69.390625 \nQ 13.765625 71.78125 18.9375 73 \nQ 24.125 74.21875 28.421875 74.21875 \nQ 39.75 74.21875 46.484375 68.546875 \nQ 53.21875 62.890625 53.21875 53.421875 \nQ 53.21875 48.921875 51.53125 44.890625 \nQ 49.859375 40.875 45.40625 35.40625 \nQ 44.1875 33.984375 37.640625 27.21875 \nQ 31.109375 20.453125 19.1875 8.296875 \nz\n\" id=\"DejaVuSans-50\"/>\n        <path d=\"M 31.78125 66.40625 \nQ 24.171875 66.40625 20.328125 58.90625 \nQ 16.5 51.421875 16.5 36.375 \nQ 16.5 21.390625 20.328125 13.890625 \nQ 24.171875 6.390625 31.78125 6.390625 \nQ 39.453125 6.390625 43.28125 13.890625 \nQ 47.125 21.390625 47.125 36.375 \nQ 47.125 51.421875 43.28125 58.90625 \nQ 39.453125 66.40625 31.78125 66.40625 \nz\nM 31.78125 74.21875 \nQ 44.046875 74.21875 50.515625 64.515625 \nQ 56.984375 54.828125 56.984375 36.375 \nQ 56.984375 17.96875 50.515625 8.265625 \nQ 44.046875 -1.421875 31.78125 -1.421875 \nQ 19.53125 -1.421875 13.0625 8.265625 \nQ 6.59375 17.96875 6.59375 36.375 \nQ 6.59375 54.828125 13.0625 64.515625 \nQ 19.53125 74.21875 31.78125 74.21875 \nz\n\" id=\"DejaVuSans-48\"/>\n        <path d=\"M 4.890625 31.390625 \nL 31.203125 31.390625 \nL 31.203125 23.390625 \nL 4.890625 23.390625 \nz\n\" id=\"DejaVuSans-45\"/>\n       </defs>\n       <use xlink:href=\"#DejaVuSans-50\"/>\n       <use x=\"63.623047\" xlink:href=\"#DejaVuSans-48\"/>\n       <use x=\"127.246094\" xlink:href=\"#DejaVuSans-50\"/>\n       <use x=\"190.869141\" xlink:href=\"#DejaVuSans-50\"/>\n       <use x=\"254.492188\" xlink:href=\"#DejaVuSans-45\"/>\n       <use x=\"290.576172\" xlink:href=\"#DejaVuSans-48\"/>\n       <use x=\"354.199219\" xlink:href=\"#DejaVuSans-50\"/>\n      </g>\n     </g>\n    </g>\n    <g id=\"xtick_2\">\n     <g id=\"line2d_3\">\n      <path clip-path=\"url(#p2b7e5a96a6)\" d=\"M 125.233587 316.078125 \nL 125.233587 22.318125 \n\" style=\"fill:none;stroke:#b0b0b0;stroke-linecap:square;stroke-width:0.8;\"/>\n     </g>\n     <g id=\"line2d_4\">\n      <g>\n       <use style=\"stroke:#000000;stroke-width:0.8;\" x=\"125.233587\" xlink:href=\"#m5b6a7699e4\" y=\"316.078125\"/>\n      </g>\n     </g>\n     <g id=\"text_2\">\n      <!-- 2022-03 -->\n      <g transform=\"translate(88.008766 350.549971)rotate(-30)scale(0.1 -0.1)\">\n       <defs>\n        <path d=\"M 40.578125 39.3125 \nQ 47.65625 37.796875 51.625 33 \nQ 55.609375 28.21875 55.609375 21.1875 \nQ 55.609375 10.40625 48.1875 4.484375 \nQ 40.765625 -1.421875 27.09375 -1.421875 \nQ 22.515625 -1.421875 17.65625 -0.515625 \nQ 12.796875 0.390625 7.625 2.203125 \nL 7.625 11.71875 \nQ 11.71875 9.328125 16.59375 8.109375 \nQ 21.484375 6.890625 26.8125 6.890625 \nQ 36.078125 6.890625 40.9375 10.546875 \nQ 45.796875 14.203125 45.796875 21.1875 \nQ 45.796875 27.640625 41.28125 31.265625 \nQ 36.765625 34.90625 28.71875 34.90625 \nL 20.21875 34.90625 \nL 20.21875 43.015625 \nL 29.109375 43.015625 \nQ 36.375 43.015625 40.234375 45.921875 \nQ 44.09375 48.828125 44.09375 54.296875 \nQ 44.09375 59.90625 40.109375 62.90625 \nQ 36.140625 65.921875 28.71875 65.921875 \nQ 24.65625 65.921875 20.015625 65.03125 \nQ 15.375 64.15625 9.8125 62.3125 \nL 9.8125 71.09375 \nQ 15.4375 72.65625 20.34375 73.4375 \nQ 25.25 74.21875 29.59375 74.21875 \nQ 40.828125 74.21875 47.359375 69.109375 \nQ 53.90625 64.015625 53.90625 55.328125 \nQ 53.90625 49.265625 50.4375 45.09375 \nQ 46.96875 40.921875 40.578125 39.3125 \nz\n\" id=\"DejaVuSans-51\"/>\n       </defs>\n       <use xlink:href=\"#DejaVuSans-50\"/>\n       <use x=\"63.623047\" xlink:href=\"#DejaVuSans-48\"/>\n       <use x=\"127.246094\" xlink:href=\"#DejaVuSans-50\"/>\n       <use x=\"190.869141\" xlink:href=\"#DejaVuSans-50\"/>\n       <use x=\"254.492188\" xlink:href=\"#DejaVuSans-45\"/>\n       <use x=\"290.576172\" xlink:href=\"#DejaVuSans-48\"/>\n       <use x=\"354.199219\" xlink:href=\"#DejaVuSans-51\"/>\n      </g>\n     </g>\n    </g>\n    <g id=\"xtick_3\">\n     <g id=\"line2d_5\">\n      <path clip-path=\"url(#p2b7e5a96a6)\" d=\"M 175.117394 316.078125 \nL 175.117394 22.318125 \n\" style=\"fill:none;stroke:#b0b0b0;stroke-linecap:square;stroke-width:0.8;\"/>\n     </g>\n     <g id=\"line2d_6\">\n      <g>\n       <use style=\"stroke:#000000;stroke-width:0.8;\" x=\"175.117394\" xlink:href=\"#m5b6a7699e4\" y=\"316.078125\"/>\n      </g>\n     </g>\n     <g id=\"text_3\">\n      <!-- 2022-04 -->\n      <g transform=\"translate(137.892573 350.549971)rotate(-30)scale(0.1 -0.1)\">\n       <defs>\n        <path d=\"M 37.796875 64.3125 \nL 12.890625 25.390625 \nL 37.796875 25.390625 \nz\nM 35.203125 72.90625 \nL 47.609375 72.90625 \nL 47.609375 25.390625 \nL 58.015625 25.390625 \nL 58.015625 17.1875 \nL 47.609375 17.1875 \nL 47.609375 0 \nL 37.796875 0 \nL 37.796875 17.1875 \nL 4.890625 17.1875 \nL 4.890625 26.703125 \nz\n\" id=\"DejaVuSans-52\"/>\n       </defs>\n       <use xlink:href=\"#DejaVuSans-50\"/>\n       <use x=\"63.623047\" xlink:href=\"#DejaVuSans-48\"/>\n       <use x=\"127.246094\" xlink:href=\"#DejaVuSans-50\"/>\n       <use x=\"190.869141\" xlink:href=\"#DejaVuSans-50\"/>\n       <use x=\"254.492188\" xlink:href=\"#DejaVuSans-45\"/>\n       <use x=\"290.576172\" xlink:href=\"#DejaVuSans-48\"/>\n       <use x=\"354.199219\" xlink:href=\"#DejaVuSans-52\"/>\n      </g>\n     </g>\n    </g>\n    <g id=\"xtick_4\">\n     <g id=\"line2d_7\">\n      <path clip-path=\"url(#p2b7e5a96a6)\" d=\"M 223.392046 316.078125 \nL 223.392046 22.318125 \n\" style=\"fill:none;stroke:#b0b0b0;stroke-linecap:square;stroke-width:0.8;\"/>\n     </g>\n     <g id=\"line2d_8\">\n      <g>\n       <use style=\"stroke:#000000;stroke-width:0.8;\" x=\"223.392046\" xlink:href=\"#m5b6a7699e4\" y=\"316.078125\"/>\n      </g>\n     </g>\n     <g id=\"text_4\">\n      <!-- 2022-05 -->\n      <g transform=\"translate(186.167225 350.549971)rotate(-30)scale(0.1 -0.1)\">\n       <defs>\n        <path d=\"M 10.796875 72.90625 \nL 49.515625 72.90625 \nL 49.515625 64.59375 \nL 19.828125 64.59375 \nL 19.828125 46.734375 \nQ 21.96875 47.46875 24.109375 47.828125 \nQ 26.265625 48.1875 28.421875 48.1875 \nQ 40.625 48.1875 47.75 41.5 \nQ 54.890625 34.8125 54.890625 23.390625 \nQ 54.890625 11.625 47.5625 5.09375 \nQ 40.234375 -1.421875 26.90625 -1.421875 \nQ 22.3125 -1.421875 17.546875 -0.640625 \nQ 12.796875 0.140625 7.71875 1.703125 \nL 7.71875 11.625 \nQ 12.109375 9.234375 16.796875 8.0625 \nQ 21.484375 6.890625 26.703125 6.890625 \nQ 35.15625 6.890625 40.078125 11.328125 \nQ 45.015625 15.765625 45.015625 23.390625 \nQ 45.015625 31 40.078125 35.4375 \nQ 35.15625 39.890625 26.703125 39.890625 \nQ 22.75 39.890625 18.8125 39.015625 \nQ 14.890625 38.140625 10.796875 36.28125 \nz\n\" id=\"DejaVuSans-53\"/>\n       </defs>\n       <use xlink:href=\"#DejaVuSans-50\"/>\n       <use x=\"63.623047\" xlink:href=\"#DejaVuSans-48\"/>\n       <use x=\"127.246094\" xlink:href=\"#DejaVuSans-50\"/>\n       <use x=\"190.869141\" xlink:href=\"#DejaVuSans-50\"/>\n       <use x=\"254.492188\" xlink:href=\"#DejaVuSans-45\"/>\n       <use x=\"290.576172\" xlink:href=\"#DejaVuSans-48\"/>\n       <use x=\"354.199219\" xlink:href=\"#DejaVuSans-53\"/>\n      </g>\n     </g>\n    </g>\n    <g id=\"xtick_5\">\n     <g id=\"line2d_9\">\n      <path clip-path=\"url(#p2b7e5a96a6)\" d=\"M 273.275854 316.078125 \nL 273.275854 22.318125 \n\" style=\"fill:none;stroke:#b0b0b0;stroke-linecap:square;stroke-width:0.8;\"/>\n     </g>\n     <g id=\"line2d_10\">\n      <g>\n       <use style=\"stroke:#000000;stroke-width:0.8;\" x=\"273.275854\" xlink:href=\"#m5b6a7699e4\" y=\"316.078125\"/>\n      </g>\n     </g>\n     <g id=\"text_5\">\n      <!-- 2022-06 -->\n      <g transform=\"translate(236.051033 350.549971)rotate(-30)scale(0.1 -0.1)\">\n       <defs>\n        <path d=\"M 33.015625 40.375 \nQ 26.375 40.375 22.484375 35.828125 \nQ 18.609375 31.296875 18.609375 23.390625 \nQ 18.609375 15.53125 22.484375 10.953125 \nQ 26.375 6.390625 33.015625 6.390625 \nQ 39.65625 6.390625 43.53125 10.953125 \nQ 47.40625 15.53125 47.40625 23.390625 \nQ 47.40625 31.296875 43.53125 35.828125 \nQ 39.65625 40.375 33.015625 40.375 \nz\nM 52.59375 71.296875 \nL 52.59375 62.3125 \nQ 48.875 64.0625 45.09375 64.984375 \nQ 41.3125 65.921875 37.59375 65.921875 \nQ 27.828125 65.921875 22.671875 59.328125 \nQ 17.53125 52.734375 16.796875 39.40625 \nQ 19.671875 43.65625 24.015625 45.921875 \nQ 28.375 48.1875 33.59375 48.1875 \nQ 44.578125 48.1875 50.953125 41.515625 \nQ 57.328125 34.859375 57.328125 23.390625 \nQ 57.328125 12.15625 50.6875 5.359375 \nQ 44.046875 -1.421875 33.015625 -1.421875 \nQ 20.359375 -1.421875 13.671875 8.265625 \nQ 6.984375 17.96875 6.984375 36.375 \nQ 6.984375 53.65625 15.1875 63.9375 \nQ 23.390625 74.21875 37.203125 74.21875 \nQ 40.921875 74.21875 44.703125 73.484375 \nQ 48.484375 72.75 52.59375 71.296875 \nz\n\" id=\"DejaVuSans-54\"/>\n       </defs>\n       <use xlink:href=\"#DejaVuSans-50\"/>\n       <use x=\"63.623047\" xlink:href=\"#DejaVuSans-48\"/>\n       <use x=\"127.246094\" xlink:href=\"#DejaVuSans-50\"/>\n       <use x=\"190.869141\" xlink:href=\"#DejaVuSans-50\"/>\n       <use x=\"254.492188\" xlink:href=\"#DejaVuSans-45\"/>\n       <use x=\"290.576172\" xlink:href=\"#DejaVuSans-48\"/>\n       <use x=\"354.199219\" xlink:href=\"#DejaVuSans-54\"/>\n      </g>\n     </g>\n    </g>\n    <g id=\"xtick_6\">\n     <g id=\"line2d_11\">\n      <path clip-path=\"url(#p2b7e5a96a6)\" d=\"M 321.550506 316.078125 \nL 321.550506 22.318125 \n\" style=\"fill:none;stroke:#b0b0b0;stroke-linecap:square;stroke-width:0.8;\"/>\n     </g>\n     <g id=\"line2d_12\">\n      <g>\n       <use style=\"stroke:#000000;stroke-width:0.8;\" x=\"321.550506\" xlink:href=\"#m5b6a7699e4\" y=\"316.078125\"/>\n      </g>\n     </g>\n     <g id=\"text_6\">\n      <!-- 2022-07 -->\n      <g transform=\"translate(284.325685 350.549971)rotate(-30)scale(0.1 -0.1)\">\n       <defs>\n        <path d=\"M 8.203125 72.90625 \nL 55.078125 72.90625 \nL 55.078125 68.703125 \nL 28.609375 0 \nL 18.3125 0 \nL 43.21875 64.59375 \nL 8.203125 64.59375 \nz\n\" id=\"DejaVuSans-55\"/>\n       </defs>\n       <use xlink:href=\"#DejaVuSans-50\"/>\n       <use x=\"63.623047\" xlink:href=\"#DejaVuSans-48\"/>\n       <use x=\"127.246094\" xlink:href=\"#DejaVuSans-50\"/>\n       <use x=\"190.869141\" xlink:href=\"#DejaVuSans-50\"/>\n       <use x=\"254.492188\" xlink:href=\"#DejaVuSans-45\"/>\n       <use x=\"290.576172\" xlink:href=\"#DejaVuSans-48\"/>\n       <use x=\"354.199219\" xlink:href=\"#DejaVuSans-55\"/>\n      </g>\n     </g>\n    </g>\n    <g id=\"text_7\">\n     <!-- date -->\n     <g transform=\"translate(187.872443 363.949471)scale(0.1 -0.1)\">\n      <defs>\n       <path d=\"M 45.40625 46.390625 \nL 45.40625 75.984375 \nL 54.390625 75.984375 \nL 54.390625 0 \nL 45.40625 0 \nL 45.40625 8.203125 \nQ 42.578125 3.328125 38.25 0.953125 \nQ 33.9375 -1.421875 27.875 -1.421875 \nQ 17.96875 -1.421875 11.734375 6.484375 \nQ 5.515625 14.40625 5.515625 27.296875 \nQ 5.515625 40.1875 11.734375 48.09375 \nQ 17.96875 56 27.875 56 \nQ 33.9375 56 38.25 53.625 \nQ 42.578125 51.265625 45.40625 46.390625 \nz\nM 14.796875 27.296875 \nQ 14.796875 17.390625 18.875 11.75 \nQ 22.953125 6.109375 30.078125 6.109375 \nQ 37.203125 6.109375 41.296875 11.75 \nQ 45.40625 17.390625 45.40625 27.296875 \nQ 45.40625 37.203125 41.296875 42.84375 \nQ 37.203125 48.484375 30.078125 48.484375 \nQ 22.953125 48.484375 18.875 42.84375 \nQ 14.796875 37.203125 14.796875 27.296875 \nz\n\" id=\"DejaVuSans-100\"/>\n       <path d=\"M 34.28125 27.484375 \nQ 23.390625 27.484375 19.1875 25 \nQ 14.984375 22.515625 14.984375 16.5 \nQ 14.984375 11.71875 18.140625 8.90625 \nQ 21.296875 6.109375 26.703125 6.109375 \nQ 34.1875 6.109375 38.703125 11.40625 \nQ 43.21875 16.703125 43.21875 25.484375 \nL 43.21875 27.484375 \nz\nM 52.203125 31.203125 \nL 52.203125 0 \nL 43.21875 0 \nL 43.21875 8.296875 \nQ 40.140625 3.328125 35.546875 0.953125 \nQ 30.953125 -1.421875 24.3125 -1.421875 \nQ 15.921875 -1.421875 10.953125 3.296875 \nQ 6 8.015625 6 15.921875 \nQ 6 25.140625 12.171875 29.828125 \nQ 18.359375 34.515625 30.609375 34.515625 \nL 43.21875 34.515625 \nL 43.21875 35.40625 \nQ 43.21875 41.609375 39.140625 45 \nQ 35.0625 48.390625 27.6875 48.390625 \nQ 23 48.390625 18.546875 47.265625 \nQ 14.109375 46.140625 10.015625 43.890625 \nL 10.015625 52.203125 \nQ 14.9375 54.109375 19.578125 55.046875 \nQ 24.21875 56 28.609375 56 \nQ 40.484375 56 46.34375 49.84375 \nQ 52.203125 43.703125 52.203125 31.203125 \nz\n\" id=\"DejaVuSans-97\"/>\n       <path d=\"M 18.3125 70.21875 \nL 18.3125 54.6875 \nL 36.8125 54.6875 \nL 36.8125 47.703125 \nL 18.3125 47.703125 \nL 18.3125 18.015625 \nQ 18.3125 11.328125 20.140625 9.421875 \nQ 21.96875 7.515625 27.59375 7.515625 \nL 36.8125 7.515625 \nL 36.8125 0 \nL 27.59375 0 \nQ 17.1875 0 13.234375 3.875 \nQ 9.28125 7.765625 9.28125 18.015625 \nL 9.28125 47.703125 \nL 2.6875 47.703125 \nL 2.6875 54.6875 \nL 9.28125 54.6875 \nL 9.28125 70.21875 \nz\n\" id=\"DejaVuSans-116\"/>\n       <path d=\"M 56.203125 29.59375 \nL 56.203125 25.203125 \nL 14.890625 25.203125 \nQ 15.484375 15.921875 20.484375 11.0625 \nQ 25.484375 6.203125 34.421875 6.203125 \nQ 39.59375 6.203125 44.453125 7.46875 \nQ 49.3125 8.734375 54.109375 11.28125 \nL 54.109375 2.78125 \nQ 49.265625 0.734375 44.1875 -0.34375 \nQ 39.109375 -1.421875 33.890625 -1.421875 \nQ 20.796875 -1.421875 13.15625 6.1875 \nQ 5.515625 13.8125 5.515625 26.8125 \nQ 5.515625 40.234375 12.765625 48.109375 \nQ 20.015625 56 32.328125 56 \nQ 43.359375 56 49.78125 48.890625 \nQ 56.203125 41.796875 56.203125 29.59375 \nz\nM 47.21875 32.234375 \nQ 47.125 39.59375 43.09375 43.984375 \nQ 39.0625 48.390625 32.421875 48.390625 \nQ 24.90625 48.390625 20.390625 44.140625 \nQ 15.875 39.890625 15.1875 32.171875 \nz\n\" id=\"DejaVuSans-101\"/>\n      </defs>\n      <use xlink:href=\"#DejaVuSans-100\"/>\n      <use x=\"63.476562\" xlink:href=\"#DejaVuSans-97\"/>\n      <use x=\"124.755859\" xlink:href=\"#DejaVuSans-116\"/>\n      <use x=\"163.964844\" xlink:href=\"#DejaVuSans-101\"/>\n     </g>\n    </g>\n   </g>\n   <g id=\"matplotlib.axis_2\">\n    <g id=\"ytick_1\">\n     <g id=\"line2d_13\">\n      <path clip-path=\"url(#p2b7e5a96a6)\" d=\"M 46.965625 316.078125 \nL 351.329261 316.078125 \n\" style=\"fill:none;stroke:#b0b0b0;stroke-linecap:square;stroke-width:0.8;\"/>\n     </g>\n     <g id=\"line2d_14\">\n      <defs>\n       <path d=\"M 0 0 \nL -3.5 0 \n\" id=\"mf1cffc43dd\" style=\"stroke:#000000;stroke-width:0.8;\"/>\n      </defs>\n      <g>\n       <use style=\"stroke:#000000;stroke-width:0.8;\" x=\"46.965625\" xlink:href=\"#mf1cffc43dd\" y=\"316.078125\"/>\n      </g>\n     </g>\n     <g id=\"text_8\">\n      <!-- 0 -->\n      <g transform=\"translate(33.603125 319.877344)scale(0.1 -0.1)\">\n       <use xlink:href=\"#DejaVuSans-48\"/>\n      </g>\n     </g>\n    </g>\n    <g id=\"ytick_2\">\n     <g id=\"line2d_15\">\n      <path clip-path=\"url(#p2b7e5a96a6)\" d=\"M 46.965625 257.326125 \nL 351.329261 257.326125 \n\" style=\"fill:none;stroke:#b0b0b0;stroke-linecap:square;stroke-width:0.8;\"/>\n     </g>\n     <g id=\"line2d_16\">\n      <g>\n       <use style=\"stroke:#000000;stroke-width:0.8;\" x=\"46.965625\" xlink:href=\"#mf1cffc43dd\" y=\"257.326125\"/>\n      </g>\n     </g>\n     <g id=\"text_9\">\n      <!-- 50 -->\n      <g transform=\"translate(27.240625 261.125344)scale(0.1 -0.1)\">\n       <use xlink:href=\"#DejaVuSans-53\"/>\n       <use x=\"63.623047\" xlink:href=\"#DejaVuSans-48\"/>\n      </g>\n     </g>\n    </g>\n    <g id=\"ytick_3\">\n     <g id=\"line2d_17\">\n      <path clip-path=\"url(#p2b7e5a96a6)\" d=\"M 46.965625 198.574125 \nL 351.329261 198.574125 \n\" style=\"fill:none;stroke:#b0b0b0;stroke-linecap:square;stroke-width:0.8;\"/>\n     </g>\n     <g id=\"line2d_18\">\n      <g>\n       <use style=\"stroke:#000000;stroke-width:0.8;\" x=\"46.965625\" xlink:href=\"#mf1cffc43dd\" y=\"198.574125\"/>\n      </g>\n     </g>\n     <g id=\"text_10\">\n      <!-- 100 -->\n      <g transform=\"translate(20.878125 202.373344)scale(0.1 -0.1)\">\n       <defs>\n        <path d=\"M 12.40625 8.296875 \nL 28.515625 8.296875 \nL 28.515625 63.921875 \nL 10.984375 60.40625 \nL 10.984375 69.390625 \nL 28.421875 72.90625 \nL 38.28125 72.90625 \nL 38.28125 8.296875 \nL 54.390625 8.296875 \nL 54.390625 0 \nL 12.40625 0 \nz\n\" id=\"DejaVuSans-49\"/>\n       </defs>\n       <use xlink:href=\"#DejaVuSans-49\"/>\n       <use x=\"63.623047\" xlink:href=\"#DejaVuSans-48\"/>\n       <use x=\"127.246094\" xlink:href=\"#DejaVuSans-48\"/>\n      </g>\n     </g>\n    </g>\n    <g id=\"ytick_4\">\n     <g id=\"line2d_19\">\n      <path clip-path=\"url(#p2b7e5a96a6)\" d=\"M 46.965625 139.822125 \nL 351.329261 139.822125 \n\" style=\"fill:none;stroke:#b0b0b0;stroke-linecap:square;stroke-width:0.8;\"/>\n     </g>\n     <g id=\"line2d_20\">\n      <g>\n       <use style=\"stroke:#000000;stroke-width:0.8;\" x=\"46.965625\" xlink:href=\"#mf1cffc43dd\" y=\"139.822125\"/>\n      </g>\n     </g>\n     <g id=\"text_11\">\n      <!-- 150 -->\n      <g transform=\"translate(20.878125 143.621344)scale(0.1 -0.1)\">\n       <use xlink:href=\"#DejaVuSans-49\"/>\n       <use x=\"63.623047\" xlink:href=\"#DejaVuSans-53\"/>\n       <use x=\"127.246094\" xlink:href=\"#DejaVuSans-48\"/>\n      </g>\n     </g>\n    </g>\n    <g id=\"ytick_5\">\n     <g id=\"line2d_21\">\n      <path clip-path=\"url(#p2b7e5a96a6)\" d=\"M 46.965625 81.070125 \nL 351.329261 81.070125 \n\" style=\"fill:none;stroke:#b0b0b0;stroke-linecap:square;stroke-width:0.8;\"/>\n     </g>\n     <g id=\"line2d_22\">\n      <g>\n       <use style=\"stroke:#000000;stroke-width:0.8;\" x=\"46.965625\" xlink:href=\"#mf1cffc43dd\" y=\"81.070125\"/>\n      </g>\n     </g>\n     <g id=\"text_12\">\n      <!-- 200 -->\n      <g transform=\"translate(20.878125 84.869344)scale(0.1 -0.1)\">\n       <use xlink:href=\"#DejaVuSans-50\"/>\n       <use x=\"63.623047\" xlink:href=\"#DejaVuSans-48\"/>\n       <use x=\"127.246094\" xlink:href=\"#DejaVuSans-48\"/>\n      </g>\n     </g>\n    </g>\n    <g id=\"ytick_6\">\n     <g id=\"line2d_23\">\n      <path clip-path=\"url(#p2b7e5a96a6)\" d=\"M 46.965625 22.318125 \nL 351.329261 22.318125 \n\" style=\"fill:none;stroke:#b0b0b0;stroke-linecap:square;stroke-width:0.8;\"/>\n     </g>\n     <g id=\"line2d_24\">\n      <g>\n       <use style=\"stroke:#000000;stroke-width:0.8;\" x=\"46.965625\" xlink:href=\"#mf1cffc43dd\" y=\"22.318125\"/>\n      </g>\n     </g>\n     <g id=\"text_13\">\n      <!-- 250 -->\n      <g transform=\"translate(20.878125 26.117344)scale(0.1 -0.1)\">\n       <use xlink:href=\"#DejaVuSans-50\"/>\n       <use x=\"63.623047\" xlink:href=\"#DejaVuSans-53\"/>\n       <use x=\"127.246094\" xlink:href=\"#DejaVuSans-48\"/>\n      </g>\n     </g>\n    </g>\n    <g id=\"text_14\">\n     <!-- memory usage (GB) -->\n     <g transform=\"translate(14.798438 219.562187)rotate(-90)scale(0.1 -0.1)\">\n      <defs>\n       <path d=\"M 52 44.1875 \nQ 55.375 50.25 60.0625 53.125 \nQ 64.75 56 71.09375 56 \nQ 79.640625 56 84.28125 50.015625 \nQ 88.921875 44.046875 88.921875 33.015625 \nL 88.921875 0 \nL 79.890625 0 \nL 79.890625 32.71875 \nQ 79.890625 40.578125 77.09375 44.375 \nQ 74.3125 48.1875 68.609375 48.1875 \nQ 61.625 48.1875 57.5625 43.546875 \nQ 53.515625 38.921875 53.515625 30.90625 \nL 53.515625 0 \nL 44.484375 0 \nL 44.484375 32.71875 \nQ 44.484375 40.625 41.703125 44.40625 \nQ 38.921875 48.1875 33.109375 48.1875 \nQ 26.21875 48.1875 22.15625 43.53125 \nQ 18.109375 38.875 18.109375 30.90625 \nL 18.109375 0 \nL 9.078125 0 \nL 9.078125 54.6875 \nL 18.109375 54.6875 \nL 18.109375 46.1875 \nQ 21.1875 51.21875 25.484375 53.609375 \nQ 29.78125 56 35.6875 56 \nQ 41.65625 56 45.828125 52.96875 \nQ 50 49.953125 52 44.1875 \nz\n\" id=\"DejaVuSans-109\"/>\n       <path d=\"M 30.609375 48.390625 \nQ 23.390625 48.390625 19.1875 42.75 \nQ 14.984375 37.109375 14.984375 27.296875 \nQ 14.984375 17.484375 19.15625 11.84375 \nQ 23.34375 6.203125 30.609375 6.203125 \nQ 37.796875 6.203125 41.984375 11.859375 \nQ 46.1875 17.53125 46.1875 27.296875 \nQ 46.1875 37.015625 41.984375 42.703125 \nQ 37.796875 48.390625 30.609375 48.390625 \nz\nM 30.609375 56 \nQ 42.328125 56 49.015625 48.375 \nQ 55.71875 40.765625 55.71875 27.296875 \nQ 55.71875 13.875 49.015625 6.21875 \nQ 42.328125 -1.421875 30.609375 -1.421875 \nQ 18.84375 -1.421875 12.171875 6.21875 \nQ 5.515625 13.875 5.515625 27.296875 \nQ 5.515625 40.765625 12.171875 48.375 \nQ 18.84375 56 30.609375 56 \nz\n\" id=\"DejaVuSans-111\"/>\n       <path d=\"M 41.109375 46.296875 \nQ 39.59375 47.171875 37.8125 47.578125 \nQ 36.03125 48 33.890625 48 \nQ 26.265625 48 22.1875 43.046875 \nQ 18.109375 38.09375 18.109375 28.8125 \nL 18.109375 0 \nL 9.078125 0 \nL 9.078125 54.6875 \nL 18.109375 54.6875 \nL 18.109375 46.1875 \nQ 20.953125 51.171875 25.484375 53.578125 \nQ 30.03125 56 36.53125 56 \nQ 37.453125 56 38.578125 55.875 \nQ 39.703125 55.765625 41.0625 55.515625 \nz\n\" id=\"DejaVuSans-114\"/>\n       <path d=\"M 32.171875 -5.078125 \nQ 28.375 -14.84375 24.75 -17.8125 \nQ 21.140625 -20.796875 15.09375 -20.796875 \nL 7.90625 -20.796875 \nL 7.90625 -13.28125 \nL 13.1875 -13.28125 \nQ 16.890625 -13.28125 18.9375 -11.515625 \nQ 21 -9.765625 23.484375 -3.21875 \nL 25.09375 0.875 \nL 2.984375 54.6875 \nL 12.5 54.6875 \nL 29.59375 11.921875 \nL 46.6875 54.6875 \nL 56.203125 54.6875 \nz\n\" id=\"DejaVuSans-121\"/>\n       <path id=\"DejaVuSans-32\"/>\n       <path d=\"M 8.5 21.578125 \nL 8.5 54.6875 \nL 17.484375 54.6875 \nL 17.484375 21.921875 \nQ 17.484375 14.15625 20.5 10.265625 \nQ 23.53125 6.390625 29.59375 6.390625 \nQ 36.859375 6.390625 41.078125 11.03125 \nQ 45.3125 15.671875 45.3125 23.6875 \nL 45.3125 54.6875 \nL 54.296875 54.6875 \nL 54.296875 0 \nL 45.3125 0 \nL 45.3125 8.40625 \nQ 42.046875 3.421875 37.71875 1 \nQ 33.40625 -1.421875 27.6875 -1.421875 \nQ 18.265625 -1.421875 13.375 4.4375 \nQ 8.5 10.296875 8.5 21.578125 \nz\nM 31.109375 56 \nz\n\" id=\"DejaVuSans-117\"/>\n       <path d=\"M 44.28125 53.078125 \nL 44.28125 44.578125 \nQ 40.484375 46.53125 36.375 47.5 \nQ 32.28125 48.484375 27.875 48.484375 \nQ 21.1875 48.484375 17.84375 46.4375 \nQ 14.5 44.390625 14.5 40.28125 \nQ 14.5 37.15625 16.890625 35.375 \nQ 19.28125 33.59375 26.515625 31.984375 \nL 29.59375 31.296875 \nQ 39.15625 29.25 43.1875 25.515625 \nQ 47.21875 21.78125 47.21875 15.09375 \nQ 47.21875 7.46875 41.1875 3.015625 \nQ 35.15625 -1.421875 24.609375 -1.421875 \nQ 20.21875 -1.421875 15.453125 -0.5625 \nQ 10.6875 0.296875 5.421875 2 \nL 5.421875 11.28125 \nQ 10.40625 8.6875 15.234375 7.390625 \nQ 20.0625 6.109375 24.8125 6.109375 \nQ 31.15625 6.109375 34.5625 8.28125 \nQ 37.984375 10.453125 37.984375 14.40625 \nQ 37.984375 18.0625 35.515625 20.015625 \nQ 33.0625 21.96875 24.703125 23.78125 \nL 21.578125 24.515625 \nQ 13.234375 26.265625 9.515625 29.90625 \nQ 5.8125 33.546875 5.8125 39.890625 \nQ 5.8125 47.609375 11.28125 51.796875 \nQ 16.75 56 26.8125 56 \nQ 31.78125 56 36.171875 55.265625 \nQ 40.578125 54.546875 44.28125 53.078125 \nz\n\" id=\"DejaVuSans-115\"/>\n       <path d=\"M 45.40625 27.984375 \nQ 45.40625 37.75 41.375 43.109375 \nQ 37.359375 48.484375 30.078125 48.484375 \nQ 22.859375 48.484375 18.828125 43.109375 \nQ 14.796875 37.75 14.796875 27.984375 \nQ 14.796875 18.265625 18.828125 12.890625 \nQ 22.859375 7.515625 30.078125 7.515625 \nQ 37.359375 7.515625 41.375 12.890625 \nQ 45.40625 18.265625 45.40625 27.984375 \nz\nM 54.390625 6.78125 \nQ 54.390625 -7.171875 48.1875 -13.984375 \nQ 42 -20.796875 29.203125 -20.796875 \nQ 24.46875 -20.796875 20.265625 -20.09375 \nQ 16.0625 -19.390625 12.109375 -17.921875 \nL 12.109375 -9.1875 \nQ 16.0625 -11.328125 19.921875 -12.34375 \nQ 23.78125 -13.375 27.78125 -13.375 \nQ 36.625 -13.375 41.015625 -8.765625 \nQ 45.40625 -4.15625 45.40625 5.171875 \nL 45.40625 9.625 \nQ 42.625 4.78125 38.28125 2.390625 \nQ 33.9375 0 27.875 0 \nQ 17.828125 0 11.671875 7.65625 \nQ 5.515625 15.328125 5.515625 27.984375 \nQ 5.515625 40.671875 11.671875 48.328125 \nQ 17.828125 56 27.875 56 \nQ 33.9375 56 38.28125 53.609375 \nQ 42.625 51.21875 45.40625 46.390625 \nL 45.40625 54.6875 \nL 54.390625 54.6875 \nz\n\" id=\"DejaVuSans-103\"/>\n       <path d=\"M 31 75.875 \nQ 24.46875 64.65625 21.28125 53.65625 \nQ 18.109375 42.671875 18.109375 31.390625 \nQ 18.109375 20.125 21.3125 9.0625 \nQ 24.515625 -2 31 -13.1875 \nL 23.1875 -13.1875 \nQ 15.875 -1.703125 12.234375 9.375 \nQ 8.59375 20.453125 8.59375 31.390625 \nQ 8.59375 42.28125 12.203125 53.3125 \nQ 15.828125 64.359375 23.1875 75.875 \nz\n\" id=\"DejaVuSans-40\"/>\n       <path d=\"M 59.515625 10.40625 \nL 59.515625 29.984375 \nL 43.40625 29.984375 \nL 43.40625 38.09375 \nL 69.28125 38.09375 \nL 69.28125 6.78125 \nQ 63.578125 2.734375 56.6875 0.65625 \nQ 49.8125 -1.421875 42 -1.421875 \nQ 24.90625 -1.421875 15.25 8.5625 \nQ 5.609375 18.5625 5.609375 36.375 \nQ 5.609375 54.25 15.25 64.234375 \nQ 24.90625 74.21875 42 74.21875 \nQ 49.125 74.21875 55.546875 72.453125 \nQ 61.96875 70.703125 67.390625 67.28125 \nL 67.390625 56.78125 \nQ 61.921875 61.421875 55.765625 63.765625 \nQ 49.609375 66.109375 42.828125 66.109375 \nQ 29.4375 66.109375 22.71875 58.640625 \nQ 16.015625 51.171875 16.015625 36.375 \nQ 16.015625 21.625 22.71875 14.15625 \nQ 29.4375 6.6875 42.828125 6.6875 \nQ 48.046875 6.6875 52.140625 7.59375 \nQ 56.25 8.5 59.515625 10.40625 \nz\n\" id=\"DejaVuSans-71\"/>\n       <path d=\"M 19.671875 34.8125 \nL 19.671875 8.109375 \nL 35.5 8.109375 \nQ 43.453125 8.109375 47.28125 11.40625 \nQ 51.125 14.703125 51.125 21.484375 \nQ 51.125 28.328125 47.28125 31.5625 \nQ 43.453125 34.8125 35.5 34.8125 \nz\nM 19.671875 64.796875 \nL 19.671875 42.828125 \nL 34.28125 42.828125 \nQ 41.5 42.828125 45.03125 45.53125 \nQ 48.578125 48.25 48.578125 53.8125 \nQ 48.578125 59.328125 45.03125 62.0625 \nQ 41.5 64.796875 34.28125 64.796875 \nz\nM 9.8125 72.90625 \nL 35.015625 72.90625 \nQ 46.296875 72.90625 52.390625 68.21875 \nQ 58.5 63.53125 58.5 54.890625 \nQ 58.5 48.1875 55.375 44.234375 \nQ 52.25 40.28125 46.1875 39.3125 \nQ 53.46875 37.75 57.5 32.78125 \nQ 61.53125 27.828125 61.53125 20.40625 \nQ 61.53125 10.640625 54.890625 5.3125 \nQ 48.25 0 35.984375 0 \nL 9.8125 0 \nz\n\" id=\"DejaVuSans-66\"/>\n       <path d=\"M 8.015625 75.875 \nL 15.828125 75.875 \nQ 23.140625 64.359375 26.78125 53.3125 \nQ 30.421875 42.28125 30.421875 31.390625 \nQ 30.421875 20.453125 26.78125 9.375 \nQ 23.140625 -1.703125 15.828125 -13.1875 \nL 8.015625 -13.1875 \nQ 14.5 -2 17.703125 9.0625 \nQ 20.90625 20.125 20.90625 31.390625 \nQ 20.90625 42.671875 17.703125 53.65625 \nQ 14.5 64.65625 8.015625 75.875 \nz\n\" id=\"DejaVuSans-41\"/>\n      </defs>\n      <use xlink:href=\"#DejaVuSans-109\"/>\n      <use x=\"97.412109\" xlink:href=\"#DejaVuSans-101\"/>\n      <use x=\"158.935547\" xlink:href=\"#DejaVuSans-109\"/>\n      <use x=\"256.347656\" xlink:href=\"#DejaVuSans-111\"/>\n      <use x=\"317.529297\" xlink:href=\"#DejaVuSans-114\"/>\n      <use x=\"358.642578\" xlink:href=\"#DejaVuSans-121\"/>\n      <use x=\"417.822266\" xlink:href=\"#DejaVuSans-32\"/>\n      <use x=\"449.609375\" xlink:href=\"#DejaVuSans-117\"/>\n      <use x=\"512.988281\" xlink:href=\"#DejaVuSans-115\"/>\n      <use x=\"565.087891\" xlink:href=\"#DejaVuSans-97\"/>\n      <use x=\"626.367188\" xlink:href=\"#DejaVuSans-103\"/>\n      <use x=\"689.84375\" xlink:href=\"#DejaVuSans-101\"/>\n      <use x=\"751.367188\" xlink:href=\"#DejaVuSans-32\"/>\n      <use x=\"783.154297\" xlink:href=\"#DejaVuSans-40\"/>\n      <use x=\"822.167969\" xlink:href=\"#DejaVuSans-71\"/>\n      <use x=\"899.658203\" xlink:href=\"#DejaVuSans-66\"/>\n      <use x=\"968.261719\" xlink:href=\"#DejaVuSans-41\"/>\n     </g>\n    </g>\n   </g>\n   <g id=\"line2d_25\">\n    <path clip-path=\"url(#p2b7e5a96a6)\" d=\"M 60.800336 316.078125 \nL 60.867384 180.713517 \nL 64.085694 99.494752 \nL 67.304004 45.348909 \nL 70.522314 45.348909 \nL 75.34978 316.078125 \nL 116.819047 315.570508 \nL 117.020191 315.307299 \nL 117.022426 314.987688 \nL 117.111824 314.987688 \nL 120.931332 314.480071 \nL 121.132476 314.216862 \nL 121.134711 313.897251 \nL 121.224109 313.897251 \nL 126.842742 312.628208 \nL 128.653041 311.970185 \nL 128.658629 311.171158 \nL 128.720089 306.771808 \nL 128.78155 304.48753 \nL 128.791607 304.48753 \nL 128.854186 300.088181 \nL 128.882122 300.088181 \nL 132.474785 295.096611 \nL 132.877073 295.096611 \nL 135.257282 251.103113 \nL 135.357854 228.260336 \nL 135.458426 228.260336 \nL 135.458426 184.266838 \nL 135.558999 161.42406 \nL 135.659571 149.203644 \nL 135.659571 149.203644 \nL 135.855128 142.858428 \nL 135.883064 142.858428 \nL 135.961287 125.261029 \nL 136.162432 116.123918 \nL 136.202661 116.123918 \nL 136.497672 72.130421 \nL 136.598245 49.287643 \nL 136.698817 49.287643 \nL 136.765865 46.655553 \nL 137.168154 45.527515 \nL 137.190503 44.775489 \nL 137.212852 44.775489 \nL 137.30225 34.999157 \nL 140.52056 29.922984 \nL 140.542909 29.922984 \nL 140.565259 316.078125 \nL 150.980068 272.084627 \nL 150.980068 267.76048 \nL 151.08064 244.917703 \nL 151.181212 244.917703 \nL 151.382357 240.518353 \nL 151.443818 238.234075 \nL 151.453875 238.234075 \nL 155.002956 234.473947 \nL 155.01413 230.1498 \nL 155.461118 230.1498 \nL 181.554014 141.824393 \nL 321.550506 96.026034 \nL 321.939385 43.685052 \nL 337.494551 43.685052 \n\" style=\"fill:none;stroke:#ff0000;stroke-linecap:square;stroke-width:1.5;\"/>\n    <defs>\n     <path d=\"M 0 3 \nC 0.795609 3 1.55874 2.683901 2.12132 2.12132 \nC 2.683901 1.55874 3 0.795609 3 0 \nC 3 -0.795609 2.683901 -1.55874 2.12132 -2.12132 \nC 1.55874 -2.683901 0.795609 -3 0 -3 \nC -0.795609 -3 -1.55874 -2.683901 -2.12132 -2.12132 \nC -2.683901 -1.55874 -3 -0.795609 -3 0 \nC -3 0.795609 -2.683901 1.55874 -2.12132 2.12132 \nC -1.55874 2.683901 -0.795609 3 0 3 \nz\n\" id=\"mf6694e9998\" style=\"stroke:#ff0000;\"/>\n    </defs>\n    <g clip-path=\"url(#p2b7e5a96a6)\">\n     <use style=\"fill:#ff0000;stroke:#ff0000;\" x=\"60.800336\" xlink:href=\"#mf6694e9998\" y=\"316.078125\"/>\n     <use style=\"fill:#ff0000;stroke:#ff0000;\" x=\"60.867384\" xlink:href=\"#mf6694e9998\" y=\"180.713517\"/>\n     <use style=\"fill:#ff0000;stroke:#ff0000;\" x=\"64.085694\" xlink:href=\"#mf6694e9998\" y=\"99.494752\"/>\n     <use style=\"fill:#ff0000;stroke:#ff0000;\" x=\"67.304004\" xlink:href=\"#mf6694e9998\" y=\"45.348909\"/>\n     <use style=\"fill:#ff0000;stroke:#ff0000;\" x=\"70.522314\" xlink:href=\"#mf6694e9998\" y=\"45.348909\"/>\n     <use style=\"fill:#ff0000;stroke:#ff0000;\" x=\"75.34978\" xlink:href=\"#mf6694e9998\" y=\"316.078125\"/>\n     <use style=\"fill:#ff0000;stroke:#ff0000;\" x=\"116.819047\" xlink:href=\"#mf6694e9998\" y=\"315.570508\"/>\n     <use style=\"fill:#ff0000;stroke:#ff0000;\" x=\"117.020191\" xlink:href=\"#mf6694e9998\" y=\"315.307299\"/>\n     <use style=\"fill:#ff0000;stroke:#ff0000;\" x=\"117.022426\" xlink:href=\"#mf6694e9998\" y=\"314.987688\"/>\n     <use style=\"fill:#ff0000;stroke:#ff0000;\" x=\"117.111824\" xlink:href=\"#mf6694e9998\" y=\"314.987688\"/>\n     <use style=\"fill:#ff0000;stroke:#ff0000;\" x=\"120.931332\" xlink:href=\"#mf6694e9998\" y=\"314.480071\"/>\n     <use style=\"fill:#ff0000;stroke:#ff0000;\" x=\"121.132476\" xlink:href=\"#mf6694e9998\" y=\"314.216862\"/>\n     <use style=\"fill:#ff0000;stroke:#ff0000;\" x=\"121.134711\" xlink:href=\"#mf6694e9998\" y=\"313.897251\"/>\n     <use style=\"fill:#ff0000;stroke:#ff0000;\" x=\"121.224109\" xlink:href=\"#mf6694e9998\" y=\"313.897251\"/>\n     <use style=\"fill:#ff0000;stroke:#ff0000;\" x=\"126.842742\" xlink:href=\"#mf6694e9998\" y=\"312.628208\"/>\n     <use style=\"fill:#ff0000;stroke:#ff0000;\" x=\"128.653041\" xlink:href=\"#mf6694e9998\" y=\"311.970185\"/>\n     <use style=\"fill:#ff0000;stroke:#ff0000;\" x=\"128.658629\" xlink:href=\"#mf6694e9998\" y=\"311.171158\"/>\n     <use style=\"fill:#ff0000;stroke:#ff0000;\" x=\"128.720089\" xlink:href=\"#mf6694e9998\" y=\"306.771808\"/>\n     <use style=\"fill:#ff0000;stroke:#ff0000;\" x=\"128.78155\" xlink:href=\"#mf6694e9998\" y=\"304.48753\"/>\n     <use style=\"fill:#ff0000;stroke:#ff0000;\" x=\"128.791607\" xlink:href=\"#mf6694e9998\" y=\"304.48753\"/>\n     <use style=\"fill:#ff0000;stroke:#ff0000;\" x=\"128.854186\" xlink:href=\"#mf6694e9998\" y=\"300.088181\"/>\n     <use style=\"fill:#ff0000;stroke:#ff0000;\" x=\"128.882122\" xlink:href=\"#mf6694e9998\" y=\"300.088181\"/>\n     <use style=\"fill:#ff0000;stroke:#ff0000;\" x=\"132.474785\" xlink:href=\"#mf6694e9998\" y=\"295.096611\"/>\n     <use style=\"fill:#ff0000;stroke:#ff0000;\" x=\"132.877073\" xlink:href=\"#mf6694e9998\" y=\"295.096611\"/>\n     <use style=\"fill:#ff0000;stroke:#ff0000;\" x=\"135.257282\" xlink:href=\"#mf6694e9998\" y=\"251.103113\"/>\n     <use style=\"fill:#ff0000;stroke:#ff0000;\" x=\"135.357854\" xlink:href=\"#mf6694e9998\" y=\"228.260336\"/>\n     <use style=\"fill:#ff0000;stroke:#ff0000;\" x=\"135.458426\" xlink:href=\"#mf6694e9998\" y=\"228.260336\"/>\n     <use style=\"fill:#ff0000;stroke:#ff0000;\" x=\"135.458426\" xlink:href=\"#mf6694e9998\" y=\"184.266838\"/>\n     <use style=\"fill:#ff0000;stroke:#ff0000;\" x=\"135.558999\" xlink:href=\"#mf6694e9998\" y=\"161.42406\"/>\n     <use style=\"fill:#ff0000;stroke:#ff0000;\" x=\"135.659571\" xlink:href=\"#mf6694e9998\" y=\"149.203644\"/>\n     <use style=\"fill:#ff0000;stroke:#ff0000;\" x=\"135.659571\" xlink:href=\"#mf6694e9998\" y=\"149.203644\"/>\n     <use style=\"fill:#ff0000;stroke:#ff0000;\" x=\"135.855128\" xlink:href=\"#mf6694e9998\" y=\"142.858428\"/>\n     <use style=\"fill:#ff0000;stroke:#ff0000;\" x=\"135.883064\" xlink:href=\"#mf6694e9998\" y=\"142.858428\"/>\n     <use style=\"fill:#ff0000;stroke:#ff0000;\" x=\"135.961287\" xlink:href=\"#mf6694e9998\" y=\"125.261029\"/>\n     <use style=\"fill:#ff0000;stroke:#ff0000;\" x=\"136.162432\" xlink:href=\"#mf6694e9998\" y=\"116.123918\"/>\n     <use style=\"fill:#ff0000;stroke:#ff0000;\" x=\"136.202661\" xlink:href=\"#mf6694e9998\" y=\"116.123918\"/>\n     <use style=\"fill:#ff0000;stroke:#ff0000;\" x=\"136.497672\" xlink:href=\"#mf6694e9998\" y=\"72.130421\"/>\n     <use style=\"fill:#ff0000;stroke:#ff0000;\" x=\"136.598245\" xlink:href=\"#mf6694e9998\" y=\"49.287643\"/>\n     <use style=\"fill:#ff0000;stroke:#ff0000;\" x=\"136.698817\" xlink:href=\"#mf6694e9998\" y=\"49.287643\"/>\n     <use style=\"fill:#ff0000;stroke:#ff0000;\" x=\"136.765865\" xlink:href=\"#mf6694e9998\" y=\"46.655553\"/>\n     <use style=\"fill:#ff0000;stroke:#ff0000;\" x=\"137.168154\" xlink:href=\"#mf6694e9998\" y=\"45.527515\"/>\n     <use style=\"fill:#ff0000;stroke:#ff0000;\" x=\"137.190503\" xlink:href=\"#mf6694e9998\" y=\"44.775489\"/>\n     <use style=\"fill:#ff0000;stroke:#ff0000;\" x=\"137.212852\" xlink:href=\"#mf6694e9998\" y=\"44.775489\"/>\n     <use style=\"fill:#ff0000;stroke:#ff0000;\" x=\"137.30225\" xlink:href=\"#mf6694e9998\" y=\"34.999157\"/>\n     <use style=\"fill:#ff0000;stroke:#ff0000;\" x=\"140.52056\" xlink:href=\"#mf6694e9998\" y=\"29.922984\"/>\n     <use style=\"fill:#ff0000;stroke:#ff0000;\" x=\"140.542909\" xlink:href=\"#mf6694e9998\" y=\"29.922984\"/>\n     <use style=\"fill:#ff0000;stroke:#ff0000;\" x=\"140.565259\" xlink:href=\"#mf6694e9998\" y=\"316.078125\"/>\n     <use style=\"fill:#ff0000;stroke:#ff0000;\" x=\"150.980068\" xlink:href=\"#mf6694e9998\" y=\"272.084627\"/>\n     <use style=\"fill:#ff0000;stroke:#ff0000;\" x=\"150.980068\" xlink:href=\"#mf6694e9998\" y=\"267.76048\"/>\n     <use style=\"fill:#ff0000;stroke:#ff0000;\" x=\"151.08064\" xlink:href=\"#mf6694e9998\" y=\"244.917703\"/>\n     <use style=\"fill:#ff0000;stroke:#ff0000;\" x=\"151.181212\" xlink:href=\"#mf6694e9998\" y=\"244.917703\"/>\n     <use style=\"fill:#ff0000;stroke:#ff0000;\" x=\"151.382357\" xlink:href=\"#mf6694e9998\" y=\"240.518353\"/>\n     <use style=\"fill:#ff0000;stroke:#ff0000;\" x=\"151.443818\" xlink:href=\"#mf6694e9998\" y=\"238.234075\"/>\n     <use style=\"fill:#ff0000;stroke:#ff0000;\" x=\"151.453875\" xlink:href=\"#mf6694e9998\" y=\"238.234075\"/>\n     <use style=\"fill:#ff0000;stroke:#ff0000;\" x=\"155.002956\" xlink:href=\"#mf6694e9998\" y=\"234.473947\"/>\n     <use style=\"fill:#ff0000;stroke:#ff0000;\" x=\"155.01413\" xlink:href=\"#mf6694e9998\" y=\"230.1498\"/>\n     <use style=\"fill:#ff0000;stroke:#ff0000;\" x=\"155.461118\" xlink:href=\"#mf6694e9998\" y=\"230.1498\"/>\n     <use style=\"fill:#ff0000;stroke:#ff0000;\" x=\"181.554014\" xlink:href=\"#mf6694e9998\" y=\"141.824393\"/>\n     <use style=\"fill:#ff0000;stroke:#ff0000;\" x=\"321.550506\" xlink:href=\"#mf6694e9998\" y=\"96.026034\"/>\n     <use style=\"fill:#ff0000;stroke:#ff0000;\" x=\"321.939385\" xlink:href=\"#mf6694e9998\" y=\"43.685052\"/>\n     <use style=\"fill:#ff0000;stroke:#ff0000;\" x=\"337.494551\" xlink:href=\"#mf6694e9998\" y=\"43.685052\"/>\n    </g>\n   </g>\n   <g id=\"line2d_26\">\n    <path clip-path=\"url(#p2b7e5a96a6)\" d=\"M 60.800336 316.078125 \nL 60.867384 180.713517 \nL 64.085694 180.713517 \nL 67.304004 180.713517 \nL 70.522314 180.713517 \nL 75.34978 316.078125 \nL 116.819047 315.570508 \nL 117.020191 315.570508 \nL 117.022426 315.570508 \nL 117.111824 315.570508 \nL 120.931332 315.06289 \nL 121.132476 315.06289 \nL 121.134711 315.06289 \nL 121.224109 315.06289 \nL 126.842742 313.793847 \nL 128.653041 313.793847 \nL 128.658629 313.793847 \nL 128.720089 309.394497 \nL 128.78155 309.394497 \nL 128.791607 309.394497 \nL 128.854186 304.995148 \nL 128.882122 304.995148 \nL 132.474785 304.995148 \nL 132.877073 304.995148 \nL 135.257282 261.00165 \nL 135.357854 261.00165 \nL 135.458426 261.00165 \nL 135.458426 217.008153 \nL 135.558999 217.008153 \nL 135.659571 204.787737 \nL 135.659571 204.787737 \nL 135.855128 204.787737 \nL 135.883064 204.787737 \nL 135.961287 187.190337 \nL 136.162432 187.190337 \nL 136.202661 187.190337 \nL 136.497672 143.19684 \nL 136.598245 143.19684 \nL 136.698817 143.19684 \nL 136.765865 140.56475 \nL 137.168154 140.56475 \nL 137.190503 140.56475 \nL 137.212852 140.56475 \nL 137.30225 130.788417 \nL 140.52056 130.788417 \nL 140.542909 130.788417 \nL 140.565259 316.078125 \nL 150.980068 272.084627 \nL 150.980068 267.76048 \nL 151.08064 267.76048 \nL 151.181212 267.76048 \nL 151.382357 263.36113 \nL 151.443818 263.36113 \nL 151.453875 263.36113 \nL 155.002956 263.36113 \nL 155.01413 263.36113 \nL 155.461118 263.36113 \nL 181.554014 175.035724 \nL 321.550506 175.035724 \nL 321.939385 175.035724 \nL 337.494551 175.035724 \n\" style=\"fill:none;stroke:#008000;stroke-linecap:square;stroke-width:1.5;\"/>\n    <defs>\n     <path d=\"M 0 -3 \nL -0.673542 -0.927051 \nL -2.85317 -0.927051 \nL -1.089814 0.354102 \nL -1.763356 2.427051 \nL -0 1.145898 \nL 1.763356 2.427051 \nL 1.089814 0.354102 \nL 2.85317 -0.927051 \nL 0.673542 -0.927051 \nz\n\" id=\"md4bc566975\" style=\"stroke:#008000;stroke-linejoin:bevel;\"/>\n    </defs>\n    <g clip-path=\"url(#p2b7e5a96a6)\">\n     <use style=\"fill:#008000;stroke:#008000;stroke-linejoin:bevel;\" x=\"60.800336\" xlink:href=\"#md4bc566975\" y=\"316.078125\"/>\n     <use style=\"fill:#008000;stroke:#008000;stroke-linejoin:bevel;\" x=\"60.867384\" xlink:href=\"#md4bc566975\" y=\"180.713517\"/>\n     <use style=\"fill:#008000;stroke:#008000;stroke-linejoin:bevel;\" x=\"64.085694\" xlink:href=\"#md4bc566975\" y=\"180.713517\"/>\n     <use style=\"fill:#008000;stroke:#008000;stroke-linejoin:bevel;\" x=\"67.304004\" xlink:href=\"#md4bc566975\" y=\"180.713517\"/>\n     <use style=\"fill:#008000;stroke:#008000;stroke-linejoin:bevel;\" x=\"70.522314\" xlink:href=\"#md4bc566975\" y=\"180.713517\"/>\n     <use style=\"fill:#008000;stroke:#008000;stroke-linejoin:bevel;\" x=\"75.34978\" xlink:href=\"#md4bc566975\" y=\"316.078125\"/>\n     <use style=\"fill:#008000;stroke:#008000;stroke-linejoin:bevel;\" x=\"116.819047\" xlink:href=\"#md4bc566975\" y=\"315.570508\"/>\n     <use style=\"fill:#008000;stroke:#008000;stroke-linejoin:bevel;\" x=\"117.020191\" xlink:href=\"#md4bc566975\" y=\"315.570508\"/>\n     <use style=\"fill:#008000;stroke:#008000;stroke-linejoin:bevel;\" x=\"117.022426\" xlink:href=\"#md4bc566975\" y=\"315.570508\"/>\n     <use style=\"fill:#008000;stroke:#008000;stroke-linejoin:bevel;\" x=\"117.111824\" xlink:href=\"#md4bc566975\" y=\"315.570508\"/>\n     <use style=\"fill:#008000;stroke:#008000;stroke-linejoin:bevel;\" x=\"120.931332\" xlink:href=\"#md4bc566975\" y=\"315.06289\"/>\n     <use style=\"fill:#008000;stroke:#008000;stroke-linejoin:bevel;\" x=\"121.132476\" xlink:href=\"#md4bc566975\" y=\"315.06289\"/>\n     <use style=\"fill:#008000;stroke:#008000;stroke-linejoin:bevel;\" x=\"121.134711\" xlink:href=\"#md4bc566975\" y=\"315.06289\"/>\n     <use style=\"fill:#008000;stroke:#008000;stroke-linejoin:bevel;\" x=\"121.224109\" xlink:href=\"#md4bc566975\" y=\"315.06289\"/>\n     <use style=\"fill:#008000;stroke:#008000;stroke-linejoin:bevel;\" x=\"126.842742\" xlink:href=\"#md4bc566975\" y=\"313.793847\"/>\n     <use style=\"fill:#008000;stroke:#008000;stroke-linejoin:bevel;\" x=\"128.653041\" xlink:href=\"#md4bc566975\" y=\"313.793847\"/>\n     <use style=\"fill:#008000;stroke:#008000;stroke-linejoin:bevel;\" x=\"128.658629\" xlink:href=\"#md4bc566975\" y=\"313.793847\"/>\n     <use style=\"fill:#008000;stroke:#008000;stroke-linejoin:bevel;\" x=\"128.720089\" xlink:href=\"#md4bc566975\" y=\"309.394497\"/>\n     <use style=\"fill:#008000;stroke:#008000;stroke-linejoin:bevel;\" x=\"128.78155\" xlink:href=\"#md4bc566975\" y=\"309.394497\"/>\n     <use style=\"fill:#008000;stroke:#008000;stroke-linejoin:bevel;\" x=\"128.791607\" xlink:href=\"#md4bc566975\" y=\"309.394497\"/>\n     <use style=\"fill:#008000;stroke:#008000;stroke-linejoin:bevel;\" x=\"128.854186\" xlink:href=\"#md4bc566975\" y=\"304.995148\"/>\n     <use style=\"fill:#008000;stroke:#008000;stroke-linejoin:bevel;\" x=\"128.882122\" xlink:href=\"#md4bc566975\" y=\"304.995148\"/>\n     <use style=\"fill:#008000;stroke:#008000;stroke-linejoin:bevel;\" x=\"132.474785\" xlink:href=\"#md4bc566975\" y=\"304.995148\"/>\n     <use style=\"fill:#008000;stroke:#008000;stroke-linejoin:bevel;\" x=\"132.877073\" xlink:href=\"#md4bc566975\" y=\"304.995148\"/>\n     <use style=\"fill:#008000;stroke:#008000;stroke-linejoin:bevel;\" x=\"135.257282\" xlink:href=\"#md4bc566975\" y=\"261.00165\"/>\n     <use style=\"fill:#008000;stroke:#008000;stroke-linejoin:bevel;\" x=\"135.357854\" xlink:href=\"#md4bc566975\" y=\"261.00165\"/>\n     <use style=\"fill:#008000;stroke:#008000;stroke-linejoin:bevel;\" x=\"135.458426\" xlink:href=\"#md4bc566975\" y=\"261.00165\"/>\n     <use style=\"fill:#008000;stroke:#008000;stroke-linejoin:bevel;\" x=\"135.458426\" xlink:href=\"#md4bc566975\" y=\"217.008153\"/>\n     <use style=\"fill:#008000;stroke:#008000;stroke-linejoin:bevel;\" x=\"135.558999\" xlink:href=\"#md4bc566975\" y=\"217.008153\"/>\n     <use style=\"fill:#008000;stroke:#008000;stroke-linejoin:bevel;\" x=\"135.659571\" xlink:href=\"#md4bc566975\" y=\"204.787737\"/>\n     <use style=\"fill:#008000;stroke:#008000;stroke-linejoin:bevel;\" x=\"135.659571\" xlink:href=\"#md4bc566975\" y=\"204.787737\"/>\n     <use style=\"fill:#008000;stroke:#008000;stroke-linejoin:bevel;\" x=\"135.855128\" xlink:href=\"#md4bc566975\" y=\"204.787737\"/>\n     <use style=\"fill:#008000;stroke:#008000;stroke-linejoin:bevel;\" x=\"135.883064\" xlink:href=\"#md4bc566975\" y=\"204.787737\"/>\n     <use style=\"fill:#008000;stroke:#008000;stroke-linejoin:bevel;\" x=\"135.961287\" xlink:href=\"#md4bc566975\" y=\"187.190337\"/>\n     <use style=\"fill:#008000;stroke:#008000;stroke-linejoin:bevel;\" x=\"136.162432\" xlink:href=\"#md4bc566975\" y=\"187.190337\"/>\n     <use style=\"fill:#008000;stroke:#008000;stroke-linejoin:bevel;\" x=\"136.202661\" xlink:href=\"#md4bc566975\" y=\"187.190337\"/>\n     <use style=\"fill:#008000;stroke:#008000;stroke-linejoin:bevel;\" x=\"136.497672\" xlink:href=\"#md4bc566975\" y=\"143.19684\"/>\n     <use style=\"fill:#008000;stroke:#008000;stroke-linejoin:bevel;\" x=\"136.598245\" xlink:href=\"#md4bc566975\" y=\"143.19684\"/>\n     <use style=\"fill:#008000;stroke:#008000;stroke-linejoin:bevel;\" x=\"136.698817\" xlink:href=\"#md4bc566975\" y=\"143.19684\"/>\n     <use style=\"fill:#008000;stroke:#008000;stroke-linejoin:bevel;\" x=\"136.765865\" xlink:href=\"#md4bc566975\" y=\"140.56475\"/>\n     <use style=\"fill:#008000;stroke:#008000;stroke-linejoin:bevel;\" x=\"137.168154\" xlink:href=\"#md4bc566975\" y=\"140.56475\"/>\n     <use style=\"fill:#008000;stroke:#008000;stroke-linejoin:bevel;\" x=\"137.190503\" xlink:href=\"#md4bc566975\" y=\"140.56475\"/>\n     <use style=\"fill:#008000;stroke:#008000;stroke-linejoin:bevel;\" x=\"137.212852\" xlink:href=\"#md4bc566975\" y=\"140.56475\"/>\n     <use style=\"fill:#008000;stroke:#008000;stroke-linejoin:bevel;\" x=\"137.30225\" xlink:href=\"#md4bc566975\" y=\"130.788417\"/>\n     <use style=\"fill:#008000;stroke:#008000;stroke-linejoin:bevel;\" x=\"140.52056\" xlink:href=\"#md4bc566975\" y=\"130.788417\"/>\n     <use style=\"fill:#008000;stroke:#008000;stroke-linejoin:bevel;\" x=\"140.542909\" xlink:href=\"#md4bc566975\" y=\"130.788417\"/>\n     <use style=\"fill:#008000;stroke:#008000;stroke-linejoin:bevel;\" x=\"140.565259\" xlink:href=\"#md4bc566975\" y=\"316.078125\"/>\n     <use style=\"fill:#008000;stroke:#008000;stroke-linejoin:bevel;\" x=\"150.980068\" xlink:href=\"#md4bc566975\" y=\"272.084627\"/>\n     <use style=\"fill:#008000;stroke:#008000;stroke-linejoin:bevel;\" x=\"150.980068\" xlink:href=\"#md4bc566975\" y=\"267.76048\"/>\n     <use style=\"fill:#008000;stroke:#008000;stroke-linejoin:bevel;\" x=\"151.08064\" xlink:href=\"#md4bc566975\" y=\"267.76048\"/>\n     <use style=\"fill:#008000;stroke:#008000;stroke-linejoin:bevel;\" x=\"151.181212\" xlink:href=\"#md4bc566975\" y=\"267.76048\"/>\n     <use style=\"fill:#008000;stroke:#008000;stroke-linejoin:bevel;\" x=\"151.382357\" xlink:href=\"#md4bc566975\" y=\"263.36113\"/>\n     <use style=\"fill:#008000;stroke:#008000;stroke-linejoin:bevel;\" x=\"151.443818\" xlink:href=\"#md4bc566975\" y=\"263.36113\"/>\n     <use style=\"fill:#008000;stroke:#008000;stroke-linejoin:bevel;\" x=\"151.453875\" xlink:href=\"#md4bc566975\" y=\"263.36113\"/>\n     <use style=\"fill:#008000;stroke:#008000;stroke-linejoin:bevel;\" x=\"155.002956\" xlink:href=\"#md4bc566975\" y=\"263.36113\"/>\n     <use style=\"fill:#008000;stroke:#008000;stroke-linejoin:bevel;\" x=\"155.01413\" xlink:href=\"#md4bc566975\" y=\"263.36113\"/>\n     <use style=\"fill:#008000;stroke:#008000;stroke-linejoin:bevel;\" x=\"155.461118\" xlink:href=\"#md4bc566975\" y=\"263.36113\"/>\n     <use style=\"fill:#008000;stroke:#008000;stroke-linejoin:bevel;\" x=\"181.554014\" xlink:href=\"#md4bc566975\" y=\"175.035724\"/>\n     <use style=\"fill:#008000;stroke:#008000;stroke-linejoin:bevel;\" x=\"321.550506\" xlink:href=\"#md4bc566975\" y=\"175.035724\"/>\n     <use style=\"fill:#008000;stroke:#008000;stroke-linejoin:bevel;\" x=\"321.939385\" xlink:href=\"#md4bc566975\" y=\"175.035724\"/>\n     <use style=\"fill:#008000;stroke:#008000;stroke-linejoin:bevel;\" x=\"337.494551\" xlink:href=\"#md4bc566975\" y=\"175.035724\"/>\n    </g>\n   </g>\n   <g id=\"line2d_27\">\n    <path clip-path=\"url(#p2b7e5a96a6)\" d=\"M 60.800336 316.078125 \nL 60.867384 316.078125 \nL 64.085694 316.078125 \nL 67.304004 316.078125 \nL 70.522314 307.471643 \nL 75.34978 316.078125 \nL 116.819047 316.078125 \nL 117.020191 316.078125 \nL 117.022426 316.078125 \nL 117.111824 316.067239 \nL 120.931332 316.067239 \nL 121.132476 316.067239 \nL 121.134711 316.067239 \nL 121.224109 316.056353 \nL 126.842742 316.056353 \nL 128.653041 316.056353 \nL 128.658629 316.056353 \nL 128.720089 316.056353 \nL 128.78155 316.056353 \nL 128.791607 315.250537 \nL 128.854186 315.250537 \nL 128.882122 315.223323 \nL 132.474785 315.223323 \nL 132.877073 315.049584 \nL 135.257282 315.049584 \nL 135.357854 315.049584 \nL 135.458426 306.991427 \nL 135.458426 306.991427 \nL 135.558999 306.991427 \nL 135.659571 306.991427 \nL 135.659571 298.93327 \nL 135.855128 298.93327 \nL 135.883064 296.694893 \nL 135.961287 296.694893 \nL 136.162432 296.694893 \nL 136.202661 293.47163 \nL 136.497672 293.47163 \nL 136.598245 293.47163 \nL 136.698817 285.413473 \nL 136.765865 285.413473 \nL 137.168154 285.413473 \nL 137.190503 285.413473 \nL 137.212852 285.223756 \nL 137.30225 285.223756 \nL 140.52056 285.223756 \nL 140.542909 283.433054 \nL 140.565259 316.078125 \nL 150.980068 316.078125 \nL 150.980068 316.078125 \nL 151.08064 316.078125 \nL 151.181212 308.019968 \nL 151.382357 308.019968 \nL 151.443818 308.019968 \nL 151.453875 307.214152 \nL 155.002956 307.214152 \nL 155.01413 307.214152 \nL 155.461118 307.064426 \nL 181.554014 307.064426 \nL 321.550506 307.064426 \nL 321.939385 307.064426 \nL 337.494551 305.813437 \n\" style=\"fill:none;stroke:#ffa500;stroke-linecap:square;stroke-width:1.5;\"/>\n    <defs>\n     <path d=\"M -3 -0 \nL 3 3 \nL 3 -3 \nz\n\" id=\"m28c1170419\" style=\"stroke:#ffa500;stroke-linejoin:miter;\"/>\n    </defs>\n    <g clip-path=\"url(#p2b7e5a96a6)\">\n     <use style=\"fill:#ffa500;stroke:#ffa500;stroke-linejoin:miter;\" x=\"60.800336\" xlink:href=\"#m28c1170419\" y=\"316.078125\"/>\n     <use style=\"fill:#ffa500;stroke:#ffa500;stroke-linejoin:miter;\" x=\"60.867384\" xlink:href=\"#m28c1170419\" y=\"316.078125\"/>\n     <use style=\"fill:#ffa500;stroke:#ffa500;stroke-linejoin:miter;\" x=\"64.085694\" xlink:href=\"#m28c1170419\" y=\"316.078125\"/>\n     <use style=\"fill:#ffa500;stroke:#ffa500;stroke-linejoin:miter;\" x=\"67.304004\" xlink:href=\"#m28c1170419\" y=\"316.078125\"/>\n     <use style=\"fill:#ffa500;stroke:#ffa500;stroke-linejoin:miter;\" x=\"70.522314\" xlink:href=\"#m28c1170419\" y=\"307.471643\"/>\n     <use style=\"fill:#ffa500;stroke:#ffa500;stroke-linejoin:miter;\" x=\"75.34978\" xlink:href=\"#m28c1170419\" y=\"316.078125\"/>\n     <use style=\"fill:#ffa500;stroke:#ffa500;stroke-linejoin:miter;\" x=\"116.819047\" xlink:href=\"#m28c1170419\" y=\"316.078125\"/>\n     <use style=\"fill:#ffa500;stroke:#ffa500;stroke-linejoin:miter;\" x=\"117.020191\" xlink:href=\"#m28c1170419\" y=\"316.078125\"/>\n     <use style=\"fill:#ffa500;stroke:#ffa500;stroke-linejoin:miter;\" x=\"117.022426\" xlink:href=\"#m28c1170419\" y=\"316.078125\"/>\n     <use style=\"fill:#ffa500;stroke:#ffa500;stroke-linejoin:miter;\" x=\"117.111824\" xlink:href=\"#m28c1170419\" y=\"316.067239\"/>\n     <use style=\"fill:#ffa500;stroke:#ffa500;stroke-linejoin:miter;\" x=\"120.931332\" xlink:href=\"#m28c1170419\" y=\"316.067239\"/>\n     <use style=\"fill:#ffa500;stroke:#ffa500;stroke-linejoin:miter;\" x=\"121.132476\" xlink:href=\"#m28c1170419\" y=\"316.067239\"/>\n     <use style=\"fill:#ffa500;stroke:#ffa500;stroke-linejoin:miter;\" x=\"121.134711\" xlink:href=\"#m28c1170419\" y=\"316.067239\"/>\n     <use style=\"fill:#ffa500;stroke:#ffa500;stroke-linejoin:miter;\" x=\"121.224109\" xlink:href=\"#m28c1170419\" y=\"316.056353\"/>\n     <use style=\"fill:#ffa500;stroke:#ffa500;stroke-linejoin:miter;\" x=\"126.842742\" xlink:href=\"#m28c1170419\" y=\"316.056353\"/>\n     <use style=\"fill:#ffa500;stroke:#ffa500;stroke-linejoin:miter;\" x=\"128.653041\" xlink:href=\"#m28c1170419\" y=\"316.056353\"/>\n     <use style=\"fill:#ffa500;stroke:#ffa500;stroke-linejoin:miter;\" x=\"128.658629\" xlink:href=\"#m28c1170419\" y=\"316.056353\"/>\n     <use style=\"fill:#ffa500;stroke:#ffa500;stroke-linejoin:miter;\" x=\"128.720089\" xlink:href=\"#m28c1170419\" y=\"316.056353\"/>\n     <use style=\"fill:#ffa500;stroke:#ffa500;stroke-linejoin:miter;\" x=\"128.78155\" xlink:href=\"#m28c1170419\" y=\"316.056353\"/>\n     <use style=\"fill:#ffa500;stroke:#ffa500;stroke-linejoin:miter;\" x=\"128.791607\" xlink:href=\"#m28c1170419\" y=\"315.250537\"/>\n     <use style=\"fill:#ffa500;stroke:#ffa500;stroke-linejoin:miter;\" x=\"128.854186\" xlink:href=\"#m28c1170419\" y=\"315.250537\"/>\n     <use style=\"fill:#ffa500;stroke:#ffa500;stroke-linejoin:miter;\" x=\"128.882122\" xlink:href=\"#m28c1170419\" y=\"315.223323\"/>\n     <use style=\"fill:#ffa500;stroke:#ffa500;stroke-linejoin:miter;\" x=\"132.474785\" xlink:href=\"#m28c1170419\" y=\"315.223323\"/>\n     <use style=\"fill:#ffa500;stroke:#ffa500;stroke-linejoin:miter;\" x=\"132.877073\" xlink:href=\"#m28c1170419\" y=\"315.049584\"/>\n     <use style=\"fill:#ffa500;stroke:#ffa500;stroke-linejoin:miter;\" x=\"135.257282\" xlink:href=\"#m28c1170419\" y=\"315.049584\"/>\n     <use style=\"fill:#ffa500;stroke:#ffa500;stroke-linejoin:miter;\" x=\"135.357854\" xlink:href=\"#m28c1170419\" y=\"315.049584\"/>\n     <use style=\"fill:#ffa500;stroke:#ffa500;stroke-linejoin:miter;\" x=\"135.458426\" xlink:href=\"#m28c1170419\" y=\"306.991427\"/>\n     <use style=\"fill:#ffa500;stroke:#ffa500;stroke-linejoin:miter;\" x=\"135.458426\" xlink:href=\"#m28c1170419\" y=\"306.991427\"/>\n     <use style=\"fill:#ffa500;stroke:#ffa500;stroke-linejoin:miter;\" x=\"135.558999\" xlink:href=\"#m28c1170419\" y=\"306.991427\"/>\n     <use style=\"fill:#ffa500;stroke:#ffa500;stroke-linejoin:miter;\" x=\"135.659571\" xlink:href=\"#m28c1170419\" y=\"306.991427\"/>\n     <use style=\"fill:#ffa500;stroke:#ffa500;stroke-linejoin:miter;\" x=\"135.659571\" xlink:href=\"#m28c1170419\" y=\"298.93327\"/>\n     <use style=\"fill:#ffa500;stroke:#ffa500;stroke-linejoin:miter;\" x=\"135.855128\" xlink:href=\"#m28c1170419\" y=\"298.93327\"/>\n     <use style=\"fill:#ffa500;stroke:#ffa500;stroke-linejoin:miter;\" x=\"135.883064\" xlink:href=\"#m28c1170419\" y=\"296.694893\"/>\n     <use style=\"fill:#ffa500;stroke:#ffa500;stroke-linejoin:miter;\" x=\"135.961287\" xlink:href=\"#m28c1170419\" y=\"296.694893\"/>\n     <use style=\"fill:#ffa500;stroke:#ffa500;stroke-linejoin:miter;\" x=\"136.162432\" xlink:href=\"#m28c1170419\" y=\"296.694893\"/>\n     <use style=\"fill:#ffa500;stroke:#ffa500;stroke-linejoin:miter;\" x=\"136.202661\" xlink:href=\"#m28c1170419\" y=\"293.47163\"/>\n     <use style=\"fill:#ffa500;stroke:#ffa500;stroke-linejoin:miter;\" x=\"136.497672\" xlink:href=\"#m28c1170419\" y=\"293.47163\"/>\n     <use style=\"fill:#ffa500;stroke:#ffa500;stroke-linejoin:miter;\" x=\"136.598245\" xlink:href=\"#m28c1170419\" y=\"293.47163\"/>\n     <use style=\"fill:#ffa500;stroke:#ffa500;stroke-linejoin:miter;\" x=\"136.698817\" xlink:href=\"#m28c1170419\" y=\"285.413473\"/>\n     <use style=\"fill:#ffa500;stroke:#ffa500;stroke-linejoin:miter;\" x=\"136.765865\" xlink:href=\"#m28c1170419\" y=\"285.413473\"/>\n     <use style=\"fill:#ffa500;stroke:#ffa500;stroke-linejoin:miter;\" x=\"137.168154\" xlink:href=\"#m28c1170419\" y=\"285.413473\"/>\n     <use style=\"fill:#ffa500;stroke:#ffa500;stroke-linejoin:miter;\" x=\"137.190503\" xlink:href=\"#m28c1170419\" y=\"285.413473\"/>\n     <use style=\"fill:#ffa500;stroke:#ffa500;stroke-linejoin:miter;\" x=\"137.212852\" xlink:href=\"#m28c1170419\" y=\"285.223756\"/>\n     <use style=\"fill:#ffa500;stroke:#ffa500;stroke-linejoin:miter;\" x=\"137.30225\" xlink:href=\"#m28c1170419\" y=\"285.223756\"/>\n     <use style=\"fill:#ffa500;stroke:#ffa500;stroke-linejoin:miter;\" x=\"140.52056\" xlink:href=\"#m28c1170419\" y=\"285.223756\"/>\n     <use style=\"fill:#ffa500;stroke:#ffa500;stroke-linejoin:miter;\" x=\"140.542909\" xlink:href=\"#m28c1170419\" y=\"283.433054\"/>\n     <use style=\"fill:#ffa500;stroke:#ffa500;stroke-linejoin:miter;\" x=\"140.565259\" xlink:href=\"#m28c1170419\" y=\"316.078125\"/>\n     <use style=\"fill:#ffa500;stroke:#ffa500;stroke-linejoin:miter;\" x=\"150.980068\" xlink:href=\"#m28c1170419\" y=\"316.078125\"/>\n     <use style=\"fill:#ffa500;stroke:#ffa500;stroke-linejoin:miter;\" x=\"150.980068\" xlink:href=\"#m28c1170419\" y=\"316.078125\"/>\n     <use style=\"fill:#ffa500;stroke:#ffa500;stroke-linejoin:miter;\" x=\"151.08064\" xlink:href=\"#m28c1170419\" y=\"316.078125\"/>\n     <use style=\"fill:#ffa500;stroke:#ffa500;stroke-linejoin:miter;\" x=\"151.181212\" xlink:href=\"#m28c1170419\" y=\"308.019968\"/>\n     <use style=\"fill:#ffa500;stroke:#ffa500;stroke-linejoin:miter;\" x=\"151.382357\" xlink:href=\"#m28c1170419\" y=\"308.019968\"/>\n     <use style=\"fill:#ffa500;stroke:#ffa500;stroke-linejoin:miter;\" x=\"151.443818\" xlink:href=\"#m28c1170419\" y=\"308.019968\"/>\n     <use style=\"fill:#ffa500;stroke:#ffa500;stroke-linejoin:miter;\" x=\"151.453875\" xlink:href=\"#m28c1170419\" y=\"307.214152\"/>\n     <use style=\"fill:#ffa500;stroke:#ffa500;stroke-linejoin:miter;\" x=\"155.002956\" xlink:href=\"#m28c1170419\" y=\"307.214152\"/>\n     <use style=\"fill:#ffa500;stroke:#ffa500;stroke-linejoin:miter;\" x=\"155.01413\" xlink:href=\"#m28c1170419\" y=\"307.214152\"/>\n     <use style=\"fill:#ffa500;stroke:#ffa500;stroke-linejoin:miter;\" x=\"155.461118\" xlink:href=\"#m28c1170419\" y=\"307.064426\"/>\n     <use style=\"fill:#ffa500;stroke:#ffa500;stroke-linejoin:miter;\" x=\"181.554014\" xlink:href=\"#m28c1170419\" y=\"307.064426\"/>\n     <use style=\"fill:#ffa500;stroke:#ffa500;stroke-linejoin:miter;\" x=\"321.550506\" xlink:href=\"#m28c1170419\" y=\"307.064426\"/>\n     <use style=\"fill:#ffa500;stroke:#ffa500;stroke-linejoin:miter;\" x=\"321.939385\" xlink:href=\"#m28c1170419\" y=\"307.064426\"/>\n     <use style=\"fill:#ffa500;stroke:#ffa500;stroke-linejoin:miter;\" x=\"337.494551\" xlink:href=\"#m28c1170419\" y=\"305.813437\"/>\n    </g>\n   </g>\n   <g id=\"patch_3\">\n    <path d=\"M 46.965625 316.078125 \nL 46.965625 22.318125 \n\" style=\"fill:none;stroke:#000000;stroke-linecap:square;stroke-linejoin:miter;stroke-width:0.8;\"/>\n   </g>\n   <g id=\"patch_4\">\n    <path d=\"M 351.329261 316.078125 \nL 351.329261 22.318125 \n\" style=\"fill:none;stroke:#000000;stroke-linecap:square;stroke-linejoin:miter;stroke-width:0.8;\"/>\n   </g>\n   <g id=\"patch_5\">\n    <path d=\"M 46.965625 316.078125 \nL 351.329261 316.078125 \n\" style=\"fill:none;stroke:#000000;stroke-linecap:square;stroke-linejoin:miter;stroke-width:0.8;\"/>\n   </g>\n   <g id=\"patch_6\">\n    <path d=\"M 46.965625 22.318125 \nL 351.329261 22.318125 \n\" style=\"fill:none;stroke:#000000;stroke-linecap:square;stroke-linejoin:miter;stroke-width:0.8;\"/>\n   </g>\n   <g id=\"text_15\">\n    <!-- Partition 1 -->\n    <g transform=\"translate(168.419943 16.318125)scale(0.12 -0.12)\">\n     <defs>\n      <path d=\"M 19.671875 64.796875 \nL 19.671875 37.40625 \nL 32.078125 37.40625 \nQ 38.96875 37.40625 42.71875 40.96875 \nQ 46.484375 44.53125 46.484375 51.125 \nQ 46.484375 57.671875 42.71875 61.234375 \nQ 38.96875 64.796875 32.078125 64.796875 \nz\nM 9.8125 72.90625 \nL 32.078125 72.90625 \nQ 44.34375 72.90625 50.609375 67.359375 \nQ 56.890625 61.8125 56.890625 51.125 \nQ 56.890625 40.328125 50.609375 34.8125 \nQ 44.34375 29.296875 32.078125 29.296875 \nL 19.671875 29.296875 \nL 19.671875 0 \nL 9.8125 0 \nz\n\" id=\"DejaVuSans-80\"/>\n      <path d=\"M 9.421875 54.6875 \nL 18.40625 54.6875 \nL 18.40625 0 \nL 9.421875 0 \nz\nM 9.421875 75.984375 \nL 18.40625 75.984375 \nL 18.40625 64.59375 \nL 9.421875 64.59375 \nz\n\" id=\"DejaVuSans-105\"/>\n      <path d=\"M 54.890625 33.015625 \nL 54.890625 0 \nL 45.90625 0 \nL 45.90625 32.71875 \nQ 45.90625 40.484375 42.875 44.328125 \nQ 39.84375 48.1875 33.796875 48.1875 \nQ 26.515625 48.1875 22.3125 43.546875 \nQ 18.109375 38.921875 18.109375 30.90625 \nL 18.109375 0 \nL 9.078125 0 \nL 9.078125 54.6875 \nL 18.109375 54.6875 \nL 18.109375 46.1875 \nQ 21.34375 51.125 25.703125 53.5625 \nQ 30.078125 56 35.796875 56 \nQ 45.21875 56 50.046875 50.171875 \nQ 54.890625 44.34375 54.890625 33.015625 \nz\n\" id=\"DejaVuSans-110\"/>\n     </defs>\n     <use xlink:href=\"#DejaVuSans-80\"/>\n     <use x=\"55.802734\" xlink:href=\"#DejaVuSans-97\"/>\n     <use x=\"117.082031\" xlink:href=\"#DejaVuSans-114\"/>\n     <use x=\"158.195312\" xlink:href=\"#DejaVuSans-116\"/>\n     <use x=\"197.404297\" xlink:href=\"#DejaVuSans-105\"/>\n     <use x=\"225.1875\" xlink:href=\"#DejaVuSans-116\"/>\n     <use x=\"264.396484\" xlink:href=\"#DejaVuSans-105\"/>\n     <use x=\"292.179688\" xlink:href=\"#DejaVuSans-111\"/>\n     <use x=\"353.361328\" xlink:href=\"#DejaVuSans-110\"/>\n     <use x=\"416.740234\" xlink:href=\"#DejaVuSans-32\"/>\n     <use x=\"448.527344\" xlink:href=\"#DejaVuSans-49\"/>\n    </g>\n   </g>\n  </g>\n  <g id=\"axes_2\">\n   <g id=\"patch_7\">\n    <path d=\"M 412.201989 316.078125 \nL 716.565625 316.078125 \nL 716.565625 22.318125 \nL 412.201989 22.318125 \nz\n\" style=\"fill:#ffffff;\"/>\n   </g>\n   <g id=\"matplotlib.axis_3\">\n    <g id=\"xtick_7\">\n     <g id=\"line2d_28\">\n      <path clip-path=\"url(#p6cf9d4921b)\" d=\"M 467.902997 316.078125 \nL 467.902997 22.318125 \n\" style=\"fill:none;stroke:#b0b0b0;stroke-linecap:square;stroke-width:0.8;\"/>\n     </g>\n     <g id=\"line2d_29\">\n      <g>\n       <use style=\"stroke:#000000;stroke-width:0.8;\" x=\"467.902997\" xlink:href=\"#m5b6a7699e4\" y=\"316.078125\"/>\n      </g>\n     </g>\n     <g id=\"text_16\">\n      <!-- 2022-02-01 -->\n      <g transform=\"translate(416.533545 358.716377)rotate(-30)scale(0.1 -0.1)\">\n       <use xlink:href=\"#DejaVuSans-50\"/>\n       <use x=\"63.623047\" xlink:href=\"#DejaVuSans-48\"/>\n       <use x=\"127.246094\" xlink:href=\"#DejaVuSans-50\"/>\n       <use x=\"190.869141\" xlink:href=\"#DejaVuSans-50\"/>\n       <use x=\"254.492188\" xlink:href=\"#DejaVuSans-45\"/>\n       <use x=\"290.576172\" xlink:href=\"#DejaVuSans-48\"/>\n       <use x=\"354.199219\" xlink:href=\"#DejaVuSans-50\"/>\n       <use x=\"417.822266\" xlink:href=\"#DejaVuSans-45\"/>\n       <use x=\"453.90625\" xlink:href=\"#DejaVuSans-48\"/>\n       <use x=\"517.529297\" xlink:href=\"#DejaVuSans-49\"/>\n      </g>\n     </g>\n    </g>\n    <g id=\"xtick_8\">\n     <g id=\"line2d_30\">\n      <path clip-path=\"url(#p6cf9d4921b)\" d=\"M 516.578 316.078125 \nL 516.578 22.318125 \n\" style=\"fill:none;stroke:#b0b0b0;stroke-linecap:square;stroke-width:0.8;\"/>\n     </g>\n     <g id=\"line2d_31\">\n      <g>\n       <use style=\"stroke:#000000;stroke-width:0.8;\" x=\"516.578\" xlink:href=\"#m5b6a7699e4\" y=\"316.078125\"/>\n      </g>\n     </g>\n     <g id=\"text_17\">\n      <!-- 2022-02-15 -->\n      <g transform=\"translate(465.208549 358.716377)rotate(-30)scale(0.1 -0.1)\">\n       <use xlink:href=\"#DejaVuSans-50\"/>\n       <use x=\"63.623047\" xlink:href=\"#DejaVuSans-48\"/>\n       <use x=\"127.246094\" xlink:href=\"#DejaVuSans-50\"/>\n       <use x=\"190.869141\" xlink:href=\"#DejaVuSans-50\"/>\n       <use x=\"254.492188\" xlink:href=\"#DejaVuSans-45\"/>\n       <use x=\"290.576172\" xlink:href=\"#DejaVuSans-48\"/>\n       <use x=\"354.199219\" xlink:href=\"#DejaVuSans-50\"/>\n       <use x=\"417.822266\" xlink:href=\"#DejaVuSans-45\"/>\n       <use x=\"453.90625\" xlink:href=\"#DejaVuSans-49\"/>\n       <use x=\"517.529297\" xlink:href=\"#DejaVuSans-53\"/>\n      </g>\n     </g>\n    </g>\n    <g id=\"xtick_9\">\n     <g id=\"line2d_32\">\n      <path clip-path=\"url(#p6cf9d4921b)\" d=\"M 565.253003 316.078125 \nL 565.253003 22.318125 \n\" style=\"fill:none;stroke:#b0b0b0;stroke-linecap:square;stroke-width:0.8;\"/>\n     </g>\n     <g id=\"line2d_33\">\n      <g>\n       <use style=\"stroke:#000000;stroke-width:0.8;\" x=\"565.253003\" xlink:href=\"#m5b6a7699e4\" y=\"316.078125\"/>\n      </g>\n     </g>\n     <g id=\"text_18\">\n      <!-- 2022-03-01 -->\n      <g transform=\"translate(513.883552 358.716377)rotate(-30)scale(0.1 -0.1)\">\n       <use xlink:href=\"#DejaVuSans-50\"/>\n       <use x=\"63.623047\" xlink:href=\"#DejaVuSans-48\"/>\n       <use x=\"127.246094\" xlink:href=\"#DejaVuSans-50\"/>\n       <use x=\"190.869141\" xlink:href=\"#DejaVuSans-50\"/>\n       <use x=\"254.492188\" xlink:href=\"#DejaVuSans-45\"/>\n       <use x=\"290.576172\" xlink:href=\"#DejaVuSans-48\"/>\n       <use x=\"354.199219\" xlink:href=\"#DejaVuSans-51\"/>\n       <use x=\"417.822266\" xlink:href=\"#DejaVuSans-45\"/>\n       <use x=\"453.90625\" xlink:href=\"#DejaVuSans-48\"/>\n       <use x=\"517.529297\" xlink:href=\"#DejaVuSans-49\"/>\n      </g>\n     </g>\n    </g>\n    <g id=\"xtick_10\">\n     <g id=\"line2d_34\">\n      <path clip-path=\"url(#p6cf9d4921b)\" d=\"M 613.928007 316.078125 \nL 613.928007 22.318125 \n\" style=\"fill:none;stroke:#b0b0b0;stroke-linecap:square;stroke-width:0.8;\"/>\n     </g>\n     <g id=\"line2d_35\">\n      <g>\n       <use style=\"stroke:#000000;stroke-width:0.8;\" x=\"613.928007\" xlink:href=\"#m5b6a7699e4\" y=\"316.078125\"/>\n      </g>\n     </g>\n     <g id=\"text_19\">\n      <!-- 2022-03-15 -->\n      <g transform=\"translate(562.558555 358.716377)rotate(-30)scale(0.1 -0.1)\">\n       <use xlink:href=\"#DejaVuSans-50\"/>\n       <use x=\"63.623047\" xlink:href=\"#DejaVuSans-48\"/>\n       <use x=\"127.246094\" xlink:href=\"#DejaVuSans-50\"/>\n       <use x=\"190.869141\" xlink:href=\"#DejaVuSans-50\"/>\n       <use x=\"254.492188\" xlink:href=\"#DejaVuSans-45\"/>\n       <use x=\"290.576172\" xlink:href=\"#DejaVuSans-48\"/>\n       <use x=\"354.199219\" xlink:href=\"#DejaVuSans-51\"/>\n       <use x=\"417.822266\" xlink:href=\"#DejaVuSans-45\"/>\n       <use x=\"453.90625\" xlink:href=\"#DejaVuSans-49\"/>\n       <use x=\"517.529297\" xlink:href=\"#DejaVuSans-53\"/>\n      </g>\n     </g>\n    </g>\n    <g id=\"xtick_11\">\n     <g id=\"line2d_36\">\n      <path clip-path=\"url(#p6cf9d4921b)\" d=\"M 673.033368 316.078125 \nL 673.033368 22.318125 \n\" style=\"fill:none;stroke:#b0b0b0;stroke-linecap:square;stroke-width:0.8;\"/>\n     </g>\n     <g id=\"line2d_37\">\n      <g>\n       <use style=\"stroke:#000000;stroke-width:0.8;\" x=\"673.033368\" xlink:href=\"#m5b6a7699e4\" y=\"316.078125\"/>\n      </g>\n     </g>\n     <g id=\"text_20\">\n      <!-- 2022-04-01 -->\n      <g transform=\"translate(621.663916 358.716377)rotate(-30)scale(0.1 -0.1)\">\n       <use xlink:href=\"#DejaVuSans-50\"/>\n       <use x=\"63.623047\" xlink:href=\"#DejaVuSans-48\"/>\n       <use x=\"127.246094\" xlink:href=\"#DejaVuSans-50\"/>\n       <use x=\"190.869141\" xlink:href=\"#DejaVuSans-50\"/>\n       <use x=\"254.492188\" xlink:href=\"#DejaVuSans-45\"/>\n       <use x=\"290.576172\" xlink:href=\"#DejaVuSans-48\"/>\n       <use x=\"354.199219\" xlink:href=\"#DejaVuSans-52\"/>\n       <use x=\"417.822266\" xlink:href=\"#DejaVuSans-45\"/>\n       <use x=\"453.90625\" xlink:href=\"#DejaVuSans-48\"/>\n       <use x=\"517.529297\" xlink:href=\"#DejaVuSans-49\"/>\n      </g>\n     </g>\n    </g>\n    <g id=\"text_21\">\n     <!-- date -->\n     <g transform=\"translate(553.108807 372.115877)scale(0.1 -0.1)\">\n      <use xlink:href=\"#DejaVuSans-100\"/>\n      <use x=\"63.476562\" xlink:href=\"#DejaVuSans-97\"/>\n      <use x=\"124.755859\" xlink:href=\"#DejaVuSans-116\"/>\n      <use x=\"163.964844\" xlink:href=\"#DejaVuSans-101\"/>\n     </g>\n    </g>\n   </g>\n   <g id=\"matplotlib.axis_4\">\n    <g id=\"ytick_7\">\n     <g id=\"line2d_38\">\n      <path clip-path=\"url(#p6cf9d4921b)\" d=\"M 412.201989 316.078125 \nL 716.565625 316.078125 \n\" style=\"fill:none;stroke:#b0b0b0;stroke-linecap:square;stroke-width:0.8;\"/>\n     </g>\n     <g id=\"line2d_39\">\n      <g>\n       <use style=\"stroke:#000000;stroke-width:0.8;\" x=\"412.201989\" xlink:href=\"#mf1cffc43dd\" y=\"316.078125\"/>\n      </g>\n     </g>\n     <g id=\"text_22\">\n      <!-- 0 -->\n      <g transform=\"translate(398.839489 319.877344)scale(0.1 -0.1)\">\n       <use xlink:href=\"#DejaVuSans-48\"/>\n      </g>\n     </g>\n    </g>\n    <g id=\"ytick_8\">\n     <g id=\"line2d_40\">\n      <path clip-path=\"url(#p6cf9d4921b)\" d=\"M 412.201989 257.326125 \nL 716.565625 257.326125 \n\" style=\"fill:none;stroke:#b0b0b0;stroke-linecap:square;stroke-width:0.8;\"/>\n     </g>\n     <g id=\"line2d_41\">\n      <g>\n       <use style=\"stroke:#000000;stroke-width:0.8;\" x=\"412.201989\" xlink:href=\"#mf1cffc43dd\" y=\"257.326125\"/>\n      </g>\n     </g>\n     <g id=\"text_23\">\n      <!-- 50 -->\n      <g transform=\"translate(392.476989 261.125344)scale(0.1 -0.1)\">\n       <use xlink:href=\"#DejaVuSans-53\"/>\n       <use x=\"63.623047\" xlink:href=\"#DejaVuSans-48\"/>\n      </g>\n     </g>\n    </g>\n    <g id=\"ytick_9\">\n     <g id=\"line2d_42\">\n      <path clip-path=\"url(#p6cf9d4921b)\" d=\"M 412.201989 198.574125 \nL 716.565625 198.574125 \n\" style=\"fill:none;stroke:#b0b0b0;stroke-linecap:square;stroke-width:0.8;\"/>\n     </g>\n     <g id=\"line2d_43\">\n      <g>\n       <use style=\"stroke:#000000;stroke-width:0.8;\" x=\"412.201989\" xlink:href=\"#mf1cffc43dd\" y=\"198.574125\"/>\n      </g>\n     </g>\n     <g id=\"text_24\">\n      <!-- 100 -->\n      <g transform=\"translate(386.114489 202.373344)scale(0.1 -0.1)\">\n       <use xlink:href=\"#DejaVuSans-49\"/>\n       <use x=\"63.623047\" xlink:href=\"#DejaVuSans-48\"/>\n       <use x=\"127.246094\" xlink:href=\"#DejaVuSans-48\"/>\n      </g>\n     </g>\n    </g>\n    <g id=\"ytick_10\">\n     <g id=\"line2d_44\">\n      <path clip-path=\"url(#p6cf9d4921b)\" d=\"M 412.201989 139.822125 \nL 716.565625 139.822125 \n\" style=\"fill:none;stroke:#b0b0b0;stroke-linecap:square;stroke-width:0.8;\"/>\n     </g>\n     <g id=\"line2d_45\">\n      <g>\n       <use style=\"stroke:#000000;stroke-width:0.8;\" x=\"412.201989\" xlink:href=\"#mf1cffc43dd\" y=\"139.822125\"/>\n      </g>\n     </g>\n     <g id=\"text_25\">\n      <!-- 150 -->\n      <g transform=\"translate(386.114489 143.621344)scale(0.1 -0.1)\">\n       <use xlink:href=\"#DejaVuSans-49\"/>\n       <use x=\"63.623047\" xlink:href=\"#DejaVuSans-53\"/>\n       <use x=\"127.246094\" xlink:href=\"#DejaVuSans-48\"/>\n      </g>\n     </g>\n    </g>\n    <g id=\"ytick_11\">\n     <g id=\"line2d_46\">\n      <path clip-path=\"url(#p6cf9d4921b)\" d=\"M 412.201989 81.070125 \nL 716.565625 81.070125 \n\" style=\"fill:none;stroke:#b0b0b0;stroke-linecap:square;stroke-width:0.8;\"/>\n     </g>\n     <g id=\"line2d_47\">\n      <g>\n       <use style=\"stroke:#000000;stroke-width:0.8;\" x=\"412.201989\" xlink:href=\"#mf1cffc43dd\" y=\"81.070125\"/>\n      </g>\n     </g>\n     <g id=\"text_26\">\n      <!-- 200 -->\n      <g transform=\"translate(386.114489 84.869344)scale(0.1 -0.1)\">\n       <use xlink:href=\"#DejaVuSans-50\"/>\n       <use x=\"63.623047\" xlink:href=\"#DejaVuSans-48\"/>\n       <use x=\"127.246094\" xlink:href=\"#DejaVuSans-48\"/>\n      </g>\n     </g>\n    </g>\n    <g id=\"ytick_12\">\n     <g id=\"line2d_48\">\n      <path clip-path=\"url(#p6cf9d4921b)\" d=\"M 412.201989 22.318125 \nL 716.565625 22.318125 \n\" style=\"fill:none;stroke:#b0b0b0;stroke-linecap:square;stroke-width:0.8;\"/>\n     </g>\n     <g id=\"line2d_49\">\n      <g>\n       <use style=\"stroke:#000000;stroke-width:0.8;\" x=\"412.201989\" xlink:href=\"#mf1cffc43dd\" y=\"22.318125\"/>\n      </g>\n     </g>\n     <g id=\"text_27\">\n      <!-- 250 -->\n      <g transform=\"translate(386.114489 26.117344)scale(0.1 -0.1)\">\n       <use xlink:href=\"#DejaVuSans-50\"/>\n       <use x=\"63.623047\" xlink:href=\"#DejaVuSans-53\"/>\n       <use x=\"127.246094\" xlink:href=\"#DejaVuSans-48\"/>\n      </g>\n     </g>\n    </g>\n    <g id=\"text_28\">\n     <!-- memory usage (GB) -->\n     <g transform=\"translate(380.034801 219.562187)rotate(-90)scale(0.1 -0.1)\">\n      <use xlink:href=\"#DejaVuSans-109\"/>\n      <use x=\"97.412109\" xlink:href=\"#DejaVuSans-101\"/>\n      <use x=\"158.935547\" xlink:href=\"#DejaVuSans-109\"/>\n      <use x=\"256.347656\" xlink:href=\"#DejaVuSans-111\"/>\n      <use x=\"317.529297\" xlink:href=\"#DejaVuSans-114\"/>\n      <use x=\"358.642578\" xlink:href=\"#DejaVuSans-121\"/>\n      <use x=\"417.822266\" xlink:href=\"#DejaVuSans-32\"/>\n      <use x=\"449.609375\" xlink:href=\"#DejaVuSans-117\"/>\n      <use x=\"512.988281\" xlink:href=\"#DejaVuSans-115\"/>\n      <use x=\"565.087891\" xlink:href=\"#DejaVuSans-97\"/>\n      <use x=\"626.367188\" xlink:href=\"#DejaVuSans-103\"/>\n      <use x=\"689.84375\" xlink:href=\"#DejaVuSans-101\"/>\n      <use x=\"751.367188\" xlink:href=\"#DejaVuSans-32\"/>\n      <use x=\"783.154297\" xlink:href=\"#DejaVuSans-40\"/>\n      <use x=\"822.167969\" xlink:href=\"#DejaVuSans-71\"/>\n      <use x=\"899.658203\" xlink:href=\"#DejaVuSans-66\"/>\n      <use x=\"968.261719\" xlink:href=\"#DejaVuSans-41\"/>\n     </g>\n    </g>\n   </g>\n   <g id=\"line2d_50\">\n    <path clip-path=\"url(#p6cf9d4921b)\" d=\"M 426.036699 316.078125 \nL 433.135137 180.713517 \nL 440.088709 99.494752 \nL 447.042281 45.348909 \nL 453.995853 45.348909 \nL 464.426211 316.078125 \nL 598.523913 316.078125 \nL 666.079796 276.483977 \nL 669.99118 231.559848 \nL 671.294975 140.639953 \nL 677.813948 140.639953 \nL 684.76752 37.480841 \nL 702.730914 37.480841 \n\" style=\"fill:none;stroke:#ff0000;stroke-linecap:square;stroke-width:1.5;\"/>\n    <g clip-path=\"url(#p6cf9d4921b)\">\n     <use style=\"fill:#ff0000;stroke:#ff0000;\" x=\"426.036699\" xlink:href=\"#mf6694e9998\" y=\"316.078125\"/>\n     <use style=\"fill:#ff0000;stroke:#ff0000;\" x=\"433.135137\" xlink:href=\"#mf6694e9998\" y=\"180.713517\"/>\n     <use style=\"fill:#ff0000;stroke:#ff0000;\" x=\"440.088709\" xlink:href=\"#mf6694e9998\" y=\"99.494752\"/>\n     <use style=\"fill:#ff0000;stroke:#ff0000;\" x=\"447.042281\" xlink:href=\"#mf6694e9998\" y=\"45.348909\"/>\n     <use style=\"fill:#ff0000;stroke:#ff0000;\" x=\"453.995853\" xlink:href=\"#mf6694e9998\" y=\"45.348909\"/>\n     <use style=\"fill:#ff0000;stroke:#ff0000;\" x=\"464.426211\" xlink:href=\"#mf6694e9998\" y=\"316.078125\"/>\n     <use style=\"fill:#ff0000;stroke:#ff0000;\" x=\"598.523913\" xlink:href=\"#mf6694e9998\" y=\"316.078125\"/>\n     <use style=\"fill:#ff0000;stroke:#ff0000;\" x=\"666.079796\" xlink:href=\"#mf6694e9998\" y=\"276.483977\"/>\n     <use style=\"fill:#ff0000;stroke:#ff0000;\" x=\"669.99118\" xlink:href=\"#mf6694e9998\" y=\"231.559848\"/>\n     <use style=\"fill:#ff0000;stroke:#ff0000;\" x=\"671.294975\" xlink:href=\"#mf6694e9998\" y=\"140.639953\"/>\n     <use style=\"fill:#ff0000;stroke:#ff0000;\" x=\"677.813948\" xlink:href=\"#mf6694e9998\" y=\"140.639953\"/>\n     <use style=\"fill:#ff0000;stroke:#ff0000;\" x=\"684.76752\" xlink:href=\"#mf6694e9998\" y=\"37.480841\"/>\n     <use style=\"fill:#ff0000;stroke:#ff0000;\" x=\"702.730914\" xlink:href=\"#mf6694e9998\" y=\"37.480841\"/>\n    </g>\n   </g>\n   <g id=\"line2d_51\">\n    <path clip-path=\"url(#p6cf9d4921b)\" d=\"M 426.036699 316.078125 \nL 433.135137 180.713517 \nL 440.088709 180.713517 \nL 447.042281 180.713517 \nL 453.995853 180.713517 \nL 464.426211 316.078125 \nL 598.523913 316.078125 \nL 666.079796 276.483977 \nL 669.99118 276.483977 \nL 671.294975 185.564082 \nL 677.813948 185.564082 \nL 684.76752 185.564082 \nL 702.730914 185.564082 \n\" style=\"fill:none;stroke:#008000;stroke-linecap:square;stroke-width:1.5;\"/>\n    <g clip-path=\"url(#p6cf9d4921b)\">\n     <use style=\"fill:#008000;stroke:#008000;stroke-linejoin:bevel;\" x=\"426.036699\" xlink:href=\"#md4bc566975\" y=\"316.078125\"/>\n     <use style=\"fill:#008000;stroke:#008000;stroke-linejoin:bevel;\" x=\"433.135137\" xlink:href=\"#md4bc566975\" y=\"180.713517\"/>\n     <use style=\"fill:#008000;stroke:#008000;stroke-linejoin:bevel;\" x=\"440.088709\" xlink:href=\"#md4bc566975\" y=\"180.713517\"/>\n     <use style=\"fill:#008000;stroke:#008000;stroke-linejoin:bevel;\" x=\"447.042281\" xlink:href=\"#md4bc566975\" y=\"180.713517\"/>\n     <use style=\"fill:#008000;stroke:#008000;stroke-linejoin:bevel;\" x=\"453.995853\" xlink:href=\"#md4bc566975\" y=\"180.713517\"/>\n     <use style=\"fill:#008000;stroke:#008000;stroke-linejoin:bevel;\" x=\"464.426211\" xlink:href=\"#md4bc566975\" y=\"316.078125\"/>\n     <use style=\"fill:#008000;stroke:#008000;stroke-linejoin:bevel;\" x=\"598.523913\" xlink:href=\"#md4bc566975\" y=\"316.078125\"/>\n     <use style=\"fill:#008000;stroke:#008000;stroke-linejoin:bevel;\" x=\"666.079796\" xlink:href=\"#md4bc566975\" y=\"276.483977\"/>\n     <use style=\"fill:#008000;stroke:#008000;stroke-linejoin:bevel;\" x=\"669.99118\" xlink:href=\"#md4bc566975\" y=\"276.483977\"/>\n     <use style=\"fill:#008000;stroke:#008000;stroke-linejoin:bevel;\" x=\"671.294975\" xlink:href=\"#md4bc566975\" y=\"185.564082\"/>\n     <use style=\"fill:#008000;stroke:#008000;stroke-linejoin:bevel;\" x=\"677.813948\" xlink:href=\"#md4bc566975\" y=\"185.564082\"/>\n     <use style=\"fill:#008000;stroke:#008000;stroke-linejoin:bevel;\" x=\"684.76752\" xlink:href=\"#md4bc566975\" y=\"185.564082\"/>\n     <use style=\"fill:#008000;stroke:#008000;stroke-linejoin:bevel;\" x=\"702.730914\" xlink:href=\"#md4bc566975\" y=\"185.564082\"/>\n    </g>\n   </g>\n   <g id=\"line2d_52\">\n    <path clip-path=\"url(#p6cf9d4921b)\" d=\"M 426.036699 316.078125 \nL 433.135137 316.078125 \nL 440.088709 316.078125 \nL 447.042281 316.078125 \nL 453.995853 307.471643 \nL 464.426211 316.078125 \nL 598.523913 316.078125 \nL 666.079796 316.078125 \nL 669.99118 316.078125 \nL 671.294975 316.078125 \nL 677.813948 314.514476 \nL 684.76752 314.514476 \nL 702.730914 310.923874 \n\" style=\"fill:none;stroke:#ffa500;stroke-linecap:square;stroke-width:1.5;\"/>\n    <g clip-path=\"url(#p6cf9d4921b)\">\n     <use style=\"fill:#ffa500;stroke:#ffa500;stroke-linejoin:miter;\" x=\"426.036699\" xlink:href=\"#m28c1170419\" y=\"316.078125\"/>\n     <use style=\"fill:#ffa500;stroke:#ffa500;stroke-linejoin:miter;\" x=\"433.135137\" xlink:href=\"#m28c1170419\" y=\"316.078125\"/>\n     <use style=\"fill:#ffa500;stroke:#ffa500;stroke-linejoin:miter;\" x=\"440.088709\" xlink:href=\"#m28c1170419\" y=\"316.078125\"/>\n     <use style=\"fill:#ffa500;stroke:#ffa500;stroke-linejoin:miter;\" x=\"447.042281\" xlink:href=\"#m28c1170419\" y=\"316.078125\"/>\n     <use style=\"fill:#ffa500;stroke:#ffa500;stroke-linejoin:miter;\" x=\"453.995853\" xlink:href=\"#m28c1170419\" y=\"307.471643\"/>\n     <use style=\"fill:#ffa500;stroke:#ffa500;stroke-linejoin:miter;\" x=\"464.426211\" xlink:href=\"#m28c1170419\" y=\"316.078125\"/>\n     <use style=\"fill:#ffa500;stroke:#ffa500;stroke-linejoin:miter;\" x=\"598.523913\" xlink:href=\"#m28c1170419\" y=\"316.078125\"/>\n     <use style=\"fill:#ffa500;stroke:#ffa500;stroke-linejoin:miter;\" x=\"666.079796\" xlink:href=\"#m28c1170419\" y=\"316.078125\"/>\n     <use style=\"fill:#ffa500;stroke:#ffa500;stroke-linejoin:miter;\" x=\"669.99118\" xlink:href=\"#m28c1170419\" y=\"316.078125\"/>\n     <use style=\"fill:#ffa500;stroke:#ffa500;stroke-linejoin:miter;\" x=\"671.294975\" xlink:href=\"#m28c1170419\" y=\"316.078125\"/>\n     <use style=\"fill:#ffa500;stroke:#ffa500;stroke-linejoin:miter;\" x=\"677.813948\" xlink:href=\"#m28c1170419\" y=\"314.514476\"/>\n     <use style=\"fill:#ffa500;stroke:#ffa500;stroke-linejoin:miter;\" x=\"684.76752\" xlink:href=\"#m28c1170419\" y=\"314.514476\"/>\n     <use style=\"fill:#ffa500;stroke:#ffa500;stroke-linejoin:miter;\" x=\"702.730914\" xlink:href=\"#m28c1170419\" y=\"310.923874\"/>\n    </g>\n   </g>\n   <g id=\"patch_8\">\n    <path d=\"M 412.201989 316.078125 \nL 412.201989 22.318125 \n\" style=\"fill:none;stroke:#000000;stroke-linecap:square;stroke-linejoin:miter;stroke-width:0.8;\"/>\n   </g>\n   <g id=\"patch_9\">\n    <path d=\"M 716.565625 316.078125 \nL 716.565625 22.318125 \n\" style=\"fill:none;stroke:#000000;stroke-linecap:square;stroke-linejoin:miter;stroke-width:0.8;\"/>\n   </g>\n   <g id=\"patch_10\">\n    <path d=\"M 412.201989 316.078125 \nL 716.565625 316.078125 \n\" style=\"fill:none;stroke:#000000;stroke-linecap:square;stroke-linejoin:miter;stroke-width:0.8;\"/>\n   </g>\n   <g id=\"patch_11\">\n    <path d=\"M 412.201989 22.318125 \nL 716.565625 22.318125 \n\" style=\"fill:none;stroke:#000000;stroke-linecap:square;stroke-linejoin:miter;stroke-width:0.8;\"/>\n   </g>\n   <g id=\"text_29\">\n    <!-- Partition 2 -->\n    <g transform=\"translate(533.656307 16.318125)scale(0.12 -0.12)\">\n     <use xlink:href=\"#DejaVuSans-80\"/>\n     <use x=\"55.802734\" xlink:href=\"#DejaVuSans-97\"/>\n     <use x=\"117.082031\" xlink:href=\"#DejaVuSans-114\"/>\n     <use x=\"158.195312\" xlink:href=\"#DejaVuSans-116\"/>\n     <use x=\"197.404297\" xlink:href=\"#DejaVuSans-105\"/>\n     <use x=\"225.1875\" xlink:href=\"#DejaVuSans-116\"/>\n     <use x=\"264.396484\" xlink:href=\"#DejaVuSans-105\"/>\n     <use x=\"292.179688\" xlink:href=\"#DejaVuSans-111\"/>\n     <use x=\"353.361328\" xlink:href=\"#DejaVuSans-110\"/>\n     <use x=\"416.740234\" xlink:href=\"#DejaVuSans-32\"/>\n     <use x=\"448.527344\" xlink:href=\"#DejaVuSans-50\"/>\n    </g>\n   </g>\n   <g id=\"legend_1\">\n    <g id=\"patch_12\">\n     <path d=\"M 518.050994 74.3525 \nL 610.716619 74.3525 \nQ 612.716619 74.3525 612.716619 72.3525 \nL 612.716619 29.318125 \nQ 612.716619 27.318125 610.716619 27.318125 \nL 518.050994 27.318125 \nQ 516.050994 27.318125 516.050994 29.318125 \nL 516.050994 72.3525 \nQ 516.050994 74.3525 518.050994 74.3525 \nz\n\" style=\"fill:#ffffff;opacity:0.8;stroke:#cccccc;stroke-linejoin:miter;\"/>\n    </g>\n    <g id=\"line2d_53\">\n     <path d=\"M 520.050994 35.416562 \nL 540.050994 35.416562 \n\" style=\"fill:none;stroke:#ff0000;stroke-linecap:square;stroke-width:1.5;\"/>\n    </g>\n    <g id=\"line2d_54\">\n     <g>\n      <use style=\"fill:#ff0000;stroke:#ff0000;\" x=\"530.050994\" xlink:href=\"#mf6694e9998\" y=\"35.416562\"/>\n     </g>\n    </g>\n    <g id=\"text_30\">\n     <!-- total -->\n     <g transform=\"translate(548.050994 38.916562)scale(0.1 -0.1)\">\n      <defs>\n       <path d=\"M 9.421875 75.984375 \nL 18.40625 75.984375 \nL 18.40625 0 \nL 9.421875 0 \nz\n\" id=\"DejaVuSans-108\"/>\n      </defs>\n      <use xlink:href=\"#DejaVuSans-116\"/>\n      <use x=\"39.208984\" xlink:href=\"#DejaVuSans-111\"/>\n      <use x=\"100.390625\" xlink:href=\"#DejaVuSans-116\"/>\n      <use x=\"139.599609\" xlink:href=\"#DejaVuSans-97\"/>\n      <use x=\"200.878906\" xlink:href=\"#DejaVuSans-108\"/>\n     </g>\n    </g>\n    <g id=\"line2d_55\">\n     <path d=\"M 520.050994 50.094687 \nL 540.050994 50.094687 \n\" style=\"fill:none;stroke:#008000;stroke-linecap:square;stroke-width:1.5;\"/>\n    </g>\n    <g id=\"line2d_56\">\n     <g>\n      <use style=\"fill:#008000;stroke:#008000;stroke-linejoin:bevel;\" x=\"530.050994\" xlink:href=\"#md4bc566975\" y=\"50.094687\"/>\n     </g>\n    </g>\n    <g id=\"text_31\">\n     <!-- raw -->\n     <g transform=\"translate(548.050994 53.594687)scale(0.1 -0.1)\">\n      <defs>\n       <path d=\"M 4.203125 54.6875 \nL 13.1875 54.6875 \nL 24.421875 12.015625 \nL 35.59375 54.6875 \nL 46.1875 54.6875 \nL 57.421875 12.015625 \nL 68.609375 54.6875 \nL 77.59375 54.6875 \nL 63.28125 0 \nL 52.6875 0 \nL 40.921875 44.828125 \nL 29.109375 0 \nL 18.5 0 \nz\n\" id=\"DejaVuSans-119\"/>\n      </defs>\n      <use xlink:href=\"#DejaVuSans-114\"/>\n      <use x=\"41.113281\" xlink:href=\"#DejaVuSans-97\"/>\n      <use x=\"102.392578\" xlink:href=\"#DejaVuSans-119\"/>\n     </g>\n    </g>\n    <g id=\"line2d_57\">\n     <path d=\"M 520.050994 64.772812 \nL 540.050994 64.772812 \n\" style=\"fill:none;stroke:#ffa500;stroke-linecap:square;stroke-width:1.5;\"/>\n    </g>\n    <g id=\"line2d_58\">\n     <g>\n      <use style=\"fill:#ffa500;stroke:#ffa500;stroke-linejoin:miter;\" x=\"530.050994\" xlink:href=\"#m28c1170419\" y=\"64.772812\"/>\n     </g>\n    </g>\n    <g id=\"text_32\">\n     <!-- compressed -->\n     <g transform=\"translate(548.050994 68.272812)scale(0.1 -0.1)\">\n      <defs>\n       <path d=\"M 48.78125 52.59375 \nL 48.78125 44.1875 \nQ 44.96875 46.296875 41.140625 47.34375 \nQ 37.3125 48.390625 33.40625 48.390625 \nQ 24.65625 48.390625 19.8125 42.84375 \nQ 14.984375 37.3125 14.984375 27.296875 \nQ 14.984375 17.28125 19.8125 11.734375 \nQ 24.65625 6.203125 33.40625 6.203125 \nQ 37.3125 6.203125 41.140625 7.25 \nQ 44.96875 8.296875 48.78125 10.40625 \nL 48.78125 2.09375 \nQ 45.015625 0.34375 40.984375 -0.53125 \nQ 36.96875 -1.421875 32.421875 -1.421875 \nQ 20.0625 -1.421875 12.78125 6.34375 \nQ 5.515625 14.109375 5.515625 27.296875 \nQ 5.515625 40.671875 12.859375 48.328125 \nQ 20.21875 56 33.015625 56 \nQ 37.15625 56 41.109375 55.140625 \nQ 45.0625 54.296875 48.78125 52.59375 \nz\n\" id=\"DejaVuSans-99\"/>\n       <path d=\"M 18.109375 8.203125 \nL 18.109375 -20.796875 \nL 9.078125 -20.796875 \nL 9.078125 54.6875 \nL 18.109375 54.6875 \nL 18.109375 46.390625 \nQ 20.953125 51.265625 25.265625 53.625 \nQ 29.59375 56 35.59375 56 \nQ 45.5625 56 51.78125 48.09375 \nQ 58.015625 40.1875 58.015625 27.296875 \nQ 58.015625 14.40625 51.78125 6.484375 \nQ 45.5625 -1.421875 35.59375 -1.421875 \nQ 29.59375 -1.421875 25.265625 0.953125 \nQ 20.953125 3.328125 18.109375 8.203125 \nz\nM 48.6875 27.296875 \nQ 48.6875 37.203125 44.609375 42.84375 \nQ 40.53125 48.484375 33.40625 48.484375 \nQ 26.265625 48.484375 22.1875 42.84375 \nQ 18.109375 37.203125 18.109375 27.296875 \nQ 18.109375 17.390625 22.1875 11.75 \nQ 26.265625 6.109375 33.40625 6.109375 \nQ 40.53125 6.109375 44.609375 11.75 \nQ 48.6875 17.390625 48.6875 27.296875 \nz\n\" id=\"DejaVuSans-112\"/>\n      </defs>\n      <use xlink:href=\"#DejaVuSans-99\"/>\n      <use x=\"54.980469\" xlink:href=\"#DejaVuSans-111\"/>\n      <use x=\"116.162109\" xlink:href=\"#DejaVuSans-109\"/>\n      <use x=\"213.574219\" xlink:href=\"#DejaVuSans-112\"/>\n      <use x=\"277.050781\" xlink:href=\"#DejaVuSans-114\"/>\n      <use x=\"315.914062\" xlink:href=\"#DejaVuSans-101\"/>\n      <use x=\"377.4375\" xlink:href=\"#DejaVuSans-115\"/>\n      <use x=\"429.537109\" xlink:href=\"#DejaVuSans-115\"/>\n      <use x=\"481.636719\" xlink:href=\"#DejaVuSans-101\"/>\n      <use x=\"543.160156\" xlink:href=\"#DejaVuSans-100\"/>\n     </g>\n    </g>\n   </g>\n  </g>\n </g>\n <defs>\n  <clipPath id=\"p2b7e5a96a6\">\n   <rect height=\"293.76\" width=\"304.363636\" x=\"46.965625\" y=\"22.318125\"/>\n  </clipPath>\n  <clipPath id=\"p6cf9d4921b\">\n   <rect height=\"293.76\" width=\"304.363636\" x=\"412.201989\" y=\"22.318125\"/>\n  </clipPath>\n </defs>\n</svg>\n",
      "image/png": "[encoded data removed]"
     },
     "metadata": {
      "needs_background": "light"
     }
    }
   ],
   "source": [
    "plot_tot(PHI)"
   ]
  }
 ],
 "metadata": {
  "kernelspec": {
   "name": "python3",
   "display_name": "Python 3.8.5 64-bit ('dancalc': conda)"
  },
  "language_info": {
   "codemirror_mode": {
    "name": "ipython",
    "version": 3
   },
   "file_extension": ".py",
   "mimetype": "text/x-python",
   "name": "python",
   "nbconvert_exporter": "python",
   "pygments_lexer": "ipython3",
   "version": "3.8.5"
  },
  "interpreter": {
   "hash": "2bd06a3991c0c0d639db0f8509be09728a50e84a33b22587f6ba3eb13c8c6283"
  }
 },
 "nbformat": 4,
 "nbformat_minor": 4
}