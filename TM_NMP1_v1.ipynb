{
 "cells": [
  {
   "cell_type": "markdown",
   "metadata": {},
   "source": [
    "# New Classes and Some Functions"
   ]
  },
  {
   "cell_type": "code",
   "execution_count": 1,
   "metadata": {},
   "outputs": [],
   "source": [
    "from TMclass import *\n",
    "import datetime\n",
    "import numpy as np\n",
    "import matplotlib.pyplot as plt\n",
    "\n",
    "PHI = PHI_MEMORY(datetime.datetime.fromisoformat('2022-01-19T23:00:00'))"
   ]
  },
  {
   "cell_type": "code",
   "execution_count": null,
   "metadata": {},
   "outputs": [],
   "source": []
  },
  {
   "cell_type": "markdown",
   "metadata": {},
   "source": [
    "# R_FULL_LRES_HCAD_Full-Disk-Helioseismology\n",
    "\n",
    "230 GB + 200 GB\n",
    "download 15 GB"
   ]
  },
  {
   "cell_type": "code",
   "execution_count": 2,
   "metadata": {},
   "outputs": [],
   "source": [
    "# phi = PHI_MEMORY(datetime.datetime.fromisoformat('2022-01-19T23:00:00'))\n",
    "\n",
    "# #High cadence, 4 days, helio\n",
    "# t0 = datetime.datetime.fromisoformat('2022-01-20T00:00:00')\n",
    "# t1 = datetime.datetime.fromisoformat('2022-01-24T00:00:00')\n",
    "# a0 = PHI_MODE('FDT')\n",
    "# kw = a0.observation(t0,t1,cadence=1,shape=(640,2048,1,6)); phi.saving(1,**kw); PHI.saving(1,**kw)\n",
    "\n",
    "# t0 = a0.raw.end\n",
    "# kw = a0.cropping(t0,ndata=-1,crop=[1,2048/640],level='raw'); phi.saving(1,**kw); PHI.saving(1,**kw)\n",
    "# kw = a0.packing(a0.raw.crop.end,ndata=-1,level='raw.crop'); phi.saving(1,**kw); PHI.saving(1,**kw)\n",
    "\n",
    "# kw = a0.compressing(a0.raw.pack.end, nbits = 6, ndata = -1,level='raw.pack'); phi.saving(1,**kw); PHI.saving(1,**kw)\n",
    "\n",
    "# ########################################################\n",
    "# printp(a0)\n",
    "\n",
    "# _ = phi.plot(1,bar=True)"
   ]
  },
  {
   "cell_type": "code",
   "execution_count": 3,
   "metadata": {},
   "outputs": [
    {
     "output_type": "stream",
     "name": "stdout",
     "text": [
      "number of datasets: 2880\ncadence: 1 mins\nduration: 2 days, 0:00:00\namount of raw-data at 32 bits: 87890.6 MiB, 30.5 MiB per dataset\namount of crop-data at 32 bits: 43945.3 MiB, 15.3 MiB per dataset\namount of pack-data at 16 bits: 21972.7 MiB, 7.6 MiB per dataset\namount of compressed data + metadata at 6 bits: 6985.1 MiB, 2.4 MiB per dataset\namount of metadata:  69120 MiB\namount of memory usage: 219726.6 MiB\n==========================\nnumber of datasets: 2880\ncadence: 1 mins\nduration: 2 days, 0:00:00\namount of raw-data at 32 bits: 87890.6 MiB, 30.5 MiB per dataset\namount of crop-data at 32 bits: 43945.3 MiB, 15.3 MiB per dataset\namount of pack-data at 16 bits: 21972.7 MiB, 7.6 MiB per dataset\namount of compressed data + metadata at 6 bits: 6985.1 MiB, 2.4 MiB per dataset\namount of metadata:  69120 MiB\namount of memory usage: 219726.6 MiB\n"
     ]
    }
   ],
   "source": [
    "phi = PHI_MEMORY(datetime.datetime.fromisoformat('2022-01-19T23:00:00'))\n",
    "\n",
    "#High cadence, 4 days, helio\n",
    "t0 = datetime.datetime.fromisoformat('2022-01-20T00:00:00')\n",
    "t1 = datetime.datetime.fromisoformat('2022-01-22T00:00:00')\n",
    "a1_1 = PHI_MODE('FDT')\n",
    "kw = a1_1.observation(t0,t1,cadence=1,shape=(2048,640,1,6)); phi.saving(1,**kw); PHI.saving(1,**kw)\n",
    "\n",
    "t0 = a1_1.raw.end\n",
    "kw = a1_1.cropping(t0,ndata=-1,crop=[640,640],level='raw'); phi.saving(1,**kw); PHI.saving(1,**kw)\n",
    "kw = a1_1.packing(a1_1.raw.crop.end,ndata=-1,level='raw.crop'); phi.saving(1,**kw); PHI.saving(1,**kw)\n",
    "\n",
    "kw = a1_1.compressing(a1_1.raw.pack.end, nbits = 6, ndata = -1,level='raw.pack'); phi.saving(1,**kw); PHI.saving(1,**kw)\n",
    "\n",
    "t0 = datetime.datetime.fromisoformat('2022-01-22T00:00:00')\n",
    "t1 = datetime.datetime.fromisoformat('2022-01-24T00:00:00')\n",
    "a1_2 = PHI_MODE('FDT')\n",
    "kw = a1_2.observation(t0,t1,cadence=1,shape=(2048,640,1,6)); phi.saving(2,**kw); PHI.saving(2,**kw)\n",
    "\n",
    "t0 = a1_2.raw.end\n",
    "kw = a1_2.cropping(t0,ndata=-1,crop=[640,640],level='raw'); phi.saving(2,**kw); PHI.saving(2,**kw)\n",
    "kw = a1_2.packing(a1_2.raw.crop.end,ndata=-1,level='raw.crop'); phi.saving(2,**kw); PHI.saving(2,**kw)\n",
    "\n",
    "kw = a1_2.compressing(a1_2.raw.pack.end, nbits = 6, ndata = -1,level='raw.pack'); phi.saving(2,**kw); PHI.saving(2,**kw)\n",
    "\n",
    "########################################################\n",
    "printp(a1_1)\n",
    "print('==========================')\n",
    "printp(a1_2)\n",
    "# plot_tot(PHI)"
   ]
  },
  {
   "source": [
    "# RESET NAND"
   ],
   "cell_type": "markdown",
   "metadata": {}
  },
  {
   "cell_type": "code",
   "execution_count": 4,
   "metadata": {},
   "outputs": [
    {
     "output_type": "stream",
     "name": "stdout",
     "text": [
      "amount of compressed data + metadata in partition 1: 6.82 GiB\namount of compressed data + metadata in partition 2: 6.82 GiB\n"
     ]
    }
   ],
   "source": [
    "print('amount of compressed data + metadata in partition 1:',round(PHI.part1.compr*1e6/2**30,2), 'GiB')\n",
    "print('amount of compressed data + metadata in partition 2:',round(PHI.part2.compr*1e6/2**30,2), 'GiB')\n",
    "PHI.format_partition(1,a1_1.compr.pack.end + datetime.timedelta(days=1))\n",
    "PHI.format_partition(2,a1_2.compr.pack.end + datetime.timedelta(days=1))\n"
   ]
  },
  {
   "cell_type": "markdown",
   "metadata": {},
   "source": [
    "# CC_OFFPOI_OOF "
   ]
  },
  {
   "cell_type": "code",
   "execution_count": 5,
   "metadata": {},
   "outputs": [
    {
     "output_type": "stream",
     "name": "stdout",
     "text": [
      "number of datasets: 2\ncadence: 90 mins\nduration: 3:00:00\namount of raw-data at 32 bits: 396.7 MiB, 198.4 MiB per dataset\namount of crop-data at 32 bits: 198.4 MiB, 99.2 MiB per dataset\namount of processed data (and intermediate data) at 16 bits: 228.9 MiB, 15.3 MiB per dataset\namount of compressed data + metadata at 6 bits: 8.8 MiB, 4.4 MiB per dataset\namount of metadata:  48 MiB\namount of memory usage: 885.0 MiB\n==========================\nnumber of datasets: 2\ncadence: 90 mins\nduration: 3:00:00\namount of raw-data at 32 bits: 396.7 MiB, 198.4 MiB per dataset\namount of crop-data at 32 bits: 198.4 MiB, 99.2 MiB per dataset\namount of processed data (and intermediate data) at 16 bits: 228.9 MiB, 15.3 MiB per dataset\namount of compressed data + metadata at 6 bits: 8.8 MiB, 4.4 MiB per dataset\namount of metadata:  48 MiB\namount of memory usage: 885.0 MiB\n"
     ]
    }
   ],
   "source": [
    "phi = PHI_MEMORY(datetime.datetime.fromisoformat('2022-02-23T18:00:00'))\n",
    "\n",
    "########################################################\n",
    "t0 = datetime.datetime.fromisoformat('2022-02-23T18:30:00')\n",
    "t1 = datetime.datetime.fromisoformat('2022-02-23T21:30:00')\n",
    "a2 = PHI_MODE('FDT')\n",
    "kw = a2.observation(t0,t1,cadence=90,shape=(2048,1024,4,6)); phi.saving(1,**kw); PHI.saving(1,**kw)\n",
    "\n",
    "t0 = a2.raw.end\n",
    "kw = a2.cropping(t0,ndata=-1,crop=[1024,1024],level='raw'); phi.saving(1,**kw); PHI.saving(1,**kw)\n",
    "kw = a2.processing(a2.raw.crop.end,ndata=-1,partialStore=0x00,level='raw.crop',nout=5); phi.saving(1,**kw); PHI.saving(1,**kw)\n",
    "kw = a2.compressing(a2.proc.crop.end, nbits = 6, ndata = -1,level='proc.crop'); phi.saving(1,**kw); PHI.saving(1,**kw)\n",
    "\n",
    "########################################################\n",
    "t0 = datetime.datetime.fromisoformat('2022-02-26T07:50:00')\n",
    "t1 = datetime.datetime.fromisoformat('2022-02-26T10:50:00')\n",
    "a3 = PHI_MODE('FDT')\n",
    "kw = a3.observation(t0,t1,cadence=90,shape=(2048,1024,4,6)); phi.saving(1,**kw); PHI.saving(1,**kw)\n",
    "\n",
    "t0 = a3.raw.end\n",
    "kw = a3.cropping(t0,ndata=-1,crop=[1024,1024],level='raw'); phi.saving(1,**kw); PHI.saving(1,**kw)\n",
    "kw = a3.processing(a3.raw.crop.end,ndata=-1,partialStore=0x00,level='raw.crop',nout=5); phi.saving(1,**kw); PHI.saving(1,**kw)\n",
    "kw = a3.compressing(a3.proc.crop.end, nbits = 6, ndata = -1,level='proc.crop'); phi.saving(1,**kw); PHI.saving(1,**kw)\n",
    "\n",
    "########################################################\n",
    "########################################################\n",
    "printp(a2)\n",
    "print('==========================')\n",
    "printp(a3)\n",
    "\n",
    "# print('amount of compressed raw-data + metadata at',a1.compr.n_bits,'bits:',round(phi.part1.compr,1), 'MB')\n",
    "# print('number of datasets:',a1.raw.n_datasets+a2.raw.n_datasets+a3.raw.n_datasets)\n",
    "# _ = phi.plot(1,bar=True)\n",
    "# plot_tot(PHI)"
   ]
  },
  {
   "cell_type": "markdown",
   "metadata": {},
   "source": [
    "# L_SMALL_MRES_MCAD_Connection-Mosaic\n",
    "Decreasing the cadence (360) to obtain 5 datasets\n"
   ]
  },
  {
   "cell_type": "code",
   "execution_count": 6,
   "metadata": {},
   "outputs": [
    {
     "output_type": "stream",
     "name": "stdout",
     "text": [
      "number of datasets: 5\ncadence: 300 mins\nduration: 1 day, 3:00:00\namount of raw-data at 32 bits: 991.8 MiB, 198.4 MiB per dataset\namount of crop-data at 32 bits: 495.9 MiB, 99.2 MiB per dataset\namount of processed data (and intermediate data) at 16 bits: 572.2 MiB, 15.3 MiB per dataset\namount of compressed data + metadata at 6 bits: 22.1 MiB, 4.4 MiB per dataset\namount of metadata:  120 MiB\namount of memory usage: 2212.5 MiB\n"
     ]
    }
   ],
   "source": [
    "phi = PHI_MEMORY(datetime.datetime.fromisoformat('2022-03-01T23:30:00'))\n",
    "########################################################\n",
    "t0 = datetime.datetime.fromisoformat('2022-03-02T00:00:00')\n",
    "t1 = datetime.datetime.fromisoformat('2022-03-03T03:00:00')\n",
    "a4 = PHI_MODE('FDT')\n",
    "\n",
    "kw = a4.observation(t0,t1,cadence=300,shape=(2048,1024,4,6)); phi.saving(1,**kw); PHI.saving(1,**kw)\n",
    "\n",
    "t0 = a4.raw.end\n",
    "kw = a4.cropping(t0,ndata=-1,crop=[1024,1024],level='raw'); phi.saving(1,**kw); PHI.saving(1,**kw)\n",
    "kw = a4.processing(a4.raw.crop.end,ndata=-1,partialStore=0x00,level='raw.crop',nout=5); phi.saving(1,**kw); PHI.saving(1,**kw)\n",
    "kw = a4.compressing(a4.proc.crop.end, nbits = 6, ndata = -1,level='proc.crop'); phi.saving(1,**kw); PHI.saving(1,**kw)\n",
    "\n",
    "########################################################\n",
    "printp(a4)\n",
    "# plot_tot(PHI)"
   ]
  },
  {
   "source": [
    "# FDT Flat Calibration"
   ],
   "cell_type": "markdown",
   "metadata": {}
  },
  {
   "cell_type": "code",
   "execution_count": 7,
   "metadata": {},
   "outputs": [
    {
     "output_type": "stream",
     "name": "stdout",
     "text": [
      "number of datasets: 9\ncadence: 6 mins\nduration: 0:55:00\namount of raw-data at 32 bits: 3501.9 MiB, 389.1 MiB per dataset\namount of pack-data at 16 bits: 1785.3 MiB, 198.4 MiB per dataset\namount of compressed data + metadata at 6 bits: 654.0 MiB, 72.7 MiB per dataset\namount of metadata:  144 MiB\namount of memory usage: 5424.5 MiB\n"
     ]
    }
   ],
   "source": [
    "phi = PHI_MEMORY(datetime.datetime.fromisoformat('2022-03-03T03:30:00'))\n",
    "\n",
    "#High cadence, 4 days, helio\n",
    "t0 = datetime.datetime.fromisoformat('2022-03-03T04:00:00')\n",
    "t1 = datetime.datetime.fromisoformat('2022-03-03T04:55:00')\n",
    "a5 = PHI_MODE('FDT')\n",
    "kw = a5.observation(t0,t1,cadence=6,shape=(2048,2048,4,6)); phi.saving(1,**kw); PHI.saving(1,**kw)\n",
    "\n",
    "t0 = a5.raw.end\n",
    "kw = a5.packing(t0,ndata=-1,level='raw'); phi.saving(1,**kw); PHI.saving(1,**kw)\n",
    "kw = a5.compressing(a5.raw.pack.end, nbits = 6, ndata = -1,level='raw.pack'); phi.saving(1,**kw); PHI.saving(1,**kw)\n",
    "\n",
    "########################################################\n",
    "printp(a5)\n",
    "# plot_tot(PHI)\n",
    "# _ = phi.plot(1,bar=True)"
   ]
  },
  {
   "cell_type": "markdown",
   "metadata": {},
   "source": [
    "# L_SMALL_HRES_HCAD_Slow-Wind-Connection\n",
    "Decreasing duration from 3 to 2.25 days to acquire 9 datasets\n",
    "## v1.1\n",
    "Increasing duration to 3 days and cadence to 4.5 hours in order to acquire 16 HRT datasets"
   ]
  },
  {
   "cell_type": "code",
   "execution_count": 8,
   "metadata": {},
   "outputs": [
    {
     "output_type": "stream",
     "name": "stdout",
     "text": [
      "number of datasets: 16\ncadence: 270.0 mins\nduration: 3 days, 0:00:00\namount of raw-data at 32 bits: 6225.6 MiB, 389.1 MiB per dataset\namount of processed data (and intermediate data) at 16 bits: 6958.0 MiB, 45.8 MiB per dataset\namount of compressed data + metadata at 6 bits: 250.7 MiB, 15.7 MiB per dataset\namount of metadata:  256 MiB\namount of memory usage: 13549.8 MiB\n"
     ]
    }
   ],
   "source": [
    "phi = PHI_MEMORY(datetime.datetime.fromisoformat('2022-03-03T05:00:00'))\n",
    "########################################################\n",
    "t0 = datetime.datetime.fromisoformat('2022-03-03T06:00:00')\n",
    "t1 = t0 + datetime.timedelta(days=3)\n",
    "a6 = PHI_MODE('HRT')\n",
    "kw = a6.observation(t0,t1,cadence=4.5*60,shape=(2048,2048,4,6)); phi.saving(1,**kw); PHI.saving(1,**kw)\n",
    "\n",
    "t0 = a6.raw.end\n",
    "kw = a6.processing(t0,ndata=-1,partialStore=0x00,level='raw',nout=5); phi.saving(1,**kw); PHI.saving(1,**kw)\n",
    "kw = a6.compressing(a6.proc.end, nbits = 6, ndata = -1,level='proc'); phi.saving(1,**kw); PHI.saving(1,**kw)\n",
    "\n",
    "########################################################\n",
    "# i = 2\n",
    "# t0 = datetime.datetime.fromisoformat('2022-03-03T06:00:00')\n",
    "# t1 = t0 + datetime.timedelta(hours=1)\n",
    "# a6_1 = PHI_MODE('HRT')\n",
    "# kw = a6_1.observation(t0,t1,cadence=2,shape=(2048,2048,4,6)); phi.saving(i,**kw); PHI.saving(i,**kw)\n",
    "\n",
    "# t0 = a6_1.raw.end\n",
    "# kw = a6_1.processing(t0,ndata=-1,partialStore=0x00,level='raw',nout=5); phi.saving(i,**kw); PHI.saving(i,**kw)\n",
    "# kw = a6_1.compressing(a6_1.proc.end, nbits = 6, ndata = -1,level='proc'); phi.saving(i,**kw); PHI.saving(i,**kw)\n",
    "\n",
    "# # ########################################################\n",
    "# i = 2\n",
    "# t0 = datetime.datetime.fromisoformat('2022-03-04T06:00:00')\n",
    "# t1 = t0 + datetime.timedelta(hours=1)\n",
    "# a6_2 = PHI_MODE('HRT')\n",
    "# kw = a6_2.observation(t0,t1,cadence=2,shape=(2048,2048,4,6)); phi.saving(i,**kw); PHI.saving(i,**kw)\n",
    "\n",
    "# t0 = a6_2.raw.end\n",
    "# kw = a6_2.processing(t0,ndata=-1,partialStore=0x00,level='raw',nout=5); phi.saving(i,**kw); PHI.saving(i,**kw)\n",
    "# kw = a6_2.compressing(a6_2.proc.end, nbits = 6, ndata = -1,level='proc'); phi.saving(i,**kw); PHI.saving(i,**kw)\n",
    "\n",
    "# # ########################################################\n",
    "# i = 2\n",
    "# t0 = datetime.datetime.fromisoformat('2022-03-05T06:00:00')\n",
    "# t1 = t0 + datetime.timedelta(hours=1)\n",
    "# a6_3 = PHI_MODE('HRT')\n",
    "# kw = a6_3.observation(t0,t1,cadence=2,shape=(2048,2048,4,6)); phi.saving(i,**kw); PHI.saving(i,**kw)\n",
    "\n",
    "# t0 = a6_3.raw.end\n",
    "# kw = a6_3.processing(t0,ndata=-1,partialStore=0x00,level='raw',nout=5); phi.saving(i,**kw); PHI.saving(i,**kw)\n",
    "# kw = a6_3.compressing(a6_3.proc.end, nbits = 6, ndata = -1,level='proc'); phi.saving(i,**kw); PHI.saving(i,**kw)\n",
    "\n",
    "########################################################\n",
    "printp(a6)\n",
    "# print('==========================')\n",
    "# printp(a6_1)\n",
    "# print('==========================')\n",
    "# printp(a6_2)\n",
    "# print('==========================')\n",
    "# printp(a6_3)\n",
    "\n",
    "# plot_tot(PHI)"
   ]
  },
  {
   "cell_type": "markdown",
   "metadata": {},
   "source": [
    "# R_SMALL_HRES_MCAD_Polar-Observations\n",
    "Decreasing duration from 3 hours to 1.5 hours to acquire 90 datasets"
   ]
  },
  {
   "cell_type": "code",
   "execution_count": 9,
   "metadata": {},
   "outputs": [
    {
     "output_type": "stream",
     "name": "stdout",
     "text": [
      "number of datasets: 90\ncadence: 1 mins\nduration: 1:30:00\namount of raw-data at 32 bits: 35018.9 MiB, 389.1 MiB per dataset\namount of pack-data at 16 bits: 17852.8 MiB, 198.4 MiB per dataset\namount of compressed data + metadata at 6 bits: 6540.1 MiB, 72.7 MiB per dataset\namount of metadata:  1440 MiB\namount of memory usage: 54245.0 MiB\n"
     ]
    }
   ],
   "source": [
    "phi = PHI_MEMORY(datetime.datetime.fromisoformat('2022-03-07T05:00:00'))\n",
    "#Medium cadence, High res, 2-5 min, 3 quantities\n",
    "t0 = datetime.datetime.fromisoformat('2022-03-07T05:30:00')\n",
    "t1 = t0 + datetime.timedelta(hours=1.5)\n",
    "a7 = PHI_MODE('HRT')\n",
    "kw = a7.observation(t0,t1,cadence=1,shape=(2048,2048,4,6)); phi.saving(1,**kw); PHI.saving(1,**kw)\n",
    "\n",
    "t0 = a7.raw.end\n",
    "kw = a7.packing(t0,ndata=-1,level='raw'); phi.saving(1,**kw); PHI.saving(1,**kw)\n",
    "kw = a7.compressing(a7.raw.pack.end, nbits = 6, ndata = -1,level='raw.pack'); phi.saving(1,**kw); PHI.saving(1,**kw)\n",
    "\n",
    "########################################################\n",
    "# t0 = datetime.datetime.fromisoformat('2022-03-30T06:00:00')\n",
    "# t1 = t0 + datetime.timedelta(hours=3)\n",
    "# a7 = PHI_MODE('HRT')\n",
    "# kw = a7.observation(t0,t1,cadence=1,shape=(2048,2048,4,6)); phi.saving(1,**kw); PHI.saving(1,**kw)\n",
    "\n",
    "# t0 = a7.raw.end\n",
    "# kw = a7.processing(t0,ndata=-1,partialStore=0x00,level='raw',nout=5); phi.saving(1,**kw); PHI.saving(1,**kw)\n",
    "# kw = a7.compressing(a7.proc.end, nbits = 5, ndata = -1,level='proc'); phi.saving(1,**kw); PHI.saving(1,**kw)\n",
    "\n",
    "########################################################\n",
    "# phi = PHI_MEMORY(datetime.datetime.fromisoformat('2022-04-04T08:00:00'))\n",
    "# t0 = datetime.datetime.fromisoformat('2022-04-04T09:00:00')\n",
    "# t1 = datetime.datetime.fromisoformat('2022-04-06T00:00:00')\n",
    "# a7_2 = PHI_MODE('HRT')\n",
    "# kw = a7_2.observation(t0,t1,cadence=10,shape=(2048,2048,4,6)); phi.saving(1,**kw); PHI.saving(1,**kw)\n",
    "\n",
    "# t0 = a7_2.raw.end\n",
    "# kw = a7_2.processing(t0,ndata=-1,partialStore=0x00,level='raw',nout=5); phi.saving(1,**kw); PHI.saving(1,**kw)\n",
    "# kw = a7_2.compressing(a7_2.proc.end, nbits = 5, ndata = -1,level='proc'); phi.saving(1,**kw); PHI.saving(1,**kw)\n",
    "\n",
    "printp(a7)\n",
    "# print('==========================')\n",
    "# printp(a7_2)"
   ]
  },
  {
   "source": [
    "# R_BOTH_HRES_HCAD_Nanoflares\n",
    "Decreasing duration from 3 hours to 1.5 hours to acquire 90 datasets"
   ],
   "cell_type": "markdown",
   "metadata": {}
  },
  {
   "cell_type": "code",
   "execution_count": 10,
   "metadata": {},
   "outputs": [
    {
     "output_type": "stream",
     "name": "stdout",
     "text": [
      "number of datasets: 90\ncadence: 1 mins\nduration: 1:30:00\namount of raw-data at 32 bits: 35018.9 MiB, 389.1 MiB per dataset\namount of pack-data at 16 bits: 17852.8 MiB, 198.4 MiB per dataset\namount of compressed data + metadata at 6 bits: 6540.1 MiB, 72.7 MiB per dataset\namount of metadata:  1440 MiB\namount of memory usage: 54245.0 MiB\n"
     ]
    }
   ],
   "source": [
    "phi = PHI_MEMORY(datetime.datetime.fromisoformat('2022-03-07T08:00:00'))\n",
    "##High cadence, High res################################\n",
    "t0 = datetime.datetime.fromisoformat('2022-03-07T08:30:00')\n",
    "t1 = t0 + datetime.timedelta(hours=1.5)\n",
    "a8 = PHI_MODE('HRT')\n",
    "kw = a8.observation(t0,t1,cadence=1,shape=(2048,2048,4,6)); phi.saving(1,**kw); PHI.saving(1,**kw)\n",
    "\n",
    "t0 = a8.raw.end\n",
    "kw = a8.packing(t0,ndata=-1,level='raw'); phi.saving(1,**kw); PHI.saving(1,**kw)\n",
    "kw = a8.compressing(a8.raw.pack.end, nbits = 6, ndata = -1,level='raw.pack'); phi.saving(1,**kw); PHI.saving(1,**kw)\n",
    "\n",
    "########################################################\n",
    "\n",
    "printp(a8)\n",
    "# plot_tot(PHI)"
   ]
  },
  {
   "source": [
    "# Crazy Mosaic\n",
    "25 datasets, not 36 (and cadence 7 minutes)"
   ],
   "cell_type": "markdown",
   "metadata": {}
  },
  {
   "cell_type": "code",
   "execution_count": 11,
   "metadata": {},
   "outputs": [
    {
     "output_type": "stream",
     "name": "stdout",
     "text": [
      "number of datasets: 25\ncadence: 7 mins\nduration: 2:55:00\namount of raw-data at 32 bits: 9727.5 MiB, 389.1 MiB per dataset\namount of pack-data at 16 bits: 4959.1 MiB, 198.4 MiB per dataset\namount of compressed data + metadata at 6 bits: 1816.7 MiB, 72.7 MiB per dataset\namount of metadata:  400 MiB\namount of memory usage: 15068.1 MiB\n"
     ]
    }
   ],
   "source": [
    "# TBD mosaic. Cadence = 6 minutes, full size, 36 datasets\n",
    "phi = PHI_MEMORY(datetime.datetime.fromisoformat('2022-03-07T11:00:00'))\n",
    "########################################################\n",
    "t0 = datetime.datetime.fromisoformat('2022-03-07T11:30:00')\n",
    "t1 = t0 + datetime.timedelta(minutes=175) #36 datasets\n",
    "a9 = PHI_MODE('HRT')\n",
    "\n",
    "kw = a9.observation(t0,t1,cadence=7,shape=(2048,2048,4,6)); phi.saving(1,**kw); PHI.saving(1,**kw)\n",
    "\n",
    "t0 = a9.raw.end\n",
    "kw = a9.packing(t0,ndata=-1,level='raw'); phi.saving(1,**kw); PHI.saving(1,**kw)\n",
    "kw = a9.compressing(a9.raw.pack.end, nbits = 6, ndata = -1,level='raw.pack'); phi.saving(1,**kw); PHI.saving(1,**kw)\n",
    "\n",
    "########################################################\n",
    "printp(a9)\n",
    "# plot_tot(PHI)"
   ]
  },
  {
   "cell_type": "markdown",
   "metadata": {},
   "source": [
    "# L_FULL_HRES_MCAD_Coronal-He-Abundance\n",
    "Decreasing duration from 4 hours to 3 hours"
   ]
  },
  {
   "cell_type": "code",
   "execution_count": 12,
   "metadata": {},
   "outputs": [
    {
     "output_type": "stream",
     "name": "stdout",
     "text": [
      "number of datasets: 36\ncadence: 5 mins\nduration: 3:00:00\namount of raw-data at 32 bits: 14007.6 MiB, 389.1 MiB per dataset\namount of pack-data at 16 bits: 7141.1 MiB, 198.4 MiB per dataset\namount of compressed data + metadata at 6 bits: 2616.0 MiB, 72.7 MiB per dataset\namount of metadata:  576 MiB\namount of memory usage: 21698.0 MiB\n"
     ]
    }
   ],
   "source": [
    "phi = PHI_MEMORY(datetime.datetime.fromisoformat('2022-03-07T15:30:00'))\n",
    "########################################################\n",
    "t0 = datetime.datetime.fromisoformat('2022-03-07T16:00:00')\n",
    "t1 = t0 + datetime.timedelta(hours=3)\n",
    "a10 = PHI_MODE('HRT')\n",
    "\n",
    "kw = a10.observation(t0,t1,cadence=5,shape=(2048,2048,4,6)); phi.saving(1,**kw); PHI.saving(1,**kw)\n",
    "\n",
    "t0 = a10.raw.end\n",
    "kw = a10.packing(t0,ndata=-1,level='raw'); phi.saving(1,**kw); PHI.saving(1,**kw)\n",
    "kw = a10.compressing(a10.raw.pack.end, nbits = 6, ndata = -1,level='raw.pack'); phi.saving(1,**kw); PHI.saving(1,**kw)\n",
    "\n",
    "########################################################\n",
    "printp(a10)\n",
    "# plot_tot(PHI)"
   ]
  },
  {
   "cell_type": "markdown",
   "metadata": {},
   "source": [
    "# R_BOTH_HRES_HCAD_Nanoflares\n",
    "Decreasing duration from 3 hours to 1.5 hours to acquire 90 datasets"
   ]
  },
  {
   "cell_type": "code",
   "execution_count": 13,
   "metadata": {},
   "outputs": [
    {
     "output_type": "stream",
     "name": "stdout",
     "text": [
      "number of datasets: 90\ncadence: 1 mins\nduration: 1:30:00\namount of raw-data at 32 bits: 35018.9 MiB, 389.1 MiB per dataset\namount of pack-data at 16 bits: 17852.8 MiB, 198.4 MiB per dataset\namount of compressed data + metadata at 6 bits: 6540.1 MiB, 72.7 MiB per dataset\namount of metadata:  1440 MiB\namount of memory usage: 54245.0 MiB\n"
     ]
    }
   ],
   "source": [
    "phi = PHI_MEMORY(datetime.datetime.fromisoformat('2022-03-07T23:30:00'))\n",
    "\n",
    "########################################################\n",
    "t0 = datetime.datetime.fromisoformat('2022-03-08T00:00:00')\n",
    "t1 = t0 + datetime.timedelta(hours=1.5)\n",
    "a11 = PHI_MODE('HRT')\n",
    "kw = a11.observation(t0,t1,cadence=1,shape=(2048,2048,4,6)); phi.saving(1,**kw); PHI.saving(1,**kw)\n",
    "\n",
    "t0 = a11.raw.end\n",
    "kw = a11.packing(t0,ndata=-1,level='raw'); phi.saving(1,**kw); PHI.saving(1,**kw)\n",
    "kw = a11.compressing(a11.raw.pack.end, nbits = 6, ndata = -1,level='raw.pack'); phi.saving(1,**kw); PHI.saving(1,**kw)\n",
    "\n",
    "########################################################\n",
    "printp(a11)\n",
    "# plot_tot(PHI)"
   ]
  },
  {
   "source": [
    "# FDTSOOP_???\n",
    "Decreasing cadence from 5 minutes to minutes to acquire 20 datasets"
   ],
   "cell_type": "markdown",
   "metadata": {}
  },
  {
   "cell_type": "code",
   "execution_count": 14,
   "metadata": {},
   "outputs": [
    {
     "output_type": "stream",
     "name": "stdout",
     "text": [
      "number of datasets: 20\ncadence: 18 mins\nduration: 6:00:00\namount of raw-data at 32 bits: 1983.6 MiB, 99.2 MiB per dataset\namount of crop-data at 32 bits: 762.9 MiB, 38.1 MiB per dataset\namount of pack-data at 16 bits: 457.8 MiB, 22.9 MiB per dataset\namount of compressed data + metadata at 6 bits: 154.0 MiB, 7.7 MiB per dataset\namount of metadata:  480 MiB\namount of memory usage: 3662.1 MiB\n"
     ]
    }
   ],
   "source": [
    "phi = PHI_MEMORY(datetime.datetime.fromisoformat('2022-03-08T03:30:00'))\n",
    "\n",
    "#High cadence, 4 days, helio\n",
    "t0 = datetime.datetime.fromisoformat('2022-03-08T04:00:00')\n",
    "t1 = datetime.datetime.fromisoformat('2022-03-08T10:00:00')\n",
    "a12 = PHI_MODE('FDT')\n",
    "kw = a12.observation(t0,t1,cadence=18,shape=(2048,2048,1,6)); phi.saving(1,**kw); PHI.saving(1,**kw)\n",
    "\n",
    "t0 = a12.raw.end\n",
    "kw = a12.cropping(t0,ndata=-1,crop=[1280,1280],level='raw'); phi.saving(1,**kw); PHI.saving(1,**kw)\n",
    "kw = a12.packing(a12.raw.crop.end,ndata=-1,level='raw.crop'); phi.saving(1,**kw); PHI.saving(1,**kw)\n",
    "\n",
    "kw = a12.compressing(a12.raw.pack.end, nbits = 6, ndata = -1,level='raw.pack'); phi.saving(1,**kw); PHI.saving(1,**kw)\n",
    "\n",
    "########################################################\n",
    "printp(a12)\n",
    "# plot_tot(PHI)"
   ]
  },
  {
   "source": [
    "# HRT Flat Calibration"
   ],
   "cell_type": "markdown",
   "metadata": {}
  },
  {
   "cell_type": "code",
   "execution_count": 15,
   "metadata": {},
   "outputs": [
    {
     "output_type": "stream",
     "name": "stdout",
     "text": [
      "number of datasets: 20\ncadence: 144 mins\nduration: 2 days, 0:00:00\namount of raw-data at 32 bits: 7782.0 MiB, 389.1 MiB per dataset\namount of pack-data at 16 bits: 3967.3 MiB, 198.4 MiB per dataset\namount of compressed data + metadata at 6 bits: 1453.4 MiB, 72.7 MiB per dataset\namount of metadata:  320 MiB\namount of memory usage: 12054.4 MiB\n"
     ]
    }
   ],
   "source": [
    "phi = PHI_MEMORY(datetime.datetime.fromisoformat('2022-03-08T11:30:00'))\n",
    "\n",
    "#High cadence, 4 days, helio\n",
    "t0 = datetime.datetime.fromisoformat('2022-03-08T12:00:00')\n",
    "t1 = datetime.datetime.fromisoformat('2022-03-10T12:00:00')\n",
    "a13 = PHI_MODE('HRT')\n",
    "kw = a13.observation(t0,t1,cadence=144,shape=(2048,2048,4,6)); phi.saving(1,**kw); PHI.saving(1,**kw)\n",
    "\n",
    "t0 = a13.raw.end\n",
    "kw = a13.packing(t0,ndata=-1,level='raw'); phi.saving(1,**kw); PHI.saving(1,**kw)\n",
    "kw = a13.compressing(a13.raw.pack.end, nbits = 6, ndata = -1,level='raw.pack'); phi.saving(1,**kw); PHI.saving(1,**kw)\n",
    "\n",
    "########################################################\n",
    "printp(a13)\n",
    "# plot_tot(PHI)"
   ]
  },
  {
   "source": [
    "# ***RESET NAND***"
   ],
   "cell_type": "markdown",
   "metadata": {}
  },
  {
   "cell_type": "code",
   "execution_count": 16,
   "metadata": {},
   "outputs": [
    {
     "output_type": "stream",
     "name": "stdout",
     "text": [
      "amount of compressed data + metadata in partition 1: 25.98 GiB\namount of compressed data + metadata in partition 2: 0.0 GiB\n"
     ]
    }
   ],
   "source": [
    "print('amount of compressed data + metadata in partition 1:',round(PHI.part1.compr*1e6/2**30,2), 'GiB')\n",
    "print('amount of compressed data + metadata in partition 2:',round(PHI.part2.compr*1e6/2**30,2), 'GiB')\n",
    "PHI.format_partition(1,max(PHI.part1.history['end']))\n",
    "PHI.format_partition(2,max(PHI.part1.history['end']))\n",
    "# plot_tot(PHI)"
   ]
  },
  {
   "source": [
    "# R_BOTH_HRES_HCAD_Nanoflares\n",
    "Decreasing duration from 6 hours to 1.5 hours to acquire 90 datasets"
   ],
   "cell_type": "markdown",
   "metadata": {}
  },
  {
   "cell_type": "code",
   "execution_count": 17,
   "metadata": {},
   "outputs": [
    {
     "output_type": "stream",
     "name": "stdout",
     "text": [
      "number of datasets: 90\ncadence: 1 mins\nduration: 1:30:00\namount of raw-data at 32 bits: 35018.9 MiB, 389.1 MiB per dataset\namount of pack-data at 16 bits: 17852.8 MiB, 198.4 MiB per dataset\namount of compressed data + metadata at 6 bits: 6540.1 MiB, 72.7 MiB per dataset\namount of metadata:  1440 MiB\namount of memory usage: 54245.0 MiB\n"
     ]
    }
   ],
   "source": [
    "phi = PHI_MEMORY(datetime.datetime.fromisoformat('2022-03-16T23:30:00'))\n",
    "\n",
    "########################################################\n",
    "t0 = datetime.datetime.fromisoformat('2022-03-17T00:00:00')\n",
    "t1 = t0 + datetime.timedelta(hours=1.5)\n",
    "a14 = PHI_MODE('HRT')\n",
    "kw = a14.observation(t0,t1,cadence=1,shape=(2048,2048,4,6)); phi.saving(1,**kw); PHI.saving(1,**kw)\n",
    "\n",
    "t0 = a14.raw.end\n",
    "kw = a14.packing(t0,ndata=-1,level='raw'); phi.saving(1,**kw); PHI.saving(1,**kw)\n",
    "kw = a14.compressing(a14.raw.pack.end, nbits = 6, ndata = -1,level='raw.pack'); phi.saving(1,**kw); PHI.saving(1,**kw)\n",
    "\n",
    "########################################################\n",
    "printp(a14)\n",
    "# plot_tot(PHI)"
   ]
  },
  {
   "source": [
    "# FDT Flat Calibration"
   ],
   "cell_type": "markdown",
   "metadata": {}
  },
  {
   "cell_type": "code",
   "execution_count": 18,
   "metadata": {},
   "outputs": [
    {
     "output_type": "stream",
     "name": "stdout",
     "text": [
      "number of datasets: 9\ncadence: 6 mins\nduration: 0:55:00\namount of raw-data at 32 bits: 3501.9 MiB, 389.1 MiB per dataset\namount of pack-data at 16 bits: 1785.3 MiB, 198.4 MiB per dataset\namount of compressed data + metadata at 6 bits: 654.0 MiB, 72.7 MiB per dataset\namount of metadata:  144 MiB\namount of memory usage: 5424.5 MiB\n"
     ]
    }
   ],
   "source": [
    "phi = PHI_MEMORY(datetime.datetime.fromisoformat('2022-03-17T05:30:00'))\n",
    "\n",
    "t0 = datetime.datetime.fromisoformat('2022-03-17T06:00:00')\n",
    "t1 = datetime.datetime.fromisoformat('2022-03-17T06:55:00')\n",
    "a15 = PHI_MODE('FDT')\n",
    "kw = a15.observation(t0,t1,cadence=6,shape=(2048,2048,4,6)); phi.saving(1,**kw); PHI.saving(1,**kw)\n",
    "\n",
    "t0 = a15.raw.end\n",
    "kw = a15.packing(t0,ndata=-1,level='raw'); phi.saving(1,**kw); PHI.saving(1,**kw)\n",
    "kw = a15.compressing(a15.raw.pack.end, nbits = 6, ndata = -1,level='raw.pack'); phi.saving(1,**kw); PHI.saving(1,**kw)\n",
    "\n",
    "########################################################\n",
    "printp(a15)\n",
    "\n",
    "# _ = phi.plot(1,bar=True)\n",
    "# plot_tot(PHI)"
   ]
  },
  {
   "source": [
    "# L_SMALL_HRES_HCAD_Slow-Wind-Connection L_FULL_HRES_HCAD_Coronal-Dynamics L_FULL_HRES_HCAD_Eruption-Watch\n",
    "Duration should decreas from 13 days to 2.5 days to acquire 10 datasets\n",
    "## v1.1\n",
    "Duration to 12 days (48 datasets)"
   ],
   "cell_type": "markdown",
   "metadata": {}
  },
  {
   "cell_type": "code",
   "execution_count": 19,
   "metadata": {},
   "outputs": [
    {
     "output_type": "stream",
     "name": "stdout",
     "text": [
      "number of datasets: 48\ncadence: 360 mins\nduration: 12 days, 0:00:00\namount of raw-data at 32 bits: 16479.5 MiB, 343.3 MiB per dataset\namount of crop-data at 32 bits: 14282.2 MiB, 297.5 MiB per dataset\namount of processed data (and intermediate data) at 16 bits: 16113.3 MiB, 38.1 MiB per dataset\namount of compressed data + metadata at 6 bits: 583.3 MiB, 12.2 MiB per dataset\namount of metadata:  1152 MiB\namount of memory usage: 48339.8 MiB\n"
     ]
    }
   ],
   "source": [
    "phi = PHI_MEMORY(datetime.datetime.fromisoformat('2022-03-16T23:30:00'))\n",
    "i = 1\n",
    "########################################################\n",
    "t0 = datetime.datetime.fromisoformat('2022-03-17T00:00:00')\n",
    "t1 = t0 + datetime.timedelta(days=12)\n",
    "a16 = PHI_MODE('FDT')\n",
    "kw = a16.observation(t0,t1,cadence=6*60,shape=(2048,1792,4,6)); phi.saving(i,**kw); PHI.saving(i,**kw)\n",
    "\n",
    "t0 = a16.raw.end\n",
    "kw = a16.cropping(t0,ndata=-1,crop=[1792,1792],level='raw'); phi.saving(i,**kw); PHI.saving(i,**kw)\n",
    "kw = a16.processing(a16.raw.crop.end,ndata=-1,partialStore=0x00,level='raw.crop',nout=5); phi.saving(i,**kw); PHI.saving(i,**kw)\n",
    "kw = a16.compressing(a16.proc.crop.end, nbits = 6, ndata = -1,level='proc.crop'); phi.saving(i,**kw); PHI.saving(i,**kw)\n",
    "\n",
    "printp(a16)\n",
    "# plot_tot(PHI)"
   ]
  },
  {
   "source": [
    "# L_SMAL_HRES_HCAD_Slow-Wind-Connection\n",
    "## v1.1\n",
    "Cadence increased during the soop and switching to HRT during Perihelion (March 26th)"
   ],
   "cell_type": "markdown",
   "metadata": {}
  },
  {
   "cell_type": "code",
   "execution_count": 20,
   "metadata": {},
   "outputs": [
    {
     "output_type": "stream",
     "name": "stdout",
     "text": [
      "number of datasets: 90\ncadence: 1 mins\nduration: 1:30:00\namount of raw-data at 32 bits: 35018.9 MiB, 389.1 MiB per dataset\namount of pack-data at 16 bits: 17852.8 MiB, 198.4 MiB per dataset\namount of compressed data + metadata at 6 bits: 6540.1 MiB, 72.7 MiB per dataset\namount of metadata:  1440 MiB\namount of memory usage: 54245.0 MiB\n"
     ]
    }
   ],
   "source": [
    "phi = PHI_MEMORY(datetime.datetime.fromisoformat('2022-03-25T23:30:00'))\n",
    "i = 1\n",
    "########################################################\n",
    "t0 = datetime.datetime.fromisoformat('2022-03-26T00:00:00')\n",
    "t1 = t0 + datetime.timedelta(hours=1.5)\n",
    "a16_1 = PHI_MODE('HRT')\n",
    "kw = a16_1.observation(t0,t1,cadence=1,shape=(2048,2048,4,6)); phi.saving(i,**kw); PHI.saving(i,**kw)\n",
    "\n",
    "t0 = a16_1.raw.end\n",
    "kw = a16_1.packing(t0,ndata=-1,level='raw'); phi.saving(i,**kw); PHI.saving(i,**kw)\n",
    "kkw = a16_1.compressing(a16_1.raw.pack.end, nbits = 6, ndata = -1,level='raw.pack'); phi.saving(i,**kw); PHI.saving(i,**kw)\n",
    "\n",
    "printp(a16_1)\n",
    "# plot_tot(PHI)"
   ]
  },
  {
   "source": [
    "# R_BOTH_HRES_HCAD_Nanoflares\n",
    "## v1.2\n",
    "Second window for Nanoflares <br />\n",
    "Duration reduced from 6 hours to 90 minutes to obtain 90 datasets at 1 minute cadence"
   ],
   "cell_type": "markdown",
   "metadata": {}
  },
  {
   "cell_type": "code",
   "execution_count": 21,
   "metadata": {},
   "outputs": [
    {
     "output_type": "stream",
     "name": "stdout",
     "text": [
      "number of datasets: 90\ncadence: 1 mins\nduration: 1:30:00\namount of raw-data at 32 bits: 35018.9 MiB, 389.1 MiB per dataset\namount of processed data (and intermediate data) at 16 bits: 37765.5 MiB, 30.5 MiB per dataset\namount of compressed data + metadata at 6 bits: 870.1 MiB, 9.7 MiB per dataset\namount of metadata:  1440 MiB\namount of memory usage: 74844.4 MiB\n"
     ]
    }
   ],
   "source": [
    "phi = PHI_MEMORY(datetime.datetime.fromisoformat('2022-03-29T23:30:00'))\n",
    "\n",
    "########################################################\n",
    "t0 = datetime.datetime.fromisoformat('2022-03-30T00:00:00')\n",
    "t1 = t0 + datetime.timedelta(hours=1.5)\n",
    "a14_1 = PHI_MODE('HRT')\n",
    "kw = a14_1.observation(t0,t1,cadence=1,shape=(2048,2048,4,6)); phi.saving(1,**kw); PHI.saving(1,**kw)\n",
    "\n",
    "t0 = a14_1.raw.end\n",
    "kw = a14_1.processing(t0,ndata=-1,partialStore=0x00,level='raw',nout=3); phi.saving(1,**kw); PHI.saving(1,**kw)\n",
    "kw = a14_1.compressing(a14_1.proc.end, nbits = 6, ndata = -1,level='proc'); phi.saving(1,**kw); PHI.saving(1,**kw)\n",
    "\n",
    "########################################################\n",
    "printp(a14_1)\n",
    "# plot_tot(PHI)"
   ]
  },
  {
   "source": [
    "# R_SMALL_HRES_MCAD_Polar-Observations\n",
    "Not considered\n",
    "## v1.2\n",
    "second windowfor Polar Observations <br />\n",
    "Duration reduced from 6 hours to 90 minutes to obtain 18 datasets at 5 minute cadence"
   ],
   "cell_type": "markdown",
   "metadata": {}
  },
  {
   "cell_type": "code",
   "execution_count": 22,
   "metadata": {},
   "outputs": [
    {
     "output_type": "stream",
     "name": "stdout",
     "text": [
      "number of datasets: 18\ncadence: 5 mins\nduration: 1:30:00\namount of raw-data at 32 bits: 7003.8 MiB, 389.1 MiB per dataset\namount of processed data (and intermediate data) at 16 bits: 7553.1 MiB, 30.5 MiB per dataset\namount of compressed data + metadata at 5 bits: 147.0 MiB, 8.2 MiB per dataset\namount of metadata:  288 MiB\namount of memory usage: 14968.9 MiB\n"
     ]
    }
   ],
   "source": [
    "phi = PHI_MEMORY(datetime.datetime.fromisoformat('2022-03-30T05:30:00'))\n",
    "t0 = datetime.datetime.fromisoformat('2022-03-30T06:00:00')\n",
    "t1 = datetime.datetime.fromisoformat('2022-03-30T07:30:00')\n",
    "a7_1 = PHI_MODE('HRT')\n",
    "kw = a7_1.observation(t0,t1,cadence=5,shape=(2048,2048,4,6)); phi.saving(1,**kw); PHI.saving(1,**kw)\n",
    "\n",
    "t0 = a7_1.raw.end\n",
    "kw = a7_1.processing(t0,ndata=-1,partialStore=0x00,level='raw',nout=3); phi.saving(1,**kw); PHI.saving(1,**kw)\n",
    "kw = a7_1.compressing(a7_1.proc.end, nbits = 5, ndata = -1,level='proc'); phi.saving(1,**kw); PHI.saving(1,**kw)\n",
    "\n",
    "printp(a7_1)"
   ]
  },
  {
   "source": [
    "# L_SMALL_MRES_MCAD_Connection-Mosaic\n"
   ],
   "cell_type": "markdown",
   "metadata": {}
  },
  {
   "cell_type": "code",
   "execution_count": 23,
   "metadata": {},
   "outputs": [
    {
     "output_type": "stream",
     "name": "stdout",
     "text": [
      "number of datasets: 81\ncadence: 20 mins\nduration: 1 day, 3:00:00\namount of raw-data at 32 bits: 31517.0 MiB, 389.1 MiB per dataset\namount of processed data (and intermediate data) at 16 bits: 35224.9 MiB, 45.8 MiB per dataset\namount of compressed data + metadata at 6 bits: 1269.1 MiB, 15.7 MiB per dataset\namount of metadata:  1296 MiB\namount of memory usage: 68595.9 MiB\n"
     ]
    }
   ],
   "source": [
    "phi = PHI_MEMORY(datetime.datetime.fromisoformat('2022-03-29T23:30:00'))\n",
    "i = 2\n",
    "########################################################\n",
    "t0 = datetime.datetime.fromisoformat('2022-03-30T00:00:00')\n",
    "t1 = datetime.datetime.fromisoformat('2022-03-31T03:00:00')\n",
    "a17 = PHI_MODE('HRT')\n",
    "\n",
    "kw = a17.observation(t0,t1,cadence=20,shape=(2048,2048,4,6)); phi.saving(i,**kw); PHI.saving(i,**kw)\n",
    "\n",
    "t0 = a17.raw.end\n",
    "kw = a17.processing(a17.raw.end,ndata=-1,partialStore=0x00,level='raw',nout=5); phi.saving(i,**kw); PHI.saving(i,**kw)\n",
    "kw = a17.compressing(a17.proc.end, nbits = 6, ndata = -1,level='proc'); phi.saving(i,**kw); PHI.saving(i,**kw)\n",
    "\n",
    "########################################################\n",
    "printp(a17)\n",
    "# plot_tot(PHI)"
   ]
  },
  {
   "cell_type": "markdown",
   "metadata": {},
   "source": [
    "# R_SMALL_MRES_MCAD_AR-Long-Term"
   ]
  },
  {
   "cell_type": "code",
   "execution_count": 24,
   "metadata": {},
   "outputs": [
    {
     "output_type": "stream",
     "name": "stdout",
     "text": [
      "number of datasets: 186\ncadence: 30 mins\nduration: 3 days, 21:00:00\namount of raw-data at 32 bits: 72372.4 MiB, 389.1 MiB per dataset\namount of processed data (and intermediate data) at 16 bits: 80886.8 MiB, 45.8 MiB per dataset\namount of compressed data + metadata at 6 bits: 2914.2 MiB, 15.7 MiB per dataset\namount of metadata:  2976 MiB\namount of memory usage: 157516.5 MiB\n"
     ]
    }
   ],
   "source": [
    "phi = PHI_MEMORY(datetime.datetime.fromisoformat('2022-03-31T11:30:00'))\n",
    "i = 2\n",
    "########################################################\n",
    "t0 = datetime.datetime.fromisoformat('2022-03-31T12:00:00')\n",
    "t1 = datetime.datetime.fromisoformat('2022-04-04T09:00:00')\n",
    "a18 = PHI_MODE('HRT')\n",
    "kw = a18.observation(t0,t1,cadence=30,shape=(2048,2048,4,6)); phi.saving(i,**kw); PHI.saving(i,**kw)\n",
    "\n",
    "t0 = a18.raw.end\n",
    "kw = a18.processing(t0,ndata=-1,partialStore=0x00,level='raw',nout=5); phi.saving(i,**kw); PHI.saving(i,**kw)\n",
    "kw = a18.compressing(a18.proc.end, nbits = 6, ndata = -1,level='proc'); phi.saving(i,**kw); PHI.saving(i,**kw)\n",
    "\n",
    "########################################################\n",
    "printp(a18)\n",
    "# plot_tot(PHI)"
   ]
  },
  {
   "source": [
    "# R_SMALL_HRES_MCAD_Polar-Observations\n",
    "Not considered\n",
    "## v1.2\n",
    "third windowfor Polar Observations <br />\n",
    "Decreasing the duration from 39 to 36 hours --> NOT CONSIDERED"
   ],
   "cell_type": "markdown",
   "metadata": {}
  },
  {
   "cell_type": "code",
   "execution_count": 25,
   "metadata": {},
   "outputs": [
    {
     "output_type": "stream",
     "name": "stdout",
     "text": [
      "number of datasets: 468\ncadence: 5 mins\nduration: 1 day, 15:00:00\namount of raw-data at 32 bits: 182098.4 MiB, 389.1 MiB per dataset\namount of processed data (and intermediate data) at 16 bits: 196380.6 MiB, 30.5 MiB per dataset\namount of compressed data + metadata at 5 bits: 3822.4 MiB, 8.2 MiB per dataset\namount of metadata:  7488 MiB\namount of memory usage: 389190.7 MiB\n"
     ]
    }
   ],
   "source": [
    "phi = PHI_MEMORY(datetime.datetime.fromisoformat('2022-04-04T08:00:00'))\n",
    "t0 = datetime.datetime.fromisoformat('2022-04-04T09:00:00')\n",
    "t1 = datetime.datetime.fromisoformat('2022-04-06T00:00:00')\n",
    "a7_2 = PHI_MODE('HRT')\n",
    "kw = a7_2.observation(t0,t1,cadence=5,shape=(2048,2048,4,6)); phi.saving(1,**kw); PHI.saving(1,**kw)\n",
    "\n",
    "t0 = a7_2.raw.end\n",
    "kw = a7_2.processing(t0,ndata=-1,partialStore=0x00,level='raw',nout=3); phi.saving(1,**kw); PHI.saving(1,**kw)\n",
    "kw = a7_2.compressing(a7_2.proc.end, nbits = 5, ndata = -1,level='proc'); phi.saving(1,**kw); PHI.saving(1,**kw)\n",
    "\n",
    "printp(a7_2)"
   ]
  },
  {
   "source": [
    "# General Synoptic"
   ],
   "cell_type": "markdown",
   "metadata": {}
  },
  {
   "cell_type": "code",
   "execution_count": 26,
   "metadata": {},
   "outputs": [
    {
     "output_type": "stream",
     "name": "stdout",
     "text": [
      "number of datasets: 348\ncadence: 360 mins\nduration: 87 days, 0:00:00\namount of raw-data at 32 bits: 69030.8 MiB, 198.4 MiB per dataset\namount of crop-data at 32 bits: 34515.4 MiB, 99.2 MiB per dataset\namount of processed data (and intermediate data) at 16 bits: 37170.4 MiB, 7.6 MiB per dataset\namount of compressed data + metadata at 6 bits: 1015.3 MiB, 2.9 MiB per dataset\namount of metadata:  8352 MiB\namount of memory usage: 151336.7 MiB\n"
     ]
    }
   ],
   "source": [
    "phi = PHI_MEMORY(datetime.datetime.fromisoformat('2022-04-04T23:30:00'))\n",
    "\n",
    "t0 = datetime.datetime.fromisoformat('2022-04-05T00:00:00')\n",
    "t1 = datetime.datetime.fromisoformat('2022-07-01T00:00:00')\n",
    "a19 = PHI_MODE('FDT')\n",
    "kw = a19.observation(t0,t1,cadence=360,shape=(2048,1024,4,6)); phi.saving(1,**kw); PHI.saving(1,**kw)\n",
    "\n",
    "t0 = a19.raw.end\n",
    "kw = a19.cropping(t0,ndata=-1,crop=[1024,1024],level='raw'); phi.saving(1,**kw); PHI.saving(1,**kw)\n",
    "kw = a19.processing(a19.raw.crop.end,ndata=-1,partialStore=0x00,level='raw.crop',nout=3); phi.saving(1,**kw); PHI.saving(1,**kw)\n",
    "kw = a19.compressing(a19.proc.crop.end, nbits = 6, ndata = -1,level='proc.crop'); phi.saving(1,**kw); PHI.saving(1,**kw)\n",
    "\n",
    "########################################################\n",
    "printp(a19)\n",
    "# plot_tot(PHI)"
   ]
  },
  {
   "cell_type": "code",
   "execution_count": 27,
   "metadata": {},
   "outputs": [
    {
     "output_type": "stream",
     "name": "stdout",
     "text": [
      "amount of compressed data + metadata in partition 1: 13.31 GiB\namount of compressed data + metadata in partition 2: 4.09 GiB\n"
     ]
    }
   ],
   "source": [
    "print('amount of compressed data + metadata in partition 1:',round(PHI.part1.compr*1e6/2**30,2), 'GiB')\n",
    "print('amount of compressed data + metadata in partition 2:',round(PHI.part2.compr*1e6/2**30,2), 'GiB')\n"
   ]
  },
  {
   "source": [
    "# PLOTS"
   ],
   "cell_type": "markdown",
   "metadata": {}
  },
  {
   "cell_type": "code",
   "execution_count": 29,
   "metadata": {},
   "outputs": [
    {
     "output_type": "display_data",
     "data": {
      "text/plain": "<Figure size 1080x576 with 2 Axes>",
      "image/svg+xml": "<?xml version=\"1.0\" encoding=\"utf-8\" standalone=\"no\"?>\n<!DOCTYPE svg PUBLIC \"-//W3C//DTD SVG 1.1//EN\"\n  \"http://www.w3.org/Graphics/SVG/1.1/DTD/svg11.dtd\">\n<!-- Created with matplotlib (https://matplotlib.org/) -->\n<svg height=\"471.149158pt\" version=\"1.1\" viewBox=\"0 0 891.165625 471.149158\" width=\"891.165625pt\" xmlns=\"http://www.w3.org/2000/svg\" xmlns:xlink=\"http://www.w3.org/1999/xlink\">\n <metadata>\n  <rdf:RDF xmlns:cc=\"http://creativecommons.org/ns#\" xmlns:dc=\"http://purl.org/dc/elements/1.1/\" xmlns:rdf=\"http://www.w3.org/1999/02/22-rdf-syntax-ns#\">\n   <cc:Work>\n    <dc:type rdf:resource=\"http://purl.org/dc/dcmitype/StillImage\"/>\n    <dc:date>2021-07-02T11:32:40.208725</dc:date>\n    <dc:format>image/svg+xml</dc:format>\n    <dc:creator>\n     <cc:Agent>\n      <dc:title>Matplotlib v3.3.2, https://matplotlib.org/</dc:title>\n     </cc:Agent>\n    </dc:creator>\n   </cc:Work>\n  </rdf:RDF>\n </metadata>\n <defs>\n  <style type=\"text/css\">*{stroke-linecap:butt;stroke-linejoin:round;}</style>\n </defs>\n <g id=\"figure_1\">\n  <g id=\"patch_1\">\n   <path d=\"M 0 471.149158 \nL 891.165625 471.149158 \nL 891.165625 0 \nL 0 0 \nz\n\" style=\"fill:none;\"/>\n  </g>\n  <g id=\"axes_1\">\n   <g id=\"patch_2\">\n    <path d=\"M 46.965625 413.998125 \nL 427.42017 413.998125 \nL 427.42017 22.318125 \nL 46.965625 22.318125 \nz\n\" style=\"fill:#ffffff;\"/>\n   </g>\n   <g id=\"matplotlib.axis_1\">\n    <g id=\"xtick_1\">\n     <g id=\"line2d_1\">\n      <path clip-path=\"url(#pa37799d7b0)\" d=\"M 88.446156 413.998125 \nL 88.446156 22.318125 \n\" style=\"fill:none;stroke:#b0b0b0;stroke-linecap:square;stroke-width:0.8;\"/>\n     </g>\n     <g id=\"line2d_2\">\n      <defs>\n       <path d=\"M 0 0 \nL 0 3.5 \n\" id=\"m431c5cce03\" style=\"stroke:#000000;stroke-width:0.8;\"/>\n      </defs>\n      <g>\n       <use style=\"stroke:#000000;stroke-width:0.8;\" x=\"88.446156\" xlink:href=\"#m431c5cce03\" y=\"413.998125\"/>\n      </g>\n     </g>\n     <g id=\"text_1\">\n      <!-- 2022-02 -->\n      <g transform=\"translate(51.221335 448.469971)rotate(-30)scale(0.1 -0.1)\">\n       <defs>\n        <path d=\"M 19.1875 8.296875 \nL 53.609375 8.296875 \nL 53.609375 0 \nL 7.328125 0 \nL 7.328125 8.296875 \nQ 12.9375 14.109375 22.625 23.890625 \nQ 32.328125 33.6875 34.8125 36.53125 \nQ 39.546875 41.84375 41.421875 45.53125 \nQ 43.3125 49.21875 43.3125 52.78125 \nQ 43.3125 58.59375 39.234375 62.25 \nQ 35.15625 65.921875 28.609375 65.921875 \nQ 23.96875 65.921875 18.8125 64.3125 \nQ 13.671875 62.703125 7.8125 59.421875 \nL 7.8125 69.390625 \nQ 13.765625 71.78125 18.9375 73 \nQ 24.125 74.21875 28.421875 74.21875 \nQ 39.75 74.21875 46.484375 68.546875 \nQ 53.21875 62.890625 53.21875 53.421875 \nQ 53.21875 48.921875 51.53125 44.890625 \nQ 49.859375 40.875 45.40625 35.40625 \nQ 44.1875 33.984375 37.640625 27.21875 \nQ 31.109375 20.453125 19.1875 8.296875 \nz\n\" id=\"DejaVuSans-50\"/>\n        <path d=\"M 31.78125 66.40625 \nQ 24.171875 66.40625 20.328125 58.90625 \nQ 16.5 51.421875 16.5 36.375 \nQ 16.5 21.390625 20.328125 13.890625 \nQ 24.171875 6.390625 31.78125 6.390625 \nQ 39.453125 6.390625 43.28125 13.890625 \nQ 47.125 21.390625 47.125 36.375 \nQ 47.125 51.421875 43.28125 58.90625 \nQ 39.453125 66.40625 31.78125 66.40625 \nz\nM 31.78125 74.21875 \nQ 44.046875 74.21875 50.515625 64.515625 \nQ 56.984375 54.828125 56.984375 36.375 \nQ 56.984375 17.96875 50.515625 8.265625 \nQ 44.046875 -1.421875 31.78125 -1.421875 \nQ 19.53125 -1.421875 13.0625 8.265625 \nQ 6.59375 17.96875 6.59375 36.375 \nQ 6.59375 54.828125 13.0625 64.515625 \nQ 19.53125 74.21875 31.78125 74.21875 \nz\n\" id=\"DejaVuSans-48\"/>\n        <path d=\"M 4.890625 31.390625 \nL 31.203125 31.390625 \nL 31.203125 23.390625 \nL 4.890625 23.390625 \nz\n\" id=\"DejaVuSans-45\"/>\n       </defs>\n       <use xlink:href=\"#DejaVuSans-50\"/>\n       <use x=\"63.623047\" xlink:href=\"#DejaVuSans-48\"/>\n       <use x=\"127.246094\" xlink:href=\"#DejaVuSans-50\"/>\n       <use x=\"190.869141\" xlink:href=\"#DejaVuSans-50\"/>\n       <use x=\"254.492188\" xlink:href=\"#DejaVuSans-45\"/>\n       <use x=\"290.576172\" xlink:href=\"#DejaVuSans-48\"/>\n       <use x=\"354.199219\" xlink:href=\"#DejaVuSans-50\"/>\n      </g>\n     </g>\n    </g>\n    <g id=\"xtick_2\">\n     <g id=\"line2d_3\">\n      <path clip-path=\"url(#pa37799d7b0)\" d=\"M 144.687539 413.998125 \nL 144.687539 22.318125 \n\" style=\"fill:none;stroke:#b0b0b0;stroke-linecap:square;stroke-width:0.8;\"/>\n     </g>\n     <g id=\"line2d_4\">\n      <g>\n       <use style=\"stroke:#000000;stroke-width:0.8;\" x=\"144.687539\" xlink:href=\"#m431c5cce03\" y=\"413.998125\"/>\n      </g>\n     </g>\n     <g id=\"text_2\">\n      <!-- 2022-03 -->\n      <g transform=\"translate(107.462718 448.469971)rotate(-30)scale(0.1 -0.1)\">\n       <defs>\n        <path d=\"M 40.578125 39.3125 \nQ 47.65625 37.796875 51.625 33 \nQ 55.609375 28.21875 55.609375 21.1875 \nQ 55.609375 10.40625 48.1875 4.484375 \nQ 40.765625 -1.421875 27.09375 -1.421875 \nQ 22.515625 -1.421875 17.65625 -0.515625 \nQ 12.796875 0.390625 7.625 2.203125 \nL 7.625 11.71875 \nQ 11.71875 9.328125 16.59375 8.109375 \nQ 21.484375 6.890625 26.8125 6.890625 \nQ 36.078125 6.890625 40.9375 10.546875 \nQ 45.796875 14.203125 45.796875 21.1875 \nQ 45.796875 27.640625 41.28125 31.265625 \nQ 36.765625 34.90625 28.71875 34.90625 \nL 20.21875 34.90625 \nL 20.21875 43.015625 \nL 29.109375 43.015625 \nQ 36.375 43.015625 40.234375 45.921875 \nQ 44.09375 48.828125 44.09375 54.296875 \nQ 44.09375 59.90625 40.109375 62.90625 \nQ 36.140625 65.921875 28.71875 65.921875 \nQ 24.65625 65.921875 20.015625 65.03125 \nQ 15.375 64.15625 9.8125 62.3125 \nL 9.8125 71.09375 \nQ 15.4375 72.65625 20.34375 73.4375 \nQ 25.25 74.21875 29.59375 74.21875 \nQ 40.828125 74.21875 47.359375 69.109375 \nQ 53.90625 64.015625 53.90625 55.328125 \nQ 53.90625 49.265625 50.4375 45.09375 \nQ 46.96875 40.921875 40.578125 39.3125 \nz\n\" id=\"DejaVuSans-51\"/>\n       </defs>\n       <use xlink:href=\"#DejaVuSans-50\"/>\n       <use x=\"63.623047\" xlink:href=\"#DejaVuSans-48\"/>\n       <use x=\"127.246094\" xlink:href=\"#DejaVuSans-50\"/>\n       <use x=\"190.869141\" xlink:href=\"#DejaVuSans-50\"/>\n       <use x=\"254.492188\" xlink:href=\"#DejaVuSans-45\"/>\n       <use x=\"290.576172\" xlink:href=\"#DejaVuSans-48\"/>\n       <use x=\"354.199219\" xlink:href=\"#DejaVuSans-51\"/>\n      </g>\n     </g>\n    </g>\n    <g id=\"xtick_3\">\n     <g id=\"line2d_5\">\n      <path clip-path=\"url(#pa37799d7b0)\" d=\"M 206.954785 413.998125 \nL 206.954785 22.318125 \n\" style=\"fill:none;stroke:#b0b0b0;stroke-linecap:square;stroke-width:0.8;\"/>\n     </g>\n     <g id=\"line2d_6\">\n      <g>\n       <use style=\"stroke:#000000;stroke-width:0.8;\" x=\"206.954785\" xlink:href=\"#m431c5cce03\" y=\"413.998125\"/>\n      </g>\n     </g>\n     <g id=\"text_3\">\n      <!-- 2022-04 -->\n      <g transform=\"translate(169.729964 448.469971)rotate(-30)scale(0.1 -0.1)\">\n       <defs>\n        <path d=\"M 37.796875 64.3125 \nL 12.890625 25.390625 \nL 37.796875 25.390625 \nz\nM 35.203125 72.90625 \nL 47.609375 72.90625 \nL 47.609375 25.390625 \nL 58.015625 25.390625 \nL 58.015625 17.1875 \nL 47.609375 17.1875 \nL 47.609375 0 \nL 37.796875 0 \nL 37.796875 17.1875 \nL 4.890625 17.1875 \nL 4.890625 26.703125 \nz\n\" id=\"DejaVuSans-52\"/>\n       </defs>\n       <use xlink:href=\"#DejaVuSans-50\"/>\n       <use x=\"63.623047\" xlink:href=\"#DejaVuSans-48\"/>\n       <use x=\"127.246094\" xlink:href=\"#DejaVuSans-50\"/>\n       <use x=\"190.869141\" xlink:href=\"#DejaVuSans-50\"/>\n       <use x=\"254.492188\" xlink:href=\"#DejaVuSans-45\"/>\n       <use x=\"290.576172\" xlink:href=\"#DejaVuSans-48\"/>\n       <use x=\"354.199219\" xlink:href=\"#DejaVuSans-52\"/>\n      </g>\n     </g>\n    </g>\n    <g id=\"xtick_4\">\n     <g id=\"line2d_7\">\n      <path clip-path=\"url(#pa37799d7b0)\" d=\"M 267.21341 413.998125 \nL 267.21341 22.318125 \n\" style=\"fill:none;stroke:#b0b0b0;stroke-linecap:square;stroke-width:0.8;\"/>\n     </g>\n     <g id=\"line2d_8\">\n      <g>\n       <use style=\"stroke:#000000;stroke-width:0.8;\" x=\"267.21341\" xlink:href=\"#m431c5cce03\" y=\"413.998125\"/>\n      </g>\n     </g>\n     <g id=\"text_4\">\n      <!-- 2022-05 -->\n      <g transform=\"translate(229.988589 448.469971)rotate(-30)scale(0.1 -0.1)\">\n       <defs>\n        <path d=\"M 10.796875 72.90625 \nL 49.515625 72.90625 \nL 49.515625 64.59375 \nL 19.828125 64.59375 \nL 19.828125 46.734375 \nQ 21.96875 47.46875 24.109375 47.828125 \nQ 26.265625 48.1875 28.421875 48.1875 \nQ 40.625 48.1875 47.75 41.5 \nQ 54.890625 34.8125 54.890625 23.390625 \nQ 54.890625 11.625 47.5625 5.09375 \nQ 40.234375 -1.421875 26.90625 -1.421875 \nQ 22.3125 -1.421875 17.546875 -0.640625 \nQ 12.796875 0.140625 7.71875 1.703125 \nL 7.71875 11.625 \nQ 12.109375 9.234375 16.796875 8.0625 \nQ 21.484375 6.890625 26.703125 6.890625 \nQ 35.15625 6.890625 40.078125 11.328125 \nQ 45.015625 15.765625 45.015625 23.390625 \nQ 45.015625 31 40.078125 35.4375 \nQ 35.15625 39.890625 26.703125 39.890625 \nQ 22.75 39.890625 18.8125 39.015625 \nQ 14.890625 38.140625 10.796875 36.28125 \nz\n\" id=\"DejaVuSans-53\"/>\n       </defs>\n       <use xlink:href=\"#DejaVuSans-50\"/>\n       <use x=\"63.623047\" xlink:href=\"#DejaVuSans-48\"/>\n       <use x=\"127.246094\" xlink:href=\"#DejaVuSans-50\"/>\n       <use x=\"190.869141\" xlink:href=\"#DejaVuSans-50\"/>\n       <use x=\"254.492188\" xlink:href=\"#DejaVuSans-45\"/>\n       <use x=\"290.576172\" xlink:href=\"#DejaVuSans-48\"/>\n       <use x=\"354.199219\" xlink:href=\"#DejaVuSans-53\"/>\n      </g>\n     </g>\n    </g>\n    <g id=\"xtick_5\">\n     <g id=\"line2d_9\">\n      <path clip-path=\"url(#pa37799d7b0)\" d=\"M 329.480656 413.998125 \nL 329.480656 22.318125 \n\" style=\"fill:none;stroke:#b0b0b0;stroke-linecap:square;stroke-width:0.8;\"/>\n     </g>\n     <g id=\"line2d_10\">\n      <g>\n       <use style=\"stroke:#000000;stroke-width:0.8;\" x=\"329.480656\" xlink:href=\"#m431c5cce03\" y=\"413.998125\"/>\n      </g>\n     </g>\n     <g id=\"text_5\">\n      <!-- 2022-06 -->\n      <g transform=\"translate(292.255835 448.469971)rotate(-30)scale(0.1 -0.1)\">\n       <defs>\n        <path d=\"M 33.015625 40.375 \nQ 26.375 40.375 22.484375 35.828125 \nQ 18.609375 31.296875 18.609375 23.390625 \nQ 18.609375 15.53125 22.484375 10.953125 \nQ 26.375 6.390625 33.015625 6.390625 \nQ 39.65625 6.390625 43.53125 10.953125 \nQ 47.40625 15.53125 47.40625 23.390625 \nQ 47.40625 31.296875 43.53125 35.828125 \nQ 39.65625 40.375 33.015625 40.375 \nz\nM 52.59375 71.296875 \nL 52.59375 62.3125 \nQ 48.875 64.0625 45.09375 64.984375 \nQ 41.3125 65.921875 37.59375 65.921875 \nQ 27.828125 65.921875 22.671875 59.328125 \nQ 17.53125 52.734375 16.796875 39.40625 \nQ 19.671875 43.65625 24.015625 45.921875 \nQ 28.375 48.1875 33.59375 48.1875 \nQ 44.578125 48.1875 50.953125 41.515625 \nQ 57.328125 34.859375 57.328125 23.390625 \nQ 57.328125 12.15625 50.6875 5.359375 \nQ 44.046875 -1.421875 33.015625 -1.421875 \nQ 20.359375 -1.421875 13.671875 8.265625 \nQ 6.984375 17.96875 6.984375 36.375 \nQ 6.984375 53.65625 15.1875 63.9375 \nQ 23.390625 74.21875 37.203125 74.21875 \nQ 40.921875 74.21875 44.703125 73.484375 \nQ 48.484375 72.75 52.59375 71.296875 \nz\n\" id=\"DejaVuSans-54\"/>\n       </defs>\n       <use xlink:href=\"#DejaVuSans-50\"/>\n       <use x=\"63.623047\" xlink:href=\"#DejaVuSans-48\"/>\n       <use x=\"127.246094\" xlink:href=\"#DejaVuSans-50\"/>\n       <use x=\"190.869141\" xlink:href=\"#DejaVuSans-50\"/>\n       <use x=\"254.492188\" xlink:href=\"#DejaVuSans-45\"/>\n       <use x=\"290.576172\" xlink:href=\"#DejaVuSans-48\"/>\n       <use x=\"354.199219\" xlink:href=\"#DejaVuSans-54\"/>\n      </g>\n     </g>\n    </g>\n    <g id=\"xtick_6\">\n     <g id=\"line2d_11\">\n      <path clip-path=\"url(#pa37799d7b0)\" d=\"M 389.739281 413.998125 \nL 389.739281 22.318125 \n\" style=\"fill:none;stroke:#b0b0b0;stroke-linecap:square;stroke-width:0.8;\"/>\n     </g>\n     <g id=\"line2d_12\">\n      <g>\n       <use style=\"stroke:#000000;stroke-width:0.8;\" x=\"389.739281\" xlink:href=\"#m431c5cce03\" y=\"413.998125\"/>\n      </g>\n     </g>\n     <g id=\"text_6\">\n      <!-- 2022-07 -->\n      <g transform=\"translate(352.51446 448.469971)rotate(-30)scale(0.1 -0.1)\">\n       <defs>\n        <path d=\"M 8.203125 72.90625 \nL 55.078125 72.90625 \nL 55.078125 68.703125 \nL 28.609375 0 \nL 18.3125 0 \nL 43.21875 64.59375 \nL 8.203125 64.59375 \nz\n\" id=\"DejaVuSans-55\"/>\n       </defs>\n       <use xlink:href=\"#DejaVuSans-50\"/>\n       <use x=\"63.623047\" xlink:href=\"#DejaVuSans-48\"/>\n       <use x=\"127.246094\" xlink:href=\"#DejaVuSans-50\"/>\n       <use x=\"190.869141\" xlink:href=\"#DejaVuSans-50\"/>\n       <use x=\"254.492188\" xlink:href=\"#DejaVuSans-45\"/>\n       <use x=\"290.576172\" xlink:href=\"#DejaVuSans-48\"/>\n       <use x=\"354.199219\" xlink:href=\"#DejaVuSans-55\"/>\n      </g>\n     </g>\n    </g>\n    <g id=\"text_7\">\n     <!-- date -->\n     <g transform=\"translate(225.917898 461.869471)scale(0.1 -0.1)\">\n      <defs>\n       <path d=\"M 45.40625 46.390625 \nL 45.40625 75.984375 \nL 54.390625 75.984375 \nL 54.390625 0 \nL 45.40625 0 \nL 45.40625 8.203125 \nQ 42.578125 3.328125 38.25 0.953125 \nQ 33.9375 -1.421875 27.875 -1.421875 \nQ 17.96875 -1.421875 11.734375 6.484375 \nQ 5.515625 14.40625 5.515625 27.296875 \nQ 5.515625 40.1875 11.734375 48.09375 \nQ 17.96875 56 27.875 56 \nQ 33.9375 56 38.25 53.625 \nQ 42.578125 51.265625 45.40625 46.390625 \nz\nM 14.796875 27.296875 \nQ 14.796875 17.390625 18.875 11.75 \nQ 22.953125 6.109375 30.078125 6.109375 \nQ 37.203125 6.109375 41.296875 11.75 \nQ 45.40625 17.390625 45.40625 27.296875 \nQ 45.40625 37.203125 41.296875 42.84375 \nQ 37.203125 48.484375 30.078125 48.484375 \nQ 22.953125 48.484375 18.875 42.84375 \nQ 14.796875 37.203125 14.796875 27.296875 \nz\n\" id=\"DejaVuSans-100\"/>\n       <path d=\"M 34.28125 27.484375 \nQ 23.390625 27.484375 19.1875 25 \nQ 14.984375 22.515625 14.984375 16.5 \nQ 14.984375 11.71875 18.140625 8.90625 \nQ 21.296875 6.109375 26.703125 6.109375 \nQ 34.1875 6.109375 38.703125 11.40625 \nQ 43.21875 16.703125 43.21875 25.484375 \nL 43.21875 27.484375 \nz\nM 52.203125 31.203125 \nL 52.203125 0 \nL 43.21875 0 \nL 43.21875 8.296875 \nQ 40.140625 3.328125 35.546875 0.953125 \nQ 30.953125 -1.421875 24.3125 -1.421875 \nQ 15.921875 -1.421875 10.953125 3.296875 \nQ 6 8.015625 6 15.921875 \nQ 6 25.140625 12.171875 29.828125 \nQ 18.359375 34.515625 30.609375 34.515625 \nL 43.21875 34.515625 \nL 43.21875 35.40625 \nQ 43.21875 41.609375 39.140625 45 \nQ 35.0625 48.390625 27.6875 48.390625 \nQ 23 48.390625 18.546875 47.265625 \nQ 14.109375 46.140625 10.015625 43.890625 \nL 10.015625 52.203125 \nQ 14.9375 54.109375 19.578125 55.046875 \nQ 24.21875 56 28.609375 56 \nQ 40.484375 56 46.34375 49.84375 \nQ 52.203125 43.703125 52.203125 31.203125 \nz\n\" id=\"DejaVuSans-97\"/>\n       <path d=\"M 18.3125 70.21875 \nL 18.3125 54.6875 \nL 36.8125 54.6875 \nL 36.8125 47.703125 \nL 18.3125 47.703125 \nL 18.3125 18.015625 \nQ 18.3125 11.328125 20.140625 9.421875 \nQ 21.96875 7.515625 27.59375 7.515625 \nL 36.8125 7.515625 \nL 36.8125 0 \nL 27.59375 0 \nQ 17.1875 0 13.234375 3.875 \nQ 9.28125 7.765625 9.28125 18.015625 \nL 9.28125 47.703125 \nL 2.6875 47.703125 \nL 2.6875 54.6875 \nL 9.28125 54.6875 \nL 9.28125 70.21875 \nz\n\" id=\"DejaVuSans-116\"/>\n       <path d=\"M 56.203125 29.59375 \nL 56.203125 25.203125 \nL 14.890625 25.203125 \nQ 15.484375 15.921875 20.484375 11.0625 \nQ 25.484375 6.203125 34.421875 6.203125 \nQ 39.59375 6.203125 44.453125 7.46875 \nQ 49.3125 8.734375 54.109375 11.28125 \nL 54.109375 2.78125 \nQ 49.265625 0.734375 44.1875 -0.34375 \nQ 39.109375 -1.421875 33.890625 -1.421875 \nQ 20.796875 -1.421875 13.15625 6.1875 \nQ 5.515625 13.8125 5.515625 26.8125 \nQ 5.515625 40.234375 12.765625 48.109375 \nQ 20.015625 56 32.328125 56 \nQ 43.359375 56 49.78125 48.890625 \nQ 56.203125 41.796875 56.203125 29.59375 \nz\nM 47.21875 32.234375 \nQ 47.125 39.59375 43.09375 43.984375 \nQ 39.0625 48.390625 32.421875 48.390625 \nQ 24.90625 48.390625 20.390625 44.140625 \nQ 15.875 39.890625 15.1875 32.171875 \nz\n\" id=\"DejaVuSans-101\"/>\n      </defs>\n      <use xlink:href=\"#DejaVuSans-100\"/>\n      <use x=\"63.476562\" xlink:href=\"#DejaVuSans-97\"/>\n      <use x=\"124.755859\" xlink:href=\"#DejaVuSans-116\"/>\n      <use x=\"163.964844\" xlink:href=\"#DejaVuSans-101\"/>\n     </g>\n    </g>\n   </g>\n   <g id=\"matplotlib.axis_2\">\n    <g id=\"ytick_1\">\n     <g id=\"line2d_13\">\n      <path clip-path=\"url(#pa37799d7b0)\" d=\"M 46.965625 413.998125 \nL 427.42017 413.998125 \n\" style=\"fill:none;stroke:#b0b0b0;stroke-linecap:square;stroke-width:0.8;\"/>\n     </g>\n     <g id=\"line2d_14\">\n      <defs>\n       <path d=\"M 0 0 \nL -3.5 0 \n\" id=\"m67715f8098\" style=\"stroke:#000000;stroke-width:0.8;\"/>\n      </defs>\n      <g>\n       <use style=\"stroke:#000000;stroke-width:0.8;\" x=\"46.965625\" xlink:href=\"#m67715f8098\" y=\"413.998125\"/>\n      </g>\n     </g>\n     <g id=\"text_8\">\n      <!-- 0 -->\n      <g transform=\"translate(33.603125 417.797344)scale(0.1 -0.1)\">\n       <use xlink:href=\"#DejaVuSans-48\"/>\n      </g>\n     </g>\n    </g>\n    <g id=\"ytick_2\">\n     <g id=\"line2d_15\">\n      <path clip-path=\"url(#pa37799d7b0)\" d=\"M 46.965625 365.038125 \nL 427.42017 365.038125 \n\" style=\"fill:none;stroke:#b0b0b0;stroke-linecap:square;stroke-width:0.8;\"/>\n     </g>\n     <g id=\"line2d_16\">\n      <g>\n       <use style=\"stroke:#000000;stroke-width:0.8;\" x=\"46.965625\" xlink:href=\"#m67715f8098\" y=\"365.038125\"/>\n      </g>\n     </g>\n     <g id=\"text_9\">\n      <!-- 100 -->\n      <g transform=\"translate(20.878125 368.837344)scale(0.1 -0.1)\">\n       <defs>\n        <path d=\"M 12.40625 8.296875 \nL 28.515625 8.296875 \nL 28.515625 63.921875 \nL 10.984375 60.40625 \nL 10.984375 69.390625 \nL 28.421875 72.90625 \nL 38.28125 72.90625 \nL 38.28125 8.296875 \nL 54.390625 8.296875 \nL 54.390625 0 \nL 12.40625 0 \nz\n\" id=\"DejaVuSans-49\"/>\n       </defs>\n       <use xlink:href=\"#DejaVuSans-49\"/>\n       <use x=\"63.623047\" xlink:href=\"#DejaVuSans-48\"/>\n       <use x=\"127.246094\" xlink:href=\"#DejaVuSans-48\"/>\n      </g>\n     </g>\n    </g>\n    <g id=\"ytick_3\">\n     <g id=\"line2d_17\">\n      <path clip-path=\"url(#pa37799d7b0)\" d=\"M 46.965625 316.078125 \nL 427.42017 316.078125 \n\" style=\"fill:none;stroke:#b0b0b0;stroke-linecap:square;stroke-width:0.8;\"/>\n     </g>\n     <g id=\"line2d_18\">\n      <g>\n       <use style=\"stroke:#000000;stroke-width:0.8;\" x=\"46.965625\" xlink:href=\"#m67715f8098\" y=\"316.078125\"/>\n      </g>\n     </g>\n     <g id=\"text_10\">\n      <!-- 200 -->\n      <g transform=\"translate(20.878125 319.877344)scale(0.1 -0.1)\">\n       <use xlink:href=\"#DejaVuSans-50\"/>\n       <use x=\"63.623047\" xlink:href=\"#DejaVuSans-48\"/>\n       <use x=\"127.246094\" xlink:href=\"#DejaVuSans-48\"/>\n      </g>\n     </g>\n    </g>\n    <g id=\"ytick_4\">\n     <g id=\"line2d_19\">\n      <path clip-path=\"url(#pa37799d7b0)\" d=\"M 46.965625 267.118125 \nL 427.42017 267.118125 \n\" style=\"fill:none;stroke:#b0b0b0;stroke-linecap:square;stroke-width:0.8;\"/>\n     </g>\n     <g id=\"line2d_20\">\n      <g>\n       <use style=\"stroke:#000000;stroke-width:0.8;\" x=\"46.965625\" xlink:href=\"#m67715f8098\" y=\"267.118125\"/>\n      </g>\n     </g>\n     <g id=\"text_11\">\n      <!-- 300 -->\n      <g transform=\"translate(20.878125 270.917344)scale(0.1 -0.1)\">\n       <use xlink:href=\"#DejaVuSans-51\"/>\n       <use x=\"63.623047\" xlink:href=\"#DejaVuSans-48\"/>\n       <use x=\"127.246094\" xlink:href=\"#DejaVuSans-48\"/>\n      </g>\n     </g>\n    </g>\n    <g id=\"ytick_5\">\n     <g id=\"line2d_21\">\n      <path clip-path=\"url(#pa37799d7b0)\" d=\"M 46.965625 218.158125 \nL 427.42017 218.158125 \n\" style=\"fill:none;stroke:#b0b0b0;stroke-linecap:square;stroke-width:0.8;\"/>\n     </g>\n     <g id=\"line2d_22\">\n      <g>\n       <use style=\"stroke:#000000;stroke-width:0.8;\" x=\"46.965625\" xlink:href=\"#m67715f8098\" y=\"218.158125\"/>\n      </g>\n     </g>\n     <g id=\"text_12\">\n      <!-- 400 -->\n      <g transform=\"translate(20.878125 221.957344)scale(0.1 -0.1)\">\n       <use xlink:href=\"#DejaVuSans-52\"/>\n       <use x=\"63.623047\" xlink:href=\"#DejaVuSans-48\"/>\n       <use x=\"127.246094\" xlink:href=\"#DejaVuSans-48\"/>\n      </g>\n     </g>\n    </g>\n    <g id=\"ytick_6\">\n     <g id=\"line2d_23\">\n      <path clip-path=\"url(#pa37799d7b0)\" d=\"M 46.965625 169.198125 \nL 427.42017 169.198125 \n\" style=\"fill:none;stroke:#b0b0b0;stroke-linecap:square;stroke-width:0.8;\"/>\n     </g>\n     <g id=\"line2d_24\">\n      <g>\n       <use style=\"stroke:#000000;stroke-width:0.8;\" x=\"46.965625\" xlink:href=\"#m67715f8098\" y=\"169.198125\"/>\n      </g>\n     </g>\n     <g id=\"text_13\">\n      <!-- 500 -->\n      <g transform=\"translate(20.878125 172.997344)scale(0.1 -0.1)\">\n       <use xlink:href=\"#DejaVuSans-53\"/>\n       <use x=\"63.623047\" xlink:href=\"#DejaVuSans-48\"/>\n       <use x=\"127.246094\" xlink:href=\"#DejaVuSans-48\"/>\n      </g>\n     </g>\n    </g>\n    <g id=\"ytick_7\">\n     <g id=\"line2d_25\">\n      <path clip-path=\"url(#pa37799d7b0)\" d=\"M 46.965625 120.238125 \nL 427.42017 120.238125 \n\" style=\"fill:none;stroke:#b0b0b0;stroke-linecap:square;stroke-width:0.8;\"/>\n     </g>\n     <g id=\"line2d_26\">\n      <g>\n       <use style=\"stroke:#000000;stroke-width:0.8;\" x=\"46.965625\" xlink:href=\"#m67715f8098\" y=\"120.238125\"/>\n      </g>\n     </g>\n     <g id=\"text_14\">\n      <!-- 600 -->\n      <g transform=\"translate(20.878125 124.037344)scale(0.1 -0.1)\">\n       <use xlink:href=\"#DejaVuSans-54\"/>\n       <use x=\"63.623047\" xlink:href=\"#DejaVuSans-48\"/>\n       <use x=\"127.246094\" xlink:href=\"#DejaVuSans-48\"/>\n      </g>\n     </g>\n    </g>\n    <g id=\"ytick_8\">\n     <g id=\"line2d_27\">\n      <path clip-path=\"url(#pa37799d7b0)\" d=\"M 46.965625 71.278125 \nL 427.42017 71.278125 \n\" style=\"fill:none;stroke:#b0b0b0;stroke-linecap:square;stroke-width:0.8;\"/>\n     </g>\n     <g id=\"line2d_28\">\n      <g>\n       <use style=\"stroke:#000000;stroke-width:0.8;\" x=\"46.965625\" xlink:href=\"#m67715f8098\" y=\"71.278125\"/>\n      </g>\n     </g>\n     <g id=\"text_15\">\n      <!-- 700 -->\n      <g transform=\"translate(20.878125 75.077344)scale(0.1 -0.1)\">\n       <use xlink:href=\"#DejaVuSans-55\"/>\n       <use x=\"63.623047\" xlink:href=\"#DejaVuSans-48\"/>\n       <use x=\"127.246094\" xlink:href=\"#DejaVuSans-48\"/>\n      </g>\n     </g>\n    </g>\n    <g id=\"ytick_9\">\n     <g id=\"line2d_29\">\n      <path clip-path=\"url(#pa37799d7b0)\" d=\"M 46.965625 22.318125 \nL 427.42017 22.318125 \n\" style=\"fill:none;stroke:#b0b0b0;stroke-linecap:square;stroke-width:0.8;\"/>\n     </g>\n     <g id=\"line2d_30\">\n      <g>\n       <use style=\"stroke:#000000;stroke-width:0.8;\" x=\"46.965625\" xlink:href=\"#m67715f8098\" y=\"22.318125\"/>\n      </g>\n     </g>\n     <g id=\"text_16\">\n      <!-- 800 -->\n      <g transform=\"translate(20.878125 26.117344)scale(0.1 -0.1)\">\n       <defs>\n        <path d=\"M 31.78125 34.625 \nQ 24.75 34.625 20.71875 30.859375 \nQ 16.703125 27.09375 16.703125 20.515625 \nQ 16.703125 13.921875 20.71875 10.15625 \nQ 24.75 6.390625 31.78125 6.390625 \nQ 38.8125 6.390625 42.859375 10.171875 \nQ 46.921875 13.96875 46.921875 20.515625 \nQ 46.921875 27.09375 42.890625 30.859375 \nQ 38.875 34.625 31.78125 34.625 \nz\nM 21.921875 38.8125 \nQ 15.578125 40.375 12.03125 44.71875 \nQ 8.5 49.078125 8.5 55.328125 \nQ 8.5 64.0625 14.71875 69.140625 \nQ 20.953125 74.21875 31.78125 74.21875 \nQ 42.671875 74.21875 48.875 69.140625 \nQ 55.078125 64.0625 55.078125 55.328125 \nQ 55.078125 49.078125 51.53125 44.71875 \nQ 48 40.375 41.703125 38.8125 \nQ 48.828125 37.15625 52.796875 32.3125 \nQ 56.78125 27.484375 56.78125 20.515625 \nQ 56.78125 9.90625 50.3125 4.234375 \nQ 43.84375 -1.421875 31.78125 -1.421875 \nQ 19.734375 -1.421875 13.25 4.234375 \nQ 6.78125 9.90625 6.78125 20.515625 \nQ 6.78125 27.484375 10.78125 32.3125 \nQ 14.796875 37.15625 21.921875 38.8125 \nz\nM 18.3125 54.390625 \nQ 18.3125 48.734375 21.84375 45.5625 \nQ 25.390625 42.390625 31.78125 42.390625 \nQ 38.140625 42.390625 41.71875 45.5625 \nQ 45.3125 48.734375 45.3125 54.390625 \nQ 45.3125 60.0625 41.71875 63.234375 \nQ 38.140625 66.40625 31.78125 66.40625 \nQ 25.390625 66.40625 21.84375 63.234375 \nQ 18.3125 60.0625 18.3125 54.390625 \nz\n\" id=\"DejaVuSans-56\"/>\n       </defs>\n       <use xlink:href=\"#DejaVuSans-56\"/>\n       <use x=\"63.623047\" xlink:href=\"#DejaVuSans-48\"/>\n       <use x=\"127.246094\" xlink:href=\"#DejaVuSans-48\"/>\n      </g>\n     </g>\n    </g>\n    <g id=\"text_17\">\n     <!-- memory usage (GB) -->\n     <g transform=\"translate(14.798438 268.522187)rotate(-90)scale(0.1 -0.1)\">\n      <defs>\n       <path d=\"M 52 44.1875 \nQ 55.375 50.25 60.0625 53.125 \nQ 64.75 56 71.09375 56 \nQ 79.640625 56 84.28125 50.015625 \nQ 88.921875 44.046875 88.921875 33.015625 \nL 88.921875 0 \nL 79.890625 0 \nL 79.890625 32.71875 \nQ 79.890625 40.578125 77.09375 44.375 \nQ 74.3125 48.1875 68.609375 48.1875 \nQ 61.625 48.1875 57.5625 43.546875 \nQ 53.515625 38.921875 53.515625 30.90625 \nL 53.515625 0 \nL 44.484375 0 \nL 44.484375 32.71875 \nQ 44.484375 40.625 41.703125 44.40625 \nQ 38.921875 48.1875 33.109375 48.1875 \nQ 26.21875 48.1875 22.15625 43.53125 \nQ 18.109375 38.875 18.109375 30.90625 \nL 18.109375 0 \nL 9.078125 0 \nL 9.078125 54.6875 \nL 18.109375 54.6875 \nL 18.109375 46.1875 \nQ 21.1875 51.21875 25.484375 53.609375 \nQ 29.78125 56 35.6875 56 \nQ 41.65625 56 45.828125 52.96875 \nQ 50 49.953125 52 44.1875 \nz\n\" id=\"DejaVuSans-109\"/>\n       <path d=\"M 30.609375 48.390625 \nQ 23.390625 48.390625 19.1875 42.75 \nQ 14.984375 37.109375 14.984375 27.296875 \nQ 14.984375 17.484375 19.15625 11.84375 \nQ 23.34375 6.203125 30.609375 6.203125 \nQ 37.796875 6.203125 41.984375 11.859375 \nQ 46.1875 17.53125 46.1875 27.296875 \nQ 46.1875 37.015625 41.984375 42.703125 \nQ 37.796875 48.390625 30.609375 48.390625 \nz\nM 30.609375 56 \nQ 42.328125 56 49.015625 48.375 \nQ 55.71875 40.765625 55.71875 27.296875 \nQ 55.71875 13.875 49.015625 6.21875 \nQ 42.328125 -1.421875 30.609375 -1.421875 \nQ 18.84375 -1.421875 12.171875 6.21875 \nQ 5.515625 13.875 5.515625 27.296875 \nQ 5.515625 40.765625 12.171875 48.375 \nQ 18.84375 56 30.609375 56 \nz\n\" id=\"DejaVuSans-111\"/>\n       <path d=\"M 41.109375 46.296875 \nQ 39.59375 47.171875 37.8125 47.578125 \nQ 36.03125 48 33.890625 48 \nQ 26.265625 48 22.1875 43.046875 \nQ 18.109375 38.09375 18.109375 28.8125 \nL 18.109375 0 \nL 9.078125 0 \nL 9.078125 54.6875 \nL 18.109375 54.6875 \nL 18.109375 46.1875 \nQ 20.953125 51.171875 25.484375 53.578125 \nQ 30.03125 56 36.53125 56 \nQ 37.453125 56 38.578125 55.875 \nQ 39.703125 55.765625 41.0625 55.515625 \nz\n\" id=\"DejaVuSans-114\"/>\n       <path d=\"M 32.171875 -5.078125 \nQ 28.375 -14.84375 24.75 -17.8125 \nQ 21.140625 -20.796875 15.09375 -20.796875 \nL 7.90625 -20.796875 \nL 7.90625 -13.28125 \nL 13.1875 -13.28125 \nQ 16.890625 -13.28125 18.9375 -11.515625 \nQ 21 -9.765625 23.484375 -3.21875 \nL 25.09375 0.875 \nL 2.984375 54.6875 \nL 12.5 54.6875 \nL 29.59375 11.921875 \nL 46.6875 54.6875 \nL 56.203125 54.6875 \nz\n\" id=\"DejaVuSans-121\"/>\n       <path id=\"DejaVuSans-32\"/>\n       <path d=\"M 8.5 21.578125 \nL 8.5 54.6875 \nL 17.484375 54.6875 \nL 17.484375 21.921875 \nQ 17.484375 14.15625 20.5 10.265625 \nQ 23.53125 6.390625 29.59375 6.390625 \nQ 36.859375 6.390625 41.078125 11.03125 \nQ 45.3125 15.671875 45.3125 23.6875 \nL 45.3125 54.6875 \nL 54.296875 54.6875 \nL 54.296875 0 \nL 45.3125 0 \nL 45.3125 8.40625 \nQ 42.046875 3.421875 37.71875 1 \nQ 33.40625 -1.421875 27.6875 -1.421875 \nQ 18.265625 -1.421875 13.375 4.4375 \nQ 8.5 10.296875 8.5 21.578125 \nz\nM 31.109375 56 \nz\n\" id=\"DejaVuSans-117\"/>\n       <path d=\"M 44.28125 53.078125 \nL 44.28125 44.578125 \nQ 40.484375 46.53125 36.375 47.5 \nQ 32.28125 48.484375 27.875 48.484375 \nQ 21.1875 48.484375 17.84375 46.4375 \nQ 14.5 44.390625 14.5 40.28125 \nQ 14.5 37.15625 16.890625 35.375 \nQ 19.28125 33.59375 26.515625 31.984375 \nL 29.59375 31.296875 \nQ 39.15625 29.25 43.1875 25.515625 \nQ 47.21875 21.78125 47.21875 15.09375 \nQ 47.21875 7.46875 41.1875 3.015625 \nQ 35.15625 -1.421875 24.609375 -1.421875 \nQ 20.21875 -1.421875 15.453125 -0.5625 \nQ 10.6875 0.296875 5.421875 2 \nL 5.421875 11.28125 \nQ 10.40625 8.6875 15.234375 7.390625 \nQ 20.0625 6.109375 24.8125 6.109375 \nQ 31.15625 6.109375 34.5625 8.28125 \nQ 37.984375 10.453125 37.984375 14.40625 \nQ 37.984375 18.0625 35.515625 20.015625 \nQ 33.0625 21.96875 24.703125 23.78125 \nL 21.578125 24.515625 \nQ 13.234375 26.265625 9.515625 29.90625 \nQ 5.8125 33.546875 5.8125 39.890625 \nQ 5.8125 47.609375 11.28125 51.796875 \nQ 16.75 56 26.8125 56 \nQ 31.78125 56 36.171875 55.265625 \nQ 40.578125 54.546875 44.28125 53.078125 \nz\n\" id=\"DejaVuSans-115\"/>\n       <path d=\"M 45.40625 27.984375 \nQ 45.40625 37.75 41.375 43.109375 \nQ 37.359375 48.484375 30.078125 48.484375 \nQ 22.859375 48.484375 18.828125 43.109375 \nQ 14.796875 37.75 14.796875 27.984375 \nQ 14.796875 18.265625 18.828125 12.890625 \nQ 22.859375 7.515625 30.078125 7.515625 \nQ 37.359375 7.515625 41.375 12.890625 \nQ 45.40625 18.265625 45.40625 27.984375 \nz\nM 54.390625 6.78125 \nQ 54.390625 -7.171875 48.1875 -13.984375 \nQ 42 -20.796875 29.203125 -20.796875 \nQ 24.46875 -20.796875 20.265625 -20.09375 \nQ 16.0625 -19.390625 12.109375 -17.921875 \nL 12.109375 -9.1875 \nQ 16.0625 -11.328125 19.921875 -12.34375 \nQ 23.78125 -13.375 27.78125 -13.375 \nQ 36.625 -13.375 41.015625 -8.765625 \nQ 45.40625 -4.15625 45.40625 5.171875 \nL 45.40625 9.625 \nQ 42.625 4.78125 38.28125 2.390625 \nQ 33.9375 0 27.875 0 \nQ 17.828125 0 11.671875 7.65625 \nQ 5.515625 15.328125 5.515625 27.984375 \nQ 5.515625 40.671875 11.671875 48.328125 \nQ 17.828125 56 27.875 56 \nQ 33.9375 56 38.28125 53.609375 \nQ 42.625 51.21875 45.40625 46.390625 \nL 45.40625 54.6875 \nL 54.390625 54.6875 \nz\n\" id=\"DejaVuSans-103\"/>\n       <path d=\"M 31 75.875 \nQ 24.46875 64.65625 21.28125 53.65625 \nQ 18.109375 42.671875 18.109375 31.390625 \nQ 18.109375 20.125 21.3125 9.0625 \nQ 24.515625 -2 31 -13.1875 \nL 23.1875 -13.1875 \nQ 15.875 -1.703125 12.234375 9.375 \nQ 8.59375 20.453125 8.59375 31.390625 \nQ 8.59375 42.28125 12.203125 53.3125 \nQ 15.828125 64.359375 23.1875 75.875 \nz\n\" id=\"DejaVuSans-40\"/>\n       <path d=\"M 59.515625 10.40625 \nL 59.515625 29.984375 \nL 43.40625 29.984375 \nL 43.40625 38.09375 \nL 69.28125 38.09375 \nL 69.28125 6.78125 \nQ 63.578125 2.734375 56.6875 0.65625 \nQ 49.8125 -1.421875 42 -1.421875 \nQ 24.90625 -1.421875 15.25 8.5625 \nQ 5.609375 18.5625 5.609375 36.375 \nQ 5.609375 54.25 15.25 64.234375 \nQ 24.90625 74.21875 42 74.21875 \nQ 49.125 74.21875 55.546875 72.453125 \nQ 61.96875 70.703125 67.390625 67.28125 \nL 67.390625 56.78125 \nQ 61.921875 61.421875 55.765625 63.765625 \nQ 49.609375 66.109375 42.828125 66.109375 \nQ 29.4375 66.109375 22.71875 58.640625 \nQ 16.015625 51.171875 16.015625 36.375 \nQ 16.015625 21.625 22.71875 14.15625 \nQ 29.4375 6.6875 42.828125 6.6875 \nQ 48.046875 6.6875 52.140625 7.59375 \nQ 56.25 8.5 59.515625 10.40625 \nz\n\" id=\"DejaVuSans-71\"/>\n       <path d=\"M 19.671875 34.8125 \nL 19.671875 8.109375 \nL 35.5 8.109375 \nQ 43.453125 8.109375 47.28125 11.40625 \nQ 51.125 14.703125 51.125 21.484375 \nQ 51.125 28.328125 47.28125 31.5625 \nQ 43.453125 34.8125 35.5 34.8125 \nz\nM 19.671875 64.796875 \nL 19.671875 42.828125 \nL 34.28125 42.828125 \nQ 41.5 42.828125 45.03125 45.53125 \nQ 48.578125 48.25 48.578125 53.8125 \nQ 48.578125 59.328125 45.03125 62.0625 \nQ 41.5 64.796875 34.28125 64.796875 \nz\nM 9.8125 72.90625 \nL 35.015625 72.90625 \nQ 46.296875 72.90625 52.390625 68.21875 \nQ 58.5 63.53125 58.5 54.890625 \nQ 58.5 48.1875 55.375 44.234375 \nQ 52.25 40.28125 46.1875 39.3125 \nQ 53.46875 37.75 57.5 32.78125 \nQ 61.53125 27.828125 61.53125 20.40625 \nQ 61.53125 10.640625 54.890625 5.3125 \nQ 48.25 0 35.984375 0 \nL 9.8125 0 \nz\n\" id=\"DejaVuSans-66\"/>\n       <path d=\"M 8.015625 75.875 \nL 15.828125 75.875 \nQ 23.140625 64.359375 26.78125 53.3125 \nQ 30.421875 42.28125 30.421875 31.390625 \nQ 30.421875 20.453125 26.78125 9.375 \nQ 23.140625 -1.703125 15.828125 -13.1875 \nL 8.015625 -13.1875 \nQ 14.5 -2 17.703125 9.0625 \nQ 20.90625 20.125 20.90625 31.390625 \nQ 20.90625 42.671875 17.703125 53.65625 \nQ 14.5 64.65625 8.015625 75.875 \nz\n\" id=\"DejaVuSans-41\"/>\n      </defs>\n      <use xlink:href=\"#DejaVuSans-109\"/>\n      <use x=\"97.412109\" xlink:href=\"#DejaVuSans-101\"/>\n      <use x=\"158.935547\" xlink:href=\"#DejaVuSans-109\"/>\n      <use x=\"256.347656\" xlink:href=\"#DejaVuSans-111\"/>\n      <use x=\"317.529297\" xlink:href=\"#DejaVuSans-114\"/>\n      <use x=\"358.642578\" xlink:href=\"#DejaVuSans-121\"/>\n      <use x=\"417.822266\" xlink:href=\"#DejaVuSans-32\"/>\n      <use x=\"449.609375\" xlink:href=\"#DejaVuSans-117\"/>\n      <use x=\"512.988281\" xlink:href=\"#DejaVuSans-115\"/>\n      <use x=\"565.087891\" xlink:href=\"#DejaVuSans-97\"/>\n      <use x=\"626.367188\" xlink:href=\"#DejaVuSans-103\"/>\n      <use x=\"689.84375\" xlink:href=\"#DejaVuSans-101\"/>\n      <use x=\"751.367188\" xlink:href=\"#DejaVuSans-32\"/>\n      <use x=\"783.154297\" xlink:href=\"#DejaVuSans-40\"/>\n      <use x=\"822.167969\" xlink:href=\"#DejaVuSans-71\"/>\n      <use x=\"899.658203\" xlink:href=\"#DejaVuSans-66\"/>\n      <use x=\"968.261719\" xlink:href=\"#DejaVuSans-41\"/>\n     </g>\n    </g>\n   </g>\n   <g id=\"line2d_31\">\n    <path clip-path=\"url(#pa37799d7b0)\" d=\"M 64.259013 413.998125 \nL 64.342706 413.998125 \nL 68.359948 357.596205 \nL 68.359948 357.596205 \nL 72.377189 323.755053 \nL 72.377189 323.755053 \nL 76.394431 301.194285 \nL 76.394431 301.194285 \nL 82.420293 301.194285 \nL 82.503986 413.998125 \nL 134.184126 413.998125 \nL 134.437993 413.676947 \nL 134.437993 413.676947 \nL 134.552373 413.543776 \nL 139.317268 413.543776 \nL 139.571136 413.222599 \nL 139.571136 413.222599 \nL 139.685515 413.089427 \nL 146.69616 413.089427 \nL 148.955858 412.560659 \nL 148.955858 412.560659 \nL 148.962833 412.286483 \nL 148.962833 412.286483 \nL 149.248782 411.953555 \nL 149.039551 411.953555 \nL 149.206936 409.168711 \nL 155.232799 405.909933 \nL 155.232799 405.909933 \nL 156.147837 402.212474 \nL 157.199573 402.212474 \nL 157.450651 374.364026 \nL 157.450651 374.364026 \nL 157.57619 374.364026 \nL 157.450651 374.364026 \nL 157.701728 346.515578 \nL 157.701728 346.515578 \nL 157.827267 346.515578 \nL 157.701728 346.515578 \nL 158.329422 331.447648 \nL 158.329422 331.447648 \nL 158.429853 327.640519 \nL 158.747885 327.640519 \nL 158.998963 299.792071 \nL 158.998963 299.792071 \nL 159.124501 299.792071 \nL 159.082655 299.792071 \nL 159.58481 298.695367 \nL 159.58481 298.695367 \nL 159.668503 297.912007 \nL 159.752195 297.912007 \nL 163.769437 293.838535 \nL 163.769437 293.838535 \nL 163.825232 291.723463 \nL 163.825232 291.723463 \nL 163.908925 413.998125 \nL 176.825473 413.998125 \nL 177.07655 386.149677 \nL 177.07655 386.149677 \nL 177.327628 386.149677 \nL 177.429454 383.364832 \nL 176.825473 383.364832 \nL 200.928922 374.716538 \nL 200.928922 374.716538 \nL 200.995877 367.196282 \nL 200.995877 367.196282 \nL 203.740992 358.547987 \nL 194.90306 358.547987 \nL 195.154138 321.181715 \nL 202.937543 321.181715 \nL 203.063082 302.851091 \nL 203.063082 302.851091 \nL 208.084634 282.757907 \nL 208.084634 282.757907 \nL 208.210173 282.757907 \nL 203.439699 282.757907 \nL 203.565237 279.091783 \nL 203.565237 279.091783 \nL 204.594655 275.073146 \nL 213.73388 275.073146 \nL 216.997889 179.753901 \nL 216.997889 179.753901 \nL 243.10996 75.269344 \nL 243.10996 75.269344 \nL 243.762762 75.269344 \nL 214.989268 75.269344 \nL 389.739281 38.467091 \nL 389.739281 38.467091 \nL 390.224697 19.384442 \nL 390.224697 19.384442 \nL 408.373288 -1 \nL 408.373288 -1 \n\" style=\"fill:none;stroke:#ff0000;stroke-linecap:square;stroke-width:1.5;\"/>\n    <defs>\n     <path d=\"M 0 3 \nC 0.795609 3 1.55874 2.683901 2.12132 2.12132 \nC 2.683901 1.55874 3 0.795609 3 0 \nC 3 -0.795609 2.683901 -1.55874 2.12132 -2.12132 \nC 1.55874 -2.683901 0.795609 -3 0 -3 \nC -0.795609 -3 -1.55874 -2.683901 -2.12132 -2.12132 \nC -2.683901 -1.55874 -3 -0.795609 -3 0 \nC -3 0.795609 -2.683901 1.55874 -2.12132 2.12132 \nC -1.55874 2.683901 -0.795609 3 0 3 \nz\n\" id=\"m517fb5db1b\" style=\"stroke:#ff0000;\"/>\n    </defs>\n    <g clip-path=\"url(#pa37799d7b0)\">\n     <use style=\"fill:#ff0000;stroke:#ff0000;\" x=\"64.259013\" xlink:href=\"#m517fb5db1b\" y=\"413.998125\"/>\n     <use style=\"fill:#ff0000;stroke:#ff0000;\" x=\"64.342706\" xlink:href=\"#m517fb5db1b\" y=\"413.998125\"/>\n     <use style=\"fill:#ff0000;stroke:#ff0000;\" x=\"68.359948\" xlink:href=\"#m517fb5db1b\" y=\"357.596205\"/>\n     <use style=\"fill:#ff0000;stroke:#ff0000;\" x=\"68.359948\" xlink:href=\"#m517fb5db1b\" y=\"357.596205\"/>\n     <use style=\"fill:#ff0000;stroke:#ff0000;\" x=\"72.377189\" xlink:href=\"#m517fb5db1b\" y=\"323.755053\"/>\n     <use style=\"fill:#ff0000;stroke:#ff0000;\" x=\"72.377189\" xlink:href=\"#m517fb5db1b\" y=\"323.755053\"/>\n     <use style=\"fill:#ff0000;stroke:#ff0000;\" x=\"76.394431\" xlink:href=\"#m517fb5db1b\" y=\"301.194285\"/>\n     <use style=\"fill:#ff0000;stroke:#ff0000;\" x=\"76.394431\" xlink:href=\"#m517fb5db1b\" y=\"301.194285\"/>\n     <use style=\"fill:#ff0000;stroke:#ff0000;\" x=\"80.411673\" xlink:href=\"#m517fb5db1b\" y=\"301.194285\"/>\n     <use style=\"fill:#ff0000;stroke:#ff0000;\" x=\"82.420293\" xlink:href=\"#m517fb5db1b\" y=\"301.194285\"/>\n     <use style=\"fill:#ff0000;stroke:#ff0000;\" x=\"82.503986\" xlink:href=\"#m517fb5db1b\" y=\"413.998125\"/>\n     <use style=\"fill:#ff0000;stroke:#ff0000;\" x=\"134.184126\" xlink:href=\"#m517fb5db1b\" y=\"413.998125\"/>\n     <use style=\"fill:#ff0000;stroke:#ff0000;\" x=\"134.435204\" xlink:href=\"#m517fb5db1b\" y=\"413.786618\"/>\n     <use style=\"fill:#ff0000;stroke:#ff0000;\" x=\"134.435204\" xlink:href=\"#m517fb5db1b\" y=\"413.786618\"/>\n     <use style=\"fill:#ff0000;stroke:#ff0000;\" x=\"134.437993\" xlink:href=\"#m517fb5db1b\" y=\"413.676947\"/>\n     <use style=\"fill:#ff0000;stroke:#ff0000;\" x=\"134.437993\" xlink:href=\"#m517fb5db1b\" y=\"413.676947\"/>\n     <use style=\"fill:#ff0000;stroke:#ff0000;\" x=\"134.549584\" xlink:href=\"#m517fb5db1b\" y=\"413.543776\"/>\n     <use style=\"fill:#ff0000;stroke:#ff0000;\" x=\"134.549584\" xlink:href=\"#m517fb5db1b\" y=\"413.543776\"/>\n     <use style=\"fill:#ff0000;stroke:#ff0000;\" x=\"134.552373\" xlink:href=\"#m517fb5db1b\" y=\"413.543776\"/>\n     <use style=\"fill:#ff0000;stroke:#ff0000;\" x=\"139.317268\" xlink:href=\"#m517fb5db1b\" y=\"413.543776\"/>\n     <use style=\"fill:#ff0000;stroke:#ff0000;\" x=\"139.568346\" xlink:href=\"#m517fb5db1b\" y=\"413.332269\"/>\n     <use style=\"fill:#ff0000;stroke:#ff0000;\" x=\"139.568346\" xlink:href=\"#m517fb5db1b\" y=\"413.332269\"/>\n     <use style=\"fill:#ff0000;stroke:#ff0000;\" x=\"139.571136\" xlink:href=\"#m517fb5db1b\" y=\"413.222599\"/>\n     <use style=\"fill:#ff0000;stroke:#ff0000;\" x=\"139.571136\" xlink:href=\"#m517fb5db1b\" y=\"413.222599\"/>\n     <use style=\"fill:#ff0000;stroke:#ff0000;\" x=\"139.682726\" xlink:href=\"#m517fb5db1b\" y=\"413.089427\"/>\n     <use style=\"fill:#ff0000;stroke:#ff0000;\" x=\"139.682726\" xlink:href=\"#m517fb5db1b\" y=\"413.089427\"/>\n     <use style=\"fill:#ff0000;stroke:#ff0000;\" x=\"139.685515\" xlink:href=\"#m517fb5db1b\" y=\"413.089427\"/>\n     <use style=\"fill:#ff0000;stroke:#ff0000;\" x=\"146.69616\" xlink:href=\"#m517fb5db1b\" y=\"413.089427\"/>\n     <use style=\"fill:#ff0000;stroke:#ff0000;\" x=\"148.955858\" xlink:href=\"#m517fb5db1b\" y=\"412.560659\"/>\n     <use style=\"fill:#ff0000;stroke:#ff0000;\" x=\"148.955858\" xlink:href=\"#m517fb5db1b\" y=\"412.560659\"/>\n     <use style=\"fill:#ff0000;stroke:#ff0000;\" x=\"148.962833\" xlink:href=\"#m517fb5db1b\" y=\"412.286483\"/>\n     <use style=\"fill:#ff0000;stroke:#ff0000;\" x=\"148.962833\" xlink:href=\"#m517fb5db1b\" y=\"412.286483\"/>\n     <use style=\"fill:#ff0000;stroke:#ff0000;\" x=\"149.241808\" xlink:href=\"#m517fb5db1b\" y=\"411.953555\"/>\n     <use style=\"fill:#ff0000;stroke:#ff0000;\" x=\"149.241808\" xlink:href=\"#m517fb5db1b\" y=\"411.953555\"/>\n     <use style=\"fill:#ff0000;stroke:#ff0000;\" x=\"149.248782\" xlink:href=\"#m517fb5db1b\" y=\"411.953555\"/>\n     <use style=\"fill:#ff0000;stroke:#ff0000;\" x=\"149.039551\" xlink:href=\"#m517fb5db1b\" y=\"411.953555\"/>\n     <use style=\"fill:#ff0000;stroke:#ff0000;\" x=\"149.116269\" xlink:href=\"#m517fb5db1b\" y=\"410.120493\"/>\n     <use style=\"fill:#ff0000;stroke:#ff0000;\" x=\"149.116269\" xlink:href=\"#m517fb5db1b\" y=\"410.120493\"/>\n     <use style=\"fill:#ff0000;stroke:#ff0000;\" x=\"149.128823\" xlink:href=\"#m517fb5db1b\" y=\"409.168711\"/>\n     <use style=\"fill:#ff0000;stroke:#ff0000;\" x=\"149.128823\" xlink:href=\"#m517fb5db1b\" y=\"409.168711\"/>\n     <use style=\"fill:#ff0000;stroke:#ff0000;\" x=\"149.141377\" xlink:href=\"#m517fb5db1b\" y=\"409.168711\"/>\n     <use style=\"fill:#ff0000;stroke:#ff0000;\" x=\"149.206936\" xlink:href=\"#m517fb5db1b\" y=\"409.168711\"/>\n     <use style=\"fill:#ff0000;stroke:#ff0000;\" x=\"155.232799\" xlink:href=\"#m517fb5db1b\" y=\"405.909933\"/>\n     <use style=\"fill:#ff0000;stroke:#ff0000;\" x=\"155.232799\" xlink:href=\"#m517fb5db1b\" y=\"405.909933\"/>\n     <use style=\"fill:#ff0000;stroke:#ff0000;\" x=\"156.125519\" xlink:href=\"#m517fb5db1b\" y=\"402.212474\"/>\n     <use style=\"fill:#ff0000;stroke:#ff0000;\" x=\"156.125519\" xlink:href=\"#m517fb5db1b\" y=\"402.212474\"/>\n     <use style=\"fill:#ff0000;stroke:#ff0000;\" x=\"156.147837\" xlink:href=\"#m517fb5db1b\" y=\"402.212474\"/>\n     <use style=\"fill:#ff0000;stroke:#ff0000;\" x=\"157.199573\" xlink:href=\"#m517fb5db1b\" y=\"402.212474\"/>\n     <use style=\"fill:#ff0000;stroke:#ff0000;\" x=\"157.325112\" xlink:href=\"#m517fb5db1b\" y=\"383.88185\"/>\n     <use style=\"fill:#ff0000;stroke:#ff0000;\" x=\"157.325112\" xlink:href=\"#m517fb5db1b\" y=\"383.88185\"/>\n     <use style=\"fill:#ff0000;stroke:#ff0000;\" x=\"157.450651\" xlink:href=\"#m517fb5db1b\" y=\"374.364026\"/>\n     <use style=\"fill:#ff0000;stroke:#ff0000;\" x=\"157.450651\" xlink:href=\"#m517fb5db1b\" y=\"374.364026\"/>\n     <use style=\"fill:#ff0000;stroke:#ff0000;\" x=\"157.57619\" xlink:href=\"#m517fb5db1b\" y=\"374.364026\"/>\n     <use style=\"fill:#ff0000;stroke:#ff0000;\" x=\"157.450651\" xlink:href=\"#m517fb5db1b\" y=\"374.364026\"/>\n     <use style=\"fill:#ff0000;stroke:#ff0000;\" x=\"157.57619\" xlink:href=\"#m517fb5db1b\" y=\"356.033402\"/>\n     <use style=\"fill:#ff0000;stroke:#ff0000;\" x=\"157.57619\" xlink:href=\"#m517fb5db1b\" y=\"356.033402\"/>\n     <use style=\"fill:#ff0000;stroke:#ff0000;\" x=\"157.701728\" xlink:href=\"#m517fb5db1b\" y=\"346.515578\"/>\n     <use style=\"fill:#ff0000;stroke:#ff0000;\" x=\"157.701728\" xlink:href=\"#m517fb5db1b\" y=\"346.515578\"/>\n     <use style=\"fill:#ff0000;stroke:#ff0000;\" x=\"157.827267\" xlink:href=\"#m517fb5db1b\" y=\"346.515578\"/>\n     <use style=\"fill:#ff0000;stroke:#ff0000;\" x=\"157.701728\" xlink:href=\"#m517fb5db1b\" y=\"346.515578\"/>\n     <use style=\"fill:#ff0000;stroke:#ff0000;\" x=\"157.945832\" xlink:href=\"#m517fb5db1b\" y=\"341.423738\"/>\n     <use style=\"fill:#ff0000;stroke:#ff0000;\" x=\"157.945832\" xlink:href=\"#m517fb5db1b\" y=\"341.423738\"/>\n     <use style=\"fill:#ff0000;stroke:#ff0000;\" x=\"157.980703\" xlink:href=\"#m517fb5db1b\" y=\"338.779898\"/>\n     <use style=\"fill:#ff0000;stroke:#ff0000;\" x=\"157.980703\" xlink:href=\"#m517fb5db1b\" y=\"338.779898\"/>\n     <use style=\"fill:#ff0000;stroke:#ff0000;\" x=\"158.015575\" xlink:href=\"#m517fb5db1b\" y=\"338.779898\"/>\n     <use style=\"fill:#ff0000;stroke:#ff0000;\" x=\"158.078345\" xlink:href=\"#m517fb5db1b\" y=\"338.779898\"/>\n     <use style=\"fill:#ff0000;stroke:#ff0000;\" x=\"158.329422\" xlink:href=\"#m517fb5db1b\" y=\"331.447648\"/>\n     <use style=\"fill:#ff0000;stroke:#ff0000;\" x=\"158.329422\" xlink:href=\"#m517fb5db1b\" y=\"331.447648\"/>\n     <use style=\"fill:#ff0000;stroke:#ff0000;\" x=\"158.379638\" xlink:href=\"#m517fb5db1b\" y=\"327.640519\"/>\n     <use style=\"fill:#ff0000;stroke:#ff0000;\" x=\"158.379638\" xlink:href=\"#m517fb5db1b\" y=\"327.640519\"/>\n     <use style=\"fill:#ff0000;stroke:#ff0000;\" x=\"158.429853\" xlink:href=\"#m517fb5db1b\" y=\"327.640519\"/>\n     <use style=\"fill:#ff0000;stroke:#ff0000;\" x=\"158.747885\" xlink:href=\"#m517fb5db1b\" y=\"327.640519\"/>\n     <use style=\"fill:#ff0000;stroke:#ff0000;\" x=\"158.873424\" xlink:href=\"#m517fb5db1b\" y=\"309.309895\"/>\n     <use style=\"fill:#ff0000;stroke:#ff0000;\" x=\"158.873424\" xlink:href=\"#m517fb5db1b\" y=\"309.309895\"/>\n     <use style=\"fill:#ff0000;stroke:#ff0000;\" x=\"158.998963\" xlink:href=\"#m517fb5db1b\" y=\"299.792071\"/>\n     <use style=\"fill:#ff0000;stroke:#ff0000;\" x=\"158.998963\" xlink:href=\"#m517fb5db1b\" y=\"299.792071\"/>\n     <use style=\"fill:#ff0000;stroke:#ff0000;\" x=\"159.124501\" xlink:href=\"#m517fb5db1b\" y=\"299.792071\"/>\n     <use style=\"fill:#ff0000;stroke:#ff0000;\" x=\"159.082655\" xlink:href=\"#m517fb5db1b\" y=\"299.792071\"/>\n     <use style=\"fill:#ff0000;stroke:#ff0000;\" x=\"159.58481\" xlink:href=\"#m517fb5db1b\" y=\"298.695367\"/>\n     <use style=\"fill:#ff0000;stroke:#ff0000;\" x=\"159.58481\" xlink:href=\"#m517fb5db1b\" y=\"298.695367\"/>\n     <use style=\"fill:#ff0000;stroke:#ff0000;\" x=\"159.612708\" xlink:href=\"#m517fb5db1b\" y=\"298.225351\"/>\n     <use style=\"fill:#ff0000;stroke:#ff0000;\" x=\"159.612708\" xlink:href=\"#m517fb5db1b\" y=\"298.225351\"/>\n     <use style=\"fill:#ff0000;stroke:#ff0000;\" x=\"159.640605\" xlink:href=\"#m517fb5db1b\" y=\"297.912007\"/>\n     <use style=\"fill:#ff0000;stroke:#ff0000;\" x=\"159.640605\" xlink:href=\"#m517fb5db1b\" y=\"297.912007\"/>\n     <use style=\"fill:#ff0000;stroke:#ff0000;\" x=\"159.668503\" xlink:href=\"#m517fb5db1b\" y=\"297.912007\"/>\n     <use style=\"fill:#ff0000;stroke:#ff0000;\" x=\"159.752195\" xlink:href=\"#m517fb5db1b\" y=\"297.912007\"/>\n     <use style=\"fill:#ff0000;stroke:#ff0000;\" x=\"163.769437\" xlink:href=\"#m517fb5db1b\" y=\"293.838535\"/>\n     <use style=\"fill:#ff0000;stroke:#ff0000;\" x=\"163.769437\" xlink:href=\"#m517fb5db1b\" y=\"293.838535\"/>\n     <use style=\"fill:#ff0000;stroke:#ff0000;\" x=\"163.797335\" xlink:href=\"#m517fb5db1b\" y=\"291.723463\"/>\n     <use style=\"fill:#ff0000;stroke:#ff0000;\" x=\"163.797335\" xlink:href=\"#m517fb5db1b\" y=\"291.723463\"/>\n     <use style=\"fill:#ff0000;stroke:#ff0000;\" x=\"163.825232\" xlink:href=\"#m517fb5db1b\" y=\"291.723463\"/>\n     <use style=\"fill:#ff0000;stroke:#ff0000;\" x=\"163.825232\" xlink:href=\"#m517fb5db1b\" y=\"291.723463\"/>\n     <use style=\"fill:#ff0000;stroke:#ff0000;\" x=\"163.908925\" xlink:href=\"#m517fb5db1b\" y=\"413.998125\"/>\n     <use style=\"fill:#ff0000;stroke:#ff0000;\" x=\"176.825473\" xlink:href=\"#m517fb5db1b\" y=\"413.998125\"/>\n     <use style=\"fill:#ff0000;stroke:#ff0000;\" x=\"176.951011\" xlink:href=\"#m517fb5db1b\" y=\"395.667501\"/>\n     <use style=\"fill:#ff0000;stroke:#ff0000;\" x=\"176.951011\" xlink:href=\"#m517fb5db1b\" y=\"395.667501\"/>\n     <use style=\"fill:#ff0000;stroke:#ff0000;\" x=\"177.07655\" xlink:href=\"#m517fb5db1b\" y=\"386.149677\"/>\n     <use style=\"fill:#ff0000;stroke:#ff0000;\" x=\"177.07655\" xlink:href=\"#m517fb5db1b\" y=\"386.149677\"/>\n     <use style=\"fill:#ff0000;stroke:#ff0000;\" x=\"177.202089\" xlink:href=\"#m517fb5db1b\" y=\"386.149677\"/>\n     <use style=\"fill:#ff0000;stroke:#ff0000;\" x=\"177.327628\" xlink:href=\"#m517fb5db1b\" y=\"386.149677\"/>\n     <use style=\"fill:#ff0000;stroke:#ff0000;\" x=\"177.404346\" xlink:href=\"#m517fb5db1b\" y=\"384.316615\"/>\n     <use style=\"fill:#ff0000;stroke:#ff0000;\" x=\"177.404346\" xlink:href=\"#m517fb5db1b\" y=\"384.316615\"/>\n     <use style=\"fill:#ff0000;stroke:#ff0000;\" x=\"177.4169\" xlink:href=\"#m517fb5db1b\" y=\"383.364832\"/>\n     <use style=\"fill:#ff0000;stroke:#ff0000;\" x=\"177.4169\" xlink:href=\"#m517fb5db1b\" y=\"383.364832\"/>\n     <use style=\"fill:#ff0000;stroke:#ff0000;\" x=\"177.429454\" xlink:href=\"#m517fb5db1b\" y=\"383.364832\"/>\n     <use style=\"fill:#ff0000;stroke:#ff0000;\" x=\"176.825473\" xlink:href=\"#m517fb5db1b\" y=\"383.364832\"/>\n     <use style=\"fill:#ff0000;stroke:#ff0000;\" x=\"200.928922\" xlink:href=\"#m517fb5db1b\" y=\"374.716538\"/>\n     <use style=\"fill:#ff0000;stroke:#ff0000;\" x=\"200.928922\" xlink:href=\"#m517fb5db1b\" y=\"374.716538\"/>\n     <use style=\"fill:#ff0000;stroke:#ff0000;\" x=\"200.995877\" xlink:href=\"#m517fb5db1b\" y=\"367.196282\"/>\n     <use style=\"fill:#ff0000;stroke:#ff0000;\" x=\"200.995877\" xlink:href=\"#m517fb5db1b\" y=\"367.196282\"/>\n     <use style=\"fill:#ff0000;stroke:#ff0000;\" x=\"203.674038\" xlink:href=\"#m517fb5db1b\" y=\"358.547987\"/>\n     <use style=\"fill:#ff0000;stroke:#ff0000;\" x=\"203.674038\" xlink:href=\"#m517fb5db1b\" y=\"358.547987\"/>\n     <use style=\"fill:#ff0000;stroke:#ff0000;\" x=\"203.740992\" xlink:href=\"#m517fb5db1b\" y=\"358.547987\"/>\n     <use style=\"fill:#ff0000;stroke:#ff0000;\" x=\"194.90306\" xlink:href=\"#m517fb5db1b\" y=\"358.547987\"/>\n     <use style=\"fill:#ff0000;stroke:#ff0000;\" x=\"195.028599\" xlink:href=\"#m517fb5db1b\" y=\"340.217363\"/>\n     <use style=\"fill:#ff0000;stroke:#ff0000;\" x=\"195.028599\" xlink:href=\"#m517fb5db1b\" y=\"340.217363\"/>\n     <use style=\"fill:#ff0000;stroke:#ff0000;\" x=\"195.154138\" xlink:href=\"#m517fb5db1b\" y=\"330.699539\"/>\n     <use style=\"fill:#ff0000;stroke:#ff0000;\" x=\"195.028599\" xlink:href=\"#m517fb5db1b\" y=\"330.699539\"/>\n     <use style=\"fill:#ff0000;stroke:#ff0000;\" x=\"195.154138\" xlink:href=\"#m517fb5db1b\" y=\"321.181715\"/>\n     <use style=\"fill:#ff0000;stroke:#ff0000;\" x=\"202.937543\" xlink:href=\"#m517fb5db1b\" y=\"321.181715\"/>\n     <use style=\"fill:#ff0000;stroke:#ff0000;\" x=\"203.063082\" xlink:href=\"#m517fb5db1b\" y=\"302.851091\"/>\n     <use style=\"fill:#ff0000;stroke:#ff0000;\" x=\"203.063082\" xlink:href=\"#m517fb5db1b\" y=\"302.851091\"/>\n     <use style=\"fill:#ff0000;stroke:#ff0000;\" x=\"208.084634\" xlink:href=\"#m517fb5db1b\" y=\"282.757907\"/>\n     <use style=\"fill:#ff0000;stroke:#ff0000;\" x=\"208.084634\" xlink:href=\"#m517fb5db1b\" y=\"282.757907\"/>\n     <use style=\"fill:#ff0000;stroke:#ff0000;\" x=\"208.210173\" xlink:href=\"#m517fb5db1b\" y=\"282.757907\"/>\n     <use style=\"fill:#ff0000;stroke:#ff0000;\" x=\"203.439699\" xlink:href=\"#m517fb5db1b\" y=\"282.757907\"/>\n     <use style=\"fill:#ff0000;stroke:#ff0000;\" x=\"203.565237\" xlink:href=\"#m517fb5db1b\" y=\"279.091783\"/>\n     <use style=\"fill:#ff0000;stroke:#ff0000;\" x=\"203.565237\" xlink:href=\"#m517fb5db1b\" y=\"279.091783\"/>\n     <use style=\"fill:#ff0000;stroke:#ff0000;\" x=\"204.569548\" xlink:href=\"#m517fb5db1b\" y=\"275.073146\"/>\n     <use style=\"fill:#ff0000;stroke:#ff0000;\" x=\"204.569548\" xlink:href=\"#m517fb5db1b\" y=\"275.073146\"/>\n     <use style=\"fill:#ff0000;stroke:#ff0000;\" x=\"204.594655\" xlink:href=\"#m517fb5db1b\" y=\"275.073146\"/>\n     <use style=\"fill:#ff0000;stroke:#ff0000;\" x=\"213.73388\" xlink:href=\"#m517fb5db1b\" y=\"275.073146\"/>\n     <use style=\"fill:#ff0000;stroke:#ff0000;\" x=\"216.997889\" xlink:href=\"#m517fb5db1b\" y=\"179.753901\"/>\n     <use style=\"fill:#ff0000;stroke:#ff0000;\" x=\"216.997889\" xlink:href=\"#m517fb5db1b\" y=\"179.753901\"/>\n     <use style=\"fill:#ff0000;stroke:#ff0000;\" x=\"243.10996\" xlink:href=\"#m517fb5db1b\" y=\"75.269344\"/>\n     <use style=\"fill:#ff0000;stroke:#ff0000;\" x=\"243.10996\" xlink:href=\"#m517fb5db1b\" y=\"75.269344\"/>\n     <use style=\"fill:#ff0000;stroke:#ff0000;\" x=\"243.762762\" xlink:href=\"#m517fb5db1b\" y=\"75.269344\"/>\n     <use style=\"fill:#ff0000;stroke:#ff0000;\" x=\"214.989268\" xlink:href=\"#m517fb5db1b\" y=\"75.269344\"/>\n     <use style=\"fill:#ff0000;stroke:#ff0000;\" x=\"389.739281\" xlink:href=\"#m517fb5db1b\" y=\"38.467091\"/>\n     <use style=\"fill:#ff0000;stroke:#ff0000;\" x=\"389.739281\" xlink:href=\"#m517fb5db1b\" y=\"38.467091\"/>\n     <use style=\"fill:#ff0000;stroke:#ff0000;\" x=\"390.224697\" xlink:href=\"#m517fb5db1b\" y=\"19.384442\"/>\n     <use style=\"fill:#ff0000;stroke:#ff0000;\" x=\"390.224697\" xlink:href=\"#m517fb5db1b\" y=\"19.384442\"/>\n     <use style=\"fill:#ff0000;stroke:#ff0000;\" x=\"408.373288\" xlink:href=\"#m517fb5db1b\" y=\"-1\"/>\n    </g>\n   </g>\n   <g id=\"line2d_32\">\n    <path clip-path=\"url(#pa37799d7b0)\" d=\"M 64.259013 413.998125 \nL 64.342706 413.998125 \nL 68.359948 357.596205 \nL 68.359948 357.596205 \nL 82.420293 357.596205 \nL 82.503986 413.998125 \nL 134.184126 413.998125 \nL 134.552373 413.786618 \nL 139.317268 413.786618 \nL 139.685515 413.575111 \nL 146.69616 413.575111 \nL 149.248782 413.046343 \nL 149.039551 413.046343 \nL 149.206936 411.21328 \nL 155.232799 407.954503 \nL 155.232799 407.954503 \nL 157.199573 407.954503 \nL 157.325112 389.623879 \nL 157.325112 389.623879 \nL 157.57619 389.623879 \nL 157.450651 389.623879 \nL 157.57619 371.293255 \nL 157.57619 371.293255 \nL 157.827267 371.293255 \nL 157.701728 371.293255 \nL 158.015575 366.201415 \nL 158.078345 366.201415 \nL 158.429853 358.869165 \nL 158.747885 358.869165 \nL 158.873424 340.538541 \nL 158.873424 340.538541 \nL 159.124501 340.538541 \nL 159.082655 340.538541 \nL 159.668503 339.441837 \nL 159.752195 339.441837 \nL 163.825232 335.368365 \nL 163.825232 335.368365 \nL 163.908925 413.998125 \nL 176.825473 413.998125 \nL 176.951011 395.667501 \nL 176.951011 395.667501 \nL 177.327628 395.667501 \nL 177.429454 393.834439 \nL 176.825473 393.834439 \nL 200.995877 385.186144 \nL 200.995877 385.186144 \nL 203.740992 385.186144 \nL 194.90306 385.186144 \nL 195.028599 366.85552 \nL 195.028599 366.85552 \nL 202.937543 366.85552 \nL 203.063082 348.524896 \nL 203.063082 348.524896 \nL 208.210173 348.524896 \nL 203.439699 348.524896 \nL 203.565237 344.858771 \nL 203.565237 344.858771 \nL 213.73388 344.858771 \nL 216.997889 249.539527 \nL 216.997889 249.539527 \nL 243.762762 249.539527 \nL 214.989268 249.539527 \nL 390.224697 212.737274 \nL 390.224697 212.737274 \nL 410.126782 212.737274 \nL 410.126782 212.737274 \n\" style=\"fill:none;stroke:#008000;stroke-linecap:square;stroke-width:1.5;\"/>\n    <defs>\n     <path d=\"M 0 -3 \nL -0.673542 -0.927051 \nL -2.85317 -0.927051 \nL -1.089814 0.354102 \nL -1.763356 2.427051 \nL -0 1.145898 \nL 1.763356 2.427051 \nL 1.089814 0.354102 \nL 2.85317 -0.927051 \nL 0.673542 -0.927051 \nz\n\" id=\"m88b887b634\" style=\"stroke:#008000;stroke-linejoin:bevel;\"/>\n    </defs>\n    <g clip-path=\"url(#pa37799d7b0)\">\n     <use style=\"fill:#008000;stroke:#008000;stroke-linejoin:bevel;\" x=\"64.259013\" xlink:href=\"#m88b887b634\" y=\"413.998125\"/>\n     <use style=\"fill:#008000;stroke:#008000;stroke-linejoin:bevel;\" x=\"64.342706\" xlink:href=\"#m88b887b634\" y=\"413.998125\"/>\n     <use style=\"fill:#008000;stroke:#008000;stroke-linejoin:bevel;\" x=\"68.359948\" xlink:href=\"#m88b887b634\" y=\"357.596205\"/>\n     <use style=\"fill:#008000;stroke:#008000;stroke-linejoin:bevel;\" x=\"68.359948\" xlink:href=\"#m88b887b634\" y=\"357.596205\"/>\n     <use style=\"fill:#008000;stroke:#008000;stroke-linejoin:bevel;\" x=\"72.377189\" xlink:href=\"#m88b887b634\" y=\"357.596205\"/>\n     <use style=\"fill:#008000;stroke:#008000;stroke-linejoin:bevel;\" x=\"72.377189\" xlink:href=\"#m88b887b634\" y=\"357.596205\"/>\n     <use style=\"fill:#008000;stroke:#008000;stroke-linejoin:bevel;\" x=\"76.394431\" xlink:href=\"#m88b887b634\" y=\"357.596205\"/>\n     <use style=\"fill:#008000;stroke:#008000;stroke-linejoin:bevel;\" x=\"76.394431\" xlink:href=\"#m88b887b634\" y=\"357.596205\"/>\n     <use style=\"fill:#008000;stroke:#008000;stroke-linejoin:bevel;\" x=\"80.411673\" xlink:href=\"#m88b887b634\" y=\"357.596205\"/>\n     <use style=\"fill:#008000;stroke:#008000;stroke-linejoin:bevel;\" x=\"82.420293\" xlink:href=\"#m88b887b634\" y=\"357.596205\"/>\n     <use style=\"fill:#008000;stroke:#008000;stroke-linejoin:bevel;\" x=\"82.503986\" xlink:href=\"#m88b887b634\" y=\"413.998125\"/>\n     <use style=\"fill:#008000;stroke:#008000;stroke-linejoin:bevel;\" x=\"134.184126\" xlink:href=\"#m88b887b634\" y=\"413.998125\"/>\n     <use style=\"fill:#008000;stroke:#008000;stroke-linejoin:bevel;\" x=\"134.435204\" xlink:href=\"#m88b887b634\" y=\"413.786618\"/>\n     <use style=\"fill:#008000;stroke:#008000;stroke-linejoin:bevel;\" x=\"134.435204\" xlink:href=\"#m88b887b634\" y=\"413.786618\"/>\n     <use style=\"fill:#008000;stroke:#008000;stroke-linejoin:bevel;\" x=\"134.437993\" xlink:href=\"#m88b887b634\" y=\"413.786618\"/>\n     <use style=\"fill:#008000;stroke:#008000;stroke-linejoin:bevel;\" x=\"134.437993\" xlink:href=\"#m88b887b634\" y=\"413.786618\"/>\n     <use style=\"fill:#008000;stroke:#008000;stroke-linejoin:bevel;\" x=\"134.549584\" xlink:href=\"#m88b887b634\" y=\"413.786618\"/>\n     <use style=\"fill:#008000;stroke:#008000;stroke-linejoin:bevel;\" x=\"134.549584\" xlink:href=\"#m88b887b634\" y=\"413.786618\"/>\n     <use style=\"fill:#008000;stroke:#008000;stroke-linejoin:bevel;\" x=\"134.552373\" xlink:href=\"#m88b887b634\" y=\"413.786618\"/>\n     <use style=\"fill:#008000;stroke:#008000;stroke-linejoin:bevel;\" x=\"139.317268\" xlink:href=\"#m88b887b634\" y=\"413.786618\"/>\n     <use style=\"fill:#008000;stroke:#008000;stroke-linejoin:bevel;\" x=\"139.568346\" xlink:href=\"#m88b887b634\" y=\"413.575111\"/>\n     <use style=\"fill:#008000;stroke:#008000;stroke-linejoin:bevel;\" x=\"139.568346\" xlink:href=\"#m88b887b634\" y=\"413.575111\"/>\n     <use style=\"fill:#008000;stroke:#008000;stroke-linejoin:bevel;\" x=\"139.571136\" xlink:href=\"#m88b887b634\" y=\"413.575111\"/>\n     <use style=\"fill:#008000;stroke:#008000;stroke-linejoin:bevel;\" x=\"139.571136\" xlink:href=\"#m88b887b634\" y=\"413.575111\"/>\n     <use style=\"fill:#008000;stroke:#008000;stroke-linejoin:bevel;\" x=\"139.682726\" xlink:href=\"#m88b887b634\" y=\"413.575111\"/>\n     <use style=\"fill:#008000;stroke:#008000;stroke-linejoin:bevel;\" x=\"139.682726\" xlink:href=\"#m88b887b634\" y=\"413.575111\"/>\n     <use style=\"fill:#008000;stroke:#008000;stroke-linejoin:bevel;\" x=\"139.685515\" xlink:href=\"#m88b887b634\" y=\"413.575111\"/>\n     <use style=\"fill:#008000;stroke:#008000;stroke-linejoin:bevel;\" x=\"146.69616\" xlink:href=\"#m88b887b634\" y=\"413.575111\"/>\n     <use style=\"fill:#008000;stroke:#008000;stroke-linejoin:bevel;\" x=\"148.955858\" xlink:href=\"#m88b887b634\" y=\"413.046343\"/>\n     <use style=\"fill:#008000;stroke:#008000;stroke-linejoin:bevel;\" x=\"148.955858\" xlink:href=\"#m88b887b634\" y=\"413.046343\"/>\n     <use style=\"fill:#008000;stroke:#008000;stroke-linejoin:bevel;\" x=\"148.962833\" xlink:href=\"#m88b887b634\" y=\"413.046343\"/>\n     <use style=\"fill:#008000;stroke:#008000;stroke-linejoin:bevel;\" x=\"148.962833\" xlink:href=\"#m88b887b634\" y=\"413.046343\"/>\n     <use style=\"fill:#008000;stroke:#008000;stroke-linejoin:bevel;\" x=\"149.241808\" xlink:href=\"#m88b887b634\" y=\"413.046343\"/>\n     <use style=\"fill:#008000;stroke:#008000;stroke-linejoin:bevel;\" x=\"149.241808\" xlink:href=\"#m88b887b634\" y=\"413.046343\"/>\n     <use style=\"fill:#008000;stroke:#008000;stroke-linejoin:bevel;\" x=\"149.248782\" xlink:href=\"#m88b887b634\" y=\"413.046343\"/>\n     <use style=\"fill:#008000;stroke:#008000;stroke-linejoin:bevel;\" x=\"149.039551\" xlink:href=\"#m88b887b634\" y=\"413.046343\"/>\n     <use style=\"fill:#008000;stroke:#008000;stroke-linejoin:bevel;\" x=\"149.116269\" xlink:href=\"#m88b887b634\" y=\"411.21328\"/>\n     <use style=\"fill:#008000;stroke:#008000;stroke-linejoin:bevel;\" x=\"149.116269\" xlink:href=\"#m88b887b634\" y=\"411.21328\"/>\n     <use style=\"fill:#008000;stroke:#008000;stroke-linejoin:bevel;\" x=\"149.128823\" xlink:href=\"#m88b887b634\" y=\"411.21328\"/>\n     <use style=\"fill:#008000;stroke:#008000;stroke-linejoin:bevel;\" x=\"149.128823\" xlink:href=\"#m88b887b634\" y=\"411.21328\"/>\n     <use style=\"fill:#008000;stroke:#008000;stroke-linejoin:bevel;\" x=\"149.141377\" xlink:href=\"#m88b887b634\" y=\"411.21328\"/>\n     <use style=\"fill:#008000;stroke:#008000;stroke-linejoin:bevel;\" x=\"149.206936\" xlink:href=\"#m88b887b634\" y=\"411.21328\"/>\n     <use style=\"fill:#008000;stroke:#008000;stroke-linejoin:bevel;\" x=\"155.232799\" xlink:href=\"#m88b887b634\" y=\"407.954503\"/>\n     <use style=\"fill:#008000;stroke:#008000;stroke-linejoin:bevel;\" x=\"155.232799\" xlink:href=\"#m88b887b634\" y=\"407.954503\"/>\n     <use style=\"fill:#008000;stroke:#008000;stroke-linejoin:bevel;\" x=\"156.125519\" xlink:href=\"#m88b887b634\" y=\"407.954503\"/>\n     <use style=\"fill:#008000;stroke:#008000;stroke-linejoin:bevel;\" x=\"156.125519\" xlink:href=\"#m88b887b634\" y=\"407.954503\"/>\n     <use style=\"fill:#008000;stroke:#008000;stroke-linejoin:bevel;\" x=\"156.147837\" xlink:href=\"#m88b887b634\" y=\"407.954503\"/>\n     <use style=\"fill:#008000;stroke:#008000;stroke-linejoin:bevel;\" x=\"157.199573\" xlink:href=\"#m88b887b634\" y=\"407.954503\"/>\n     <use style=\"fill:#008000;stroke:#008000;stroke-linejoin:bevel;\" x=\"157.325112\" xlink:href=\"#m88b887b634\" y=\"389.623879\"/>\n     <use style=\"fill:#008000;stroke:#008000;stroke-linejoin:bevel;\" x=\"157.325112\" xlink:href=\"#m88b887b634\" y=\"389.623879\"/>\n     <use style=\"fill:#008000;stroke:#008000;stroke-linejoin:bevel;\" x=\"157.450651\" xlink:href=\"#m88b887b634\" y=\"389.623879\"/>\n     <use style=\"fill:#008000;stroke:#008000;stroke-linejoin:bevel;\" x=\"157.450651\" xlink:href=\"#m88b887b634\" y=\"389.623879\"/>\n     <use style=\"fill:#008000;stroke:#008000;stroke-linejoin:bevel;\" x=\"157.57619\" xlink:href=\"#m88b887b634\" y=\"389.623879\"/>\n     <use style=\"fill:#008000;stroke:#008000;stroke-linejoin:bevel;\" x=\"157.450651\" xlink:href=\"#m88b887b634\" y=\"389.623879\"/>\n     <use style=\"fill:#008000;stroke:#008000;stroke-linejoin:bevel;\" x=\"157.57619\" xlink:href=\"#m88b887b634\" y=\"371.293255\"/>\n     <use style=\"fill:#008000;stroke:#008000;stroke-linejoin:bevel;\" x=\"157.57619\" xlink:href=\"#m88b887b634\" y=\"371.293255\"/>\n     <use style=\"fill:#008000;stroke:#008000;stroke-linejoin:bevel;\" x=\"157.701728\" xlink:href=\"#m88b887b634\" y=\"371.293255\"/>\n     <use style=\"fill:#008000;stroke:#008000;stroke-linejoin:bevel;\" x=\"157.701728\" xlink:href=\"#m88b887b634\" y=\"371.293255\"/>\n     <use style=\"fill:#008000;stroke:#008000;stroke-linejoin:bevel;\" x=\"157.827267\" xlink:href=\"#m88b887b634\" y=\"371.293255\"/>\n     <use style=\"fill:#008000;stroke:#008000;stroke-linejoin:bevel;\" x=\"157.701728\" xlink:href=\"#m88b887b634\" y=\"371.293255\"/>\n     <use style=\"fill:#008000;stroke:#008000;stroke-linejoin:bevel;\" x=\"157.945832\" xlink:href=\"#m88b887b634\" y=\"366.201415\"/>\n     <use style=\"fill:#008000;stroke:#008000;stroke-linejoin:bevel;\" x=\"157.945832\" xlink:href=\"#m88b887b634\" y=\"366.201415\"/>\n     <use style=\"fill:#008000;stroke:#008000;stroke-linejoin:bevel;\" x=\"157.980703\" xlink:href=\"#m88b887b634\" y=\"366.201415\"/>\n     <use style=\"fill:#008000;stroke:#008000;stroke-linejoin:bevel;\" x=\"157.980703\" xlink:href=\"#m88b887b634\" y=\"366.201415\"/>\n     <use style=\"fill:#008000;stroke:#008000;stroke-linejoin:bevel;\" x=\"158.015575\" xlink:href=\"#m88b887b634\" y=\"366.201415\"/>\n     <use style=\"fill:#008000;stroke:#008000;stroke-linejoin:bevel;\" x=\"158.078345\" xlink:href=\"#m88b887b634\" y=\"366.201415\"/>\n     <use style=\"fill:#008000;stroke:#008000;stroke-linejoin:bevel;\" x=\"158.329422\" xlink:href=\"#m88b887b634\" y=\"358.869165\"/>\n     <use style=\"fill:#008000;stroke:#008000;stroke-linejoin:bevel;\" x=\"158.329422\" xlink:href=\"#m88b887b634\" y=\"358.869165\"/>\n     <use style=\"fill:#008000;stroke:#008000;stroke-linejoin:bevel;\" x=\"158.379638\" xlink:href=\"#m88b887b634\" y=\"358.869165\"/>\n     <use style=\"fill:#008000;stroke:#008000;stroke-linejoin:bevel;\" x=\"158.379638\" xlink:href=\"#m88b887b634\" y=\"358.869165\"/>\n     <use style=\"fill:#008000;stroke:#008000;stroke-linejoin:bevel;\" x=\"158.429853\" xlink:href=\"#m88b887b634\" y=\"358.869165\"/>\n     <use style=\"fill:#008000;stroke:#008000;stroke-linejoin:bevel;\" x=\"158.747885\" xlink:href=\"#m88b887b634\" y=\"358.869165\"/>\n     <use style=\"fill:#008000;stroke:#008000;stroke-linejoin:bevel;\" x=\"158.873424\" xlink:href=\"#m88b887b634\" y=\"340.538541\"/>\n     <use style=\"fill:#008000;stroke:#008000;stroke-linejoin:bevel;\" x=\"158.873424\" xlink:href=\"#m88b887b634\" y=\"340.538541\"/>\n     <use style=\"fill:#008000;stroke:#008000;stroke-linejoin:bevel;\" x=\"158.998963\" xlink:href=\"#m88b887b634\" y=\"340.538541\"/>\n     <use style=\"fill:#008000;stroke:#008000;stroke-linejoin:bevel;\" x=\"158.998963\" xlink:href=\"#m88b887b634\" y=\"340.538541\"/>\n     <use style=\"fill:#008000;stroke:#008000;stroke-linejoin:bevel;\" x=\"159.124501\" xlink:href=\"#m88b887b634\" y=\"340.538541\"/>\n     <use style=\"fill:#008000;stroke:#008000;stroke-linejoin:bevel;\" x=\"159.082655\" xlink:href=\"#m88b887b634\" y=\"340.538541\"/>\n     <use style=\"fill:#008000;stroke:#008000;stroke-linejoin:bevel;\" x=\"159.58481\" xlink:href=\"#m88b887b634\" y=\"339.441837\"/>\n     <use style=\"fill:#008000;stroke:#008000;stroke-linejoin:bevel;\" x=\"159.58481\" xlink:href=\"#m88b887b634\" y=\"339.441837\"/>\n     <use style=\"fill:#008000;stroke:#008000;stroke-linejoin:bevel;\" x=\"159.612708\" xlink:href=\"#m88b887b634\" y=\"339.441837\"/>\n     <use style=\"fill:#008000;stroke:#008000;stroke-linejoin:bevel;\" x=\"159.612708\" xlink:href=\"#m88b887b634\" y=\"339.441837\"/>\n     <use style=\"fill:#008000;stroke:#008000;stroke-linejoin:bevel;\" x=\"159.640605\" xlink:href=\"#m88b887b634\" y=\"339.441837\"/>\n     <use style=\"fill:#008000;stroke:#008000;stroke-linejoin:bevel;\" x=\"159.640605\" xlink:href=\"#m88b887b634\" y=\"339.441837\"/>\n     <use style=\"fill:#008000;stroke:#008000;stroke-linejoin:bevel;\" x=\"159.668503\" xlink:href=\"#m88b887b634\" y=\"339.441837\"/>\n     <use style=\"fill:#008000;stroke:#008000;stroke-linejoin:bevel;\" x=\"159.752195\" xlink:href=\"#m88b887b634\" y=\"339.441837\"/>\n     <use style=\"fill:#008000;stroke:#008000;stroke-linejoin:bevel;\" x=\"163.769437\" xlink:href=\"#m88b887b634\" y=\"335.368365\"/>\n     <use style=\"fill:#008000;stroke:#008000;stroke-linejoin:bevel;\" x=\"163.769437\" xlink:href=\"#m88b887b634\" y=\"335.368365\"/>\n     <use style=\"fill:#008000;stroke:#008000;stroke-linejoin:bevel;\" x=\"163.797335\" xlink:href=\"#m88b887b634\" y=\"335.368365\"/>\n     <use style=\"fill:#008000;stroke:#008000;stroke-linejoin:bevel;\" x=\"163.797335\" xlink:href=\"#m88b887b634\" y=\"335.368365\"/>\n     <use style=\"fill:#008000;stroke:#008000;stroke-linejoin:bevel;\" x=\"163.825232\" xlink:href=\"#m88b887b634\" y=\"335.368365\"/>\n     <use style=\"fill:#008000;stroke:#008000;stroke-linejoin:bevel;\" x=\"163.825232\" xlink:href=\"#m88b887b634\" y=\"335.368365\"/>\n     <use style=\"fill:#008000;stroke:#008000;stroke-linejoin:bevel;\" x=\"163.908925\" xlink:href=\"#m88b887b634\" y=\"413.998125\"/>\n     <use style=\"fill:#008000;stroke:#008000;stroke-linejoin:bevel;\" x=\"176.825473\" xlink:href=\"#m88b887b634\" y=\"413.998125\"/>\n     <use style=\"fill:#008000;stroke:#008000;stroke-linejoin:bevel;\" x=\"176.951011\" xlink:href=\"#m88b887b634\" y=\"395.667501\"/>\n     <use style=\"fill:#008000;stroke:#008000;stroke-linejoin:bevel;\" x=\"176.951011\" xlink:href=\"#m88b887b634\" y=\"395.667501\"/>\n     <use style=\"fill:#008000;stroke:#008000;stroke-linejoin:bevel;\" x=\"177.07655\" xlink:href=\"#m88b887b634\" y=\"395.667501\"/>\n     <use style=\"fill:#008000;stroke:#008000;stroke-linejoin:bevel;\" x=\"177.07655\" xlink:href=\"#m88b887b634\" y=\"395.667501\"/>\n     <use style=\"fill:#008000;stroke:#008000;stroke-linejoin:bevel;\" x=\"177.202089\" xlink:href=\"#m88b887b634\" y=\"395.667501\"/>\n     <use style=\"fill:#008000;stroke:#008000;stroke-linejoin:bevel;\" x=\"177.327628\" xlink:href=\"#m88b887b634\" y=\"395.667501\"/>\n     <use style=\"fill:#008000;stroke:#008000;stroke-linejoin:bevel;\" x=\"177.404346\" xlink:href=\"#m88b887b634\" y=\"393.834439\"/>\n     <use style=\"fill:#008000;stroke:#008000;stroke-linejoin:bevel;\" x=\"177.404346\" xlink:href=\"#m88b887b634\" y=\"393.834439\"/>\n     <use style=\"fill:#008000;stroke:#008000;stroke-linejoin:bevel;\" x=\"177.4169\" xlink:href=\"#m88b887b634\" y=\"393.834439\"/>\n     <use style=\"fill:#008000;stroke:#008000;stroke-linejoin:bevel;\" x=\"177.4169\" xlink:href=\"#m88b887b634\" y=\"393.834439\"/>\n     <use style=\"fill:#008000;stroke:#008000;stroke-linejoin:bevel;\" x=\"177.429454\" xlink:href=\"#m88b887b634\" y=\"393.834439\"/>\n     <use style=\"fill:#008000;stroke:#008000;stroke-linejoin:bevel;\" x=\"176.825473\" xlink:href=\"#m88b887b634\" y=\"393.834439\"/>\n     <use style=\"fill:#008000;stroke:#008000;stroke-linejoin:bevel;\" x=\"200.928922\" xlink:href=\"#m88b887b634\" y=\"385.186144\"/>\n     <use style=\"fill:#008000;stroke:#008000;stroke-linejoin:bevel;\" x=\"200.928922\" xlink:href=\"#m88b887b634\" y=\"385.186144\"/>\n     <use style=\"fill:#008000;stroke:#008000;stroke-linejoin:bevel;\" x=\"200.995877\" xlink:href=\"#m88b887b634\" y=\"385.186144\"/>\n     <use style=\"fill:#008000;stroke:#008000;stroke-linejoin:bevel;\" x=\"200.995877\" xlink:href=\"#m88b887b634\" y=\"385.186144\"/>\n     <use style=\"fill:#008000;stroke:#008000;stroke-linejoin:bevel;\" x=\"203.674038\" xlink:href=\"#m88b887b634\" y=\"385.186144\"/>\n     <use style=\"fill:#008000;stroke:#008000;stroke-linejoin:bevel;\" x=\"203.674038\" xlink:href=\"#m88b887b634\" y=\"385.186144\"/>\n     <use style=\"fill:#008000;stroke:#008000;stroke-linejoin:bevel;\" x=\"203.740992\" xlink:href=\"#m88b887b634\" y=\"385.186144\"/>\n     <use style=\"fill:#008000;stroke:#008000;stroke-linejoin:bevel;\" x=\"194.90306\" xlink:href=\"#m88b887b634\" y=\"385.186144\"/>\n     <use style=\"fill:#008000;stroke:#008000;stroke-linejoin:bevel;\" x=\"195.028599\" xlink:href=\"#m88b887b634\" y=\"366.85552\"/>\n     <use style=\"fill:#008000;stroke:#008000;stroke-linejoin:bevel;\" x=\"195.028599\" xlink:href=\"#m88b887b634\" y=\"366.85552\"/>\n     <use style=\"fill:#008000;stroke:#008000;stroke-linejoin:bevel;\" x=\"195.154138\" xlink:href=\"#m88b887b634\" y=\"366.85552\"/>\n     <use style=\"fill:#008000;stroke:#008000;stroke-linejoin:bevel;\" x=\"195.028599\" xlink:href=\"#m88b887b634\" y=\"366.85552\"/>\n     <use style=\"fill:#008000;stroke:#008000;stroke-linejoin:bevel;\" x=\"195.154138\" xlink:href=\"#m88b887b634\" y=\"366.85552\"/>\n     <use style=\"fill:#008000;stroke:#008000;stroke-linejoin:bevel;\" x=\"202.937543\" xlink:href=\"#m88b887b634\" y=\"366.85552\"/>\n     <use style=\"fill:#008000;stroke:#008000;stroke-linejoin:bevel;\" x=\"203.063082\" xlink:href=\"#m88b887b634\" y=\"348.524896\"/>\n     <use style=\"fill:#008000;stroke:#008000;stroke-linejoin:bevel;\" x=\"203.063082\" xlink:href=\"#m88b887b634\" y=\"348.524896\"/>\n     <use style=\"fill:#008000;stroke:#008000;stroke-linejoin:bevel;\" x=\"208.084634\" xlink:href=\"#m88b887b634\" y=\"348.524896\"/>\n     <use style=\"fill:#008000;stroke:#008000;stroke-linejoin:bevel;\" x=\"208.084634\" xlink:href=\"#m88b887b634\" y=\"348.524896\"/>\n     <use style=\"fill:#008000;stroke:#008000;stroke-linejoin:bevel;\" x=\"208.210173\" xlink:href=\"#m88b887b634\" y=\"348.524896\"/>\n     <use style=\"fill:#008000;stroke:#008000;stroke-linejoin:bevel;\" x=\"203.439699\" xlink:href=\"#m88b887b634\" y=\"348.524896\"/>\n     <use style=\"fill:#008000;stroke:#008000;stroke-linejoin:bevel;\" x=\"203.565237\" xlink:href=\"#m88b887b634\" y=\"344.858771\"/>\n     <use style=\"fill:#008000;stroke:#008000;stroke-linejoin:bevel;\" x=\"203.565237\" xlink:href=\"#m88b887b634\" y=\"344.858771\"/>\n     <use style=\"fill:#008000;stroke:#008000;stroke-linejoin:bevel;\" x=\"204.569548\" xlink:href=\"#m88b887b634\" y=\"344.858771\"/>\n     <use style=\"fill:#008000;stroke:#008000;stroke-linejoin:bevel;\" x=\"204.569548\" xlink:href=\"#m88b887b634\" y=\"344.858771\"/>\n     <use style=\"fill:#008000;stroke:#008000;stroke-linejoin:bevel;\" x=\"204.594655\" xlink:href=\"#m88b887b634\" y=\"344.858771\"/>\n     <use style=\"fill:#008000;stroke:#008000;stroke-linejoin:bevel;\" x=\"213.73388\" xlink:href=\"#m88b887b634\" y=\"344.858771\"/>\n     <use style=\"fill:#008000;stroke:#008000;stroke-linejoin:bevel;\" x=\"216.997889\" xlink:href=\"#m88b887b634\" y=\"249.539527\"/>\n     <use style=\"fill:#008000;stroke:#008000;stroke-linejoin:bevel;\" x=\"216.997889\" xlink:href=\"#m88b887b634\" y=\"249.539527\"/>\n     <use style=\"fill:#008000;stroke:#008000;stroke-linejoin:bevel;\" x=\"243.10996\" xlink:href=\"#m88b887b634\" y=\"249.539527\"/>\n     <use style=\"fill:#008000;stroke:#008000;stroke-linejoin:bevel;\" x=\"243.10996\" xlink:href=\"#m88b887b634\" y=\"249.539527\"/>\n     <use style=\"fill:#008000;stroke:#008000;stroke-linejoin:bevel;\" x=\"243.762762\" xlink:href=\"#m88b887b634\" y=\"249.539527\"/>\n     <use style=\"fill:#008000;stroke:#008000;stroke-linejoin:bevel;\" x=\"214.989268\" xlink:href=\"#m88b887b634\" y=\"249.539527\"/>\n     <use style=\"fill:#008000;stroke:#008000;stroke-linejoin:bevel;\" x=\"389.739281\" xlink:href=\"#m88b887b634\" y=\"212.737274\"/>\n     <use style=\"fill:#008000;stroke:#008000;stroke-linejoin:bevel;\" x=\"389.739281\" xlink:href=\"#m88b887b634\" y=\"212.737274\"/>\n     <use style=\"fill:#008000;stroke:#008000;stroke-linejoin:bevel;\" x=\"390.224697\" xlink:href=\"#m88b887b634\" y=\"212.737274\"/>\n     <use style=\"fill:#008000;stroke:#008000;stroke-linejoin:bevel;\" x=\"390.224697\" xlink:href=\"#m88b887b634\" y=\"212.737274\"/>\n     <use style=\"fill:#008000;stroke:#008000;stroke-linejoin:bevel;\" x=\"409.641365\" xlink:href=\"#m88b887b634\" y=\"212.737274\"/>\n     <use style=\"fill:#008000;stroke:#008000;stroke-linejoin:bevel;\" x=\"409.641365\" xlink:href=\"#m88b887b634\" y=\"212.737274\"/>\n     <use style=\"fill:#008000;stroke:#008000;stroke-linejoin:bevel;\" x=\"410.126782\" xlink:href=\"#m88b887b634\" y=\"212.737274\"/>\n    </g>\n   </g>\n   <g id=\"line2d_33\">\n    <path clip-path=\"url(#pa37799d7b0)\" d=\"M 64.259013 413.998125 \nL 76.394431 413.998125 \nL 76.394431 413.998125 \nL 80.411673 410.412091 \nL 82.420293 410.412091 \nL 82.503986 413.998125 \nL 149.248782 413.977714 \nL 149.128823 413.977714 \nL 149.206936 413.641957 \nL 156.125519 413.641957 \nL 156.125519 413.641957 \nL 156.147837 413.513262 \nL 157.450651 413.513262 \nL 157.450651 413.513262 \nL 157.57619 410.155697 \nL 157.450651 410.155697 \nL 157.701728 410.155697 \nL 157.701728 410.155697 \nL 157.827267 406.798131 \nL 157.701728 406.798131 \nL 157.980703 406.798131 \nL 157.980703 406.798131 \nL 158.078345 405.865474 \nL 158.379638 405.865474 \nL 158.379638 405.865474 \nL 158.429853 404.522448 \nL 158.998963 404.522448 \nL 158.998963 404.522448 \nL 159.124501 401.164882 \nL 159.082655 401.164882 \nL 163.797335 401.085834 \nL 163.797335 401.085834 \nL 163.825232 400.339708 \nL 163.825232 400.339708 \nL 163.908925 413.998125 \nL 177.07655 413.998125 \nL 177.07655 413.998125 \nL 177.202089 410.64056 \nL 177.4169 410.64056 \nL 177.4169 410.64056 \nL 177.429454 410.304803 \nL 176.825473 410.304803 \nL 203.674038 410.304803 \nL 203.674038 410.304803 \nL 203.740992 410.00535 \nL 194.90306 410.00535 \nL 208.084634 410.00535 \nL 208.084634 410.00535 \nL 208.210173 409.558665 \nL 203.439699 409.558665 \nL 243.10996 409.48319 \nL 243.10996 409.48319 \nL 243.762762 407.520823 \nL 214.989268 407.520823 \nL 409.641365 407.520823 \nL 409.641365 407.520823 \nL 410.126782 406.999578 \nL 410.126782 406.999578 \n\" style=\"fill:none;stroke:#ffa500;stroke-linecap:square;stroke-width:1.5;\"/>\n    <defs>\n     <path d=\"M -3 -0 \nL 3 3 \nL 3 -3 \nz\n\" id=\"m1a583079ba\" style=\"stroke:#ffa500;stroke-linejoin:miter;\"/>\n    </defs>\n    <g clip-path=\"url(#pa37799d7b0)\">\n     <use style=\"fill:#ffa500;stroke:#ffa500;stroke-linejoin:miter;\" x=\"64.259013\" xlink:href=\"#m1a583079ba\" y=\"413.998125\"/>\n     <use style=\"fill:#ffa500;stroke:#ffa500;stroke-linejoin:miter;\" x=\"64.342706\" xlink:href=\"#m1a583079ba\" y=\"413.998125\"/>\n     <use style=\"fill:#ffa500;stroke:#ffa500;stroke-linejoin:miter;\" x=\"68.359948\" xlink:href=\"#m1a583079ba\" y=\"413.998125\"/>\n     <use style=\"fill:#ffa500;stroke:#ffa500;stroke-linejoin:miter;\" x=\"68.359948\" xlink:href=\"#m1a583079ba\" y=\"413.998125\"/>\n     <use style=\"fill:#ffa500;stroke:#ffa500;stroke-linejoin:miter;\" x=\"72.377189\" xlink:href=\"#m1a583079ba\" y=\"413.998125\"/>\n     <use style=\"fill:#ffa500;stroke:#ffa500;stroke-linejoin:miter;\" x=\"72.377189\" xlink:href=\"#m1a583079ba\" y=\"413.998125\"/>\n     <use style=\"fill:#ffa500;stroke:#ffa500;stroke-linejoin:miter;\" x=\"76.394431\" xlink:href=\"#m1a583079ba\" y=\"413.998125\"/>\n     <use style=\"fill:#ffa500;stroke:#ffa500;stroke-linejoin:miter;\" x=\"76.394431\" xlink:href=\"#m1a583079ba\" y=\"413.998125\"/>\n     <use style=\"fill:#ffa500;stroke:#ffa500;stroke-linejoin:miter;\" x=\"80.411673\" xlink:href=\"#m1a583079ba\" y=\"410.412091\"/>\n     <use style=\"fill:#ffa500;stroke:#ffa500;stroke-linejoin:miter;\" x=\"82.420293\" xlink:href=\"#m1a583079ba\" y=\"410.412091\"/>\n     <use style=\"fill:#ffa500;stroke:#ffa500;stroke-linejoin:miter;\" x=\"82.503986\" xlink:href=\"#m1a583079ba\" y=\"413.998125\"/>\n     <use style=\"fill:#ffa500;stroke:#ffa500;stroke-linejoin:miter;\" x=\"134.184126\" xlink:href=\"#m1a583079ba\" y=\"413.998125\"/>\n     <use style=\"fill:#ffa500;stroke:#ffa500;stroke-linejoin:miter;\" x=\"134.435204\" xlink:href=\"#m1a583079ba\" y=\"413.998125\"/>\n     <use style=\"fill:#ffa500;stroke:#ffa500;stroke-linejoin:miter;\" x=\"134.435204\" xlink:href=\"#m1a583079ba\" y=\"413.998125\"/>\n     <use style=\"fill:#ffa500;stroke:#ffa500;stroke-linejoin:miter;\" x=\"134.437993\" xlink:href=\"#m1a583079ba\" y=\"413.998125\"/>\n     <use style=\"fill:#ffa500;stroke:#ffa500;stroke-linejoin:miter;\" x=\"134.437993\" xlink:href=\"#m1a583079ba\" y=\"413.998125\"/>\n     <use style=\"fill:#ffa500;stroke:#ffa500;stroke-linejoin:miter;\" x=\"134.549584\" xlink:href=\"#m1a583079ba\" y=\"413.998125\"/>\n     <use style=\"fill:#ffa500;stroke:#ffa500;stroke-linejoin:miter;\" x=\"134.549584\" xlink:href=\"#m1a583079ba\" y=\"413.998125\"/>\n     <use style=\"fill:#ffa500;stroke:#ffa500;stroke-linejoin:miter;\" x=\"134.552373\" xlink:href=\"#m1a583079ba\" y=\"413.993589\"/>\n     <use style=\"fill:#ffa500;stroke:#ffa500;stroke-linejoin:miter;\" x=\"139.317268\" xlink:href=\"#m1a583079ba\" y=\"413.993589\"/>\n     <use style=\"fill:#ffa500;stroke:#ffa500;stroke-linejoin:miter;\" x=\"139.568346\" xlink:href=\"#m1a583079ba\" y=\"413.993589\"/>\n     <use style=\"fill:#ffa500;stroke:#ffa500;stroke-linejoin:miter;\" x=\"139.568346\" xlink:href=\"#m1a583079ba\" y=\"413.993589\"/>\n     <use style=\"fill:#ffa500;stroke:#ffa500;stroke-linejoin:miter;\" x=\"139.571136\" xlink:href=\"#m1a583079ba\" y=\"413.993589\"/>\n     <use style=\"fill:#ffa500;stroke:#ffa500;stroke-linejoin:miter;\" x=\"139.571136\" xlink:href=\"#m1a583079ba\" y=\"413.993589\"/>\n     <use style=\"fill:#ffa500;stroke:#ffa500;stroke-linejoin:miter;\" x=\"139.682726\" xlink:href=\"#m1a583079ba\" y=\"413.993589\"/>\n     <use style=\"fill:#ffa500;stroke:#ffa500;stroke-linejoin:miter;\" x=\"139.682726\" xlink:href=\"#m1a583079ba\" y=\"413.993589\"/>\n     <use style=\"fill:#ffa500;stroke:#ffa500;stroke-linejoin:miter;\" x=\"139.685515\" xlink:href=\"#m1a583079ba\" y=\"413.989053\"/>\n     <use style=\"fill:#ffa500;stroke:#ffa500;stroke-linejoin:miter;\" x=\"146.69616\" xlink:href=\"#m1a583079ba\" y=\"413.989053\"/>\n     <use style=\"fill:#ffa500;stroke:#ffa500;stroke-linejoin:miter;\" x=\"148.955858\" xlink:href=\"#m1a583079ba\" y=\"413.989053\"/>\n     <use style=\"fill:#ffa500;stroke:#ffa500;stroke-linejoin:miter;\" x=\"148.955858\" xlink:href=\"#m1a583079ba\" y=\"413.989053\"/>\n     <use style=\"fill:#ffa500;stroke:#ffa500;stroke-linejoin:miter;\" x=\"148.962833\" xlink:href=\"#m1a583079ba\" y=\"413.989053\"/>\n     <use style=\"fill:#ffa500;stroke:#ffa500;stroke-linejoin:miter;\" x=\"148.962833\" xlink:href=\"#m1a583079ba\" y=\"413.989053\"/>\n     <use style=\"fill:#ffa500;stroke:#ffa500;stroke-linejoin:miter;\" x=\"149.241808\" xlink:href=\"#m1a583079ba\" y=\"413.989053\"/>\n     <use style=\"fill:#ffa500;stroke:#ffa500;stroke-linejoin:miter;\" x=\"149.241808\" xlink:href=\"#m1a583079ba\" y=\"413.989053\"/>\n     <use style=\"fill:#ffa500;stroke:#ffa500;stroke-linejoin:miter;\" x=\"149.248782\" xlink:href=\"#m1a583079ba\" y=\"413.977714\"/>\n     <use style=\"fill:#ffa500;stroke:#ffa500;stroke-linejoin:miter;\" x=\"149.039551\" xlink:href=\"#m1a583079ba\" y=\"413.977714\"/>\n     <use style=\"fill:#ffa500;stroke:#ffa500;stroke-linejoin:miter;\" x=\"149.116269\" xlink:href=\"#m1a583079ba\" y=\"413.977714\"/>\n     <use style=\"fill:#ffa500;stroke:#ffa500;stroke-linejoin:miter;\" x=\"149.116269\" xlink:href=\"#m1a583079ba\" y=\"413.977714\"/>\n     <use style=\"fill:#ffa500;stroke:#ffa500;stroke-linejoin:miter;\" x=\"149.128823\" xlink:href=\"#m1a583079ba\" y=\"413.977714\"/>\n     <use style=\"fill:#ffa500;stroke:#ffa500;stroke-linejoin:miter;\" x=\"149.128823\" xlink:href=\"#m1a583079ba\" y=\"413.977714\"/>\n     <use style=\"fill:#ffa500;stroke:#ffa500;stroke-linejoin:miter;\" x=\"149.141377\" xlink:href=\"#m1a583079ba\" y=\"413.641957\"/>\n     <use style=\"fill:#ffa500;stroke:#ffa500;stroke-linejoin:miter;\" x=\"149.206936\" xlink:href=\"#m1a583079ba\" y=\"413.641957\"/>\n     <use style=\"fill:#ffa500;stroke:#ffa500;stroke-linejoin:miter;\" x=\"155.232799\" xlink:href=\"#m1a583079ba\" y=\"413.641957\"/>\n     <use style=\"fill:#ffa500;stroke:#ffa500;stroke-linejoin:miter;\" x=\"155.232799\" xlink:href=\"#m1a583079ba\" y=\"413.641957\"/>\n     <use style=\"fill:#ffa500;stroke:#ffa500;stroke-linejoin:miter;\" x=\"156.125519\" xlink:href=\"#m1a583079ba\" y=\"413.641957\"/>\n     <use style=\"fill:#ffa500;stroke:#ffa500;stroke-linejoin:miter;\" x=\"156.125519\" xlink:href=\"#m1a583079ba\" y=\"413.641957\"/>\n     <use style=\"fill:#ffa500;stroke:#ffa500;stroke-linejoin:miter;\" x=\"156.147837\" xlink:href=\"#m1a583079ba\" y=\"413.513262\"/>\n     <use style=\"fill:#ffa500;stroke:#ffa500;stroke-linejoin:miter;\" x=\"157.199573\" xlink:href=\"#m1a583079ba\" y=\"413.513262\"/>\n     <use style=\"fill:#ffa500;stroke:#ffa500;stroke-linejoin:miter;\" x=\"157.325112\" xlink:href=\"#m1a583079ba\" y=\"413.513262\"/>\n     <use style=\"fill:#ffa500;stroke:#ffa500;stroke-linejoin:miter;\" x=\"157.325112\" xlink:href=\"#m1a583079ba\" y=\"413.513262\"/>\n     <use style=\"fill:#ffa500;stroke:#ffa500;stroke-linejoin:miter;\" x=\"157.450651\" xlink:href=\"#m1a583079ba\" y=\"413.513262\"/>\n     <use style=\"fill:#ffa500;stroke:#ffa500;stroke-linejoin:miter;\" x=\"157.450651\" xlink:href=\"#m1a583079ba\" y=\"413.513262\"/>\n     <use style=\"fill:#ffa500;stroke:#ffa500;stroke-linejoin:miter;\" x=\"157.57619\" xlink:href=\"#m1a583079ba\" y=\"410.155697\"/>\n     <use style=\"fill:#ffa500;stroke:#ffa500;stroke-linejoin:miter;\" x=\"157.450651\" xlink:href=\"#m1a583079ba\" y=\"410.155697\"/>\n     <use style=\"fill:#ffa500;stroke:#ffa500;stroke-linejoin:miter;\" x=\"157.57619\" xlink:href=\"#m1a583079ba\" y=\"410.155697\"/>\n     <use style=\"fill:#ffa500;stroke:#ffa500;stroke-linejoin:miter;\" x=\"157.57619\" xlink:href=\"#m1a583079ba\" y=\"410.155697\"/>\n     <use style=\"fill:#ffa500;stroke:#ffa500;stroke-linejoin:miter;\" x=\"157.701728\" xlink:href=\"#m1a583079ba\" y=\"410.155697\"/>\n     <use style=\"fill:#ffa500;stroke:#ffa500;stroke-linejoin:miter;\" x=\"157.701728\" xlink:href=\"#m1a583079ba\" y=\"410.155697\"/>\n     <use style=\"fill:#ffa500;stroke:#ffa500;stroke-linejoin:miter;\" x=\"157.827267\" xlink:href=\"#m1a583079ba\" y=\"406.798131\"/>\n     <use style=\"fill:#ffa500;stroke:#ffa500;stroke-linejoin:miter;\" x=\"157.701728\" xlink:href=\"#m1a583079ba\" y=\"406.798131\"/>\n     <use style=\"fill:#ffa500;stroke:#ffa500;stroke-linejoin:miter;\" x=\"157.945832\" xlink:href=\"#m1a583079ba\" y=\"406.798131\"/>\n     <use style=\"fill:#ffa500;stroke:#ffa500;stroke-linejoin:miter;\" x=\"157.945832\" xlink:href=\"#m1a583079ba\" y=\"406.798131\"/>\n     <use style=\"fill:#ffa500;stroke:#ffa500;stroke-linejoin:miter;\" x=\"157.980703\" xlink:href=\"#m1a583079ba\" y=\"406.798131\"/>\n     <use style=\"fill:#ffa500;stroke:#ffa500;stroke-linejoin:miter;\" x=\"157.980703\" xlink:href=\"#m1a583079ba\" y=\"406.798131\"/>\n     <use style=\"fill:#ffa500;stroke:#ffa500;stroke-linejoin:miter;\" x=\"158.015575\" xlink:href=\"#m1a583079ba\" y=\"405.865474\"/>\n     <use style=\"fill:#ffa500;stroke:#ffa500;stroke-linejoin:miter;\" x=\"158.078345\" xlink:href=\"#m1a583079ba\" y=\"405.865474\"/>\n     <use style=\"fill:#ffa500;stroke:#ffa500;stroke-linejoin:miter;\" x=\"158.329422\" xlink:href=\"#m1a583079ba\" y=\"405.865474\"/>\n     <use style=\"fill:#ffa500;stroke:#ffa500;stroke-linejoin:miter;\" x=\"158.329422\" xlink:href=\"#m1a583079ba\" y=\"405.865474\"/>\n     <use style=\"fill:#ffa500;stroke:#ffa500;stroke-linejoin:miter;\" x=\"158.379638\" xlink:href=\"#m1a583079ba\" y=\"405.865474\"/>\n     <use style=\"fill:#ffa500;stroke:#ffa500;stroke-linejoin:miter;\" x=\"158.379638\" xlink:href=\"#m1a583079ba\" y=\"405.865474\"/>\n     <use style=\"fill:#ffa500;stroke:#ffa500;stroke-linejoin:miter;\" x=\"158.429853\" xlink:href=\"#m1a583079ba\" y=\"404.522448\"/>\n     <use style=\"fill:#ffa500;stroke:#ffa500;stroke-linejoin:miter;\" x=\"158.747885\" xlink:href=\"#m1a583079ba\" y=\"404.522448\"/>\n     <use style=\"fill:#ffa500;stroke:#ffa500;stroke-linejoin:miter;\" x=\"158.873424\" xlink:href=\"#m1a583079ba\" y=\"404.522448\"/>\n     <use style=\"fill:#ffa500;stroke:#ffa500;stroke-linejoin:miter;\" x=\"158.873424\" xlink:href=\"#m1a583079ba\" y=\"404.522448\"/>\n     <use style=\"fill:#ffa500;stroke:#ffa500;stroke-linejoin:miter;\" x=\"158.998963\" xlink:href=\"#m1a583079ba\" y=\"404.522448\"/>\n     <use style=\"fill:#ffa500;stroke:#ffa500;stroke-linejoin:miter;\" x=\"158.998963\" xlink:href=\"#m1a583079ba\" y=\"404.522448\"/>\n     <use style=\"fill:#ffa500;stroke:#ffa500;stroke-linejoin:miter;\" x=\"159.124501\" xlink:href=\"#m1a583079ba\" y=\"401.164882\"/>\n     <use style=\"fill:#ffa500;stroke:#ffa500;stroke-linejoin:miter;\" x=\"159.082655\" xlink:href=\"#m1a583079ba\" y=\"401.164882\"/>\n     <use style=\"fill:#ffa500;stroke:#ffa500;stroke-linejoin:miter;\" x=\"159.58481\" xlink:href=\"#m1a583079ba\" y=\"401.164882\"/>\n     <use style=\"fill:#ffa500;stroke:#ffa500;stroke-linejoin:miter;\" x=\"159.58481\" xlink:href=\"#m1a583079ba\" y=\"401.164882\"/>\n     <use style=\"fill:#ffa500;stroke:#ffa500;stroke-linejoin:miter;\" x=\"159.612708\" xlink:href=\"#m1a583079ba\" y=\"401.164882\"/>\n     <use style=\"fill:#ffa500;stroke:#ffa500;stroke-linejoin:miter;\" x=\"159.612708\" xlink:href=\"#m1a583079ba\" y=\"401.164882\"/>\n     <use style=\"fill:#ffa500;stroke:#ffa500;stroke-linejoin:miter;\" x=\"159.640605\" xlink:href=\"#m1a583079ba\" y=\"401.164882\"/>\n     <use style=\"fill:#ffa500;stroke:#ffa500;stroke-linejoin:miter;\" x=\"159.640605\" xlink:href=\"#m1a583079ba\" y=\"401.164882\"/>\n     <use style=\"fill:#ffa500;stroke:#ffa500;stroke-linejoin:miter;\" x=\"159.668503\" xlink:href=\"#m1a583079ba\" y=\"401.085834\"/>\n     <use style=\"fill:#ffa500;stroke:#ffa500;stroke-linejoin:miter;\" x=\"159.752195\" xlink:href=\"#m1a583079ba\" y=\"401.085834\"/>\n     <use style=\"fill:#ffa500;stroke:#ffa500;stroke-linejoin:miter;\" x=\"163.769437\" xlink:href=\"#m1a583079ba\" y=\"401.085834\"/>\n     <use style=\"fill:#ffa500;stroke:#ffa500;stroke-linejoin:miter;\" x=\"163.769437\" xlink:href=\"#m1a583079ba\" y=\"401.085834\"/>\n     <use style=\"fill:#ffa500;stroke:#ffa500;stroke-linejoin:miter;\" x=\"163.797335\" xlink:href=\"#m1a583079ba\" y=\"401.085834\"/>\n     <use style=\"fill:#ffa500;stroke:#ffa500;stroke-linejoin:miter;\" x=\"163.797335\" xlink:href=\"#m1a583079ba\" y=\"401.085834\"/>\n     <use style=\"fill:#ffa500;stroke:#ffa500;stroke-linejoin:miter;\" x=\"163.825232\" xlink:href=\"#m1a583079ba\" y=\"400.339708\"/>\n     <use style=\"fill:#ffa500;stroke:#ffa500;stroke-linejoin:miter;\" x=\"163.825232\" xlink:href=\"#m1a583079ba\" y=\"400.339708\"/>\n     <use style=\"fill:#ffa500;stroke:#ffa500;stroke-linejoin:miter;\" x=\"163.908925\" xlink:href=\"#m1a583079ba\" y=\"413.998125\"/>\n     <use style=\"fill:#ffa500;stroke:#ffa500;stroke-linejoin:miter;\" x=\"176.825473\" xlink:href=\"#m1a583079ba\" y=\"413.998125\"/>\n     <use style=\"fill:#ffa500;stroke:#ffa500;stroke-linejoin:miter;\" x=\"176.951011\" xlink:href=\"#m1a583079ba\" y=\"413.998125\"/>\n     <use style=\"fill:#ffa500;stroke:#ffa500;stroke-linejoin:miter;\" x=\"176.951011\" xlink:href=\"#m1a583079ba\" y=\"413.998125\"/>\n     <use style=\"fill:#ffa500;stroke:#ffa500;stroke-linejoin:miter;\" x=\"177.07655\" xlink:href=\"#m1a583079ba\" y=\"413.998125\"/>\n     <use style=\"fill:#ffa500;stroke:#ffa500;stroke-linejoin:miter;\" x=\"177.07655\" xlink:href=\"#m1a583079ba\" y=\"413.998125\"/>\n     <use style=\"fill:#ffa500;stroke:#ffa500;stroke-linejoin:miter;\" x=\"177.202089\" xlink:href=\"#m1a583079ba\" y=\"410.64056\"/>\n     <use style=\"fill:#ffa500;stroke:#ffa500;stroke-linejoin:miter;\" x=\"177.327628\" xlink:href=\"#m1a583079ba\" y=\"410.64056\"/>\n     <use style=\"fill:#ffa500;stroke:#ffa500;stroke-linejoin:miter;\" x=\"177.404346\" xlink:href=\"#m1a583079ba\" y=\"410.64056\"/>\n     <use style=\"fill:#ffa500;stroke:#ffa500;stroke-linejoin:miter;\" x=\"177.404346\" xlink:href=\"#m1a583079ba\" y=\"410.64056\"/>\n     <use style=\"fill:#ffa500;stroke:#ffa500;stroke-linejoin:miter;\" x=\"177.4169\" xlink:href=\"#m1a583079ba\" y=\"410.64056\"/>\n     <use style=\"fill:#ffa500;stroke:#ffa500;stroke-linejoin:miter;\" x=\"177.4169\" xlink:href=\"#m1a583079ba\" y=\"410.64056\"/>\n     <use style=\"fill:#ffa500;stroke:#ffa500;stroke-linejoin:miter;\" x=\"177.429454\" xlink:href=\"#m1a583079ba\" y=\"410.304803\"/>\n     <use style=\"fill:#ffa500;stroke:#ffa500;stroke-linejoin:miter;\" x=\"176.825473\" xlink:href=\"#m1a583079ba\" y=\"410.304803\"/>\n     <use style=\"fill:#ffa500;stroke:#ffa500;stroke-linejoin:miter;\" x=\"200.928922\" xlink:href=\"#m1a583079ba\" y=\"410.304803\"/>\n     <use style=\"fill:#ffa500;stroke:#ffa500;stroke-linejoin:miter;\" x=\"200.928922\" xlink:href=\"#m1a583079ba\" y=\"410.304803\"/>\n     <use style=\"fill:#ffa500;stroke:#ffa500;stroke-linejoin:miter;\" x=\"200.995877\" xlink:href=\"#m1a583079ba\" y=\"410.304803\"/>\n     <use style=\"fill:#ffa500;stroke:#ffa500;stroke-linejoin:miter;\" x=\"200.995877\" xlink:href=\"#m1a583079ba\" y=\"410.304803\"/>\n     <use style=\"fill:#ffa500;stroke:#ffa500;stroke-linejoin:miter;\" x=\"203.674038\" xlink:href=\"#m1a583079ba\" y=\"410.304803\"/>\n     <use style=\"fill:#ffa500;stroke:#ffa500;stroke-linejoin:miter;\" x=\"203.674038\" xlink:href=\"#m1a583079ba\" y=\"410.304803\"/>\n     <use style=\"fill:#ffa500;stroke:#ffa500;stroke-linejoin:miter;\" x=\"203.740992\" xlink:href=\"#m1a583079ba\" y=\"410.00535\"/>\n     <use style=\"fill:#ffa500;stroke:#ffa500;stroke-linejoin:miter;\" x=\"194.90306\" xlink:href=\"#m1a583079ba\" y=\"410.00535\"/>\n     <use style=\"fill:#ffa500;stroke:#ffa500;stroke-linejoin:miter;\" x=\"195.028599\" xlink:href=\"#m1a583079ba\" y=\"410.00535\"/>\n     <use style=\"fill:#ffa500;stroke:#ffa500;stroke-linejoin:miter;\" x=\"195.028599\" xlink:href=\"#m1a583079ba\" y=\"410.00535\"/>\n     <use style=\"fill:#ffa500;stroke:#ffa500;stroke-linejoin:miter;\" x=\"195.154138\" xlink:href=\"#m1a583079ba\" y=\"410.00535\"/>\n     <use style=\"fill:#ffa500;stroke:#ffa500;stroke-linejoin:miter;\" x=\"195.028599\" xlink:href=\"#m1a583079ba\" y=\"410.00535\"/>\n     <use style=\"fill:#ffa500;stroke:#ffa500;stroke-linejoin:miter;\" x=\"195.154138\" xlink:href=\"#m1a583079ba\" y=\"410.00535\"/>\n     <use style=\"fill:#ffa500;stroke:#ffa500;stroke-linejoin:miter;\" x=\"202.937543\" xlink:href=\"#m1a583079ba\" y=\"410.00535\"/>\n     <use style=\"fill:#ffa500;stroke:#ffa500;stroke-linejoin:miter;\" x=\"203.063082\" xlink:href=\"#m1a583079ba\" y=\"410.00535\"/>\n     <use style=\"fill:#ffa500;stroke:#ffa500;stroke-linejoin:miter;\" x=\"203.063082\" xlink:href=\"#m1a583079ba\" y=\"410.00535\"/>\n     <use style=\"fill:#ffa500;stroke:#ffa500;stroke-linejoin:miter;\" x=\"208.084634\" xlink:href=\"#m1a583079ba\" y=\"410.00535\"/>\n     <use style=\"fill:#ffa500;stroke:#ffa500;stroke-linejoin:miter;\" x=\"208.084634\" xlink:href=\"#m1a583079ba\" y=\"410.00535\"/>\n     <use style=\"fill:#ffa500;stroke:#ffa500;stroke-linejoin:miter;\" x=\"208.210173\" xlink:href=\"#m1a583079ba\" y=\"409.558665\"/>\n     <use style=\"fill:#ffa500;stroke:#ffa500;stroke-linejoin:miter;\" x=\"203.439699\" xlink:href=\"#m1a583079ba\" y=\"409.558665\"/>\n     <use style=\"fill:#ffa500;stroke:#ffa500;stroke-linejoin:miter;\" x=\"203.565237\" xlink:href=\"#m1a583079ba\" y=\"409.558665\"/>\n     <use style=\"fill:#ffa500;stroke:#ffa500;stroke-linejoin:miter;\" x=\"203.565237\" xlink:href=\"#m1a583079ba\" y=\"409.558665\"/>\n     <use style=\"fill:#ffa500;stroke:#ffa500;stroke-linejoin:miter;\" x=\"204.569548\" xlink:href=\"#m1a583079ba\" y=\"409.558665\"/>\n     <use style=\"fill:#ffa500;stroke:#ffa500;stroke-linejoin:miter;\" x=\"204.569548\" xlink:href=\"#m1a583079ba\" y=\"409.558665\"/>\n     <use style=\"fill:#ffa500;stroke:#ffa500;stroke-linejoin:miter;\" x=\"204.594655\" xlink:href=\"#m1a583079ba\" y=\"409.48319\"/>\n     <use style=\"fill:#ffa500;stroke:#ffa500;stroke-linejoin:miter;\" x=\"213.73388\" xlink:href=\"#m1a583079ba\" y=\"409.48319\"/>\n     <use style=\"fill:#ffa500;stroke:#ffa500;stroke-linejoin:miter;\" x=\"216.997889\" xlink:href=\"#m1a583079ba\" y=\"409.48319\"/>\n     <use style=\"fill:#ffa500;stroke:#ffa500;stroke-linejoin:miter;\" x=\"216.997889\" xlink:href=\"#m1a583079ba\" y=\"409.48319\"/>\n     <use style=\"fill:#ffa500;stroke:#ffa500;stroke-linejoin:miter;\" x=\"243.10996\" xlink:href=\"#m1a583079ba\" y=\"409.48319\"/>\n     <use style=\"fill:#ffa500;stroke:#ffa500;stroke-linejoin:miter;\" x=\"243.10996\" xlink:href=\"#m1a583079ba\" y=\"409.48319\"/>\n     <use style=\"fill:#ffa500;stroke:#ffa500;stroke-linejoin:miter;\" x=\"243.762762\" xlink:href=\"#m1a583079ba\" y=\"407.520823\"/>\n     <use style=\"fill:#ffa500;stroke:#ffa500;stroke-linejoin:miter;\" x=\"214.989268\" xlink:href=\"#m1a583079ba\" y=\"407.520823\"/>\n     <use style=\"fill:#ffa500;stroke:#ffa500;stroke-linejoin:miter;\" x=\"389.739281\" xlink:href=\"#m1a583079ba\" y=\"407.520823\"/>\n     <use style=\"fill:#ffa500;stroke:#ffa500;stroke-linejoin:miter;\" x=\"389.739281\" xlink:href=\"#m1a583079ba\" y=\"407.520823\"/>\n     <use style=\"fill:#ffa500;stroke:#ffa500;stroke-linejoin:miter;\" x=\"390.224697\" xlink:href=\"#m1a583079ba\" y=\"407.520823\"/>\n     <use style=\"fill:#ffa500;stroke:#ffa500;stroke-linejoin:miter;\" x=\"390.224697\" xlink:href=\"#m1a583079ba\" y=\"407.520823\"/>\n     <use style=\"fill:#ffa500;stroke:#ffa500;stroke-linejoin:miter;\" x=\"409.641365\" xlink:href=\"#m1a583079ba\" y=\"407.520823\"/>\n     <use style=\"fill:#ffa500;stroke:#ffa500;stroke-linejoin:miter;\" x=\"409.641365\" xlink:href=\"#m1a583079ba\" y=\"407.520823\"/>\n     <use style=\"fill:#ffa500;stroke:#ffa500;stroke-linejoin:miter;\" x=\"410.126782\" xlink:href=\"#m1a583079ba\" y=\"406.999578\"/>\n    </g>\n   </g>\n   <g id=\"line2d_34\">\n    <path clip-path=\"url(#pa37799d7b0)\" d=\"M 46.965625 296.494125 \nL 427.42017 296.494125 \n\" style=\"fill:none;stroke:#000000;stroke-dasharray:7.4,3.2;stroke-dashoffset:0;stroke-width:2;\"/>\n   </g>\n   <g id=\"patch_3\">\n    <path d=\"M 46.965625 413.998125 \nL 46.965625 22.318125 \n\" style=\"fill:none;stroke:#000000;stroke-linecap:square;stroke-linejoin:miter;stroke-width:0.8;\"/>\n   </g>\n   <g id=\"patch_4\">\n    <path d=\"M 427.42017 413.998125 \nL 427.42017 22.318125 \n\" style=\"fill:none;stroke:#000000;stroke-linecap:square;stroke-linejoin:miter;stroke-width:0.8;\"/>\n   </g>\n   <g id=\"patch_5\">\n    <path d=\"M 46.965625 413.998125 \nL 427.42017 413.998125 \n\" style=\"fill:none;stroke:#000000;stroke-linecap:square;stroke-linejoin:miter;stroke-width:0.8;\"/>\n   </g>\n   <g id=\"patch_6\">\n    <path d=\"M 46.965625 22.318125 \nL 427.42017 22.318125 \n\" style=\"fill:none;stroke:#000000;stroke-linecap:square;stroke-linejoin:miter;stroke-width:0.8;\"/>\n   </g>\n   <g id=\"text_18\">\n    <!-- Partition 1 -->\n    <g transform=\"translate(206.465398 16.318125)scale(0.12 -0.12)\">\n     <defs>\n      <path d=\"M 19.671875 64.796875 \nL 19.671875 37.40625 \nL 32.078125 37.40625 \nQ 38.96875 37.40625 42.71875 40.96875 \nQ 46.484375 44.53125 46.484375 51.125 \nQ 46.484375 57.671875 42.71875 61.234375 \nQ 38.96875 64.796875 32.078125 64.796875 \nz\nM 9.8125 72.90625 \nL 32.078125 72.90625 \nQ 44.34375 72.90625 50.609375 67.359375 \nQ 56.890625 61.8125 56.890625 51.125 \nQ 56.890625 40.328125 50.609375 34.8125 \nQ 44.34375 29.296875 32.078125 29.296875 \nL 19.671875 29.296875 \nL 19.671875 0 \nL 9.8125 0 \nz\n\" id=\"DejaVuSans-80\"/>\n      <path d=\"M 9.421875 54.6875 \nL 18.40625 54.6875 \nL 18.40625 0 \nL 9.421875 0 \nz\nM 9.421875 75.984375 \nL 18.40625 75.984375 \nL 18.40625 64.59375 \nL 9.421875 64.59375 \nz\n\" id=\"DejaVuSans-105\"/>\n      <path d=\"M 54.890625 33.015625 \nL 54.890625 0 \nL 45.90625 0 \nL 45.90625 32.71875 \nQ 45.90625 40.484375 42.875 44.328125 \nQ 39.84375 48.1875 33.796875 48.1875 \nQ 26.515625 48.1875 22.3125 43.546875 \nQ 18.109375 38.921875 18.109375 30.90625 \nL 18.109375 0 \nL 9.078125 0 \nL 9.078125 54.6875 \nL 18.109375 54.6875 \nL 18.109375 46.1875 \nQ 21.34375 51.125 25.703125 53.5625 \nQ 30.078125 56 35.796875 56 \nQ 45.21875 56 50.046875 50.171875 \nQ 54.890625 44.34375 54.890625 33.015625 \nz\n\" id=\"DejaVuSans-110\"/>\n     </defs>\n     <use xlink:href=\"#DejaVuSans-80\"/>\n     <use x=\"55.802734\" xlink:href=\"#DejaVuSans-97\"/>\n     <use x=\"117.082031\" xlink:href=\"#DejaVuSans-114\"/>\n     <use x=\"158.195312\" xlink:href=\"#DejaVuSans-116\"/>\n     <use x=\"197.404297\" xlink:href=\"#DejaVuSans-105\"/>\n     <use x=\"225.1875\" xlink:href=\"#DejaVuSans-116\"/>\n     <use x=\"264.396484\" xlink:href=\"#DejaVuSans-105\"/>\n     <use x=\"292.179688\" xlink:href=\"#DejaVuSans-111\"/>\n     <use x=\"353.361328\" xlink:href=\"#DejaVuSans-110\"/>\n     <use x=\"416.740234\" xlink:href=\"#DejaVuSans-32\"/>\n     <use x=\"448.527344\" xlink:href=\"#DejaVuSans-49\"/>\n    </g>\n   </g>\n  </g>\n  <g id=\"axes_2\">\n   <g id=\"patch_7\">\n    <path d=\"M 503.51108 413.998125 \nL 883.965625 413.998125 \nL 883.965625 22.318125 \nL 503.51108 22.318125 \nz\n\" style=\"fill:#ffffff;\"/>\n   </g>\n   <g id=\"matplotlib.axis_3\">\n    <g id=\"xtick_7\">\n     <g id=\"line2d_35\">\n      <path clip-path=\"url(#p6587767e24)\" d=\"M 544.99161 413.998125 \nL 544.99161 22.318125 \n\" style=\"fill:none;stroke:#b0b0b0;stroke-linecap:square;stroke-width:0.8;\"/>\n     </g>\n     <g id=\"line2d_36\">\n      <g>\n       <use style=\"stroke:#000000;stroke-width:0.8;\" x=\"544.99161\" xlink:href=\"#m431c5cce03\" y=\"413.998125\"/>\n      </g>\n     </g>\n     <g id=\"text_19\">\n      <!-- 2022-02 -->\n      <g transform=\"translate(507.76679 448.469971)rotate(-30)scale(0.1 -0.1)\">\n       <use xlink:href=\"#DejaVuSans-50\"/>\n       <use x=\"63.623047\" xlink:href=\"#DejaVuSans-48\"/>\n       <use x=\"127.246094\" xlink:href=\"#DejaVuSans-50\"/>\n       <use x=\"190.869141\" xlink:href=\"#DejaVuSans-50\"/>\n       <use x=\"254.492188\" xlink:href=\"#DejaVuSans-45\"/>\n       <use x=\"290.576172\" xlink:href=\"#DejaVuSans-48\"/>\n       <use x=\"354.199219\" xlink:href=\"#DejaVuSans-50\"/>\n      </g>\n     </g>\n    </g>\n    <g id=\"xtick_8\">\n     <g id=\"line2d_37\">\n      <path clip-path=\"url(#p6587767e24)\" d=\"M 601.232994 413.998125 \nL 601.232994 22.318125 \n\" style=\"fill:none;stroke:#b0b0b0;stroke-linecap:square;stroke-width:0.8;\"/>\n     </g>\n     <g id=\"line2d_38\">\n      <g>\n       <use style=\"stroke:#000000;stroke-width:0.8;\" x=\"601.232994\" xlink:href=\"#m431c5cce03\" y=\"413.998125\"/>\n      </g>\n     </g>\n     <g id=\"text_20\">\n      <!-- 2022-03 -->\n      <g transform=\"translate(564.008173 448.469971)rotate(-30)scale(0.1 -0.1)\">\n       <use xlink:href=\"#DejaVuSans-50\"/>\n       <use x=\"63.623047\" xlink:href=\"#DejaVuSans-48\"/>\n       <use x=\"127.246094\" xlink:href=\"#DejaVuSans-50\"/>\n       <use x=\"190.869141\" xlink:href=\"#DejaVuSans-50\"/>\n       <use x=\"254.492188\" xlink:href=\"#DejaVuSans-45\"/>\n       <use x=\"290.576172\" xlink:href=\"#DejaVuSans-48\"/>\n       <use x=\"354.199219\" xlink:href=\"#DejaVuSans-51\"/>\n      </g>\n     </g>\n    </g>\n    <g id=\"xtick_9\">\n     <g id=\"line2d_39\">\n      <path clip-path=\"url(#p6587767e24)\" d=\"M 663.50024 413.998125 \nL 663.50024 22.318125 \n\" style=\"fill:none;stroke:#b0b0b0;stroke-linecap:square;stroke-width:0.8;\"/>\n     </g>\n     <g id=\"line2d_40\">\n      <g>\n       <use style=\"stroke:#000000;stroke-width:0.8;\" x=\"663.50024\" xlink:href=\"#m431c5cce03\" y=\"413.998125\"/>\n      </g>\n     </g>\n     <g id=\"text_21\">\n      <!-- 2022-04 -->\n      <g transform=\"translate(626.275419 448.469971)rotate(-30)scale(0.1 -0.1)\">\n       <use xlink:href=\"#DejaVuSans-50\"/>\n       <use x=\"63.623047\" xlink:href=\"#DejaVuSans-48\"/>\n       <use x=\"127.246094\" xlink:href=\"#DejaVuSans-50\"/>\n       <use x=\"190.869141\" xlink:href=\"#DejaVuSans-50\"/>\n       <use x=\"254.492188\" xlink:href=\"#DejaVuSans-45\"/>\n       <use x=\"290.576172\" xlink:href=\"#DejaVuSans-48\"/>\n       <use x=\"354.199219\" xlink:href=\"#DejaVuSans-52\"/>\n      </g>\n     </g>\n    </g>\n    <g id=\"xtick_10\">\n     <g id=\"line2d_41\">\n      <path clip-path=\"url(#p6587767e24)\" d=\"M 723.758864 413.998125 \nL 723.758864 22.318125 \n\" style=\"fill:none;stroke:#b0b0b0;stroke-linecap:square;stroke-width:0.8;\"/>\n     </g>\n     <g id=\"line2d_42\">\n      <g>\n       <use style=\"stroke:#000000;stroke-width:0.8;\" x=\"723.758864\" xlink:href=\"#m431c5cce03\" y=\"413.998125\"/>\n      </g>\n     </g>\n     <g id=\"text_22\">\n      <!-- 2022-05 -->\n      <g transform=\"translate(686.534044 448.469971)rotate(-30)scale(0.1 -0.1)\">\n       <use xlink:href=\"#DejaVuSans-50\"/>\n       <use x=\"63.623047\" xlink:href=\"#DejaVuSans-48\"/>\n       <use x=\"127.246094\" xlink:href=\"#DejaVuSans-50\"/>\n       <use x=\"190.869141\" xlink:href=\"#DejaVuSans-50\"/>\n       <use x=\"254.492188\" xlink:href=\"#DejaVuSans-45\"/>\n       <use x=\"290.576172\" xlink:href=\"#DejaVuSans-48\"/>\n       <use x=\"354.199219\" xlink:href=\"#DejaVuSans-53\"/>\n      </g>\n     </g>\n    </g>\n    <g id=\"xtick_11\">\n     <g id=\"line2d_43\">\n      <path clip-path=\"url(#p6587767e24)\" d=\"M 786.02611 413.998125 \nL 786.02611 22.318125 \n\" style=\"fill:none;stroke:#b0b0b0;stroke-linecap:square;stroke-width:0.8;\"/>\n     </g>\n     <g id=\"line2d_44\">\n      <g>\n       <use style=\"stroke:#000000;stroke-width:0.8;\" x=\"786.02611\" xlink:href=\"#m431c5cce03\" y=\"413.998125\"/>\n      </g>\n     </g>\n     <g id=\"text_23\">\n      <!-- 2022-06 -->\n      <g transform=\"translate(748.801289 448.469971)rotate(-30)scale(0.1 -0.1)\">\n       <use xlink:href=\"#DejaVuSans-50\"/>\n       <use x=\"63.623047\" xlink:href=\"#DejaVuSans-48\"/>\n       <use x=\"127.246094\" xlink:href=\"#DejaVuSans-50\"/>\n       <use x=\"190.869141\" xlink:href=\"#DejaVuSans-50\"/>\n       <use x=\"254.492188\" xlink:href=\"#DejaVuSans-45\"/>\n       <use x=\"290.576172\" xlink:href=\"#DejaVuSans-48\"/>\n       <use x=\"354.199219\" xlink:href=\"#DejaVuSans-54\"/>\n      </g>\n     </g>\n    </g>\n    <g id=\"xtick_12\">\n     <g id=\"line2d_45\">\n      <path clip-path=\"url(#p6587767e24)\" d=\"M 846.284735 413.998125 \nL 846.284735 22.318125 \n\" style=\"fill:none;stroke:#b0b0b0;stroke-linecap:square;stroke-width:0.8;\"/>\n     </g>\n     <g id=\"line2d_46\">\n      <g>\n       <use style=\"stroke:#000000;stroke-width:0.8;\" x=\"846.284735\" xlink:href=\"#m431c5cce03\" y=\"413.998125\"/>\n      </g>\n     </g>\n     <g id=\"text_24\">\n      <!-- 2022-07 -->\n      <g transform=\"translate(809.059914 448.469971)rotate(-30)scale(0.1 -0.1)\">\n       <use xlink:href=\"#DejaVuSans-50\"/>\n       <use x=\"63.623047\" xlink:href=\"#DejaVuSans-48\"/>\n       <use x=\"127.246094\" xlink:href=\"#DejaVuSans-50\"/>\n       <use x=\"190.869141\" xlink:href=\"#DejaVuSans-50\"/>\n       <use x=\"254.492188\" xlink:href=\"#DejaVuSans-45\"/>\n       <use x=\"290.576172\" xlink:href=\"#DejaVuSans-48\"/>\n       <use x=\"354.199219\" xlink:href=\"#DejaVuSans-55\"/>\n      </g>\n     </g>\n    </g>\n    <g id=\"text_25\">\n     <!-- date -->\n     <g transform=\"translate(682.463352 461.869471)scale(0.1 -0.1)\">\n      <use xlink:href=\"#DejaVuSans-100\"/>\n      <use x=\"63.476562\" xlink:href=\"#DejaVuSans-97\"/>\n      <use x=\"124.755859\" xlink:href=\"#DejaVuSans-116\"/>\n      <use x=\"163.964844\" xlink:href=\"#DejaVuSans-101\"/>\n     </g>\n    </g>\n   </g>\n   <g id=\"matplotlib.axis_4\">\n    <g id=\"ytick_10\">\n     <g id=\"line2d_47\">\n      <path clip-path=\"url(#p6587767e24)\" d=\"M 503.51108 413.998125 \nL 883.965625 413.998125 \n\" style=\"fill:none;stroke:#b0b0b0;stroke-linecap:square;stroke-width:0.8;\"/>\n     </g>\n     <g id=\"line2d_48\">\n      <g>\n       <use style=\"stroke:#000000;stroke-width:0.8;\" x=\"503.51108\" xlink:href=\"#m67715f8098\" y=\"413.998125\"/>\n      </g>\n     </g>\n    </g>\n    <g id=\"ytick_11\">\n     <g id=\"line2d_49\">\n      <path clip-path=\"url(#p6587767e24)\" d=\"M 503.51108 365.038125 \nL 883.965625 365.038125 \n\" style=\"fill:none;stroke:#b0b0b0;stroke-linecap:square;stroke-width:0.8;\"/>\n     </g>\n     <g id=\"line2d_50\">\n      <g>\n       <use style=\"stroke:#000000;stroke-width:0.8;\" x=\"503.51108\" xlink:href=\"#m67715f8098\" y=\"365.038125\"/>\n      </g>\n     </g>\n    </g>\n    <g id=\"ytick_12\">\n     <g id=\"line2d_51\">\n      <path clip-path=\"url(#p6587767e24)\" d=\"M 503.51108 316.078125 \nL 883.965625 316.078125 \n\" style=\"fill:none;stroke:#b0b0b0;stroke-linecap:square;stroke-width:0.8;\"/>\n     </g>\n     <g id=\"line2d_52\">\n      <g>\n       <use style=\"stroke:#000000;stroke-width:0.8;\" x=\"503.51108\" xlink:href=\"#m67715f8098\" y=\"316.078125\"/>\n      </g>\n     </g>\n    </g>\n    <g id=\"ytick_13\">\n     <g id=\"line2d_53\">\n      <path clip-path=\"url(#p6587767e24)\" d=\"M 503.51108 267.118125 \nL 883.965625 267.118125 \n\" style=\"fill:none;stroke:#b0b0b0;stroke-linecap:square;stroke-width:0.8;\"/>\n     </g>\n     <g id=\"line2d_54\">\n      <g>\n       <use style=\"stroke:#000000;stroke-width:0.8;\" x=\"503.51108\" xlink:href=\"#m67715f8098\" y=\"267.118125\"/>\n      </g>\n     </g>\n    </g>\n    <g id=\"ytick_14\">\n     <g id=\"line2d_55\">\n      <path clip-path=\"url(#p6587767e24)\" d=\"M 503.51108 218.158125 \nL 883.965625 218.158125 \n\" style=\"fill:none;stroke:#b0b0b0;stroke-linecap:square;stroke-width:0.8;\"/>\n     </g>\n     <g id=\"line2d_56\">\n      <g>\n       <use style=\"stroke:#000000;stroke-width:0.8;\" x=\"503.51108\" xlink:href=\"#m67715f8098\" y=\"218.158125\"/>\n      </g>\n     </g>\n    </g>\n    <g id=\"ytick_15\">\n     <g id=\"line2d_57\">\n      <path clip-path=\"url(#p6587767e24)\" d=\"M 503.51108 169.198125 \nL 883.965625 169.198125 \n\" style=\"fill:none;stroke:#b0b0b0;stroke-linecap:square;stroke-width:0.8;\"/>\n     </g>\n     <g id=\"line2d_58\">\n      <g>\n       <use style=\"stroke:#000000;stroke-width:0.8;\" x=\"503.51108\" xlink:href=\"#m67715f8098\" y=\"169.198125\"/>\n      </g>\n     </g>\n    </g>\n    <g id=\"ytick_16\">\n     <g id=\"line2d_59\">\n      <path clip-path=\"url(#p6587767e24)\" d=\"M 503.51108 120.238125 \nL 883.965625 120.238125 \n\" style=\"fill:none;stroke:#b0b0b0;stroke-linecap:square;stroke-width:0.8;\"/>\n     </g>\n     <g id=\"line2d_60\">\n      <g>\n       <use style=\"stroke:#000000;stroke-width:0.8;\" x=\"503.51108\" xlink:href=\"#m67715f8098\" y=\"120.238125\"/>\n      </g>\n     </g>\n    </g>\n    <g id=\"ytick_17\">\n     <g id=\"line2d_61\">\n      <path clip-path=\"url(#p6587767e24)\" d=\"M 503.51108 71.278125 \nL 883.965625 71.278125 \n\" style=\"fill:none;stroke:#b0b0b0;stroke-linecap:square;stroke-width:0.8;\"/>\n     </g>\n     <g id=\"line2d_62\">\n      <g>\n       <use style=\"stroke:#000000;stroke-width:0.8;\" x=\"503.51108\" xlink:href=\"#m67715f8098\" y=\"71.278125\"/>\n      </g>\n     </g>\n    </g>\n    <g id=\"ytick_18\">\n     <g id=\"line2d_63\">\n      <path clip-path=\"url(#p6587767e24)\" d=\"M 503.51108 22.318125 \nL 883.965625 22.318125 \n\" style=\"fill:none;stroke:#b0b0b0;stroke-linecap:square;stroke-width:0.8;\"/>\n     </g>\n     <g id=\"line2d_64\">\n      <g>\n       <use style=\"stroke:#000000;stroke-width:0.8;\" x=\"503.51108\" xlink:href=\"#m67715f8098\" y=\"22.318125\"/>\n      </g>\n     </g>\n    </g>\n   </g>\n   <g id=\"line2d_65\">\n    <path clip-path=\"url(#p6587767e24)\" d=\"M 520.804468 413.998125 \nL 524.905402 413.998125 \nL 528.922644 357.596205 \nL 528.922644 357.596205 \nL 532.939885 323.755053 \nL 532.939885 323.755053 \nL 536.957127 301.194285 \nL 536.957127 301.194285 \nL 540.974369 301.194285 \nL 542.98299 301.194285 \nL 543.066682 413.998125 \nL 620.454379 413.998125 \nL 620.538072 413.998125 \nL 659.482998 413.998125 \nL 661.742696 397.500563 \nL 661.742696 397.500563 \nL 666.262093 378.782176 \nL 666.262093 378.782176 \nL 666.375078 378.782176 \nL 662.495929 378.782176 \nL 670.279335 340.898887 \nL 670.279335 340.898887 \nL 680.657209 297.915923 \nL 680.657209 297.915923 \nL 680.916656 297.915923 \n\" style=\"fill:none;stroke:#ff0000;stroke-linecap:square;stroke-width:1.5;\"/>\n    <g clip-path=\"url(#p6587767e24)\">\n     <use style=\"fill:#ff0000;stroke:#ff0000;\" x=\"520.804468\" xlink:href=\"#m517fb5db1b\" y=\"413.998125\"/>\n     <use style=\"fill:#ff0000;stroke:#ff0000;\" x=\"524.905402\" xlink:href=\"#m517fb5db1b\" y=\"413.998125\"/>\n     <use style=\"fill:#ff0000;stroke:#ff0000;\" x=\"528.922644\" xlink:href=\"#m517fb5db1b\" y=\"357.596205\"/>\n     <use style=\"fill:#ff0000;stroke:#ff0000;\" x=\"528.922644\" xlink:href=\"#m517fb5db1b\" y=\"357.596205\"/>\n     <use style=\"fill:#ff0000;stroke:#ff0000;\" x=\"532.939885\" xlink:href=\"#m517fb5db1b\" y=\"323.755053\"/>\n     <use style=\"fill:#ff0000;stroke:#ff0000;\" x=\"532.939885\" xlink:href=\"#m517fb5db1b\" y=\"323.755053\"/>\n     <use style=\"fill:#ff0000;stroke:#ff0000;\" x=\"536.957127\" xlink:href=\"#m517fb5db1b\" y=\"301.194285\"/>\n     <use style=\"fill:#ff0000;stroke:#ff0000;\" x=\"536.957127\" xlink:href=\"#m517fb5db1b\" y=\"301.194285\"/>\n     <use style=\"fill:#ff0000;stroke:#ff0000;\" x=\"540.974369\" xlink:href=\"#m517fb5db1b\" y=\"301.194285\"/>\n     <use style=\"fill:#ff0000;stroke:#ff0000;\" x=\"542.98299\" xlink:href=\"#m517fb5db1b\" y=\"301.194285\"/>\n     <use style=\"fill:#ff0000;stroke:#ff0000;\" x=\"543.066682\" xlink:href=\"#m517fb5db1b\" y=\"413.998125\"/>\n     <use style=\"fill:#ff0000;stroke:#ff0000;\" x=\"620.454379\" xlink:href=\"#m517fb5db1b\" y=\"413.998125\"/>\n     <use style=\"fill:#ff0000;stroke:#ff0000;\" x=\"620.538072\" xlink:href=\"#m517fb5db1b\" y=\"413.998125\"/>\n     <use style=\"fill:#ff0000;stroke:#ff0000;\" x=\"659.482998\" xlink:href=\"#m517fb5db1b\" y=\"413.998125\"/>\n     <use style=\"fill:#ff0000;stroke:#ff0000;\" x=\"661.742696\" xlink:href=\"#m517fb5db1b\" y=\"397.500563\"/>\n     <use style=\"fill:#ff0000;stroke:#ff0000;\" x=\"661.742696\" xlink:href=\"#m517fb5db1b\" y=\"397.500563\"/>\n     <use style=\"fill:#ff0000;stroke:#ff0000;\" x=\"666.262093\" xlink:href=\"#m517fb5db1b\" y=\"378.782176\"/>\n     <use style=\"fill:#ff0000;stroke:#ff0000;\" x=\"666.262093\" xlink:href=\"#m517fb5db1b\" y=\"378.782176\"/>\n     <use style=\"fill:#ff0000;stroke:#ff0000;\" x=\"666.375078\" xlink:href=\"#m517fb5db1b\" y=\"378.782176\"/>\n     <use style=\"fill:#ff0000;stroke:#ff0000;\" x=\"662.495929\" xlink:href=\"#m517fb5db1b\" y=\"378.782176\"/>\n     <use style=\"fill:#ff0000;stroke:#ff0000;\" x=\"670.279335\" xlink:href=\"#m517fb5db1b\" y=\"340.898887\"/>\n     <use style=\"fill:#ff0000;stroke:#ff0000;\" x=\"670.279335\" xlink:href=\"#m517fb5db1b\" y=\"340.898887\"/>\n     <use style=\"fill:#ff0000;stroke:#ff0000;\" x=\"680.657209\" xlink:href=\"#m517fb5db1b\" y=\"297.915923\"/>\n     <use style=\"fill:#ff0000;stroke:#ff0000;\" x=\"680.657209\" xlink:href=\"#m517fb5db1b\" y=\"297.915923\"/>\n     <use style=\"fill:#ff0000;stroke:#ff0000;\" x=\"680.916656\" xlink:href=\"#m517fb5db1b\" y=\"297.915923\"/>\n    </g>\n   </g>\n   <g id=\"line2d_66\">\n    <path clip-path=\"url(#p6587767e24)\" d=\"M 520.804468 413.998125 \nL 524.905402 413.998125 \nL 528.922644 357.596205 \nL 528.922644 357.596205 \nL 532.939885 357.596205 \nL 532.939885 357.596205 \nL 536.957127 357.596205 \nL 536.957127 357.596205 \nL 540.974369 357.596205 \nL 542.98299 357.596205 \nL 543.066682 413.998125 \nL 620.454379 413.998125 \nL 620.538072 413.998125 \nL 659.482998 413.998125 \nL 661.742696 397.500563 \nL 661.742696 397.500563 \nL 666.262093 397.500563 \nL 666.262093 397.500563 \nL 666.375078 397.500563 \nL 662.495929 397.500563 \nL 670.279335 359.617274 \nL 670.279335 359.617274 \nL 680.657209 359.617274 \nL 680.657209 359.617274 \nL 680.916656 359.617274 \n\" style=\"fill:none;stroke:#008000;stroke-linecap:square;stroke-width:1.5;\"/>\n    <g clip-path=\"url(#p6587767e24)\">\n     <use style=\"fill:#008000;stroke:#008000;stroke-linejoin:bevel;\" x=\"520.804468\" xlink:href=\"#m88b887b634\" y=\"413.998125\"/>\n     <use style=\"fill:#008000;stroke:#008000;stroke-linejoin:bevel;\" x=\"524.905402\" xlink:href=\"#m88b887b634\" y=\"413.998125\"/>\n     <use style=\"fill:#008000;stroke:#008000;stroke-linejoin:bevel;\" x=\"528.922644\" xlink:href=\"#m88b887b634\" y=\"357.596205\"/>\n     <use style=\"fill:#008000;stroke:#008000;stroke-linejoin:bevel;\" x=\"528.922644\" xlink:href=\"#m88b887b634\" y=\"357.596205\"/>\n     <use style=\"fill:#008000;stroke:#008000;stroke-linejoin:bevel;\" x=\"532.939885\" xlink:href=\"#m88b887b634\" y=\"357.596205\"/>\n     <use style=\"fill:#008000;stroke:#008000;stroke-linejoin:bevel;\" x=\"532.939885\" xlink:href=\"#m88b887b634\" y=\"357.596205\"/>\n     <use style=\"fill:#008000;stroke:#008000;stroke-linejoin:bevel;\" x=\"536.957127\" xlink:href=\"#m88b887b634\" y=\"357.596205\"/>\n     <use style=\"fill:#008000;stroke:#008000;stroke-linejoin:bevel;\" x=\"536.957127\" xlink:href=\"#m88b887b634\" y=\"357.596205\"/>\n     <use style=\"fill:#008000;stroke:#008000;stroke-linejoin:bevel;\" x=\"540.974369\" xlink:href=\"#m88b887b634\" y=\"357.596205\"/>\n     <use style=\"fill:#008000;stroke:#008000;stroke-linejoin:bevel;\" x=\"542.98299\" xlink:href=\"#m88b887b634\" y=\"357.596205\"/>\n     <use style=\"fill:#008000;stroke:#008000;stroke-linejoin:bevel;\" x=\"543.066682\" xlink:href=\"#m88b887b634\" y=\"413.998125\"/>\n     <use style=\"fill:#008000;stroke:#008000;stroke-linejoin:bevel;\" x=\"620.454379\" xlink:href=\"#m88b887b634\" y=\"413.998125\"/>\n     <use style=\"fill:#008000;stroke:#008000;stroke-linejoin:bevel;\" x=\"620.538072\" xlink:href=\"#m88b887b634\" y=\"413.998125\"/>\n     <use style=\"fill:#008000;stroke:#008000;stroke-linejoin:bevel;\" x=\"659.482998\" xlink:href=\"#m88b887b634\" y=\"413.998125\"/>\n     <use style=\"fill:#008000;stroke:#008000;stroke-linejoin:bevel;\" x=\"661.742696\" xlink:href=\"#m88b887b634\" y=\"397.500563\"/>\n     <use style=\"fill:#008000;stroke:#008000;stroke-linejoin:bevel;\" x=\"661.742696\" xlink:href=\"#m88b887b634\" y=\"397.500563\"/>\n     <use style=\"fill:#008000;stroke:#008000;stroke-linejoin:bevel;\" x=\"666.262093\" xlink:href=\"#m88b887b634\" y=\"397.500563\"/>\n     <use style=\"fill:#008000;stroke:#008000;stroke-linejoin:bevel;\" x=\"666.262093\" xlink:href=\"#m88b887b634\" y=\"397.500563\"/>\n     <use style=\"fill:#008000;stroke:#008000;stroke-linejoin:bevel;\" x=\"666.375078\" xlink:href=\"#m88b887b634\" y=\"397.500563\"/>\n     <use style=\"fill:#008000;stroke:#008000;stroke-linejoin:bevel;\" x=\"662.495929\" xlink:href=\"#m88b887b634\" y=\"397.500563\"/>\n     <use style=\"fill:#008000;stroke:#008000;stroke-linejoin:bevel;\" x=\"670.279335\" xlink:href=\"#m88b887b634\" y=\"359.617274\"/>\n     <use style=\"fill:#008000;stroke:#008000;stroke-linejoin:bevel;\" x=\"670.279335\" xlink:href=\"#m88b887b634\" y=\"359.617274\"/>\n     <use style=\"fill:#008000;stroke:#008000;stroke-linejoin:bevel;\" x=\"680.657209\" xlink:href=\"#m88b887b634\" y=\"359.617274\"/>\n     <use style=\"fill:#008000;stroke:#008000;stroke-linejoin:bevel;\" x=\"680.657209\" xlink:href=\"#m88b887b634\" y=\"359.617274\"/>\n     <use style=\"fill:#008000;stroke:#008000;stroke-linejoin:bevel;\" x=\"680.916656\" xlink:href=\"#m88b887b634\" y=\"359.617274\"/>\n    </g>\n   </g>\n   <g id=\"line2d_67\">\n    <path clip-path=\"url(#p6587767e24)\" d=\"M 520.804468 413.998125 \nL 524.905402 413.998125 \nL 528.922644 413.998125 \nL 528.922644 413.998125 \nL 532.939885 413.998125 \nL 532.939885 413.998125 \nL 536.957127 413.998125 \nL 536.957127 413.998125 \nL 540.974369 410.412091 \nL 542.98299 410.412091 \nL 543.066682 413.998125 \nL 620.454379 413.998125 \nL 620.538072 413.998125 \nL 659.482998 413.998125 \nL 661.742696 413.998125 \nL 661.742696 413.998125 \nL 666.262093 413.998125 \nL 666.262093 413.998125 \nL 666.375078 413.346605 \nL 662.495929 413.346605 \nL 670.279335 413.346605 \nL 670.279335 413.346605 \nL 680.657209 413.346605 \nL 680.657209 413.346605 \nL 680.916656 411.850521 \n\" style=\"fill:none;stroke:#ffa500;stroke-linecap:square;stroke-width:1.5;\"/>\n    <g clip-path=\"url(#p6587767e24)\">\n     <use style=\"fill:#ffa500;stroke:#ffa500;stroke-linejoin:miter;\" x=\"520.804468\" xlink:href=\"#m1a583079ba\" y=\"413.998125\"/>\n     <use style=\"fill:#ffa500;stroke:#ffa500;stroke-linejoin:miter;\" x=\"524.905402\" xlink:href=\"#m1a583079ba\" y=\"413.998125\"/>\n     <use style=\"fill:#ffa500;stroke:#ffa500;stroke-linejoin:miter;\" x=\"528.922644\" xlink:href=\"#m1a583079ba\" y=\"413.998125\"/>\n     <use style=\"fill:#ffa500;stroke:#ffa500;stroke-linejoin:miter;\" x=\"528.922644\" xlink:href=\"#m1a583079ba\" y=\"413.998125\"/>\n     <use style=\"fill:#ffa500;stroke:#ffa500;stroke-linejoin:miter;\" x=\"532.939885\" xlink:href=\"#m1a583079ba\" y=\"413.998125\"/>\n     <use style=\"fill:#ffa500;stroke:#ffa500;stroke-linejoin:miter;\" x=\"532.939885\" xlink:href=\"#m1a583079ba\" y=\"413.998125\"/>\n     <use style=\"fill:#ffa500;stroke:#ffa500;stroke-linejoin:miter;\" x=\"536.957127\" xlink:href=\"#m1a583079ba\" y=\"413.998125\"/>\n     <use style=\"fill:#ffa500;stroke:#ffa500;stroke-linejoin:miter;\" x=\"536.957127\" xlink:href=\"#m1a583079ba\" y=\"413.998125\"/>\n     <use style=\"fill:#ffa500;stroke:#ffa500;stroke-linejoin:miter;\" x=\"540.974369\" xlink:href=\"#m1a583079ba\" y=\"410.412091\"/>\n     <use style=\"fill:#ffa500;stroke:#ffa500;stroke-linejoin:miter;\" x=\"542.98299\" xlink:href=\"#m1a583079ba\" y=\"410.412091\"/>\n     <use style=\"fill:#ffa500;stroke:#ffa500;stroke-linejoin:miter;\" x=\"543.066682\" xlink:href=\"#m1a583079ba\" y=\"413.998125\"/>\n     <use style=\"fill:#ffa500;stroke:#ffa500;stroke-linejoin:miter;\" x=\"620.454379\" xlink:href=\"#m1a583079ba\" y=\"413.998125\"/>\n     <use style=\"fill:#ffa500;stroke:#ffa500;stroke-linejoin:miter;\" x=\"620.538072\" xlink:href=\"#m1a583079ba\" y=\"413.998125\"/>\n     <use style=\"fill:#ffa500;stroke:#ffa500;stroke-linejoin:miter;\" x=\"659.482998\" xlink:href=\"#m1a583079ba\" y=\"413.998125\"/>\n     <use style=\"fill:#ffa500;stroke:#ffa500;stroke-linejoin:miter;\" x=\"661.742696\" xlink:href=\"#m1a583079ba\" y=\"413.998125\"/>\n     <use style=\"fill:#ffa500;stroke:#ffa500;stroke-linejoin:miter;\" x=\"661.742696\" xlink:href=\"#m1a583079ba\" y=\"413.998125\"/>\n     <use style=\"fill:#ffa500;stroke:#ffa500;stroke-linejoin:miter;\" x=\"666.262093\" xlink:href=\"#m1a583079ba\" y=\"413.998125\"/>\n     <use style=\"fill:#ffa500;stroke:#ffa500;stroke-linejoin:miter;\" x=\"666.262093\" xlink:href=\"#m1a583079ba\" y=\"413.998125\"/>\n     <use style=\"fill:#ffa500;stroke:#ffa500;stroke-linejoin:miter;\" x=\"666.375078\" xlink:href=\"#m1a583079ba\" y=\"413.346605\"/>\n     <use style=\"fill:#ffa500;stroke:#ffa500;stroke-linejoin:miter;\" x=\"662.495929\" xlink:href=\"#m1a583079ba\" y=\"413.346605\"/>\n     <use style=\"fill:#ffa500;stroke:#ffa500;stroke-linejoin:miter;\" x=\"670.279335\" xlink:href=\"#m1a583079ba\" y=\"413.346605\"/>\n     <use style=\"fill:#ffa500;stroke:#ffa500;stroke-linejoin:miter;\" x=\"670.279335\" xlink:href=\"#m1a583079ba\" y=\"413.346605\"/>\n     <use style=\"fill:#ffa500;stroke:#ffa500;stroke-linejoin:miter;\" x=\"680.657209\" xlink:href=\"#m1a583079ba\" y=\"413.346605\"/>\n     <use style=\"fill:#ffa500;stroke:#ffa500;stroke-linejoin:miter;\" x=\"680.657209\" xlink:href=\"#m1a583079ba\" y=\"413.346605\"/>\n     <use style=\"fill:#ffa500;stroke:#ffa500;stroke-linejoin:miter;\" x=\"680.916656\" xlink:href=\"#m1a583079ba\" y=\"411.850521\"/>\n    </g>\n   </g>\n   <g id=\"line2d_68\">\n    <path clip-path=\"url(#p6587767e24)\" d=\"M 503.51108 296.494125 \nL 883.965625 296.494125 \n\" style=\"fill:none;stroke:#000000;stroke-dasharray:7.4,3.2;stroke-dashoffset:0;stroke-width:2;\"/>\n   </g>\n   <g id=\"patch_8\">\n    <path d=\"M 503.51108 413.998125 \nL 503.51108 22.318125 \n\" style=\"fill:none;stroke:#000000;stroke-linecap:square;stroke-linejoin:miter;stroke-width:0.8;\"/>\n   </g>\n   <g id=\"patch_9\">\n    <path d=\"M 883.965625 413.998125 \nL 883.965625 22.318125 \n\" style=\"fill:none;stroke:#000000;stroke-linecap:square;stroke-linejoin:miter;stroke-width:0.8;\"/>\n   </g>\n   <g id=\"patch_10\">\n    <path d=\"M 503.51108 413.998125 \nL 883.965625 413.998125 \n\" style=\"fill:none;stroke:#000000;stroke-linecap:square;stroke-linejoin:miter;stroke-width:0.8;\"/>\n   </g>\n   <g id=\"patch_11\">\n    <path d=\"M 503.51108 22.318125 \nL 883.965625 22.318125 \n\" style=\"fill:none;stroke:#000000;stroke-linecap:square;stroke-linejoin:miter;stroke-width:0.8;\"/>\n   </g>\n   <g id=\"text_26\">\n    <!-- Partition 2 -->\n    <g transform=\"translate(663.010852 16.318125)scale(0.12 -0.12)\">\n     <use xlink:href=\"#DejaVuSans-80\"/>\n     <use x=\"55.802734\" xlink:href=\"#DejaVuSans-97\"/>\n     <use x=\"117.082031\" xlink:href=\"#DejaVuSans-114\"/>\n     <use x=\"158.195312\" xlink:href=\"#DejaVuSans-116\"/>\n     <use x=\"197.404297\" xlink:href=\"#DejaVuSans-105\"/>\n     <use x=\"225.1875\" xlink:href=\"#DejaVuSans-116\"/>\n     <use x=\"264.396484\" xlink:href=\"#DejaVuSans-105\"/>\n     <use x=\"292.179688\" xlink:href=\"#DejaVuSans-111\"/>\n     <use x=\"353.361328\" xlink:href=\"#DejaVuSans-110\"/>\n     <use x=\"416.740234\" xlink:href=\"#DejaVuSans-32\"/>\n     <use x=\"448.527344\" xlink:href=\"#DejaVuSans-50\"/>\n    </g>\n   </g>\n  </g>\n </g>\n <defs>\n  <clipPath id=\"pa37799d7b0\">\n   <rect height=\"391.68\" width=\"380.454545\" x=\"46.965625\" y=\"22.318125\"/>\n  </clipPath>\n  <clipPath id=\"p6587767e24\">\n   <rect height=\"391.68\" width=\"380.454545\" x=\"503.51108\" y=\"22.318125\"/>\n  </clipPath>\n </defs>\n</svg>\n",
      "image/png": "[encoded data removed]"
     },
     "metadata": {
      "needs_background": "light"
     }
    }
   ],
   "source": [
    "xlim = None#(datetime.datetime(2022,3,17,0,0,0),datetime.datetime(2022,4,6,0,0,0))\n",
    "plot_tot(PHI, xlim=xlim, ylim=(0,800), time_ord=False)\n",
    "\n",
    "# fname = '/home/calchetti/MPStemp/PHI_TMtool/TM_NMP1_v1.csv'\n",
    "# PHI.save(fname)"
   ]
  }
 ],
 "metadata": {
  "kernelspec": {
   "name": "python3",
   "display_name": "Python 3.8.5 64-bit ('dancalc': conda)"
  },
  "language_info": {
   "codemirror_mode": {
    "name": "ipython",
    "version": 3
   },
   "file_extension": ".py",
   "mimetype": "text/x-python",
   "name": "python",
   "nbconvert_exporter": "python",
   "pygments_lexer": "ipython3",
   "version": "3.8.5"
  },
  "interpreter": {
   "hash": "2bd06a3991c0c0d639db0f8509be09728a50e84a33b22587f6ba3eb13c8c6283"
  }
 },
 "nbformat": 4,
 "nbformat_minor": 4
}