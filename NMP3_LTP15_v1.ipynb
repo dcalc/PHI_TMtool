{
 "cells": [
  {
   "attachments": {},
   "cell_type": "markdown",
   "metadata": {},
   "source": [
    "# <span style=\"color:yellow\">New Classes and Some Functions</span>"
   ]
  },
  {
   "cell_type": "code",
   "execution_count": 5,
   "metadata": {},
   "outputs": [],
   "source": [
    "from TMclass import *\n",
    "import datetime\n",
    "import numpy as np\n",
    "import matplotlib.pyplot as plt\n",
    "import pandas as pd\n",
    "from xml.etree import ElementTree\n",
    "from xml.etree.ElementTree import ParseError\n",
    "from datetime import datetime as DT\n",
    "from datetime import timedelta as TD\n",
    "\n",
    "\n",
    "def tmDict(fileName):\n",
    "\n",
    "    class XML:\n",
    "        DURATION = 'duration'\n",
    "        TMRATE = 'tm_rate'\n",
    "        STATION = 'station'\n",
    "        TIME = 'time'\n",
    "        PASS_END = '/>'\n",
    "        PASS_START = '<PASS'\n",
    "\n",
    "    def decode_line(line_string):\n",
    "        if XML.TIME not in line_string or XML.DURATION not in line_string or XML.TMRATE not in line_string:\n",
    "            return None, None, None\n",
    "        # print(f'Decoding line {line_string}')\n",
    "        xml_node = ElementTree.fromstring(line_string)\n",
    "        start_pass = xml_node.get(XML.TIME)\n",
    "        duration = int(xml_node.get(XML.DURATION))\n",
    "        tm_rate = float(xml_node.get(XML.TMRATE))\n",
    "        start_pass = DT.strptime(start_pass,\"%Y-%jT%H:%M:%SZ\")\n",
    "        \n",
    "        return start_pass, duration, tm_rate\n",
    "\n",
    "    with open(fileName) as f:\n",
    "        lines = f.readlines()\n",
    "    lines = [line.strip() for line in lines]\n",
    "    TM = {'date':[], 'tm_rate':[], 'duration':[]}\n",
    "    result = []\n",
    "    for i, line in enumerate(lines):\n",
    "        if len(result) > 0 and len(result[-1][0]):\n",
    "            if (XML.PASS_START in result[-1][0] and XML.PASS_END not in result[-1][0]):\n",
    "                result[-1] = (result[-1][0] + ' '+ line, result[-1][1])\n",
    "                continue\n",
    "            line_string, line_number = result[-1]\n",
    "            if (XML.PASS_START in result[-1][0] and XML.PASS_END in result[-1][0]):\n",
    "                try:\n",
    "                    start_pass, duration, tm_rate = decode_line(line_string)\n",
    "                except ParseError as e:\n",
    "                    print(line_string)\n",
    "                    raise ParseError(e)\n",
    "                if start_pass is not None:\n",
    "                    TM['date'] += [start_pass]\n",
    "                    TM['tm_rate'] += [duration]\n",
    "                    TM['duration'] += [tm_rate]\n",
    "        result.append((line, i))\n",
    "\n",
    "    TM['date'] = np.asarray(TM['date'])\n",
    "    TM['tm_rate'] = np.asarray(TM['tm_rate'])\n",
    "    TM['duration'] = np.asarray(TM['duration'])\n",
    "\n",
    "    return TM\n",
    "\n",
    "def phiITL(itlFile):\n",
    "    f = open(itlFile,'r')\n",
    "    lines = f.readlines()\n",
    "\n",
    "    FL = {'date':[], 'flush':[]}\n",
    "\n",
    "    for x in lines:\n",
    "        temp = x.split(' ')\n",
    "        if 'PHI_SCI_Flush_VOL' in temp[-1]:\n",
    "            FL['date'] += [DT.fromisoformat(temp[0][:-1])]\n",
    "            FL['flush'] += [float(temp[-1][19:-2])]\n",
    "\n",
    "    FL['date'] = np.asarray(FL['date'])\n",
    "    FL['flush'] = np.asarray(FL['flush'])\n",
    "\n",
    "    return FL\n",
    "\n",
    "# you have to remove what is inside <eventfile> --> old version\n",
    "\n",
    "TM3 = tmDict('../SIFECS_NMP_Segment_2_withLTP10-11FECS.xml')\n",
    "TM3n = tmDict('../FECS_2023072_2023177_2022348130413_v03.SOL')\n",
    "TM13 = tmDict('../SIFECS_SIFECS_LTP12-13_preFECS_Mission_Level_Plan_for_LTP12_and_13_2.xml')\n",
    "# TM14 = tmDict('../SIFECS_SIFECS_sifecs_Segment_3_LTP14FECS_LTP15PreFECS_Mission_Level_Plan_for_NMP_Segment_3_v2_Mission_Level_Plan_for_NMP_Segment_3.xml')\n",
    "TM14 = tmDict('../EFECS_M14_V01.xml')\n",
    "TM15 = tmDict('../EFECS_M15_V00.xml')\n",
    "\n",
    "idx0 = np.where(TM3['date'] > TM3n['date'][0])[0][0]\n",
    "idx1 = np.where(TM3['date'] < TM3n['date'][-1])[0][-1]\n",
    "TM3['date'] = np.concatenate((TM3['date'][:idx0],TM3n['date'],TM3['date'][idx1:]))\n",
    "TM3['tm_rate'] = np.concatenate((TM3['tm_rate'][:idx0],TM3n['tm_rate'],TM3['tm_rate'][idx1:]))\n",
    "TM3['duration'] = np.concatenate((TM3['duration'][:idx0],TM3n['duration'],TM3['duration'][idx1:]))\n",
    "\n",
    "idx0 = np.where(TM3['date'] > TM13['date'][0])[0][0]\n",
    "idx1 = np.where(TM3['date'] < TM13['date'][-1])[0][-1]\n",
    "TM3['date'] = np.concatenate((TM3['date'][:idx0],TM13['date'],TM3['date'][idx1:]))\n",
    "TM3['tm_rate'] = np.concatenate((TM3['tm_rate'][:idx0],TM13['tm_rate'],TM3['tm_rate'][idx1:]))\n",
    "TM3['duration'] = np.concatenate((TM3['duration'][:idx0],TM13['duration'],TM3['duration'][idx1:]))\n",
    "\n",
    "idx0 = np.where(TM3['date'] > TM14['date'][0])[0][0]\n",
    "idx1 = np.where(TM3['date'] < TM14['date'][-1])[0][-1]\n",
    "TM3['date'] = np.concatenate((TM3['date'][:idx0],TM14['date'],TM3['date'][idx1:]))\n",
    "TM3['tm_rate'] = np.concatenate((TM3['tm_rate'][:idx0],TM14['tm_rate'],TM3['tm_rate'][idx1:]))\n",
    "TM3['duration'] = np.concatenate((TM3['duration'][:idx0],TM14['duration'],TM3['duration'][idx1:]))\n",
    "\n",
    "idx0 = np.where(TM3['date'] > TM15['date'][0])[0][0]\n",
    "idx1 = np.where(TM3['date'] < TM15['date'][-1])[0][-1]\n",
    "TM3['date'] = np.concatenate((TM3['date'][:idx0],TM15['date'],TM3['date'][idx1:]))\n",
    "TM3['tm_rate'] = np.concatenate((TM3['tm_rate'][:idx0],TM15['tm_rate'],TM3['tm_rate'][idx1:]))\n",
    "TM3['duration'] = np.concatenate((TM3['duration'][:idx0],TM15['duration'],TM3['duration'][idx1:]))\n",
    "\n",
    "# f = open('../phi.itl','r')\n",
    "# lines = f.readlines()\n",
    "\n",
    "# FL = {'date':[], 'flush':[]}\n",
    "\n",
    "# for x in lines:\n",
    "#     temp = x.split(' ')\n",
    "#     if 'PHI_SCI_Flush_VOL' in temp[-1]:\n",
    "#         FL['date'] += [DT.fromisoformat(temp[0][:-1])]\n",
    "#         FL['flush'] += [float(temp[-1][19:-2])]\n",
    "#         # print(temp[0][:-1],temp[-1][19:-2])\n",
    "\n",
    "# FL['date'] = np.asarray(FL['date'])\n",
    "# FL['flush'] = np.asarray(FL['flush'])\n",
    "\n",
    "FL = phiITL('../phiLTP15.itl')\n"
   ]
  },
  {
   "cell_type": "code",
   "execution_count": 10,
   "metadata": {},
   "outputs": [
    {
     "data": {
      "text/plain": [
       "-30873.0"
      ]
     },
     "execution_count": 10,
     "metadata": {},
     "output_type": "execute_result"
    }
   ],
   "source": [
    "FL['flush'][:].sum()"
   ]
  },
  {
   "cell_type": "code",
   "execution_count": 2,
   "metadata": {},
   "outputs": [],
   "source": [
    "def flush_many(PHI,max_vol, vol_dataset, phi_mode, start, nbits, ndata, level, partition):\n",
    "    # global PHI\n",
    "    # global phi\n",
    "    \n",
    "    def _new_start(start,end):\n",
    "        start += TD(days=1)\n",
    "        start = start.replace(hour=22,minute=0,second=0)\n",
    "        if end > start:\n",
    "            start = end + TD(hours=1)\n",
    "        return start\n",
    "    \n",
    "    vol0 = max_vol[0]\n",
    "    vol1 = max_vol[1]\n",
    "    n0 = int(vol0 // vol_dataset * 0.99)\n",
    "    n1 = int(vol1 // vol_dataset * 0.99)\n",
    "\n",
    "    if ndata == -1:\n",
    "        ndata = phi_mode.level_out(level).n_datasets\n",
    "    \n",
    "    print(f'Days needed: {(ndata-n0)//n1+2}')\n",
    "    kw = phi_mode.compressing(start, nbits = nbits, ndata = n0,level=level); PHI.saving(partition,**kw)\n",
    "    # start += TD(days=1)\n",
    "    start = _new_start(start,kw['end'])\n",
    "\n",
    "    for i in range((ndata-n0)//n1+1):\n",
    "        kw = phi_mode.compressing(start, nbits = nbits, ndata = min(ndata - n0 - i*n1,n1),level=level); PHI.saving(partition,**kw)\n",
    "        start = _new_start(start,kw['end'])\n",
    "\n",
    "    return (phi_mode, kw)\n",
    "    \n",
    "def synoptic(PHI,mode,t0,t1,cadence,shape,nout,nbits,i,format = False):\n",
    "    # t0 = DT.fromisoformat('2023-04-15T00:00:00')\n",
    "    # t1 = DT.fromisoformat('2023-05-01T00:00:00')\n",
    "\n",
    "    # cad = 6*60\n",
    "    # global PHI\n",
    "    mode = PHI_mode(mode)\n",
    "    N = int(np.ceil((t1 - t0).total_seconds() / (60*cadence)))\n",
    "\n",
    "    ti = t0\n",
    "#     deltat = (t1 - t0)/N\n",
    "    deltat = TD(minutes=cadence)\n",
    "    \n",
    "    min2 = TD(minutes=2)\n",
    "    form = False\n",
    "    for n in range(N):\n",
    "        kw = mode.observation(ti,ti+min2,cadence=2,shape=shape); PHI.saving(i,**kw)\n",
    "        if shape[1] != 2048:\n",
    "            kw = mode.cropping(kw['end'] + TD(minutes=5),ndata=-1,crop=[shape[1],shape[1]],level='raw'); PHI.saving(i,**kw)\n",
    "            kw = mode.processing(kw['end'] + TD(minutes=5),ndata=-1,partialStore=0x00,level='raw.crop',nout=nout); PHI.saving(i,**kw)\n",
    "            kw = mode.compressing(kw['end'] + TD(minutes=5), nbits = nbits, ndata = -1,level='raw.crop.proc'); PHI.saving(i,**kw)\n",
    "        else:\n",
    "            kw = mode.processing(kw['end'] + TD(minutes=5),ndata=-1,partialStore=0x00,level='raw',nout=nout); PHI.saving(i,**kw)\n",
    "            kw = mode.compressing(kw['end'] + TD(minutes=5), nbits = nbits, ndata = -1,level='raw.proc'); PHI.saving(i,**kw)\n",
    "        ti = ti + deltat\n",
    "        if format:\n",
    "            if PHI.part1.occu > 220e3 or PHI.part2.occu > 220e3:\n",
    "                PHI.format_partition(i,kw['end'])\n",
    "                i = i%2 + 1\n",
    "    return mode\n",
    "\n",
    "def synoptic_raw(PHI,mode,t0,t1,cadence,shape,nbits,i, crop_pack = True, format = False):\n",
    "    # t0 = DT.fromisoformat('2023-04-15T00:00:00')\n",
    "    # t1 = DT.fromisoformat('2023-05-01T00:00:00')\n",
    "\n",
    "    # cad = 6*60\n",
    "    # global PHI\n",
    "    mode = PHI_MODE(mode)\n",
    "    N = int(np.ceil((t1 - t0).total_seconds() / (60*cadence)))\n",
    "\n",
    "    ti = t0\n",
    "#     deltat = (t1 - t0)/N\n",
    "    deltat = TD(minutes=cadence)\n",
    "    \n",
    "    min2 = TD(minutes=2)\n",
    "    form = False\n",
    "    for n in range(N):\n",
    "        kw = mode.observation(ti,ti+min2,cadence=2,shape=shape); PHI.saving(i,**kw)\n",
    "        if shape[1] != 2048:\n",
    "            kw = mode.cropping(kw['end'] + TD(minutes=5),ndata=-1,crop=[shape[1],shape[1]],level='raw');\n",
    "            if crop_pack == False:\n",
    "                PHI.saving(i,**kw)\n",
    "            kw = mode.packing(kw['end'] + TD(minutes=5),ndata=-1,level='raw.crop'); PHI.saving(i,**kw)\n",
    "            kw = mode.compressing(kw['end'] + TD(minutes=5), nbits = nbits, ndata = -1,level='raw.crop.pack'); PHI.saving(i,**kw)\n",
    "        else:\n",
    "            kw = mode.packing(kw['end'] + TD(minutes=5),ndata=-1,level='raw'); PHI.saving(i,**kw)\n",
    "            kw = mode.compressing(kw['end'] + TD(minutes=5), nbits = nbits, ndata = -1,level='raw.pack'); PHI.saving(i,**kw)\n",
    "        ti = ti + deltat\n",
    "        if format:\n",
    "            if PHI.part1.occu > 220e3 or PHI.part2.occu > 220e3:\n",
    "                PHI.format_partition(i,kw['end'])\n",
    "                i = i%2 + 1\n",
    "    return mode\n",
    "\n",
    "def FDT_flat(PHI,t0,idx,proc='auto',flush='auto',verbose=True):\n",
    "\n",
    "    # global PHI\n",
    "    t1 = t0+TD(minutes=55)\n",
    "    proc_time = TD(hours=5)\n",
    "\n",
    "    FDTf1 = PHI_MODE('FDT')\n",
    "\n",
    "    kw = FDTf1.observation(t0,t1,cadence=6,shape=(2048,2048,4,6)); PHI.saving(idx,**kw)\n",
    "    if proc == 'auto':\n",
    "        t0 = kw['end']+TD(minutes=5)\n",
    "    else:\n",
    "        t0 = proc\n",
    "    kw = FDTf1.observation(t0,1,cadence=proc_time.total_seconds()/60,shape=(2048,2048,4,6)); PHI.saving(idx,**kw)\n",
    "    kw = FDTf1.packing(t0,ndata=1,level='raw',); PHI.saving(idx,**kw)\n",
    "\n",
    "    if flush == 'auto':\n",
    "        t0 = kw['end'] + TD(hours=1)\n",
    "    else:\n",
    "        t0 = flush\n",
    "    kw = FDTf1.compressing(t0,ndata=1,nbits=6,level='raw.pack'); PHI.saving(idx,**kw)\n",
    "\n",
    "    ########################################################\n",
    "    if verbose:\n",
    "        printp(FDTf1, label='FDT Flat Calibration')\n",
    "        plot_tot(PHI,ylim=(0,250),time_ord=True)\n",
    "\n",
    "    return FDTf1\n",
    "\n",
    "def HRT_flat(PHI,t0,idx,proc='auto',flush='auto',verbose=True):\n",
    "    # global PHI\n",
    "    proc_time = TD(minutes=15)\n",
    "\n",
    "    HRTf1 = PHI_MODE('FDT')\n",
    "\n",
    "    kw = HRTf1.observation(t0,10,cadence=40,shape=(2048,2048,4,6)); PHI.saving(idx,**kw)\n",
    "    \n",
    "    if proc == 'auto':\n",
    "        t0 = kw['end']+TD(minutes=5)\n",
    "    else:\n",
    "        t0 = proc\n",
    "    kw = HRTf1.observation(t0,1,cadence=proc_time.total_seconds()/60,shape=(2048,2048,4,6)); PHI.saving(idx,**kw)\n",
    "    kw = HRTf1.packing(kw['end'],ndata=1,level='raw',); PHI.saving(idx,**kw)\n",
    "\n",
    "    if flush == 'auto':\n",
    "        t0 = kw['end'] + TD(hours=1)\n",
    "    else:\n",
    "        t0 = flush\n",
    "    kw = HRTf1.compressing(t0,ndata=1,nbits=6,level='raw.pack'); PHI.saving(idx,**kw)\n",
    "\n",
    "    ########################################################\n",
    "    if verbose:\n",
    "        printp(HRTf1, label='HRT Flat Calibration')\n",
    "        plot_tot(PHI,ylim=(0,250),time_ord=True)\n",
    "\n",
    "    return HRTf1\n",
    "\n",
    "def HRT_kll(PHI,t0,idx,proc='auto',flush='auto',verbose=True):\n",
    "    # global PHI\n",
    "    t1 = t0+TD(minutes=55)\n",
    "    proc_time = TD(hours=5)\n",
    "\n",
    "    HRTf1 = PHI_MODE('FDT')\n",
    "\n",
    "    kw = HRTf1.observation(t0,t1,cadence=6,shape=(2048,2048,4,6)); PHI.saving(idx,**kw)\n",
    "    if proc == 'auto':\n",
    "        t0 = kw['end']+TD(minutes=5)\n",
    "    else:\n",
    "        t0 = proc\n",
    "    kw = HRTf1.observation(t0,1,cadence=proc_time.total_seconds()/60,shape=(2048,2048,4,6)); PHI.saving(idx,**kw)\n",
    "    kw = HRTf1.packing(t0,ndata=1,level='raw',); PHI.saving(idx,**kw)\n",
    "\n",
    "    if flush == 'auto':\n",
    "        t0 = kw['end'] + TD(hours=1)\n",
    "    else:\n",
    "        t0 = flush\n",
    "    kw = HRTf1.compressing(t0,ndata=1,nbits=6,level='raw.pack'); PHI.saving(idx,**kw)\n",
    "\n",
    "    ########################################################\n",
    "    if verbose:\n",
    "        printp(HRTf1, label='HRT Kll Calibration')\n",
    "        plot_tot(PHI,ylim=(0,250),time_ord=True)\n",
    "\n",
    "    return HRTf1\n",
    "\n",
    "def plot_flush_per_day(PHI,xlim=None, values=False):\n",
    "    temp = PHI.part1.history    # plt.subplot(121)\n",
    "    c1 = np.asarray(PHI.part1.history['compr'])\n",
    "    c2 = np.asarray(PHI.part2.history['compr'])\n",
    "\n",
    "    d1 = np.asarray(PHI.part1.history['start'])\n",
    "    d2 = np.asarray(PHI.part2.history['start'])\n",
    "\n",
    "    starttime = min(d1[0],d2[0])\n",
    "    endtime = max(max(d1),max(d2))\n",
    "    t0 = starttime\n",
    "    times = []\n",
    "    while starttime.date() <= endtime.date():\n",
    "        times.append(starttime.date())\n",
    "        starttime += datetime.timedelta(days=1)\n",
    "    starttime = t0; del t0\n",
    "    times_float = [(t - d1[0]).total_seconds() for t in d1]\n",
    "    times = np.asarray(times)\n",
    "\n",
    "    newc1 = np.zeros(np.size(times))\n",
    "    for i,j in zip(d1,c1):\n",
    "        if j>=0:\n",
    "            ind = np.where(times == i.date())[0]\n",
    "            newc1[ind] += j/1e3\n",
    "    newc1 = np.asarray(newc1)\n",
    "\n",
    "    newc2 = np.zeros(np.size(times))\n",
    "    for i,j in zip(d2,c2):\n",
    "        if j>=0:\n",
    "            ind = np.where(times == i.date())[0]\n",
    "            newc2[ind] += j/1e3\n",
    "    newc2 = np.asarray(newc2)\n",
    "\n",
    "    total = 0\n",
    "    for i,t in enumerate(times):\n",
    "        if t >= xlim[0].date() and t<= xlim[1].date():\n",
    "            total += newc1[i] + newc2[i]\n",
    "\n",
    "    plt.figure(figsize=(15,12))\n",
    "    # plt.plot_date(times,newc1,color='blue',linestyle='-',marker='.',label='partition 1')\n",
    "    # plt.plot_date(times,newc2,color='red',linestyle='-',marker='.',label='partition 2')\n",
    "    plt.plot_date(times,newc1+newc2,color='black',linestyle='-',marker='.',label='total: '+str(round(total,1))+' GB')\n",
    "    plt.gcf().autofmt_xdate()\n",
    "    plt.grid()\n",
    "    plt.legend()\n",
    "    if xlim is not None:\n",
    "        plt.xlim(xlim)\n",
    "    plt.ylabel('flush (GB/day)')\n",
    "\n",
    "    if values:\n",
    "        return times, newc1, newc2\n"
   ]
  },
  {
   "cell_type": "code",
   "execution_count": 49,
   "metadata": {},
   "outputs": [
    {
     "data": {
      "text/plain": [
       "(0.0, 5000.0)"
      ]
     },
     "execution_count": 49,
     "metadata": {},
     "output_type": "execute_result"
    },
    {
     "data": {
      "image/png": "[encoded data removed]",
      "text/plain": [
       "<Figure size 720x576 with 1 Axes>"
      ]
     },
     "metadata": {
      "needs_background": "light"
     },
     "output_type": "display_data"
    }
   ],
   "source": [
    "plt.figure(figsize=(10,8))\n",
    "plt.plot(TM3['date'], (TM3['tm_rate']*TM3['duration'])/8/1e6,'.-')#; plt.ylim(0,5000)\n",
    "plt.ylim(0,5000)\n",
    "ylim = plt.gca().get_ylim()\n",
    "plt.fill_betweenx(ylim,DT(2024,2,11),DT(2024,3,10),facecolor='pink',alpha=.2)\n",
    "plt.fill_betweenx(ylim,DT(2024,3,13),DT(2024,3,25),facecolor='blue',alpha=.2)\n",
    "plt.fill_betweenx(ylim,DT(2024,3,27),DT(2024,4,10),facecolor='red',alpha=.2)\n",
    "plt.fill_betweenx(ylim,DT(2024,4,12),DT(2024,4,16),facecolor='yellow',alpha=.2)\n",
    "plt.xlim(datetime.date(2024,1,1),datetime.date(2024,5,31))\n",
    "plt.ylabel('Total Telemetry (MB/pass)')\n",
    "plt.xlabel('date')\n",
    "plt.ylim(ylim)"
   ]
  },
  {
   "attachments": {},
   "cell_type": "markdown",
   "metadata": {},
   "source": [
    "# SYNOPTIC January - March"
   ]
  },
  {
   "cell_type": "code",
   "execution_count": 4,
   "metadata": {},
   "outputs": [
    {
     "data": {
      "text/plain": [
       "'\\n2024-01-01T00:00:00.000 - 2024-02-11T00:00:00.000: 768, 41d\\n2024-02-11T00:00:00.000 - 2024-02-28T00:00:00.000: 896, 17d\\n2024-02-28T00:00:00.000 - 2024-03-08T00:00:00.000: 1024, 9d\\n2024-03-08T00:00:00.000 - 2024-03-14T00:00:00.000: 1152, 6d\\n'"
      ]
     },
     "execution_count": 4,
     "metadata": {},
     "output_type": "execute_result"
    }
   ],
   "source": [
    "\"\"\"\n",
    "2024-01-01T00:00:00.000 - 2024-02-11T00:00:00.000: 768, 41d\n",
    "2024-02-11T00:00:00.000 - 2024-02-28T00:00:00.000: 896, 17d\n",
    "2024-02-28T00:00:00.000 - 2024-03-08T00:00:00.000: 1024, 9d\n",
    "2024-03-08T00:00:00.000 - 2024-03-14T00:00:00.000: 1152, 6d\n",
    "\"\"\""
   ]
  },
  {
   "cell_type": "code",
   "execution_count": 5,
   "metadata": {},
   "outputs": [
    {
     "name": "stdout",
     "output_type": "stream",
     "text": [
      "Total telemetry (no H/K) in 43 days: 1800 MiB\n",
      "Average telemetry (no H/K): 42 MiB/day\n",
      "Memory used: 35 GB\n"
     ]
    }
   ],
   "source": [
    "t0 = DT(2024,1,1,0,0,0)\n",
    "t1 = DT(2024,2,11,0,0,0)\n",
    "th1 = DT(2024,2,13,0,0,0)\n",
    "th2 = DT(2024,2,26,0,0,0)\n",
    "t2 = DT(2024,2,28,0,0,0)\n",
    "t3 = DT(2024,3,8,0,0,0)\n",
    "tend = DT(2024,3,12,0,0,0)\n",
    "# tend = t1\n",
    "\n",
    "PHI = PHI_MEMORY(t0-TD(days=1))\n",
    "id = 1\n",
    "\n",
    "# SYN = PHI_MODE('FDT')\n",
    "# SYNH = PHI_MODE('HRT')\n",
    "\n",
    "synoptic_raw(PHI,'FDT',t0,t1,360,(2048,768,4,6),6,id)\n",
    "synoptic_raw(PHI,'FDT',t1,th1,360,(2048,896,4,6),6,id)\n",
    "# synoptic_raw(PHI,'FDT',th2,t2,360,(2048,896,4,6),6,id)\n",
    "# synoptic_raw(PHI,'FDT',t2,t3,360,(2048,1024,4,6),6,id)\n",
    "# synoptic_raw(PHI,'FDT',t3,tend,360,(2048,1152,4,6),6,id)\n",
    "\n",
    "\n",
    "print('Total telemetry (no H/K) in',int((th1-t0).total_seconds()/60/60/24),'days:',roundup(PHI.part1.compr*1e6/2**20,1),'MiB')\n",
    "print('Average telemetry (no H/K):',roundup(PHI.part1.compr*1e6/2**20/((th1-t0).total_seconds()/60/60/24),1),'MiB/day')\n",
    "print('Memory used:',roundup(PHI.part1.occu/1e3,1),'GB')"
   ]
  },
  {
   "cell_type": "code",
   "execution_count": 6,
   "metadata": {},
   "outputs": [
    {
     "name": "stderr",
     "output_type": "stream",
     "text": [
      "/home/calchetti/MPStemp/PHI_TMtool/TMclass.py:1210: UserWarning: marker is redundantly defined by the 'marker' keyword argument and the fmt string \"o\" (-> marker='o'). The keyword argument will take precedence.\n",
      "  axi.plot_date(x,c,color='orange',linestyle='-',marker='<',label='compressed')\n"
     ]
    },
    {
     "data": {
      "image/png": "[encoded data removed]",
      "text/plain": [
       "<Figure size 1080x576 with 2 Axes>"
      ]
     },
     "metadata": {
      "needs_background": "light"
     },
     "output_type": "display_data"
    }
   ],
   "source": [
    "xlim = (DT(2024,1,1,0,0,0),DT(2024,3,15,0,0,0))\n",
    "plot_tot(PHI, xlim=None, ylim=(0,100), time_ord=True)"
   ]
  },
  {
   "attachments": {},
   "cell_type": "markdown",
   "metadata": {},
   "source": [
    "# <span style=\"color:white\">*out of RSWs*</span>"
   ]
  },
  {
   "cell_type": "markdown",
   "metadata": {},
   "source": [
    "## <span style=\"color:pink\">R_FULL_LRES_HCAD_Full-Disk-Helioseismology</span>\n",
    "\n",
    "CROP+PACK\n"
   ]
  },
  {
   "cell_type": "code",
   "execution_count": 7,
   "metadata": {},
   "outputs": [
    {
     "name": "stdout",
     "output_type": "stream",
     "text": [
      "amount of compressed data + metadata in partition 1: 1.89 GB\n",
      "R_FULL_LRES_HCAD_Full-Disk-Helioseismology - Partition 1\n",
      "number of datasets: 3500\n",
      "cadence: 1 mins\n",
      "duration: 2 days, 10:20:00\n",
      "amount of raw-data at 32 bits: 160217.3 MiB, 45.8 MiB per dataset\n",
      "crop size: 768\n",
      "amount of crop-data at 32 bits: 80108.6 MiB, 22.9 MiB per dataset\n",
      "cropping time: 1 day, 10:01:40\n",
      "amount of pack-data at 16 bits: 53405.8 MiB, 15.3 MiB per dataset\n",
      "packing time: 1 day, 19:45:00\n",
      "amount of compressed data + metadata at 6 bits: 9255.2 MiB, 2.6 MiB per dataset\n",
      "compressing (+ flushing) time: 21:33:58.048768\n",
      "amount of metadata:  39270.0 MiB\n",
      "amount of memory usage: 293731.7 MiB\n",
      "\n",
      "==========================\n",
      "\n",
      "R_FULL_LRES_HCAD_Full-Disk-Helioseismology - Partition 2\n",
      "number of datasets: 3500\n",
      "cadence: 1 mins\n",
      "duration: 2 days, 10:20:00\n",
      "amount of raw-data at 32 bits: 160217.3 MiB, 45.8 MiB per dataset\n",
      "crop size: 768\n",
      "amount of crop-data at 32 bits: 80108.6 MiB, 22.9 MiB per dataset\n",
      "cropping time: 1 day, 10:01:40\n",
      "amount of pack-data at 16 bits: 53405.8 MiB, 15.3 MiB per dataset\n",
      "packing time: 1 day, 19:45:00\n",
      "amount of compressed data + metadata at 6 bits: 9255.2 MiB, 2.6 MiB per dataset\n",
      "compressing (+ flushing) time: 21:33:58.048768\n",
      "amount of metadata:  50540.0 MiB\n",
      "amount of memory usage: 293731.7 MiB\n",
      "\n"
     ]
    }
   ],
   "source": [
    "print('amount of compressed data + metadata in partition 1:',round(PHI.part1.compr*1e-3,2), 'GB')\n",
    "PHI.format_partition(1,DT(2024,2,13,12,0,0))\n",
    "t0 = DT.fromisoformat('2024-02-14T00:00:00')\n",
    "t1 = DT.fromisoformat('2024-02-16T10:20:00')\n",
    "# PHI = PHI_MEMORY(t0)\n",
    "# phi = PHI_MEMORY(t0)\n",
    "\n",
    "hcrop = 768\n",
    "hsm_1 = PHI_MODE('FDT')\n",
    "kw = hsm_1.observation(t0,t1,cadence=1,shape=(2048,hcrop,1,6)); PHI.saving(1,**kw)\n",
    "\n",
    "# t0 = hsm_1.raw.end\n",
    "\n",
    "# PHI.copy_partition(1,t0)\n",
    "# PHI.format_partition(1,PHI.part1.history['end'][-1])\n",
    "\n",
    "\n",
    "t0 = DT.fromisoformat('2024-02-16T10:20:00')\n",
    "t1 = DT.fromisoformat('2024-02-18T20:40:00')\n",
    "hsm_2 = PHI_MODE('FDT')\n",
    "kw = hsm_2.observation(t0,t1,cadence=1,shape=(2048,hcrop,1,6)); PHI.saving(2,**kw)\n",
    "\n",
    "t0 = DT(2024,2,19,12,0,0)\n",
    "\n",
    "kw = hsm_1.cropping(t0,ndata=1400,crop=[hcrop,hcrop],level='raw');# PHI.saving(1,**kw)\n",
    "kw = hsm_1.packing(t0,ndata=1400,level='raw.crop'); PHI.saving(1,**kw)\n",
    "kw = hsm_1.cropping(t0+TD(days=2),ndata=1400,crop=[hcrop,hcrop],level='raw');# PHI.saving(1,**kw)\n",
    "kw = hsm_1.packing(t0+TD(days=2),ndata=1400,level='raw.crop'); PHI.saving(1,**kw)\n",
    "kw = hsm_1.cropping(t0+TD(days=4),ndata=700,crop=[hcrop,hcrop],level='raw');# PHI.saving(1,**kw)\n",
    "kw = hsm_1.packing(t0+TD(days=4),ndata=700,level='raw.crop'); PHI.saving(1,**kw)\n",
    "\n",
    "# kw = hsm_1.compressing(hsm_1.raw.pack.end, nbits = 6, ndata = 1400,level='raw.crop.pack'); PHI.saving(1,**kw)\n",
    "# hsm_1, kw = flush_many(PHI,[1350,1350], 2.4, hsm_1, kw['end'], 6, -1, 'raw.crop.pack',1)\n",
    "\n",
    "kw = hsm_2.cropping(hsm_1.raw.crop.pack.end,ndata=700,crop=[hcrop,hcrop],level='raw');# PHI.saving(1,**kw)\n",
    "kw = hsm_2.packing(hsm_1.raw.crop.pack.end,ndata=700,level='raw.crop'); PHI.saving(2,**kw)\n",
    "kw = hsm_2.cropping(t0+TD(days=6),ndata=1400,crop=[hcrop,hcrop],level='raw');# PHI.saving(1,**kw)\n",
    "kw = hsm_2.packing(t0+TD(days=6),ndata=1400,level='raw.crop'); PHI.saving(2,**kw)\n",
    "kw = hsm_2.cropping(t0+TD(days=8),ndata=1400,crop=[hcrop,hcrop],level='raw');# PHI.saving(1,**kw)\n",
    "kw = hsm_2.packing(t0+TD(days=8),ndata=1400,level='raw.crop'); PHI.saving(2,**kw)\n",
    "\n",
    "# kw = hsm_2.compressing(hsm_1.raw.crop.pack.compr.end, nbits = 6, ndata = -1,level='raw.crop.pack'); PHI.saving(2,**kw)\n",
    "# hsm_2, kw = flush_many(PHI,[1350,1350], 2.4, hsm_2, kw['end'], 6, -1, 'raw.crop.pack',2)\n",
    "\n",
    "t0 = DT(2024,2,20,12,0,0)\n",
    "\n",
    "kw = hsm_1.compressing(t0, nbits = 6, ndata = 1400,level='raw.crop.pack'); PHI.saving(1,**kw)\n",
    "kw = hsm_1.compressing(t0+TD(days=2), nbits = 6, ndata = 1400,level='raw.crop.pack'); PHI.saving(1,**kw)\n",
    "kw = hsm_1.compressing(t0+TD(days=4), nbits = 6, ndata = 700,level='raw.crop.pack'); PHI.saving(1,**kw)\n",
    "\n",
    "kw = hsm_2.compressing(kw['end'], nbits = 6, ndata = 700,level='raw.crop.pack'); PHI.saving(2,**kw)\n",
    "kw = hsm_2.compressing(t0+TD(days=6), nbits = 6, ndata = 1400,level='raw.crop.pack'); PHI.saving(2,**kw)\n",
    "kw = hsm_2.compressing(t0+TD(days=8), nbits = 6, ndata = 1400,level='raw.crop.pack'); PHI.saving(2,**kw)\n",
    "\n",
    "end = kw['end']\n",
    "########################################################\n",
    "printp(hsm_1, label='R_FULL_LRES_HCAD_Full-Disk-Helioseismology - Partition 1')\n",
    "print('==========================\\n')\n",
    "printp(hsm_2, label='R_FULL_LRES_HCAD_Full-Disk-Helioseismology - Partition 2')\n",
    "# plot_tot(PHI)"
   ]
  },
  {
   "cell_type": "code",
   "execution_count": 8,
   "metadata": {},
   "outputs": [
    {
     "data": {
      "image/png": "[encoded data removed]",
      "text/plain": [
       "<Figure size 1080x576 with 2 Axes>"
      ]
     },
     "metadata": {
      "needs_background": "light"
     },
     "output_type": "display_data"
    }
   ],
   "source": [
    "plot_tot(PHI,ylim=(0,256),xlim=(DT(2024,1,1),DT(2024,3,15)))"
   ]
  },
  {
   "attachments": {},
   "cell_type": "markdown",
   "metadata": {},
   "source": [
    "## <span style=\"color:magenta\">***RESET NANDs (with Synoptics)***</span>"
   ]
  },
  {
   "cell_type": "code",
   "execution_count": 9,
   "metadata": {},
   "outputs": [
    {
     "name": "stdout",
     "output_type": "stream",
     "text": [
      "amount of compressed data + metadata in partition 1: 9.7 GB\n",
      "amount of compressed data + metadata in partition 2: 9.7 GB\n"
     ]
    }
   ],
   "source": [
    "print('amount of compressed data + metadata in partition 1:',round(PHI.part1.compr*1e-3,2), 'GB')\n",
    "print('amount of compressed data + metadata in partition 2:',round(PHI.part2.compr*1e-3,2), 'GB')\n",
    "# print('TM time:',round((PHI.part1.compr + PHI.part2.compr)/2151.3,2), 'days')\n",
    "# PHI.format_partition(1,DT(2023,1,29,16,0,0))\n",
    "# PHI.format_partition(2,end + TD(hours=1))\n",
    "# PHI.format_partition(1,end + TD(hours=1))\n",
    "# PHI.format_partition(2,PHI.part1.history['end'][-1] + TD(hours=.5))\n",
    "PHI.format_partition(1,DT(2024,2,25,1,0,0))\n",
    "PHI.format_partition(2,DT(2024,3,1,1,0,0))\n"
   ]
  },
  {
   "cell_type": "markdown",
   "metadata": {},
   "source": [
    "## SYNOPTICS"
   ]
  },
  {
   "cell_type": "code",
   "execution_count": 10,
   "metadata": {},
   "outputs": [
    {
     "name": "stdout",
     "output_type": "stream",
     "text": [
      "Total telemetry (no H/K) in 15 days: 1137 MiB\n",
      "Average telemetry (no H/K): 76 MiB/day\n",
      "Memory used: 17 GB\n"
     ]
    }
   ],
   "source": [
    "t0 = DT(2024,1,1,0,0,0)\n",
    "t1 = DT(2024,2,11,0,0,0)\n",
    "th1 = DT(2024,2,13,0,0,0)\n",
    "th2 = DT(2024,2,26,0,0,0)\n",
    "t2 = DT(2024,2,28,0,0,0)\n",
    "t3 = DT(2024,3,8,0,0,0)\n",
    "tend = DT(2024,3,12,0,0,0)\n",
    "# tend = t1\n",
    "\n",
    "# PHI = PHI_MEMORY(t0-TD(days=1))\n",
    "id = 1\n",
    "\n",
    "# SYN = PHI_MODE('FDT')\n",
    "# SYNH = PHI_MODE('HRT')\n",
    "\n",
    "# synoptic_raw(PHI,'FDT',t0,t1,360,(2048,768,4,6),6,id)\n",
    "# synoptic_raw(PHI,'FDT',t1,th1,360,(2048,896,4,6),6,id)\n",
    "synoptic_raw(PHI,'FDT',th2,t2,360,(2048,896,4,6),6,id)\n",
    "synoptic_raw(PHI,'FDT',t2,t3,360,(2048,1024,4,6),6,id)\n",
    "synoptic_raw(PHI,'FDT',t3,tend,360,(2048,1152,4,6),6,id)\n",
    "\n",
    "\n",
    "print('Total telemetry (no H/K) in',int((tend-th2).total_seconds()/60/60/24),'days:',roundup(PHI.part1.compr*1e6/2**20,1),'MiB')\n",
    "print('Average telemetry (no H/K):',roundup(PHI.part1.compr*1e6/2**20/((tend-th2).total_seconds()/60/60/24),1),'MiB/day')\n",
    "print('Memory used:',roundup(PHI.part1.occu/1e3,1),'GB')"
   ]
  },
  {
   "attachments": {},
   "cell_type": "markdown",
   "metadata": {},
   "source": [
    "## <span style=\"color:pink\">SPICE-Full-Disk-Mosaic</span>"
   ]
  },
  {
   "cell_type": "code",
   "execution_count": 11,
   "metadata": {},
   "outputs": [
    {
     "name": "stdout",
     "output_type": "stream",
     "text": [
      "SPICE full Mosaic\n",
      "number of datasets: 25\n",
      "cadence: 7 mins\n",
      "duration: 2:55:00\n",
      "amount of raw-data at 32 bits: 9918.2 MiB, 396.7 MiB per dataset\n",
      "amount of pack-data at 16 bits: 5149.8 MiB, 206.0 MiB per dataset\n",
      "packing time: 0:37:30\n",
      "amount of compressed data + metadata at 6 bits: 1815.0 MiB, 72.6 MiB per dataset\n",
      "compressing (+ flushing) time: 4:13:45.190861\n",
      "amount of metadata:  402.5 MiB\n",
      "amount of memory usage: 15068.1 MiB\n",
      "\n"
     ]
    }
   ],
   "source": [
    "########################################################\n",
    "id = 1\n",
    "t0 = DT.fromisoformat('2024-02-26T00:00:00')\n",
    "t1 = t0 + TD(minutes=175) #25 datasets\n",
    "spice = PHI_MODE('HRT')\n",
    "\n",
    "kw = spice.observation(t0,25,cadence=7,shape=(2048,2048,4,6)); PHI.saving(id,**kw)\n",
    "kw = spice.packing(DT(2024,2,26,12,0,0),ndata=-1,level = 'raw'); PHI.saving(id,**kw)\n",
    "kw = spice.compressing(DT(2024,2,27,0,15,0),ndata=-1,nbits=6,level='raw.pack'); PHI.saving(id,**kw)\n",
    "\n",
    "########################################################\n",
    "printp(spice, label='SPICE full Mosaic')\n"
   ]
  },
  {
   "cell_type": "markdown",
   "metadata": {},
   "source": [
    "## <span style=\"color:pink\">R_SMALL_HRES_MCAD_Full-Disk-Mosaic</span>"
   ]
  },
  {
   "cell_type": "code",
   "execution_count": 12,
   "metadata": {},
   "outputs": [
    {
     "name": "stdout",
     "output_type": "stream",
     "text": [
      "Crazy Mosaic\n",
      "number of datasets: 25\n",
      "cadence: 7 mins\n",
      "duration: 2:55:00\n",
      "amount of raw-data at 32 bits: 9918.2 MiB, 396.7 MiB per dataset\n",
      "amount of pack-data at 16 bits: 5149.8 MiB, 206.0 MiB per dataset\n",
      "packing time: 0:37:30\n",
      "amount of compressed data + metadata at 6 bits: 1815.0 MiB, 72.6 MiB per dataset\n",
      "compressing (+ flushing) time: 4:13:45.190861\n",
      "amount of metadata:  402.5 MiB\n",
      "amount of memory usage: 15068.1 MiB\n",
      "\n"
     ]
    }
   ],
   "source": [
    "########################################################\n",
    "id = 1\n",
    "t0 = DT.fromisoformat('2024-03-10T00:00:00')\n",
    "t1 = t0 + TD(minutes=175) #25 datasets\n",
    "crazy = PHI_MODE('HRT')\n",
    "\n",
    "kw = crazy.observation(t0,25,cadence=7,shape=(2048,2048,4,6)); PHI.saving(id,**kw)\n",
    "kw = crazy.packing(DT(2024,3,10,12,0,0),ndata=-1,level = 'raw'); PHI.saving(id,**kw)\n",
    "kw = crazy.compressing(DT(2024,3,11,0,15,0),ndata=-1,nbits=6,level='raw.pack'); PHI.saving(id,**kw)\n",
    "\n",
    "########################################################\n",
    "printp(crazy, label='Crazy Mosaic')\n"
   ]
  },
  {
   "cell_type": "markdown",
   "metadata": {},
   "source": [
    "## <span style=\"color:magenta\">***RESET NAND 1***</span>"
   ]
  },
  {
   "cell_type": "code",
   "execution_count": 13,
   "metadata": {},
   "outputs": [
    {
     "name": "stdout",
     "output_type": "stream",
     "text": [
      "amount of compressed data + metadata in partition 1: 5.0 GB\n"
     ]
    }
   ],
   "source": [
    "print('amount of compressed data + metadata in partition 1:',round(PHI.part1.compr*1e-3,2), 'GB')\n",
    "# print('amount of compressed data + metadata in partition 2:',round(PHI.part2.compr*1e-3,2), 'GB')\n",
    "# print('TM time:',round((PHI.part1.compr + PHI.part2.compr)/2151.3,2), 'days')\n",
    "# PHI.format_partition(1,DT(2023,1,29,16,0,0))\n",
    "# PHI.format_partition(2,end + TD(hours=1))\n",
    "# PHI.format_partition(1,end + TD(hours=1))\n",
    "# PHI.format_partition(2,PHI.part1.history['end'][-1] + TD(hours=.5))\n",
    "PHI.format_partition(1,DT(2024,3,11,15,0,0))\n",
    "# PHI.format_partition(2,DT(2024,3,1,1,0,0))\n"
   ]
  },
  {
   "cell_type": "code",
   "execution_count": 14,
   "metadata": {},
   "outputs": [
    {
     "data": {
      "image/png": "[encoded data removed]",
      "text/plain": [
       "<Figure size 1080x576 with 2 Axes>"
      ]
     },
     "metadata": {
      "needs_background": "light"
     },
     "output_type": "display_data"
    }
   ],
   "source": [
    "plot_tot(PHI,ylim=(0,256),xlim=(DT(2024,1,1),DT(2024,3,15)))"
   ]
  },
  {
   "attachments": {},
   "cell_type": "markdown",
   "metadata": {},
   "source": [
    "## <span style=\"color:green\">FDT Flat 1 </span>"
   ]
  },
  {
   "cell_type": "code",
   "execution_count": 15,
   "metadata": {},
   "outputs": [
    {
     "name": "stdout",
     "output_type": "stream",
     "text": [
      "FDT FLAT 1 (12/03/2024)\n",
      "number of datasets: 10\n",
      "cadence: 300.0 mins\n",
      "duration: 5:00:00\n",
      "amount of raw-data at 32 bits: 3967.3 MiB, 396.7 MiB per dataset\n",
      "amount of pack-data at 16 bits: 206.0 MiB, 206.0 MiB per dataset\n",
      "packing time: 0:01:30\n",
      "amount of compressed data + metadata at 6 bits: 72.6 MiB, 72.6 MiB per dataset\n",
      "compressing (+ flushing) time: 0:10:09.007634\n",
      "amount of metadata:  16.1 MiB\n",
      "amount of memory usage: 4173.3 MiB\n",
      "\n"
     ]
    }
   ],
   "source": [
    "########################################################\n",
    "id = 1\n",
    "\n",
    "t0 = DT.fromisoformat('2024-03-12T00:00:00')\n",
    "FDTflat1 = FDT_flat(PHI,t0,id,proc = 'auto', flush = DT(2024,3,12,21,0,0),verbose=False)\n",
    "########################################################\n",
    "printp(FDTflat1, label=\"FDT FLAT 1 (12/03/2024)\")"
   ]
  },
  {
   "cell_type": "markdown",
   "metadata": {},
   "source": [
    "## <span style=\"color:green\">HRT Flat 1 </span>"
   ]
  },
  {
   "cell_type": "code",
   "execution_count": 16,
   "metadata": {},
   "outputs": [
    {
     "name": "stdout",
     "output_type": "stream",
     "text": [
      "HRT FLAT 1 (12/03/2024)\n",
      "number of datasets: 11\n",
      "cadence: 15.0 mins\n",
      "duration: 0:15:00\n",
      "amount of raw-data at 32 bits: 4364.0 MiB, 396.7 MiB per dataset\n",
      "amount of pack-data at 16 bits: 206.0 MiB, 206.0 MiB per dataset\n",
      "packing time: 0:01:30\n",
      "amount of compressed data + metadata at 6 bits: 72.6 MiB, 72.6 MiB per dataset\n",
      "compressing (+ flushing) time: 0:10:09.007634\n",
      "amount of metadata:  16.1 MiB\n",
      "amount of memory usage: 4570.0 MiB\n",
      "\n"
     ]
    }
   ],
   "source": [
    "########################################################\n",
    "id = 1\n",
    "\n",
    "t0 = DT.fromisoformat('2024-03-12T08:00:00')\n",
    "HRTflat1 = HRT_flat(PHI,t0,id,proc = 'auto', flush = DT(2024,3,12,21,15,0),verbose=False)\n",
    "########################################################\n",
    "printp(HRTflat1, label=\"HRT FLAT 1 (12/03/2024)\")"
   ]
  },
  {
   "attachments": {},
   "cell_type": "markdown",
   "metadata": {},
   "source": [
    "# <span style=\"color:orange\">*RSW 13*</span>"
   ]
  },
  {
   "attachments": {},
   "cell_type": "markdown",
   "metadata": {},
   "source": [
    "## <span style=\"color:blue\">Eruption Watch 1</span>"
   ]
  },
  {
   "cell_type": "code",
   "execution_count": 17,
   "metadata": {},
   "outputs": [
    {
     "name": "stdout",
     "output_type": "stream",
     "text": [
      "Eruption Watch 1\n",
      "number of datasets: 16\n",
      "cadence: 360 mins\n",
      "duration: 4 days, 0:00:00\n",
      "amount of raw-data at 32 bits: 4028.3 MiB, 251.8 MiB per dataset\n",
      "crop size: 1280\n",
      "amount of crop-data at 32 bits: 2563.5 MiB, 160.2 MiB per dataset\n",
      "cropping time: 0:18:40\n",
      "amount of pack-data at 16 bits: 1342.8 MiB, 83.9 MiB per dataset\n",
      "packing time: 0:24:00\n",
      "amount of compressed data + metadata at 6 bits: 454.7 MiB, 28.4 MiB per dataset\n",
      "compressing (+ flushing) time: 1:03:34.097716\n",
      "amount of metadata:  192.4 MiB\n",
      "amount of memory usage: 7934.6 MiB\n",
      "\n"
     ]
    }
   ],
   "source": [
    "########################################################\n",
    "id = 2\n",
    "t0 = DT.fromisoformat('2024-03-13T00:00:00')\n",
    "t1 = DT.fromisoformat('2024-03-17T00:00:00')\n",
    "crop = 1280\n",
    "EW1 = PHI_MODE('FDT')\n",
    "# EW1 = synoptic_raw(PHI,'FDT',t0,t1,360,(2048,crop,4,6),6,id)\n",
    "kw = EW1.observation(t0,t1,cadence=360,shape=(2048,crop,4,6)); PHI.saving(id,**kw)\n",
    "for i in range(4):\n",
    "    kw = EW1.cropping(DT(2024,3,14,5,0,0)+TD(days=i),crop=[crop,crop],ndata=4,level='raw')#; PHI.saving(id,**kw)\n",
    "    kw = EW1.packing(kw['start'],ndata=4,level='raw.crop',); PHI.saving(id,**kw)\n",
    "    kw = EW1.compressing(DT(2024,3,14,7,0,0)+TD(days=i),ndata=4,nbits=6,level='raw.crop.pack'); PHI.saving(id,**kw)\n",
    "\n",
    "# synoptic_raw(PHI,CD1,t0,t1,360,(2048,2048,4,6),6,id)\n",
    "\n",
    "########################################################\n",
    "printp(EW1, label='Eruption Watch 1')\n"
   ]
  },
  {
   "cell_type": "markdown",
   "metadata": {},
   "source": [
    "## <span style=\"color:blue\">FDT CROSS CALIBRATION</span>\n",
    "40 datasets at 100s cadence, averaging 4 datasets: 10 datasets to be flushed"
   ]
  },
  {
   "cell_type": "code",
   "execution_count": 18,
   "metadata": {},
   "outputs": [
    {
     "name": "stdout",
     "output_type": "stream",
     "text": [
      "None WARNING: Compression, Exceeding the number of datasets, max should be 10\n",
      "2024-03-20 12:00:00 WARNING: Compression, Exceeding the number of datasets, max should be -10\n",
      "FDT cross calibration 1\n",
      "number of datasets: 40\n",
      "cadence: 1.6666666666666667 mins\n",
      "duration: 1:06:40\n",
      "amount of raw-data at 32 bits: 10986.3 MiB, 274.7 MiB per dataset\n",
      "crop size: 1408\n",
      "amount of crop-data at 32 bits: 1907.3 MiB, 190.7 MiB per dataset\n",
      "cropping time: 0:11:40\n",
      "amount of pack-data at 16 bits: 991.8 MiB, 99.2 MiB per dataset\n",
      "packing time: 0:15:00\n",
      "amount of compressed data + metadata at 6 bits: 1374.6 MiB, 34.4 MiB per dataset\n",
      "compressing (+ flushing) time: 3:12:10.925588\n",
      "amount of metadata:  482.0 MiB\n",
      "amount of memory usage: 13885.5 MiB\n",
      "\n"
     ]
    }
   ],
   "source": [
    "########################################################\n",
    "id = 2\n",
    "t0 = DT.fromisoformat('2024-03-19T12:00:00')\n",
    "# t1 = DT.fromisoformat('2023-10-06T08:00:00')\n",
    "DF1 = PHI_MODE('FDT')\n",
    "crop = 1408\n",
    "\n",
    "kw = DF1.observation(t0,40,cadence=100/60,shape=(2048,crop,4,6)); PHI.saving(id,**kw)\n",
    "kw = DF1.cropping(DT(2024,3,19,18,0,0),crop=[crop,crop],ndata=10,level='raw')#; PHI.saving(id,**kw)\n",
    "kw = DF1.packing(kw['start'],ndata=10,level='raw.crop',); PHI.saving(id,**kw)\n",
    "kw = DF1.compressing(DT(2024,3,20,12,0,0),ndata=20,nbits=6,level='raw.crop.pack'); PHI.saving(id,**kw)\n",
    "kw = DF1.compressing(DT(2024,3,21,12,0,0),ndata=20,nbits=6,level='raw.crop.pack'); PHI.saving(id,**kw)\n",
    "\n",
    "# synoptic_raw(PHI,DF1,t0,t1,360,(2048,2048,4,6),6,id)\n",
    "\n",
    "########################################################\n",
    "printp(DF1, label='FDT cross calibration 1')\n"
   ]
  },
  {
   "attachments": {},
   "cell_type": "markdown",
   "metadata": {},
   "source": [
    "## <span style=\"color:blue\">Major Flare 1</span>"
   ]
  },
  {
   "cell_type": "code",
   "execution_count": 19,
   "metadata": {},
   "outputs": [
    {
     "name": "stdout",
     "output_type": "stream",
     "text": [
      "Major Flare 1\n",
      "number of datasets: 8\n",
      "cadence: 30 mins\n",
      "duration: 4:00:00\n",
      "amount of raw-data at 32 bits: 3173.8 MiB, 396.7 MiB per dataset\n",
      "amount of pack-data at 16 bits: 1647.9 MiB, 206.0 MiB per dataset\n",
      "packing time: 0:12:00\n",
      "amount of compressed data + metadata at 6 bits: 580.8 MiB, 72.6 MiB per dataset\n",
      "compressing (+ flushing) time: 1:21:12.061076\n",
      "amount of metadata:  128.4 MiB\n",
      "amount of memory usage: 4821.8 MiB\n",
      "\n"
     ]
    }
   ],
   "source": [
    "########################################################\n",
    "id = 2\n",
    "t0 = DT.fromisoformat('2024-03-19T20:00:00')\n",
    "t1 = DT.fromisoformat('2024-03-20T00:00:00')\n",
    "DF1 = PHI_MODE('HRT')\n",
    "crop = 2048\n",
    "\n",
    "kw = DF1.observation(t0,t1,cadence=30,shape=(2048,crop,4,6)); PHI.saving(id,**kw)\n",
    "# kw = DF1.cropping(DT(2023,11,15,1,0,0),crop=[crop,crop],ndata=-1,level='raw')#; PHI.saving(id,**kw)\n",
    "kw = DF1.packing(DT(2024,3,20,18,30,0),ndata=-1,level='raw',); PHI.saving(id,**kw)\n",
    "kw = DF1.compressing(DT(2024,3,20,13,30,0),ndata=4,nbits=6,level='raw.pack'); PHI.saving(id,**kw)\n",
    "kw = DF1.compressing(DT(2024,3,21,13,30,0),ndata=4,nbits=6,level='raw.pack'); PHI.saving(id,**kw)\n",
    "\n",
    "# synoptic_raw(PHI,DF1,t0,t1,360,(2048,2048,4,6),6,id)\n",
    "\n",
    "########################################################\n",
    "printp(DF1, label='Major Flare 1')\n"
   ]
  },
  {
   "attachments": {},
   "cell_type": "markdown",
   "metadata": {},
   "source": [
    "## <span style=\"color:blue\">HRT CROSS CALIBRATION</span> <br>"
   ]
  },
  {
   "cell_type": "code",
   "execution_count": 20,
   "metadata": {},
   "outputs": [
    {
     "name": "stdout",
     "output_type": "stream",
     "text": [
      "HRT cross calibration\n",
      "number of datasets: 36\n",
      "cadence: 1.6666666666666667 mins\n",
      "duration: 1:00:00\n",
      "amount of raw-data at 32 bits: 14282.2 MiB, 396.7 MiB per dataset\n",
      "amount of pack-data at 16 bits: 7415.8 MiB, 206.0 MiB per dataset\n",
      "packing time: 0:54:00\n",
      "amount of compressed data + metadata at 6 bits: 2613.6 MiB, 72.6 MiB per dataset\n",
      "compressing (+ flushing) time: 6:05:24.274840\n",
      "amount of metadata:  577.0 MiB\n",
      "amount of memory usage: 21698.0 MiB\n",
      "\n",
      "HRT 12 points scan\n",
      "number of datasets: 1\n",
      "cadence: 5 mins\n",
      "duration: 0:05:00\n",
      "amount of raw-data at 32 bits: 778.2 MiB, 778.2 MiB per dataset\n",
      "amount of pack-data at 16 bits: 396.7 MiB, 396.7 MiB per dataset\n",
      "packing time: 0:01:30\n",
      "amount of compressed data + metadata at 6 bits: 145.1 MiB, 145.1 MiB per dataset\n",
      "compressing (+ flushing) time: 0:20:17.215269\n",
      "amount of metadata:  16.1 MiB\n",
      "amount of memory usage: 1174.9 MiB\n",
      "\n"
     ]
    }
   ],
   "source": [
    "\n",
    "t0 = DT.fromisoformat('2024-03-20T17:30:00')\n",
    "t1 = DT.fromisoformat('2024-03-20T18:30:00')\n",
    "id = 2\n",
    "crop = 2048\n",
    "\n",
    "CC = PHI_MODE('HRT')\n",
    "CC12 = PHI_MODE('HRT')\n",
    "kw = CC.observation(t0,t1,cadence=100/60,shape=(2048,crop,4,6)); PHI.saving(id,**kw)\n",
    "# 12 points scan observation\n",
    "kw = CC12.observation(t0,1,cadence=5,shape=(2048,crop,4,12)); PHI.saving(id,**kw)\n",
    "\n",
    "kw = CC.packing(DT(2024,3,20,20,0,0),ndata=-1,level='raw',); PHI.saving(id,**kw)\n",
    "kw = CC12.packing(DT(2024,3,20,22,0,0),ndata=-1,level='raw',); PHI.saving(id,**kw)\n",
    "\n",
    "kw = CC.compressing(DT(2024,3,22,12,0,0),ndata=13,nbits=6,level='raw.pack'); PHI.saving(id,**kw)\n",
    "kw = CC.compressing(DT(2024,3,23,3,30,0),ndata=13,nbits=6,level='raw.pack'); PHI.saving(id,**kw)\n",
    "kw = CC.compressing(DT(2024,3,24,6,0,0),ndata=10,nbits=6,level='raw.pack'); PHI.saving(id,**kw)\n",
    "kw = CC12.compressing(kw['end']+TD(minutes=5),ndata=1,nbits=6,level='raw.pack'); PHI.saving(id,**kw)\n",
    "\n",
    "\n",
    "\n",
    "printp(CC, label='HRT cross calibration')\n",
    "printp(CC12,label='HRT 12 points scan')"
   ]
  },
  {
   "attachments": {},
   "cell_type": "markdown",
   "metadata": {},
   "source": [
    "## <span style=\"color:blue\">Composition Mosaic</span>\n",
    "\n",
    "6 pointings (?)\n",
    "\n",
    "12 datasets (6 pointings, 2 datasets each)"
   ]
  },
  {
   "cell_type": "code",
   "execution_count": 21,
   "metadata": {},
   "outputs": [
    {
     "name": "stdout",
     "output_type": "stream",
     "text": [
      "Compostion Mosaic\n",
      "number of datasets: 12\n",
      "cadence: 180 mins\n",
      "duration: 1 day, 12:00:00\n",
      "amount of raw-data at 32 bits: 4760.7 MiB, 396.7 MiB per dataset\n",
      "amount of pack-data at 16 bits: 2471.9 MiB, 206.0 MiB per dataset\n",
      "packing time: 0:18:00\n",
      "amount of compressed data + metadata at 6 bits: 871.2 MiB, 72.6 MiB per dataset\n",
      "compressing (+ flushing) time: 2:01:48.091614\n",
      "amount of metadata:  144.6 MiB\n",
      "amount of memory usage: 7232.7 MiB\n",
      "\n"
     ]
    }
   ],
   "source": [
    "########################################################\n",
    "id = 2\n",
    "t0 = DT.fromisoformat('2024-03-20T04:00:00')\n",
    "t1 = DT.fromisoformat('2024-03-22T07:30:00')\n",
    "CM1 = PHI_MODE('HRT')\n",
    "\n",
    "#cadence from 30 to 60 for putting 3h high cadence\n",
    "kw = CM1.observation(t0,12,cadence=60*3,shape=(2048,2048,4,6)); PHI.saving(id,**kw)\n",
    "kw = CM1.packing(DT(2024,3,21,10,0,0),ndata=6,level = 'raw'); PHI.saving(id,**kw)\n",
    "kw = CM1.compressing(kw['end']+TD(minutes=15),ndata=-1,nbits=6,level='raw.pack'); PHI.saving(id,**kw)\n",
    "kw = CM1.packing(DT(2024,3,22,10,0,0),ndata=6,level = 'raw'); PHI.saving(id,**kw)\n",
    "kw = CM1.compressing(kw['end']+TD(minutes=15),ndata=6,nbits=6,level='raw.pack'); PHI.saving(id,**kw)\n",
    "\n",
    "########################################################\n",
    "printp(CM1, label='Compostion Mosaic')\n"
   ]
  },
  {
   "cell_type": "markdown",
   "metadata": {},
   "source": [
    "## <span style=\"color:blue\">Sunspot Oscillations</span>\n",
    "Match EUI high cadence burst (1h)"
   ]
  },
  {
   "cell_type": "code",
   "execution_count": 22,
   "metadata": {},
   "outputs": [
    {
     "name": "stdout",
     "output_type": "stream",
     "text": [
      "Sunspot oscillations\n",
      "number of datasets: 10\n",
      "cadence: 6 mins\n",
      "duration: 1:00:00\n",
      "amount of raw-data at 32 bits: 3967.3 MiB, 396.7 MiB per dataset\n",
      "amount of pack-data at 16 bits: 2059.9 MiB, 206.0 MiB per dataset\n",
      "packing time: 0:15:00\n",
      "amount of compressed data + metadata at 6 bits: 726.0 MiB, 72.6 MiB per dataset\n",
      "compressing (+ flushing) time: 1:41:30.076344\n",
      "amount of metadata:  161.0 MiB\n",
      "amount of memory usage: 6027.2 MiB\n",
      "\n"
     ]
    }
   ],
   "source": [
    "########################################################\n",
    "id = 2\n",
    "t0 = DT.fromisoformat('2024-03-22T21:35:00')\n",
    "t1 = DT.fromisoformat('2024-03-22T22:35:00')\n",
    "SO = PHI_MODE('HRT')\n",
    "\n",
    "#cadence from 30 to 60 for putting 3h high cadence\n",
    "kw = SO.observation(t0,t1,cadence=6,shape=(2048,2048,4,6)); PHI.saving(id,**kw)\n",
    "kw = SO.packing(DT(2024,3,25,1,0,0),ndata=-1,level = 'raw'); PHI.saving(id,**kw)\n",
    "kw = SO.compressing(kw['end']+TD(minutes=15),ndata=-1,nbits=6,level='raw.pack'); PHI.saving(id,**kw)\n",
    "\n",
    "########################################################\n",
    "printp(SO, label='Sunspot oscillations')\n"
   ]
  },
  {
   "cell_type": "markdown",
   "metadata": {},
   "source": [
    "## <span style=\"color:blue\">Major Flare 2</span>"
   ]
  },
  {
   "cell_type": "code",
   "execution_count": 23,
   "metadata": {},
   "outputs": [
    {
     "name": "stdout",
     "output_type": "stream",
     "text": [
      "Major Flare 2\n",
      "number of datasets: 8\n",
      "cadence: 30 mins\n",
      "duration: 4:00:00\n",
      "amount of raw-data at 32 bits: 3173.8 MiB, 396.7 MiB per dataset\n",
      "amount of pack-data at 16 bits: 1647.9 MiB, 206.0 MiB per dataset\n",
      "packing time: 0:12:00\n",
      "amount of compressed data + metadata at 6 bits: 580.8 MiB, 72.6 MiB per dataset\n",
      "compressing (+ flushing) time: 1:21:12.061075\n",
      "amount of metadata:  128.8 MiB\n",
      "amount of memory usage: 4821.8 MiB\n",
      "\n"
     ]
    }
   ],
   "source": [
    "########################################################\n",
    "id = 2\n",
    "t0 = DT.fromisoformat('2024-03-23T22:30:00')\n",
    "t1 = DT.fromisoformat('2024-03-24T02:30:00')\n",
    "DF1 = PHI_MODE('HRT')\n",
    "crop = 2048\n",
    "\n",
    "kw = DF1.observation(t0,t1,cadence=30,shape=(2048,crop,4,6)); PHI.saving(id,**kw)\n",
    "# kw = DF1.cropping(DT(2023,11,15,1,0,0),crop=[crop,crop],ndata=-1,level='raw')#; PHI.saving(id,**kw)\n",
    "kw = DF1.packing(DT(2024,3,24,4,30,0),ndata=-1,level='raw',); PHI.saving(id,**kw)\n",
    "kw = DF1.compressing(DT(2024,3,26,0,30,0),ndata=-1,nbits=6,level='raw.pack'); PHI.saving(id,**kw)\n",
    "# kw = DF1.compressing(DT(2024,3,24,20,30,0),ndata=4,nbits=6,level='raw.pack'); PHI.saving(id,**kw)\n",
    "\n",
    "# synoptic_raw(PHI,DF1,t0,t1,360,(2048,2048,4,6),6,id)\n",
    "\n",
    "########################################################\n",
    "printp(DF1, label='Major Flare 2')\n"
   ]
  },
  {
   "cell_type": "markdown",
   "metadata": {},
   "source": [
    "## <span style=\"color:magenta\">***RESET NAND 2***</span>"
   ]
  },
  {
   "cell_type": "code",
   "execution_count": 24,
   "metadata": {},
   "outputs": [
    {
     "name": "stdout",
     "output_type": "stream",
     "text": [
      "amount of compressed data + metadata in partition 2: 7.7 GB\n"
     ]
    }
   ],
   "source": [
    "print('amount of compressed data + metadata in partition 2:',round(PHI.part2.compr*1e-3,2), 'GB')\n",
    "PHI.format_partition(2,DT(2024,3,26,3,0,0))\n"
   ]
  },
  {
   "cell_type": "code",
   "execution_count": 25,
   "metadata": {},
   "outputs": [
    {
     "data": {
      "image/png": "[encoded data removed]",
      "text/plain": [
       "<Figure size 1080x576 with 2 Axes>"
      ]
     },
     "metadata": {
      "needs_background": "light"
     },
     "output_type": "display_data"
    }
   ],
   "source": [
    "xlim = (DT(2024,3,10,0,0,0),DT(2024,3,27,0,0,0))\n",
    "plot_tot(PHI, xlim=xlim, ylim=(0,250), time_ord=True)"
   ]
  },
  {
   "attachments": {},
   "cell_type": "markdown",
   "metadata": {},
   "source": [
    "# <span style=\"color:red\">*RSW 14*</span>"
   ]
  },
  {
   "cell_type": "markdown",
   "metadata": {},
   "source": [
    "## <span style=\"color:green\">HRT Flat 2 </span>"
   ]
  },
  {
   "cell_type": "code",
   "execution_count": 26,
   "metadata": {},
   "outputs": [
    {
     "name": "stdout",
     "output_type": "stream",
     "text": [
      "HRT FLAT 2 (26/03/2024)\n",
      "number of datasets: 11\n",
      "cadence: 15.0 mins\n",
      "duration: 0:15:00\n",
      "amount of raw-data at 32 bits: 4364.0 MiB, 396.7 MiB per dataset\n",
      "amount of pack-data at 16 bits: 206.0 MiB, 206.0 MiB per dataset\n",
      "packing time: 0:01:30\n",
      "amount of compressed data + metadata at 6 bits: 72.6 MiB, 72.6 MiB per dataset\n",
      "compressing (+ flushing) time: 0:10:09.007634\n",
      "amount of metadata:  16.1 MiB\n",
      "amount of memory usage: 4570.0 MiB\n",
      "\n"
     ]
    }
   ],
   "source": [
    "########################################################\n",
    "id = 1\n",
    "\n",
    "t0 = DT.fromisoformat('2024-03-26T10:00:00')\n",
    "HRTflat1 = HRT_flat(PHI,t0,id,proc = 'auto', flush = DT(2024,3,27,22,0,0),verbose=False)\n",
    "########################################################\n",
    "printp(HRTflat1, label=\"HRT FLAT 2 (26/03/2024)\")"
   ]
  },
  {
   "cell_type": "markdown",
   "metadata": {},
   "source": [
    "## <span style=\"color:green\">FDT Flat 2 </span>"
   ]
  },
  {
   "cell_type": "code",
   "execution_count": 27,
   "metadata": {},
   "outputs": [
    {
     "name": "stdout",
     "output_type": "stream",
     "text": [
      "FDT FLAT 2 (26/03/2024)\n",
      "number of datasets: 10\n",
      "cadence: 300.0 mins\n",
      "duration: 5:00:00\n",
      "amount of raw-data at 32 bits: 3967.3 MiB, 396.7 MiB per dataset\n",
      "amount of pack-data at 16 bits: 206.0 MiB, 206.0 MiB per dataset\n",
      "packing time: 0:01:30\n",
      "amount of compressed data + metadata at 6 bits: 72.6 MiB, 72.6 MiB per dataset\n",
      "compressing (+ flushing) time: 0:10:09.007634\n",
      "amount of metadata:  16.1 MiB\n",
      "amount of memory usage: 4173.3 MiB\n",
      "\n"
     ]
    }
   ],
   "source": [
    "########################################################\n",
    "id = 1\n",
    "\n",
    "t0 = DT.fromisoformat('2024-03-26T22:00:00')\n",
    "FDTflat1 = FDT_flat(PHI,t0,id,proc = 'auto', flush = DT(2024,3,27,22,30,0),verbose=False)\n",
    "########################################################\n",
    "printp(FDTflat1, label=\"FDT FLAT 2 (26/03/2024)\")"
   ]
  },
  {
   "cell_type": "markdown",
   "metadata": {},
   "source": [
    "## <span style=\"color:brown\">PSP quadrature 1 + L_BOTH_HRES_LCAD_CH-Boundary-Expansion</span>\n"
   ]
  },
  {
   "cell_type": "code",
   "execution_count": 28,
   "metadata": {},
   "outputs": [
    {
     "name": "stdout",
     "output_type": "stream",
     "text": [
      "2024-03-28 20:00:00 WARNING: Cropping, Exceeding the number of datasets, max should be 3\n",
      "PSP quadrature + CH Boundary Expansion 1\n",
      "number of datasets: 9\n",
      "cadence: 360 mins\n",
      "duration: 2 days, 6:35:00\n",
      "amount of raw-data at 32 bits: 3364.6 MiB, 373.8 MiB per dataset\n",
      "crop size: 1920\n",
      "amount of crop-data at 32 bits: 3509.5 MiB, 351.0 MiB per dataset\n",
      "cropping time: 0:11:40\n",
      "amount of pack-data at 16 bits: 1831.1 MiB, 183.1 MiB per dataset\n",
      "packing time: 0:15:00\n",
      "amount of compressed data + metadata at 6 bits: 638.2 MiB, 63.8 MiB per dataset\n",
      "compressing (+ flushing) time: 1:29:13.574913\n",
      "amount of metadata:  136.4 MiB\n",
      "amount of memory usage: 8705.1 MiB\n",
      "\n"
     ]
    }
   ],
   "source": [
    "########################################################\n",
    "id = 1\n",
    "t0 = DT.fromisoformat('2024-03-27T00:00:00')\n",
    "t1 = DT.fromisoformat('2024-03-29T06:35:00')\n",
    "crop = 1920\n",
    "\n",
    "CH1 = PHI_MODE('FDT')\n",
    "# CH1 = synoptic_raw(PHI,'FDT',t0,t1,360,(2048,crop,4,6),6,id)\n",
    "kw = CH1.observation(t0,t1,cadence=360,shape=(2048,crop,4,6)); PHI.saving(id,**kw)\n",
    "for i,n in zip(range(3),[3,3,4]):\n",
    "    kw = CH1.cropping(DT(2024,3,27,20,0,0)+TD(days=i),crop=[crop,crop],ndata=n,level='raw')#; PHI.saving(id,**kw)\n",
    "    kw = CH1.packing(kw['start'],ndata=n,level='raw.crop',); PHI.saving(id,**kw)\n",
    "    kw = CH1.compressing(DT(2024,3,27,23,0,0)+TD(days=i),ndata=n,nbits=6,level='raw.crop.pack'); PHI.saving(id,**kw)\n",
    "\n",
    "# synoptic_raw(PHI,CD1,t0,t1,360,(2048,2048,4,6),6,id)\n",
    "\n",
    "########################################################\n",
    "printp(CH1, label='PSP quadrature + CH Boundary Expansion 1')\n",
    "\n"
   ]
  },
  {
   "attachments": {},
   "cell_type": "markdown",
   "metadata": {},
   "source": [
    "## <span style=\"color:brown\">L_FULL_LRES_MCAD_Probe-Quadrature</span>\n"
   ]
  },
  {
   "cell_type": "code",
   "execution_count": 29,
   "metadata": {},
   "outputs": [
    {
     "name": "stdout",
     "output_type": "stream",
     "text": [
      "PSP quadrature\n",
      "number of datasets: 2\n",
      "cadence: 360 mins\n",
      "duration: 12:00:00\n",
      "amount of raw-data at 32 bits: 793.5 MiB, 396.7 MiB per dataset\n",
      "amount of pack-data at 16 bits: 412.0 MiB, 206.0 MiB per dataset\n",
      "packing time: 0:03:00\n",
      "amount of compressed data + metadata at 6 bits: 145.2 MiB, 72.6 MiB per dataset\n",
      "compressing (+ flushing) time: 0:20:18.015269\n",
      "amount of metadata:  32.2 MiB\n",
      "amount of memory usage: 1205.4 MiB\n",
      "\n"
     ]
    }
   ],
   "source": [
    "########################################################\n",
    "id = 1\n",
    "t0 = DT.fromisoformat('2024-03-29T07:10:00')\n",
    "t1 = DT.fromisoformat('2024-03-29T16:40:00')\n",
    "PSP = PHI_MODE('HRT')\n",
    "crop = 2048\n",
    "\n",
    "kw = PSP.observation(t0,2,cadence=360,shape=(2048,crop,4,6)); PHI.saving(id,**kw)\n",
    "kw = PSP.packing(DT(2024,3,29,15,30,0),ndata=-1,level='raw',); PHI.saving(id,**kw)\n",
    "kw = PSP.compressing(DT(2024,3,29,21,0,0),ndata=-1,nbits=6,level='raw.pack'); PHI.saving(id,**kw)\n",
    "\n",
    "\n",
    "########################################################\n",
    "printp(PSP, label='PSP quadrature')\n",
    "\n"
   ]
  },
  {
   "cell_type": "markdown",
   "metadata": {},
   "source": [
    "## <span style=\"color:brown\">Density Fluctuations</span>\n"
   ]
  },
  {
   "cell_type": "code",
   "execution_count": 30,
   "metadata": {},
   "outputs": [
    {
     "name": "stdout",
     "output_type": "stream",
     "text": [
      "Density Fluctuations\n",
      "number of datasets: 6\n",
      "cadence: 360 mins\n",
      "duration: 1 day, 15:00:00\n",
      "amount of raw-data at 32 bits: 2243.0 MiB, 373.8 MiB per dataset\n",
      "crop size: 1920\n",
      "amount of crop-data at 32 bits: 2105.7 MiB, 351.0 MiB per dataset\n",
      "cropping time: 0:07:00\n",
      "amount of pack-data at 16 bits: 1098.6 MiB, 183.1 MiB per dataset\n",
      "packing time: 0:09:00\n",
      "amount of compressed data + metadata at 6 bits: 382.9 MiB, 63.8 MiB per dataset\n",
      "compressing (+ flushing) time: 0:53:32.144948\n",
      "amount of metadata:  96.3 MiB\n",
      "amount of memory usage: 5447.4 MiB\n",
      "\n"
     ]
    }
   ],
   "source": [
    "########################################################\n",
    "id = 1\n",
    "t0 = DT.fromisoformat('2024-03-29T16:00:00')\n",
    "t1 = DT.fromisoformat('2024-03-31T07:00:00')\n",
    "crop = 1920\n",
    "\n",
    "DF = PHI_MODE('FDT')\n",
    "# CH1 = synoptic_raw(PHI,'FDT',t0,t1,360,(2048,crop,4,6),6,id)\n",
    "kw = DF.observation(t0,t1,cadence=360,shape=(2048,crop,4,6)); PHI.saving(id,**kw)\n",
    "for i,n in zip(range(2),[3,3]):\n",
    "    kw = DF.cropping(DT(2024,3,30,14,0,0)+TD(days=i),crop=[crop,crop],ndata=n,level='raw')#; PHI.saving(id,**kw)\n",
    "    kw = DF.packing(kw['start'],ndata=n,level='raw.crop',); PHI.saving(id,**kw)\n",
    "    kw = DF.compressing(DT(2024,3,30,16,0,0)+TD(days=i),ndata=n,nbits=6,level='raw.crop.pack'); PHI.saving(id,**kw)\n",
    "\n",
    "########################################################\n",
    "printp(DF, label='Density Fluctuations')\n"
   ]
  },
  {
   "cell_type": "markdown",
   "metadata": {},
   "source": [
    "## <span style=\"color:green\">FDT Flat 3 </span>"
   ]
  },
  {
   "cell_type": "code",
   "execution_count": 31,
   "metadata": {},
   "outputs": [
    {
     "name": "stdout",
     "output_type": "stream",
     "text": [
      "FDT FLAT 3 (30/03/2024)\n",
      "number of datasets: 10\n",
      "cadence: 300.0 mins\n",
      "duration: 5:00:00\n",
      "amount of raw-data at 32 bits: 3967.3 MiB, 396.7 MiB per dataset\n",
      "amount of pack-data at 16 bits: 206.0 MiB, 206.0 MiB per dataset\n",
      "packing time: 0:01:30\n",
      "amount of compressed data + metadata at 6 bits: 72.6 MiB, 72.6 MiB per dataset\n",
      "compressing (+ flushing) time: 0:10:09.007634\n",
      "amount of metadata:  16.1 MiB\n",
      "amount of memory usage: 4173.3 MiB\n",
      "\n"
     ]
    }
   ],
   "source": [
    "########################################################\n",
    "id = 1\n",
    "\n",
    "t0 = DT.fromisoformat('2024-03-30T05:00:00')\n",
    "FDTflat1 = FDT_flat(PHI,t0,id,proc = 'auto', flush = DT(2024,3,31,16,0,0),verbose=False)\n",
    "########################################################\n",
    "printp(FDTflat1, label=\"FDT FLAT 3 (30/03/2024)\")"
   ]
  },
  {
   "cell_type": "markdown",
   "metadata": {},
   "source": [
    "## <span style=\"color:green\">HRT Flat 3 </span>"
   ]
  },
  {
   "cell_type": "code",
   "execution_count": 32,
   "metadata": {},
   "outputs": [
    {
     "name": "stdout",
     "output_type": "stream",
     "text": [
      "HRT FLAT 3 (30/03/2024)\n",
      "number of datasets: 11\n",
      "cadence: 15.0 mins\n",
      "duration: 0:15:00\n",
      "amount of raw-data at 32 bits: 4364.0 MiB, 396.7 MiB per dataset\n",
      "amount of pack-data at 16 bits: 206.0 MiB, 206.0 MiB per dataset\n",
      "packing time: 0:01:30\n",
      "amount of compressed data + metadata at 6 bits: 72.6 MiB, 72.6 MiB per dataset\n",
      "compressing (+ flushing) time: 0:10:09.007634\n",
      "amount of metadata:  16.1 MiB\n",
      "amount of memory usage: 4570.0 MiB\n",
      "\n"
     ]
    }
   ],
   "source": [
    "########################################################\n",
    "id = 1\n",
    "\n",
    "t0 = DT.fromisoformat('2024-03-30T20:00:00')\n",
    "HRTflat1 = HRT_flat(PHI,t0,id,proc = 'auto', flush = DT(2024,3,31,16,30,0),verbose=False)\n",
    "########################################################\n",
    "printp(HRTflat1, label=\"HRT FLAT 3 (30/03/2024)\")"
   ]
  },
  {
   "attachments": {},
   "cell_type": "markdown",
   "metadata": {},
   "source": [
    "## <span style=\"color:brown\">Fast Wind</span>\n"
   ]
  },
  {
   "cell_type": "code",
   "execution_count": 33,
   "metadata": {},
   "outputs": [
    {
     "name": "stdout",
     "output_type": "stream",
     "text": [
      "Fast Wind\n",
      "number of datasets: 8\n",
      "cadence: 30 mins\n",
      "duration: 1:00:00\n",
      "amount of raw-data at 32 bits: 3173.8 MiB, 396.7 MiB per dataset\n",
      "amount of pack-data at 16 bits: 1647.9 MiB, 206.0 MiB per dataset\n",
      "packing time: 0:12:00\n",
      "amount of compressed data + metadata at 6 bits: 580.8 MiB, 72.6 MiB per dataset\n",
      "compressing (+ flushing) time: 1:21:12.061076\n",
      "amount of metadata:  32.2 MiB\n",
      "amount of memory usage: 4821.8 MiB\n",
      "\n"
     ]
    }
   ],
   "source": [
    "########################################################\n",
    "id = 1\n",
    "t0 = DT.fromisoformat('2024-03-31T09:00:00')\n",
    "t1 = DT.fromisoformat('2024-04-03T20:00:00')\n",
    "FW2 = PHI_MODE('HRT')\n",
    "\n",
    "kw = FW2.observation(t0,2,cadence=30,shape=(2048,2048,4,6)); PHI.saving(id,**kw)\n",
    "# kw = FW2.binning(kw['end']+TD(minutes=10),2,ndata=-1,level = 'raw'); PHI.saving(id,**kw)\n",
    "kw = FW2.packing(DT(2024,3,31,16,0,0),ndata=-1,level = 'raw'); PHI.saving(id,**kw)\n",
    "kw = FW2.compressing(DT(2024,3,31,23,0,0),ndata=2,nbits=6,level = 'raw.pack'); PHI.saving(id,**kw)\n",
    "\n",
    "kw = FW2.observation(t0+TD(days=1),2,cadence=30,shape=(2048,2048,4,6)); PHI.saving(id,**kw)\n",
    "# kw = FW2.binning(kw['end']+TD(minutes=10),2,ndata=-1,level = 'raw'); PHI.saving(id,**kw)\n",
    "kw = FW2.packing(DT(2024,4,1,16,0,0),ndata=-1,level = 'raw'); PHI.saving(id,**kw)\n",
    "kw = FW2.compressing(DT(2024,4,1,23,0,0),ndata=2,nbits=6,level = 'raw.pack'); PHI.saving(id,**kw)\n",
    "\n",
    "kw = FW2.observation(t0+TD(days=2),2,cadence=30,shape=(2048,2048,4,6)); PHI.saving(id,**kw)\n",
    "# kw = FW2.binning(kw['end']+TD(minutes=10),2,ndata=-1,level = 'raw'); PHI.saving(id,**kw)\n",
    "kw = FW2.packing(DT(2024,4,2,16,0,0),ndata=-1,level = 'raw'); PHI.saving(id,**kw)\n",
    "kw = FW2.compressing(DT(2024,4,2,23,0,0),ndata=2,nbits=6,level = 'raw.pack'); PHI.saving(id,**kw)\n",
    "\n",
    "kw = FW2.observation(t0+TD(days=3),2,cadence=30,shape=(2048,2048,4,6)); PHI.saving(id,**kw)\n",
    "# kw = FW2.binning(kw['end']+TD(minutes=10),2,ndata=-1,level = 'raw'); PHI.saving(id,**kw)\n",
    "kw = FW2.packing(DT(2024,4,3,14,0,0),ndata=-1,level = 'raw'); PHI.saving(id,**kw)\n",
    "kw = FW2.compressing(DT(2024,4,3,16,0,0),ndata=2,nbits=6,level = 'raw.pack'); PHI.saving(id,**kw)\n",
    "\n",
    "########################################################\n",
    "printp(FW2, label='Fast Wind')\n"
   ]
  },
  {
   "cell_type": "markdown",
   "metadata": {},
   "source": [
    "## <span style=\"color:brown\">Major Flare 3</span>"
   ]
  },
  {
   "cell_type": "code",
   "execution_count": 34,
   "metadata": {},
   "outputs": [
    {
     "name": "stdout",
     "output_type": "stream",
     "text": [
      "Major Flare 2\n",
      "number of datasets: 8\n",
      "cadence: 30 mins\n",
      "duration: 4:00:00\n",
      "amount of raw-data at 32 bits: 3173.8 MiB, 396.7 MiB per dataset\n",
      "amount of pack-data at 16 bits: 1647.9 MiB, 206.0 MiB per dataset\n",
      "packing time: 0:12:00\n",
      "amount of compressed data + metadata at 6 bits: 580.8 MiB, 72.6 MiB per dataset\n",
      "compressing (+ flushing) time: 1:21:12.061075\n",
      "amount of metadata:  128.8 MiB\n",
      "amount of memory usage: 4821.8 MiB\n",
      "\n"
     ]
    }
   ],
   "source": [
    "########################################################\n",
    "id = 1\n",
    "t0 = DT.fromisoformat('2024-04-02T20:00:00')\n",
    "t1 = DT.fromisoformat('2024-04-03T00:00:00')\n",
    "DF1 = PHI_MODE('HRT')\n",
    "crop = 2048\n",
    "\n",
    "kw = DF1.observation(t0,t1,cadence=30,shape=(2048,crop,4,6)); PHI.saving(id,**kw)\n",
    "# kw = DF1.cropping(DT(2023,11,15,1,0,0),crop=[crop,crop],ndata=-1,level='raw')#; PHI.saving(id,**kw)\n",
    "kw = DF1.packing(DT(2024,4,3,2,0,0),ndata=-1,level='raw',); PHI.saving(id,**kw)\n",
    "kw = DF1.compressing(DT(2024,4,3,15,30,0),ndata=-1,nbits=6,level='raw.pack'); PHI.saving(id,**kw)\n",
    "# kw = DF1.compressing(DT(2024,3,24,20,30,0),ndata=4,nbits=6,level='raw.pack'); PHI.saving(id,**kw)\n",
    "\n",
    "# synoptic_raw(PHI,DF1,t0,t1,360,(2048,2048,4,6),6,id)\n",
    "\n",
    "########################################################\n",
    "printp(DF1, label='Major Flare 2')\n"
   ]
  },
  {
   "attachments": {},
   "cell_type": "markdown",
   "metadata": {},
   "source": [
    "## <span style=\"color:brown\">RS-burst AR</span> <br>\n",
    "\n",
    "crop to 1280x1280"
   ]
  },
  {
   "cell_type": "code",
   "execution_count": 35,
   "metadata": {},
   "outputs": [
    {
     "name": "stdout",
     "output_type": "stream",
     "text": [
      "RS Burst 1\n",
      "number of datasets: 150\n",
      "cadence: 5 mins\n",
      "duration: 1:00:00\n",
      "amount of raw-data at 32 bits: 52642.8 MiB, 351.0 MiB per dataset\n",
      "crop size: 1792\n",
      "amount of crop-data at 32 bits: 45776.4 MiB, 305.2 MiB per dataset\n",
      "cropping time: 2:55:00\n",
      "amount of pack-data at 16 bits: 24032.6 MiB, 160.2 MiB per dataset\n",
      "packing time: 3:45:00\n",
      "amount of compressed data + metadata at 6 bits: 8340.9 MiB, 55.6 MiB per dataset\n",
      "compressing (+ flushing) time: 19:26:08.845520\n",
      "amount of metadata:  2497.5 MiB\n",
      "amount of memory usage: 122451.8 MiB\n",
      "\n"
     ]
    }
   ],
   "source": [
    "t0 = DT.fromisoformat('2024-04-03T20:00:00')\n",
    "t1 = DT.fromisoformat('2024-04-04T02:00:00')\n",
    "id = 1\n",
    "crop = 1792\n",
    "\n",
    "L1 = PHI_MODE('HRT')\n",
    "kw = L1.observation(t0,t0+TD(minutes=90),cadence=5,shape=(2048,crop,4,6)); PHI.saving(id,**kw)\n",
    "kw = L1.observation(kw['end'],kw['end']+TD(minutes=120),cadence=1,shape=(2048,crop,4,6)); PHI.saving(id,**kw)\n",
    "kw = L1.observation(kw['end'],kw['end']+TD(minutes=60),cadence=5,shape=(2048,crop,4,6)); PHI.saving(id,**kw)\n",
    "\n",
    "kw = L1.cropping(DT(2024,4,4,12,30,0),crop=[crop,crop],ndata=-1,level='raw')#; PHI.saving(id,**kw)\n",
    "kw = L1.packing(DT(2024,4,4,12,30,0),ndata=-1,level='raw.crop',); PHI.saving(id,**kw)\n",
    "\n",
    "for i in range(10):\n",
    "    kw = L1.compressing(DT(2024,4,5,2,30,0)+TD(days=i),ndata=15,nbits=6,level='raw.crop.pack'); PHI.saving(id,**kw)\n",
    "# kw = L1.compressing(DT(2024,4,5,2,30,0)+TD(days=9),ndata=15,nbits=6,level='raw.crop.pack'); PHI.saving(id,**kw)\n",
    "\n",
    "printp(L1, label='RS Burst 1')"
   ]
  },
  {
   "cell_type": "markdown",
   "metadata": {},
   "source": [
    "## <span style=\"color:green\">HRT Flat 4 </span>"
   ]
  },
  {
   "cell_type": "code",
   "execution_count": 36,
   "metadata": {},
   "outputs": [
    {
     "name": "stdout",
     "output_type": "stream",
     "text": [
      "HRT FLAT 4 (04/04/2024)\n",
      "number of datasets: 11\n",
      "cadence: 15.0 mins\n",
      "duration: 0:15:00\n",
      "amount of raw-data at 32 bits: 4364.0 MiB, 396.7 MiB per dataset\n",
      "amount of pack-data at 16 bits: 206.0 MiB, 206.0 MiB per dataset\n",
      "packing time: 0:01:30\n",
      "amount of compressed data + metadata at 6 bits: 72.6 MiB, 72.6 MiB per dataset\n",
      "compressing (+ flushing) time: 0:10:09.007634\n",
      "amount of metadata:  16.1 MiB\n",
      "amount of memory usage: 4570.0 MiB\n",
      "\n"
     ]
    }
   ],
   "source": [
    "########################################################\n",
    "id = 1\n",
    "\n",
    "t0 = DT.fromisoformat('2024-04-04T02:00:00')\n",
    "HRTflat1 = HRT_flat(PHI,t0,id,proc = 'auto', flush = DT(2024,4,5,16,0,0),verbose=False)\n",
    "########################################################\n",
    "printp(HRTflat1, label=\"HRT FLAT 4 (04/04/2024)\")"
   ]
  },
  {
   "cell_type": "markdown",
   "metadata": {},
   "source": [
    "## <span style=\"color:brown\">Major Flare 4</span>"
   ]
  },
  {
   "cell_type": "code",
   "execution_count": 37,
   "metadata": {},
   "outputs": [
    {
     "name": "stdout",
     "output_type": "stream",
     "text": [
      "Major Flare 4\n",
      "number of datasets: 24\n",
      "cadence: 30 mins\n",
      "duration: 4:00:00\n",
      "amount of raw-data at 32 bits: 9521.5 MiB, 396.7 MiB per dataset\n",
      "amount of pack-data at 16 bits: 4943.8 MiB, 206.0 MiB per dataset\n",
      "packing time: 0:36:00\n",
      "amount of compressed data + metadata at 6 bits: 1742.4 MiB, 72.6 MiB per dataset\n",
      "compressing (+ flushing) time: 4:03:36.183227\n",
      "amount of metadata:  256.8 MiB\n",
      "amount of memory usage: 14465.3 MiB\n",
      "\n"
     ]
    }
   ],
   "source": [
    "########################################################\n",
    "id = 1\n",
    "t0 = DT.fromisoformat('2024-04-04T20:00:00')\n",
    "DF1 = PHI_MODE('HRT')\n",
    "crop = 2048\n",
    "\n",
    "kw = DF1.observation(t0,8,cadence=30,shape=(2048,crop,4,6)); PHI.saving(id,**kw)\n",
    "kw = DF1.observation(t0+TD(days=1),8,cadence=30,shape=(2048,crop,4,6)); PHI.saving(id,**kw)\n",
    "kw = DF1.observation(t0+TD(days=2),8,cadence=30,shape=(2048,crop,4,6)); PHI.saving(id,**kw)\n",
    "# kw = DF1.cropping(DT(2023,11,15,1,0,0),crop=[crop,crop],ndata=-1,level='raw')#; PHI.saving(id,**kw)\n",
    "kw = DF1.packing(DT(2024,4,7,2,0,0),ndata=-1,level='raw',); PHI.saving(id,**kw)\n",
    "\n",
    "for i in range(8):\n",
    "    kw = DF1.compressing(DT(2024,4,6,3,30,0)+TD(days=i),ndata=2,nbits=6,level='raw.pack'); PHI.saving(id,**kw)\n",
    "\n",
    "kw = DF1.compressing(DT(2024,4,15,3,30,0),ndata=8,nbits=6,level='raw.pack'); PHI.saving(id,**kw)\n",
    "# synoptic_raw(PHI,DF1,t0,t1,360,(2048,2048,4,6),6,id)\n",
    "\n",
    "########################################################\n",
    "printp(DF1, label='Major Flare 4')\n"
   ]
  },
  {
   "attachments": {},
   "cell_type": "markdown",
   "metadata": {},
   "source": [
    "## <span style=\"color:brown\">L_FULL_HRES_HCAD_Eruption-Watch</span>"
   ]
  },
  {
   "cell_type": "code",
   "execution_count": 38,
   "metadata": {},
   "outputs": [
    {
     "name": "stdout",
     "output_type": "stream",
     "text": [
      "Eruption Watch\n",
      "number of datasets: 12\n",
      "cadence: 360 mins\n",
      "duration: 3 days, 0:00:00\n",
      "amount of raw-data at 32 bits: 4486.1 MiB, 373.8 MiB per dataset\n",
      "crop size: 1920\n",
      "amount of crop-data at 32 bits: 4211.4 MiB, 351.0 MiB per dataset\n",
      "cropping time: 0:14:00\n",
      "amount of pack-data at 16 bits: 2197.3 MiB, 183.1 MiB per dataset\n",
      "packing time: 0:18:00\n",
      "amount of compressed data + metadata at 6 bits: 765.8 MiB, 63.8 MiB per dataset\n",
      "compressing (+ flushing) time: 1:47:04.289894\n",
      "amount of metadata:  289.2 MiB\n",
      "amount of memory usage: 10894.8 MiB\n",
      "\n"
     ]
    }
   ],
   "source": [
    "########################################################\n",
    "id = 1\n",
    "t0 = DT.fromisoformat('2024-04-07T00:00:00')\n",
    "t1 = DT.fromisoformat('2024-04-10T00:00:00')\n",
    "EQ = PHI_MODE('FDT')\n",
    "crop = 1920\n",
    "\n",
    "# cadence 60s to 100s to get some telemetry for high cadence\n",
    "kw = EQ.observation(t0,t1,cadence=360,shape=(2048,crop,4,6)); PHI.saving(id,**kw)\n",
    "kw = EQ.cropping(DT(2024,4,10,2,0,0),crop=crop,ndata=-1,level = 'raw');# phi.saving(id,**kw); PHI.saving(id,**kw)\n",
    "kw = EQ.packing(kw['end']+TD(minutes=2),ndata=-1,level = 'raw.crop'); PHI.saving(id,**kw)\n",
    "\n",
    "kw = EQ.compressing(DT(2024,4,16,20,0,0),ndata=-1,nbits=6,level='raw.crop.pack'); PHI.saving(id,**kw)\n",
    "# for i in range(6):\n",
    "#     kw = EQ.compressing(DT(2024,4,7,4,0,0)+TD(days=i),ndata=2,nbits=6,level='raw.crop.pack'); PHI.saving(id,**kw)\n",
    "########################################################\n",
    "printp(EQ, label='Eruption Watch')\n"
   ]
  },
  {
   "cell_type": "code",
   "execution_count": 39,
   "metadata": {},
   "outputs": [
    {
     "data": {
      "image/png": "[encoded data removed]",
      "text/plain": [
       "<Figure size 1080x576 with 2 Axes>"
      ]
     },
     "metadata": {
      "needs_background": "light"
     },
     "output_type": "display_data"
    }
   ],
   "source": [
    "xlim = (DT(2024,3,10,0,0,0),DT(2024,4,30,0,0,0))\n",
    "plot_tot(PHI, xlim=xlim, ylim=(0,250), time_ord=True)"
   ]
  },
  {
   "attachments": {},
   "cell_type": "markdown",
   "metadata": {},
   "source": [
    "# <span style=\"color:magenta\">*RSW 15*</span>"
   ]
  },
  {
   "cell_type": "markdown",
   "metadata": {},
   "source": [
    "## <span style=\"color:green\">FDT Flat 4 </span>"
   ]
  },
  {
   "cell_type": "code",
   "execution_count": 40,
   "metadata": {},
   "outputs": [
    {
     "name": "stdout",
     "output_type": "stream",
     "text": [
      "FDT FLAT 4 (10/04/2024)\n",
      "number of datasets: 10\n",
      "cadence: 300.0 mins\n",
      "duration: 5:00:00\n",
      "amount of raw-data at 32 bits: 3967.3 MiB, 396.7 MiB per dataset\n",
      "amount of pack-data at 16 bits: 206.0 MiB, 206.0 MiB per dataset\n",
      "packing time: 0:01:30\n",
      "amount of compressed data + metadata at 6 bits: 72.6 MiB, 72.6 MiB per dataset\n",
      "compressing (+ flushing) time: 0:10:09.007634\n",
      "amount of metadata:  16.1 MiB\n",
      "amount of memory usage: 4173.3 MiB\n",
      "\n"
     ]
    }
   ],
   "source": [
    "########################################################\n",
    "id = 1\n",
    "\n",
    "t0 = DT.fromisoformat('2024-04-10T00:00:00')\n",
    "FDTflat1 = FDT_flat(PHI,t0,id,proc = 'auto', flush = DT(2024,4,15,16,30,0),verbose=False)\n",
    "########################################################\n",
    "printp(FDTflat1, label=\"FDT FLAT 4 (10/04/2024)\")"
   ]
  },
  {
   "cell_type": "markdown",
   "metadata": {},
   "source": [
    "## <span style=\"color:green\">HRT Flat 5 </span>"
   ]
  },
  {
   "cell_type": "code",
   "execution_count": 41,
   "metadata": {},
   "outputs": [
    {
     "name": "stdout",
     "output_type": "stream",
     "text": [
      "HRT FLAT 5 (11/04/2024)\n",
      "number of datasets: 11\n",
      "cadence: 15.0 mins\n",
      "duration: 0:15:00\n",
      "amount of raw-data at 32 bits: 4364.0 MiB, 396.7 MiB per dataset\n",
      "amount of pack-data at 16 bits: 206.0 MiB, 206.0 MiB per dataset\n",
      "packing time: 0:01:30\n",
      "amount of compressed data + metadata at 6 bits: 72.6 MiB, 72.6 MiB per dataset\n",
      "compressing (+ flushing) time: 0:10:09.007634\n",
      "amount of metadata:  16.1 MiB\n",
      "amount of memory usage: 4570.0 MiB\n",
      "\n"
     ]
    }
   ],
   "source": [
    "########################################################\n",
    "id = 1\n",
    "\n",
    "t0 = DT.fromisoformat('2024-04-11T10:00:00')\n",
    "HRTflat1 = HRT_flat(PHI,t0,id,proc = 'auto', flush = DT(2024,4,15,16,50,0),verbose=False)\n",
    "########################################################\n",
    "printp(HRTflat1, label=\"HRT FLAT 5 (11/04/2024)\")"
   ]
  },
  {
   "attachments": {},
   "cell_type": "markdown",
   "metadata": {},
   "source": [
    "## <span style=\"color:yellow\">L_SMALL_HRES_HCAD_Slow-Wind-Connection</span>"
   ]
  },
  {
   "cell_type": "code",
   "execution_count": 42,
   "metadata": {},
   "outputs": [
    {
     "name": "stdout",
     "output_type": "stream",
     "text": [
      "Slow Wind\n",
      "number of datasets: 8\n",
      "cadence: 30 mins\n",
      "duration: 1:00:00\n",
      "amount of raw-data at 32 bits: 3173.8 MiB, 396.7 MiB per dataset\n",
      "amount of pack-data at 16 bits: 1647.9 MiB, 206.0 MiB per dataset\n",
      "packing time: 0:12:00\n",
      "amount of compressed data + metadata at 6 bits: 580.8 MiB, 72.6 MiB per dataset\n",
      "compressing (+ flushing) time: 1:21:12.061075\n",
      "amount of metadata:  32.8 MiB\n",
      "amount of memory usage: 4821.8 MiB\n",
      "\n"
     ]
    }
   ],
   "source": [
    "########################################################\n",
    "id = 1\n",
    "t0 = DT.fromisoformat('2024-04-12T00:00:00')\n",
    "t1 = DT.fromisoformat('2024-04-16T00:00:00')\n",
    "SW = PHI_MODE('HRT')\n",
    "\n",
    "kw = SW.observation(t0,2,cadence=30,shape=(2048,2048,4,6)); PHI.saving(id,**kw)\n",
    "kw = SW.packing(kw['end']+TD(minutes=30),ndata=-1,level = 'raw'); PHI.saving(id,**kw)\n",
    "# kw = SW.compressing(DT(2024,3,31,23,0,0),ndata=2,nbits=6,level = 'raw.pack'); PHI.saving(id,**kw)\n",
    "\n",
    "kw = SW.observation(t0+TD(days=1),2,cadence=30,shape=(2048,2048,4,6)); PHI.saving(id,**kw)\n",
    "kw = SW.packing(kw['end']+TD(minutes=30),ndata=-1,level = 'raw'); PHI.saving(id,**kw)\n",
    "# kw = SW.compressing(DT(2024,4,1,23,0,0),ndata=2,nbits=6,level = 'raw.pack'); PHI.saving(id,**kw)\n",
    "\n",
    "kw = SW.observation(t0+TD(days=2),2,cadence=30,shape=(2048,2048,4,6)); PHI.saving(id,**kw)\n",
    "kw = SW.packing(kw['end']+TD(minutes=30),ndata=-1,level = 'raw'); PHI.saving(id,**kw)\n",
    "# kw = SW.compressing(DT(2024,4,2,23,0,0),ndata=2,nbits=6,level = 'raw.pack'); PHI.saving(id,**kw)\n",
    "\n",
    "kw = SW.observation(t0+TD(days=3),2,cadence=30,shape=(2048,2048,4,6)); PHI.saving(id,**kw)\n",
    "kw = SW.packing(kw['end']+TD(minutes=30),ndata=-1,level = 'raw'); PHI.saving(id,**kw)\n",
    "# kw = SW.compressing(DT(2024,4,3,16,0,0),ndata=2,nbits=6,level = 'raw.pack'); PHI.saving(id,**kw)\n",
    "\n",
    "# kw = SW.observation(t0+TD(days=4),2,cadence=30,shape=(2048,2048,4,6)); PHI.saving(id,**kw)\n",
    "# kw = SW.packing(kw['end']+TD(minutes=30),ndata=-1,level = 'raw'); PHI.saving(id,**kw)\n",
    "# # kw = SW.compressing(DT(2024,4,3,16,0,0),ndata=2,nbits=6,level = 'raw.pack'); PHI.saving(id,**kw)\n",
    "\n",
    "kw = SW.compressing(DT(2024,4,17,4,0,0),ndata=-1,nbits=6,level='raw.pack'); PHI.saving(id,**kw)\n",
    "# for i in range(4):\n",
    "#     kw = SW.compressing(DT(2024,4,18,4,0,0)+TD(days=i),ndata=2,nbits=6,level='raw.pack'); PHI.saving(id,**kw)\n",
    "########################################################\n",
    "printp(SW, label='Slow Wind')\n"
   ]
  },
  {
   "cell_type": "markdown",
   "metadata": {},
   "source": [
    "## <span style=\"color:green\">FDT Flat 5 </span>"
   ]
  },
  {
   "cell_type": "code",
   "execution_count": 43,
   "metadata": {},
   "outputs": [
    {
     "name": "stdout",
     "output_type": "stream",
     "text": [
      "FDT FLAT 5 (16/04/2024)\n",
      "number of datasets: 10\n",
      "cadence: 300.0 mins\n",
      "duration: 5:00:00\n",
      "amount of raw-data at 32 bits: 3967.3 MiB, 396.7 MiB per dataset\n",
      "amount of pack-data at 16 bits: 206.0 MiB, 206.0 MiB per dataset\n",
      "packing time: 0:01:30\n",
      "amount of compressed data + metadata at 6 bits: 72.6 MiB, 72.6 MiB per dataset\n",
      "compressing (+ flushing) time: 0:10:09.007634\n",
      "amount of metadata:  16.1 MiB\n",
      "amount of memory usage: 4173.3 MiB\n",
      "\n"
     ]
    }
   ],
   "source": [
    "########################################################\n",
    "id = 1\n",
    "\n",
    "t0 = DT.fromisoformat('2024-04-16T00:00:00')\n",
    "FDTflat1 = FDT_flat(PHI,t0,id,proc = 'auto', flush = DT(2024,4,17,21,30,0),verbose=False)\n",
    "########################################################\n",
    "printp(FDTflat1, label=\"FDT FLAT 5 (16/04/2024)\")"
   ]
  },
  {
   "attachments": {},
   "cell_type": "markdown",
   "metadata": {},
   "source": [
    "# <span style=\"color:white\">*out of RSWs*</span>"
   ]
  },
  {
   "attachments": {},
   "cell_type": "markdown",
   "metadata": {},
   "source": [
    "# <span style=\"color:yellow\">PLOTS</span>\n",
    "\n",
    "We should try to format partition two at some point, in this way we could add more FDT synoptic during and after RSWs.\n",
    "\n",
    "Implementing CROP+Pack would save ~70 GB of memory in NAND1"
   ]
  },
  {
   "cell_type": "code",
   "execution_count": 44,
   "metadata": {},
   "outputs": [
    {
     "data": {
      "image/png": "[encoded data removed]",
      "text/plain": [
       "<Figure size 1080x576 with 2 Axes>"
      ]
     },
     "metadata": {
      "needs_background": "light"
     },
     "output_type": "display_data"
    }
   ],
   "source": [
    "xlim = (DT(2024,1,1,0,0,0),DT(2024,4,22,0,0,0))\n",
    "plot_tot(PHI, xlim=xlim, ylim=(0,250), time_ord=True)"
   ]
  },
  {
   "cell_type": "code",
   "execution_count": 45,
   "metadata": {},
   "outputs": [
    {
     "name": "stderr",
     "output_type": "stream",
     "text": [
      "/tmp/ipykernel_508560/2557985455.py:221: UserWarning: marker is redundantly defined by the 'marker' keyword argument and the fmt string \"o\" (-> marker='o'). The keyword argument will take precedence.\n",
      "  plt.plot_date(times,newc1+newc2,color='black',linestyle='-',marker='.',label='total: '+str(round(total,1))+' GB')\n"
     ]
    },
    {
     "data": {
      "image/png": "[encoded data removed]",
      "text/plain": [
       "<Figure size 1080x864 with 1 Axes>"
      ]
     },
     "metadata": {
      "needs_background": "light"
     },
     "output_type": "display_data"
    }
   ],
   "source": [
    "xlim = (DT(2024,3,8,0,0,0),DT(2024,4,30,0,0,0))\n",
    "tt, tm1, tm2 = plot_flush_per_day(PHI,xlim,values=True)\n",
    "ylim = plt.gca().get_ylim()\n",
    "plt.fill_betweenx(ylim,DT(2024,2,11),DT(2024,3,10),facecolor='pink',alpha=.2)\n",
    "plt.fill_betweenx(ylim,DT(2024,3,13),DT(2024,3,25),facecolor='blue',alpha=.2)\n",
    "plt.fill_betweenx(ylim,DT(2024,3,27),DT(2024,4,10),facecolor='red',alpha=.2)\n",
    "plt.fill_betweenx(ylim,DT(2024,4,12),DT(2024,4,16),facecolor='yellow',alpha=.2)\n",
    "plt.ylim(ylim);\n",
    "# 1 GB = 2.2h of flushing"
   ]
  },
  {
   "cell_type": "code",
   "execution_count": 46,
   "metadata": {},
   "outputs": [
    {
     "name": "stdout",
     "output_type": "stream",
     "text": [
      "(MiB)\tNAND-1\tNAND-2\ttotal\n",
      "RSW-10\t145\t6040\t6185\n",
      "RSW-11\t9401\t1307\t10708\n",
      "RSW-12\t4285\t0\t4285\n",
      "total\t13830\t7347\t21177\n",
      "\n",
      "out\t653\t0\t653\n"
     ]
    }
   ],
   "source": [
    "rsw10 = [DT(2024,3,12,0,0,0),DT(2024,3,25,0,0,0)]\n",
    "rsw11 = [DT(2024,3,25,0,0,0),DT(2024,4,12,0,0,0)]\n",
    "rsw12 = [DT(2024,4,12,0,0,0),DT(2024,4,17,0,0,0)]\n",
    "\n",
    "rsw10_1 = tm1[np.where(np.logical_and(tt>=rsw10[0].date(),tt<rsw10[1].date()))] * 1e9 / 2**20\n",
    "rsw10_2 = tm2[np.where(np.logical_and(tt>=rsw10[0].date(),tt<rsw10[1].date()))]* 1e9 / 2**20\n",
    "\n",
    "rsw11_1 = tm1[np.where(np.logical_and(tt>=rsw11[0].date(),tt<rsw11[1].date()))]* 1e9 / 2**20\n",
    "rsw11_2 = tm2[np.where(np.logical_and(tt>=rsw11[0].date(),tt<rsw11[1].date()))]* 1e9 / 2**20\n",
    "\n",
    "rsw12_1 = tm1[np.where(np.logical_and(tt>=rsw12[0].date(),tt<rsw12[1].date()))]* 1e9 / 2**20\n",
    "rsw12_2 = tm2[np.where(np.logical_and(tt>=rsw12[0].date(),tt<rsw12[1].date()))]* 1e9 / 2**20\n",
    "\n",
    "out_1 = tm1[np.where(tt>=rsw12[1].date())]* 1e9 / 2**20\n",
    "out_2 = tm2[np.where(tt>=rsw12[1].date())]* 1e9 / 2**20\n",
    "\n",
    "print('(MiB)\\tNAND-1\\tNAND-2\\ttotal')\n",
    "print(f'RSW-10\\t{int(round(rsw10_1.sum(),0))}\\t{int(round(rsw10_2.sum(),0))}\\t{int(round(rsw10_1.sum()+rsw10_2.sum(),0))}')\n",
    "print(f'RSW-11\\t{int(round(rsw11_1.sum(),0))}\\t{int(round(rsw11_2.sum(),0))}\\t{int(round(rsw11_1.sum()+rsw11_2.sum(),0))}')\n",
    "print(f'RSW-12\\t{int(round(rsw12_1.sum(),0))}\\t{int(round(rsw12_2.sum(),0))}\\t{int(round(rsw12_1.sum()+rsw12_2.sum(),0))}')\n",
    "print(f'total\\t{int(round(rsw10_1.sum()+rsw11_1.sum()+rsw12_1.sum(),0))}\\t{int(round(rsw10_2.sum()+rsw11_2.sum()+rsw12_2.sum(),0))}'+\n",
    "      f'\\t{int(round(rsw10_1.sum()+rsw10_2.sum()+rsw11_1.sum()+rsw11_2.sum()+rsw12_1.sum()+rsw12_2.sum(),0))}')\n",
    "print('')\n",
    "print(f'out\\t{int(round(out_1.sum(),0))}\\t{int(round(out_2.sum(),0))}\\t{int(round(out_1.sum()+out_2.sum(),0))}')\n"
   ]
  },
  {
   "cell_type": "code",
   "execution_count": 47,
   "metadata": {},
   "outputs": [
    {
     "name": "stdout",
     "output_type": "stream",
     "text": [
      "DATE\tFLUSH NAND-1 (MiB)\tFLUSH NAND-2 (MiB)\n",
      "2023-12-31\t0\t0\n",
      "2024-01-01\t41\t0\n",
      "2024-01-02\t41\t0\n",
      "2024-01-03\t41\t0\n",
      "2024-01-04\t41\t0\n",
      "2024-01-05\t41\t0\n",
      "2024-01-06\t41\t0\n",
      "2024-01-07\t41\t0\n",
      "2024-01-08\t41\t0\n",
      "2024-01-09\t41\t0\n",
      "2024-01-10\t41\t0\n",
      "2024-01-11\t41\t0\n",
      "2024-01-12\t41\t0\n",
      "2024-01-13\t41\t0\n",
      "2024-01-14\t41\t0\n",
      "2024-01-15\t41\t0\n",
      "2024-01-16\t41\t0\n",
      "2024-01-17\t41\t0\n",
      "2024-01-18\t41\t0\n",
      "2024-01-19\t41\t0\n",
      "2024-01-20\t41\t0\n",
      "2024-01-21\t41\t0\n",
      "2024-01-22\t41\t0\n",
      "2024-01-23\t41\t0\n",
      "2024-01-24\t41\t0\n",
      "2024-01-25\t41\t0\n",
      "2024-01-26\t41\t0\n",
      "2024-01-27\t41\t0\n",
      "2024-01-28\t41\t0\n",
      "2024-01-29\t41\t0\n",
      "2024-01-30\t41\t0\n",
      "2024-01-31\t41\t0\n",
      "2024-02-01\t41\t0\n",
      "2024-02-02\t41\t0\n",
      "2024-02-03\t41\t0\n",
      "2024-02-04\t41\t0\n",
      "2024-02-05\t41\t0\n",
      "2024-02-06\t41\t0\n",
      "2024-02-07\t41\t0\n",
      "2024-02-08\t41\t0\n",
      "2024-02-09\t41\t0\n",
      "2024-02-10\t41\t0\n",
      "2024-02-11\t56\t0\n",
      "2024-02-12\t56\t0\n",
      "2024-02-13\t0\t0\n",
      "2024-02-14\t0\t0\n",
      "2024-02-15\t0\t0\n",
      "2024-02-16\t0\t0\n",
      "2024-02-17\t0\t0\n",
      "2024-02-18\t0\t0\n",
      "2024-02-19\t0\t0\n",
      "2024-02-20\t3702\t0\n",
      "2024-02-21\t0\t0\n",
      "2024-02-22\t3702\t0\n",
      "2024-02-23\t0\t0\n",
      "2024-02-24\t1851\t1851\n",
      "2024-02-25\t0\t0\n",
      "2024-02-26\t56\t3702\n",
      "2024-02-27\t1871\t0\n",
      "2024-02-28\t73\t3702\n",
      "2024-02-29\t73\t0\n",
      "2024-03-01\t73\t0\n",
      "2024-03-02\t73\t0\n",
      "2024-03-03\t73\t0\n",
      "2024-03-04\t73\t0\n",
      "2024-03-05\t73\t0\n",
      "2024-03-06\t73\t0\n",
      "2024-03-07\t73\t0\n",
      "2024-03-08\t92\t0\n",
      "2024-03-09\t92\t0\n",
      "2024-03-10\t92\t0\n",
      "2024-03-11\t1907\t0\n",
      "2024-03-12\t145\t0\n",
      "2024-03-13\t0\t0\n",
      "2024-03-14\t0\t114\n",
      "2024-03-15\t0\t114\n",
      "2024-03-16\t0\t114\n",
      "2024-03-17\t0\t114\n",
      "2024-03-18\t0\t0\n",
      "2024-03-19\t0\t0\n",
      "2024-03-20\t0\t978\n",
      "2024-03-21\t0\t1413\n",
      "2024-03-22\t0\t1379\n",
      "2024-03-23\t0\t944\n",
      "2024-03-24\t0\t871\n",
      "2024-03-25\t0\t726\n",
      "2024-03-26\t0\t581\n",
      "2024-03-27\t337\t0\n",
      "2024-03-28\t191\t0\n",
      "2024-03-29\t400\t0\n",
      "2024-03-30\t191\t0\n",
      "2024-03-31\t482\t0\n",
      "2024-04-01\t145\t0\n",
      "2024-04-02\t145\t0\n",
      "2024-04-03\t726\t0\n",
      "2024-04-04\t0\t0\n",
      "2024-04-05\t907\t0\n",
      "2024-04-06\t979\t0\n",
      "2024-04-07\t979\t0\n",
      "2024-04-08\t979\t0\n",
      "2024-04-09\t979\t0\n",
      "2024-04-10\t979\t0\n",
      "2024-04-11\t979\t0\n",
      "2024-04-12\t979\t0\n",
      "2024-04-13\t979\t0\n",
      "2024-04-14\t834\t0\n",
      "2024-04-15\t726\t0\n",
      "2024-04-16\t766\t0\n",
      "2024-04-17\t653\t0\n"
     ]
    }
   ],
   "source": [
    "print('DATE\\tFLUSH NAND-1 (MiB)\\tFLUSH NAND-2 (MiB)')\n",
    "for tti, tm1i, tm2i in zip(tt,tm1,tm2):\n",
    "    print(str(tti)+'\\t'+'{:.0f}'.format(tm1i*1e9/2**20)+'\\t'+'{:.0f}'.format(tm2i*1e9/2**20))"
   ]
  },
  {
   "cell_type": "code",
   "execution_count": 93,
   "metadata": {},
   "outputs": [
    {
     "data": {
      "image/png": "[encoded data removed]",
      "text/plain": [
       "<Figure size 1080x720 with 4 Axes>"
      ]
     },
     "metadata": {
      "needs_background": "light"
     },
     "output_type": "display_data"
    }
   ],
   "source": [
    "from scipy.interpolate import interp1d\n",
    "tot1 = np.asarray(PHI.part1.history['occu'])\n",
    "tot2 = np.asarray(PHI.part2.history['occu'])\n",
    "c1 = np.asarray(PHI.part1.history['compr'])\n",
    "c2 = np.asarray(PHI.part2.history['compr'])\n",
    "d1 = np.asarray(PHI.part1.history['start'])\n",
    "d2 = np.asarray(PHI.part2.history['start'])\n",
    "\n",
    "starttime = min(min(d1),min(d2))\n",
    "endtime = max(max(d1),max(d2))\n",
    "t0 = starttime\n",
    "times = []\n",
    "while starttime.date() <= endtime.date():\n",
    "    times.append(starttime.date())\n",
    "    starttime += TD(days=1)\n",
    "starttime = t0; del t0\n",
    "times_float = [(t - d1[0]).total_seconds() for t in d1]\n",
    "times = np.asarray(times)\n",
    "\n",
    "s = np.argsort(d1)\n",
    "\n",
    "newtot1 = np.zeros(np.size(times))\n",
    "for i,j in zip(d1,tot1):\n",
    "    if True:\n",
    "        ind = np.where(times == i.date())[0]\n",
    "        newtot1[ind] += j/1e3\n",
    "newtot1 = np.asarray(newtot1)\n",
    "\n",
    "newtot2 = np.zeros(np.size(times))\n",
    "for i,j in zip(d2,tot2):\n",
    "    if True:\n",
    "        ind = np.where(times == i.date())[0]\n",
    "        newtot2[ind] += j/1e3\n",
    "newtot2 = np.asarray(newtot2)\n",
    "\n",
    "newc1 = np.zeros(np.size(times))\n",
    "for i,j in zip(d1,c1):\n",
    "    if j>=0:\n",
    "        ind = np.where(times == i.date())[0]\n",
    "        newc1[ind] += j/1e3\n",
    "newc1 = np.asarray(newc1)\n",
    "\n",
    "\n",
    "newc2 = np.zeros(np.size(times))\n",
    "for i,j in zip(d2,c2):\n",
    "    if j>=0:\n",
    "        ind = np.where(times == i.date())[0]\n",
    "        newc2[ind] += j/1e3\n",
    "newc2 = np.asarray(newc2)\n",
    "\n",
    "form1 = np.zeros(np.size(times))\n",
    "for i,j in zip(d1,c1):\n",
    "    if j<0:\n",
    "        ind = np.where(times == i.date())[0]\n",
    "        form1[ind] += j/1e3\n",
    "form1 = np.asarray(form1)\n",
    "\n",
    "\n",
    "form2 = np.zeros(np.size(times))\n",
    "for i,j in zip(d2,c2):\n",
    "    if j<0:\n",
    "        ind = np.where(times == i.date())[0]\n",
    "        form2[ind] += j/1e3\n",
    "form2 = np.asarray(form2)\n",
    "\n",
    "trig1 = np.where(form1 < 0)[0]\n",
    "trig2 = np.where(form2 < 0)[0]\n",
    "\n",
    "x = TM3['date'][np.logical_and(TM3['date'] <= endtime+TD(days=1),TM3['date'] >= starttime-TD(days=1))]\n",
    "y = TM3['tm_rate'][np.logical_and(TM3['date'] <= endtime+TD(days=1),TM3['date'] >= starttime-TD(days=1))]\n",
    "z = TM3['duration'][np.logical_and(TM3['date'] <= endtime+TD(days=1),TM3['date'] >= starttime-TD(days=1))]\n",
    "\n",
    "xx = [(i - starttime).total_seconds() for i in x]\n",
    "f = interp1d(xx, y*z,fill_value='extrapolate')\n",
    "xnew = [(i - starttime.date()).total_seconds() for i in times]\n",
    "ynew = f(xnew)/8e9\n",
    "ynew[times<datetime.date(2023,4,1)] *= .2\n",
    "ynew[times>=datetime.date(2023,4,1)] *= .3\n",
    "\n",
    "tm_used = np.zeros(times.size)\n",
    "down = 0#np.zeros(times.size)\n",
    "for i in range(times.size):\n",
    "    if newc1[i] > 0 or newc2[i] > 0:\n",
    "        tm_used[i] = min(ynew[i],np.sum(newc1[:i+1] + newc2[:i+1]) - tm_used[:i].sum())\n",
    "        down = max(0,np.sum(newc1[:i+1] + newc2[:i+1] - tm_used[:i+1]))\n",
    "    else:\n",
    "        if down > 0:\n",
    "            tm_used[i] = min(ynew[i],np.sum(newc1[:i+1] + newc2[:i+1]) - tm_used[:i].sum())\n",
    "            down = max(0,np.sum(newc1[:i+1] + newc2[:i+1] - tm_used[:i+1]))\n",
    "\n",
    "plt.figure(figsize=(15,10))\n",
    "plt.subplot(221)\n",
    "plt.ylabel('data compression (GB)')\n",
    "plt.plot(times,newc1,label='partition 1')\n",
    "plt.plot(times,newc2,label='partition 2')\n",
    "for i,t in enumerate(trig1):\n",
    "    if i == 0:\n",
    "        plt.axvline(times[t],linestyle='--',color='k',alpha=.5,label='partition 1 reset')\n",
    "    else:\n",
    "        plt.axvline(times[t],linestyle='--',color='k',alpha=.5)\n",
    "for i,t in enumerate(trig2):\n",
    "    if i == 0:\n",
    "        plt.axvline(times[t],linestyle='--',color='g',alpha=.5,label='partition 2 reset')\n",
    "    else:\n",
    "        plt.axvline(times[t],linestyle='--',color='g',alpha=.5)\n",
    "plt.legend()\n",
    "\n",
    "plt.subplot(222)\n",
    "plt.ylabel('daily TM rate (GB/rate)')\n",
    "plt.plot(times,ynew,label='TM PHI rate')\n",
    "plt.plot(times,tm_used,'ro',label='TM used')\n",
    "plt.legend()\n",
    "for t in trig1:\n",
    "    plt.axvline(times[t],linestyle='--',color='k',alpha=.5)\n",
    "for t in trig2:\n",
    "    plt.axvline(times[t],linestyle='--',color='g',alpha=.5)\n",
    "# print('total1408 TM used:',round(tm_used.sum(),2),'GB')\n",
    "# print('total compressed data:',round((newc1+newc2).sum(),2),'GB')\n",
    "# plt.xlim(datetime.date(2023,1,10),datetime.date(2023,2,5))\n",
    "plt.subplot(223)\n",
    "# cond = np.logical_and(times>=FL['date'][0].date(), times<=FL['date'][-1].date())\n",
    "cond = np.ones(np.size(times),dtype=bool)\n",
    "plt.ylabel('data and TM amount (GB)')\n",
    "plt.plot(times[cond],np.cumsum(newc1[cond]+newc2[cond]),label='cumulative compressed data')\n",
    "plt.plot(times[cond],np.cumsum(tm_used[cond]),label='cumulative TM usage')\n",
    "plt.plot(times[cond],np.cumsum(newc1[cond]+newc2[cond])-np.cumsum(tm_used[cond]),label='SSMM filling state')\n",
    "# plt.plot(FL['date'],-np.cumsum(FL['flush']*2**20/1e9),'m',label='SOOPK FLUSH')\n",
    "# cond = np.logical_and(FL['date']>DT(2023,1,19,0,0), FL['date']<DT(2023,5,1,0,0))\n",
    "# plt.plot(FL['date'][cond],-np.cumsum(FL['flush'][cond]*2**20/1e9),'m',label='SOOPK FLUSH')\n",
    "plt.legend()\n",
    "for t in trig1:\n",
    "    plt.axvline(times[t],linestyle='--',color='k',alpha=.5)\n",
    "for t in trig2:\n",
    "    plt.axvline(times[t],linestyle='--',color='g',alpha=.5)\n",
    "\n",
    "plt.subplot(224)\n",
    "plt.ylabel('total memory usage (GB)')\n",
    "plt.plot(times,np.cumsum(newtot1),'k',label='partition 1')\n",
    "plt.plot(times,np.cumsum(newtot2),'g',label='partition 2')\n",
    "plt.legend()\n",
    "plt.ylim(0,250)\n",
    "plt.axhline(220,linestyle='--',color='r')\n",
    "for t in trig1:\n",
    "    plt.axvline(times[t],linestyle='--',color='k',alpha=.5)\n",
    "for t in trig2:\n",
    "    plt.axvline(times[t],linestyle='--',color='g',alpha=.5)\n",
    "\n",
    "plt.gcf().autofmt_xdate()\n",
    "# plt.savefig('/home/calchetti/MPStemp/pics/TM/tm_v5.1.png')"
   ]
  },
  {
   "cell_type": "code",
   "execution_count": 132,
   "metadata": {},
   "outputs": [
    {
     "name": "stdout",
     "output_type": "stream",
     "text": [
      "Total amount of TM used: 50.56 GB\n",
      "Total amount of compressed data: 50.56 GB\n"
     ]
    }
   ],
   "source": [
    "print('Total amount of TM used:',round(tm_used.sum(),2),'GB')\n",
    "print('Total amount of compressed data:',round((newc1+newc2).sum(),2),'GB')"
   ]
  }
 ],
 "metadata": {
  "interpreter": {
   "hash": "cbf6c9a26a160734b6448319c4eb49a011a468026d1aa18347f15181b6422a99"
  },
  "kernelspec": {
   "display_name": "Python 3 (ipykernel)",
   "language": "python",
   "name": "python3"
  },
  "language_info": {
   "codemirror_mode": {
    "name": "ipython",
    "version": 3
   },
   "file_extension": ".py",
   "mimetype": "text/x-python",
   "name": "python",
   "nbconvert_exporter": "python",
   "pygments_lexer": "ipython3",
   "version": "3.8.5"
  }
 },
 "nbformat": 4,
 "nbformat_minor": 4
}
