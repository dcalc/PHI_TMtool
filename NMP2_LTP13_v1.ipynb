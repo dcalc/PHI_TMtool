{
 "cells": [
  {
   "cell_type": "markdown",
   "metadata": {},
   "source": [
    "# <span style=\"color:yellow\">New Classes and Some Functions</span>"
   ]
  },
  {
   "cell_type": "code",
   "execution_count": 6,
   "metadata": {},
   "outputs": [],
   "source": [
    "from TMclass import *\n",
    "import datetime\n",
    "import numpy as np\n",
    "import matplotlib.pyplot as plt\n",
    "import pandas as pd\n",
    "from xml.etree import ElementTree\n",
    "from datetime import datetime as DT\n",
    "from datetime import timedelta as TD\n",
    "\n",
    "TM3 = {'date':[], 'tm_rate':[], 'duration':[]}\n",
    "TM3n = {'date':[], 'tm_rate':[], 'duration':[]}\n",
    "TM13 = {'date':[], 'tm_rate':[], 'duration':[]}\n",
    "\n",
    "# you have to remove what is inside <eventfile>\n",
    "with open('../SIFECS_NMP_Segment_2_withLTP10-11FECS.xml') as f:\n",
    "\ttree = ElementTree.parse(f)\n",
    "\n",
    "for node in tree.iter('PASS'):\n",
    "    d = DT.strptime(node.attrib.get('time')[:-1],\"%Y-%jT%H:%M:%S\").date()\n",
    "    if d >= datetime.date(2023,1,1) and d <= datetime.date(2024,1,1):\n",
    "        TM3['date'] += [DT.strptime(node.attrib.get('time')[:-1],\"%Y-%jT%H:%M:%S\")]\n",
    "        TM3['tm_rate'] += [float(node.attrib.get('tm_rate'))]\n",
    "        TM3['duration'] += [int(node.attrib.get('duration'))]\n",
    "\n",
    "TM3['date'] = np.asarray(TM3['date'])\n",
    "TM3['tm_rate'] = np.asarray(TM3['tm_rate'])\n",
    "TM3['duration'] = np.asarray(TM3['duration'])\n",
    "\n",
    "with open('../FECS_2023072_2023177_2022348130413_v03.SOL') as f:\n",
    "\ttree = ElementTree.parse(f)\n",
    "for node in tree.iter('PASS'):\n",
    "    d = DT.strptime(node.attrib.get('time')[:-1],\"%Y-%jT%H:%M:%S\").date()\n",
    "    if d >= datetime.date(2023,1,1) and d <= datetime.date(2024,1,1):\n",
    "        TM3n['date'] += [DT.strptime(node.attrib.get('time')[:-1],\"%Y-%jT%H:%M:%S\")]\n",
    "        TM3n['tm_rate'] += [float(node.attrib.get('tm_rate'))]\n",
    "        TM3n['duration'] += [int(node.attrib.get('duration'))]\n",
    "\n",
    "TM3n['date'] = np.asarray(TM3n['date'])\n",
    "TM3n['tm_rate'] = np.asarray(TM3n['tm_rate'])\n",
    "TM3n['duration'] = np.asarray(TM3n['duration'])\n",
    "\n",
    "with open('../SIFECS_SIFECS_LTP12-13_preFECS_Mission_Level_Plan_for_LTP12_and_13_2.xml') as f:\n",
    "\ttree = ElementTree.parse(f)\n",
    "for node in tree.iter('PASS'):\n",
    "    d = DT.strptime(node.attrib.get('time')[:-1],\"%Y-%jT%H:%M:%S\").date()\n",
    "    if d >= datetime.date(2023,1,1) and d <= datetime.date(2024,1,1):\n",
    "        TM13['date'] += [DT.strptime(node.attrib.get('time')[:-1],\"%Y-%jT%H:%M:%S\")]\n",
    "        TM13['tm_rate'] += [float(node.attrib.get('tm_rate'))]\n",
    "        TM13['duration'] += [int(node.attrib.get('duration'))]\n",
    "\n",
    "TM13['date'] = np.asarray(TM13['date'])\n",
    "TM13['tm_rate'] = np.asarray(TM13['tm_rate'])\n",
    "TM13['duration'] = np.asarray(TM13['duration'])\n",
    "\n",
    "idx0 = np.where(TM3['date'] > TM3n['date'][0])[0][0]\n",
    "idx1 = np.where(TM3['date'] < TM3n['date'][-1])[0][-1]\n",
    "TM3['date'] = np.concatenate((TM3['date'][:idx0],TM3n['date'],TM3['date'][idx1:]))\n",
    "TM3['tm_rate'] = np.concatenate((TM3['tm_rate'][:idx0],TM3n['tm_rate'],TM3['tm_rate'][idx1:]))\n",
    "TM3['duration'] = np.concatenate((TM3['duration'][:idx0],TM3n['duration'],TM3['duration'][idx1:]))\n",
    "\n",
    "idx0 = np.where(TM3['date'] > TM13['date'][0])[0][0]\n",
    "idx1 = np.where(TM3['date'] < TM13['date'][-1])[0][-1]\n",
    "TM3['date'] = np.concatenate((TM3['date'][:idx0],TM13['date'],TM3['date'][idx1:]))\n",
    "TM3['tm_rate'] = np.concatenate((TM3['tm_rate'][:idx0],TM13['tm_rate'],TM3['tm_rate'][idx1:]))\n",
    "TM3['duration'] = np.concatenate((TM3['duration'][:idx0],TM13['duration'],TM3['duration'][idx1:]))\n",
    "\n",
    "f = open('../phi.itl','r')\n",
    "lines = f.readlines()\n",
    "\n",
    "FL = {'date':[], 'flush':[]}\n",
    "\n",
    "for x in lines:\n",
    "    temp = x.split(' ')\n",
    "    if 'PHI_SCI_Flush_VOL' in temp[-1]:\n",
    "        FL['date'] += [DT.fromisoformat(temp[0][:-1])]\n",
    "        FL['flush'] += [float(temp[-1][19:-2])]\n",
    "        # print(temp[0][:-1],temp[-1][19:-2])\n",
    "\n",
    "FL['date'] = np.asarray(FL['date'])\n",
    "FL['flush'] = np.asarray(FL['flush'])\n",
    "\n",
    "# for i in range(np.size(TM3['date'])):\n",
    "#     j = 0\n",
    "#     if TM3['date'][i] >= TM3n['date'][0] and TM3['date'][i] <= TM3n['date'][-1]:\n",
    "#         TM3['date'][i] = TM3n['date'][j]\n",
    "#         TM3['tm_rate'][i] = TM3n['tm_rate'][j]\n",
    "#         TM3['duration'][i] = TM3n['duration'][j]\n",
    "#         j += 1"
   ]
  },
  {
   "cell_type": "code",
   "execution_count": 7,
   "metadata": {},
   "outputs": [],
   "source": [
    "def flush_many(PHI,max_vol, vol_dataset, phi_mode, start, nbits, ndata, level, partition):\n",
    "    # global PHI\n",
    "    # global phi\n",
    "    \n",
    "    def _new_start(start,end):\n",
    "        start += TD(days=1)\n",
    "        start = start.replace(hour=22,minute=0,second=0)\n",
    "        if end > start:\n",
    "            start = end + TD(hours=1)\n",
    "        return start\n",
    "    \n",
    "    vol0 = max_vol[0]\n",
    "    vol1 = max_vol[1]\n",
    "    n0 = int(vol0 // vol_dataset * 0.99)\n",
    "    n1 = int(vol1 // vol_dataset * 0.99)\n",
    "\n",
    "    if ndata == -1:\n",
    "        ndata = phi_mode.level_out(level).n_datasets\n",
    "    \n",
    "    print(f'Days needed: {(ndata-n0)//n1+2}')\n",
    "    kw = phi_mode.compressing(start, nbits = nbits, ndata = n0,level=level); PHI.saving(partition,**kw)\n",
    "    # start += TD(days=1)\n",
    "    start = _new_start(start,kw['end'])\n",
    "\n",
    "    for i in range((ndata-n0)//n1+1):\n",
    "        kw = phi_mode.compressing(start, nbits = nbits, ndata = min(ndata - n0 - i*n1,n1),level=level); PHI.saving(partition,**kw)\n",
    "        start = _new_start(start,kw['end'])\n",
    "\n",
    "    return (phi_mode, kw)\n",
    "    \n",
    "def synoptic(PHI,mode,t0,t1,cadence,shape,nout,nbits,i,format = False):\n",
    "    # t0 = DT.fromisoformat('2023-04-15T00:00:00')\n",
    "    # t1 = DT.fromisoformat('2023-05-01T00:00:00')\n",
    "\n",
    "    # cad = 6*60\n",
    "    # global PHI\n",
    "    N = int((t1 - t0).total_seconds() / (60*cadence))\n",
    "\n",
    "    ti = t0\n",
    "#     deltat = (t1 - t0)/N\n",
    "    deltat = TD(minutes=cadence)\n",
    "    \n",
    "    min2 = TD(minutes=2)\n",
    "    form = False\n",
    "    for n in range(N):\n",
    "        kw = mode.observation(ti,ti+min2,cadence=2,shape=shape); PHI.saving(i,**kw)\n",
    "        if shape[1] != 2048:\n",
    "            kw = mode.cropping(kw['end'] + TD(minutes=5),ndata=-1,crop=[shape[1],shape[1]],level='raw'); PHI.saving(i,**kw)\n",
    "            kw = mode.processing(kw['end'] + TD(minutes=5),ndata=-1,partialStore=0x00,level='raw.crop',nout=nout); PHI.saving(i,**kw)\n",
    "            kw = mode.compressing(kw['end'] + TD(minutes=5), nbits = nbits, ndata = -1,level='raw.crop.proc'); PHI.saving(i,**kw)\n",
    "        else:\n",
    "            kw = mode.processing(kw['end'] + TD(minutes=5),ndata=-1,partialStore=0x00,level='raw',nout=nout); PHI.saving(i,**kw)\n",
    "            kw = mode.compressing(kw['end'] + TD(minutes=5), nbits = nbits, ndata = -1,level='raw.proc'); PHI.saving(i,**kw)\n",
    "        ti = ti + deltat\n",
    "        if format:\n",
    "            if PHI.part1.occu > 220e3 or PHI.part2.occu > 220e3:\n",
    "                PHI.format_partition(i,kw['end'])\n",
    "                i = i%2 + 1\n",
    "\n",
    "def synoptic_raw(PHI,mode,t0,t1,cadence,shape,nbits,i, crop_pack = True, format = False):\n",
    "    # t0 = DT.fromisoformat('2023-04-15T00:00:00')\n",
    "    # t1 = DT.fromisoformat('2023-05-01T00:00:00')\n",
    "\n",
    "    # cad = 6*60\n",
    "    # global PHI\n",
    "    N = int((t1 - t0).total_seconds() / (60*cadence))\n",
    "\n",
    "    ti = t0\n",
    "#     deltat = (t1 - t0)/N\n",
    "    deltat = TD(minutes=cadence)\n",
    "    \n",
    "    min2 = TD(minutes=2)\n",
    "    form = False\n",
    "    for n in range(N):\n",
    "        kw = mode.observation(ti,ti+min2,cadence=2,shape=shape); PHI.saving(i,**kw)\n",
    "        if shape[1] != 2048:\n",
    "            kw = mode.cropping(kw['end'] + TD(minutes=5),ndata=-1,crop=[shape[1],shape[1]],level='raw');\n",
    "            if crop_pack == False:\n",
    "                PHI.saving(i,**kw)\n",
    "            kw = mode.packing(kw['end'] + TD(minutes=5),ndata=-1,level='raw.crop'); PHI.saving(i,**kw)\n",
    "            kw = mode.compressing(kw['end'] + TD(minutes=5), nbits = nbits, ndata = -1,level='raw.crop.pack'); PHI.saving(i,**kw)\n",
    "        else:\n",
    "            kw = mode.packing(kw['end'] + TD(minutes=5),ndata=-1,level='raw'); PHI.saving(i,**kw)\n",
    "            kw = mode.compressing(kw['end'] + TD(minutes=5), nbits = nbits, ndata = -1,level='raw.pack'); PHI.saving(i,**kw)\n",
    "        ti = ti + deltat\n",
    "        if format:\n",
    "            if PHI.part1.occu > 220e3 or PHI.part2.occu > 220e3:\n",
    "                PHI.format_partition(i,kw['end'])\n",
    "                i = i%2 + 1\n",
    "\n",
    "def FDT_flat(PHI,t0,idx,proc='auto',flush='auto',verbose=True):\n",
    "\n",
    "    # global PHI\n",
    "    t1 = t0+TD(minutes=55)\n",
    "    proc_time = TD(hours=5)\n",
    "\n",
    "    FDTf1 = PHI_MODE('FDT')\n",
    "\n",
    "    kw = FDTf1.observation(t0,t1,cadence=6,shape=(2048,2048,4,6)); PHI.saving(idx,**kw)\n",
    "    if proc == 'auto':\n",
    "        t0 = kw['end']+TD(minutes=5)\n",
    "    else:\n",
    "        t0 = proc\n",
    "    kw = FDTf1.observation(t0,1,cadence=proc_time.total_seconds()/60,shape=(2048,2048,4,6)); PHI.saving(idx,**kw)\n",
    "    kw = FDTf1.packing(t0,ndata=1,level='raw',); PHI.saving(idx,**kw)\n",
    "\n",
    "    if flush == 'auto':\n",
    "        t0 = kw['end'] + TD(hours=1)\n",
    "    else:\n",
    "        t0 = flush\n",
    "    kw = FDTf1.compressing(t0,ndata=1,nbits=6,level='raw.pack'); PHI.saving(idx,**kw)\n",
    "\n",
    "    ########################################################\n",
    "    if verbose:\n",
    "        printp(FDTf1, label='FDT Flat Calibration')\n",
    "        plot_tot(PHI,ylim=(0,250),time_ord=True)\n",
    "\n",
    "    return FDTf1\n",
    "\n",
    "def HRT_flat(PHI,t0,idx,proc='auto',flush='auto',verbose=True):\n",
    "    # global PHI\n",
    "    proc_time = TD(minutes=15)\n",
    "\n",
    "    HRTf1 = PHI_MODE('FDT')\n",
    "\n",
    "    kw = HRTf1.observation(t0,10,cadence=40,shape=(2048,2048,4,6)); PHI.saving(idx,**kw)\n",
    "    \n",
    "    if proc == 'auto':\n",
    "        t0 = kw['end']+TD(minutes=5)\n",
    "    else:\n",
    "        t0 = proc\n",
    "    kw = HRTf1.observation(t0,1,cadence=proc_time.total_seconds()/60,shape=(2048,2048,4,6)); PHI.saving(idx,**kw)\n",
    "    kw = HRTf1.packing(kw['end'],ndata=1,level='raw',); PHI.saving(idx,**kw)\n",
    "\n",
    "    if flush == 'auto':\n",
    "        t0 = kw['end'] + TD(hours=1)\n",
    "    else:\n",
    "        t0 = flush\n",
    "    kw = HRTf1.compressing(t0,ndata=1,nbits=6,level='raw.pack'); PHI.saving(idx,**kw)\n",
    "\n",
    "    ########################################################\n",
    "    if verbose:\n",
    "        printp(HRTf1, label='HRT Flat Calibration')\n",
    "        plot_tot(PHI,ylim=(0,250),time_ord=True)\n",
    "\n",
    "    return HRTf1\n",
    "\n",
    "def HRT_kll(PHI,t0,idx,proc='auto',flush='auto',verbose=True):\n",
    "    # global PHI\n",
    "    t1 = t0+TD(minutes=55)\n",
    "    proc_time = TD(hours=5)\n",
    "\n",
    "    HRTf1 = PHI_MODE('FDT')\n",
    "\n",
    "    kw = HRTf1.observation(t0,t1,cadence=6,shape=(2048,2048,4,6)); PHI.saving(idx,**kw)\n",
    "    if proc == 'auto':\n",
    "        t0 = kw['end']+TD(minutes=5)\n",
    "    else:\n",
    "        t0 = proc\n",
    "    kw = HRTf1.observation(t0,1,cadence=proc_time.total_seconds()/60,shape=(2048,2048,4,6)); PHI.saving(idx,**kw)\n",
    "    kw = HRTf1.packing(t0,ndata=1,level='raw',); PHI.saving(idx,**kw)\n",
    "\n",
    "    if flush == 'auto':\n",
    "        t0 = kw['end'] + TD(hours=1)\n",
    "    else:\n",
    "        t0 = flush\n",
    "    kw = HRTf1.compressing(t0,ndata=1,nbits=6,level='raw.pack'); PHI.saving(idx,**kw)\n",
    "\n",
    "    ########################################################\n",
    "    if verbose:\n",
    "        printp(HRTf1, label='HRT Kll Calibration')\n",
    "        plot_tot(PHI,ylim=(0,250),time_ord=True)\n",
    "\n",
    "    return HRTf1\n",
    "\n",
    "def plot_flush_per_day(PHI,xlim=None, values=False):\n",
    "    temp = PHI.part1.history    # plt.subplot(121)\n",
    "    c1 = np.asarray(PHI.part1.history['compr'])\n",
    "    c2 = np.asarray(PHI.part2.history['compr'])\n",
    "\n",
    "    d1 = np.asarray(PHI.part1.history['start'])\n",
    "    d2 = np.asarray(PHI.part2.history['start'])\n",
    "\n",
    "    starttime = min(d1[0],d2[0])\n",
    "    endtime = max(max(d1),max(d2))\n",
    "    t0 = starttime\n",
    "    times = []\n",
    "    while starttime.date() <= endtime.date():\n",
    "        times.append(starttime.date())\n",
    "        starttime += datetime.timedelta(days=1)\n",
    "    starttime = t0; del t0\n",
    "    times_float = [(t - d1[0]).total_seconds() for t in d1]\n",
    "    times = np.asarray(times)\n",
    "\n",
    "    newc1 = np.zeros(np.size(times))\n",
    "    for i,j in zip(d1,c1):\n",
    "        if j>=0:\n",
    "            ind = np.where(times == i.date())[0]\n",
    "            newc1[ind] += j/1e3\n",
    "    newc1 = np.asarray(newc1)\n",
    "\n",
    "    newc2 = np.zeros(np.size(times))\n",
    "    for i,j in zip(d2,c2):\n",
    "        if j>=0:\n",
    "            ind = np.where(times == i.date())[0]\n",
    "            newc2[ind] += j/1e3\n",
    "    newc2 = np.asarray(newc2)\n",
    "\n",
    "    total = 0\n",
    "    for i,t in enumerate(times):\n",
    "        if t >= xlim[0].date() and t<= xlim[1].date():\n",
    "            total += newc1[i] + newc2[i]\n",
    "\n",
    "    plt.figure(figsize=(15,12))\n",
    "    # plt.plot_date(times,newc1,color='blue',linestyle='-',marker='.',label='partition 1')\n",
    "    # plt.plot_date(times,newc2,color='red',linestyle='-',marker='.',label='partition 2')\n",
    "    plt.plot_date(times,newc1+newc2,color='black',linestyle='-',marker='.',label='total: '+str(round(total,1))+' GB')\n",
    "    plt.gcf().autofmt_xdate()\n",
    "    plt.grid()\n",
    "    plt.legend()\n",
    "    if xlim is not None:\n",
    "        plt.xlim(xlim)\n",
    "    plt.ylabel('flush (GB/day)')\n",
    "\n",
    "    if values:\n",
    "        return times, newc1, newc2\n"
   ]
  },
  {
   "cell_type": "code",
   "execution_count": 8,
   "metadata": {},
   "outputs": [
    {
     "data": {
      "text/plain": [
       "(0.0, 4500.0)"
      ]
     },
     "execution_count": 8,
     "metadata": {},
     "output_type": "execute_result"
    },
    {
     "data": {
      "image/png": "[encoded data removed]",
      "text/plain": [
       "<Figure size 720x576 with 1 Axes>"
      ]
     },
     "metadata": {
      "needs_background": "light"
     },
     "output_type": "display_data"
    }
   ],
   "source": [
    "plt.figure(figsize=(10,8))\n",
    "plt.plot(TM3['date'], (TM3['tm_rate']*TM3['duration'])/8/1e6)#; plt.ylim(0,5000)\n",
    "plt.ylim(0,4500)\n",
    "ylim = plt.gca().get_ylim()\n",
    "plt.fill_betweenx(ylim,DT(2023,9,14),DT(2023,9,28),facecolor='black',alpha=.2)\n",
    "plt.fill_betweenx(ylim,DT(2023,10,1),DT(2023,10,11),facecolor='red',alpha=.2)\n",
    "plt.fill_betweenx(ylim,DT(2023,10,12),DT(2023,10,22),facecolor='blue',alpha=.2)\n",
    "plt.fill_betweenx(ylim,DT(2023,10,23),DT(2023,11,3),facecolor='blue',alpha=.2)\n",
    "plt.xlim(datetime.date(2023,6,26),datetime.date(2023,12,31))\n",
    "plt.ylabel('Total Telemetry (MB/day)')\n",
    "plt.xlabel('date')\n",
    "plt.ylim(ylim)"
   ]
  },
  {
   "cell_type": "markdown",
   "metadata": {},
   "source": [
    "# <span style=\"color:white\">*out of RSWs*</span>"
   ]
  },
  {
   "attachments": {},
   "cell_type": "markdown",
   "metadata": {},
   "source": [
    "## <span style=\"color:blue\">Synoptics</span>\n",
    "\n",
    "CROP 1536\n"
   ]
  },
  {
   "cell_type": "code",
   "execution_count": 22,
   "metadata": {},
   "outputs": [
    {
     "name": "stdout",
     "output_type": "stream",
     "text": [
      "Synoptic\n",
      "number of datasets: 24\n",
      "cadence: 360.0 mins\n",
      "duration: 6 days, 0:00:00\n",
      "amount of raw-data at 32 bits: 6591.8 MiB, 274.7 MiB per dataset\n",
      "crop size: 1408\n",
      "amount of crop-data at 32 bits: 4577.6 MiB, 190.7 MiB per dataset\n",
      "cropping time: 0:28:00\n",
      "amount of pack-data at 16 bits: 2380.4 MiB, 99.2 MiB per dataset\n",
      "packing time: 0:36:00\n",
      "amount of metadata:  576 MiB\n",
      "amount of memory usage: 13549.8 MiB\n",
      "\n",
      "Synoptic\n",
      "number of datasets: 52\n",
      "cadence: 360.0 mins\n",
      "duration: 13 days, 0:00:00\n",
      "amount of raw-data at 32 bits: 13092.0 MiB, 251.8 MiB per dataset\n",
      "crop size: 1280\n",
      "amount of crop-data at 32 bits: 8331.3 MiB, 160.2 MiB per dataset\n",
      "cropping time: 1:00:40\n",
      "amount of pack-data at 16 bits: 4364.0 MiB, 83.9 MiB per dataset\n",
      "packing time: 1:18:00\n",
      "amount of metadata:  1248 MiB\n",
      "amount of memory usage: 25787.4 MiB\n",
      "\n",
      "Synoptic\n",
      "number of datasets: 36\n",
      "cadence: 360.0 mins\n",
      "duration: 9 days, 0:00:00\n",
      "amount of raw-data at 32 bits: 7415.8 MiB, 206.0 MiB per dataset\n",
      "crop size: 1024\n",
      "amount of crop-data at 32 bits: 3845.2 MiB, 106.8 MiB per dataset\n",
      "cropping time: 0:21:00\n",
      "amount of pack-data at 16 bits: 2197.3 MiB, 61.0 MiB per dataset\n",
      "packing time: 0:27:00\n",
      "amount of metadata:  864 MiB\n",
      "amount of memory usage: 13458.3 MiB\n",
      "\n",
      "Synoptic\n",
      "number of datasets: 92\n",
      "cadence: 360.0 mins\n",
      "duration: 23 days, 0:00:00\n",
      "amount of raw-data at 32 bits: 16845.7 MiB, 183.1 MiB per dataset\n",
      "crop size: 896\n",
      "amount of crop-data at 32 bits: 7720.9 MiB, 83.9 MiB per dataset\n",
      "cropping time: 0:53:40\n",
      "amount of pack-data at 16 bits: 4211.4 MiB, 45.8 MiB per dataset\n",
      "packing time: 1:09:00\n",
      "amount of metadata:  2208 MiB\n",
      "amount of memory usage: 28778.1 MiB\n",
      "\n",
      "Synoptic\n",
      "number of datasets: 204\n",
      "cadence: 360.0 mins\n",
      "duration: 51 days, 0:00:00\n",
      "amount of raw-data at 32 bits: 31127.9 MiB, 152.6 MiB per dataset\n",
      "crop size: 768\n",
      "amount of crop-data at 32 bits: 14007.6 MiB, 68.7 MiB per dataset\n",
      "cropping time: 1:59:00\n",
      "amount of pack-data at 16 bits: 7782.0 MiB, 38.1 MiB per dataset\n",
      "packing time: 2:33:00\n",
      "amount of metadata:  4896 MiB\n",
      "amount of memory usage: 52917.5 MiB\n",
      "\n",
      "Synoptic\n",
      "number of datasets: 80\n",
      "cadence: 360.0 mins\n",
      "duration: 20 days, 0:00:00\n",
      "amount of raw-data at 32 bits: 14648.4 MiB, 183.1 MiB per dataset\n",
      "crop size: 896\n",
      "amount of crop-data at 32 bits: 6713.9 MiB, 83.9 MiB per dataset\n",
      "cropping time: 0:46:40\n",
      "amount of pack-data at 16 bits: 3662.1 MiB, 45.8 MiB per dataset\n",
      "packing time: 1:00:00\n",
      "amount of metadata:  1920 MiB\n",
      "amount of memory usage: 25024.4 MiB\n",
      "\n",
      "Synoptic\n",
      "number of datasets: 44\n",
      "cadence: 360.0 mins\n",
      "duration: 11 days, 0:00:00\n",
      "amount of raw-data at 32 bits: 9063.7 MiB, 206.0 MiB per dataset\n",
      "crop size: 1024\n",
      "amount of crop-data at 32 bits: 4699.7 MiB, 106.8 MiB per dataset\n",
      "cropping time: 0:25:40\n",
      "amount of pack-data at 16 bits: 2685.5 MiB, 61.0 MiB per dataset\n",
      "packing time: 0:33:00\n",
      "amount of metadata:  1056 MiB\n",
      "amount of memory usage: 16449.0 MiB\n",
      "\n",
      "Synoptic\n",
      "number of datasets: 48\n",
      "cadence: 360.0 mins\n",
      "duration: 12 days, 0:00:00\n",
      "amount of raw-data at 32 bits: 12085.0 MiB, 251.8 MiB per dataset\n",
      "crop size: 1280\n",
      "amount of crop-data at 32 bits: 7690.4 MiB, 160.2 MiB per dataset\n",
      "cropping time: 0:56:00\n",
      "amount of pack-data at 16 bits: 4028.3 MiB, 83.9 MiB per dataset\n",
      "packing time: 1:12:00\n",
      "amount of metadata:  1152 MiB\n",
      "amount of memory usage: 23803.7 MiB\n",
      "\n",
      "Synoptic\n",
      "number of datasets: 24\n",
      "cadence: 360.0 mins\n",
      "duration: 6 days, 0:00:00\n",
      "amount of raw-data at 32 bits: 6591.8 MiB, 274.7 MiB per dataset\n",
      "crop size: 1408\n",
      "amount of crop-data at 32 bits: 4577.6 MiB, 190.7 MiB per dataset\n",
      "cropping time: 0:28:00\n",
      "amount of pack-data at 16 bits: 2380.4 MiB, 99.2 MiB per dataset\n",
      "packing time: 0:36:00\n",
      "amount of metadata:  576 MiB\n",
      "amount of memory usage: 13549.8 MiB\n",
      "\n",
      "Synoptic\n",
      "number of datasets: 20\n",
      "cadence: 360.0 mins\n",
      "duration: 5 days, 0:00:00\n",
      "amount of raw-data at 32 bits: 5950.9 MiB, 297.5 MiB per dataset\n",
      "crop size: 1536\n",
      "amount of crop-data at 32 bits: 4577.6 MiB, 228.9 MiB per dataset\n",
      "cropping time: 0:23:20\n",
      "amount of pack-data at 16 bits: 2441.4 MiB, 122.1 MiB per dataset\n",
      "packing time: 0:30:00\n",
      "amount of metadata:  480 MiB\n",
      "amount of memory usage: 12970.0 MiB\n",
      "\n"
     ]
    }
   ],
   "source": [
    "########################################################\n",
    "id = 2\n",
    "t0 = DT.fromisoformat('2023-04-26T00:00:00')\n",
    "# t1 = DT.fromisoformat('2023-09-30T00:00:00')\n",
    "PHI = PHI_MEMORY(t0)\n",
    "\n",
    "Syn = [PHI_MODE('FDT') for i in range(10)]\n",
    "crop = [1408,1280,1024,896,768,896,1024,1280,1408,1536]\n",
    "duration = [6,13,9,23,51,20,11,12,6,5]\n",
    "\n",
    "cad = np.asarray([4,4,4,4,4,4,4,4,4,4]); \n",
    "\n",
    "for i,s in enumerate(Syn):\n",
    "    cr = crop[i] \n",
    "    d = duration[i]\n",
    "    c = 24/cad[i] * 60\n",
    "    t1 = t0 + TD(days=d)\n",
    "    kw = s.observation(t0,t1,c,(2048,cr,4,6)); PHI.saving(id,**kw)\n",
    "    kw = s.cropping(kw['end'],cr,-1,'raw')\n",
    "    kw = s.packing(kw['end'],-1,'raw.crop'); PHI.saving(id,**kw)\n",
    "    # kw = s.compressing(kw['end'],6,-1,'raw.crop.pack',); PHI.saving(id,**kw)\n",
    "    t0 = t1\n",
    "    printp(s, label='Synoptic')\n",
    "\n",
    "########################################################\n"
   ]
  },
  {
   "cell_type": "code",
   "execution_count": 19,
   "metadata": {},
   "outputs": [
    {
     "name": "stdout",
     "output_type": "stream",
     "text": [
      "amount of compressed data + metadata in partition 2: 10.14 GB\n"
     ]
    }
   ],
   "source": [
    "print('amount of compressed data + metadata in partition 2:',round(PHI.part2.compr*1e-3,2), 'GB')"
   ]
  },
  {
   "cell_type": "code",
   "execution_count": 23,
   "metadata": {},
   "outputs": [
    {
     "data": {
      "image/png": "[encoded data removed]",
      "text/plain": [
       "<Figure size 1080x576 with 2 Axes>"
      ]
     },
     "metadata": {
      "needs_background": "light"
     },
     "output_type": "display_data"
    }
   ],
   "source": [
    "xlim = (DT(2023,4,25,0,0,0),DT(2023,9,29,0,0,0))\n",
    "plot_tot(PHI, xlim=xlim, ylim=(0,250), time_ord=True)"
   ]
  },
  {
   "attachments": {},
   "cell_type": "markdown",
   "metadata": {},
   "source": [
    "## <span style=\"color:magenta\">***RESET NAND 2 (with Synoptics)***</span>"
   ]
  },
  {
   "cell_type": "code",
   "execution_count": 5,
   "metadata": {},
   "outputs": [
    {
     "name": "stdout",
     "output_type": "stream",
     "text": [
      "amount of compressed data + metadata in partition 1: 0.0 GB\n",
      "amount of compressed data + metadata in partition 2: 4.93 GB\n"
     ]
    }
   ],
   "source": [
    "print('amount of compressed data + metadata in partition 1:',round(PHI.part1.compr*1e-3,2), 'GB')\n",
    "print('amount of compressed data + metadata in partition 2:',round(PHI.part2.compr*1e-3,2), 'GB')\n",
    "# print('TM time:',round((PHI.part1.compr + PHI.part2.compr)/2151.3,2), 'days')\n",
    "# PHI.format_partition(1,DT(2023,1,29,16,0,0))\n",
    "# PHI.format_partition(2,end + TD(hours=1))\n",
    "# PHI.format_partition(1,end + TD(hours=1))\n",
    "# PHI.format_partition(2,PHI.part1.history['end'][-1] + TD(hours=.5))\n",
    "PHI.format_partition(2,DT(2023,10,9,6,0,0))\n"
   ]
  },
  {
   "cell_type": "markdown",
   "metadata": {},
   "source": [
    "## <span style=\"color:green\">FDT Flat 1 </span>"
   ]
  },
  {
   "cell_type": "code",
   "execution_count": 6,
   "metadata": {},
   "outputs": [
    {
     "name": "stdout",
     "output_type": "stream",
     "text": [
      "FDT FLAT 1 (30/09/2023)\n",
      "number of datasets: 10\n",
      "cadence: 300.0 mins\n",
      "duration: 5:00:00\n",
      "amount of raw-data at 32 bits: 3967.3 MiB, 396.7 MiB per dataset\n",
      "amount of pack-data at 16 bits: 206.0 MiB, 206.0 MiB per dataset\n",
      "packing time: 0:01:30\n",
      "amount of compressed data + metadata at 6 bits: 72.0 MiB, 72.0 MiB per dataset\n",
      "compressing (+ flushing) time: 0:10:04.051776\n",
      "amount of metadata:  16.009 MiB\n",
      "amount of memory usage: 4173.3 MiB\n",
      "\n"
     ]
    }
   ],
   "source": [
    "########################################################\n",
    "id = 1\n",
    "\n",
    "t0 = DT.fromisoformat('2023-09-30T21:30:00')\n",
    "FDTflat1 = FDT_flat(PHI,t0,id,proc = 'auto', flush = 'auto',verbose=False)\n",
    "########################################################\n",
    "printp(FDTflat1, label=\"FDT FLAT 1 (30/09/2023)\")"
   ]
  },
  {
   "attachments": {},
   "cell_type": "markdown",
   "metadata": {},
   "source": [
    "# <span style=\"color:orange\">*RSW 10*</span>"
   ]
  },
  {
   "cell_type": "markdown",
   "metadata": {},
   "source": [
    "## <span style=\"color:blue\">Coronal Dynamics 1</span>"
   ]
  },
  {
   "cell_type": "code",
   "execution_count": 30,
   "metadata": {},
   "outputs": [
    {
     "name": "stdout",
     "output_type": "stream",
     "text": [
      "Coronal Dynamics 1\n",
      "number of datasets: 8\n",
      "cadence: 2 mins\n",
      "duration: 0:02:00\n",
      "amount of raw-data at 32 bits: 3173.8 MiB, 396.7 MiB per dataset\n",
      "amount of pack-data at 16 bits: 1647.9 MiB, 206.0 MiB per dataset\n",
      "packing time: 0:12:00\n",
      "amount of compressed data + metadata at 6 bits: 576.1 MiB, 72.0 MiB per dataset\n",
      "compressing (+ flushing) time: 1:20:32.414208\n",
      "amount of metadata:  16.009 MiB\n",
      "amount of memory usage: 4821.8 MiB\n",
      "\n"
     ]
    }
   ],
   "source": [
    "########################################################\n",
    "id = 1\n",
    "t0 = DT.fromisoformat('2023-10-01T00:00:00')\n",
    "t1 = DT.fromisoformat('2023-10-05T06:00:00')\n",
    "CD1 = PHI_MODE('FDT')\n",
    "\n",
    "synoptic_raw(PHI,CD1,t0,t1,720,(2048,2048,4,6),6,id)\n",
    "\n",
    "########################################################\n",
    "printp(CD1, label='Coronal Dynamics 1')\n"
   ]
  },
  {
   "attachments": {},
   "cell_type": "markdown",
   "metadata": {},
   "source": [
    "## <span style=\"color:blue\">Density Fluctuations 1</span>"
   ]
  },
  {
   "cell_type": "code",
   "execution_count": 31,
   "metadata": {},
   "outputs": [
    {
     "name": "stdout",
     "output_type": "stream",
     "text": [
      "Coronal Dynamics 1\n",
      "number of datasets: 2\n",
      "cadence: 2 mins\n",
      "duration: 0:02:00\n",
      "amount of raw-data at 32 bits: 793.5 MiB, 396.7 MiB per dataset\n",
      "amount of pack-data at 16 bits: 412.0 MiB, 206.0 MiB per dataset\n",
      "packing time: 0:03:00\n",
      "amount of compressed data + metadata at 6 bits: 144.0 MiB, 72.0 MiB per dataset\n",
      "compressing (+ flushing) time: 0:20:08.103552\n",
      "amount of metadata:  16.009 MiB\n",
      "amount of memory usage: 1205.4 MiB\n",
      "\n"
     ]
    }
   ],
   "source": [
    "########################################################\n",
    "id = 1\n",
    "t0 = DT.fromisoformat('2023-10-05T08:00:00')\n",
    "t1 = DT.fromisoformat('2023-10-06T08:00:00')\n",
    "CD1 = PHI_MODE('FDT')\n",
    "\n",
    "synoptic_raw(PHI,CD1,t0,t1,720,(2048,2048,4,6),6,id)\n",
    "\n",
    "########################################################\n",
    "printp(CD1, label='Coronal Dynamics 1')\n"
   ]
  },
  {
   "attachments": {},
   "cell_type": "markdown",
   "metadata": {},
   "source": [
    "## <span style=\"color:green\">HRT Flat 1</span>"
   ]
  },
  {
   "cell_type": "code",
   "execution_count": 9,
   "metadata": {},
   "outputs": [
    {
     "name": "stdout",
     "output_type": "stream",
     "text": [
      "HRT FLAT 1 (05/10/2023)\n",
      "number of datasets: 11\n",
      "cadence: 15.0 mins\n",
      "duration: 0:15:00\n",
      "amount of raw-data at 32 bits: 4364.0 MiB, 396.7 MiB per dataset\n",
      "amount of pack-data at 16 bits: 206.0 MiB, 206.0 MiB per dataset\n",
      "packing time: 0:01:30\n",
      "amount of compressed data + metadata at 6 bits: 72.0 MiB, 72.0 MiB per dataset\n",
      "compressing (+ flushing) time: 0:10:04.051776\n",
      "amount of metadata:  16.009 MiB\n",
      "amount of memory usage: 4570.0 MiB\n",
      "\n"
     ]
    }
   ],
   "source": [
    "########################################################\n",
    "id = 1\n",
    "\n",
    "t0 = DT.fromisoformat('2023-10-05T22:00:00')\n",
    "HRTflat1 = HRT_flat(PHI,t0,id,flush='auto',verbose=False)\n",
    "########################################################\n",
    "printp(HRTflat1, label=\"HRT FLAT 1 (05/10/2023)\")"
   ]
  },
  {
   "attachments": {},
   "cell_type": "markdown",
   "metadata": {},
   "source": [
    "## <span style=\"color:blue\">RS-burst 1 / QS</span> <br>\n",
    "\n",
    "crop to 1280x1280"
   ]
  },
  {
   "cell_type": "code",
   "execution_count": 10,
   "metadata": {},
   "outputs": [
    {
     "name": "stdout",
     "output_type": "stream",
     "text": [
      "RS Burst 1\n",
      "number of datasets: 36\n",
      "cadence: 5 mins\n",
      "duration: 3:00:00\n",
      "amount of raw-data at 32 bits: 9063.7 MiB, 251.8 MiB per dataset\n",
      "crop size: 1280\n",
      "amount of crop-data at 32 bits: 5767.8 MiB, 160.2 MiB per dataset\n",
      "cropping time: 0:42:00\n",
      "amount of pack-data at 16 bits: 3021.2 MiB, 83.9 MiB per dataset\n",
      "packing time: 0:54:00\n",
      "amount of compressed data + metadata at 6 bits: 1012.8 MiB, 28.1 MiB per dataset\n",
      "compressing (+ flushing) time: 2:21:36.057600\n",
      "amount of metadata:  384.054 MiB\n",
      "amount of memory usage: 17852.8 MiB\n",
      "\n"
     ]
    }
   ],
   "source": [
    "\n",
    "t0 = DT.fromisoformat('2023-10-06T10:00:00')\n",
    "t1 = DT.fromisoformat('2023-10-06T14:30:00')\n",
    "id = 1\n",
    "crop = 1280\n",
    "\n",
    "L1 = PHI_MODE('HRT')\n",
    "kw = L1.observation(t0,t0+TD(hours=3),cadence=5,shape=(2048,crop,4,6)); PHI.saving(id,**kw)\n",
    "\n",
    "ndata = [8,8,5,3,6,6]\n",
    "for i in range(6):    \n",
    "    kw = L1.cropping(DT(2023,10,6,19,0,0)+TD(days=i),crop=[crop,crop],ndata=ndata[i],level='raw')#; PHI.saving(id,**kw)\n",
    "    kw = L1.packing(kw['end']+TD(minutes=5),ndata=ndata[i],level='raw.crop',); PHI.saving(id,**kw)\n",
    "    kw = L1.compressing(kw['end']+TD(minutes=5),ndata=ndata[i],nbits=6,level='raw.crop.pack'); PHI.saving(id,**kw)\n",
    "\n",
    "\n",
    "printp(L1, label='RS Burst 1')"
   ]
  },
  {
   "attachments": {},
   "cell_type": "markdown",
   "metadata": {},
   "source": [
    "## <span style=\"color:blue\">Connection Mosaic</span>\n",
    "\n",
    "6 pointings (?)\n",
    "\n",
    "12 datasets (6 pointings, 2 datasets each)"
   ]
  },
  {
   "cell_type": "code",
   "execution_count": 32,
   "metadata": {},
   "outputs": [
    {
     "name": "stdout",
     "output_type": "stream",
     "text": [
      "Connection Mosaic\n",
      "number of datasets: 12\n",
      "cadence: 180 mins\n",
      "duration: 1 day, 12:00:00\n",
      "amount of raw-data at 32 bits: 4760.7 MiB, 396.7 MiB per dataset\n",
      "amount of pack-data at 16 bits: 732.4 MiB, 61.0 MiB per dataset\n",
      "packing time: 0:09:00\n",
      "amount of compressed data + metadata at 6 bits: 216.1 MiB, 18.0 MiB per dataset\n",
      "compressing (+ flushing) time: 0:30:12.803328\n",
      "amount of metadata:  192.027 MiB\n",
      "amount of memory usage: 6774.9 MiB\n",
      "\n"
     ]
    }
   ],
   "source": [
    "########################################################\n",
    "id = 1\n",
    "t0 = DT.fromisoformat('2023-10-06T18:00:00')\n",
    "t1 = DT.fromisoformat('2023-10-08T11:30:00')\n",
    "CM1 = PHI_MODE('HRT')\n",
    "\n",
    "#cadence from 30 to 60 for putting 3h high cadence\n",
    "kw = CM1.observation(t0,12,cadence=60*3,shape=(2048,2048,4,6)); PHI.saving(id,**kw)\n",
    "kw = CM1.binning(kw['end']+TD(minutes=5),2,ndata=-1,level = 'raw'); PHI.saving(id,**kw)\n",
    "kw = CM1.packing(kw['end']+TD(minutes=5),ndata=-1,level = 'raw.bin'); PHI.saving(id,**kw)\n",
    "# CM1, kw = flush_many(PHI,[1200,1200],72,CM1,DT(2023,4,3,22,0,0),6,-1,'raw.pack',id)\n",
    "for i in range(4):    \n",
    "    kw = CM1.compressing(DT(2023,10,9,22,0,0)+TD(days=i),ndata=3,nbits=6,level='raw.bin.pack'); PHI.saving(id,**kw)\n",
    "\n",
    "########################################################\n",
    "printp(CM1, label='Connection Mosaic')\n"
   ]
  },
  {
   "attachments": {},
   "cell_type": "markdown",
   "metadata": {},
   "source": [
    "## <span style=\"color:blue\">Fast Wind 1</span>\n"
   ]
  },
  {
   "cell_type": "code",
   "execution_count": 33,
   "metadata": {},
   "outputs": [
    {
     "name": "stdout",
     "output_type": "stream",
     "text": [
      "Fast Wind 1\n",
      "number of datasets: 4\n",
      "cadence: 30 mins\n",
      "duration: 1:00:00\n",
      "amount of raw-data at 32 bits: 1586.9 MiB, 396.7 MiB per dataset\n",
      "amount of pack-data at 16 bits: 244.1 MiB, 61.0 MiB per dataset\n",
      "packing time: 0:03:00\n",
      "amount of compressed data + metadata at 6 bits: 72.0 MiB, 18.0 MiB per dataset\n",
      "compressing (+ flushing) time: 0:10:04.267776\n",
      "amount of metadata:  32.018 MiB\n",
      "amount of memory usage: 2258.3 MiB\n",
      "\n"
     ]
    }
   ],
   "source": [
    "########################################################\n",
    "id = 1\n",
    "t0 = DT.fromisoformat('2023-10-08T20:30:00')\n",
    "t1 = DT.fromisoformat('2023-10-09T21:30:00')\n",
    "FW1 = PHI_MODE('HRT')\n",
    "\n",
    "kw = FW1.observation(t0,2,cadence=30,shape=(2048,2048,4,6)); PHI.saving(id,**kw)\n",
    "kw = FW1.binning(kw['end']+TD(minutes=10),2,ndata=-1,level = 'raw'); PHI.saving(id,**kw)\n",
    "kw = FW1.packing(kw['end']+TD(minutes=10),ndata=-1,level = 'raw.bin'); PHI.saving(id,**kw)\n",
    "kw = FW1.compressing(kw['end']+TD(minutes=10),ndata=2,nbits=6,level = 'raw.bin.pack'); PHI.saving(id,**kw)\n",
    "\n",
    "kw = FW1.observation(t0+TD(days=1),2,cadence=30,shape=(2048,2048,4,6)); PHI.saving(id,**kw)\n",
    "kw = FW1.binning(kw['end']+TD(minutes=10),2,ndata=-1,level = 'raw'); PHI.saving(id,**kw)\n",
    "kw = FW1.packing(kw['end']+TD(minutes=10),ndata=-1,level = 'raw.bin'); PHI.saving(id,**kw)\n",
    "kw = FW1.compressing(kw['end']+TD(minutes=10),ndata=2,nbits=6,level = 'raw.bin.pack'); PHI.saving(id,**kw)\n",
    "\n",
    "########################################################\n",
    "printp(FW1, label='Fast Wind 1')\n"
   ]
  },
  {
   "attachments": {},
   "cell_type": "markdown",
   "metadata": {},
   "source": [
    "## <span style=\"color:blue\">RS-burst 2 / AR</span> <br>"
   ]
  },
  {
   "cell_type": "code",
   "execution_count": 28,
   "metadata": {},
   "outputs": [
    {
     "data": {
      "text/plain": [
       "3240"
      ]
     },
     "execution_count": 28,
     "metadata": {},
     "output_type": "execute_result"
    }
   ],
   "source": [
    "72*45"
   ]
  },
  {
   "cell_type": "code",
   "execution_count": 29,
   "metadata": {},
   "outputs": [
    {
     "name": "stdout",
     "output_type": "stream",
     "text": [
      "RS Burst 2\n",
      "number of datasets: 60\n",
      "cadence: 5 mins\n",
      "duration: 2:00:00\n",
      "amount of raw-data at 32 bits: 21057.1 MiB, 351.0 MiB per dataset\n",
      "crop size: 1792\n",
      "amount of crop-data at 32 bits: 18310.5 MiB, 305.2 MiB per dataset\n",
      "cropping time: 1:10:00\n",
      "amount of pack-data at 16 bits: 9613.0 MiB, 160.2 MiB per dataset\n",
      "packing time: 1:30:00\n",
      "amount of compressed data + metadata at 6 bits: 3308.0 MiB, 55.1 MiB per dataset\n",
      "compressing (+ flushing) time: 7:42:29.640960\n",
      "amount of metadata:  288.054 MiB\n",
      "amount of memory usage: 48980.7 MiB\n",
      "\n"
     ]
    }
   ],
   "source": [
    "\n",
    "t0 = DT.fromisoformat('2023-10-10T08:00:00')\n",
    "t1 = DT.fromisoformat('2023-10-10T11:30:00')\n",
    "id = 2\n",
    "crop = 1792\n",
    "\n",
    "L2 = PHI_MODE('HRT')\n",
    "kw = L2.observation(t0,t0+TD(hours=1),cadence=100/60,shape=(2048,crop,4,6)); PHI.saving(1,**kw)\n",
    "kw = L2.observation(kw['end'],kw['end']+TD(hours=2),cadence=5,shape=(2048,crop,4,6)); PHI.saving(id,**kw)\n",
    "\n",
    "for i in range(5):    \n",
    "    kw = L2.cropping(DT(2023,10,11,9,0,0)+TD(days=i),crop=[crop,crop],ndata=6,level='raw')#; PHI.saving(id,**kw)\n",
    "    kw = L2.packing(DT(2023,10,13,18,0,0)+TD(days=i),ndata=6,level='raw.crop',); PHI.saving(1,**kw)\n",
    "    kw = L2.compressing(kw['end']+TD(minutes=15),ndata=6,nbits=6,level='raw.crop.pack'); PHI.saving(1,**kw)\n",
    "\n",
    "for i in range(5):    \n",
    "    kw = L2.cropping(DT(2023,10,11,9,0,0)+TD(days=i),crop=[crop,crop],ndata=6,level='raw')#; PHI.saving(id,**kw)\n",
    "    kw = L2.packing(DT(2023,10,18,18,0,0)+TD(days=i),ndata=6,level='raw.crop',); PHI.saving(id,**kw)\n",
    "    kw = L2.compressing(kw['end']+TD(minutes=15),ndata=6,nbits=6,level='raw.crop.pack'); PHI.saving(id,**kw)\n",
    "\n",
    "\n",
    "printp(L2, label='RS Burst 2')"
   ]
  },
  {
   "attachments": {},
   "cell_type": "markdown",
   "metadata": {},
   "source": [
    "## <span style=\"color:blue\">L_SMALL_MRES_MCAD_Earth-Quadrature</span>\n",
    "<span style=\"color:red\">crop to 1536 px to save telemetry</span>"
   ]
  },
  {
   "cell_type": "code",
   "execution_count": 14,
   "metadata": {},
   "outputs": [
    {
     "name": "stdout",
     "output_type": "stream",
     "text": [
      "Earth Quadrature\n",
      "number of datasets: 1\n",
      "cadence: 2 mins\n",
      "duration: 0:02:00\n",
      "amount of raw-data at 32 bits: 297.5 MiB, 297.5 MiB per dataset\n",
      "crop size: 1536\n",
      "amount of crop-data at 32 bits: 228.9 MiB, 228.9 MiB per dataset\n",
      "cropping time: 0:01:10\n",
      "amount of pack-data at 16 bits: 122.1 MiB, 122.1 MiB per dataset\n",
      "packing time: 0:01:30\n",
      "amount of compressed data + metadata at 6 bits: 40.5 MiB, 40.5 MiB per dataset\n",
      "compressing (+ flushing) time: 0:05:39.810624\n",
      "amount of metadata:  24.009 MiB\n",
      "amount of memory usage: 648.5 MiB\n",
      "\n"
     ]
    }
   ],
   "source": [
    "########################################################\n",
    "id = 1\n",
    "t0 = DT.fromisoformat('2023-10-10T20:30:00')\n",
    "t1 = DT.fromisoformat('2023-10-11T00:00:00')\n",
    "EQ = PHI_MODE('HRT')\n",
    "crop = 1536\n",
    "\n",
    "# cadence 60s to 100s to get some telemetry for high cadence\n",
    "kw = EQ.observation(t0,1,cadence=2,shape=(2048,crop,4,6)); PHI.saving(id,**kw)\n",
    "kw = EQ.cropping(kw['end']+TD(minutes=10),crop=crop,ndata=-1,level = 'raw');# phi.saving(id,**kw); PHI.saving(id,**kw)\n",
    "kw = EQ.packing(kw['end'],ndata=-1,level = 'raw.crop'); PHI.saving(id,**kw)\n",
    "kw = EQ.compressing(kw['end']+TD(minutes=10),ndata=-1,nbits=6,level = 'raw.crop.pack'); PHI.saving(id,**kw)\n",
    "\n",
    "########################################################\n",
    "printp(EQ, label='Earth Quadrature')\n"
   ]
  },
  {
   "cell_type": "markdown",
   "metadata": {},
   "source": [
    "## <span style=\"color:green\">FDT Flat 2</span>\n",
    "\n",
    "Download raw flats"
   ]
  },
  {
   "cell_type": "code",
   "execution_count": 15,
   "metadata": {},
   "outputs": [
    {
     "name": "stdout",
     "output_type": "stream",
     "text": [
      "FDT FLAT 2 (11/10/2023)\n",
      "number of datasets: 10\n",
      "cadence: 300.0 mins\n",
      "duration: 5:00:00\n",
      "amount of raw-data at 32 bits: 3967.3 MiB, 396.7 MiB per dataset\n",
      "amount of pack-data at 16 bits: 2059.9 MiB, 206.0 MiB per dataset\n",
      "packing time: 0:15:00\n",
      "amount of compressed data + metadata at 6 bits: 720.1 MiB, 72.0 MiB per dataset\n",
      "compressing (+ flushing) time: 1:40:40.517760\n",
      "amount of metadata:  80.027 MiB\n",
      "amount of memory usage: 6027.2 MiB\n",
      "\n"
     ]
    }
   ],
   "source": [
    "########################################################\n",
    "id = 2\n",
    "\n",
    "t0 = DT.fromisoformat('2023-10-11T01:00:00')\n",
    "FDTflat2 = FDT_flat(PHI,t0,id,DT(2023,10,26,2,30,0),DT(2023,10,26,22,20,0),verbose=False)\n",
    "kw = FDTflat2.packing(DT(2023,10,26,16,50,0),ndata=9,level = 'raw'); PHI.saving(id,**kw)\n",
    "kw = FDTflat2.compressing(DT(2023,10,26,17,30),ndata=3,nbits=6,level = 'raw.pack'); PHI.saving(id,**kw)\n",
    "kw = FDTflat2.compressing(DT(2023,10,27,17,30),ndata=3,nbits=6,level = 'raw.pack'); PHI.saving(id,**kw)\n",
    "kw = FDTflat2.compressing(DT(2023,10,28,17,30),ndata=3,nbits=6,level = 'raw.pack'); PHI.saving(id,**kw)\n",
    "\n",
    "########################################################\n",
    "printp(FDTflat2, label=\"FDT FLAT 2 (11/10/2023)\")"
   ]
  },
  {
   "attachments": {},
   "cell_type": "markdown",
   "metadata": {},
   "source": [
    "## <span style=\"color:green\">FDT Flat 3</span>\n",
    "\n",
    "Download raw flats"
   ]
  },
  {
   "cell_type": "code",
   "execution_count": 16,
   "metadata": {},
   "outputs": [
    {
     "name": "stdout",
     "output_type": "stream",
     "text": [
      "FDT FLAT 3 (11/10/2023)\n",
      "number of datasets: 10\n",
      "cadence: 300.0 mins\n",
      "duration: 5:00:00\n",
      "amount of raw-data at 32 bits: 3967.3 MiB, 396.7 MiB per dataset\n",
      "amount of pack-data at 16 bits: 2059.9 MiB, 206.0 MiB per dataset\n",
      "packing time: 0:15:00\n",
      "amount of compressed data + metadata at 6 bits: 720.1 MiB, 72.0 MiB per dataset\n",
      "compressing (+ flushing) time: 1:40:40.517760\n",
      "amount of metadata:  80.027 MiB\n",
      "amount of memory usage: 6027.2 MiB\n",
      "\n"
     ]
    }
   ],
   "source": [
    "########################################################\n",
    "id = 2\n",
    "\n",
    "t0 = DT.fromisoformat('2023-10-11T05:00:00')\n",
    "FDTflat3 = FDT_flat(PHI,t0,id,DT(2023,10,11,6,30,0),DT(2023,10,12,22,20,0),verbose=False)\n",
    "kw = FDTflat3.packing(DT(2023,10,29,16,0,0),ndata=9,level = 'raw'); PHI.saving(id,**kw)\n",
    "kw = FDTflat3.compressing(DT(2023,10,29,17,30),ndata=3,nbits=6,level = 'raw.pack'); PHI.saving(id,**kw)\n",
    "kw = FDTflat3.compressing(DT(2023,10,30,17,30),ndata=3,nbits=6,level = 'raw.pack'); PHI.saving(id,**kw)\n",
    "kw = FDTflat3.compressing(DT(2023,10,31,17,30),ndata=3,nbits=6,level = 'raw.pack'); PHI.saving(id,**kw)\n",
    "\n",
    "########################################################\n",
    "printp(FDTflat3, label=\"FDT FLAT 3 (11/10/2023)\")"
   ]
  },
  {
   "cell_type": "markdown",
   "metadata": {},
   "source": [
    "## <span style=\"color:green\">HRT Flat 2</span>"
   ]
  },
  {
   "cell_type": "code",
   "execution_count": 17,
   "metadata": {},
   "outputs": [
    {
     "name": "stdout",
     "output_type": "stream",
     "text": [
      "HRT FLAT 2 (11/10/2023)\n",
      "number of datasets: 11\n",
      "cadence: 15.0 mins\n",
      "duration: 0:15:00\n",
      "amount of raw-data at 32 bits: 4364.0 MiB, 396.7 MiB per dataset\n",
      "amount of pack-data at 16 bits: 206.0 MiB, 206.0 MiB per dataset\n",
      "packing time: 0:01:30\n",
      "amount of compressed data + metadata at 6 bits: 72.0 MiB, 72.0 MiB per dataset\n",
      "compressing (+ flushing) time: 0:10:04.051776\n",
      "amount of metadata:  16.009 MiB\n",
      "amount of memory usage: 4570.0 MiB\n",
      "\n"
     ]
    }
   ],
   "source": [
    "########################################################\n",
    "id = 2\n",
    "\n",
    "t0 = DT.fromisoformat('2023-10-11T10:00:00')\n",
    "HRTflat2 = HRT_flat(PHI,t0,id,DT(2023,10,21,3,30,0),DT(2023,10,21,22,20,0),verbose=False)\n",
    "########################################################\n",
    "printp(HRTflat2, label=\"HRT FLAT 2 (11/10/2023)\")"
   ]
  },
  {
   "cell_type": "code",
   "execution_count": 18,
   "metadata": {},
   "outputs": [
    {
     "name": "stderr",
     "output_type": "stream",
     "text": [
      "/home/calchetti/MPStemp/PHI_TMtool/TMclass.py:1203: UserWarning: marker is redundantly defined by the 'marker' keyword argument and the fmt string \"o\" (-> marker='o'). The keyword argument will take precedence.\n",
      "  axi.plot_date(x,c,color='orange',linestyle='-',marker='<',label='compressed')\n"
     ]
    },
    {
     "data": {
      "image/png": "[encoded data removed]",
      "text/plain": [
       "<Figure size 1080x576 with 2 Axes>"
      ]
     },
     "metadata": {
      "needs_background": "light"
     },
     "output_type": "display_data"
    }
   ],
   "source": [
    "xlim = (DT(2023,9,1,0,0,0),DT(2023,10,31,0,0,0))\n",
    "plot_tot(PHI, xlim=xlim, ylim=(0,250), time_ord=True)\n"
   ]
  },
  {
   "attachments": {},
   "cell_type": "markdown",
   "metadata": {},
   "source": [
    "# <span style=\"color:red\">*RSW 11*</span>"
   ]
  },
  {
   "attachments": {},
   "cell_type": "markdown",
   "metadata": {},
   "source": [
    "## <span style=\"color:blue\">R_SMALL_MRES_MCAD_AR-Long-Term</span> <br>"
   ]
  },
  {
   "cell_type": "code",
   "execution_count": 19,
   "metadata": {},
   "outputs": [
    {
     "name": "stdout",
     "output_type": "stream",
     "text": [
      "AR Long Term 1\n",
      "number of datasets: 205\n",
      "cadence: 60 mins\n",
      "duration: 1 day, 0:00:00\n",
      "amount of raw-data at 32 bits: 71945.2 MiB, 351.0 MiB per dataset\n",
      "crop size: 1792\n",
      "amount of crop-data at 32 bits: 62561.0 MiB, 305.2 MiB per dataset\n",
      "cropping time: 3:59:10\n",
      "amount of pack-data at 16 bits: 32844.5 MiB, 160.2 MiB per dataset\n",
      "packing time: 5:07:30\n",
      "amount of compressed data + metadata at 6 bits: 11302.4 MiB, 55.1 MiB per dataset\n",
      "compressing (+ flushing) time: 1 day, 2:20:11.273280\n",
      "amount of metadata:  272.045 MiB\n",
      "amount of memory usage: 167350.8 MiB\n",
      "\n"
     ]
    }
   ],
   "source": [
    "t0 = DT.fromisoformat('2023-10-12T00:00:00')\n",
    "t1 = DT.fromisoformat('2023-10-17T11:30:00')\n",
    "id = 2\n",
    "crop = 1792\n",
    "\n",
    "AR1 = PHI_MODE('HRT')\n",
    "kw = AR1.observation(t0,t1,cadence=60,shape=(2048,crop,4,6)); PHI.saving(id,**kw)\n",
    "\n",
    "t0 = DT.fromisoformat('2023-10-17T21:30:00')\n",
    "t1 = DT.fromisoformat('2023-10-20T00:00:00')\n",
    "\n",
    "kw = AR1.observation(t0,t1,cadence=60,shape=(2048,crop,4,6)); PHI.saving(id,**kw)\n",
    "\n",
    "# 1 day test for LCT: 1h cadence, two datasets one after the other --> 24 more datasets\n",
    "kw = AR1.observation(DT(2023,10,18,0,0,2),24,cadence=60,shape=(2048,crop,4,6)); PHI.saving(id,**kw)\n",
    "\n",
    "for i in range(20):\n",
    "    kw = AR1.cropping(DT(2023,11,3,9,0,0)+TD(days=i),crop=[crop,crop],ndata=10,level='raw')#; PHI.saving(id,**kw)\n",
    "    kw = AR1.packing(kw['end']+TD(minutes=5),ndata=10,level='raw.crop',); PHI.saving(id,**kw)\n",
    "    kw = AR1.compressing(kw['end']+TD(minutes=5),ndata=10,nbits=6,level='raw.crop.pack'); PHI.saving(id,**kw)\n",
    "kw = AR1.cropping(DT(2023,11,3,9,0,0)+TD(days=i),crop=[crop,crop],ndata=5,level='raw')#; PHI.saving(id,**kw)\n",
    "kw = AR1.packing(kw['end']+TD(minutes=5),ndata=5,level='raw.crop',); PHI.saving(id,**kw)\n",
    "kw = AR1.compressing(kw['end']+TD(minutes=5),ndata=5,nbits=6,level='raw.crop.pack'); PHI.saving(id,**kw)\n",
    "\n",
    "printp(AR1, label='AR Long Term 1')"
   ]
  },
  {
   "attachments": {},
   "cell_type": "markdown",
   "metadata": {},
   "source": [
    "## <span style=\"color:blue\">R_SMALL_HRES_MCAD_Polar-Observations</span>"
   ]
  },
  {
   "cell_type": "code",
   "execution_count": 40,
   "metadata": {},
   "outputs": [
    {
     "name": "stdout",
     "output_type": "stream",
     "text": [
      "Polar Observations\n",
      "number of datasets: 23\n",
      "cadence: 30 mins\n",
      "duration: 5:40:00\n",
      "amount of raw-data at 32 bits: 6843.6 MiB, 297.5 MiB per dataset\n",
      "crop size: 1536\n",
      "amount of crop-data at 32 bits: 5264.3 MiB, 228.9 MiB per dataset\n",
      "cropping time: 0:26:50\n",
      "amount of pack-data at 16 bits: 2807.6 MiB, 122.1 MiB per dataset\n",
      "packing time: 0:34:30\n",
      "amount of compressed data + metadata at 6 bits: 931.7 MiB, 40.5 MiB per dataset\n",
      "compressing (+ flushing) time: 2:10:15.644352\n",
      "amount of metadata:  456.207 MiB\n",
      "amount of memory usage: 14915.5 MiB\n",
      "\n"
     ]
    }
   ],
   "source": [
    "########################################################\n",
    "id = 2\n",
    "t0 = DT.fromisoformat('2023-10-17T11:30:00')\n",
    "t1 = DT.fromisoformat('2023-10-17T20:30:00')\n",
    "polar1 = PHI_MODE('HRT')\n",
    "crop = 1536\n",
    "\n",
    "# cadence 20m to 30m to get some telemetry for high cadence\n",
    "kw = polar1.observation(t0,t0+TD(minutes=20),cadence=100/60,shape=(2048,crop,4,6)); PHI.saving(id,**kw)\n",
    "kw = polar1.observation(t0+TD(minutes=20),t0+TD(hours=6),cadence=30,shape=(2048,crop,4,6)); PHI.saving(id,**kw)\n",
    "kw = polar1.cropping(kw['end']+TD(minutes=15),crop=crop,ndata=-1,level = 'raw');# PHI.saving(id,**kw)\n",
    "kw = polar1.packing(kw['end'],ndata=-1,level = 'raw.crop'); PHI.saving(id,**kw)\n",
    "kw = polar1.compressing(DT(2023,10,23,18,0,0),ndata=-1,nbits=6,level='raw.crop.pack'); PHI.saving(id,**kw)\n",
    "# kw = polar1.compressing(DT(2023,10,23,18,0,0),ndata=15,nbits=6,level='raw.crop.pack'); PHI.saving(id,**kw)\n",
    "# kw = polar1.compressing(DT(2023,10,24,18,0,0),ndata=15,nbits=6,level='raw.crop.pack'); PHI.saving(id,**kw)\n",
    "# kw = polar1.compressing(DT(2023,10,25,18,0,0),ndata=16,nbits=6,level='raw.crop.pack'); PHI.saving(id,**kw)\n",
    "\n",
    "########################################################\n",
    "printp(polar1, label='Polar Observations')\n"
   ]
  },
  {
   "attachments": {},
   "cell_type": "markdown",
   "metadata": {},
   "source": [
    "## <span style=\"color:magenta\">***RESET NAND 1***</span>"
   ]
  },
  {
   "cell_type": "code",
   "execution_count": 21,
   "metadata": {},
   "outputs": [
    {
     "name": "stdout",
     "output_type": "stream",
     "text": [
      "amount of compressed data + metadata in partition 1: 6.31 GB\n"
     ]
    }
   ],
   "source": [
    "print('amount of compressed data + metadata in partition 1:',round(PHI.part1.compr*1e-3,2), 'GB')\n",
    "PHI.format_partition(1,DT(2023,10,20,1,0,0))"
   ]
  },
  {
   "attachments": {},
   "cell_type": "markdown",
   "metadata": {},
   "source": [
    "## <span style=\"color:blue\">R_SMALL_HRES_HCAD_Atmospheric-Dynamics-Structure</span> <br>"
   ]
  },
  {
   "cell_type": "code",
   "execution_count": 24,
   "metadata": {},
   "outputs": [
    {
     "name": "stdout",
     "output_type": "stream",
     "text": [
      "ATMOSPHERIC-DYNIMICS-STRUCTURE\n",
      "number of datasets: 360\n",
      "cadence: 1 mins\n",
      "duration: 6:00:00\n",
      "amount of raw-data at 32 bits: 98877.0 MiB, 274.7 MiB per dataset\n",
      "crop size: 1408\n",
      "amount of crop-data at 32 bits: 68664.6 MiB, 190.7 MiB per dataset\n",
      "cropping time: 7:00:00\n",
      "amount of pack-data at 16 bits: 35705.6 MiB, 99.2 MiB per dataset\n",
      "packing time: 9:00:00\n",
      "amount of compressed data + metadata at 6 bits: 12254.3 MiB, 34.0 MiB per dataset\n",
      "compressing (+ flushing) time: 1 day, 4:33:16.853760\n",
      "amount of metadata:  3072.108 MiB\n",
      "amount of memory usage: 203247.1 MiB\n",
      "\n"
     ]
    }
   ],
   "source": [
    "t0 = DT.fromisoformat('2023-10-20T07:00:00')\n",
    "t1 = DT.fromisoformat('2023-10-20T13:00:00')\n",
    "id = 1\n",
    "crop = 1408 # 1536 # 1280 # \n",
    "\n",
    "ADS = PHI_MODE('HRT')\n",
    "kw = ADS.observation(t0,t1,cadence=1,shape=(2048,crop,4,6)); PHI.saving(id,**kw)\n",
    "\n",
    "for i in range(30):\n",
    "    kw = ADS.cropping(DT(2023,11,23,9,0,0)+TD(days=i),[crop,crop],ndata=12,level='raw');# PHI.saving(id,**kw)\n",
    "    kw = ADS.packing(kw['end'],ndata=12,level='raw.crop',); PHI.saving(id,**kw)\n",
    "    kw = ADS.compressing(kw['end']+TD(minutes=15),ndata=12,nbits=6,level='raw.crop.pack'); PHI.saving(id,**kw)\n",
    "\n",
    "printp(ADS,label='ATMOSPHERIC-DYNIMICS-STRUCTURE')"
   ]
  },
  {
   "attachments": {},
   "cell_type": "markdown",
   "metadata": {},
   "source": [
    "## <span style=\"color:blue\">LIMB (STIX+METIS)</span>\n",
    "<span style=\"color:red\">crop to 1536 px to save telemetry</span>"
   ]
  },
  {
   "cell_type": "code",
   "execution_count": 23,
   "metadata": {},
   "outputs": [
    {
     "name": "stdout",
     "output_type": "stream",
     "text": [
      "Limb (STIX + METIS)\n",
      "number of datasets: 1\n",
      "cadence: 2 mins\n",
      "duration: 0:02:00\n",
      "amount of raw-data at 32 bits: 297.5 MiB, 297.5 MiB per dataset\n",
      "crop size: 1536\n",
      "amount of crop-data at 32 bits: 228.9 MiB, 228.9 MiB per dataset\n",
      "cropping time: 0:01:10\n",
      "amount of pack-data at 16 bits: 122.1 MiB, 122.1 MiB per dataset\n",
      "packing time: 0:01:30\n",
      "amount of compressed data + metadata at 6 bits: 40.5 MiB, 40.5 MiB per dataset\n",
      "compressing (+ flushing) time: 0:05:39.810624\n",
      "amount of metadata:  24.009 MiB\n",
      "amount of memory usage: 648.5 MiB\n",
      "\n"
     ]
    }
   ],
   "source": [
    "########################################################\n",
    "id = 2\n",
    "t0 = DT.fromisoformat('2023-10-20T10:00:00')\n",
    "t1 = DT.fromisoformat('2023-10-21T00:00:00')\n",
    "LI = PHI_MODE('HRT')\n",
    "crop = 1536\n",
    "\n",
    "# cadence 60s to 100s to get some telemetry for high cadence\n",
    "kw = LI.observation(t0,1,cadence=2,shape=(2048,crop,4,6)); PHI.saving(id,**kw)\n",
    "kw = LI.cropping(kw['end']+TD(minutes=10),crop=crop,ndata=-1,level = 'raw');# phi.saving(id,**kw); PHI.saving(id,**kw)\n",
    "kw = LI.packing(kw['end'],ndata=-1,level = 'raw.crop'); PHI.saving(id,**kw)\n",
    "kw = LI.compressing(kw['end']+TD(minutes=10),ndata=-1,nbits=6,level = 'raw.crop.pack'); PHI.saving(id,**kw)\n",
    "\n",
    "########################################################\n",
    "printp(LI, label='Limb (STIX + METIS)')\n"
   ]
  },
  {
   "attachments": {},
   "cell_type": "markdown",
   "metadata": {},
   "source": [
    "## <span style=\"color:blue\">L_BOTH_HRES_LCAD_CH-Boundary-Expansion</span>"
   ]
  },
  {
   "cell_type": "code",
   "execution_count": 24,
   "metadata": {},
   "outputs": [
    {
     "data": {
      "text/plain": [
       "1408"
      ]
     },
     "execution_count": 24,
     "metadata": {},
     "output_type": "execute_result"
    }
   ],
   "source": [
    "128*11"
   ]
  },
  {
   "cell_type": "code",
   "execution_count": 42,
   "metadata": {},
   "outputs": [
    {
     "name": "stdout",
     "output_type": "stream",
     "text": [
      "CH boundary expansion + 1h@1m\n",
      "number of datasets: 2\n",
      "cadence: 2 mins\n",
      "duration: 0:02:00\n",
      "amount of raw-data at 32 bits: 549.3 MiB, 274.7 MiB per dataset\n",
      "crop size: 1408\n",
      "amount of crop-data at 32 bits: 381.5 MiB, 190.7 MiB per dataset\n",
      "cropping time: 0:02:20\n",
      "amount of pack-data at 16 bits: 198.4 MiB, 99.2 MiB per dataset\n",
      "packing time: 0:03:00\n",
      "amount of compressed data + metadata at 6 bits: 68.1 MiB, 34.0 MiB per dataset\n",
      "compressing (+ flushing) time: 0:09:31.093632\n",
      "amount of metadata:  24.009 MiB\n",
      "amount of memory usage: 1129.2 MiB\n",
      "\n"
     ]
    }
   ],
   "source": [
    "########################################################\n",
    "id = 2\n",
    "t0 = DT.fromisoformat('2023-10-21T00:00:00')\n",
    "t1 = DT.fromisoformat('2023-10-22T00:00:00')\n",
    "CH1 = PHI_MODE('FDT')\n",
    "\n",
    "synoptic_raw(PHI,CH1,t0,t1,720,(2048,1408,4,6),6,id)\n",
    "\n",
    "# 1h@1m cadence test\n",
    "# crop = 1408\n",
    "# kw = CH1.observation(t0+TD(hours=1),60,cadence=1,shape=(2048,crop,4,6)); PHI.saving(id,**kw)\n",
    "# for i in range(10):\n",
    "#     kw = CH1.cropping(DT(2023,12,1,17,0,0)+TD(days=i),crop=crop,ndata=6,level = 'raw');# phi.saving(id,**kw); PHI.saving(id,**kw)\n",
    "#     kw = CH1.packing(kw['end'],ndata=6,level = 'raw.crop'); PHI.saving(id,**kw)\n",
    "#     kw = CH1.compressing(kw['end']+TD(minutes=60),ndata=6,nbits=6,level = 'raw.crop.pack'); PHI.saving(id,**kw)\n",
    "\n",
    "########################################################\n",
    "printp(CH1, label='CH boundary expansion + 1h@1m')\n"
   ]
  },
  {
   "attachments": {},
   "cell_type": "markdown",
   "metadata": {},
   "source": [
    "## <span style=\"color:green\">HRT Flat 3</span>"
   ]
  },
  {
   "cell_type": "code",
   "execution_count": 26,
   "metadata": {},
   "outputs": [
    {
     "name": "stdout",
     "output_type": "stream",
     "text": [
      "HRT FLAT 3 (22/10/2023)\n",
      "number of datasets: 11\n",
      "cadence: 15.0 mins\n",
      "duration: 0:15:00\n",
      "amount of raw-data at 32 bits: 4364.0 MiB, 396.7 MiB per dataset\n",
      "amount of pack-data at 16 bits: 206.0 MiB, 206.0 MiB per dataset\n",
      "packing time: 0:01:30\n",
      "amount of compressed data + metadata at 6 bits: 72.0 MiB, 72.0 MiB per dataset\n",
      "compressing (+ flushing) time: 0:10:04.051776\n",
      "amount of metadata:  16.009 MiB\n",
      "amount of memory usage: 4570.0 MiB\n",
      "\n"
     ]
    }
   ],
   "source": [
    "########################################################\n",
    "id = 2\n",
    "\n",
    "t0 = DT.fromisoformat('2023-10-22T00:00:00')\n",
    "HRTflat3 = HRT_flat(PHI,t0,id,DT(2023,10,23,7,0,0),DT(2023,10,24,22,0,0),verbose=False)\n",
    "########################################################\n",
    "printp(HRTflat3, label=\"HRT FLAT 3 (22/10/2023)\")"
   ]
  },
  {
   "attachments": {},
   "cell_type": "markdown",
   "metadata": {},
   "source": [
    "# <span style=\"color:magenta\">*RSW 12*</span>"
   ]
  },
  {
   "attachments": {},
   "cell_type": "markdown",
   "metadata": {},
   "source": [
    "## <span style=\"color:blue\">L_FULL_HRES_HCAD_Eruption-Watch</span>"
   ]
  },
  {
   "cell_type": "code",
   "execution_count": 27,
   "metadata": {},
   "outputs": [
    {
     "name": "stdout",
     "output_type": "stream",
     "text": [
      "CH boundary expansion\n",
      "number of datasets: 4\n",
      "cadence: 2 mins\n",
      "duration: 0:02:00\n",
      "amount of raw-data at 32 bits: 1098.6 MiB, 274.7 MiB per dataset\n",
      "crop size: 1408\n",
      "amount of crop-data at 32 bits: 762.9 MiB, 190.7 MiB per dataset\n",
      "cropping time: 0:04:40\n",
      "amount of pack-data at 16 bits: 396.7 MiB, 99.2 MiB per dataset\n",
      "packing time: 0:06:00\n",
      "amount of compressed data + metadata at 6 bits: 136.2 MiB, 34.0 MiB per dataset\n",
      "compressing (+ flushing) time: 0:19:02.187264\n",
      "amount of metadata:  24.009 MiB\n",
      "amount of memory usage: 2258.3 MiB\n",
      "\n"
     ]
    }
   ],
   "source": [
    "########################################################\n",
    "id = 2\n",
    "t0 = DT.fromisoformat('2023-10-23T00:00:00')\n",
    "t1 = DT.fromisoformat('2023-10-24T00:00:00')\n",
    "CH1 = PHI_MODE('FDT')\n",
    "\n",
    "synoptic_raw(PHI,CH1,t0,t1,360,(2048,1408,4,6),6,id)\n",
    "\n",
    "########################################################\n",
    "printp(CH1, label='CH boundary expansion')\n"
   ]
  },
  {
   "attachments": {},
   "cell_type": "markdown",
   "metadata": {},
   "source": [
    "## <span style=\"color:blue\">Fast Wind 2</span>\n"
   ]
  },
  {
   "cell_type": "code",
   "execution_count": 34,
   "metadata": {},
   "outputs": [
    {
     "name": "stdout",
     "output_type": "stream",
     "text": [
      "Fast Wind 2\n",
      "number of datasets: 6\n",
      "cadence: 30 mins\n",
      "duration: 1:00:00\n",
      "amount of raw-data at 32 bits: 2380.4 MiB, 396.7 MiB per dataset\n",
      "amount of pack-data at 16 bits: 366.2 MiB, 61.0 MiB per dataset\n",
      "packing time: 0:04:30\n",
      "amount of compressed data + metadata at 6 bits: 108.1 MiB, 18.0 MiB per dataset\n",
      "compressing (+ flushing) time: 0:15:06.401664\n",
      "amount of metadata:  32.018 MiB\n",
      "amount of memory usage: 3387.5 MiB\n",
      "\n"
     ]
    }
   ],
   "source": [
    "########################################################\n",
    "id = 1\n",
    "t0 = DT.fromisoformat('2023-10-24T10:00:00')\n",
    "t1 = DT.fromisoformat('2023-10-26T22:00:00')\n",
    "FW2 = PHI_MODE('HRT')\n",
    "\n",
    "kw = FW2.observation(t0,2,cadence=30,shape=(2048,2048,4,6)); PHI.saving(id,**kw)\n",
    "kw = FW2.binning(kw['end']+TD(minutes=10),2,ndata=-1,level = 'raw'); PHI.saving(id,**kw)\n",
    "kw = FW2.packing(kw['end']+TD(minutes=10),ndata=-1,level = 'raw.bin'); PHI.saving(id,**kw)\n",
    "kw = FW2.compressing(kw['end']+TD(minutes=10),ndata=2,nbits=6,level = 'raw.bin.pack'); PHI.saving(id,**kw)\n",
    "\n",
    "kw = FW2.observation(t0+TD(days=1),2,cadence=30,shape=(2048,2048,4,6)); PHI.saving(id,**kw)\n",
    "kw = FW2.binning(kw['end']+TD(minutes=10),2,ndata=-1,level = 'raw'); PHI.saving(id,**kw)\n",
    "kw = FW2.packing(kw['end']+TD(minutes=10),ndata=-1,level = 'raw.bin'); PHI.saving(id,**kw)\n",
    "kw = FW2.compressing(kw['end']+TD(minutes=10),ndata=2,nbits=6,level = 'raw.bin.pack'); PHI.saving(id,**kw)\n",
    "\n",
    "kw = FW2.observation(t0+TD(days=2),2,cadence=30,shape=(2048,2048,4,6)); PHI.saving(id,**kw)\n",
    "kw = FW2.binning(kw['end']+TD(minutes=10),2,ndata=-1,level = 'raw'); PHI.saving(id,**kw)\n",
    "kw = FW2.packing(kw['end']+TD(minutes=10),ndata=-1,level = 'raw.bin'); PHI.saving(id,**kw)\n",
    "kw = FW2.compressing(kw['end']+TD(minutes=10),ndata=2,nbits=6,level = 'raw.bin.pack'); PHI.saving(id,**kw)\n",
    "\n",
    "########################################################\n",
    "printp(FW2, label='Fast Wind 2')\n"
   ]
  },
  {
   "attachments": {},
   "cell_type": "markdown",
   "metadata": {},
   "source": [
    "## <span style=\"color:blue\">R_SMALL_HRES_MCAD_Full-Disk-Mosaic</span>"
   ]
  },
  {
   "cell_type": "code",
   "execution_count": 29,
   "metadata": {},
   "outputs": [
    {
     "name": "stdout",
     "output_type": "stream",
     "text": [
      "Crazy Mosaic\n",
      "number of datasets: 25\n",
      "cadence: 7 mins\n",
      "duration: 2:55:00\n",
      "amount of raw-data at 32 bits: 9918.2 MiB, 396.7 MiB per dataset\n",
      "amount of pack-data at 16 bits: 5149.8 MiB, 206.0 MiB per dataset\n",
      "packing time: 0:37:30\n",
      "amount of compressed data + metadata at 6 bits: 1800.2 MiB, 72.0 MiB per dataset\n",
      "compressing (+ flushing) time: 4:11:41.294400\n",
      "amount of metadata:  400.045 MiB\n",
      "amount of memory usage: 15068.1 MiB\n",
      "\n"
     ]
    }
   ],
   "source": [
    "########################################################\n",
    "id = 2\n",
    "t0 = DT.fromisoformat('2023-10-27T10:00:00')\n",
    "t1 = t0 + TD(minutes=175) #25 datasets\n",
    "crazy = PHI_MODE('HRT')\n",
    "\n",
    "kw = crazy.observation(t0,25,cadence=7,shape=(2048,2048,4,6)); PHI.saving(id,**kw)\n",
    "kw = crazy.packing(DT(2023,10,28,5,0,0),ndata=-1,level = 'raw'); PHI.saving(id,**kw)\n",
    "# kw = crazy.compressing(DT(2023,3,22,22,0,0),ndata=-1,nbits=6,level='raw.pack'); phi.saving(id,**kw); PHI.saving(id,**kw)\n",
    "kw = crazy.compressing(DT(2023,10,28,18,35,0),ndata=5,nbits=6,level='raw.pack'); PHI.saving(id,**kw)\n",
    "kw = crazy.compressing(DT(2023,10,29,18,35,0),ndata=5,nbits=6,level='raw.pack'); PHI.saving(id,**kw)\n",
    "kw = crazy.compressing(DT(2023,10,30,18,35,0),ndata=5,nbits=6,level='raw.pack'); PHI.saving(id,**kw)\n",
    "kw = crazy.compressing(DT(2023,10,31,18,35,0),ndata=5,nbits=6,level='raw.pack'); PHI.saving(id,**kw)\n",
    "kw = crazy.compressing(DT(2023,11,1,18,35,0),ndata=5,nbits=6,level='raw.pack'); PHI.saving(id,**kw)\n",
    "\n",
    "########################################################\n",
    "printp(crazy, label='Crazy Mosaic')\n"
   ]
  },
  {
   "attachments": {},
   "cell_type": "markdown",
   "metadata": {},
   "source": [
    "## <span style=\"color:blue\">R_BOTH_HRES_MCAD_Bright-Points</span>"
   ]
  },
  {
   "cell_type": "code",
   "execution_count": 37,
   "metadata": {},
   "outputs": [
    {
     "name": "stdout",
     "output_type": "stream",
     "text": [
      "Bright Points\n",
      "number of datasets: 16\n",
      "cadence: 30 mins\n",
      "duration: 8:00:00\n",
      "amount of raw-data at 32 bits: 3295.9 MiB, 206.0 MiB per dataset\n",
      "crop size: 1024\n",
      "amount of crop-data at 32 bits: 1709.0 MiB, 106.8 MiB per dataset\n",
      "cropping time: 0:09:20\n",
      "amount of pack-data at 16 bits: 976.6 MiB, 61.0 MiB per dataset\n",
      "packing time: 0:12:00\n",
      "amount of compressed data + metadata at 6 bits: 288.1 MiB, 18.0 MiB per dataset\n",
      "compressing (+ flushing) time: 0:40:17.071104\n",
      "amount of metadata:  384.144 MiB\n",
      "amount of memory usage: 5981.4 MiB\n",
      "\n"
     ]
    }
   ],
   "source": [
    "########################################################\n",
    "id = 1\n",
    "t0 = DT.fromisoformat('2023-10-27T22:00:00')\n",
    "t1 = DT.fromisoformat('2023-10-28T06:00:00')\n",
    "BP = PHI_MODE('HRT')\n",
    "crop = 1024\n",
    "\n",
    "kw = BP.observation(t0,t1,cadence=30,shape=(2048,crop,4,6)); PHI.saving(id,**kw)\n",
    "kw = BP.cropping(DT(2023,10,29,20,5),crop=crop,ndata=-1,level = 'raw');# phi.saving(id,**kw); PHI.saving(id,**kw)\n",
    "kw = BP.packing(kw['end'],ndata=-1,level = 'raw.crop'); PHI.saving(id,**kw)\n",
    "kw = BP.compressing(DT(2023,11,2,22,0),ndata=-1,nbits=6,level = 'raw.crop.pack'); PHI.saving(id,**kw)\n",
    "\n",
    "########################################################\n",
    "printp(BP, label='Bright Points')\n"
   ]
  },
  {
   "attachments": {},
   "cell_type": "markdown",
   "metadata": {},
   "source": [
    "## <span style=\"color:blue\">R_SMALL_HRES_MCAD_AR-Heating</span>"
   ]
  },
  {
   "cell_type": "code",
   "execution_count": 39,
   "metadata": {},
   "outputs": [
    {
     "name": "stdout",
     "output_type": "stream",
     "text": [
      "AR Heating 2\n",
      "number of datasets: 5\n",
      "cadence: 60 mins\n",
      "duration: 1:00:00\n",
      "amount of raw-data at 32 bits: 1884.5 MiB, 376.9 MiB per dataset\n",
      "crop size: 1536\n",
      "amount of crop-data at 32 bits: 1144.4 MiB, 228.9 MiB per dataset\n",
      "cropping time: 0:05:50\n",
      "amount of pack-data at 16 bits: 610.4 MiB, 122.1 MiB per dataset\n",
      "packing time: 0:07:30\n",
      "amount of compressed data + metadata at 6 bits: 202.5 MiB, 40.5 MiB per dataset\n",
      "compressing (+ flushing) time: 0:28:19.053120\n",
      "amount of metadata:  24.009 MiB\n",
      "amount of memory usage: 3639.2 MiB\n",
      "\n"
     ]
    }
   ],
   "source": [
    "########################################################\n",
    "id = 1\n",
    "t0 = DT.fromisoformat('2023-10-28T08:43:00')\n",
    "ARh = PHI_MODE('HRT')\n",
    "crop = 1536\n",
    "\n",
    "kw = ARh.observation(t0,1,cadence=60,shape=(2048,crop,4,6)); PHI.saving(id,**kw)\n",
    "kw = ARh.cropping(kw['end']+TD(minutes=10),crop,ndata=-1,level = 'raw')\n",
    "kw = ARh.packing(kw['end'],ndata=-1,level = 'raw.crop'); PHI.saving(id,**kw)\n",
    "kw = ARh.compressing(kw['end']+TD(minutes=10),ndata=1,nbits=6,level = 'raw.crop.pack'); PHI.saving(id,**kw)\n",
    "\n",
    "kw = ARh.observation(t0+TD(days=1),1,cadence=60,shape=(2048,2048,4,6)); PHI.saving(id,**kw)\n",
    "kw = ARh.cropping(kw['end']+TD(minutes=10),crop,ndata=-1,level = 'raw')\n",
    "kw = ARh.packing(kw['end'],ndata=-1,level = 'raw.crop'); PHI.saving(id,**kw)\n",
    "kw = ARh.compressing(kw['end']+TD(minutes=10),ndata=1,nbits=6,level = 'raw.crop.pack'); PHI.saving(id,**kw)\n",
    "\n",
    "kw = ARh.observation(t0+TD(days=2),1,cadence=60,shape=(2048,2048,4,6)); PHI.saving(id,**kw)\n",
    "kw = ARh.cropping(kw['end']+TD(minutes=10),crop,ndata=-1,level = 'raw')\n",
    "kw = ARh.packing(kw['end'],ndata=-1,level = 'raw.crop'); PHI.saving(id,**kw)\n",
    "kw = ARh.compressing(kw['end']+TD(minutes=10),ndata=1,nbits=6,level = 'raw.crop.pack'); PHI.saving(id,**kw)\n",
    "\n",
    "kw = ARh.observation(t0+TD(days=3),1,cadence=60,shape=(2048,2048,4,6)); PHI.saving(id,**kw)\n",
    "kw = ARh.cropping(kw['end']+TD(minutes=10),crop,ndata=-1,level = 'raw')\n",
    "kw = ARh.packing(kw['end'],ndata=-1,level = 'raw.crop'); PHI.saving(id,**kw)\n",
    "kw = ARh.compressing(kw['end']+TD(minutes=10),ndata=1,nbits=6,level = 'raw.crop.pack'); PHI.saving(id,**kw)\n",
    "\n",
    "kw = ARh.observation(t0+TD(days=4),1,cadence=60,shape=(2048,2048,4,6)); PHI.saving(id,**kw)\n",
    "kw = ARh.cropping(kw['end']+TD(minutes=10),crop,ndata=-1,level = 'raw')\n",
    "kw = ARh.packing(kw['end'],ndata=-1,level = 'raw.crop'); PHI.saving(id,**kw)\n",
    "kw = ARh.compressing(kw['end']+TD(minutes=10),ndata=1,nbits=6,level = 'raw.crop.pack'); PHI.saving(id,**kw)\n",
    "\n",
    "########################################################\n",
    "printp(ARh, label='AR Heating 2')\n"
   ]
  },
  {
   "attachments": {},
   "cell_type": "markdown",
   "metadata": {},
   "source": [
    "## <span style=\"color:blue\">R_SMALL_HRES_MCAD_Polar-Observations</span>"
   ]
  },
  {
   "cell_type": "code",
   "execution_count": 41,
   "metadata": {},
   "outputs": [],
   "source": [
    "# ########################################################\n",
    "# id = 1\n",
    "# t0 = DT.fromisoformat('2023-10-31T10:00:00')\n",
    "# t1 = DT.fromisoformat('2023-10-31T13:00:00')\n",
    "# BP = PHI_MODE('HRT')\n",
    "# crop = 1536\n",
    "\n",
    "# kw = BP.observation(t0,t1,cadence=10,shape=(2048,crop,4,6)); PHI.saving(id,**kw)\n",
    "# kw = BP.cropping(DT(2023,10,31,16,0,0),crop=crop,ndata=-1,level = 'raw');# phi.saving(id,**kw); PHI.saving(id,**kw)\n",
    "# kw = BP.packing(kw['end'],ndata=-1,level = 'raw.crop'); PHI.saving(id,**kw)\n",
    "# kw = BP.compressing(DT(2023,10,31,22,0),ndata=9,nbits=6,level = 'raw.crop.pack'); PHI.saving(id,**kw)\n",
    "# kw = BP.compressing(DT(2023,11,1,22,0),ndata=9,nbits=6,level = 'raw.crop.pack'); PHI.saving(id,**kw)\n",
    "\n",
    "# ########################################################\n",
    "# printp(BP, label='Polar 2')\n"
   ]
  },
  {
   "cell_type": "markdown",
   "metadata": {},
   "source": [
    "# <span style=\"color:white\">*out of RSWs*</span>"
   ]
  },
  {
   "attachments": {},
   "cell_type": "markdown",
   "metadata": {},
   "source": [
    "## <span style=\"color:green\">FDT Flat 4</span>"
   ]
  },
  {
   "cell_type": "code",
   "execution_count": 33,
   "metadata": {},
   "outputs": [
    {
     "name": "stdout",
     "output_type": "stream",
     "text": [
      "FDT FLAT 4 (02/11/2023)\n",
      "number of datasets: 10\n",
      "cadence: 300.0 mins\n",
      "duration: 5:00:00\n",
      "amount of raw-data at 32 bits: 3967.3 MiB, 396.7 MiB per dataset\n",
      "amount of pack-data at 16 bits: 206.0 MiB, 206.0 MiB per dataset\n",
      "packing time: 0:01:30\n",
      "amount of compressed data + metadata at 6 bits: 72.0 MiB, 72.0 MiB per dataset\n",
      "compressing (+ flushing) time: 0:10:04.051776\n",
      "amount of metadata:  16.009 MiB\n",
      "amount of memory usage: 4173.3 MiB\n",
      "\n"
     ]
    }
   ],
   "source": [
    "########################################################\n",
    "id = 2\n",
    "\n",
    "t0 = DT.fromisoformat('2023-11-02T01:00:00')\n",
    "FDTflat4 = FDT_flat(PHI,t0,id,DT(2023,11,4,6,0,0),'auto',verbose=False)\n",
    "########################################################\n",
    "printp(FDTflat4, label=\"FDT FLAT 4 (02/11/2023)\")"
   ]
  },
  {
   "attachments": {},
   "cell_type": "markdown",
   "metadata": {},
   "source": [
    "## <span style=\"color:green\">HRT Flat 4</span>"
   ]
  },
  {
   "cell_type": "code",
   "execution_count": 34,
   "metadata": {},
   "outputs": [
    {
     "name": "stdout",
     "output_type": "stream",
     "text": [
      "HRT FLAT 5 (02/11/2023)\n",
      "number of datasets: 11\n",
      "cadence: 15.0 mins\n",
      "duration: 0:15:00\n",
      "amount of raw-data at 32 bits: 4364.0 MiB, 396.7 MiB per dataset\n",
      "amount of pack-data at 16 bits: 206.0 MiB, 206.0 MiB per dataset\n",
      "packing time: 0:01:30\n",
      "amount of compressed data + metadata at 6 bits: 72.0 MiB, 72.0 MiB per dataset\n",
      "compressing (+ flushing) time: 0:10:04.051776\n",
      "amount of metadata:  16.009 MiB\n",
      "amount of memory usage: 4570.0 MiB\n",
      "\n"
     ]
    }
   ],
   "source": [
    "########################################################\n",
    "id = 2\n",
    "\n",
    "t0 = DT.fromisoformat('2023-11-02T03:00:00')\n",
    "HRTflat4 = HRT_flat(PHI,t0,id,DT(2023,11,5,6,0,0),'auto',verbose=False)\n",
    "########################################################\n",
    "printp(HRTflat4, label=\"HRT FLAT 5 (02/11/2023)\")"
   ]
  },
  {
   "cell_type": "markdown",
   "metadata": {},
   "source": [
    "## <span style=\"color:green\">Synoptic</span>\n",
    "\n",
    "CROP+PACK\n",
    "\n",
    "<span style=\"color:red\">cadence to 4h to save telemetry</span>"
   ]
  },
  {
   "cell_type": "code",
   "execution_count": 35,
   "metadata": {},
   "outputs": [],
   "source": [
    "# ########################################################\n",
    "# id = 2\n",
    "# t0 = DT.fromisoformat('2023-04-26T00:00:00')\n",
    "# t1 = DT.fromisoformat('2023-05-04T00:00:00')\n",
    "# DF = PHI_MODE('FDT')\n",
    "\n",
    "# synoptic_raw(PHI,DF,t0,t1,240,(2048,1280,4,6),6,id,crop_pack=True)\n",
    "\n",
    "# ########################################################\n",
    "# printp(DF, label='Synoptic')\n"
   ]
  },
  {
   "cell_type": "markdown",
   "metadata": {},
   "source": [
    "## <span style=\"color:green\">Synoptic</span>\n",
    "\n",
    "3h cadence"
   ]
  },
  {
   "cell_type": "code",
   "execution_count": 36,
   "metadata": {},
   "outputs": [],
   "source": [
    "# ########################################################\n",
    "# id = 2\n",
    "# t0 = DT.fromisoformat('2023-05-04T04:00:00')\n",
    "# t1 = DT.fromisoformat('2023-05-20T00:00:00')\n",
    "# DF = PHI_MODE('FDT')\n",
    "# crop = 1536\n",
    "\n",
    "# synoptic_raw(PHI,DF,t0,t1,240,(2048,crop,4,6),6,id)\n",
    "\n",
    "# ########################################################\n",
    "# printp(DF, label='Synoptic')\n"
   ]
  },
  {
   "cell_type": "code",
   "execution_count": 37,
   "metadata": {},
   "outputs": [],
   "source": [
    "# ########################################################\n",
    "# id = 2\n",
    "# t0 = DT.fromisoformat('2023-05-20T04:00:00')\n",
    "# t1 = DT.fromisoformat('2023-08-02T00:00:00')\n",
    "# DF = PHI_MODE('FDT')\n",
    "\n",
    "# synoptic_raw(PHI,DF,t0,t1,240,(2048,1024,4,6),6,id)\n",
    "\n",
    "# ########################################################\n",
    "# printp(DF, label='Synoptic')\n"
   ]
  },
  {
   "cell_type": "markdown",
   "metadata": {},
   "source": [
    "# <span style=\"color:yellow\">PLOTS</span>\n",
    "\n",
    "We should try to format partition two at some point, in this way we could add more FDT synoptic during and after RSWs.\n",
    "\n",
    "Implementing CROP+Pack would save ~70 GB of memory in NAND1"
   ]
  },
  {
   "cell_type": "code",
   "execution_count": 38,
   "metadata": {},
   "outputs": [
    {
     "data": {
      "image/png": "[encoded data removed]",
      "text/plain": [
       "<Figure size 1080x576 with 2 Axes>"
      ]
     },
     "metadata": {
      "needs_background": "light"
     },
     "output_type": "display_data"
    }
   ],
   "source": [
    "xlim = (DT(2023,9,1,0,0,0),DT(2023,12,25,0,0,0))\n",
    "plot_tot(PHI, xlim=xlim, ylim=(0,250), time_ord=True)\n",
    "# plt.savefig('/home/calchetti/MPStemp/pics/TM/total_v5.1.png')\n",
    "\n",
    "# fname = '/home/calchetti/MPStemp/PHI_TMtool/TM_NMP1_v2.csv'\n",
    "# PHI.save(fname)"
   ]
  },
  {
   "cell_type": "code",
   "execution_count": 39,
   "metadata": {},
   "outputs": [
    {
     "name": "stderr",
     "output_type": "stream",
     "text": [
      "/tmp/ipykernel_1371048/4027334492.py:217: UserWarning: marker is redundantly defined by the 'marker' keyword argument and the fmt string \"o\" (-> marker='o'). The keyword argument will take precedence.\n",
      "  plt.plot_date(times,newc1+newc2,color='black',linestyle='-',marker='.',label='total: '+str(round(total,1))+' GB')\n"
     ]
    },
    {
     "data": {
      "image/png": "[encoded data removed]",
      "text/plain": [
       "<Figure size 1080x864 with 1 Axes>"
      ]
     },
     "metadata": {
      "needs_background": "light"
     },
     "output_type": "display_data"
    }
   ],
   "source": [
    "xlim = (DT(2023,9,30,0,0,0),DT(2023,12,25,0,0,0))\n",
    "tt, tm1, tm2 = plot_flush_per_day(PHI,xlim,values=True)\n",
    "ylim = plt.gca().get_ylim()\n",
    "plt.fill_betweenx(ylim,DT(2023,10,1),DT(2023,10,11),facecolor='red',alpha=.2);\n",
    "plt.fill_betweenx(ylim,DT(2023,10,12),DT(2023,10,22),facecolor='blue',alpha=.2);\n",
    "plt.fill_betweenx(ylim,DT(2023,10,23),DT(2023,11,3),facecolor='blue',alpha=.2);\n",
    "plt.ylim(ylim);\n",
    "# 1 GB = 2.2h of flushing"
   ]
  },
  {
   "cell_type": "code",
   "execution_count": 39,
   "metadata": {},
   "outputs": [
    {
     "name": "stdout",
     "output_type": "stream",
     "text": [
      "(MiB)\tNAND-1\tNAND-2\ttotal\n",
      "RSW-10\t3646\t0\t3646\n",
      "RSW-11\t2376\t2633\t5009\n",
      "RSW-12\t2016\t5392\t7408\n",
      "total\t8038\t8025\t16063\n",
      "\n",
      "out\t14583\t10123\t24706\n"
     ]
    }
   ],
   "source": [
    "rsw10 = [DT(2023,9,30,0,0,0),DT(2023,10,12,0,0,0)]\n",
    "rsw11 = [DT(2023,10,12,0,0,0),DT(2023,10,23,0,0,0)]\n",
    "rsw12 = [DT(2023,10,23,0,0,0),DT(2023,11,3,0,0,0)]\n",
    "\n",
    "rsw10_1 = tm1[np.where(np.logical_and(tt>=rsw10[0].date(),tt<rsw10[1].date()))] * 1e9 / 2**20\n",
    "rsw10_2 = tm2[np.where(np.logical_and(tt>=rsw10[0].date(),tt<rsw10[1].date()))]* 1e9 / 2**20\n",
    "\n",
    "rsw11_1 = tm1[np.where(np.logical_and(tt>=rsw11[0].date(),tt<rsw11[1].date()))]* 1e9 / 2**20\n",
    "rsw11_2 = tm2[np.where(np.logical_and(tt>=rsw11[0].date(),tt<rsw11[1].date()))]* 1e9 / 2**20\n",
    "\n",
    "rsw12_1 = tm1[np.where(np.logical_and(tt>=rsw12[0].date(),tt<rsw12[1].date()))]* 1e9 / 2**20\n",
    "rsw12_2 = tm2[np.where(np.logical_and(tt>=rsw12[0].date(),tt<rsw12[1].date()))]* 1e9 / 2**20\n",
    "\n",
    "out_1 = tm1[np.where(tt>=rsw12[1].date())]* 1e9 / 2**20\n",
    "out_2 = tm2[np.where(tt>=rsw12[1].date())]* 1e9 / 2**20\n",
    "\n",
    "print('(MiB)\\tNAND-1\\tNAND-2\\ttotal')\n",
    "print(f'RSW-10\\t{int(round(rsw10_1.sum(),0))}\\t{int(round(rsw10_2.sum(),0))}\\t{int(round(rsw10_1.sum()+rsw10_2.sum(),0))}')\n",
    "print(f'RSW-11\\t{int(round(rsw11_1.sum(),0))}\\t{int(round(rsw11_2.sum(),0))}\\t{int(round(rsw11_1.sum()+rsw11_2.sum(),0))}')\n",
    "print(f'RSW-12\\t{int(round(rsw12_1.sum(),0))}\\t{int(round(rsw12_2.sum(),0))}\\t{int(round(rsw12_1.sum()+rsw12_2.sum(),0))}')\n",
    "print(f'total\\t{int(round(rsw10_1.sum()+rsw11_1.sum()+rsw12_1.sum(),0))}\\t{int(round(rsw10_2.sum()+rsw11_2.sum()+rsw12_2.sum(),0))}'+\n",
    "      f'\\t{int(round(rsw10_1.sum()+rsw10_2.sum()+rsw11_1.sum()+rsw11_2.sum()+rsw12_1.sum()+rsw12_2.sum(),0))}')\n",
    "print('')\n",
    "print(f'out\\t{int(round(out_1.sum(),0))}\\t{int(round(out_2.sum(),0))}\\t{int(round(out_1.sum()+out_2.sum(),0))}')\n"
   ]
  },
  {
   "cell_type": "code",
   "execution_count": 40,
   "metadata": {},
   "outputs": [
    {
     "name": "stdout",
     "output_type": "stream",
     "text": [
      "DATE\tFLUSH NAND-1 (MiB)\tFLUSH NAND-2 (MiB)\n",
      "2023-09-01\t162\t0\n",
      "2023-09-02\t162\t0\n",
      "2023-09-03\t162\t0\n",
      "2023-09-04\t162\t0\n",
      "2023-09-05\t162\t0\n",
      "2023-09-06\t162\t0\n",
      "2023-09-07\t162\t0\n",
      "2023-09-08\t162\t0\n",
      "2023-09-09\t162\t0\n",
      "2023-09-10\t162\t0\n",
      "2023-09-11\t162\t0\n",
      "2023-09-12\t162\t0\n",
      "2023-09-13\t162\t0\n",
      "2023-09-14\t162\t0\n",
      "2023-09-15\t162\t0\n",
      "2023-09-16\t162\t0\n",
      "2023-09-17\t162\t0\n",
      "2023-09-18\t162\t0\n",
      "2023-09-19\t162\t0\n",
      "2023-09-20\t162\t0\n",
      "2023-09-21\t162\t0\n",
      "2023-09-22\t162\t0\n",
      "2023-09-23\t162\t0\n",
      "2023-09-24\t162\t0\n",
      "2023-09-25\t162\t0\n",
      "2023-09-26\t162\t0\n",
      "2023-09-27\t162\t0\n",
      "2023-09-28\t162\t0\n",
      "2023-09-29\t162\t0\n",
      "2023-09-30\t0\t72\n",
      "2023-10-01\t288\t0\n",
      "2023-10-02\t288\t0\n",
      "2023-10-03\t288\t0\n",
      "2023-10-04\t288\t0\n",
      "2023-10-05\t288\t0\n",
      "2023-10-06\t241\t72\n",
      "2023-10-07\t169\t0\n",
      "2023-10-08\t529\t0\n",
      "2023-10-09\t529\t0\n",
      "2023-10-10\t169\t473\n",
      "2023-10-11\t385\t648\n",
      "2023-10-12\t0\t432\n",
      "2023-10-13\t0\t432\n",
      "2023-10-14\t216\t432\n",
      "2023-10-15\t0\t432\n",
      "2023-10-16\t0\t432\n",
      "2023-10-17\t0\t2295\n",
      "2023-10-18\t0\t432\n",
      "2023-10-19\t0\t432\n",
      "2023-10-20\t0\t41\n",
      "2023-10-21\t0\t288\n",
      "2023-10-22\t0\t72\n",
      "2023-10-23\t0\t288\n",
      "2023-10-24\t144\t0\n",
      "2023-10-25\t144\t0\n",
      "2023-10-26\t144\t0\n",
      "2023-10-27\t0\t0\n",
      "2023-10-28\t81\t1800\n",
      "2023-10-29\t531\t0\n",
      "2023-10-30\t81\t648\n",
      "2023-10-31\t81\t648\n",
      "2023-11-01\t81\t0\n",
      "2023-11-02\t0\t144\n",
      "2023-11-03\t0\t551\n",
      "2023-11-04\t0\t551\n",
      "2023-11-05\t0\t551\n",
      "2023-11-06\t0\t551\n",
      "2023-11-07\t0\t551\n",
      "2023-11-08\t0\t551\n",
      "2023-11-09\t0\t551\n",
      "2023-11-10\t0\t551\n",
      "2023-11-11\t0\t551\n",
      "2023-11-12\t0\t606\n",
      "2023-11-13\t486\t0\n",
      "2023-11-14\t486\t0\n",
      "2023-11-15\t486\t0\n",
      "2023-11-16\t486\t0\n",
      "2023-11-17\t486\t0\n",
      "2023-11-18\t486\t0\n",
      "2023-11-19\t486\t0\n",
      "2023-11-20\t486\t0\n",
      "2023-11-21\t486\t0\n",
      "2023-11-22\t486\t0\n",
      "2023-11-23\t486\t0\n",
      "2023-11-24\t486\t0\n",
      "2023-11-25\t486\t0\n",
      "2023-11-26\t486\t0\n",
      "2023-11-27\t486\t0\n",
      "2023-11-28\t486\t0\n",
      "2023-11-29\t486\t0\n",
      "2023-11-30\t486\t0\n",
      "2023-12-01\t486\t0\n",
      "2023-12-02\t486\t0\n",
      "2023-12-03\t486\t0\n",
      "2023-12-04\t486\t0\n",
      "2023-12-05\t486\t0\n",
      "2023-12-06\t486\t0\n",
      "2023-12-07\t486\t0\n",
      "2023-12-08\t486\t0\n",
      "2023-12-09\t486\t0\n",
      "2023-12-10\t486\t0\n",
      "2023-12-11\t486\t0\n",
      "2023-12-12\t486\t0\n"
     ]
    }
   ],
   "source": [
    "print('DATE\\tFLUSH NAND-1 (MiB)\\tFLUSH NAND-2 (MiB)')\n",
    "for tti, tm1i, tm2i in zip(tt,tm1,tm2):\n",
    "    print(str(tti)+'\\t'+'{:.0f}'.format(tm1i*1e9/2**20)+'\\t'+'{:.0f}'.format(tm2i*1e9/2**20))"
   ]
  },
  {
   "cell_type": "code",
   "execution_count": 55,
   "metadata": {},
   "outputs": [
    {
     "data": {
      "image/png": "[encoded data removed]",
      "text/plain": [
       "<Figure size 1080x720 with 4 Axes>"
      ]
     },
     "metadata": {
      "needs_background": "light"
     },
     "output_type": "display_data"
    }
   ],
   "source": [
    "from scipy.interpolate import interp1d\n",
    "tot1 = np.asarray(PHI.part1.history['occu'])\n",
    "tot2 = np.asarray(PHI.part2.history['occu'])\n",
    "c1 = np.asarray(PHI.part1.history['compr'])\n",
    "c2 = np.asarray(PHI.part2.history['compr'])\n",
    "d1 = np.asarray(PHI.part1.history['start'])\n",
    "d2 = np.asarray(PHI.part2.history['start'])\n",
    "\n",
    "starttime = min(min(d1),min(d2))\n",
    "endtime = max(max(d1),max(d2))\n",
    "t0 = starttime\n",
    "times = []\n",
    "while starttime.date() <= endtime.date():\n",
    "    times.append(starttime.date())\n",
    "    starttime += TD(days=1)\n",
    "starttime = t0; del t0\n",
    "times_float = [(t - d1[0]).total_seconds() for t in d1]\n",
    "times = np.asarray(times)\n",
    "\n",
    "s = np.argsort(d1)\n",
    "\n",
    "newtot1 = np.zeros(np.size(times))\n",
    "for i,j in zip(d1,tot1):\n",
    "    if True:\n",
    "        ind = np.where(times == i.date())[0]\n",
    "        newtot1[ind] += j/1e3\n",
    "newtot1 = np.asarray(newtot1)\n",
    "\n",
    "newtot2 = np.zeros(np.size(times))\n",
    "for i,j in zip(d2,tot2):\n",
    "    if True:\n",
    "        ind = np.where(times == i.date())[0]\n",
    "        newtot2[ind] += j/1e3\n",
    "newtot2 = np.asarray(newtot2)\n",
    "\n",
    "newc1 = np.zeros(np.size(times))\n",
    "for i,j in zip(d1,c1):\n",
    "    if j>=0:\n",
    "        ind = np.where(times == i.date())[0]\n",
    "        newc1[ind] += j/1e3\n",
    "newc1 = np.asarray(newc1)\n",
    "\n",
    "\n",
    "newc2 = np.zeros(np.size(times))\n",
    "for i,j in zip(d2,c2):\n",
    "    if j>=0:\n",
    "        ind = np.where(times == i.date())[0]\n",
    "        newc2[ind] += j/1e3\n",
    "newc2 = np.asarray(newc2)\n",
    "\n",
    "form1 = np.zeros(np.size(times))\n",
    "for i,j in zip(d1,c1):\n",
    "    if j<0:\n",
    "        ind = np.where(times == i.date())[0]\n",
    "        form1[ind] += j/1e3\n",
    "form1 = np.asarray(form1)\n",
    "\n",
    "\n",
    "form2 = np.zeros(np.size(times))\n",
    "for i,j in zip(d2,c2):\n",
    "    if j<0:\n",
    "        ind = np.where(times == i.date())[0]\n",
    "        form2[ind] += j/1e3\n",
    "form2 = np.asarray(form2)\n",
    "\n",
    "trig1 = np.where(form1 < 0)[0]\n",
    "trig2 = np.where(form2 < 0)[0]\n",
    "\n",
    "x = TM3['date'][np.logical_and(TM3['date'] <= endtime+TD(days=1),TM3['date'] >= starttime-TD(days=1))]\n",
    "y = TM3['tm_rate'][np.logical_and(TM3['date'] <= endtime+TD(days=1),TM3['date'] >= starttime-TD(days=1))]\n",
    "z = TM3['duration'][np.logical_and(TM3['date'] <= endtime+TD(days=1),TM3['date'] >= starttime-TD(days=1))]\n",
    "\n",
    "xx = [(i - starttime).total_seconds() for i in x]\n",
    "f = interp1d(xx, y*z,fill_value='extrapolate')\n",
    "xnew = [(i - starttime.date()).total_seconds() for i in times]\n",
    "ynew = f(xnew)/8e9\n",
    "ynew[times<datetime.date(2023,4,1)] *= .2\n",
    "ynew[times>=datetime.date(2023,4,1)] *= .3\n",
    "\n",
    "tm_used = np.zeros(times.size)\n",
    "down = 0#np.zeros(times.size)\n",
    "for i in range(times.size):\n",
    "    if newc1[i] > 0 or newc2[i] > 0:\n",
    "        tm_used[i] = min(ynew[i],np.sum(newc1[:i+1] + newc2[:i+1]) - tm_used[:i].sum())\n",
    "        down = max(0,np.sum(newc1[:i+1] + newc2[:i+1] - tm_used[:i+1]))\n",
    "    else:\n",
    "        if down > 0:\n",
    "            tm_used[i] = min(ynew[i],np.sum(newc1[:i+1] + newc2[:i+1]) - tm_used[:i].sum())\n",
    "            down = max(0,np.sum(newc1[:i+1] + newc2[:i+1] - tm_used[:i+1]))\n",
    "\n",
    "plt.figure(figsize=(15,10))\n",
    "plt.subplot(221)\n",
    "plt.ylabel('data compression (GB)')\n",
    "plt.plot(times,newc1,label='partition 1')\n",
    "plt.plot(times,newc2,label='partition 2')\n",
    "for i,t in enumerate(trig1):\n",
    "    if i == 0:\n",
    "        plt.axvline(times[t],linestyle='--',color='k',alpha=.5,label='partition 1 reset')\n",
    "    else:\n",
    "        plt.axvline(times[t],linestyle='--',color='k',alpha=.5)\n",
    "for i,t in enumerate(trig2):\n",
    "    if i == 0:\n",
    "        plt.axvline(times[t],linestyle='--',color='g',alpha=.5,label='partition 2 reset')\n",
    "    else:\n",
    "        plt.axvline(times[t],linestyle='--',color='g',alpha=.5)\n",
    "plt.legend()\n",
    "\n",
    "plt.subplot(222)\n",
    "plt.ylabel('daily TM rate (GB/rate)')\n",
    "plt.plot(times,ynew,label='TM PHI rate')\n",
    "plt.plot(times,tm_used,'ro',label='TM used')\n",
    "plt.legend()\n",
    "for t in trig1:\n",
    "    plt.axvline(times[t],linestyle='--',color='k',alpha=.5)\n",
    "for t in trig2:\n",
    "    plt.axvline(times[t],linestyle='--',color='g',alpha=.5)\n",
    "# print('total1408 TM used:',round(tm_used.sum(),2),'GB')\n",
    "# print('total compressed data:',round((newc1+newc2).sum(),2),'GB')\n",
    "# plt.xlim(datetime.date(2023,1,10),datetime.date(2023,2,5))\n",
    "plt.subplot(223)\n",
    "# cond = np.logical_and(times>=FL['date'][0].date(), times<=FL['date'][-1].date())\n",
    "cond = np.ones(np.size(times),dtype=bool)\n",
    "plt.ylabel('data and TM amount (GB)')\n",
    "plt.plot(times[cond],np.cumsum(newc1[cond]+newc2[cond]),label='cumulative compressed data')\n",
    "plt.plot(times[cond],np.cumsum(tm_used[cond]),label='cumulative TM usage')\n",
    "plt.plot(times[cond],np.cumsum(newc1[cond]+newc2[cond])-np.cumsum(tm_used[cond]),label='SSMM filling state')\n",
    "# plt.plot(FL['date'],-np.cumsum(FL['flush']*2**20/1e9),'m',label='SOOPK FLUSH')\n",
    "# cond = np.logical_and(FL['date']>DT(2023,1,19,0,0), FL['date']<DT(2023,5,1,0,0))\n",
    "# plt.plot(FL['date'][cond],-np.cumsum(FL['flush'][cond]*2**20/1e9),'m',label='SOOPK FLUSH')\n",
    "plt.legend()\n",
    "for t in trig1:\n",
    "    plt.axvline(times[t],linestyle='--',color='k',alpha=.5)\n",
    "for t in trig2:\n",
    "    plt.axvline(times[t],linestyle='--',color='g',alpha=.5)\n",
    "\n",
    "plt.subplot(224)\n",
    "plt.ylabel('total memory usage (GB)')\n",
    "plt.plot(times,np.cumsum(newtot1),'k',label='partition 1')\n",
    "plt.plot(times,np.cumsum(newtot2),'g',label='partition 2')\n",
    "plt.legend()\n",
    "plt.ylim(0,250)\n",
    "plt.axhline(220,linestyle='--',color='r')\n",
    "for t in trig1:\n",
    "    plt.axvline(times[t],linestyle='--',color='k',alpha=.5)\n",
    "for t in trig2:\n",
    "    plt.axvline(times[t],linestyle='--',color='g',alpha=.5)\n",
    "\n",
    "plt.gcf().autofmt_xdate()\n",
    "# plt.savefig('/home/calchetti/MPStemp/pics/TM/tm_v5.1.png')"
   ]
  },
  {
   "cell_type": "code",
   "execution_count": 132,
   "metadata": {},
   "outputs": [
    {
     "name": "stdout",
     "output_type": "stream",
     "text": [
      "Total amount of TM used: 50.56 GB\n",
      "Total amount of compressed data: 50.56 GB\n"
     ]
    }
   ],
   "source": [
    "print('Total amount of TM used:',round(tm_used.sum(),2),'GB')\n",
    "print('Total amount of compressed data:',round((newc1+newc2).sum(),2),'GB')"
   ]
  },
  {
   "cell_type": "code",
   "execution_count": 133,
   "metadata": {},
   "outputs": [
    {
     "data": {
      "image/png": "[encoded data removed]",
      "text/plain": [
       "<Figure size 648x504 with 1 Axes>"
      ]
     },
     "metadata": {
      "needs_background": "light"
     },
     "output_type": "display_data"
    }
   ],
   "source": [
    "plt.figure(figsize=(9,7))\n",
    "plt.plot(times,np.cumsum(newc1+newc2)-np.cumsum(tm_used))\n",
    "plt.ylabel('SSMM filling state')\n",
    "plt.grid()"
   ]
  },
  {
   "cell_type": "code",
   "execution_count": 134,
   "metadata": {},
   "outputs": [
    {
     "data": {
      "text/plain": [
       "34.997348592"
      ]
     },
     "execution_count": 134,
     "metadata": {},
     "output_type": "execute_result"
    }
   ],
   "source": [
    "(newc1+newc2)[times>datetime.date(2023,3,15)].sum()"
   ]
  },
  {
   "cell_type": "code",
   "execution_count": 135,
   "metadata": {},
   "outputs": [],
   "source": [
    "PHI.part1.history.keys()\n",
    "r1 = np.asarray(PHI.part1.history['raw'])[1:]\n",
    "r2 = np.asarray(PHI.part2.history['raw'])[1:]\n",
    "f1 = np.asarray(PHI.part1.history['compr'])[1:]\n",
    "f2 = np.asarray(PHI.part2.history['compr'])[1:]\n",
    "c1 = np.asarray(PHI.part1.history['crop'])[1:]\n",
    "c2 = np.asarray(PHI.part2.history['crop'])[1:]\n",
    "p1 = np.asarray(PHI.part1.history['proc'])[1:]\n",
    "p2 = np.asarray(PHI.part2.history['proc'])[1:]\n",
    "k1 = np.asarray(PHI.part1.history['pack'])[1:]\n",
    "k2 = np.asarray(PHI.part2.history['pack'])[1:]\n",
    "s1 = np.asarray(PHI.part1.history['start'])[1:]\n",
    "s2 = np.asarray(PHI.part2.history['start'])[1:]\n",
    "e1 = np.asarray(PHI.part1.history['end'])[1:]\n",
    "e2 = np.asarray(PHI.part2.history['end'])[1:]\n",
    "\n",
    "ind1 = []\n",
    "for i in range(s1.size):\n",
    "    if r1[i] < 0:\n",
    "        ind1 += [-.6]\n",
    "    elif r1[i] != 0:\n",
    "        ind1 += [.3]\n",
    "    elif c1[i] != 0:\n",
    "        ind1 += [1.3]\n",
    "    elif k1[i] != 0:\n",
    "        ind1 += [2.3]\n",
    "    elif f1[i] != 0:\n",
    "        ind1 += [3.3]\n",
    "    elif p1[i] != 0:\n",
    "        ind1 += [4.3]\n",
    "    else:\n",
    "#         print(i)\n",
    "        ind1 += [0]\n",
    "ind1 = np.asarray(ind1)    \n",
    "ind2 = []\n",
    "for i in range(s2.size):\n",
    "    if r2[i] < 0:\n",
    "        ind2 += [-.3]\n",
    "    elif r2[i] != 0:\n",
    "        ind2 += [.6]\n",
    "    elif c2[i] != 0:\n",
    "        ind2 += [1.6]\n",
    "    elif k2[i] != 0:\n",
    "        ind2 += [2.6]\n",
    "    elif f2[i] != 0:\n",
    "        ind2 += [3.6]\n",
    "    elif p2[i] != 0:\n",
    "        ind2 += [4.6]\n",
    "    else:\n",
    "#         print(i)\n",
    "        ind2 += [0]\n",
    "ind2 = np.asarray(ind2)    \n",
    "\n",
    "import matplotlib.dates as mdates\n"
   ]
  },
  {
   "cell_type": "code",
   "execution_count": 136,
   "metadata": {},
   "outputs": [
    {
     "data": {
      "text/plain": [
       "0"
      ]
     },
     "execution_count": 136,
     "metadata": {},
     "output_type": "execute_result"
    },
    {
     "data": {
      "image/png": "[encoded data removed]",
      "text/plain": [
       "<Figure size 648x288 with 2 Axes>"
      ]
     },
     "metadata": {
      "needs_background": "light"
     },
     "output_type": "display_data"
    }
   ],
   "source": [
    "fig = plt.figure(figsize=(9,4))\n",
    "fig.subplots_adjust(bottom=0.25)\n",
    "# plt.barh(ind1,e1-s1,.3, left=s1)\n",
    "# plt.barh(ind2,e2-s2,.3, left=s2)\n",
    "# plt.gcf().autofmt_xdate()\n",
    "# plt.xlim(min(s1[:10].min(),s2[:10].min()), max(e1[:10].max(),e2[:10].max()))\n",
    "plt.barh(1,(e1-s1)[ind1==-.6],.75,left=s1[ind1==-.6],color='r')\n",
    "plt.barh(1,(e1-s1)[ind1==.3],.75,left=s1[ind1==.3],color='k')\n",
    "plt.barh(1,(e1-s1)[ind1==1.3],.75,left=s1[ind1==1.3],color='b')\n",
    "plt.barh(1,(e1-s1)[ind1==2.3],.75,left=s1[ind1==2.3],color='g')\n",
    "plt.barh(1,(e1-s1)[ind1==3.3],.75,left=s1[ind1==3.3],color='y')\n",
    "plt.barh(1,(e1-s1)[ind1==4.3],.75,left=s1[ind1==4.3],color='m')\n",
    "\n",
    "plt.barh(2,(e2-s2)[ind2==-.3],.75,left=s2[ind2==-.3],color='r')\n",
    "plt.barh(2,(e2-s2)[ind2==.6],.75,left=s2[ind2==.6],color='k')\n",
    "plt.barh(2,(e2-s2)[ind2==1.6],.75,left=s2[ind2==1.6],color='b')\n",
    "plt.barh(2,(e2-s2)[ind2==2.6],.75,left=s2[ind2==2.6],color='g')\n",
    "plt.barh(2,(e2-s2)[ind2==3.6],.75,left=s2[ind2==3.6],color='y')\n",
    "plt.barh(2,(e2-s2)[ind2==4.6],.75,left=s2[ind2==4.6],color='m')\n",
    "\n",
    "ax = plt.gca()\n",
    "ax.xaxis.set_major_locator(mdates.AutoDateLocator())\n",
    "ax.xaxis.set_major_formatter(mdates.DateFormatter('%d-%b %H:%M'))\n",
    "# plt.yticks([-.6,-.3,.3,.6,1.3,1.6,2.3,2.6,3.3,3.6],['N1-Format','N2-Format','N1-Obs','N2-Obs','N1-Crop','N2-Crop','N1-Pack','N2-Pack','N1-Flush','N2-Flush','N1-Proc','N2-Proc']);\n",
    "# ax.set_yticks([-.6,-.3,.3,.6,1.3,1.6,2.3,2.6,3.3,3.6],['N1-Format','N2-Format','N1-Obs','N2-Obs','N1-Crop','N2-Crop','N1-Pack','N2-Pack','N1-Flush','N2-Flush']);\n",
    "ax.set_yticks([1,2],['NAND-1','NAND-2']);\n",
    "\n",
    "from matplotlib.widgets import RangeSlider # , Button, RadioButtons\n",
    "\n",
    "# axcolor = 'lightgoldenrodyellow'\n",
    "slider_ax = fig.add_axes([0.2, 0.1, 0.65, 0.03])\n",
    "\n",
    "min0 = min(s1.min(),s2.min())\n",
    "max0 = max(e1.max(),e2.max())\n",
    "\n",
    "slider = RangeSlider(slider_ax, \"x-axis\", (min0-min0).total_seconds()/60/60/24, (max0-min0).total_seconds()/60/60/24)\n",
    "\n",
    "def update(val):    \n",
    "    ax.set_xlim([min0+TD(days=val[0]),min0+TD(days=val[1])])\n",
    "\n",
    "slider.on_changed(update)\n",
    "# plt.show()\n"
   ]
  },
  {
   "cell_type": "code",
   "execution_count": 137,
   "metadata": {},
   "outputs": [
    {
     "data": {
      "text/plain": [
       "[<matplotlib.lines.Line2D at 0x7efd5f6a8040>]"
      ]
     },
     "execution_count": 137,
     "metadata": {},
     "output_type": "execute_result"
    },
    {
     "data": {
      "image/png": "[encoded data removed]",
      "text/plain": [
       "<Figure size 720x720 with 1 Axes>"
      ]
     },
     "metadata": {
      "needs_background": "light"
     },
     "output_type": "display_data"
    }
   ],
   "source": [
    "cond = np.logical_and(times>=FL['date'][0].date(), times<=FL['date'][-1].date())\n",
    "plt.figure(figsize=(10,10))\n",
    "plt.ylabel('data and TM amount (GB)')\n",
    "plt.plot(times[cond],np.cumsum(newc1[cond]+newc2[cond]),label='cumulative compressed data')\n",
    "# plt.plot(times[cond],np.cumsum(tm_used[cond]),label='cumulative TM usage')\n",
    "# plt.plot(times[cond],np.cumsum(newc1[cond]+newc2[cond])-np.cumsum(tm_used[cond]),label='SSMM filling state')\n",
    "plt.plot(FL['date'],-np.cumsum(FL['flush']*2**20/1e9),'m',label='SOOPK FLUSH')\n",
    "# plt.xlim(DT(2023,3,15),DT(2023,4,10)); plt.ylim(0,20)\n"
   ]
  }
 ],
 "metadata": {
  "interpreter": {
   "hash": "cbf6c9a26a160734b6448319c4eb49a011a468026d1aa18347f15181b6422a99"
  },
  "kernelspec": {
   "display_name": "Python 3 (ipykernel)",
   "language": "python",
   "name": "python3"
  },
  "language_info": {
   "codemirror_mode": {
    "name": "ipython",
    "version": 3
   },
   "file_extension": ".py",
   "mimetype": "text/x-python",
   "name": "python",
   "nbconvert_exporter": "python",
   "pygments_lexer": "ipython3",
   "version": "3.8.5"
  }
 },
 "nbformat": 4,
 "nbformat_minor": 4
}
