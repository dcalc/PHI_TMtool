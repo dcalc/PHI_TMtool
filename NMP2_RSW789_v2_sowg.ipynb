{
 "cells": [
  {
   "cell_type": "markdown",
   "metadata": {},
   "source": [
    "# <span style=\"color:yellow\">New Classes and Some Functions</span>"
   ]
  },
  {
   "cell_type": "code",
   "execution_count": 1,
   "metadata": {},
   "outputs": [],
   "source": [
    "from TMclass import *\n",
    "import datetime\n",
    "import numpy as np\n",
    "import matplotlib.pyplot as plt\n",
    "import pandas as pd\n",
    "from xml.etree import ElementTree\n",
    "from datetime import datetime as DT\n",
    "from datetime import timedelta as TD\n",
    "\n",
    "TM3 = {'date':[], 'tm_rate':[], 'duration':[]}\n",
    "TM3n = {'date':[], 'tm_rate':[], 'duration':[]}\n",
    "\n",
    "# you have to remove what is inside <eventfile>\n",
    "with open('../SIFECS_NMP_Segment_2_withLTP10-11FECS.xml') as f:\n",
    "\ttree = ElementTree.parse(f)\n",
    "\n",
    "for node in tree.iter('PASS'):\n",
    "    d = DT.strptime(node.attrib.get('time')[:-1],\"%Y-%jT%H:%M:%S\").date()\n",
    "    if d >= datetime.date(2023,1,1) and d <= datetime.date(2024,1,1):\n",
    "        TM3['date'] += [DT.strptime(node.attrib.get('time')[:-1],\"%Y-%jT%H:%M:%S\")]\n",
    "        TM3['tm_rate'] += [float(node.attrib.get('tm_rate'))]\n",
    "        TM3['duration'] += [int(node.attrib.get('duration'))]\n",
    "\n",
    "TM3['date'] = np.asarray(TM3['date'])\n",
    "TM3['tm_rate'] = np.asarray(TM3['tm_rate'])\n",
    "TM3['duration'] = np.asarray(TM3['duration'])\n",
    "\n",
    "with open('../FECS_2023072_2023177_2022348130413_v03.SOL') as f:\n",
    "\ttree = ElementTree.parse(f)\n",
    "for node in tree.iter('PASS'):\n",
    "    d = DT.strptime(node.attrib.get('time')[:-1],\"%Y-%jT%H:%M:%S\").date()\n",
    "    if d >= datetime.date(2023,1,1) and d <= datetime.date(2024,1,1):\n",
    "        TM3n['date'] += [DT.strptime(node.attrib.get('time')[:-1],\"%Y-%jT%H:%M:%S\")]\n",
    "        TM3n['tm_rate'] += [float(node.attrib.get('tm_rate'))]\n",
    "        TM3n['duration'] += [int(node.attrib.get('duration'))]\n",
    "\n",
    "TM3n['date'] = np.asarray(TM3n['date'])\n",
    "TM3n['tm_rate'] = np.asarray(TM3n['tm_rate'])\n",
    "TM3n['duration'] = np.asarray(TM3n['duration'])\n",
    "\n",
    "idx0 = np.where(TM3['date'] > TM3n['date'][0])[0][0]\n",
    "idx1 = np.where(TM3['date'] < TM3n['date'][-1])[0][-1]\n",
    "TM3['date'] = np.concatenate((TM3['date'][:idx0],TM3n['date'],TM3['date'][idx1:]))\n",
    "TM3['tm_rate'] = np.concatenate((TM3['tm_rate'][:idx0],TM3n['tm_rate'],TM3['tm_rate'][idx1:]))\n",
    "TM3['duration'] = np.concatenate((TM3['duration'][:idx0],TM3n['duration'],TM3['duration'][idx1:]))\n",
    "\n",
    "f = open('../phi.itl','r')\n",
    "lines = f.readlines()\n",
    "\n",
    "FL = {'date':[], 'flush':[]}\n",
    "\n",
    "for x in lines:\n",
    "    temp = x.split(' ')\n",
    "    if 'PHI_SCI_Flush_VOL' in temp[-1]:\n",
    "        FL['date'] += [DT.fromisoformat(temp[0][:-1])]\n",
    "        FL['flush'] += [float(temp[-1][19:-2])]\n",
    "        # print(temp[0][:-1],temp[-1][19:-2])\n",
    "\n",
    "FL['date'] = np.asarray(FL['date'])\n",
    "FL['flush'] = np.asarray(FL['flush'])\n",
    "\n",
    "# for i in range(np.size(TM3['date'])):\n",
    "#     j = 0\n",
    "#     if TM3['date'][i] >= TM3n['date'][0] and TM3['date'][i] <= TM3n['date'][-1]:\n",
    "#         TM3['date'][i] = TM3n['date'][j]\n",
    "#         TM3['tm_rate'][i] = TM3n['tm_rate'][j]\n",
    "#         TM3['duration'][i] = TM3n['duration'][j]\n",
    "#         j += 1"
   ]
  },
  {
   "cell_type": "code",
   "execution_count": 2,
   "metadata": {},
   "outputs": [],
   "source": [
    "def flush_many(PHI,max_vol, vol_dataset, phi_mode, start, nbits, ndata, level, partition):\n",
    "    # global PHI\n",
    "    # global phi\n",
    "    \n",
    "    def _new_start(start,end):\n",
    "        start += TD(days=1)\n",
    "        start = start.replace(hour=22,minute=0,second=0)\n",
    "        if end > start:\n",
    "            start = end + TD(hours=1)\n",
    "        return start\n",
    "    \n",
    "    vol0 = max_vol[0]\n",
    "    vol1 = max_vol[1]\n",
    "    n0 = int(vol0 // vol_dataset * 0.99)\n",
    "    n1 = int(vol1 // vol_dataset * 0.99)\n",
    "\n",
    "    if ndata == -1:\n",
    "        ndata = phi_mode.level_out(level).n_datasets\n",
    "    \n",
    "    print(f'Days needed: {(ndata-n0)//n1+2}')\n",
    "    kw = phi_mode.compressing(start, nbits = nbits, ndata = n0,level=level); PHI.saving(partition,**kw)\n",
    "    # start += TD(days=1)\n",
    "    start = _new_start(start,kw['end'])\n",
    "\n",
    "    for i in range((ndata-n0)//n1+1):\n",
    "        kw = phi_mode.compressing(start, nbits = nbits, ndata = min(ndata - n0 - i*n1,n1),level=level); PHI.saving(partition,**kw)\n",
    "        start = _new_start(start,kw['end'])\n",
    "\n",
    "    return (phi_mode, kw)\n",
    "    \n",
    "def synoptic(PHI,mode,t0,t1,cadence,shape,nout,nbits,i,format = False):\n",
    "    # t0 = DT.fromisoformat('2023-04-15T00:00:00')\n",
    "    # t1 = DT.fromisoformat('2023-05-01T00:00:00')\n",
    "\n",
    "    # cad = 6*60\n",
    "    # global PHI\n",
    "    N = int((t1 - t0).total_seconds() / (60*cadence))\n",
    "\n",
    "    ti = t0\n",
    "#     deltat = (t1 - t0)/N\n",
    "    deltat = TD(minutes=cadence)\n",
    "    \n",
    "    min2 = TD(minutes=2)\n",
    "    form = False\n",
    "    for n in range(N):\n",
    "        kw = mode.observation(ti,ti+min2,cadence=2,shape=shape); PHI.saving(i,**kw)\n",
    "        if shape[1] != 2048:\n",
    "            kw = mode.cropping(kw['end'] + TD(minutes=5),ndata=-1,crop=[shape[1],shape[1]],level='raw'); PHI.saving(i,**kw)\n",
    "            kw = mode.processing(kw['end'] + TD(minutes=5),ndata=-1,partialStore=0x00,level='raw.crop',nout=nout); PHI.saving(i,**kw)\n",
    "            kw = mode.compressing(kw['end'] + TD(minutes=5), nbits = nbits, ndata = -1,level='raw.crop.proc'); PHI.saving(i,**kw)\n",
    "        else:\n",
    "            kw = mode.processing(kw['end'] + TD(minutes=5),ndata=-1,partialStore=0x00,level='raw',nout=nout); PHI.saving(i,**kw)\n",
    "            kw = mode.compressing(kw['end'] + TD(minutes=5), nbits = nbits, ndata = -1,level='raw.proc'); PHI.saving(i,**kw)\n",
    "        ti = ti + deltat\n",
    "        if format:\n",
    "            if PHI.part1.occu > 220e3 or PHI.part2.occu > 220e3:\n",
    "                PHI.format_partition(i,kw['end'])\n",
    "                i = i%2 + 1\n",
    "\n",
    "def synoptic_raw(PHI,mode,t0,t1,cadence,shape,nbits,i, crop_pack = False, format = False):\n",
    "    # t0 = DT.fromisoformat('2023-04-15T00:00:00')\n",
    "    # t1 = DT.fromisoformat('2023-05-01T00:00:00')\n",
    "\n",
    "    # cad = 6*60\n",
    "    # global PHI\n",
    "    N = int((t1 - t0).total_seconds() / (60*cadence))\n",
    "\n",
    "    ti = t0\n",
    "#     deltat = (t1 - t0)/N\n",
    "    deltat = TD(minutes=cadence)\n",
    "    \n",
    "    min2 = TD(minutes=2)\n",
    "    form = False\n",
    "    for n in range(N):\n",
    "        kw = mode.observation(ti,ti+min2,cadence=2,shape=shape); PHI.saving(i,**kw)\n",
    "        if shape[1] != 2048:\n",
    "            kw = mode.cropping(kw['end'] + TD(minutes=5),ndata=-1,crop=[shape[1],shape[1]],level='raw');\n",
    "            if crop_pack == False:\n",
    "                PHI.saving(i,**kw)\n",
    "            kw = mode.packing(kw['end'] + TD(minutes=5),ndata=-1,level='raw.crop'); PHI.saving(i,**kw)\n",
    "            kw = mode.compressing(kw['end'] + TD(minutes=5), nbits = nbits, ndata = -1,level='raw.crop.pack'); PHI.saving(i,**kw)\n",
    "        else:\n",
    "            kw = mode.packing(kw['end'] + TD(minutes=5),ndata=-1,level='raw'); PHI.saving(i,**kw)\n",
    "            kw = mode.compressing(kw['end'] + TD(minutes=5), nbits = nbits, ndata = -1,level='raw.pack'); PHI.saving(i,**kw)\n",
    "        ti = ti + deltat\n",
    "        if format:\n",
    "            if PHI.part1.occu > 220e3 or PHI.part2.occu > 220e3:\n",
    "                PHI.format_partition(i,kw['end'])\n",
    "                i = i%2 + 1\n",
    "\n",
    "def FDT_flat(PHI,t0,idx,proc='auto',flush='auto',verbose=True):\n",
    "\n",
    "    # global PHI\n",
    "    t1 = t0+TD(minutes=55)\n",
    "    proc_time = TD(hours=5)\n",
    "\n",
    "    FDTf1 = PHI_MODE('FDT')\n",
    "\n",
    "    kw = FDTf1.observation(t0,t1,cadence=6,shape=(2048,2048,4,6)); PHI.saving(idx,**kw)\n",
    "    if proc == 'auto':\n",
    "        t0 = kw['end']+TD(minutes=5)\n",
    "    else:\n",
    "        t0 = proc\n",
    "    kw = FDTf1.observation(t0,1,cadence=proc_time.total_seconds()/60,shape=(2048,2048,4,6)); PHI.saving(idx,**kw)\n",
    "    kw = FDTf1.packing(t0,ndata=1,level='raw',); PHI.saving(idx,**kw)\n",
    "\n",
    "    if flush == 'auto':\n",
    "        t0 = kw['end'] + TD(hours=1)\n",
    "    else:\n",
    "        t0 = flush\n",
    "    kw = FDTf1.compressing(t0,ndata=1,nbits=6,level='raw.pack'); PHI.saving(idx,**kw)\n",
    "\n",
    "    ########################################################\n",
    "    if verbose:\n",
    "        printp(FDTf1, label='FDT Flat Calibration')\n",
    "        plot_tot(PHI,ylim=(0,250),time_ord=True)\n",
    "\n",
    "    return FDTf1\n",
    "\n",
    "def HRT_flat(PHI,t0,idx,proc='auto',flush='auto',verbose=True):\n",
    "    # global PHI\n",
    "    proc_time = TD(minutes=15)\n",
    "\n",
    "    HRTf1 = PHI_MODE('FDT')\n",
    "\n",
    "    kw = HRTf1.observation(t0,10,cadence=40,shape=(2048,2048,4,6)); PHI.saving(idx,**kw)\n",
    "    \n",
    "    if proc == 'auto':\n",
    "        t0 = kw['end']+TD(minutes=5)\n",
    "    else:\n",
    "        t0 = proc\n",
    "    kw = HRTf1.observation(t0,1,cadence=proc_time.total_seconds()/60,shape=(2048,2048,4,6)); PHI.saving(idx,**kw)\n",
    "    kw = HRTf1.packing(kw['end'],ndata=1,level='raw',); PHI.saving(idx,**kw)\n",
    "\n",
    "    if flush == 'auto':\n",
    "        t0 = kw['end'] + TD(hours=1)\n",
    "    else:\n",
    "        t0 = flush\n",
    "    kw = HRTf1.compressing(t0,ndata=1,nbits=6,level='raw.pack'); PHI.saving(idx,**kw)\n",
    "\n",
    "    ########################################################\n",
    "    if verbose:\n",
    "        printp(HRTf1, label='HRT Flat Calibration')\n",
    "        plot_tot(PHI,ylim=(0,250),time_ord=True)\n",
    "\n",
    "    return HRTf1\n",
    "\n",
    "def HRT_kll(PHI,t0,idx,proc='auto',flush='auto',verbose=True):\n",
    "    # global PHI\n",
    "    t1 = t0+TD(minutes=55)\n",
    "    proc_time = TD(hours=5)\n",
    "\n",
    "    HRTf1 = PHI_MODE('FDT')\n",
    "\n",
    "    kw = HRTf1.observation(t0,t1,cadence=6,shape=(2048,2048,4,6)); PHI.saving(idx,**kw)\n",
    "    if proc == 'auto':\n",
    "        t0 = kw['end']+TD(minutes=5)\n",
    "    else:\n",
    "        t0 = proc\n",
    "    kw = HRTf1.observation(t0,1,cadence=proc_time.total_seconds()/60,shape=(2048,2048,4,6)); PHI.saving(idx,**kw)\n",
    "    kw = HRTf1.packing(t0,ndata=1,level='raw',); PHI.saving(idx,**kw)\n",
    "\n",
    "    if flush == 'auto':\n",
    "        t0 = kw['end'] + TD(hours=1)\n",
    "    else:\n",
    "        t0 = flush\n",
    "    kw = HRTf1.compressing(t0,ndata=1,nbits=6,level='raw.pack'); PHI.saving(idx,**kw)\n",
    "\n",
    "    ########################################################\n",
    "    if verbose:\n",
    "        printp(HRTf1, label='HRT Kll Calibration')\n",
    "        plot_tot(PHI,ylim=(0,250),time_ord=True)\n",
    "\n",
    "    return HRTf1\n",
    "\n",
    "def plot_flush_per_day(PHI,xlim=None, values=False):\n",
    "    temp = PHI.part1.history    # plt.subplot(121)\n",
    "    c1 = np.asarray(PHI.part1.history['compr'])\n",
    "    c2 = np.asarray(PHI.part2.history['compr'])\n",
    "\n",
    "    d1 = np.asarray(PHI.part1.history['start'])\n",
    "    d2 = np.asarray(PHI.part2.history['start'])\n",
    "\n",
    "    starttime = min(d1[0],d2[0])\n",
    "    endtime = max(max(d1),max(d2))\n",
    "    t0 = starttime\n",
    "    times = []\n",
    "    while starttime.date() <= endtime.date():\n",
    "        times.append(starttime.date())\n",
    "        starttime += datetime.timedelta(days=1)\n",
    "    starttime = t0; del t0\n",
    "    times_float = [(t - d1[0]).total_seconds() for t in d1]\n",
    "    times = np.asarray(times)\n",
    "\n",
    "    newc1 = np.zeros(np.size(times))\n",
    "    for i,j in zip(d1,c1):\n",
    "        if j>=0:\n",
    "            ind = np.where(times == i.date())[0]\n",
    "            newc1[ind] += j/1e3\n",
    "    newc1 = np.asarray(newc1)\n",
    "\n",
    "    newc2 = np.zeros(np.size(times))\n",
    "    for i,j in zip(d2,c2):\n",
    "        if j>=0:\n",
    "            ind = np.where(times == i.date())[0]\n",
    "            newc2[ind] += j/1e3\n",
    "    newc2 = np.asarray(newc2)\n",
    "\n",
    "    total = 0\n",
    "    for i,t in enumerate(times):\n",
    "        if t >= xlim[0].date() and t<= xlim[1].date():\n",
    "            total += newc1[i] + newc2[i]\n",
    "\n",
    "    plt.figure(figsize=(15,12))\n",
    "    # plt.plot_date(times,newc1,color='blue',linestyle='-',marker='.',label='partition 1')\n",
    "    # plt.plot_date(times,newc2,color='red',linestyle='-',marker='.',label='partition 2')\n",
    "    plt.plot_date(times,newc1+newc2,color='black',linestyle='-',marker='.',label='total: '+str(round(total,1))+' GB')\n",
    "    plt.gcf().autofmt_xdate()\n",
    "    plt.grid()\n",
    "    plt.legend()\n",
    "    if xlim is not None:\n",
    "        plt.xlim(xlim)\n",
    "    plt.ylabel('flush (GB/day)')\n",
    "\n",
    "    if values:\n",
    "        return times, newc1, newc2\n"
   ]
  },
  {
   "cell_type": "code",
   "execution_count": 3,
   "metadata": {},
   "outputs": [
    {
     "data": {
      "text/plain": [
       "(0.0, 4500.0)"
      ]
     },
     "execution_count": 3,
     "metadata": {},
     "output_type": "execute_result"
    },
    {
     "data": {
      "image/png": "[encoded data removed]",
      "text/plain": [
       "<Figure size 720x576 with 1 Axes>"
      ]
     },
     "metadata": {
      "needs_background": "light"
     },
     "output_type": "display_data"
    }
   ],
   "source": [
    "plt.figure(figsize=(10,8))\n",
    "plt.plot(TM3['date'], (TM3['tm_rate']*TM3['duration'])/8/1e6)#; plt.ylim(0,5000)\n",
    "plt.ylim(0,4500)\n",
    "ylim = plt.gca().get_ylim()\n",
    "plt.fill_betweenx(ylim,DT(2023,2,8),DT(2023,2,12),facecolor='black',alpha=.2)\n",
    "plt.fill_betweenx(ylim,DT(2023,3,22),DT(2023,4,2),facecolor='orange',alpha=.2)\n",
    "plt.fill_betweenx(ylim,DT(2023,4,4),DT(2023,4,18),facecolor='red',alpha=.2)\n",
    "plt.fill_betweenx(ylim,DT(2023,4,20),DT(2023,4,25),facecolor='blue',alpha=.2)\n",
    "plt.xlim(datetime.date(2023,1,1),datetime.date(2023,8,1))\n",
    "plt.ylabel('Total Telemetry (MB/day)')\n",
    "plt.xlabel('date')\n",
    "plt.ylim(ylim)"
   ]
  },
  {
   "cell_type": "markdown",
   "metadata": {},
   "source": [
    "# <span style=\"color:white\">*out of RSWs*</span>"
   ]
  },
  {
   "cell_type": "markdown",
   "metadata": {},
   "source": [
    "## <span style=\"color:blue\">R_FULL_LRES_HCAD_Full-Disk-Helioseismology</span>\n",
    "\n",
    "CROP+PACK\n"
   ]
  },
  {
   "cell_type": "code",
   "execution_count": 6,
   "metadata": {},
   "outputs": [
    {
     "name": "stdout",
     "output_type": "stream",
     "text": [
      "Days needed: 7\n",
      "Days needed: 7\n",
      "R_FULL_LRES_HCAD_Full-Disk-Helioseismology - Partition 1\n",
      "number of datasets: 3600\n",
      "cadence: 1 mins\n",
      "duration: 2 days, 12:00:00\n",
      "amount of raw-data at 32 bits: 164794.9 MiB, 45.8 MiB per dataset\n",
      "crop size: 768\n",
      "amount of crop-data at 32 bits: 82397.5 MiB, 22.9 MiB per dataset\n",
      "cropping time: 1 day, 11:00:00\n",
      "amount of pack-data at 16 bits: 54931.6 MiB, 15.3 MiB per dataset\n",
      "packing time: 1 day, 21:00:00\n",
      "amount of compressed data + metadata at 6 bits: 9519.6 MiB, 2.6 MiB per dataset\n",
      "compressing (+ flushing) time: 22:10:56.278731\n",
      "amount of metadata:  86426.4 MiB\n",
      "amount of memory usage: 302124.0 MiB\n",
      "\n",
      "==========================\n",
      "\n",
      "R_FULL_LRES_HCAD_Full-Disk-Helioseismology - Partition 2\n",
      "number of datasets: 3600\n",
      "cadence: 1 mins\n",
      "duration: 2 days, 12:00:00\n",
      "amount of raw-data at 32 bits: 164794.9 MiB, 45.8 MiB per dataset\n",
      "crop size: 768\n",
      "amount of crop-data at 32 bits: 82397.5 MiB, 22.9 MiB per dataset\n",
      "cropping time: 1 day, 11:00:00\n",
      "amount of pack-data at 16 bits: 54931.6 MiB, 15.3 MiB per dataset\n",
      "packing time: 1 day, 21:00:00\n",
      "amount of compressed data + metadata at 6 bits: 9519.6 MiB, 2.6 MiB per dataset\n",
      "compressing (+ flushing) time: 22:10:56.278731\n",
      "amount of metadata:  86426.4 MiB\n",
      "amount of memory usage: 302124.0 MiB\n",
      "\n"
     ]
    }
   ],
   "source": [
    "t0 = DT.fromisoformat('2023-02-08T00:00:00')\n",
    "t1 = DT.fromisoformat('2023-02-10T12:00:00')\n",
    "PHI = PHI_MEMORY(t0)\n",
    "phi = PHI_MEMORY(t0)\n",
    "\n",
    "hcrop = 768\n",
    "hsm_1 = PHI_MODE('FDT')\n",
    "kw = hsm_1.observation(t0,t1,cadence=1,shape=(2048,hcrop,1,6)); PHI.saving(1,**kw)\n",
    "\n",
    "# t0 = hsm_1.raw.end\n",
    "\n",
    "# PHI.copy_partition(1,t0)\n",
    "# PHI.format_partition(1,PHI.part1.history['end'][-1])\n",
    "\n",
    "\n",
    "t0 = DT.fromisoformat('2023-02-10T12:00:00')\n",
    "t1 = DT.fromisoformat('2023-02-13T00:00:00')\n",
    "hsm_2 = PHI_MODE('FDT')\n",
    "kw = hsm_2.observation(t0,t1,cadence=1,shape=(2048,hcrop,1,6)); PHI.saving(2,**kw)\n",
    "\n",
    "t0 = hsm_2.raw.end\n",
    "\n",
    "kw = hsm_1.cropping(t0,ndata=-1,crop=[hcrop,hcrop],level='raw');# PHI.saving(1,**kw)\n",
    "kw = hsm_1.packing(hsm_1.raw.crop.end,ndata=-1,level='raw.crop'); PHI.saving(1,**kw)\n",
    "\n",
    "# kw = hsm_1.compressing(hsm_1.raw.pack.end, nbits = 6, ndata = -1,level='raw.pack'); PHI.saving(1,**kw)\n",
    "hsm_1, kw = flush_many(PHI,[1350,1350], 2.4, hsm_1, kw['end'], 6, -1, 'raw.crop.pack',1)\n",
    "\n",
    "t0 = hsm_1.raw.crop.pack.compr.end\n",
    "kw = hsm_2.cropping(t0,ndata=-1,crop=[hcrop,hcrop],level='raw');# PHI.saving(2,**kw)\n",
    "kw = hsm_2.packing(hsm_2.raw.crop.end,ndata=-1,level='raw.crop'); PHI.saving(2,**kw)\n",
    "\n",
    "# kw = hsm_2.compressing(a1_2.raw.pack.end, nbits = 6, ndata = -1,level='raw.pack'); PHI.saving(2,**kw)\n",
    "hsm_2, kw = flush_many(PHI,[1350,1350], 2.4, hsm_2, kw['end'], 6, -1, 'raw.crop.pack',2)\n",
    "\n",
    "end = kw['end']\n",
    "########################################################\n",
    "printp(hsm_1, label='R_FULL_LRES_HCAD_Full-Disk-Helioseismology - Partition 1')\n",
    "print('==========================\\n')\n",
    "printp(hsm_2, label='R_FULL_LRES_HCAD_Full-Disk-Helioseismology - Partition 2')\n",
    "# plot_tot(PHI)"
   ]
  },
  {
   "cell_type": "code",
   "execution_count": 6,
   "metadata": {},
   "outputs": [
    {
     "data": {
      "text/plain": [
       "1.5"
      ]
     },
     "execution_count": 6,
     "metadata": {},
     "output_type": "execute_result"
    }
   ],
   "source": [
    "hsm_1.raw.crop.pack.time.total_seconds()/60/60/24"
   ]
  },
  {
   "cell_type": "code",
   "execution_count": 7,
   "metadata": {},
   "outputs": [
    {
     "name": "stdout",
     "output_type": "stream",
     "text": [
      "cropping and packing duration: 5 days, 8:00:00\n",
      "compression duration: 1 day, 10:05:20.624640\n"
     ]
    }
   ],
   "source": [
    "print('cropping and packing duration:',(hsm_1.raw.crop.pack.time + hsm_1.raw.crop.time)*2)\n",
    "print('compression duration:',(hsm_1.raw.crop.pack.compr.time)*2)"
   ]
  },
  {
   "cell_type": "markdown",
   "metadata": {},
   "source": [
    "## <span style=\"color:magenta\">***RESET NANDs***</span>"
   ]
  },
  {
   "cell_type": "code",
   "execution_count": 5,
   "metadata": {},
   "outputs": [
    {
     "name": "stdout",
     "output_type": "stream",
     "text": [
      "amount of compressed data + metadata in partition 1: 7.67 GB\n",
      "amount of compressed data + metadata in partition 2: 7.67 GB\n"
     ]
    }
   ],
   "source": [
    "print('amount of compressed data + metadata in partition 1:',round(PHI.part1.compr*1e-3,2), 'GB')\n",
    "print('amount of compressed data + metadata in partition 2:',round(PHI.part2.compr*1e-3,2), 'GB')\n",
    "# print('TM time:',round((PHI.part1.compr + PHI.part2.compr)/2151.3,2), 'days')\n",
    "# PHI.format_partition(1,DT(2023,1,29,16,0,0))\n",
    "# PHI.format_partition(2,end + TD(hours=1))\n",
    "# PHI.format_partition(1,end + TD(hours=1))\n",
    "# PHI.format_partition(2,PHI.part1.history['end'][-1] + TD(hours=.5))\n",
    "PHI.format_partition(1,DT(2023,2,28,1,0,0))\n",
    "PHI.format_partition(2,DT(2023,2,28,6,0,0))"
   ]
  },
  {
   "cell_type": "code",
   "execution_count": 7,
   "metadata": {},
   "outputs": [
    {
     "data": {
      "image/png": "[encoded data removed]",
      "text/plain": [
       "<Figure size 1080x576 with 2 Axes>"
      ]
     },
     "metadata": {
      "needs_background": "light"
     },
     "output_type": "display_data"
    }
   ],
   "source": [
    "plot_tot(PHI,ylim=(0,256),xlim=(DT(2023,2,8),DT(2023,3,1)))"
   ]
  },
  {
   "cell_type": "code",
   "execution_count": 10,
   "metadata": {},
   "outputs": [],
   "source": [
    "phi = PHI_MEMORY(DT.fromisoformat('2023-03-15T00:00:00'))"
   ]
  },
  {
   "cell_type": "markdown",
   "metadata": {},
   "source": [
    "## <span style=\"color:blue\">CC_OFFPOI_OOF </span>\n",
    "\n",
    "PSP context"
   ]
  },
  {
   "cell_type": "code",
   "execution_count": 11,
   "metadata": {},
   "outputs": [
    {
     "name": "stdout",
     "output_type": "stream",
     "text": [
      "CC_OFFPOI_OOF - PSP context\n",
      "number of datasets: 3\n",
      "cadence: 60 mins\n",
      "duration: 3:00:00\n",
      "amount of raw-data at 32 bits: 1190.2 MiB, 396.7 MiB per dataset\n",
      "amount of pack-data at 16 bits: 618.0 MiB, 206.0 MiB per dataset\n",
      "packing time: 0:04:30\n",
      "amount of compressed data + metadata at 6 bits: 216.0 MiB, 72.0 MiB per dataset\n",
      "compressing (+ flushing) time: 0:30:12.155328\n",
      "amount of metadata:  48.027 MiB\n",
      "amount of memory usage: 1808.2 MiB\n",
      "\n"
     ]
    }
   ],
   "source": [
    "########################################################\n",
    "id = 2\n",
    "\n",
    "t0 = DT.fromisoformat('2023-03-15T11:45:00')\n",
    "t1 = DT.fromisoformat('2023-03-15T14:45:00')\n",
    "psp = PHI_MODE('HRT')\n",
    "kw = psp.observation(t0,t1,cadence=60,shape=(2048,2048,4,6)); phi.saving(id,**kw); PHI.saving(id,**kw)\n",
    "\n",
    "t0 = psp.raw.end+TD(minutes=20)\n",
    "kw = psp.packing(t0,ndata=-1,level='raw'); phi.saving(id,**kw); PHI.saving(id,**kw); \n",
    "# kw = psp.compressing(psp.raw.pack.end+TD(minutes=10), nbits = 6, ndata = -1,level='raw.pack'); phi.saving(id,**kw); PHI.saving(id,**kw);\n",
    "kw = psp.compressing(DT.fromisoformat('2023-03-15T22:00:00'), nbits = 6, ndata = -1,level='raw.pack'); phi.saving(id,**kw); PHI.saving(id,**kw);\n",
    "\n",
    "########################################################\n",
    "printp(psp, label='CC_OFFPOI_OOF - PSP context')\n"
   ]
  },
  {
   "cell_type": "markdown",
   "metadata": {},
   "source": [
    "## <span style=\"color:blue\">CC_OFFPOI_STRAYLIGHT </span>"
   ]
  },
  {
   "cell_type": "code",
   "execution_count": 12,
   "metadata": {},
   "outputs": [
    {
     "name": "stdout",
     "output_type": "stream",
     "text": [
      "CC_OFFPOI_STRAYLIGHT\n",
      "number of datasets: 3\n",
      "cadence: 90 mins\n",
      "duration: 4:30:00\n",
      "amount of raw-data at 32 bits: 1190.2 MiB, 396.7 MiB per dataset\n",
      "amount of pack-data at 16 bits: 618.0 MiB, 206.0 MiB per dataset\n",
      "packing time: 0:04:30\n",
      "amount of compressed data + metadata at 6 bits: 216.0 MiB, 72.0 MiB per dataset\n",
      "compressing (+ flushing) time: 0:30:12.155328\n",
      "amount of metadata:  48.027 MiB\n",
      "amount of memory usage: 1808.2 MiB\n",
      "\n"
     ]
    }
   ],
   "source": [
    "########################################################\n",
    "id = 2\n",
    "\n",
    "t0 = DT.fromisoformat('2023-03-20T00:00:00')\n",
    "t1 = DT.fromisoformat('2023-03-20T05:36:00')\n",
    "stray = PHI_MODE('HRT')\n",
    "kw = stray.observation(t0,3,cadence=90,shape=(2048,2048,4,6)); phi.saving(id,**kw); PHI.saving(id,**kw)\n",
    "\n",
    "kw = stray.packing(DT(2023,3,20,15),ndata=-1,level='raw'); phi.saving(id,**kw); PHI.saving(id,**kw); \n",
    "# kw = stray.compressing(stray.raw.pack.end+TD(minutes=10), nbits = 6, ndata = -1,level='raw.pack'); phi.saving(id,**kw); PHI.saving(id,**kw);\n",
    "kw = stray.compressing(DT.fromisoformat('2023-03-20T21:00:00'), nbits = 6, ndata = -1,level='raw.pack'); phi.saving(id,**kw); PHI.saving(id,**kw);\n",
    "########################################################\n",
    "printp(stray, label='CC_OFFPOI_STRAYLIGHT')\n"
   ]
  },
  {
   "cell_type": "markdown",
   "metadata": {},
   "source": [
    "## <span style=\"color:blue\">CC_ROLLS_RS </span>\n",
    "\n",
    "8 roll positions"
   ]
  },
  {
   "cell_type": "code",
   "execution_count": 13,
   "metadata": {},
   "outputs": [
    {
     "name": "stdout",
     "output_type": "stream",
     "text": [
      "CC_ROLLS_RS\n",
      "number of datasets: 8\n",
      "cadence: 60 mins\n",
      "duration: 8:00:00\n",
      "amount of raw-data at 32 bits: 732.4 MiB, 91.6 MiB per dataset\n",
      "amount of pack-data at 16 bits: 427.2 MiB, 53.4 MiB per dataset\n",
      "packing time: 0:12:00\n",
      "amount of compressed data + metadata at 6 bits: 120.1 MiB, 15.0 MiB per dataset\n",
      "compressing (+ flushing) time: 0:16:47.208960\n",
      "amount of metadata:  128.072 MiB\n",
      "amount of memory usage: 1159.7 MiB\n",
      "\n"
     ]
    }
   ],
   "source": [
    "########################################################\n",
    "id = 2\n",
    "\n",
    "t0 = DT.fromisoformat('2023-03-20T06:00:00')\n",
    "t1 = DT.fromisoformat('2023-03-20T13:30:00')\n",
    "roll = PHI_MODE('FDT')\n",
    "kw = roll.observation(t0,8,cadence=60,shape=(2048,2048,1,5)); phi.saving(id,**kw); PHI.saving(id,**kw) # PD datasets\n",
    "\n",
    "kw = roll.packing(DT(2023,3,20,15,15),ndata=-1,level='raw'); phi.saving(id,**kw); PHI.saving(id,**kw); \n",
    "# kw = roll.compressing(roll.raw.pack.end+TD(minutes=10), nbits = 6, ndata = -1,level='raw.pack'); phi.saving(id,**kw); PHI.saving(id,**kw);\n",
    "kw = roll.compressing(DT.fromisoformat('2023-03-20T21:35:00'), nbits = 6, ndata = -1,level='raw.pack'); phi.saving(id,**kw); PHI.saving(id,**kw);\n",
    "\n",
    "########################################################\n",
    "printp(roll, label='CC_ROLLS_RS')\n"
   ]
  },
  {
   "cell_type": "markdown",
   "metadata": {},
   "source": [
    "## <span style=\"color:green\">HRT Flat 1</span>"
   ]
  },
  {
   "cell_type": "code",
   "execution_count": 83,
   "metadata": {},
   "outputs": [
    {
     "name": "stdout",
     "output_type": "stream",
     "text": [
      "HRT FLAT 1 (21/03/2023)\n",
      "number of datasets: 11\n",
      "cadence: 15.0 mins\n",
      "duration: 0:15:00\n",
      "amount of raw-data at 32 bits: 4364.0 MiB, 396.7 MiB per dataset\n",
      "amount of pack-data at 16 bits: 206.0 MiB, 206.0 MiB per dataset\n",
      "packing time: 0:01:30\n",
      "amount of compressed data + metadata at 6 bits: 72.0 MiB, 72.0 MiB per dataset\n",
      "compressing (+ flushing) time: 0:10:04.051776\n",
      "amount of metadata:  16.009 MiB\n",
      "amount of memory usage: 4570.0 MiB\n",
      "\n"
     ]
    }
   ],
   "source": [
    "########################################################\n",
    "id = 2\n",
    "\n",
    "t0 = DT.fromisoformat('2023-03-21T00:00:00')\n",
    "t1 = DT.fromisoformat('2023-03-21T10:00:00')\n",
    "HRTflat1 = HRT_flat(PHI,t0,id,DT(2023,3,21,11,0,0),flush=DT(2023,3,21,22,0,0),verbose=False)\n",
    "########################################################\n",
    "printp(HRTflat1, label=\"HRT FLAT 1 (21/03/2023)\")"
   ]
  },
  {
   "cell_type": "markdown",
   "metadata": {},
   "source": [
    "## <span style=\"color:green\">FDT Flat 1 </span>"
   ]
  },
  {
   "cell_type": "code",
   "execution_count": 84,
   "metadata": {},
   "outputs": [
    {
     "name": "stdout",
     "output_type": "stream",
     "text": [
      "FDT FLAT 1 (21/03/2023)\n",
      "number of datasets: 10\n",
      "cadence: 300.0 mins\n",
      "duration: 5:00:00\n",
      "amount of raw-data at 32 bits: 3967.3 MiB, 396.7 MiB per dataset\n",
      "amount of pack-data at 16 bits: 206.0 MiB, 206.0 MiB per dataset\n",
      "packing time: 0:01:30\n",
      "amount of compressed data + metadata at 6 bits: 72.0 MiB, 72.0 MiB per dataset\n",
      "compressing (+ flushing) time: 0:10:04.051776\n",
      "amount of metadata:  16.009 MiB\n",
      "amount of memory usage: 4173.3 MiB\n",
      "\n"
     ]
    }
   ],
   "source": [
    "########################################################\n",
    "id = 2\n",
    "\n",
    "t0 = DT.fromisoformat('2023-03-21T20:00:00')\n",
    "t1 = DT.fromisoformat('2023-03-21T21:00:00')\n",
    "FDTflat1 = FDT_flat(PHI,t0,id,DT(2023,3,22,6,10),flush = DT(2023,3,22,12,30),verbose=False)\n",
    "########################################################\n",
    "printp(FDTflat1, label=\"FDT FLAT 1 (21/03/2023)\")"
   ]
  },
  {
   "cell_type": "markdown",
   "metadata": {},
   "source": [
    "# <span style=\"color:orange\">*RSW 7*</span>"
   ]
  },
  {
   "cell_type": "markdown",
   "metadata": {},
   "source": [
    "## <span style=\"color:blue\">Crazy Mosaic</span>"
   ]
  },
  {
   "cell_type": "code",
   "execution_count": 85,
   "metadata": {},
   "outputs": [
    {
     "name": "stdout",
     "output_type": "stream",
     "text": [
      "Crazy Mosaic\n",
      "number of datasets: 25\n",
      "cadence: 7 mins\n",
      "duration: 2:55:00\n",
      "amount of raw-data at 32 bits: 9918.2 MiB, 396.7 MiB per dataset\n",
      "amount of pack-data at 16 bits: 5149.8 MiB, 206.0 MiB per dataset\n",
      "packing time: 0:37:30\n",
      "amount of compressed data + metadata at 6 bits: 1800.2 MiB, 72.0 MiB per dataset\n",
      "compressing (+ flushing) time: 4:11:41.294400\n",
      "amount of metadata:  400.225 MiB\n",
      "amount of memory usage: 15068.1 MiB\n",
      "\n"
     ]
    }
   ],
   "source": [
    "########################################################\n",
    "id = 2\n",
    "t0 = DT.fromisoformat('2023-03-22T00:00:00')\n",
    "t1 = t0 + TD(minutes=175) #25 datasets\n",
    "crazy = PHI_MODE('HRT')\n",
    "\n",
    "kw = crazy.observation(t0,25,cadence=7,shape=(2048,2048,4,6)); phi.saving(id,**kw); PHI.saving(id,**kw)\n",
    "kw = crazy.packing(DT(2023,3,22,5,0,0),ndata=-1,level = 'raw'); phi.saving(id,**kw); PHI.saving(id,**kw)\n",
    "# kw = crazy.compressing(DT(2023,3,22,22,0,0),ndata=-1,nbits=6,level='raw.pack'); phi.saving(id,**kw); PHI.saving(id,**kw)\n",
    "kw = crazy.compressing(DT(2023,3,22,18,35,0),ndata=-1,nbits=6,level='raw.pack'); phi.saving(id,**kw); PHI.saving(id,**kw)\n",
    "\n",
    "########################################################\n",
    "printp(crazy, label='Crazy Mosaic')\n"
   ]
  },
  {
   "cell_type": "markdown",
   "metadata": {},
   "source": [
    "## <span style=\"color:blue\">Eruption Watch</span>"
   ]
  },
  {
   "cell_type": "code",
   "execution_count": 86,
   "metadata": {},
   "outputs": [
    {
     "name": "stdout",
     "output_type": "stream",
     "text": [
      "Eruption Watch 1\n",
      "number of datasets: 20\n",
      "cadence: 360 mins\n",
      "duration: 5 days, 0:10:00\n",
      "amount of raw-data at 32 bits: 5950.9 MiB, 297.5 MiB per dataset\n",
      "crop size: 1536\n",
      "amount of crop-data at 32 bits: 4577.6 MiB, 228.9 MiB per dataset\n",
      "cropping time: 0:23:20\n",
      "amount of pack-data at 16 bits: 2441.4 MiB, 122.1 MiB per dataset\n",
      "packing time: 0:30:00\n",
      "amount of compressed data + metadata at 6 bits: 810.2 MiB, 40.5 MiB per dataset\n",
      "compressing (+ flushing) time: 1:53:16.212480\n",
      "amount of metadata:  224.036 MiB\n",
      "amount of memory usage: 12970.0 MiB\n",
      "\n",
      "FDT cross calibration\n",
      "number of datasets: 30\n",
      "cadence: 1.6666666666666667 mins\n",
      "duration: 0:50:00\n",
      "amount of raw-data at 32 bits: 8926.4 MiB, 297.5 MiB per dataset\n",
      "crop size: 1536\n",
      "amount of crop-data at 32 bits: 6866.5 MiB, 228.9 MiB per dataset\n",
      "cropping time: 0:35:00\n",
      "amount of pack-data at 16 bits: 3662.1 MiB, 122.1 MiB per dataset\n",
      "packing time: 0:45:00\n",
      "amount of compressed data + metadata at 6 bits: 1215.3 MiB, 40.5 MiB per dataset\n",
      "compressing (+ flushing) time: 2:49:54.318720\n",
      "amount of metadata:  720.27 MiB\n",
      "amount of memory usage: 19455.0 MiB\n",
      "\n"
     ]
    }
   ],
   "source": [
    "########################################################\n",
    "id = 2\n",
    "t0 = DT.fromisoformat('2023-03-22T06:00:00')\n",
    "t1 = DT.fromisoformat('2023-03-27T06:10:00')\n",
    "ew1 = PHI_MODE('FDT')\n",
    "crop = 1536\n",
    "\n",
    "kw = ew1.observation(t0,t1,cadence=360,shape=(2048,crop,4,6)); phi.saving(id,**kw); PHI.saving(id,**kw)\n",
    "for i in range(5):\n",
    "    kw = ew1.cropping(DT(2023,3,23,18,30,0)+TD(days=i),crop=crop,ndata=4,level = 'raw'); phi.saving(id,**kw); PHI.saving(id,**kw)\n",
    "    kw = ew1.packing(kw['end']+TD(minutes=5),ndata=4,level = 'raw.crop'); phi.saving(id,**kw); PHI.saving(id,**kw)\n",
    "    kw = ew1.compressing(DT(2023,3,23,20,15,0)+TD(days=i),ndata=4,nbits=6,level='raw.crop.pack'); phi.saving(id,**kw); PHI.saving(id,**kw)\n",
    "\n",
    "########################################################\n",
    "t0 = DT.fromisoformat('2023-03-27T01:00:00')\n",
    "# t1 = DT.fromisoformat('2023-03-27T05:10:00')\n",
    "FDTcc = PHI_MODE('FDT')\n",
    "crop = 1536\n",
    "\n",
    "kw = FDTcc.observation(t0,30,cadence=100/60,shape=(2048,crop,4,6)); phi.saving(id,**kw); PHI.saving(id,**kw)\n",
    "kw = FDTcc.cropping(kw['end']+TD(minutes=5),crop=crop,ndata=-1,level = 'raw'); phi.saving(id,**kw); PHI.saving(id,**kw)\n",
    "kw = FDTcc.packing(kw['end']+TD(minutes=5),ndata=-1,level = 'raw.crop'); phi.saving(id,**kw); PHI.saving(id,**kw)\n",
    "kw = FDTcc.compressing(DT(2023,3,27,3,30,0),ndata=-1,nbits=6,level='raw.crop.pack'); phi.saving(id,**kw); PHI.saving(id,**kw)\n",
    "\n",
    "\n",
    "########################################################\n",
    "printp(ew1, label='Eruption Watch 1')\n",
    "printp(FDTcc, label='FDT cross calibration')\n"
   ]
  },
  {
   "attachments": {},
   "cell_type": "markdown",
   "metadata": {},
   "source": [
    "## <span style=\"color:blue\">Composition Mosaic</span>\n",
    "\n",
    "12 pointings, 4h each, used for HRTcc\n",
    "\n",
    "<span style=\"color:red\">cadence could be reduced to 90m to save telemetry</span>\n",
    "\n",
    "24 datasets (6 pointings, 4 datasets each + 2 for hinode)"
   ]
  },
  {
   "cell_type": "code",
   "execution_count": 87,
   "metadata": {},
   "outputs": [
    {
     "name": "stdout",
     "output_type": "stream",
     "text": [
      "Connection Mosaic\n",
      "number of datasets: 26\n",
      "cadence: 60 mins\n",
      "duration: 1 day, 2:00:00\n",
      "amount of raw-data at 32 bits: 10314.9 MiB, 396.7 MiB per dataset\n",
      "amount of pack-data at 16 bits: 5355.8 MiB, 206.0 MiB per dataset\n",
      "packing time: 0:39:00\n",
      "amount of compressed data + metadata at 6 bits: 1872.2 MiB, 72.0 MiB per dataset\n",
      "compressing (+ flushing) time: 4:21:45.346176\n",
      "amount of metadata:  416.018 MiB\n",
      "amount of memory usage: 15670.8 MiB\n",
      "\n"
     ]
    }
   ],
   "source": [
    "########################################################\n",
    "id = 1\n",
    "t0 = DT.fromisoformat('2023-03-27T06:00:00')\n",
    "t1 = DT.fromisoformat('2023-03-29T06:18:51')\n",
    "CM1 = PHI_MODE('HRT')\n",
    "\n",
    "#cadence from 30 to 60 for putting 3h high cadence\n",
    "kw = CM1.observation(t0,26,cadence=60,shape=(2048,2048,4,6)); phi.saving(id,**kw); PHI.saving(id,**kw)\n",
    "kw = CM1.packing(DT(2023,4,2,10,0,0),ndata=-1,level = 'raw'); phi.saving(id,**kw); PHI.saving(id,**kw)\n",
    "# CM1, kw = flush_many(PHI,[1200,1200],72,CM1,DT(2023,4,3,22,0,0),6,-1,'raw.pack',id)\n",
    "kw = CM1.compressing(DT(2023,4,3,19,0,0),ndata=12,nbits=6,level='raw.pack'); phi.saving(id,**kw); PHI.saving(id,**kw)\n",
    "kw = CM1.compressing(DT(2023,4,4,9,0,0),ndata=12,nbits=6,level='raw.pack'); phi.saving(id,**kw); PHI.saving(id,**kw)\n",
    "kw = CM1.compressing(DT(2023,4,5,19,5,0),ndata=2,nbits=6,level='raw.pack'); phi.saving(id,**kw); PHI.saving(id,**kw)\n",
    "# kw = CM1.compressing(DT(2023,4,6,19,5,0),ndata=12,nbits=6,level='raw.pack'); phi.saving(id,**kw); PHI.saving(id,**kw)\n",
    "\n",
    "########################################################\n",
    "printp(CM1, label='Connection Mosaic')\n"
   ]
  },
  {
   "cell_type": "markdown",
   "metadata": {},
   "source": [
    "## <span style=\"color:blue\">RS-burst 1</span>\n",
    "4h@1m. SOOP is 4h30m, but it could be complicated for telemetry. CROP+PACK\n",
    "\n",
    "<span style=\"color:red\">duration could be reduced to 3h to save telemetry</span>"
   ]
  },
  {
   "cell_type": "code",
   "execution_count": 88,
   "metadata": {},
   "outputs": [
    {
     "name": "stdout",
     "output_type": "stream",
     "text": [
      "RS-burst HRT 1\n",
      "number of datasets: 240\n",
      "cadence: 1 mins\n",
      "duration: 4:00:00\n",
      "amount of raw-data at 32 bits: 65918.0 MiB, 274.7 MiB per dataset\n",
      "crop size: 1408\n",
      "amount of crop-data at 32 bits: 45776.4 MiB, 190.7 MiB per dataset\n",
      "cropping time: 4:40:00\n",
      "amount of pack-data at 16 bits: 23803.7 MiB, 99.2 MiB per dataset\n",
      "packing time: 6:00:00\n",
      "amount of compressed data + metadata at 6 bits: 8169.6 MiB, 34.0 MiB per dataset\n",
      "compressing (+ flushing) time: 19:02:11.235840\n",
      "amount of metadata:  3840.27 MiB\n",
      "amount of memory usage: 135498.0 MiB\n",
      "\n"
     ]
    }
   ],
   "source": [
    "########################################################\n",
    "id = 1\n",
    "t0 = DT.fromisoformat('2023-03-29T11:10:00')\n",
    "t1 = DT.fromisoformat('2023-03-29T20:10:00')\n",
    "RShrt1 = PHI_MODE('HRT')\n",
    "RSfdt1 = PHI_MODE('FDT')\n",
    "# RSfdt1 = PHI_MODE('FDT')\n",
    "crop = 1408#1536\n",
    "\n",
    "kw = RShrt1.observation(t0,240,cadence=1,shape=(2048,crop,4,6)); phi.saving(id,**kw); PHI.saving(id,**kw)\n",
    "# kw = RSfdt1.observation(t0+TD(minutes=60),t1,cadence=60,shape=(2048,2048,4,6)); phi.saving(id,**kw); PHI.saving(id,**kw)\n",
    "kw = RShrt1.cropping(DT(2023,3,29,16,30),crop=crop,ndata=120,level = 'raw');# phi.saving(id,**kw); PHI.saving(id,**kw)\n",
    "kw = RShrt1.packing(kw['end'],ndata=120,level = 'raw.crop'); phi.saving(id,**kw); PHI.saving(id,**kw)\n",
    "kw = RShrt1.cropping(DT(2023,3,30,16,30),crop=crop,ndata=120,level = 'raw');# phi.saving(id,**kw); PHI.saving(id,**kw)\n",
    "kw = RShrt1.packing(kw['end'],ndata=120,level = 'raw.crop'); phi.saving(id,**kw); PHI.saving(id,**kw)\n",
    "# kw = RShrt1.packing(DT(2023,4,2,13,0,0),ndata=-1,level = 'raw.crop'); phi.saving(id,**kw); PHI.saving(id,**kw)\n",
    "# kw = RSfdt1.packing(DT(2023,4,2,14,30,0),ndata=-1,level = 'raw'); phi.saving(id,**kw); PHI.saving(id,**kw)\n",
    "# kw = RSfdt1.compressing(DT(2023,4,2,22,0,0),ndata=-1,nbits=6,level = 'raw.pack'); phi.saving(id,**kw); PHI.saving(id,**kw)\n",
    "# RShrt1, kw = flush_many(PHI,[1200,1200],34,RShrt1,DT(2023,3,29,22,0,0),6,-1,'raw.crop.pack',id)\n",
    "kw = RShrt1.compressing(DT(2023,3,30,0,5,0),ndata=30,nbits=6,level='raw.crop.pack'); phi.saving(id,**kw); PHI.saving(id,**kw)\n",
    "kw = RShrt1.compressing(DT(2023,3,30,20,0,0),ndata=30,nbits=6,level='raw.crop.pack'); phi.saving(id,**kw); PHI.saving(id,**kw)\n",
    "kw = RShrt1.compressing(DT(2023,3,31,20,0,0),ndata=30,nbits=6,level='raw.crop.pack'); phi.saving(id,**kw); PHI.saving(id,**kw)\n",
    "kw = RShrt1.compressing(DT(2023,4,1,20,0,0),ndata=30,nbits=6,level='raw.crop.pack'); phi.saving(id,**kw); PHI.saving(id,**kw)\n",
    "kw = RShrt1.compressing(DT(2023,4,2,20,0,0),ndata=30,nbits=6,level='raw.crop.pack'); phi.saving(id,**kw); PHI.saving(id,**kw)\n",
    "kw = RShrt1.compressing(DT(2023,4,3,21,5,0),ndata=30,nbits=6,level='raw.crop.pack'); phi.saving(id,**kw); PHI.saving(id,**kw)\n",
    "kw = RShrt1.compressing(DT(2023,4,5,21,10,0),ndata=30,nbits=6,level='raw.crop.pack'); phi.saving(id,**kw); PHI.saving(id,**kw)\n",
    "kw = RShrt1.compressing(DT(2023,4,6,21,10,0),ndata=30,nbits=6,level='raw.crop.pack'); phi.saving(id,**kw); PHI.saving(id,**kw)\n",
    "\n",
    "\n",
    "########################################################\n",
    "printp(RShrt1, label='RS-burst HRT 1')\n",
    "# printp(RSfdt1, label='RS-burst FDT 1')\n"
   ]
  },
  {
   "attachments": {},
   "cell_type": "markdown",
   "metadata": {},
   "source": [
    "## <span style=\"color:blue\">Nanoflares 1 CANCELLED</span>\n",
    "<span style=\"color:red\">crop to 1536 px to save telemetry</span>"
   ]
  },
  {
   "cell_type": "code",
   "execution_count": 89,
   "metadata": {},
   "outputs": [],
   "source": [
    "# ########################################################\n",
    "# id = 2\n",
    "# t0 = DT.fromisoformat('2023-03-29T12:30:00')\n",
    "# t1 = DT.fromisoformat('2023-03-29T16:30:00')\n",
    "# nanohrt1 = PHI_MODE('HRT')\n",
    "# nanofdt1 = PHI_MODE('FDT')\n",
    "# crop = 2048\n",
    "\n",
    "# # cadence 60s to 100s to get some telemetry for high cadence\n",
    "# kw = nanohrt1.observation(t0,18,cadence=100/60,shape=(2048,crop,4,6)); phi.saving(id,**kw); PHI.saving(id,**kw)\n",
    "# kw = nanofdt1.observation(t0+TD(minutes=60),t1,cadence=60,shape=(2048,2048,4,6)); phi.saving(id,**kw); PHI.saving(id,**kw)\n",
    "# # kw = nanohrt1.cropping(DT(2023,4,2,15,0,0),crop=crop,ndata=-1,level = 'raw');# phi.saving(id,**kw); PHI.saving(id,**kw)\n",
    "# kw = nanohrt1.packing(DT(2023,3,30,16,0,0),ndata=-1,level = 'raw'); phi.saving(id,**kw); PHI.saving(id,**kw)\n",
    "# kw = nanofdt1.packing(DT(2023,4,2,16,30,0),ndata=-1,level = 'raw'); phi.saving(id,**kw); PHI.saving(id,**kw)\n",
    "# kw = nanofdt1.compressing(DT(2023,4,2,20,30,0),ndata=-1,nbits=6,level = 'raw.pack'); phi.saving(id,**kw); PHI.saving(id,**kw)\n",
    "# # nanohrt1, kw = flush_many(PHI,[600,600],72,nanohrt1,DT(2023,3,30,22,0,0),6,-1,'raw.pack',id)\n",
    "# kw = nanohrt1.compressing(DT(2023,3,30,22,30,0),ndata=6,nbits=6,level='raw.pack'); phi.saving(id,**kw); PHI.saving(id,**kw)\n",
    "# kw = nanohrt1.compressing(DT(2023,3,31,22,30,0),ndata=6,nbits=6,level='raw.pack'); phi.saving(id,**kw); PHI.saving(id,**kw)\n",
    "# kw = nanohrt1.compressing(DT(2023,4,1,22,30,0),ndata=6,nbits=6,level='raw.pack'); phi.saving(id,**kw); PHI.saving(id,**kw)\n",
    "\n",
    "# ########################################################\n",
    "# printp(nanohrt1, label='Nanoflares HRT 1')\n",
    "# printp(nanofdt1, label='Nanoflares FDT 1')\n"
   ]
  },
  {
   "cell_type": "markdown",
   "metadata": {},
   "source": [
    "## <span style=\"color:blue\">Polar Observations 1</span>"
   ]
  },
  {
   "cell_type": "code",
   "execution_count": 90,
   "metadata": {},
   "outputs": [
    {
     "name": "stdout",
     "output_type": "stream",
     "text": [
      "Polar Observations 1\n",
      "number of datasets: 6\n",
      "cadence: 30 mins\n",
      "duration: 3:00:00\n",
      "amount of raw-data at 32 bits: 1236.0 MiB, 206.0 MiB per dataset\n",
      "crop size: 1024\n",
      "amount of crop-data at 32 bits: 640.9 MiB, 106.8 MiB per dataset\n",
      "cropping time: 0:03:30\n",
      "amount of pack-data at 16 bits: 366.2 MiB, 61.0 MiB per dataset\n",
      "packing time: 0:04:30\n",
      "amount of compressed data + metadata at 6 bits: 108.1 MiB, 18.0 MiB per dataset\n",
      "compressing (+ flushing) time: 0:15:06.401664\n",
      "amount of metadata:  144.054 MiB\n",
      "amount of memory usage: 2243.0 MiB\n",
      "\n"
     ]
    }
   ],
   "source": [
    "########################################################\n",
    "id = 2\n",
    "t0 = DT.fromisoformat('2023-03-29T20:00:00')\n",
    "t1 = DT.fromisoformat('2023-03-29T23:00:00')\n",
    "polar1 = PHI_MODE('HRT')\n",
    "crop = 1024\n",
    "\n",
    "# cadence 20m to 30m to get some telemetry for high cadence\n",
    "kw = polar1.observation(t0,t1,cadence=30,shape=(2048,crop,4,6)); phi.saving(id,**kw); PHI.saving(id,**kw)\n",
    "kw = polar1.cropping(kw['end']+TD(minutes=15),crop=crop,ndata=-1,level = 'raw');# phi.saving(id,**kw); PHI.saving(id,**kw)\n",
    "kw = polar1.packing(kw['end'],ndata=-1,level = 'raw.crop'); phi.saving(id,**kw); PHI.saving(id,**kw)\n",
    "# kw = polar1.compressing(kw['end']+TD(minutes=10),ndata=-1,nbits=6,level = 'raw.crop.pack'); phi.saving(id,**kw); PHI.saving(id,**kw)\n",
    "kw = polar1.compressing(DT(2023,3,29,23,40,0),ndata=-1,nbits=6,level='raw.crop.pack'); phi.saving(id,**kw); PHI.saving(id,**kw)\n",
    "\n",
    "########################################################\n",
    "printp(polar1, label='Polar Observations 1')\n"
   ]
  },
  {
   "cell_type": "markdown",
   "metadata": {},
   "source": [
    "## <span style=\"color:blue\">Slow Wind Connection 1</span>\n",
    "3 HRT burst (1h@5m)\n",
    "\n",
    "<span style=\"color:red\">crop or lower cadence to save telemetry</span>"
   ]
  },
  {
   "cell_type": "code",
   "execution_count": 91,
   "metadata": {},
   "outputs": [
    {
     "name": "stdout",
     "output_type": "stream",
     "text": [
      "Slow Wind Connection 1\n",
      "number of datasets: 6\n",
      "cadence: 30 mins\n",
      "duration: 1:00:00\n",
      "amount of raw-data at 32 bits: 2380.4 MiB, 396.7 MiB per dataset\n",
      "amount of pack-data at 16 bits: 1236.0 MiB, 206.0 MiB per dataset\n",
      "packing time: 0:09:00\n",
      "amount of compressed data + metadata at 6 bits: 432.1 MiB, 72.0 MiB per dataset\n",
      "compressing (+ flushing) time: 1:00:24.310656\n",
      "amount of metadata:  32.054 MiB\n",
      "amount of memory usage: 3616.3 MiB\n",
      "\n"
     ]
    }
   ],
   "source": [
    "########################################################\n",
    "id = 1\n",
    "t0 = DT.fromisoformat('2023-03-30T08:00:00')\n",
    "t1 = DT.fromisoformat('2023-04-02T00:00:00')\n",
    "SW1 = PHI_MODE('HRT')\n",
    "\n",
    "kw = SW1.observation(t0,2,cadence=30,shape=(2048,2048,4,6)); phi.saving(id,**kw); PHI.saving(id,**kw)\n",
    "kw = SW1.packing(kw['end']+TD(minutes=10),ndata=-1,level = 'raw'); phi.saving(id,**kw); PHI.saving(id,**kw)\n",
    "# kw = SW1.compressing(kw['end']+TD(days=8,minutes=10),ndata=-1,nbits=6,level = 'raw.pack'); phi.saving(id,**kw); PHI.saving(id,**kw)\n",
    "\n",
    "kw = SW1.observation(t0+TD(days=1),2,cadence=30,shape=(2048,2048,4,6)); phi.saving(id,**kw); PHI.saving(id,**kw)\n",
    "kw = SW1.packing(kw['end']+TD(minutes=10),ndata=-1,level = 'raw'); phi.saving(id,**kw); PHI.saving(id,**kw)\n",
    "# kw = SW1.compressing(kw['end']+TD(days=8,minutes=10),ndata=-1,nbits=6,level = 'raw.pack'); phi.saving(id,**kw); PHI.saving(id,**kw)\n",
    "\n",
    "kw = SW1.observation(t0+TD(days=2),2,cadence=30,shape=(2048,2048,4,6)); phi.saving(id,**kw); PHI.saving(id,**kw)\n",
    "kw = SW1.packing(kw['end']+TD(minutes=10),ndata=-1,level = 'raw'); phi.saving(id,**kw); PHI.saving(id,**kw)\n",
    "# kw = SW1.compressing(kw['end']+TD(days=8,minutes=10),ndata=-1,nbits=6,level = 'raw.pack'); phi.saving(id,**kw); PHI.saving(id,**kw)\n",
    "\n",
    "kw = SW1.compressing(DT(2023,4,2,18,30),ndata=6,nbits=6,level = 'raw.pack'); phi.saving(id,**kw); PHI.saving(id,**kw)\n",
    "# kw = SW1.compressing(DT(2023,4,7,19,30),ndata=9,nbits=6,level = 'raw.pack'); phi.saving(id,**kw); PHI.saving(id,**kw)\n",
    "# kw = SW1.compressing(DT(2023,4,8,18,30),ndata=9,nbits=6,level = 'raw.pack'); phi.saving(id,**kw); PHI.saving(id,**kw)\n",
    "# kw = SW1.compressing(DT(2023,4,8,20,0),ndata=9,nbits=6,level = 'raw.pack'); phi.saving(id,**kw); PHI.saving(id,**kw)\n",
    "\n",
    "########################################################\n",
    "printp(SW1, label='Slow Wind Connection 1')\n"
   ]
  },
  {
   "cell_type": "markdown",
   "metadata": {},
   "source": [
    "## <span style=\"color:green\">HRT Flat 2</span>"
   ]
  },
  {
   "cell_type": "code",
   "execution_count": 92,
   "metadata": {},
   "outputs": [
    {
     "name": "stdout",
     "output_type": "stream",
     "text": [
      "HRT FLAT 2 (02/04/2023)\n",
      "number of datasets: 11\n",
      "cadence: 15.0 mins\n",
      "duration: 0:15:00\n",
      "amount of raw-data at 32 bits: 4364.0 MiB, 396.7 MiB per dataset\n",
      "amount of pack-data at 16 bits: 206.0 MiB, 206.0 MiB per dataset\n",
      "packing time: 0:01:30\n",
      "amount of compressed data + metadata at 6 bits: 72.0 MiB, 72.0 MiB per dataset\n",
      "compressing (+ flushing) time: 0:10:04.051776\n",
      "amount of metadata:  16.009 MiB\n",
      "amount of memory usage: 4570.0 MiB\n",
      "\n"
     ]
    }
   ],
   "source": [
    "########################################################\n",
    "id = 1\n",
    "\n",
    "t0 = DT.fromisoformat('2023-04-02T00:00:00')\n",
    "t1 = DT.fromisoformat('2023-04-02T10:00:00')\n",
    "HRTflat2 = HRT_flat(PHI,t0,id,flush=DT(2023,4,2,23),verbose=False)\n",
    "########################################################\n",
    "printp(HRTflat1, label=\"HRT FLAT 2 (02/04/2023)\")"
   ]
  },
  {
   "cell_type": "markdown",
   "metadata": {},
   "source": [
    "## <span style=\"color:green\">FDT Flat 2</span>\n",
    "\n",
    "Download raw flats"
   ]
  },
  {
   "cell_type": "code",
   "execution_count": 93,
   "metadata": {},
   "outputs": [
    {
     "name": "stdout",
     "output_type": "stream",
     "text": [
      "FDT FLAT 2 (03/04/2023)\n",
      "number of datasets: 10\n",
      "cadence: 300.0 mins\n",
      "duration: 5:00:00\n",
      "amount of raw-data at 32 bits: 3967.3 MiB, 396.7 MiB per dataset\n",
      "amount of pack-data at 16 bits: 2059.9 MiB, 206.0 MiB per dataset\n",
      "packing time: 0:15:00\n",
      "amount of compressed data + metadata at 6 bits: 720.1 MiB, 72.0 MiB per dataset\n",
      "compressing (+ flushing) time: 1:40:40.517760\n",
      "amount of metadata:  80.081 MiB\n",
      "amount of memory usage: 6027.2 MiB\n",
      "\n"
     ]
    }
   ],
   "source": [
    "########################################################\n",
    "id = 1\n",
    "\n",
    "t0 = DT.fromisoformat('2023-04-03T10:29:06')\n",
    "t1 = DT.fromisoformat('2023-04-03T11:24:06')\n",
    "FDTflat2 = FDT_flat(PHI,t0,id,flush=DT(2023,4,3,17,20),verbose=False)\n",
    "kw = FDTflat2.packing(DT(2023,4,3,16,50,0),ndata=9,level = 'raw'); phi.saving(id,**kw); PHI.saving(id,**kw)\n",
    "kw = FDTflat2.compressing(DT(2023,4,3,17,30),ndata=9,nbits=6,level = 'raw.pack'); phi.saving(id,**kw); PHI.saving(id,**kw)\n",
    "\n",
    "########################################################\n",
    "printp(FDTflat2, label=\"FDT FLAT 2 (03/04/2023)\")"
   ]
  },
  {
   "cell_type": "code",
   "execution_count": 94,
   "metadata": {},
   "outputs": [
    {
     "data": {
      "image/png": "[encoded data removed]",
      "text/plain": [
       "<Figure size 1080x576 with 2 Axes>"
      ]
     },
     "metadata": {
      "needs_background": "light"
     },
     "output_type": "display_data"
    }
   ],
   "source": [
    "xlim = (DT(2023,3,14,0,0,0),DT(2023,4,14,0,0,0))\n",
    "plot_tot(PHI, xlim=xlim, ylim=(0,250), time_ord=True)\n"
   ]
  },
  {
   "cell_type": "code",
   "execution_count": 95,
   "metadata": {},
   "outputs": [
    {
     "name": "stderr",
     "output_type": "stream",
     "text": [
      "/tmp/ipykernel_88733/542977430.py:217: UserWarning: marker is redundantly defined by the 'marker' keyword argument and the fmt string \"o\" (-> marker='o'). The keyword argument will take precedence.\n",
      "  plt.plot_date(times,newc1+newc2,color='black',linestyle='-',marker='.',label='total: '+str(round(total,1))+' GB')\n"
     ]
    },
    {
     "data": {
      "image/png": "[encoded data removed]",
      "text/plain": [
       "<Figure size 1080x864 with 1 Axes>"
      ]
     },
     "metadata": {
      "needs_background": "light"
     },
     "output_type": "display_data"
    }
   ],
   "source": [
    "xlim = (DT(2023,3,14,0,0,0),DT(2023,4,13,0,0,0))\n",
    "plot_flush_per_day(PHI,xlim)"
   ]
  },
  {
   "cell_type": "markdown",
   "metadata": {},
   "source": [
    "We must empty partition 1 by April 10 to acquire the 6h QS SOOP\n",
    "\n",
    "We can put almost everything in partition one from RSW 7 (so far RS-burst and Nanoflares1 in NAND 2)"
   ]
  },
  {
   "cell_type": "markdown",
   "metadata": {},
   "source": [
    "# <span style=\"color:red\">*RSW 8*</span>"
   ]
  },
  {
   "cell_type": "markdown",
   "metadata": {},
   "source": [
    "## <span style=\"color:magenta\">***RESET NAND 2***</span>"
   ]
  },
  {
   "cell_type": "code",
   "execution_count": 96,
   "metadata": {},
   "outputs": [
    {
     "name": "stdout",
     "output_type": "stream",
     "text": [
      "amount of compressed data + metadata in partition 2: 4.88 GB\n"
     ]
    },
    {
     "data": {
      "image/png": "[encoded data removed]",
      "text/plain": [
       "<Figure size 1080x576 with 2 Axes>"
      ]
     },
     "metadata": {
      "needs_background": "light"
     },
     "output_type": "display_data"
    }
   ],
   "source": [
    "print('amount of compressed data + metadata in partition 2:',round(PHI.part2.compr*1e-3,2), 'GB')\n",
    "PHI.format_partition(2,DT(2023,4,4,0,10,0))\n",
    "xlim = (DT(2023,3,14,0,0,0),DT(2023,4,4,4,0,0))\n",
    "plot_tot(PHI, xlim=xlim, ylim=(0,250), time_ord=True)\n"
   ]
  },
  {
   "cell_type": "markdown",
   "metadata": {},
   "source": [
    "## <span style=\"color:blue\">Nanoflares 2</span>\n",
    "\n",
    "<span style=\"color:red\">crop to 1536 px to save telemetry</span>"
   ]
  },
  {
   "cell_type": "code",
   "execution_count": 97,
   "metadata": {},
   "outputs": [
    {
     "name": "stdout",
     "output_type": "stream",
     "text": [
      "Nanoflares HRT 2\n",
      "number of datasets: 21\n",
      "cadence: 60 mins\n",
      "duration: 3:00:00\n",
      "amount of raw-data at 32 bits: 6134.0 MiB, 292.1 MiB per dataset\n",
      "crop size: 1408\n",
      "amount of crop-data at 32 bits: 4005.4 MiB, 190.7 MiB per dataset\n",
      "cropping time: 0:24:30\n",
      "amount of pack-data at 16 bits: 2082.8 MiB, 99.2 MiB per dataset\n",
      "packing time: 0:31:30\n",
      "amount of compressed data + metadata at 6 bits: 714.8 MiB, 34.0 MiB per dataset\n",
      "compressing (+ flushing) time: 1:39:56.483136\n",
      "amount of metadata:  360.054 MiB\n",
      "amount of memory usage: 12222.3 MiB\n",
      "\n"
     ]
    }
   ],
   "source": [
    "########################################################\n",
    "id = 2\n",
    "t0 = DT.fromisoformat('2023-04-04T04:08:08')\n",
    "t1 = DT.fromisoformat('2023-04-04T07:08:08')\n",
    "nanohrt2 = PHI_MODE('HRT')\n",
    "# nanofdt2 = PHI_MODE('FDT')\n",
    "crop = 1408\n",
    "\n",
    "# cadence 60s to 100s to get some telemetry for high cadence\n",
    "kw = nanohrt2.observation(t0,18,cadence=100/6,shape=(2048,crop,4,6)); phi.saving(id,**kw); PHI.saving(id,**kw)\n",
    "kw = nanohrt2.observation(t0+TD(minutes=30),3,cadence=60,shape=(2048,2048,4,6)); phi.saving(id,**kw); PHI.saving(id,**kw)\n",
    "kw = nanohrt2.cropping(DT(2023,4,4,6,30,0),crop=crop,ndata=-1,level = 'raw');# phi.saving(id,**kw); PHI.saving(id,**kw)\n",
    "kw = nanohrt2.packing(DT(2023,4,4,7,30,0),ndata=-1,level = 'raw.crop'); phi.saving(id,**kw); PHI.saving(id,**kw)\n",
    "# kw = nanofdt2.packing(DT(2023,4,4,8,30,0),ndata=-1,level = 'raw'); phi.saving(id,**kw); PHI.saving(id,**kw)\n",
    "kw = nanohrt2.compressing(DT(2023,4,4,23,5,0),ndata=3,nbits=6,level = 'raw.crop.pack'); phi.saving(id,**kw); PHI.saving(id,**kw)\n",
    "\n",
    "kw = nanohrt2.compressing(DT(2023,4,12,22,0,0),ndata=6,nbits=6,level = 'raw.crop.pack'); phi.saving(id,**kw); PHI.saving(id,**kw)\n",
    "kw = nanohrt2.compressing(DT(2023,4,13,22,0,0),ndata=6,nbits=6,level = 'raw.crop.pack'); phi.saving(id,**kw); PHI.saving(id,**kw)\n",
    "kw = nanohrt2.compressing(DT(2023,4,14,22,0,0),ndata=6,nbits=6,level = 'raw.crop.pack'); phi.saving(id,**kw); PHI.saving(id,**kw)\n",
    "# nanohrt2, kw = flush_many(PHI,[600,600],72,nanohrt2,DT(2023,4,12,22,0,0),6,-1,'raw.pack',id)\n",
    "\n",
    "########################################################\n",
    "printp(nanohrt2, label='Nanoflares HRT 2')\n",
    "# printp(nanofdt2, label='Nanoflares FDT 2')\n"
   ]
  },
  {
   "cell_type": "markdown",
   "metadata": {},
   "source": [
    "## <span style=\"color:blue\">Bright Points</span>"
   ]
  },
  {
   "cell_type": "code",
   "execution_count": 98,
   "metadata": {},
   "outputs": [
    {
     "name": "stdout",
     "output_type": "stream",
     "text": [
      "Bright Points\n",
      "number of datasets: 16\n",
      "cadence: 30 mins\n",
      "duration: 8:00:00\n",
      "amount of raw-data at 32 bits: 4028.3 MiB, 251.8 MiB per dataset\n",
      "crop size: 1280\n",
      "amount of crop-data at 32 bits: 2563.5 MiB, 160.2 MiB per dataset\n",
      "cropping time: 0:18:40\n",
      "amount of pack-data at 16 bits: 1342.8 MiB, 83.9 MiB per dataset\n",
      "packing time: 0:24:00\n",
      "amount of compressed data + metadata at 6 bits: 450.1 MiB, 28.1 MiB per dataset\n",
      "compressing (+ flushing) time: 1:02:56.025600\n",
      "amount of metadata:  384.144 MiB\n",
      "amount of memory usage: 7934.6 MiB\n",
      "\n"
     ]
    }
   ],
   "source": [
    "########################################################\n",
    "id = 1\n",
    "t0 = DT.fromisoformat('2023-04-04T12:00:00')\n",
    "t1 = DT.fromisoformat('2023-04-04T20:00:00')\n",
    "BP = PHI_MODE('HRT')\n",
    "crop = 1280\n",
    "\n",
    "kw = BP.observation(t0,t1,cadence=30,shape=(2048,crop,4,6)); phi.saving(id,**kw); PHI.saving(id,**kw)\n",
    "kw = BP.cropping(DT(2023,4,4,20,5),crop=crop,ndata=-1,level = 'raw');# phi.saving(id,**kw); PHI.saving(id,**kw)\n",
    "kw = BP.packing(kw['end'],ndata=-1,level = 'raw.crop'); phi.saving(id,**kw); PHI.saving(id,**kw)\n",
    "kw = BP.compressing(DT(2023,4,4,22,0),ndata=-1,nbits=6,level = 'raw.crop.pack'); phi.saving(id,**kw); PHI.saving(id,**kw)\n",
    "\n",
    "########################################################\n",
    "printp(BP, label='Bright Points')\n"
   ]
  },
  {
   "cell_type": "markdown",
   "metadata": {},
   "source": [
    "## <span style=\"color:blue\">Sunspot Oscillation</span>\n",
    "\n",
    "<span style=\"color:red\">cadence could be reduced to 60m to save telemetry</span>"
   ]
  },
  {
   "cell_type": "code",
   "execution_count": 99,
   "metadata": {},
   "outputs": [
    {
     "name": "stdout",
     "output_type": "stream",
     "text": [
      "Sunspot Oscillation\n",
      "number of datasets: 16\n",
      "cadence: 30 mins\n",
      "duration: 8:00:00\n",
      "amount of raw-data at 32 bits: 4028.3 MiB, 251.8 MiB per dataset\n",
      "crop size: 1280\n",
      "amount of crop-data at 32 bits: 2563.5 MiB, 160.2 MiB per dataset\n",
      "cropping time: 0:18:40\n",
      "amount of pack-data at 16 bits: 1342.8 MiB, 83.9 MiB per dataset\n",
      "packing time: 0:24:00\n",
      "amount of compressed data + metadata at 6 bits: 450.1 MiB, 28.1 MiB per dataset\n",
      "compressing (+ flushing) time: 1:02:56.025600\n",
      "amount of metadata:  384.144 MiB\n",
      "amount of memory usage: 7934.6 MiB\n",
      "\n"
     ]
    }
   ],
   "source": [
    "########################################################\n",
    "id = 1\n",
    "t0 = DT.fromisoformat('2023-04-05T00:00:00')\n",
    "t1 = DT.fromisoformat('2023-04-05T08:00:00')\n",
    "SO = PHI_MODE('HRT')\n",
    "crop = 1280\n",
    "\n",
    "kw = SO.observation(t0,t1,cadence=30,shape=(2048,crop,4,6)); phi.saving(id,**kw); PHI.saving(id,**kw)\n",
    "kw = SO.cropping(DT(2023,4,5,8,5),crop=crop,ndata=-1,level = 'raw');# phi.saving(id,**kw); PHI.saving(id,**kw)\n",
    "kw = SO.packing(kw['end'],ndata=-1,level = 'raw.crop'); phi.saving(id,**kw); PHI.saving(id,**kw)\n",
    "kw = SO.compressing(DT(2023,4,5,18,0,0),ndata=-1,nbits=6,level = 'raw.crop.pack'); phi.saving(id,**kw); PHI.saving(id,**kw)\n",
    "\n",
    "########################################################\n",
    "printp(SO, label='Sunspot Oscillation')\n"
   ]
  },
  {
   "attachments": {},
   "cell_type": "markdown",
   "metadata": {},
   "source": [
    "## <span style=\"color:blue\">Major Flare Watch (CANCELLED)</span>\n",
    "\n",
    "<span style=\"color:red\">HRT or FDT? What cadence?</span>"
   ]
  },
  {
   "cell_type": "code",
   "execution_count": 100,
   "metadata": {},
   "outputs": [],
   "source": [
    "# ########################################################\n",
    "# id = 1\n",
    "# t0 = DT.fromisoformat('2023-04-05T09:00:00')\n",
    "# t1 = DT.fromisoformat('2023-04-05T17:00:00')\n",
    "# MFW = PHI_MODE('HRT')\n",
    "# crop = 1280\n",
    "\n",
    "# kw = MFW.observation(t0,t1,cadence=30,shape=(2048,crop,4,6)); phi.saving(id,**kw); PHI.saving(id,**kw)\n",
    "# kw = MFW.cropping(DT(2023,4,5,17,5),crop=crop,ndata=-1,level = 'raw');# phi.saving(id,**kw); PHI.saving(id,**kw)\n",
    "# kw = MFW.packing(kw['end'],ndata=-1,level = 'raw.crop'); phi.saving(id,**kw); PHI.saving(id,**kw)\n",
    "# kw = MFW.compressing(DT(2023,4,6,14,0,0),ndata=-1,nbits=6,level = 'raw.crop.pack'); phi.saving(id,**kw); PHI.saving(id,**kw)\n",
    "\n",
    "# ########################################################\n",
    "# printp(MFW, label='Sunspot Oscillation')\n"
   ]
  },
  {
   "attachments": {},
   "cell_type": "markdown",
   "metadata": {},
   "source": [
    "## <span style=\"color:blue\">Nanoflares 3 (CANCELLED)</span>\n",
    "\n",
    "<span style=\"color:red\">crop to 1536 px to save telemetry</span>"
   ]
  },
  {
   "cell_type": "code",
   "execution_count": 101,
   "metadata": {},
   "outputs": [],
   "source": [
    "# ########################################################\n",
    "# id = 2\n",
    "# t0 = DT.fromisoformat('2023-04-06T02:00:00')\n",
    "# t1 = DT.fromisoformat('2023-04-06T05:00:00')\n",
    "# nanohrt3 = PHI_MODE('HRT')\n",
    "# # nanofdt3 = PHI_MODE('FDT')\n",
    "# crop = 1408\n",
    "\n",
    "# # cadence 60s to 100s to get some telemetry for high cadence\n",
    "# kw = nanohrt3.observation(t0,18,cadence=100/60,shape=(2048,crop,4,6)); phi.saving(id,**kw); PHI.saving(id,**kw)\n",
    "# kw = nanohrt3.observation(t0+TD(minutes=30),t1,cadence=60,shape=(2048,2048,4,6)); phi.saving(id,**kw); PHI.saving(id,**kw)\n",
    "# kw = nanohrt3.cropping(DT(2023,4,6,4,30,0),crop=crop,ndata=-1,level = 'raw');# phi.saving(id,**kw); PHI.saving(id,**kw)\n",
    "# kw = nanohrt3.packing(DT(2023,4,6,5,30,0),ndata=-1,level = 'raw.crop'); phi.saving(id,**kw); PHI.saving(id,**kw)\n",
    "# # kw = nanofdt3.packing(DT(2023,4,6,6,30,0),ndata=-1,level = 'raw'); phi.saving(id,**kw); PHI.saving(id,**kw)\n",
    "# kw = nanohrt3.compressing(DT(2023,4,6,23,35,0),ndata=3,nbits=6,level = 'raw.crop.pack'); phi.saving(id,**kw); PHI.saving(id,**kw)\n",
    "\n",
    "# kw = nanohrt3.compressing(DT(2023,4,15,22,0,0),ndata=6,nbits=6,level = 'raw.crop.pack'); phi.saving(id,**kw); PHI.saving(id,**kw)\n",
    "# kw = nanohrt3.compressing(DT(2023,4,16,22,0,0),ndata=6,nbits=6,level = 'raw.crop.pack'); phi.saving(id,**kw); PHI.saving(id,**kw)\n",
    "# kw = nanohrt3.compressing(DT(2023,4,17,22,0,0),ndata=6,nbits=6,level = 'raw.crop.pack'); phi.saving(id,**kw); PHI.saving(id,**kw)\n",
    "# # nanohrt3, kw = flush_many(PHI,[600,600],72,nanohrt3,DT(2023,4,15,22,0,0),6,-1,'raw.pack',id)\n",
    "\n",
    "# ########################################################\n",
    "# printp(nanohrt3, label='Nanoflares HRT 3')\n",
    "# # printp(nanofdt3, label='Nanoflares FDT 3')\n"
   ]
  },
  {
   "attachments": {},
   "cell_type": "markdown",
   "metadata": {},
   "source": [
    "## <span style=\"color:blue\">RS-burst 2 (Sebas with Hardi's scheme)</span>\n",
    "\n",
    "<span style=\"color:red\">cadence reduced to 100s and crop to 1536 px to save telemetry</span>"
   ]
  },
  {
   "cell_type": "code",
   "execution_count": 102,
   "metadata": {},
   "outputs": [
    {
     "name": "stdout",
     "output_type": "stream",
     "text": [
      "RS-burst HRT 2\n",
      "number of datasets: 21\n",
      "cadence: 60 mins\n",
      "duration: 3:00:00\n",
      "amount of raw-data at 32 bits: 6134.0 MiB, 292.1 MiB per dataset\n",
      "crop size: 1408\n",
      "amount of crop-data at 32 bits: 4005.4 MiB, 190.7 MiB per dataset\n",
      "cropping time: 0:24:30\n",
      "amount of pack-data at 16 bits: 2082.8 MiB, 99.2 MiB per dataset\n",
      "packing time: 0:31:30\n",
      "amount of compressed data + metadata at 6 bits: 714.8 MiB, 34.0 MiB per dataset\n",
      "compressing (+ flushing) time: 1:39:56.483136\n",
      "amount of metadata:  360.054 MiB\n",
      "amount of memory usage: 12222.3 MiB\n",
      "\n"
     ]
    }
   ],
   "source": [
    "########################################################\n",
    "id = 2\n",
    "t0 = DT.fromisoformat('2023-04-06T08:00:00')\n",
    "t1 = DT.fromisoformat('2023-04-06T11:30:00')\n",
    "RShrt2 = PHI_MODE('HRT')\n",
    "# RSfdt2 = PHI_MODE('FDT')\n",
    "crop = 1408\n",
    "\n",
    "kw = RShrt2.observation(t0,18,cadence=100/60,shape=(2048,crop,4,6)); phi.saving(id,**kw); PHI.saving(id,**kw)\n",
    "kw = RShrt2.observation(t0+TD(minutes=30),t1,cadence=60,shape=(2048,2048,4,6)); phi.saving(id,**kw); PHI.saving(id,**kw)\n",
    "kw = RShrt2.cropping(DT(2023,4,6,11,0,0),crop=crop,ndata=-1,level = 'raw');# phi.saving(id,**kw); PHI.saving(id,**kw)\n",
    "kw = RShrt2.packing(DT(2023,4,6,12,0,0),ndata=-1,level = 'raw.crop'); phi.saving(id,**kw); PHI.saving(id,**kw)\n",
    "# kw = RSfdt2.packing(DT(2023,4,6,13,0,0),ndata=-1,level = 'raw'); phi.saving(id,**kw); PHI.saving(id,**kw)\n",
    "kw = RShrt2.compressing(DT(2023,4,7,22,30,0),ndata=3,nbits=6,level = 'raw.crop.pack'); phi.saving(id,**kw); PHI.saving(id,**kw)\n",
    "\n",
    "kw = RShrt2.compressing(DT(2023,4,18,21,20,0),ndata=6,nbits=6,level = 'raw.crop.pack'); phi.saving(id,**kw); PHI.saving(id,**kw)\n",
    "kw = RShrt2.compressing(DT(2023,4,19,21,20,0),ndata=6,nbits=6,level = 'raw.crop.pack'); phi.saving(id,**kw); PHI.saving(id,**kw)\n",
    "kw = RShrt2.compressing(DT(2023,4,20,22,0,0),ndata=6,nbits=6,level = 'raw.crop.pack'); phi.saving(id,**kw); PHI.saving(id,**kw)\n",
    "# RShrt2, kw = flush_many(PHI,[1200,1200],72,RShrt2,DT(2023,4,18,22,0,0),6,-1,'raw.pack',id)\n",
    "\n",
    "########################################################\n",
    "printp(RShrt2, label='RS-burst HRT 2')\n",
    "# printp(RSfdt2, label='RS-burst FDT 2')"
   ]
  },
  {
   "cell_type": "markdown",
   "metadata": {},
   "source": [
    "## <span style=\"color:green\">FDT Flat 3</span>"
   ]
  },
  {
   "cell_type": "code",
   "execution_count": 103,
   "metadata": {},
   "outputs": [
    {
     "name": "stdout",
     "output_type": "stream",
     "text": [
      "FDT FLAT 3 (06/04/2023)\n",
      "number of datasets: 10\n",
      "cadence: 300.0 mins\n",
      "duration: 5:00:00\n",
      "amount of raw-data at 32 bits: 3967.3 MiB, 396.7 MiB per dataset\n",
      "amount of pack-data at 16 bits: 206.0 MiB, 206.0 MiB per dataset\n",
      "packing time: 0:01:30\n",
      "amount of compressed data + metadata at 6 bits: 72.0 MiB, 72.0 MiB per dataset\n",
      "compressing (+ flushing) time: 0:10:04.051776\n",
      "amount of metadata:  16.009 MiB\n",
      "amount of memory usage: 4173.3 MiB\n",
      "\n"
     ]
    }
   ],
   "source": [
    "########################################################\n",
    "id = 1\n",
    "\n",
    "t0 = DT.fromisoformat('2023-04-06T18:00:00')\n",
    "t1 = DT.fromisoformat('2023-04-06T19:00:00')\n",
    "FDTflat3 = FDT_flat(PHI,t0,id,DT(2023,4,7,0,30,0),DT(2023,4,7,6,30,0),verbose=False)\n",
    "########################################################\n",
    "printp(FDTflat3, label=\"FDT FLAT 3 (06/04/2023)\")"
   ]
  },
  {
   "cell_type": "markdown",
   "metadata": {},
   "source": [
    "## <span style=\"color:blue\">Coronal Dynamics 1</span>"
   ]
  },
  {
   "cell_type": "code",
   "execution_count": 104,
   "metadata": {},
   "outputs": [
    {
     "name": "stdout",
     "output_type": "stream",
     "text": [
      "Coronal Dynamics 1\n",
      "number of datasets: 8\n",
      "cadence: 2 mins\n",
      "duration: 0:02:00\n",
      "amount of raw-data at 32 bits: 3173.8 MiB, 396.7 MiB per dataset\n",
      "amount of pack-data at 16 bits: 1647.9 MiB, 206.0 MiB per dataset\n",
      "packing time: 0:12:00\n",
      "amount of compressed data + metadata at 6 bits: 576.1 MiB, 72.0 MiB per dataset\n",
      "compressing (+ flushing) time: 1:20:32.414208\n",
      "amount of metadata:  16.009 MiB\n",
      "amount of memory usage: 4821.8 MiB\n",
      "\n"
     ]
    }
   ],
   "source": [
    "########################################################\n",
    "id = 1\n",
    "t0 = DT.fromisoformat('2023-04-06T20:00:00')\n",
    "t1 = DT.fromisoformat('2023-04-08T21:00:00')\n",
    "CD1 = PHI_MODE('FDT')\n",
    "\n",
    "synoptic_raw(PHI,CD1,t0,t1,360,(2048,2048,4,6),6,id)\n",
    "\n",
    "########################################################\n",
    "printp(CD1, label='Coronal Dynamics 1')\n"
   ]
  },
  {
   "attachments": {},
   "cell_type": "markdown",
   "metadata": {},
   "source": [
    "## <span style=\"color:blue\">RS-burst 3 (MEREGED)</span>\n",
    "Sebas SOOP\n",
    "\n",
    "17 datasets, variable cadence, crop 1280"
   ]
  },
  {
   "cell_type": "code",
   "execution_count": 105,
   "metadata": {},
   "outputs": [],
   "source": [
    "# ########################################################\n",
    "# id = 2\n",
    "# t0 = DT.fromisoformat('2023-04-07T17:30:00')\n",
    "# t1 = DT.fromisoformat('2023-04-07T18:30:00')\n",
    "# RS3 = PHI_MODE('HRT')\n",
    "# crop = 1280\n",
    "\n",
    "# kw = RS3.observation(t0,17,cadence=2,shape=(2048,crop,4,6)); phi.saving(id,**kw); PHI.saving(id,**kw)\n",
    "# kw = RS3.cropping(DT(2023,4,21,10,0,0),crop=crop,ndata=-1,level = 'raw');# phi.saving(id,**kw); PHI.saving(id,**kw)\n",
    "# kw = RS3.packing(DT(2023,4,21,11,0,0),ndata=-1,level = 'raw.crop'); phi.saving(id,**kw); PHI.saving(id,**kw)\n",
    "\n",
    "# kw = RS3.compressing(DT(2023,4,21,22,0,0),ndata=9,nbits=6,level = 'raw.crop.pack'); phi.saving(id,**kw); PHI.saving(id,**kw)\n",
    "# kw = RS3.compressing(DT(2023,4,22,22,0,0),ndata=8,nbits=6,level = 'raw.crop.pack'); phi.saving(id,**kw); PHI.saving(id,**kw)\n",
    "# # RS3, kw = flush_many(PHI,[800,800],72,RS3,DT(2023,4,21,22,0,0),6,-1,'raw.pack',id); phi.saving(id,**kw); PHI.saving(id,**kw)\n",
    "\n",
    "# ########################################################\n",
    "# printp(RS3, label='Stereoscopy (Sebas)')\n"
   ]
  },
  {
   "cell_type": "markdown",
   "metadata": {},
   "source": [
    "## <span style=\"color:blue\">CH Bounday Expansion</span>"
   ]
  },
  {
   "cell_type": "code",
   "execution_count": 106,
   "metadata": {},
   "outputs": [
    {
     "name": "stdout",
     "output_type": "stream",
     "text": [
      "CH boundary expansion\n",
      "number of datasets: 4\n",
      "cadence: 2 mins\n",
      "duration: 0:02:00\n",
      "amount of raw-data at 32 bits: 1586.9 MiB, 396.7 MiB per dataset\n",
      "amount of pack-data at 16 bits: 824.0 MiB, 206.0 MiB per dataset\n",
      "packing time: 0:06:00\n",
      "amount of compressed data + metadata at 6 bits: 288.0 MiB, 72.0 MiB per dataset\n",
      "compressing (+ flushing) time: 0:40:16.207104\n",
      "amount of metadata:  16.009 MiB\n",
      "amount of memory usage: 2410.9 MiB\n",
      "\n"
     ]
    }
   ],
   "source": [
    "########################################################\n",
    "id = 2\n",
    "t0 = DT.fromisoformat('2023-04-09T00:00:00')\n",
    "t1 = DT.fromisoformat('2023-04-10T00:00:00')\n",
    "CH1 = PHI_MODE('FDT')\n",
    "\n",
    "synoptic_raw(PHI,CH1,t0,t1,360,(2048,2048,4,6),6,id)\n",
    "\n",
    "########################################################\n",
    "printp(CH1, label='CH boundary expansion')\n"
   ]
  },
  {
   "cell_type": "markdown",
   "metadata": {},
   "source": [
    "## <span style=\"color:magenta\">***RESET NAND 1***</span>"
   ]
  },
  {
   "cell_type": "code",
   "execution_count": 107,
   "metadata": {},
   "outputs": [
    {
     "data": {
      "image/png": "[encoded data removed]",
      "text/plain": [
       "<Figure size 1080x576 with 2 Axes>"
      ]
     },
     "metadata": {
      "needs_background": "light"
     },
     "output_type": "display_data"
    }
   ],
   "source": [
    "# print('amount of compressed data + metadata in partition 1:',round(PHI.part1.compr*1e-3,2), 'GB')\n",
    "# PHI.format_partition(1,DT(2023,4,9,6,10,0))\n",
    "# xlim = (DT(2023,3,14,0,0,0),DT(2023,4,25,0,0,0))\n",
    "plot_tot(PHI, xlim=xlim, ylim=(0,250), time_ord=True)\n"
   ]
  },
  {
   "cell_type": "markdown",
   "metadata": {},
   "source": [
    "## <span style=\"color:blue\">Nanoflares 4</span>\n",
    "6h QS, CROP+PACK"
   ]
  },
  {
   "cell_type": "code",
   "execution_count": 108,
   "metadata": {},
   "outputs": [
    {
     "name": "stdout",
     "output_type": "stream",
     "text": [
      "Nanoflares QS\n",
      "number of datasets: 360\n",
      "cadence: 1 mins\n",
      "duration: 6:00:00\n",
      "amount of raw-data at 32 bits: 74157.7 MiB, 206.0 MiB per dataset\n",
      "crop size: 1024\n",
      "amount of crop-data at 32 bits: 38452.1 MiB, 106.8 MiB per dataset\n",
      "cropping time: 3:30:00\n",
      "amount of pack-data at 16 bits: 21972.7 MiB, 61.0 MiB per dataset\n",
      "packing time: 4:30:00\n",
      "amount of compressed data + metadata at 6 bits: 6483.1 MiB, 18.0 MiB per dataset\n",
      "compressing (+ flushing) time: 15:06:24.099840\n",
      "amount of metadata:  2960.045 MiB\n",
      "amount of memory usage: 134582.5 MiB\n",
      "\n"
     ]
    }
   ],
   "source": [
    "########################################################\n",
    "id = 2\n",
    "t0 = DT.fromisoformat('2023-04-10T03:30:00')\n",
    "t1 = DT.fromisoformat('2023-04-10T09:30:00')\n",
    "QS = PHI_MODE('HRT')\n",
    "crop = 1024\n",
    "\n",
    "kw = QS.observation(t0,t1,cadence=1,shape=(2048,crop,4,6)); phi.saving(id,**kw); PHI.saving(id,**kw)\n",
    "for i in range(72):\n",
    "    kw = QS.cropping(DT(2023,6,3,20,0,0)+TD(days=i),crop=crop,ndata=5,level = 'raw');# phi.saving(id,**kw); PHI.saving(id,**kw)\n",
    "    kw = QS.packing(kw['end'],ndata=5,level = 'raw.crop'); phi.saving(id,**kw); PHI.saving(id,**kw)\n",
    "    kw = QS.compressing(DT(2023,6,3,22,0,0)+TD(days=i),ndata=5,nbits=6,level = 'raw.crop.pack'); phi.saving(id,**kw); PHI.saving(id,**kw)\n",
    "\n",
    "# QS, kw = flush_many(PHI,[250,250],34,QS,DT(2023,6,3,22,0,0),6,-1,'raw.crop.pack',id)\n",
    "\n",
    "########################################################\n",
    "printp(QS, label='Nanoflares QS')\n"
   ]
  },
  {
   "cell_type": "markdown",
   "metadata": {},
   "source": [
    "## <span style=\"color:blue\">RS-burst 4</span>\n",
    "\n",
    "<span style=\"color:red\">crop to 1536 px and cadence to 100s to save telemetry</span>"
   ]
  },
  {
   "cell_type": "code",
   "execution_count": 109,
   "metadata": {},
   "outputs": [
    {
     "name": "stdout",
     "output_type": "stream",
     "text": [
      "RS-burst HRT 4\n",
      "number of datasets: 33\n",
      "cadence: 60 mins\n",
      "duration: 3:00:00\n",
      "amount of raw-data at 32 bits: 9429.9 MiB, 285.8 MiB per dataset\n",
      "crop size: 1408\n",
      "amount of crop-data at 32 bits: 6294.3 MiB, 190.7 MiB per dataset\n",
      "cropping time: 0:38:30\n",
      "amount of pack-data at 16 bits: 3273.0 MiB, 99.2 MiB per dataset\n",
      "packing time: 0:49:30\n",
      "amount of compressed data + metadata at 6 bits: 1021.2 MiB, 34.0 MiB per dataset\n",
      "compressing (+ flushing) time: 2:22:46.404480\n",
      "amount of metadata:  552.027 MiB\n",
      "amount of memory usage: 18997.2 MiB\n",
      "\n"
     ]
    }
   ],
   "source": [
    "########################################################\n",
    "id = 2\n",
    "t0 = DT.fromisoformat('2023-04-10T20:00:00')\n",
    "t1 = DT.fromisoformat('2023-04-10T23:30:00')\n",
    "RShrt4 = PHI_MODE('HRT')\n",
    "# RSfdt4 = PHI_MODE('FDT')\n",
    "crop = 1408\n",
    "\n",
    "kw = RShrt4.observation(t0,30,cadence=1,shape=(2048,crop,4,6)); phi.saving(id,**kw); PHI.saving(id,**kw)\n",
    "kw = RShrt4.observation(t0+TD(minutes=30),t1,cadence=60,shape=(2048,2048,4,6)); phi.saving(id,**kw); PHI.saving(id,**kw)\n",
    "kw = RShrt4.cropping(DT(2023,4,10,11,0,0),crop=crop,ndata=-1,level = 'raw');# phi.saving(id,**kw); PHI.saving(id,**kw)\n",
    "kw = RShrt4.packing(DT(2023,4,10,12,0,0),ndata=-1,level = 'raw.crop'); phi.saving(id,**kw); PHI.saving(id,**kw)\n",
    "# kw = RSfdt4.packing(DT(2023,4,10,13,0,0),ndata=-1,level = 'raw'); phi.saving(id,**kw); PHI.saving(id,**kw)\n",
    "# kw = RShrt4.compressing(DT(2023,4,10,22,30,0),ndata=-1,nbits=6,level = 'raw.crop.pack'); phi.saving(id,**kw); PHI.saving(id,**kw)\n",
    "# RShrt4, kw = flush_many(PHI,[800,800],72,RShrt4,DT(2023,4,26,22,0,0),6,-1,'raw.pack',id)\n",
    "for i in range(10):\n",
    "    kw = RShrt4.compressing(DT(2023,4,28,22,0,0)+TD(days=i),ndata=3,nbits=6,level = 'raw.crop.pack'); phi.saving(id,**kw); PHI.saving(id,**kw)\n",
    "\n",
    "# RShrt4, kw = flush_many(PHI,[300,300],72,RShrt4,DT(2023,5,3,22,0,0),6,-1,'raw.pack',id)\n",
    "\n",
    "########################################################\n",
    "printp(RShrt4, label='RS-burst HRT 4')\n",
    "# printp(RSfdt4, label='RS-burst FDT 4')"
   ]
  },
  {
   "cell_type": "markdown",
   "metadata": {},
   "source": [
    "## <span style=\"color:blue\">Nanoflares 4.5</span>\n",
    "crop 1536 and 100s cadence, CROP+PACK"
   ]
  },
  {
   "cell_type": "code",
   "execution_count": 14,
   "metadata": {},
   "outputs": [
    {
     "name": "stdout",
     "output_type": "stream",
     "text": [
      "Nanoflares HRT 4.5\n",
      "number of datasets: 21\n",
      "cadence: 60 mins\n",
      "duration: 3:01:00\n",
      "amount of raw-data at 32 bits: 8331.3 MiB, 396.7 MiB per dataset\n",
      "amount of pack-data at 16 bits: 4325.9 MiB, 206.0 MiB per dataset\n",
      "packing time: 0:31:30\n",
      "amount of compressed data + metadata at 6 bits: 1512.2 MiB, 72.0 MiB per dataset\n",
      "compressing (+ flushing) time: 3:31:25.087296\n",
      "amount of metadata:  192.018 MiB\n",
      "amount of memory usage: 12657.2 MiB\n",
      "\n"
     ]
    }
   ],
   "source": [
    "########################################################\n",
    "id = 2\n",
    "t0 = DT.fromisoformat('2023-04-11T21:04:00')\n",
    "t1 = DT.fromisoformat('2023-04-12T00:05:00')\n",
    "nanohrt45 = PHI_MODE('HRT')\n",
    "# nanofdt45 = PHI_MODE('FDT')\n",
    "crop = 2048\n",
    "\n",
    "kw = nanohrt45.observation(t0,18,cadence=100/60,shape=(2048,crop,4,6)); phi.saving(id,**kw); PHI.saving(id,**kw)\n",
    "kw = nanohrt45.observation(t0,t1,cadence=60,shape=(2048,2048,4,6)); phi.saving(id,**kw); PHI.saving(id,**kw)\n",
    "# kw = nanohrt45.cropping(DT(2023,4,12,7,0,0),crop=crop,ndata=-1,level = 'raw');# phi.saving(id,**kw); PHI.saving(id,**kw)\n",
    "kw = nanohrt45.packing(kw['end'],ndata=-1,level = 'raw'); phi.saving(id,**kw); PHI.saving(id,**kw)\n",
    "# kw = nanofdt45.packing(DT(2023,5,1,13,0,0),ndata=-1,level = 'raw'); phi.saving(id,**kw); PHI.saving(id,**kw)\n",
    "kw = nanohrt45.compressing(DT(2023,4,15,22,0,0),ndata=3,nbits=6,level = 'raw.pack'); phi.saving(id,**kw); PHI.saving(id,**kw)\n",
    "kw = nanohrt45.compressing(DT(2023,4,16,22,0,0),ndata=2,nbits=6,level = 'raw.pack'); phi.saving(id,**kw); PHI.saving(id,**kw)\n",
    "kw = nanohrt45.compressing(DT(2023,4,17,22,0,0),ndata=2,nbits=6,level = 'raw.pack'); phi.saving(id,**kw); PHI.saving(id,**kw)\n",
    "\n",
    "kw = nanohrt45.compressing(DT(2023,5,8,22,0,0),ndata=2,nbits=6,level = 'raw.pack'); phi.saving(id,**kw); PHI.saving(id,**kw)\n",
    "kw = nanohrt45.compressing(DT(2023,5,9,22,0,0),ndata=2,nbits=6,level = 'raw.pack'); phi.saving(id,**kw); PHI.saving(id,**kw)\n",
    "kw = nanohrt45.compressing(DT(2023,5,10,22,0,0),ndata=2,nbits=6,level = 'raw.pack'); phi.saving(id,**kw); PHI.saving(id,**kw)\n",
    "kw = nanohrt45.compressing(DT(2023,5,11,22,0,0),ndata=2,nbits=6,level = 'raw.pack'); phi.saving(id,**kw); PHI.saving(id,**kw)\n",
    "kw = nanohrt45.compressing(DT(2023,5,12,22,30,0),ndata=2,nbits=6,level = 'raw.pack'); phi.saving(id,**kw); PHI.saving(id,**kw)\n",
    "kw = nanohrt45.compressing(DT(2023,5,13,22,30,0),ndata=2,nbits=6,level = 'raw.pack'); phi.saving(id,**kw); PHI.saving(id,**kw)\n",
    "kw = nanohrt45.compressing(DT(2023,5,14,22,30,0),ndata=2,nbits=6,level = 'raw.pack'); phi.saving(id,**kw); PHI.saving(id,**kw)\n",
    "\n",
    "# nanohrt45, kw = flush_many(PHI,[250,250],40.5,nanohrt45,DT(2023,5,13,22,0,0),6,-1,'raw.crop.pack',id)\n",
    "\n",
    "########################################################\n",
    "printp(nanohrt45, label='Nanoflares HRT 4.5')\n",
    "# printp(nanofdt45, label='Nanoflares FDT 4.5')\n"
   ]
  },
  {
   "cell_type": "markdown",
   "metadata": {},
   "source": [
    "## <span style=\"color:green\">HRT Flat 3</span>"
   ]
  },
  {
   "cell_type": "code",
   "execution_count": 111,
   "metadata": {},
   "outputs": [
    {
     "name": "stdout",
     "output_type": "stream",
     "text": [
      "HRT FLAT 3 (11/04/2023)\n",
      "number of datasets: 11\n",
      "cadence: 15.0 mins\n",
      "duration: 0:15:00\n",
      "amount of raw-data at 32 bits: 4364.0 MiB, 396.7 MiB per dataset\n",
      "amount of pack-data at 16 bits: 206.0 MiB, 206.0 MiB per dataset\n",
      "packing time: 0:01:30\n",
      "amount of compressed data + metadata at 6 bits: 72.0 MiB, 72.0 MiB per dataset\n",
      "compressing (+ flushing) time: 0:10:04.051776\n",
      "amount of metadata:  16.009 MiB\n",
      "amount of memory usage: 4570.0 MiB\n",
      "\n"
     ]
    }
   ],
   "source": [
    "########################################################\n",
    "id = 2\n",
    "\n",
    "t0 = DT.fromisoformat('2023-04-11T12:00:00')\n",
    "t1 = DT.fromisoformat('2023-04-11T22:00:00')\n",
    "HRTflat2 = HRT_flat(PHI,t0,id,verbose=False)\n",
    "########################################################\n",
    "printp(HRTflat1, label=\"HRT FLAT 3 (11/04/2023)\")"
   ]
  },
  {
   "cell_type": "markdown",
   "metadata": {},
   "source": [
    "## <span style=\"color:blue\">Density Fluctuations</span>"
   ]
  },
  {
   "cell_type": "code",
   "execution_count": 112,
   "metadata": {},
   "outputs": [
    {
     "name": "stdout",
     "output_type": "stream",
     "text": [
      "Density Fluctuations\n",
      "number of datasets: 12\n",
      "cadence: 2 mins\n",
      "duration: 0:02:00\n",
      "amount of raw-data at 32 bits: 4760.7 MiB, 396.7 MiB per dataset\n",
      "amount of pack-data at 16 bits: 2471.9 MiB, 206.0 MiB per dataset\n",
      "packing time: 0:18:00\n",
      "amount of compressed data + metadata at 6 bits: 864.1 MiB, 72.0 MiB per dataset\n",
      "compressing (+ flushing) time: 2:00:48.621312\n",
      "amount of metadata:  16.009 MiB\n",
      "amount of memory usage: 7232.7 MiB\n",
      "\n"
     ]
    }
   ],
   "source": [
    "########################################################10\n",
    "id = 1\n",
    "t0 = DT.fromisoformat('2023-04-12T00:00:00')\n",
    "t1 = DT.fromisoformat('2023-04-15T00:00:00')\n",
    "DF = PHI_MODE('FDT')\n",
    "\n",
    "synoptic_raw(PHI,DF,t0,t1,360,(2048,2048,4,6),6,id)\n",
    "\n",
    "########################################################\n",
    "printp(DF, label='Density Fluctuations')\n"
   ]
  },
  {
   "cell_type": "markdown",
   "metadata": {},
   "source": [
    "## <span style=\"color:green\">FDT Flat 4</span>"
   ]
  },
  {
   "cell_type": "code",
   "execution_count": 114,
   "metadata": {},
   "outputs": [
    {
     "name": "stdout",
     "output_type": "stream",
     "text": [
      "FDT FLAT 4 (15/04/2023)\n",
      "number of datasets: 10\n",
      "cadence: 300.0 mins\n",
      "duration: 5:00:00\n",
      "amount of raw-data at 32 bits: 3967.3 MiB, 396.7 MiB per dataset\n",
      "amount of pack-data at 16 bits: 2059.9 MiB, 206.0 MiB per dataset\n",
      "packing time: 0:15:00\n",
      "amount of compressed data + metadata at 6 bits: 720.1 MiB, 72.0 MiB per dataset\n",
      "compressing (+ flushing) time: 1:40:40.517760\n",
      "amount of metadata:  80.081 MiB\n",
      "amount of memory usage: 6027.2 MiB\n",
      "\n"
     ]
    }
   ],
   "source": [
    "########################################################\n",
    "id = 2\n",
    "\n",
    "t0 = DT.fromisoformat('2023-04-15T00:00:00')\n",
    "t1 = DT.fromisoformat('2023-04-15T01:00:00')\n",
    "FDTflat4 = FDT_flat(PHI,t0,id,flush=DT(2023,4,15,20,15),verbose=False)\n",
    "kw = FDTflat4.packing(DT(2023,4,15,19,35,0),ndata=9,level = 'raw'); phi.saving(id,**kw); PHI.saving(id,**kw)\n",
    "kw = FDTflat4.compressing(DT(2023,4,15,20,25),ndata=9,nbits=6,level = 'raw.pack'); phi.saving(id,**kw); PHI.saving(id,**kw)\n",
    "\n",
    "########################################################\n",
    "printp(FDTflat2, label=\"FDT FLAT 4 (15/04/2023)\")"
   ]
  },
  {
   "cell_type": "markdown",
   "metadata": {},
   "source": [
    "## <span style=\"color:blue\">Nanoflares 5</span>\n",
    "\n",
    "<span style=\"color:red\">crop to 1536 px and cadence to 100s to save telemetry</span>"
   ]
  },
  {
   "cell_type": "code",
   "execution_count": 113,
   "metadata": {},
   "outputs": [
    {
     "name": "stdout",
     "output_type": "stream",
     "text": [
      "2023-05-20 22:00:00 WARNING: Compression, Exceeding the number of datasets, max should be 2\n",
      "Nanoflares HRT 5\n",
      "number of datasets: 20\n",
      "cadence: 60 mins\n",
      "duration: 2:30:00\n",
      "amount of raw-data at 32 bits: 7934.6 MiB, 396.7 MiB per dataset\n",
      "crop size: 1408\n",
      "amount of crop-data at 32 bits: 3814.7 MiB, 190.7 MiB per dataset\n",
      "cropping time: 0:23:20\n",
      "amount of pack-data at 16 bits: 1983.6 MiB, 99.2 MiB per dataset\n",
      "packing time: 0:30:00\n",
      "amount of compressed data + metadata at 6 bits: 714.8 MiB, 34.0 MiB per dataset\n",
      "compressing (+ flushing) time: 1:39:56.483136\n",
      "amount of metadata:  336.027 MiB\n",
      "amount of memory usage: 13732.9 MiB\n",
      "\n"
     ]
    }
   ],
   "source": [
    "########################################################\n",
    "id = 2\n",
    "t0 = DT.fromisoformat('2023-04-15T02:00:00')\n",
    "t1 = DT.fromisoformat('2023-04-15T05:00:00')\n",
    "nanohrt5 = PHI_MODE('HRT')\n",
    "# nanofdt5 = PHI_MODE('FDT')\n",
    "crop = 1408\n",
    "\n",
    "kw = nanohrt5.observation(t0,18,cadence=100/60,shape=(2048,2048,4,6)); phi.saving(id,**kw); PHI.saving(id,**kw)\n",
    "kw = nanohrt5.observation(t0+TD(minutes=30),t1,cadence=60,shape=(2048,2048,4,6)); phi.saving(id,**kw); PHI.saving(id,**kw)\n",
    "kw = nanohrt5.cropping(DT(2023,4,15,4,30,0),crop=crop,ndata=-1,level = 'raw');# phi.saving(id,**kw); PHI.saving(id,**kw)\n",
    "kw = nanohrt5.packing(DT(2023,4,15,5,30,0),ndata=-1,level = 'raw.crop'); phi.saving(id,**kw); PHI.saving(id,**kw)\n",
    "# kw = nanofdt5.packing(DT(2023,4,15,6,30,0),ndata=-1,level = 'raw'); phi.saving(id,**kw); PHI.saving(id,**kw)\n",
    "# kw = nanohrt5.compressing(DT(2023,4,15,21,55,0),ndata=3,nbits=6,level = 'raw.crop.pack'); phi.saving(id,**kw); PHI.saving(id,**kw)\n",
    "# nanohrt5, kw = flush_many(PHI,[1200,1200],72,nanohrt5,DT(2023,4,15,22,0,0),6,-1,'raw.pack',id)\n",
    "for i in range(7):\n",
    "    kw = nanohrt5.compressing(DT(2023,5,15,22,0,0)+TD(days=i),ndata=3,nbits=6,level = 'raw.crop.pack'); phi.saving(id,**kw); PHI.saving(id,**kw)\n",
    "\n",
    "# nanohrt3, kw = flush_many(PHI,[300,300],72,nanohrt5,DT(2023,5,20,22,0,0),6,-1,'raw.pack',id)\n",
    "\n",
    "########################################################\n",
    "printp(nanohrt5, label='Nanoflares HRT 5')\n",
    "# printp(nanofdt5, label='Nanoflares FDT 5')\n"
   ]
  },
  {
   "cell_type": "markdown",
   "metadata": {},
   "source": [
    "## <span style=\"color:blue\">Connection Mosaic 2</span>"
   ]
  },
  {
   "cell_type": "code",
   "execution_count": 115,
   "metadata": {},
   "outputs": [
    {
     "name": "stdout",
     "output_type": "stream",
     "text": [
      "Connection Mosaic 2\n",
      "number of datasets: 12\n",
      "cadence: 2 mins\n",
      "duration: 0:02:00\n",
      "amount of raw-data at 32 bits: 4760.7 MiB, 396.7 MiB per dataset\n",
      "amount of pack-data at 16 bits: 2471.9 MiB, 206.0 MiB per dataset\n",
      "packing time: 0:18:00\n",
      "amount of compressed data + metadata at 6 bits: 864.1 MiB, 72.0 MiB per dataset\n",
      "compressing (+ flushing) time: 2:00:48.621312\n",
      "amount of metadata:  16.009 MiB\n",
      "amount of memory usage: 7232.7 MiB\n",
      "\n"
     ]
    }
   ],
   "source": [
    "########################################################\n",
    "id = 2\n",
    "t0 = DT.fromisoformat('2023-04-15T16:00:00')\n",
    "t1 = DT.fromisoformat('2023-04-17T16:18:51')\n",
    "CM2 = PHI_MODE('HRT')\n",
    "\n",
    "synoptic_raw(PHI,CM2,t0,t1,240,(2048,2048,4,6),6,id)\n",
    "\n",
    "########################################################\n",
    "printp(CM2, label='Connection Mosaic 2')\n"
   ]
  },
  {
   "cell_type": "markdown",
   "metadata": {},
   "source": [
    "## <span style=\"color:green\">HRT Flat 4</span>"
   ]
  },
  {
   "cell_type": "code",
   "execution_count": 116,
   "metadata": {},
   "outputs": [
    {
     "name": "stdout",
     "output_type": "stream",
     "text": [
      "HRT FLAT 4 (16/04/2023)\n",
      "number of datasets: 11\n",
      "cadence: 15.0 mins\n",
      "duration: 0:15:00\n",
      "amount of raw-data at 32 bits: 4364.0 MiB, 396.7 MiB per dataset\n",
      "amount of pack-data at 16 bits: 206.0 MiB, 206.0 MiB per dataset\n",
      "packing time: 0:01:30\n",
      "amount of compressed data + metadata at 6 bits: 72.0 MiB, 72.0 MiB per dataset\n",
      "compressing (+ flushing) time: 0:10:04.051776\n",
      "amount of metadata:  16.009 MiB\n",
      "amount of memory usage: 4570.0 MiB\n",
      "\n"
     ]
    }
   ],
   "source": [
    "########################################################\n",
    "id = 2\n",
    "\n",
    "t0 = DT.fromisoformat('2023-04-18T00:00:00')\n",
    "t1 = DT.fromisoformat('2023-04-18T10:00:00')\n",
    "HRTflat4 = HRT_flat(PHI,t0,id,flush=DT(2023,4,18,23,0,0),verbose=False)\n",
    "########################################################\n",
    "printp(HRTflat4, label=\"HRT FLAT 4 (16/04/2023)\")"
   ]
  },
  {
   "cell_type": "code",
   "execution_count": 117,
   "metadata": {},
   "outputs": [
    {
     "data": {
      "image/png": "[encoded data removed]",
      "text/plain": [
       "<Figure size 1080x576 with 2 Axes>"
      ]
     },
     "metadata": {
      "needs_background": "light"
     },
     "output_type": "display_data"
    }
   ],
   "source": [
    "xlim = (DT(2023,3,14,0,0,0),DT(2023,5,30,0,0,0))\n",
    "plot_tot(PHI, xlim=xlim, ylim=(0,250), time_ord=True)\n"
   ]
  },
  {
   "cell_type": "code",
   "execution_count": 118,
   "metadata": {},
   "outputs": [
    {
     "name": "stderr",
     "output_type": "stream",
     "text": [
      "/tmp/ipykernel_88733/542977430.py:217: UserWarning: marker is redundantly defined by the 'marker' keyword argument and the fmt string \"o\" (-> marker='o'). The keyword argument will take precedence.\n",
      "  plt.plot_date(times,newc1+newc2,color='black',linestyle='-',marker='.',label='total: '+str(round(total,1))+' GB')\n"
     ]
    },
    {
     "data": {
      "image/png": "[encoded data removed]",
      "text/plain": [
       "<Figure size 1080x864 with 1 Axes>"
      ]
     },
     "metadata": {
      "needs_background": "light"
     },
     "output_type": "display_data"
    }
   ],
   "source": [
    "xlim = (DT(2023,3,14,0,0,0),DT(2023,5,5,0,0,0))\n",
    "plot_flush_per_day(PHI,xlim)"
   ]
  },
  {
   "cell_type": "markdown",
   "metadata": {},
   "source": [
    "# <span style=\"color:magenta\">*RSW 9*</span>"
   ]
  },
  {
   "cell_type": "markdown",
   "metadata": {},
   "source": [
    "## <span style=\"color:blue\">Coronal Dynamics 2</span>"
   ]
  },
  {
   "cell_type": "code",
   "execution_count": 119,
   "metadata": {},
   "outputs": [
    {
     "name": "stdout",
     "output_type": "stream",
     "text": [
      "Coronal Dynamics 2\n",
      "number of datasets: 12\n",
      "cadence: 2 mins\n",
      "duration: 0:02:00\n",
      "amount of raw-data at 32 bits: 3845.2 MiB, 320.4 MiB per dataset\n",
      "crop size: 1664\n",
      "amount of crop-data at 32 bits: 3204.3 MiB, 267.0 MiB per dataset\n",
      "cropping time: 0:14:00\n",
      "amount of pack-data at 16 bits: 1647.9 MiB, 137.3 MiB per dataset\n",
      "packing time: 0:18:00\n",
      "amount of compressed data + metadata at 6 bits: 570.5 MiB, 47.5 MiB per dataset\n",
      "compressing (+ flushing) time: 1:19:45.516288\n",
      "amount of metadata:  24.009 MiB\n",
      "amount of memory usage: 8697.5 MiB\n",
      "\n"
     ]
    }
   ],
   "source": [
    "########################################################\n",
    "id = 1\n",
    "t0 = DT.fromisoformat('2023-04-20T00:00:00')\n",
    "t1 = DT.fromisoformat('2023-04-21T00:00:00')\n",
    "CD2 = PHI_MODE('FDT')\n",
    "\n",
    "synoptic_raw(PHI,CD2,t0,t1,120,(2048,1664,4,6),6,id)\n",
    "\n",
    "########################################################\n",
    "printp(CD2, label='Coronal Dynamics 2')\n"
   ]
  },
  {
   "attachments": {},
   "cell_type": "markdown",
   "metadata": {},
   "source": [
    "## <span style=\"color:blue\">Slow Wind Connection 2</span>\n",
    "\n",
    "<span style=\"color:red\">crop or lower cadence to save telemetry</span>\n",
    "\n",
    "2 datasets per day, one beginning and one end of EUI burst\n"
   ]
  },
  {
   "cell_type": "code",
   "execution_count": 120,
   "metadata": {},
   "outputs": [
    {
     "name": "stdout",
     "output_type": "stream",
     "text": [
      "Slow Wind Connection 2\n",
      "number of datasets: 8\n",
      "cadence: 60 mins\n",
      "duration: 2:00:00\n",
      "amount of raw-data at 32 bits: 3173.8 MiB, 396.7 MiB per dataset\n",
      "amount of pack-data at 16 bits: 1647.9 MiB, 206.0 MiB per dataset\n",
      "packing time: 0:12:00\n",
      "amount of compressed data + metadata at 6 bits: 576.1 MiB, 72.0 MiB per dataset\n",
      "compressing (+ flushing) time: 1:20:32.414208\n",
      "amount of metadata:  32.018 MiB\n",
      "amount of memory usage: 4821.8 MiB\n",
      "\n"
     ]
    }
   ],
   "source": [
    "########################################################\n",
    "id = 2\n",
    "t0 = DT.fromisoformat('2023-04-21T06:45:00')\n",
    "t1 = DT.fromisoformat('2023-04-24T21:00:00')\n",
    "SW2 = PHI_MODE('HRT')\n",
    "\n",
    "kw = SW2.observation(t0,2,cadence=60,shape=(2048,2048,4,6)); phi.saving(id,**kw); PHI.saving(id,**kw)\n",
    "kw = SW2.packing(kw['end']+TD(minutes=10),ndata=-1,level = 'raw'); phi.saving(id,**kw); PHI.saving(id,**kw)\n",
    "# kw = SW2.compressing(kw['end']+TD(minutes=10),ndata=-1,nbits=6,level = 'raw.pack'); phi.saving(id,**kw); PHI.saving(id,**kw)\n",
    "kw = SW2.compressing(kw['end']+TD(minutes=10),ndata=2,nbits=6,level = 'raw.pack'); phi.saving(id,**kw); PHI.saving(id,**kw)\n",
    "\n",
    "kw = SW2.observation(t0+TD(days=1),2,cadence=60,shape=(2048,2048,4,6)); phi.saving(id,**kw); PHI.saving(id,**kw)\n",
    "kw = SW2.packing(kw['end']+TD(minutes=10),ndata=-1,level = 'raw'); phi.saving(id,**kw); PHI.saving(id,**kw)\n",
    "# kw = SW2.compressing(kw['end']+TD(minutes=10),ndata=-1,nbits=6,level = 'raw.pack'); phi.saving(id,**kw); PHI.saving(id,**kw)\n",
    "kw = SW2.compressing(kw['end']+TD(minutes=10),ndata=2,nbits=6,level = 'raw.pack'); phi.saving(id,**kw); PHI.saving(id,**kw)\n",
    "\n",
    "kw = SW2.observation(t0+TD(days=2),2,cadence=60,shape=(2048,2048,4,6)); phi.saving(id,**kw); PHI.saving(id,**kw)\n",
    "kw = SW2.packing(kw['end']+TD(minutes=10),ndata=-1,level = 'raw'); phi.saving(id,**kw); PHI.saving(id,**kw)\n",
    "# kw = SW2.compressing(kw['end']+TD(minutes=10),ndata=-1,nbits=6,level = 'raw.pack'); phi.saving(id,**kw); PHI.saving(id,**kw)\n",
    "kw = SW2.compressing(kw['end']+TD(minutes=10),ndata=2,nbits=6,level = 'raw.pack'); phi.saving(id,**kw); PHI.saving(id,**kw)\n",
    "\n",
    "kw = SW2.observation(t0+TD(days=3),2,cadence=60,shape=(2048,2048,4,6)); phi.saving(id,**kw); PHI.saving(id,**kw)\n",
    "kw = SW2.packing(kw['end']+TD(minutes=10),ndata=-1,level = 'raw'); phi.saving(id,**kw); PHI.saving(id,**kw)\n",
    "# kw = SW2.compressing(kw['end']+TD(minutes=10),ndata=-1,nbits=6,level = 'raw.pack'); phi.saving(id,**kw); PHI.saving(id,**kw)\n",
    "kw = SW2.compressing(kw['end']+TD(minutes=10),ndata=2,nbits=6,level = 'raw.pack'); phi.saving(id,**kw); PHI.saving(id,**kw)\n",
    "\n",
    "# kw = SW2.compressing(DT(2023,4,25,22,0,0),ndata=2,nbits=6,level = 'raw.pack'); phi.saving(id,**kw); PHI.saving(id,**kw)\n",
    "# kw = SW2.compressing(DT(2023,4,26,22,0,0),ndata=2,nbits=6,level = 'raw.pack'); phi.saving(id,**kw); PHI.saving(id,**kw)\n",
    "# kw = SW2.compressing(DT(2023,4,27,22,0,0),ndata=2,nbits=6,level = 'raw.pack'); phi.saving(id,**kw); PHI.saving(id,**kw)\n",
    "# kw = SW2.compressing(DT(2023,4,28,22,0,0),ndata=4,nbits=6,level = 'raw.pack'); phi.saving(id,**kw); PHI.saving(id,**kw)\n",
    "# kw = SW2.compressing(DT(2023,4,29,22,0,0),ndata=4,nbits=6,level = 'raw.pack'); phi.saving(id,**kw); PHI.saving(id,**kw)\n",
    "# kw = SW2.compressing(DT(2023,4,30,22,0,0),ndata=4,nbits=6,level = 'raw.pack'); phi.saving(id,**kw); PHI.saving(id,**kw)\n",
    "# kw = SW2.compressing(DT(2023,5,1,22,0,0),ndata=4,nbits=6,level = 'raw.pack'); phi.saving(id,**kw); PHI.saving(id,**kw)\n",
    "# kw = SW2.compressing(DT(2023,5,2,22,0,0),ndata=4,nbits=6,level = 'raw.pack'); phi.saving(id,**kw); PHI.saving(id,**kw)\n",
    "\n",
    "########################################################\n",
    "printp(SW2, label='Slow Wind Connection 2')\n"
   ]
  },
  {
   "cell_type": "markdown",
   "metadata": {},
   "source": [
    "## <span style=\"color:blue\">Polar Observations 2</span>"
   ]
  },
  {
   "cell_type": "code",
   "execution_count": 121,
   "metadata": {},
   "outputs": [
    {
     "name": "stdout",
     "output_type": "stream",
     "text": [
      "Polar observations 2\n",
      "number of datasets: 12\n",
      "cadence: 5 mins\n",
      "duration: 1:00:00\n",
      "amount of raw-data at 32 bits: 4760.7 MiB, 396.7 MiB per dataset\n",
      "amount of pack-data at 16 bits: 2471.9 MiB, 206.0 MiB per dataset\n",
      "packing time: 0:18:00\n",
      "amount of compressed data + metadata at 6 bits: 864.1 MiB, 72.0 MiB per dataset\n",
      "compressing (+ flushing) time: 2:00:48.621312\n",
      "amount of metadata:  192.009 MiB\n",
      "amount of memory usage: 7232.7 MiB\n",
      "\n"
     ]
    }
   ],
   "source": [
    "########################################################\n",
    "id = 2\n",
    "t0 = DT.fromisoformat('2023-04-24T21:00:00')\n",
    "t1 = DT.fromisoformat('2023-04-25T00:00:00')\n",
    "polar2 = PHI_MODE('HRT')\n",
    "\n",
    "kw = polar2.observation(t0,12,cadence=5,shape=(2048,2048,4,6)); phi.saving(id,**kw); PHI.saving(id,**kw)\n",
    "kw = polar2.packing(kw['end']+TD(minutes=10),ndata=-1,level = 'raw'); phi.saving(id,**kw); PHI.saving(id,**kw)\n",
    "kw = polar2.compressing(DT(2023,5,22,22,0,0),ndata=1,nbits=6,level = 'raw.pack'); phi.saving(id,**kw); PHI.saving(id,**kw)\n",
    "kw = polar2.compressing(DT(2023,5,23,22,0,0),ndata=1,nbits=6,level = 'raw.pack'); phi.saving(id,**kw); PHI.saving(id,**kw)\n",
    "kw = polar2.compressing(DT(2023,5,24,22,0,0),ndata=1,nbits=6,level = 'raw.pack'); phi.saving(id,**kw); PHI.saving(id,**kw)\n",
    "kw = polar2.compressing(DT(2023,5,25,22,0,0),ndata=1,nbits=6,level = 'raw.pack'); phi.saving(id,**kw); PHI.saving(id,**kw)\n",
    "kw = polar2.compressing(DT(2023,5,26,22,0,0),ndata=1,nbits=6,level = 'raw.pack'); phi.saving(id,**kw); PHI.saving(id,**kw)\n",
    "kw = polar2.compressing(DT(2023,5,27,22,0,0),ndata=1,nbits=6,level = 'raw.pack'); phi.saving(id,**kw); PHI.saving(id,**kw)\n",
    "kw = polar2.compressing(DT(2023,5,28,22,0,0),ndata=1,nbits=6,level = 'raw.pack'); phi.saving(id,**kw); PHI.saving(id,**kw)\n",
    "kw = polar2.compressing(DT(2023,5,29,22,0,0),ndata=1,nbits=6,level = 'raw.pack'); phi.saving(id,**kw); PHI.saving(id,**kw)\n",
    "kw = polar2.compressing(DT(2023,5,30,22,0,0),ndata=1,nbits=6,level = 'raw.pack'); phi.saving(id,**kw); PHI.saving(id,**kw)\n",
    "kw = polar2.compressing(DT(2023,5,31,22,0,0),ndata=1,nbits=6,level = 'raw.pack'); phi.saving(id,**kw); PHI.saving(id,**kw)\n",
    "kw = polar2.compressing(DT(2023,6,1,22,0,0),ndata=1,nbits=6,level = 'raw.pack'); phi.saving(id,**kw); PHI.saving(id,**kw)\n",
    "kw = polar2.compressing(DT(2023,6,2,22,0,0),ndata=1,nbits=6,level = 'raw.pack'); phi.saving(id,**kw); PHI.saving(id,**kw)\n",
    "\n",
    "########################################################\n",
    "printp(polar2, label='Polar observations 2')\n"
   ]
  },
  {
   "cell_type": "markdown",
   "metadata": {},
   "source": [
    "# <span style=\"color:white\">*out of RSWs*</span>"
   ]
  },
  {
   "cell_type": "markdown",
   "metadata": {},
   "source": [
    "## <span style=\"color:green\">FDT Flat 5</span>"
   ]
  },
  {
   "cell_type": "code",
   "execution_count": 122,
   "metadata": {},
   "outputs": [
    {
     "name": "stdout",
     "output_type": "stream",
     "text": [
      "FDT FLAT 5 (06/04/2023)\n",
      "number of datasets: 10\n",
      "cadence: 300.0 mins\n",
      "duration: 5:00:00\n",
      "amount of raw-data at 32 bits: 3967.3 MiB, 396.7 MiB per dataset\n",
      "amount of pack-data at 16 bits: 206.0 MiB, 206.0 MiB per dataset\n",
      "packing time: 0:01:30\n",
      "amount of compressed data + metadata at 6 bits: 72.0 MiB, 72.0 MiB per dataset\n",
      "compressing (+ flushing) time: 0:10:04.051776\n",
      "amount of metadata:  16.009 MiB\n",
      "amount of memory usage: 4173.3 MiB\n",
      "\n"
     ]
    }
   ],
   "source": [
    "########################################################\n",
    "id = 2\n",
    "\n",
    "t0 = DT.fromisoformat('2023-04-25T10:00:00')\n",
    "t1 = DT.fromisoformat('2023-04-25T11:00:00')\n",
    "FDTflat3 = FDT_flat(PHI,t0,id,DT(2023,4,26,1,0,0),verbose=False)\n",
    "########################################################\n",
    "printp(FDTflat3, label=\"FDT FLAT 5 (06/04/2023)\")"
   ]
  },
  {
   "cell_type": "markdown",
   "metadata": {},
   "source": [
    "## <span style=\"color:green\">HRT Flat 5</span>"
   ]
  },
  {
   "cell_type": "code",
   "execution_count": 123,
   "metadata": {},
   "outputs": [
    {
     "name": "stdout",
     "output_type": "stream",
     "text": [
      "HRT FLAT 5 (25/04/2023)\n",
      "number of datasets: 11\n",
      "cadence: 15.0 mins\n",
      "duration: 0:15:00\n",
      "amount of raw-data at 32 bits: 4364.0 MiB, 396.7 MiB per dataset\n",
      "amount of pack-data at 16 bits: 206.0 MiB, 206.0 MiB per dataset\n",
      "packing time: 0:01:30\n",
      "amount of compressed data + metadata at 6 bits: 72.0 MiB, 72.0 MiB per dataset\n",
      "compressing (+ flushing) time: 0:10:04.051776\n",
      "amount of metadata:  16.009 MiB\n",
      "amount of memory usage: 4570.0 MiB\n",
      "\n"
     ]
    }
   ],
   "source": [
    "########################################################\n",
    "id = 2\n",
    "\n",
    "t0 = DT.fromisoformat('2023-04-25T11:00:00')\n",
    "t1 = DT.fromisoformat('2023-04-25T21:00:00')\n",
    "HRTflat5 = HRT_flat(PHI,t0,id,verbose=False)\n",
    "########################################################\n",
    "printp(HRTflat4, label=\"HRT FLAT 5 (25/04/2023)\")"
   ]
  },
  {
   "cell_type": "markdown",
   "metadata": {},
   "source": [
    "## <span style=\"color:green\">Synoptic</span>\n",
    "\n",
    "CROP+PACK\n",
    "\n",
    "<span style=\"color:red\">cadence to 4h to save telemetry</span>"
   ]
  },
  {
   "cell_type": "code",
   "execution_count": 9,
   "metadata": {},
   "outputs": [
    {
     "name": "stdout",
     "output_type": "stream",
     "text": [
      "Synoptic\n",
      "number of datasets: 20\n",
      "cadence: 360 mins\n",
      "duration: 5 days, 0:00:00\n",
      "amount of raw-data at 32 bits: 5493.2 MiB, 274.7 MiB per dataset\n",
      "amount of metadata:  160 MiB\n",
      "amount of memory usage: 5493.2 MiB\n",
      "\n"
     ]
    }
   ],
   "source": [
    "# ########################################################\n",
    "# id = 2\n",
    "# t0 = DT.fromisoformat('2023-04-26T00:00:00')\n",
    "# t1 = DT.fromisoformat('2023-05-04T00:00:00')\n",
    "# DF = PHI_MODE('FDT')\n",
    "\n",
    "# synoptic_raw(PHI,DF,t0,t1,240,(2048,1280,4,6),6,id,crop_pack=True)\n",
    "\n",
    "# ########################################################\n",
    "# printp(DF, label='Synoptic')\n",
    "\n",
    "########################################################\n",
    "id = 2\n",
    "t0 = DT.fromisoformat('2023-04-26T00:00:00')\n",
    "t1 = DT.fromisoformat('2023-05-02T00:00:00')\n",
    "DF = PHI_MODE('FDT')\n",
    "kw = DF.observation(t0,t1,360,(2048,1408,4,6)); PHI.saving(2,**kw)\n",
    "\n",
    "t0 = DT.fromisoformat('2023-05-02T00:00:00')\n",
    "t1 = DT.fromisoformat('2023-05-15T00:00:00')\n",
    "DF = PHI_MODE('FDT')\n",
    "\n",
    "kw = DF.observation(t0,t1,360,(2048,1280,4,6)); PHI.saving(2,**kw)\n",
    "\n",
    "t0 = DT.fromisoformat('2023-05-15T00:00:00')\n",
    "t1 = DT.fromisoformat('2023-05-24T00:00:00')\n",
    "DF = PHI_MODE('FDT')\n",
    "\n",
    "kw = DF.observation(t0,t1,360,(2048,1024,4,6)); PHI.saving(2,**kw)\n",
    "\n",
    "t0 = DT.fromisoformat('2023-05-24T00:00:00')\n",
    "t1 = DT.fromisoformat('2023-06-16T00:00:00')\n",
    "DF = PHI_MODE('FDT')\n",
    "\n",
    "kw = DF.observation(t0,t1,360,(2048,896,4,6)); PHI.saving(2,**kw)\n",
    "\n",
    "t0 = DT.fromisoformat('2023-06-16T00:00:00')\n",
    "t1 = DT.fromisoformat('2023-08-06T00:00:00')\n",
    "DF = PHI_MODE('FDT')\n",
    "\n",
    "kw = DF.observation(t0,t1,360,(2048,768,4,6),); PHI.saving(2,**kw)\n",
    "\n",
    "t0 = DT.fromisoformat('2023-08-06T00:00:00')\n",
    "t1 = DT.fromisoformat('2023-08-26T00:00:00')\n",
    "DF = PHI_MODE('FDT')\n",
    "\n",
    "kw = DF.observation(t0,t1,360,(2048,896,4,6),); PHI.saving(2,**kw)\n",
    "\n",
    "t0 = DT.fromisoformat('2023-08-26T00:00:00')\n",
    "t1 = DT.fromisoformat('2023-09-06T00:00:00')\n",
    "DF = PHI_MODE('FDT')\n",
    "\n",
    "kw = DF.observation(t0,t1,360,(2048,1024,4,6),); PHI.saving(2,**kw)\n",
    "\n",
    "t0 = DT.fromisoformat('2023-09-06T00:00:00')\n",
    "t1 = DT.fromisoformat('2023-09-18T00:00:00')\n",
    "DF = PHI_MODE('FDT')\n",
    "\n",
    "kw = DF.observation(t0,t1,360,(2048,1280,4,6)); PHI.saving(2,**kw)\n",
    "\n",
    "t0 = DT.fromisoformat('2023-09-18T00:00:00')\n",
    "t1 = DT.fromisoformat('2023-09-23T00:00:00')\n",
    "DF = PHI_MODE('FDT')\n",
    "\n",
    "kw = DF.observation(t0,t1,360,(2048,1408,4,6)); PHI.saving(2,**kw)\n",
    "########################################################\n",
    "printp(DF, label='Synoptic')"
   ]
  },
  {
   "cell_type": "markdown",
   "metadata": {},
   "source": [
    "## <span style=\"color:green\">Synoptic</span>\n",
    "\n",
    "3h cadence"
   ]
  },
  {
   "cell_type": "code",
   "execution_count": 43,
   "metadata": {},
   "outputs": [
    {
     "name": "stdout",
     "output_type": "stream",
     "text": [
      "Synoptic\n",
      "number of datasets: 95\n",
      "cadence: 2 mins\n",
      "duration: 0:02:00\n",
      "amount of raw-data at 32 bits: 17395.0 MiB, 183.1 MiB per dataset\n",
      "crop size: 896\n",
      "amount of crop-data at 32 bits: 7972.7 MiB, 83.9 MiB per dataset\n",
      "cropping time: 0:55:25\n",
      "amount of processed data (and intermediate data) at 16 bits: 1449.6 MiB, 15.3 MiB per dataset\n",
      "processing time: 2 days, 7:25:00\n",
      "amount of compressed data + metadata at 6 bits: 188.1 MiB, 2.0 MiB per dataset\n",
      "compressing (+ flushing) time: 0:26:18.015360\n",
      "amount of metadata:  24.27 MiB\n",
      "amount of memory usage: 26817.3 MiB\n",
      "\n"
     ]
    }
   ],
   "source": [
    "# ########################################################\n",
    "# id = 2\n",
    "# t0 = DT.fromisoformat('2023-05-04T04:00:00')\n",
    "# t1 = DT.fromisoformat('2023-05-20T00:00:00')\n",
    "# DF = PHI_MODE('FDT')\n",
    "# crop = 1536\n",
    "\n",
    "# synoptic_raw(PHI,DF,t0,t1,240,(2048,crop,4,6),6,id)\n",
    "\n",
    "# ########################################################\n",
    "# printp(DF, label='Synoptic')\n"
   ]
  },
  {
   "cell_type": "markdown",
   "metadata": {},
   "source": [
    "## <span style=\"color:magenta\">***RESET NAND 2***</span>"
   ]
  },
  {
   "cell_type": "code",
   "execution_count": 126,
   "metadata": {},
   "outputs": [],
   "source": [
    "# print('amount of compressed data + metadata in partition 2:',round(PHI.part2.compr*1e-3,2), 'GB')\n",
    "# PHI.format_partition(2,DT(2023,5,20,0,10,0))"
   ]
  },
  {
   "cell_type": "code",
   "execution_count": 127,
   "metadata": {},
   "outputs": [],
   "source": [
    "# ########################################################\n",
    "# id = 2\n",
    "# t0 = DT.fromisoformat('2023-05-20T04:00:00')\n",
    "# t1 = DT.fromisoformat('2023-08-02T00:00:00')\n",
    "# DF = PHI_MODE('FDT')\n",
    "\n",
    "# synoptic_raw(PHI,DF,t0,t1,240,(2048,1024,4,6),6,id)\n",
    "\n",
    "# ########################################################\n",
    "# printp(DF, label='Synoptic')\n"
   ]
  },
  {
   "cell_type": "markdown",
   "metadata": {},
   "source": [
    "# <span style=\"color:yellow\">PLOTS</span>\n",
    "\n",
    "We should try to format partition two at some point, in this way we could add more FDT synoptic during and after RSWs.\n",
    "\n",
    "Implementing CROP+Pack would save ~70 GB of memory in NAND1"
   ]
  },
  {
   "cell_type": "code",
   "execution_count": 10,
   "metadata": {},
   "outputs": [
    {
     "data": {
      "image/png": "[encoded data removed]",
      "text/plain": [
       "<Figure size 1080x576 with 2 Axes>"
      ]
     },
     "metadata": {
      "needs_background": "light"
     },
     "output_type": "display_data"
    }
   ],
   "source": [
    "xlim = (DT(2023,3,14,0,0,0),DT(2023,9,26,0,0,0))\n",
    "plot_tot(PHI, xlim=xlim, ylim=(0,250), time_ord=True)\n",
    "# plt.savefig('/home/calchetti/MPStemp/pics/TM/total_v5.1.png')\n",
    "\n",
    "# fname = '/home/calchetti/MPStemp/PHI_TMtool/TM_NMP1_v2.csv'\n",
    "# PHI.save(fname)"
   ]
  },
  {
   "cell_type": "code",
   "execution_count": 129,
   "metadata": {},
   "outputs": [
    {
     "name": "stderr",
     "output_type": "stream",
     "text": [
      "/tmp/ipykernel_88733/542977430.py:217: UserWarning: marker is redundantly defined by the 'marker' keyword argument and the fmt string \"o\" (-> marker='o'). The keyword argument will take precedence.\n",
      "  plt.plot_date(times,newc1+newc2,color='black',linestyle='-',marker='.',label='total: '+str(round(total,1))+' GB')\n"
     ]
    },
    {
     "data": {
      "image/png": "[encoded data removed]",
      "text/plain": [
       "<Figure size 1080x864 with 1 Axes>"
      ]
     },
     "metadata": {
      "needs_background": "light"
     },
     "output_type": "display_data"
    }
   ],
   "source": [
    "xlim = (DT(2023,3,15,0,0,0),DT(2023,8,13,0,0,0))\n",
    "tt, tm1, tm2 = plot_flush_per_day(PHI,xlim,values=True)\n",
    "# 1 GB = 2.2h of flushing"
   ]
  },
  {
   "cell_type": "code",
   "execution_count": 130,
   "metadata": {},
   "outputs": [
    {
     "name": "stdout",
     "output_type": "stream",
     "text": [
      "DATE\tFLUSH NAND-1 (MiB)\tFLUSH NAND-2 (MiB)\n",
      "2023-02-08\t0\t0\n",
      "2023-02-09\t0\t0\n",
      "2023-02-10\t0\t0\n",
      "2023-02-11\t0\t0\n",
      "2023-02-12\t0\t0\n",
      "2023-02-13\t0\t0\n",
      "2023-02-14\t1412\t0\n",
      "2023-02-15\t1412\t0\n",
      "2023-02-16\t1412\t0\n",
      "2023-02-17\t1412\t0\n",
      "2023-02-18\t1412\t0\n",
      "2023-02-19\t254\t0\n",
      "2023-02-20\t0\t0\n",
      "2023-02-21\t0\t0\n",
      "2023-02-22\t0\t1412\n",
      "2023-02-23\t0\t1412\n",
      "2023-02-24\t0\t1412\n",
      "2023-02-25\t0\t1412\n",
      "2023-02-26\t0\t1412\n",
      "2023-02-27\t0\t254\n",
      "2023-02-28\t0\t0\n",
      "2023-03-01\t0\t0\n",
      "2023-03-02\t0\t0\n",
      "2023-03-03\t0\t0\n",
      "2023-03-04\t0\t0\n",
      "2023-03-05\t0\t0\n",
      "2023-03-06\t0\t0\n",
      "2023-03-07\t0\t0\n",
      "2023-03-08\t0\t0\n",
      "2023-03-09\t0\t0\n",
      "2023-03-10\t0\t0\n",
      "2023-03-11\t0\t0\n",
      "2023-03-12\t0\t0\n",
      "2023-03-13\t0\t0\n",
      "2023-03-14\t0\t0\n",
      "2023-03-15\t0\t216\n",
      "2023-03-16\t0\t0\n",
      "2023-03-17\t0\t0\n",
      "2023-03-18\t0\t0\n",
      "2023-03-19\t0\t0\n",
      "2023-03-20\t0\t288\n",
      "2023-03-21\t0\t72\n",
      "2023-03-22\t0\t1872\n",
      "2023-03-23\t0\t162\n",
      "2023-03-24\t0\t162\n",
      "2023-03-25\t0\t162\n",
      "2023-03-26\t0\t162\n",
      "2023-03-27\t0\t1377\n",
      "2023-03-28\t0\t0\n",
      "2023-03-29\t0\t108\n",
      "2023-03-30\t2042\t0\n",
      "2023-03-31\t1021\t0\n",
      "2023-04-01\t1021\t0\n",
      "2023-04-02\t1453\t72\n",
      "2023-04-03\t2605\t0\n",
      "2023-04-04\t1314\t102\n",
      "2023-04-05\t1615\t0\n",
      "2023-04-06\t1093\t0\n",
      "2023-04-07\t360\t102\n",
      "2023-04-08\t216\t0\n",
      "2023-04-09\t0\t288\n",
      "2023-04-10\t0\t0\n",
      "2023-04-11\t0\t72\n",
      "2023-04-12\t288\t204\n",
      "2023-04-13\t288\t204\n",
      "2023-04-14\t288\t204\n",
      "2023-04-15\t0\t1080\n",
      "2023-04-16\t0\t576\n",
      "2023-04-17\t0\t432\n",
      "2023-04-18\t0\t276\n",
      "2023-04-19\t0\t204\n",
      "2023-04-20\t570\t204\n",
      "2023-04-21\t0\t144\n",
      "2023-04-22\t0\t144\n",
      "2023-04-23\t0\t144\n",
      "2023-04-24\t0\t144\n",
      "2023-04-25\t0\t72\n",
      "2023-04-26\t0\t72\n",
      "2023-04-27\t0\t0\n",
      "2023-04-28\t0\t102\n",
      "2023-04-29\t0\t102\n",
      "2023-04-30\t0\t102\n",
      "2023-05-01\t0\t102\n",
      "2023-05-02\t0\t102\n",
      "2023-05-03\t0\t102\n",
      "2023-05-04\t0\t102\n",
      "2023-05-05\t0\t102\n",
      "2023-05-06\t0\t102\n",
      "2023-05-07\t0\t102\n",
      "2023-05-08\t0\t144\n",
      "2023-05-09\t0\t144\n",
      "2023-05-10\t0\t144\n",
      "2023-05-11\t0\t144\n",
      "2023-05-12\t0\t144\n",
      "2023-05-13\t0\t144\n",
      "2023-05-14\t0\t144\n",
      "2023-05-15\t0\t102\n",
      "2023-05-16\t0\t102\n",
      "2023-05-17\t0\t102\n",
      "2023-05-18\t0\t102\n",
      "2023-05-19\t0\t102\n",
      "2023-05-20\t0\t102\n",
      "2023-05-21\t0\t102\n",
      "2023-05-22\t0\t72\n",
      "2023-05-23\t0\t72\n",
      "2023-05-24\t0\t72\n",
      "2023-05-25\t0\t72\n",
      "2023-05-26\t0\t72\n",
      "2023-05-27\t0\t72\n",
      "2023-05-28\t0\t72\n",
      "2023-05-29\t0\t72\n",
      "2023-05-30\t0\t72\n",
      "2023-05-31\t0\t72\n",
      "2023-06-01\t0\t72\n",
      "2023-06-02\t0\t72\n",
      "2023-06-03\t0\t90\n",
      "2023-06-04\t0\t90\n",
      "2023-06-05\t0\t90\n",
      "2023-06-06\t0\t90\n",
      "2023-06-07\t0\t90\n",
      "2023-06-08\t0\t90\n",
      "2023-06-09\t0\t90\n",
      "2023-06-10\t0\t90\n",
      "2023-06-11\t0\t90\n",
      "2023-06-12\t0\t90\n",
      "2023-06-13\t0\t90\n",
      "2023-06-14\t0\t90\n",
      "2023-06-15\t0\t90\n",
      "2023-06-16\t0\t90\n",
      "2023-06-17\t0\t90\n",
      "2023-06-18\t0\t90\n",
      "2023-06-19\t0\t90\n",
      "2023-06-20\t0\t90\n",
      "2023-06-21\t0\t90\n",
      "2023-06-22\t0\t90\n",
      "2023-06-23\t0\t90\n",
      "2023-06-24\t0\t90\n",
      "2023-06-25\t0\t90\n",
      "2023-06-26\t0\t90\n",
      "2023-06-27\t0\t90\n",
      "2023-06-28\t0\t90\n",
      "2023-06-29\t0\t90\n",
      "2023-06-30\t0\t90\n",
      "2023-07-01\t0\t90\n",
      "2023-07-02\t0\t90\n",
      "2023-07-03\t0\t90\n",
      "2023-07-04\t0\t90\n",
      "2023-07-05\t0\t90\n",
      "2023-07-06\t0\t90\n",
      "2023-07-07\t0\t90\n",
      "2023-07-08\t0\t90\n",
      "2023-07-09\t0\t90\n",
      "2023-07-10\t0\t90\n",
      "2023-07-11\t0\t90\n",
      "2023-07-12\t0\t90\n",
      "2023-07-13\t0\t90\n",
      "2023-07-14\t0\t90\n",
      "2023-07-15\t0\t90\n",
      "2023-07-16\t0\t90\n",
      "2023-07-17\t0\t90\n",
      "2023-07-18\t0\t90\n",
      "2023-07-19\t0\t90\n",
      "2023-07-20\t0\t90\n",
      "2023-07-21\t0\t90\n",
      "2023-07-22\t0\t90\n",
      "2023-07-23\t0\t90\n",
      "2023-07-24\t0\t90\n",
      "2023-07-25\t0\t90\n",
      "2023-07-26\t0\t90\n",
      "2023-07-27\t0\t90\n",
      "2023-07-28\t0\t90\n",
      "2023-07-29\t0\t90\n",
      "2023-07-30\t0\t90\n",
      "2023-07-31\t0\t90\n",
      "2023-08-01\t0\t90\n",
      "2023-08-02\t0\t90\n",
      "2023-08-03\t0\t90\n",
      "2023-08-04\t0\t90\n",
      "2023-08-05\t0\t90\n",
      "2023-08-06\t0\t90\n",
      "2023-08-07\t0\t90\n",
      "2023-08-08\t0\t90\n",
      "2023-08-09\t0\t90\n",
      "2023-08-10\t0\t90\n",
      "2023-08-11\t0\t90\n",
      "2023-08-12\t0\t90\n",
      "2023-08-13\t0\t90\n"
     ]
    }
   ],
   "source": [
    "print('DATE\\tFLUSH NAND-1 (MiB)\\tFLUSH NAND-2 (MiB)')\n",
    "for tti, tm1i, tm2i in zip(tt,tm1,tm2):\n",
    "    print(str(tti)+'\\t'+'{:.0f}'.format(tm1i*1e9/2**20)+'\\t'+'{:.0f}'.format(tm2i*1e9/2**20))"
   ]
  },
  {
   "cell_type": "code",
   "execution_count": 131,
   "metadata": {},
   "outputs": [
    {
     "data": {
      "image/png": "[encoded data removed]",
      "text/plain": [
       "<Figure size 1080x720 with 4 Axes>"
      ]
     },
     "metadata": {
      "needs_background": "light"
     },
     "output_type": "display_data"
    }
   ],
   "source": [
    "from scipy.interpolate import interp1d\n",
    "tot1 = np.asarray(PHI.part1.history['occu'])\n",
    "tot2 = np.asarray(PHI.part2.history['occu'])\n",
    "c1 = np.asarray(PHI.part1.history['compr'])\n",
    "c2 = np.asarray(PHI.part2.history['compr'])\n",
    "d1 = np.asarray(PHI.part1.history['start'])\n",
    "d2 = np.asarray(PHI.part2.history['start'])\n",
    "\n",
    "starttime = min(min(d1),min(d2))\n",
    "endtime = max(max(d1),max(d2))\n",
    "t0 = starttime\n",
    "times = []\n",
    "while starttime.date() <= endtime.date():\n",
    "    times.append(starttime.date())\n",
    "    starttime += TD(days=1)\n",
    "starttime = t0; del t0\n",
    "times_float = [(t - d1[0]).total_seconds() for t in d1]\n",
    "times = np.asarray(times)\n",
    "\n",
    "s = np.argsort(d1)\n",
    "\n",
    "newtot1 = np.zeros(np.size(times))\n",
    "for i,j in zip(d1,tot1):\n",
    "    if True:\n",
    "        ind = np.where(times == i.date())[0]\n",
    "        newtot1[ind] += j/1e3\n",
    "newtot1 = np.asarray(newtot1)\n",
    "\n",
    "newtot2 = np.zeros(np.size(times))\n",
    "for i,j in zip(d2,tot2):\n",
    "    if True:\n",
    "        ind = np.where(times == i.date())[0]\n",
    "        newtot2[ind] += j/1e3\n",
    "newtot2 = np.asarray(newtot2)\n",
    "\n",
    "newc1 = np.zeros(np.size(times))\n",
    "for i,j in zip(d1,c1):\n",
    "    if j>=0:\n",
    "        ind = np.where(times == i.date())[0]\n",
    "        newc1[ind] += j/1e3\n",
    "newc1 = np.asarray(newc1)\n",
    "\n",
    "\n",
    "newc2 = np.zeros(np.size(times))\n",
    "for i,j in zip(d2,c2):\n",
    "    if j>=0:\n",
    "        ind = np.where(times == i.date())[0]\n",
    "        newc2[ind] += j/1e3\n",
    "newc2 = np.asarray(newc2)\n",
    "\n",
    "form1 = np.zeros(np.size(times))\n",
    "for i,j in zip(d1,c1):\n",
    "    if j<0:\n",
    "        ind = np.where(times == i.date())[0]\n",
    "        form1[ind] += j/1e3\n",
    "form1 = np.asarray(form1)\n",
    "\n",
    "\n",
    "form2 = np.zeros(np.size(times))\n",
    "for i,j in zip(d2,c2):\n",
    "    if j<0:\n",
    "        ind = np.where(times == i.date())[0]\n",
    "        form2[ind] += j/1e3\n",
    "form2 = np.asarray(form2)\n",
    "\n",
    "trig1 = np.where(form1 < 0)[0]\n",
    "trig2 = np.where(form2 < 0)[0]\n",
    "\n",
    "x = TM3['date'][np.logical_and(TM3['date'] <= endtime+TD(days=1),TM3['date'] >= starttime-TD(days=1))]\n",
    "y = TM3['tm_rate'][np.logical_and(TM3['date'] <= endtime+TD(days=1),TM3['date'] >= starttime-TD(days=1))]\n",
    "z = TM3['duration'][np.logical_and(TM3['date'] <= endtime+TD(days=1),TM3['date'] >= starttime-TD(days=1))]\n",
    "\n",
    "xx = [(i - starttime).total_seconds() for i in x]\n",
    "f = interp1d(xx, y*z,fill_value='extrapolate')\n",
    "xnew = [(i - starttime.date()).total_seconds() for i in times]\n",
    "ynew = f(xnew)/8e9\n",
    "ynew[times<datetime.date(2023,4,1)] *= .2\n",
    "ynew[times>=datetime.date(2023,4,1)] *= .3\n",
    "\n",
    "tm_used = np.zeros(times.size)\n",
    "down = 0#np.zeros(times.size)\n",
    "for i in range(times.size):\n",
    "    if newc1[i] > 0 or newc2[i] > 0:\n",
    "        tm_used[i] = min(ynew[i],np.sum(newc1[:i+1] + newc2[:i+1]) - tm_used[:i].sum())\n",
    "        down = max(0,np.sum(newc1[:i+1] + newc2[:i+1] - tm_used[:i+1]))\n",
    "    else:\n",
    "        if down > 0:\n",
    "            tm_used[i] = min(ynew[i],np.sum(newc1[:i+1] + newc2[:i+1]) - tm_used[:i].sum())\n",
    "            down = max(0,np.sum(newc1[:i+1] + newc2[:i+1] - tm_used[:i+1]))\n",
    "\n",
    "plt.figure(figsize=(15,10))\n",
    "plt.subplot(221)\n",
    "plt.ylabel('data compression (GB)')\n",
    "plt.plot(times,newc1,label='partition 1')\n",
    "plt.plot(times,newc2,label='partition 2')\n",
    "for i,t in enumerate(trig1):\n",
    "    if i == 0:\n",
    "        plt.axvline(times[t],linestyle='--',color='k',alpha=.5,label='partition 1 reset')\n",
    "    else:\n",
    "        plt.axvline(times[t],linestyle='--',color='k',alpha=.5)\n",
    "for i,t in enumerate(trig2):\n",
    "    if i == 0:\n",
    "        plt.axvline(times[t],linestyle='--',color='g',alpha=.5,label='partition 2 reset')\n",
    "    else:\n",
    "        plt.axvline(times[t],linestyle='--',color='g',alpha=.5)\n",
    "plt.legend()\n",
    "\n",
    "plt.subplot(222)\n",
    "plt.ylabel('daily TM rate (GB/rate)')\n",
    "plt.plot(times,ynew,label='TM PHI rate')\n",
    "plt.plot(times,tm_used,'ro',label='TM used')\n",
    "plt.legend()\n",
    "for t in trig1:\n",
    "    plt.axvline(times[t],linestyle='--',color='k',alpha=.5)\n",
    "for t in trig2:\n",
    "    plt.axvline(times[t],linestyle='--',color='g',alpha=.5)\n",
    "# print('total1408 TM used:',round(tm_used.sum(),2),'GB')\n",
    "# print('total compressed data:',round((newc1+newc2).sum(),2),'GB')\n",
    "# plt.xlim(datetime.date(2023,1,10),datetime.date(2023,2,5))\n",
    "plt.subplot(223)\n",
    "cond = np.logical_and(times>=FL['date'][0].date(), times<=FL['date'][-1].date())\n",
    "plt.ylabel('data and TM amount (GB)')\n",
    "plt.plot(times[cond],np.cumsum(newc1[cond]+newc2[cond]),label='cumulative compressed data')\n",
    "plt.plot(times[cond],np.cumsum(tm_used[cond]),label='cumulative TM usage')\n",
    "plt.plot(times[cond],np.cumsum(newc1[cond]+newc2[cond])-np.cumsum(tm_used[cond]),label='SSMM filling state')\n",
    "plt.plot(FL['date'],-np.cumsum(FL['flush']*2**20/1e9),'m',label='SOOPK FLUSH')\n",
    "# cond = np.logical_and(FL['date']>DT(2023,1,19,0,0), FL['date']<DT(2023,5,1,0,0))\n",
    "# plt.plot(FL['date'][cond],-np.cumsum(FL['flush'][cond]*2**20/1e9),'m',label='SOOPK FLUSH')\n",
    "plt.legend()\n",
    "for t in trig1:\n",
    "    plt.axvline(times[t],linestyle='--',color='k',alpha=.5)\n",
    "for t in trig2:\n",
    "    plt.axvline(times[t],linestyle='--',color='g',alpha=.5)\n",
    "\n",
    "plt.subplot(224)\n",
    "plt.ylabel('total memory usage (GB)')\n",
    "plt.plot(times,np.cumsum(newtot1),'k',label='partition 1')\n",
    "plt.plot(times,np.cumsum(newtot2),'g',label='partition 2')\n",
    "plt.legend()\n",
    "plt.ylim(0,250)\n",
    "plt.axhline(220,linestyle='--',color='r')\n",
    "for t in trig1:\n",
    "    plt.axvline(times[t],linestyle='--',color='k',alpha=.5)\n",
    "for t in trig2:\n",
    "    plt.axvline(times[t],linestyle='--',color='g',alpha=.5)\n",
    "\n",
    "plt.gcf().autofmt_xdate()\n",
    "# plt.savefig('/home/calchetti/MPStemp/pics/TM/tm_v5.1.png')"
   ]
  },
  {
   "cell_type": "code",
   "execution_count": 132,
   "metadata": {},
   "outputs": [
    {
     "name": "stdout",
     "output_type": "stream",
     "text": [
      "Total amount of TM used: 50.56 GB\n",
      "Total amount of compressed data: 50.56 GB\n"
     ]
    }
   ],
   "source": [
    "print('Total amount of TM used:',round(tm_used.sum(),2),'GB')\n",
    "print('Total amount of compressed data:',round((newc1+newc2).sum(),2),'GB')"
   ]
  },
  {
   "cell_type": "code",
   "execution_count": 133,
   "metadata": {},
   "outputs": [
    {
     "data": {
      "image/png": "[encoded data removed]",
      "text/plain": [
       "<Figure size 648x504 with 1 Axes>"
      ]
     },
     "metadata": {
      "needs_background": "light"
     },
     "output_type": "display_data"
    }
   ],
   "source": [
    "plt.figure(figsize=(9,7))\n",
    "plt.plot(times,np.cumsum(newc1+newc2)-np.cumsum(tm_used))\n",
    "plt.ylabel('SSMM filling state')\n",
    "plt.grid()"
   ]
  },
  {
   "cell_type": "code",
   "execution_count": 134,
   "metadata": {},
   "outputs": [
    {
     "data": {
      "text/plain": [
       "34.997348592"
      ]
     },
     "execution_count": 134,
     "metadata": {},
     "output_type": "execute_result"
    }
   ],
   "source": [
    "(newc1+newc2)[times>datetime.date(2023,3,15)].sum()"
   ]
  },
  {
   "cell_type": "code",
   "execution_count": 135,
   "metadata": {},
   "outputs": [],
   "source": [
    "PHI.part1.history.keys()\n",
    "r1 = np.asarray(PHI.part1.history['raw'])[1:]\n",
    "r2 = np.asarray(PHI.part2.history['raw'])[1:]\n",
    "f1 = np.asarray(PHI.part1.history['compr'])[1:]\n",
    "f2 = np.asarray(PHI.part2.history['compr'])[1:]\n",
    "c1 = np.asarray(PHI.part1.history['crop'])[1:]\n",
    "c2 = np.asarray(PHI.part2.history['crop'])[1:]\n",
    "p1 = np.asarray(PHI.part1.history['proc'])[1:]\n",
    "p2 = np.asarray(PHI.part2.history['proc'])[1:]\n",
    "k1 = np.asarray(PHI.part1.history['pack'])[1:]\n",
    "k2 = np.asarray(PHI.part2.history['pack'])[1:]\n",
    "s1 = np.asarray(PHI.part1.history['start'])[1:]\n",
    "s2 = np.asarray(PHI.part2.history['start'])[1:]\n",
    "e1 = np.asarray(PHI.part1.history['end'])[1:]\n",
    "e2 = np.asarray(PHI.part2.history['end'])[1:]\n",
    "\n",
    "ind1 = []\n",
    "for i in range(s1.size):\n",
    "    if r1[i] < 0:\n",
    "        ind1 += [-.6]\n",
    "    elif r1[i] != 0:\n",
    "        ind1 += [.3]\n",
    "    elif c1[i] != 0:\n",
    "        ind1 += [1.3]\n",
    "    elif k1[i] != 0:\n",
    "        ind1 += [2.3]\n",
    "    elif f1[i] != 0:\n",
    "        ind1 += [3.3]\n",
    "    elif p1[i] != 0:\n",
    "        ind1 += [4.3]\n",
    "    else:\n",
    "#         print(i)\n",
    "        ind1 += [0]\n",
    "ind1 = np.asarray(ind1)    \n",
    "ind2 = []\n",
    "for i in range(s2.size):\n",
    "    if r2[i] < 0:\n",
    "        ind2 += [-.3]\n",
    "    elif r2[i] != 0:\n",
    "        ind2 += [.6]\n",
    "    elif c2[i] != 0:\n",
    "        ind2 += [1.6]\n",
    "    elif k2[i] != 0:\n",
    "        ind2 += [2.6]\n",
    "    elif f2[i] != 0:\n",
    "        ind2 += [3.6]\n",
    "    elif p2[i] != 0:\n",
    "        ind2 += [4.6]\n",
    "    else:\n",
    "#         print(i)\n",
    "        ind2 += [0]\n",
    "ind2 = np.asarray(ind2)    \n",
    "\n",
    "import matplotlib.dates as mdates\n"
   ]
  },
  {
   "cell_type": "code",
   "execution_count": 136,
   "metadata": {},
   "outputs": [
    {
     "data": {
      "text/plain": [
       "0"
      ]
     },
     "execution_count": 136,
     "metadata": {},
     "output_type": "execute_result"
    },
    {
     "data": {
      "image/png": "[encoded data removed]",
      "text/plain": [
       "<Figure size 648x288 with 2 Axes>"
      ]
     },
     "metadata": {
      "needs_background": "light"
     },
     "output_type": "display_data"
    }
   ],
   "source": [
    "fig = plt.figure(figsize=(9,4))\n",
    "fig.subplots_adjust(bottom=0.25)\n",
    "# plt.barh(ind1,e1-s1,.3, left=s1)\n",
    "# plt.barh(ind2,e2-s2,.3, left=s2)\n",
    "# plt.gcf().autofmt_xdate()\n",
    "# plt.xlim(min(s1[:10].min(),s2[:10].min()), max(e1[:10].max(),e2[:10].max()))\n",
    "plt.barh(1,(e1-s1)[ind1==-.6],.75,left=s1[ind1==-.6],color='r')\n",
    "plt.barh(1,(e1-s1)[ind1==.3],.75,left=s1[ind1==.3],color='k')\n",
    "plt.barh(1,(e1-s1)[ind1==1.3],.75,left=s1[ind1==1.3],color='b')\n",
    "plt.barh(1,(e1-s1)[ind1==2.3],.75,left=s1[ind1==2.3],color='g')\n",
    "plt.barh(1,(e1-s1)[ind1==3.3],.75,left=s1[ind1==3.3],color='y')\n",
    "plt.barh(1,(e1-s1)[ind1==4.3],.75,left=s1[ind1==4.3],color='m')\n",
    "\n",
    "plt.barh(2,(e2-s2)[ind2==-.3],.75,left=s2[ind2==-.3],color='r')\n",
    "plt.barh(2,(e2-s2)[ind2==.6],.75,left=s2[ind2==.6],color='k')\n",
    "plt.barh(2,(e2-s2)[ind2==1.6],.75,left=s2[ind2==1.6],color='b')\n",
    "plt.barh(2,(e2-s2)[ind2==2.6],.75,left=s2[ind2==2.6],color='g')\n",
    "plt.barh(2,(e2-s2)[ind2==3.6],.75,left=s2[ind2==3.6],color='y')\n",
    "plt.barh(2,(e2-s2)[ind2==4.6],.75,left=s2[ind2==4.6],color='m')\n",
    "\n",
    "ax = plt.gca()\n",
    "ax.xaxis.set_major_locator(mdates.AutoDateLocator())\n",
    "ax.xaxis.set_major_formatter(mdates.DateFormatter('%d-%b %H:%M'))\n",
    "# plt.yticks([-.6,-.3,.3,.6,1.3,1.6,2.3,2.6,3.3,3.6],['N1-Format','N2-Format','N1-Obs','N2-Obs','N1-Crop','N2-Crop','N1-Pack','N2-Pack','N1-Flush','N2-Flush','N1-Proc','N2-Proc']);\n",
    "# ax.set_yticks([-.6,-.3,.3,.6,1.3,1.6,2.3,2.6,3.3,3.6],['N1-Format','N2-Format','N1-Obs','N2-Obs','N1-Crop','N2-Crop','N1-Pack','N2-Pack','N1-Flush','N2-Flush']);\n",
    "ax.set_yticks([1,2],['NAND-1','NAND-2']);\n",
    "\n",
    "from matplotlib.widgets import RangeSlider # , Button, RadioButtons\n",
    "\n",
    "# axcolor = 'lightgoldenrodyellow'\n",
    "slider_ax = fig.add_axes([0.2, 0.1, 0.65, 0.03])\n",
    "\n",
    "min0 = min(s1.min(),s2.min())\n",
    "max0 = max(e1.max(),e2.max())\n",
    "\n",
    "slider = RangeSlider(slider_ax, \"x-axis\", (min0-min0).total_seconds()/60/60/24, (max0-min0).total_seconds()/60/60/24)\n",
    "\n",
    "def update(val):    \n",
    "    ax.set_xlim([min0+TD(days=val[0]),min0+TD(days=val[1])])\n",
    "\n",
    "slider.on_changed(update)\n",
    "# plt.show()\n"
   ]
  },
  {
   "cell_type": "code",
   "execution_count": 137,
   "metadata": {},
   "outputs": [
    {
     "data": {
      "text/plain": [
       "[<matplotlib.lines.Line2D at 0x7efd5f6a8040>]"
      ]
     },
     "execution_count": 137,
     "metadata": {},
     "output_type": "execute_result"
    },
    {
     "data": {
      "image/png": "[encoded data removed]",
      "text/plain": [
       "<Figure size 720x720 with 1 Axes>"
      ]
     },
     "metadata": {
      "needs_background": "light"
     },
     "output_type": "display_data"
    }
   ],
   "source": [
    "cond = np.logical_and(times>=FL['date'][0].date(), times<=FL['date'][-1].date())\n",
    "plt.figure(figsize=(10,10))\n",
    "plt.ylabel('data and TM amount (GB)')\n",
    "plt.plot(times[cond],np.cumsum(newc1[cond]+newc2[cond]),label='cumulative compressed data')\n",
    "# plt.plot(times[cond],np.cumsum(tm_used[cond]),label='cumulative TM usage')\n",
    "# plt.plot(times[cond],np.cumsum(newc1[cond]+newc2[cond])-np.cumsum(tm_used[cond]),label='SSMM filling state')\n",
    "plt.plot(FL['date'],-np.cumsum(FL['flush']*2**20/1e9),'m',label='SOOPK FLUSH')\n",
    "# plt.xlim(DT(2023,3,15),DT(2023,4,10)); plt.ylim(0,20)\n"
   ]
  }
 ],
 "metadata": {
  "interpreter": {
   "hash": "cbf6c9a26a160734b6448319c4eb49a011a468026d1aa18347f15181b6422a99"
  },
  "kernelspec": {
   "display_name": "Python 3 (ipykernel)",
   "language": "python",
   "name": "python3"
  },
  "language_info": {
   "codemirror_mode": {
    "name": "ipython",
    "version": 3
   },
   "file_extension": ".py",
   "mimetype": "text/x-python",
   "name": "python",
   "nbconvert_exporter": "python",
   "pygments_lexer": "ipython3",
   "version": "3.8.5"
  }
 },
 "nbformat": 4,
 "nbformat_minor": 4
}
